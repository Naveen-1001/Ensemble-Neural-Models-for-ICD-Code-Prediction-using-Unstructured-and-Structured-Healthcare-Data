{
 "cells": [
  {
   "cell_type": "code",
   "execution_count": 1,
   "id": "512b1564",
   "metadata": {},
   "outputs": [],
   "source": [
    "import csv\n",
    "import numpy as np\n",
    "import pandas as pd\n",
    "import operator\n",
    "from collections import defaultdict\n",
    "from scipy.sparse import csr_matrix\n",
    "import gensim.models.word2vec as w2v\n",
    "import gensim.models\n",
    "from tqdm.notebook import tqdm\n",
    "tqdm.pandas()"
   ]
  },
  {
   "cell_type": "code",
   "execution_count": 2,
   "id": "e84d8813",
   "metadata": {},
   "outputs": [],
   "source": [
    "data_path = '../data/mimic3_new/'"
   ]
  },
  {
   "cell_type": "code",
   "execution_count": 3,
   "id": "2d8c9d5b",
   "metadata": {},
   "outputs": [],
   "source": [
    "df = pd.read_csv(data_path + 'all_50.csv')"
   ]
  },
  {
   "cell_type": "code",
   "execution_count": 4,
   "id": "0620b815",
   "metadata": {},
   "outputs": [
    {
     "data": {
      "text/html": [
       "<div>\n",
       "<style scoped>\n",
       "    .dataframe tbody tr th:only-of-type {\n",
       "        vertical-align: middle;\n",
       "    }\n",
       "\n",
       "    .dataframe tbody tr th {\n",
       "        vertical-align: top;\n",
       "    }\n",
       "\n",
       "    .dataframe thead th {\n",
       "        text-align: right;\n",
       "    }\n",
       "</style>\n",
       "<table border=\"1\" class=\"dataframe\">\n",
       "  <thead>\n",
       "    <tr style=\"text-align: right;\">\n",
       "      <th></th>\n",
       "      <th>SUBJECT_ID</th>\n",
       "      <th>HADM_ID</th>\n",
       "      <th>TEXT</th>\n",
       "      <th>ICD9_CODE</th>\n",
       "      <th>ICD10_CODE</th>\n",
       "    </tr>\n",
       "  </thead>\n",
       "  <tbody>\n",
       "    <tr>\n",
       "      <th>0</th>\n",
       "      <td>17</td>\n",
       "      <td>161087</td>\n",
       "      <td>admission date date birth sex f service cardio...</td>\n",
       "      <td>311;88.72;38.93;511.9;272.4</td>\n",
       "      <td>F32.9;B244YZZ;02H633Z;J91.8;E78.4</td>\n",
       "    </tr>\n",
       "    <tr>\n",
       "      <th>1</th>\n",
       "      <td>20</td>\n",
       "      <td>157681</td>\n",
       "      <td>admission date date birth sex f service histor...</td>\n",
       "      <td>39.61;36.15;250.00;414.01;401.9;272.4</td>\n",
       "      <td>5A1221Z;0210088;E11.9;I25.10;I10;E78.4</td>\n",
       "    </tr>\n",
       "    <tr>\n",
       "      <th>2</th>\n",
       "      <td>33</td>\n",
       "      <td>176176</td>\n",
       "      <td>admission date service history present illness...</td>\n",
       "      <td>038.9</td>\n",
       "      <td>A41.9</td>\n",
       "    </tr>\n",
       "    <tr>\n",
       "      <th>3</th>\n",
       "      <td>38</td>\n",
       "      <td>185910</td>\n",
       "      <td>admission date date birth sex service urology ...</td>\n",
       "      <td>V45.81;995.92;38.93;428.0;96.6;584.9;96.72;427...</td>\n",
       "      <td>Z95.1;R65.20;02H633Z;I50.814;0DH67UZ;N17.9;5A1...</td>\n",
       "    </tr>\n",
       "    <tr>\n",
       "      <th>4</th>\n",
       "      <td>41</td>\n",
       "      <td>101757</td>\n",
       "      <td>admission date date birth sex service medicine...</td>\n",
       "      <td>305.1;99.04;38.93;33.24;96.6;496;285.9;507.0;4...</td>\n",
       "      <td>F17.200;30233N1;02H633Z;0B933ZX;0DH67UZ;J44.9;...</td>\n",
       "    </tr>\n",
       "  </tbody>\n",
       "</table>\n",
       "</div>"
      ],
      "text/plain": [
       "   SUBJECT_ID  HADM_ID                                               TEXT  \\\n",
       "0          17   161087  admission date date birth sex f service cardio...   \n",
       "1          20   157681  admission date date birth sex f service histor...   \n",
       "2          33   176176  admission date service history present illness...   \n",
       "3          38   185910  admission date date birth sex service urology ...   \n",
       "4          41   101757  admission date date birth sex service medicine...   \n",
       "\n",
       "                                           ICD9_CODE  \\\n",
       "0                        311;88.72;38.93;511.9;272.4   \n",
       "1              39.61;36.15;250.00;414.01;401.9;272.4   \n",
       "2                                              038.9   \n",
       "3  V45.81;995.92;38.93;428.0;96.6;584.9;96.72;427...   \n",
       "4  305.1;99.04;38.93;33.24;96.6;496;285.9;507.0;4...   \n",
       "\n",
       "                                          ICD10_CODE  \n",
       "0                  F32.9;B244YZZ;02H633Z;J91.8;E78.4  \n",
       "1             5A1221Z;0210088;E11.9;I25.10;I10;E78.4  \n",
       "2                                              A41.9  \n",
       "3  Z95.1;R65.20;02H633Z;I50.814;0DH67UZ;N17.9;5A1...  \n",
       "4  F17.200;30233N1;02H633Z;0B933ZX;0DH67UZ;J44.9;...  "
      ]
     },
     "execution_count": 4,
     "metadata": {},
     "output_type": "execute_result"
    }
   ],
   "source": [
    "df.head()"
   ]
  },
  {
   "cell_type": "markdown",
   "id": "3c74540f",
   "metadata": {},
   "source": [
    "### Build Vocab"
   ]
  },
  {
   "cell_type": "code",
   "execution_count": 7,
   "id": "2f897f50",
   "metadata": {},
   "outputs": [],
   "source": [
    "types = set()\n",
    "for row in df.itertuples():\n",
    "    for w in row[-3].split(' '):\n",
    "        types.add(w)"
   ]
  },
  {
   "cell_type": "code",
   "execution_count": 8,
   "id": "db92e328",
   "metadata": {},
   "outputs": [
    {
     "data": {
      "text/plain": [
       "66320"
      ]
     },
     "execution_count": 8,
     "metadata": {},
     "output_type": "execute_result"
    }
   ],
   "source": [
    "len(types)"
   ]
  },
  {
   "cell_type": "code",
   "execution_count": 9,
   "id": "42e31022",
   "metadata": {},
   "outputs": [],
   "source": [
    "vocab_list = list(types)"
   ]
  },
  {
   "cell_type": "code",
   "execution_count": 10,
   "id": "8af54054",
   "metadata": {},
   "outputs": [],
   "source": [
    "vocab_list.sort()"
   ]
  },
  {
   "cell_type": "code",
   "execution_count": 11,
   "id": "3c088694",
   "metadata": {},
   "outputs": [],
   "source": [
    "with open(data_path + 'vocab.csv', 'w') as vocab_file:\n",
    "    for word in vocab_list:\n",
    "        vocab_file.write(word + \"\\n\")"
   ]
  },
  {
   "cell_type": "markdown",
   "id": "5bf12416",
   "metadata": {},
   "source": [
    "### Pre-train word embeddings"
   ]
  },
  {
   "cell_type": "code",
   "execution_count": 12,
   "id": "209ac820",
   "metadata": {},
   "outputs": [
    {
     "data": {
      "application/vnd.jupyter.widget-view+json": {
       "model_id": "a1168e13bcc548639dab640825fc98b3",
       "version_major": 2,
       "version_minor": 0
      },
      "text/plain": [
       "  0%|          | 0/11368 [00:00<?, ?it/s]"
      ]
     },
     "metadata": {},
     "output_type": "display_data"
    }
   ],
   "source": [
    "sentences = df.progress_apply(lambda row: str(row['TEXT']).split(), axis=1)"
   ]
  },
  {
   "cell_type": "code",
   "execution_count": 13,
   "id": "c191d44f",
   "metadata": {},
   "outputs": [],
   "source": [
    "model = w2v.Word2Vec(vector_size=100, min_count=0, workers=4, epochs=50)\n",
    "model.build_vocab(sentences)"
   ]
  },
  {
   "cell_type": "code",
   "execution_count": 14,
   "id": "4757b249",
   "metadata": {},
   "outputs": [
    {
     "data": {
      "text/plain": [
       "(560155531, 599653650)"
      ]
     },
     "execution_count": 14,
     "metadata": {},
     "output_type": "execute_result"
    }
   ],
   "source": [
    "model.train(sentences, total_examples=model.corpus_count, epochs=model.epochs)"
   ]
  },
  {
   "cell_type": "code",
   "execution_count": 15,
   "id": "6daba696",
   "metadata": {},
   "outputs": [
    {
     "data": {
      "text/plain": [
       "[('fevers', 0.8942907452583313),\n",
       " ('fivers', 0.6758853793144226),\n",
       " ('temperatures', 0.6484113335609436),\n",
       " ('temps', 0.6428983211517334),\n",
       " ('temperature', 0.6394485831260681),\n",
       " ('yestderday', 0.6168003082275391),\n",
       " ('febrile', 0.5922038555145264),\n",
       " ('addominal', 0.578851580619812),\n",
       " ('rflank', 0.5752633213996887),\n",
       " ('nonprod', 0.5679307579994202)]"
      ]
     },
     "execution_count": 15,
     "metadata": {},
     "output_type": "execute_result"
    }
   ],
   "source": [
    "model.wv.most_similar('fever', topn=10)"
   ]
  },
  {
   "cell_type": "code",
   "execution_count": 16,
   "id": "01d1c32c",
   "metadata": {},
   "outputs": [],
   "source": [
    "model.save(data_path + 'processed_50.w2v')"
   ]
  },
  {
   "cell_type": "markdown",
   "id": "efff542a",
   "metadata": {},
   "source": [
    "### Map words with its embeddings"
   ]
  },
  {
   "cell_type": "code",
   "execution_count": 17,
   "id": "3071753b",
   "metadata": {},
   "outputs": [
    {
     "ename": "NameError",
     "evalue": "name 'extract_wvs' is not defined",
     "output_type": "error",
     "traceback": [
      "\u001b[0;31m---------------------------------------------------------------------------\u001b[0m",
      "\u001b[0;31mNameError\u001b[0m                                 Traceback (most recent call last)",
      "Cell \u001b[0;32mIn [17], line 1\u001b[0m\n\u001b[0;32m----> 1\u001b[0m \u001b[43mextract_wvs\u001b[49m\u001b[38;5;241m.\u001b[39mgensim_to_embeddings(\u001b[38;5;124m'\u001b[39m\u001b[38;5;132;01m%s\u001b[39;00m\u001b[38;5;124m/processed_full.w2v\u001b[39m\u001b[38;5;124m'\u001b[39m \u001b[38;5;241m%\u001b[39m MIMIC_3_DIR, \u001b[38;5;124m'\u001b[39m\u001b[38;5;132;01m%s\u001b[39;00m\u001b[38;5;124m/vocab.csv\u001b[39m\u001b[38;5;124m'\u001b[39m \u001b[38;5;241m%\u001b[39m MIMIC_3_DIR, Y)\n",
      "\u001b[0;31mNameError\u001b[0m: name 'extract_wvs' is not defined"
     ]
    }
   ],
   "source": [
    "extract_wvs.gensim_to_embeddings('%s/processed_full.w2v' % MIMIC_3_DIR, '%s/vocab.csv' % MIMIC_3_DIR, Y)"
   ]
  },
  {
   "cell_type": "code",
   "execution_count": 18,
   "id": "2f1a8f41",
   "metadata": {},
   "outputs": [],
   "source": [
    "model = gensim.models.Word2Vec.load(data_path + 'processed_50.w2v')\n",
    "wv = model.wv                             "
   ]
  },
  {
   "cell_type": "code",
   "execution_count": 19,
   "id": "0f44f7c9",
   "metadata": {},
   "outputs": [],
   "source": [
    "vocabdf = pd.read_csv(data_path+'vocab.csv',names=['word'],header=None)"
   ]
  },
  {
   "cell_type": "code",
   "execution_count": 20,
   "id": "c6618858",
   "metadata": {},
   "outputs": [],
   "source": [
    "vocab = set(vocabdf['word'])"
   ]
  },
  {
   "cell_type": "code",
   "execution_count": 21,
   "id": "e62fc371",
   "metadata": {},
   "outputs": [],
   "source": [
    "ind2w = {i+1:w for i,w in enumerate(sorted(vocab))}"
   ]
  },
  {
   "cell_type": "code",
   "execution_count": 22,
   "id": "95341d01",
   "metadata": {},
   "outputs": [
    {
     "data": {
      "application/vnd.jupyter.widget-view+json": {
       "model_id": "43f9ca37fbaf4cc2a4945056ba0f1ea5",
       "version_major": 2,
       "version_minor": 0
      },
      "text/plain": [
       "  0%|          | 0/66320 [00:00<?, ?it/s]"
      ]
     },
     "metadata": {},
     "output_type": "display_data"
    }
   ],
   "source": [
    "PAD_CHAR = \"**PAD**\"\n",
    "W = np.zeros((len(ind2w)+1, len(wv.get_vector(wv.index_to_key[0])) ))\n",
    "words = [PAD_CHAR]\n",
    "W[0][:] = np.zeros(len(wv.get_vector(wv.index_to_key[0])))\n",
    "for idx, word in tqdm(ind2w.items()):\n",
    "    if idx >= W.shape[0]:\n",
    "        break    \n",
    "    W[idx][:] = wv.get_vector(word)\n",
    "    words.append(word)"
   ]
  },
  {
   "cell_type": "code",
   "execution_count": 23,
   "id": "eb683d91",
   "metadata": {},
   "outputs": [
    {
     "data": {
      "text/plain": [
       "66321"
      ]
     },
     "execution_count": 23,
     "metadata": {},
     "output_type": "execute_result"
    }
   ],
   "source": [
    "W.shape[0]"
   ]
  },
  {
   "cell_type": "code",
   "execution_count": 24,
   "id": "99e32d68",
   "metadata": {},
   "outputs": [],
   "source": [
    "with open(data_path + 'processed_50.embed', 'w') as o:\n",
    "    #pad token already included\n",
    "    for i in range(len(words)):\n",
    "        line = [words[i]]\n",
    "        line.extend([str(d) for d in W[i]])\n",
    "        o.write(\" \".join(line) + \"\\n\")"
   ]
  },
  {
   "cell_type": "code",
   "execution_count": null,
   "id": "8cab27e1",
   "metadata": {},
   "outputs": [],
   "source": []
  }
 ],
 "metadata": {
  "kernelspec": {
   "display_name": "Python 3 (ipykernel)",
   "language": "python",
   "name": "python3"
  },
  "language_info": {
   "codemirror_mode": {
    "name": "ipython",
    "version": 3
   },
   "file_extension": ".py",
   "mimetype": "text/x-python",
   "name": "python",
   "nbconvert_exporter": "python",
   "pygments_lexer": "ipython3",
   "version": "3.8.10"
  }
 },
 "nbformat": 4,
 "nbformat_minor": 5
}
