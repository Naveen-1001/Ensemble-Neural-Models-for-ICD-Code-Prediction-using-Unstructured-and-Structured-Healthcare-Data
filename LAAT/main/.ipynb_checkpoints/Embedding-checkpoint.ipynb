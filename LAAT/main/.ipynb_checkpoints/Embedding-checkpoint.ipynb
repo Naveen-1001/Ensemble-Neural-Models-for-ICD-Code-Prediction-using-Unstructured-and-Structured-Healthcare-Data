{
 "cells": [
  {
   "cell_type": "code",
   "execution_count": 34,
   "id": "512b1564",
   "metadata": {},
   "outputs": [],
   "source": [
    "import csv\n",
    "import numpy as np\n",
    "import pandas as pd\n",
    "import operator\n",
    "from collections import defaultdict\n",
    "from scipy.sparse import csr_matrix\n",
    "import gensim.models.word2vec as w2v\n",
    "import gensim.models\n",
    "from tqdm.notebook import tqdm\n",
    "tqdm.pandas()"
   ]
  },
  {
   "cell_type": "code",
   "execution_count": 2,
   "id": "e84d8813",
   "metadata": {},
   "outputs": [],
   "source": [
    "data_path = '../data/'"
   ]
  },
  {
   "cell_type": "code",
   "execution_count": 5,
   "id": "2d8c9d5b",
   "metadata": {},
   "outputs": [],
   "source": [
    "df = pd.read_csv(data_path + 'all_50.csv')"
   ]
  },
  {
   "cell_type": "code",
   "execution_count": 6,
   "id": "0620b815",
   "metadata": {},
   "outputs": [
    {
     "data": {
      "text/html": [
       "<div>\n",
       "<style scoped>\n",
       "    .dataframe tbody tr th:only-of-type {\n",
       "        vertical-align: middle;\n",
       "    }\n",
       "\n",
       "    .dataframe tbody tr th {\n",
       "        vertical-align: top;\n",
       "    }\n",
       "\n",
       "    .dataframe thead th {\n",
       "        text-align: right;\n",
       "    }\n",
       "</style>\n",
       "<table border=\"1\" class=\"dataframe\">\n",
       "  <thead>\n",
       "    <tr style=\"text-align: right;\">\n",
       "      <th></th>\n",
       "      <th>SUBJECT_ID</th>\n",
       "      <th>HADM_ID</th>\n",
       "      <th>TEXT</th>\n",
       "      <th>ICD9_CODE</th>\n",
       "      <th>ICD10_CODE</th>\n",
       "    </tr>\n",
       "  </thead>\n",
       "  <tbody>\n",
       "    <tr>\n",
       "      <th>0</th>\n",
       "      <td>17</td>\n",
       "      <td>161087</td>\n",
       "      <td>sex f cardiothoracic allergies bactrim ampicil...</td>\n",
       "      <td>311;38.93;511.9;88.72;272.4</td>\n",
       "      <td>F32.9;02H633Z;J91.8;B244YZZ;E78.4</td>\n",
       "    </tr>\n",
       "    <tr>\n",
       "      <th>1</th>\n",
       "      <td>20</td>\n",
       "      <td>157681</td>\n",
       "      <td>sex f history of present illness the patient i...</td>\n",
       "      <td>250.00;401.9;414.01;36.15;272.4;39.61</td>\n",
       "      <td>E11.9;I10;I25.10;0210088;E78.4;5A1221Z</td>\n",
       "    </tr>\n",
       "    <tr>\n",
       "      <th>2</th>\n",
       "      <td>33</td>\n",
       "      <td>176176</td>\n",
       "      <td>history of present illness patient is an 82 ye...</td>\n",
       "      <td>038.9</td>\n",
       "      <td>A41.9</td>\n",
       "    </tr>\n",
       "    <tr>\n",
       "      <th>3</th>\n",
       "      <td>38</td>\n",
       "      <td>185910</td>\n",
       "      <td>sex m urology allergies inderal bactrim codein...</td>\n",
       "      <td>V45.81;428.0;96.72;38.93;96.6;427.31;995.92;03...</td>\n",
       "      <td>Z95.1;I50.814;5A1955Z;02H633Z;0DH67UZ;I48.91;R...</td>\n",
       "    </tr>\n",
       "    <tr>\n",
       "      <th>4</th>\n",
       "      <td>41</td>\n",
       "      <td>101757</td>\n",
       "      <td>sex m medicine allergies patient recorded as h...</td>\n",
       "      <td>496;285.9;33.24;99.04;401.9;38.93;96.6;507.0;9...</td>\n",
       "      <td>J44.9;D64.9;0B933ZX;30233N1;I10;02H633Z;0DH67U...</td>\n",
       "    </tr>\n",
       "  </tbody>\n",
       "</table>\n",
       "</div>"
      ],
      "text/plain": [
       "   SUBJECT_ID  HADM_ID                                               TEXT  \\\n",
       "0          17   161087  sex f cardiothoracic allergies bactrim ampicil...   \n",
       "1          20   157681  sex f history of present illness the patient i...   \n",
       "2          33   176176  history of present illness patient is an 82 ye...   \n",
       "3          38   185910  sex m urology allergies inderal bactrim codein...   \n",
       "4          41   101757  sex m medicine allergies patient recorded as h...   \n",
       "\n",
       "                                           ICD9_CODE  \\\n",
       "0                        311;38.93;511.9;88.72;272.4   \n",
       "1              250.00;401.9;414.01;36.15;272.4;39.61   \n",
       "2                                              038.9   \n",
       "3  V45.81;428.0;96.72;38.93;96.6;427.31;995.92;03...   \n",
       "4  496;285.9;33.24;99.04;401.9;38.93;96.6;507.0;9...   \n",
       "\n",
       "                                          ICD10_CODE  \n",
       "0                  F32.9;02H633Z;J91.8;B244YZZ;E78.4  \n",
       "1             E11.9;I10;I25.10;0210088;E78.4;5A1221Z  \n",
       "2                                              A41.9  \n",
       "3  Z95.1;I50.814;5A1955Z;02H633Z;0DH67UZ;I48.91;R...  \n",
       "4  J44.9;D64.9;0B933ZX;30233N1;I10;02H633Z;0DH67U...  "
      ]
     },
     "execution_count": 6,
     "metadata": {},
     "output_type": "execute_result"
    }
   ],
   "source": [
    "df.head()"
   ]
  },
  {
   "cell_type": "markdown",
   "id": "3c74540f",
   "metadata": {},
   "source": [
    "### Build Vocab"
   ]
  },
  {
   "cell_type": "code",
   "execution_count": 15,
   "id": "2f897f50",
   "metadata": {},
   "outputs": [],
   "source": [
    "types = set()\n",
    "for row in df.itertuples():\n",
    "    for w in row[-3].split(' '):\n",
    "        types.add(w)"
   ]
  },
  {
   "cell_type": "code",
   "execution_count": 16,
   "id": "db92e328",
   "metadata": {},
   "outputs": [
    {
     "data": {
      "text/plain": [
       "78896"
      ]
     },
     "execution_count": 16,
     "metadata": {},
     "output_type": "execute_result"
    }
   ],
   "source": [
    "len(types)"
   ]
  },
  {
   "cell_type": "code",
   "execution_count": 17,
   "id": "42e31022",
   "metadata": {},
   "outputs": [],
   "source": [
    "vocab_list = list(types)"
   ]
  },
  {
   "cell_type": "code",
   "execution_count": 18,
   "id": "8af54054",
   "metadata": {},
   "outputs": [],
   "source": [
    "vocab_list.sort()"
   ]
  },
  {
   "cell_type": "code",
   "execution_count": 19,
   "id": "3c088694",
   "metadata": {},
   "outputs": [],
   "source": [
    "with open(data_path + 'vocab.csv', 'w') as vocab_file:\n",
    "    for word in vocab_list:\n",
    "        vocab_file.write(word + \"\\n\")"
   ]
  },
  {
   "cell_type": "markdown",
   "id": "5bf12416",
   "metadata": {},
   "source": [
    "### Pre-train word embeddings"
   ]
  },
  {
   "cell_type": "code",
   "execution_count": 24,
   "id": "209ac820",
   "metadata": {},
   "outputs": [
    {
     "data": {
      "application/vnd.jupyter.widget-view+json": {
       "model_id": "aa527d0262ab4afb94b30cb5c6ad7d62",
       "version_major": 2,
       "version_minor": 0
      },
      "text/plain": [
       "  0%|          | 0/11368 [00:00<?, ?it/s]"
      ]
     },
     "metadata": {},
     "output_type": "display_data"
    }
   ],
   "source": [
    "sentences = df.progress_apply(lambda row: str(row['TEXT']).split(), axis=1)"
   ]
  },
  {
   "cell_type": "code",
   "execution_count": 27,
   "id": "c191d44f",
   "metadata": {},
   "outputs": [],
   "source": [
    "model = w2v.Word2Vec(vector_size=100, min_count=0, workers=4, epochs=50)\n",
    "model.build_vocab(sentences)"
   ]
  },
  {
   "cell_type": "code",
   "execution_count": 28,
   "id": "4757b249",
   "metadata": {},
   "outputs": [
    {
     "data": {
      "text/plain": [
       "(796434445, 946923450)"
      ]
     },
     "execution_count": 28,
     "metadata": {},
     "output_type": "execute_result"
    }
   ],
   "source": [
    "model.train(sentences, total_examples=model.corpus_count, epochs=model.epochs)"
   ]
  },
  {
   "cell_type": "code",
   "execution_count": 29,
   "id": "6daba696",
   "metadata": {},
   "outputs": [
    {
     "data": {
      "text/plain": [
       "[('fevers', 0.8748624920845032),\n",
       " ('fivers', 0.6912068128585815),\n",
       " ('temps', 0.6847617030143738),\n",
       " ('temperatures', 0.6791739463806152),\n",
       " ('febrile', 0.638131856918335),\n",
       " ('associatd', 0.6223352551460266),\n",
       " ('condused', 0.6027154922485352),\n",
       " ('temperature', 0.5882642269134521),\n",
       " ('addominal', 0.585747480392456),\n",
       " ('nonprod', 0.5726056098937988)]"
      ]
     },
     "execution_count": 29,
     "metadata": {},
     "output_type": "execute_result"
    }
   ],
   "source": [
    "model.wv.most_similar('fever', topn=10)"
   ]
  },
  {
   "cell_type": "code",
   "execution_count": 33,
   "id": "01d1c32c",
   "metadata": {},
   "outputs": [],
   "source": [
    "model.save(data_path + 'processed_50.w2v')"
   ]
  },
  {
   "cell_type": "markdown",
   "id": "efff542a",
   "metadata": {},
   "source": [
    "### Map words with its embeddings"
   ]
  },
  {
   "cell_type": "code",
   "execution_count": null,
   "id": "3071753b",
   "metadata": {},
   "outputs": [],
   "source": [
    "extract_wvs.gensim_to_embeddings('%s/processed_full.w2v' % MIMIC_3_DIR, '%s/vocab.csv' % MIMIC_3_DIR, Y)"
   ]
  },
  {
   "cell_type": "code",
   "execution_count": 40,
   "id": "2f1a8f41",
   "metadata": {},
   "outputs": [],
   "source": [
    "model = gensim.models.Word2Vec.load(data_path + 'processed_50.w2v')\n",
    "wv = model.wv                             "
   ]
  },
  {
   "cell_type": "code",
   "execution_count": 35,
   "id": "0f44f7c9",
   "metadata": {},
   "outputs": [],
   "source": [
    "vocabdf = pd.read_csv(data_path+'vocab.csv',names=['word'],header=None)"
   ]
  },
  {
   "cell_type": "code",
   "execution_count": 37,
   "id": "c6618858",
   "metadata": {},
   "outputs": [],
   "source": [
    "vocab = set(vocabdf['word'])"
   ]
  },
  {
   "cell_type": "code",
   "execution_count": 38,
   "id": "e62fc371",
   "metadata": {},
   "outputs": [],
   "source": [
    "ind2w = {i+1:w for i,w in enumerate(sorted(vocab))}"
   ]
  },
  {
   "cell_type": "code",
   "execution_count": 49,
   "id": "95341d01",
   "metadata": {},
   "outputs": [
    {
     "data": {
      "application/vnd.jupyter.widget-view+json": {
       "model_id": "8857ecdbb55d4812a0dace3a925e8926",
       "version_major": 2,
       "version_minor": 0
      },
      "text/plain": [
       "  0%|          | 0/78896 [00:00<?, ?it/s]"
      ]
     },
     "metadata": {},
     "output_type": "display_data"
    }
   ],
   "source": [
    "PAD_CHAR = \"**PAD**\"\n",
    "W = np.zeros((len(ind2w)+1, len(wv.get_vector(wv.index_to_key[0])) ))\n",
    "words = [PAD_CHAR]\n",
    "W[0][:] = np.zeros(len(wv.get_vector(wv.index_to_key[0])))\n",
    "for idx, word in tqdm(ind2w.items()):\n",
    "    if idx >= W.shape[0]:\n",
    "        break    \n",
    "    W[idx][:] = wv.get_vector(word)\n",
    "    words.append(word)"
   ]
  },
  {
   "cell_type": "code",
   "execution_count": 51,
   "id": "eb683d91",
   "metadata": {},
   "outputs": [
    {
     "data": {
      "text/plain": [
       "78897"
      ]
     },
     "execution_count": 51,
     "metadata": {},
     "output_type": "execute_result"
    }
   ],
   "source": [
    "W.shape[0]"
   ]
  },
  {
   "cell_type": "code",
   "execution_count": 58,
   "id": "99e32d68",
   "metadata": {},
   "outputs": [],
   "source": [
    "with open(data_path + 'processed_50.embed', 'w') as o:\n",
    "    #pad token already included\n",
    "    for i in range(len(words)):\n",
    "        line = [words[i]]\n",
    "        line.extend([str(d) for d in W[i]])\n",
    "        o.write(\" \".join(line) + \"\\n\")"
   ]
  },
  {
   "cell_type": "code",
   "execution_count": null,
   "id": "8cab27e1",
   "metadata": {},
   "outputs": [],
   "source": []
  }
 ],
 "metadata": {
  "kernelspec": {
   "display_name": "Python 3 (ipykernel)",
   "language": "python",
   "name": "python3"
  },
  "language_info": {
   "codemirror_mode": {
    "name": "ipython",
    "version": 3
   },
   "file_extension": ".py",
   "mimetype": "text/x-python",
   "name": "python",
   "nbconvert_exporter": "python",
   "pygments_lexer": "ipython3",
   "version": "3.8.10"
  }
 },
 "nbformat": 4,
 "nbformat_minor": 5
}
