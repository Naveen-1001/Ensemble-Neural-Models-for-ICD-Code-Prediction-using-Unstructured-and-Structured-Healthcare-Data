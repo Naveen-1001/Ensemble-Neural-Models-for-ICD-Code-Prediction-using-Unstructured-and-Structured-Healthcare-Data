{
 "cells": [
  {
   "cell_type": "code",
   "execution_count": 2,
   "id": "92f11918",
   "metadata": {},
   "outputs": [],
   "source": [
    "# datasets_dir=r\".venv/Lib/site-packages\"\n",
    "\n",
    "# import sys\n",
    "# sys.path.append(datasets_dir)\n",
    "\n",
    "# import datasets\n",
    "# import log_reg\n",
    "\n",
    "import numpy as np\n",
    "import pandas as pd\n",
    "from collections import Counter, defaultdict\n",
    "import csv\n",
    "import math\n",
    "import operator\n",
    "import requests\n",
    "from bs4 import BeautifulSoup\n",
    "from tqdm import tqdm\n",
    "import re\n",
    "import os\n",
    "import json\n",
    "import asyncio\n",
    "import requests\n",
    "import aiohttp\n",
    "# from nltk.tokenize import RegexpTokenizer"
   ]
  },
  {
   "cell_type": "code",
   "execution_count": 7,
   "id": "0fcdee92",
   "metadata": {},
   "outputs": [],
   "source": [
    "dfproc = pd.read_csv('PROCEDURES_ICD.csv')\n",
    "dfdiag = pd.read_csv('DIAGNOSES_ICD.csv')"
   ]
  },
  {
   "cell_type": "code",
   "execution_count": 8,
   "id": "b840c3cb",
   "metadata": {},
   "outputs": [
    {
     "data": {
      "text/html": [
       "<div>\n",
       "<style scoped>\n",
       "    .dataframe tbody tr th:only-of-type {\n",
       "        vertical-align: middle;\n",
       "    }\n",
       "\n",
       "    .dataframe tbody tr th {\n",
       "        vertical-align: top;\n",
       "    }\n",
       "\n",
       "    .dataframe thead th {\n",
       "        text-align: right;\n",
       "    }\n",
       "</style>\n",
       "<table border=\"1\" class=\"dataframe\">\n",
       "  <thead>\n",
       "    <tr style=\"text-align: right;\">\n",
       "      <th></th>\n",
       "      <th>ROW_ID</th>\n",
       "      <th>SUBJECT_ID</th>\n",
       "      <th>HADM_ID</th>\n",
       "      <th>SEQ_NUM</th>\n",
       "      <th>ICD9_CODE</th>\n",
       "    </tr>\n",
       "  </thead>\n",
       "  <tbody>\n",
       "    <tr>\n",
       "      <th>0</th>\n",
       "      <td>944</td>\n",
       "      <td>62641</td>\n",
       "      <td>154460</td>\n",
       "      <td>3</td>\n",
       "      <td>3404</td>\n",
       "    </tr>\n",
       "    <tr>\n",
       "      <th>1</th>\n",
       "      <td>945</td>\n",
       "      <td>2592</td>\n",
       "      <td>130856</td>\n",
       "      <td>1</td>\n",
       "      <td>9671</td>\n",
       "    </tr>\n",
       "    <tr>\n",
       "      <th>2</th>\n",
       "      <td>946</td>\n",
       "      <td>2592</td>\n",
       "      <td>130856</td>\n",
       "      <td>2</td>\n",
       "      <td>3893</td>\n",
       "    </tr>\n",
       "    <tr>\n",
       "      <th>3</th>\n",
       "      <td>947</td>\n",
       "      <td>55357</td>\n",
       "      <td>119355</td>\n",
       "      <td>1</td>\n",
       "      <td>9672</td>\n",
       "    </tr>\n",
       "    <tr>\n",
       "      <th>4</th>\n",
       "      <td>948</td>\n",
       "      <td>55357</td>\n",
       "      <td>119355</td>\n",
       "      <td>2</td>\n",
       "      <td>331</td>\n",
       "    </tr>\n",
       "  </tbody>\n",
       "</table>\n",
       "</div>"
      ],
      "text/plain": [
       "   ROW_ID  SUBJECT_ID  HADM_ID  SEQ_NUM  ICD9_CODE\n",
       "0     944       62641   154460        3       3404\n",
       "1     945        2592   130856        1       9671\n",
       "2     946        2592   130856        2       3893\n",
       "3     947       55357   119355        1       9672\n",
       "4     948       55357   119355        2        331"
      ]
     },
     "execution_count": 8,
     "metadata": {},
     "output_type": "execute_result"
    }
   ],
   "source": [
    "dfproc.head()"
   ]
  },
  {
   "cell_type": "code",
   "execution_count": 9,
   "id": "62cce13f",
   "metadata": {},
   "outputs": [
    {
     "data": {
      "text/html": [
       "<div>\n",
       "<style scoped>\n",
       "    .dataframe tbody tr th:only-of-type {\n",
       "        vertical-align: middle;\n",
       "    }\n",
       "\n",
       "    .dataframe tbody tr th {\n",
       "        vertical-align: top;\n",
       "    }\n",
       "\n",
       "    .dataframe thead th {\n",
       "        text-align: right;\n",
       "    }\n",
       "</style>\n",
       "<table border=\"1\" class=\"dataframe\">\n",
       "  <thead>\n",
       "    <tr style=\"text-align: right;\">\n",
       "      <th></th>\n",
       "      <th>ROW_ID</th>\n",
       "      <th>SUBJECT_ID</th>\n",
       "      <th>HADM_ID</th>\n",
       "      <th>SEQ_NUM</th>\n",
       "      <th>ICD9_CODE</th>\n",
       "    </tr>\n",
       "  </thead>\n",
       "  <tbody>\n",
       "    <tr>\n",
       "      <th>0</th>\n",
       "      <td>1297</td>\n",
       "      <td>109</td>\n",
       "      <td>172335</td>\n",
       "      <td>1.0</td>\n",
       "      <td>40301</td>\n",
       "    </tr>\n",
       "    <tr>\n",
       "      <th>1</th>\n",
       "      <td>1298</td>\n",
       "      <td>109</td>\n",
       "      <td>172335</td>\n",
       "      <td>2.0</td>\n",
       "      <td>486</td>\n",
       "    </tr>\n",
       "    <tr>\n",
       "      <th>2</th>\n",
       "      <td>1299</td>\n",
       "      <td>109</td>\n",
       "      <td>172335</td>\n",
       "      <td>3.0</td>\n",
       "      <td>58281</td>\n",
       "    </tr>\n",
       "    <tr>\n",
       "      <th>3</th>\n",
       "      <td>1300</td>\n",
       "      <td>109</td>\n",
       "      <td>172335</td>\n",
       "      <td>4.0</td>\n",
       "      <td>5855</td>\n",
       "    </tr>\n",
       "    <tr>\n",
       "      <th>4</th>\n",
       "      <td>1301</td>\n",
       "      <td>109</td>\n",
       "      <td>172335</td>\n",
       "      <td>5.0</td>\n",
       "      <td>4254</td>\n",
       "    </tr>\n",
       "  </tbody>\n",
       "</table>\n",
       "</div>"
      ],
      "text/plain": [
       "   ROW_ID  SUBJECT_ID  HADM_ID  SEQ_NUM ICD9_CODE\n",
       "0    1297         109   172335      1.0     40301\n",
       "1    1298         109   172335      2.0       486\n",
       "2    1299         109   172335      3.0     58281\n",
       "3    1300         109   172335      4.0      5855\n",
       "4    1301         109   172335      5.0      4254"
      ]
     },
     "execution_count": 9,
     "metadata": {},
     "output_type": "execute_result"
    }
   ],
   "source": [
    "dfdiag.head()"
   ]
  },
  {
   "cell_type": "markdown",
   "id": "ee9e6c9e",
   "metadata": {},
   "source": [
    "Put a period in the right place because the MIMIC-3 data files exclude them.Generally, procedure codes have dots after the first two digits, while diagnosis codes have dots after the first three digits."
   ]
  },
  {
   "cell_type": "code",
   "execution_count": 22,
   "id": "766ad169",
   "metadata": {},
   "outputs": [],
   "source": [
    "def reformat(code, is_diag):\n",
    "    code = ''.join(code.split('.'))\n",
    "    if is_diag:\n",
    "        if code.startswith('E'):\n",
    "            if len(code) > 4:\n",
    "                code = code[:4] + '.' + code[4:]\n",
    "        else:\n",
    "            if len(code) > 3:\n",
    "                code = code[:3] + '.' + code[3:]\n",
    "    else:\n",
    "        code = code[:2] + '.' + code[2:]\n",
    "    return code"
   ]
  },
  {
   "cell_type": "code",
   "execution_count": 23,
   "id": "0698cdcf",
   "metadata": {},
   "outputs": [],
   "source": [
    "dfdiag['ICD9_CODE'] = dfdiag.apply(lambda row: str(reformat(str(row[4]), True)), axis=1)\n",
    "dfproc['ICD9_CODE'] = dfproc.apply(lambda row: str(reformat(str(row[4]), False)), axis=1)"
   ]
  },
  {
   "cell_type": "code",
   "execution_count": 45,
   "id": "61ef5e28",
   "metadata": {},
   "outputs": [],
   "source": [
    "dfcodes = pd.concat([dfdiag, dfproc])\n",
    "dfcodes.to_csv('ALL_CODES.csv', index=False,\n",
    "               columns=['ROW_ID', 'SUBJECT_ID', 'HADM_ID', 'SEQ_NUM', 'ICD9_CODE'],\n",
    "               header=['ROW_ID', 'SUBJECT_ID', 'HADM_ID', 'SEQ_NUM', 'ICD9_CODE'])\n"
   ]
  },
  {
   "cell_type": "code",
   "execution_count": 46,
   "id": "bf049465",
   "metadata": {},
   "outputs": [
    {
     "name": "stderr",
     "output_type": "stream",
     "text": [
      "/tmp/ipykernel_34542/3011825390.py:1: DtypeWarning: Columns (4) have mixed types. Specify dtype option on import or set low_memory=False.\n",
      "  df = pd.read_csv('ALL_CODES.csv')\n"
     ]
    },
    {
     "data": {
      "text/plain": [
       "9404"
      ]
     },
     "execution_count": 46,
     "metadata": {},
     "output_type": "execute_result"
    }
   ],
   "source": [
    "df = pd.read_csv('ALL_CODES.csv')\n",
    "len(df['ICD9_CODE'].unique())"
   ]
  },
  {
   "cell_type": "code",
   "execution_count": 47,
   "id": "84acd5f1",
   "metadata": {},
   "outputs": [],
   "source": [
    "df = df[df['ICD9_CODE'].notna()]"
   ]
  },
  {
   "cell_type": "code",
   "execution_count": 48,
   "id": "768d7c66",
   "metadata": {},
   "outputs": [
    {
     "data": {
      "text/plain": [
       "9403"
      ]
     },
     "execution_count": 48,
     "metadata": {},
     "output_type": "execute_result"
    }
   ],
   "source": [
    "len(df['ICD9_CODE'].unique())"
   ]
  },
  {
   "cell_type": "code",
   "execution_count": 32,
   "id": "2b74560b",
   "metadata": {},
   "outputs": [
    {
     "data": {
      "text/plain": [
       "ROW_ID          int64\n",
       "SUBJECT_ID      int64\n",
       "HADM_ID         int64\n",
       "SEQ_NUM       float64\n",
       "ICD9_CODE      object\n",
       "dtype: object"
      ]
     },
     "execution_count": 32,
     "metadata": {},
     "output_type": "execute_result"
    }
   ],
   "source": [
    "df.dtypes"
   ]
  },
  {
   "cell_type": "markdown",
   "id": "9d636523",
   "metadata": {},
   "source": [
    "### MAP"
   ]
  },
  {
   "cell_type": "code",
   "execution_count": 47,
   "id": "7cbba50e",
   "metadata": {},
   "outputs": [],
   "source": [
    "# mapping = {}\n",
    "# dictionary=open('icd9to10dictionary.txt')\n",
    "# # header=dictionary.readline()\n",
    "# for line in dictionary:\n",
    "#     icd_9 = str.strip(line.split('|')[0])\n",
    "#     icd_10 = str.strip(line.split('|')[1])\n",
    "#     desc = str.strip(line.split('|')[2])\n",
    "#     mapping[icd_9] = [icd_10,desc]\n",
    "# # print(header)"
   ]
  },
  {
   "cell_type": "code",
   "execution_count": 50,
   "id": "566c1275",
   "metadata": {},
   "outputs": [
    {
     "data": {
      "text/plain": [
       "array(['403.01', '486', '582.81', ..., 82.35, 69.3, 38.37], dtype=object)"
      ]
     },
     "execution_count": 50,
     "metadata": {},
     "output_type": "execute_result"
    }
   ],
   "source": [
    "icd9codes = df['ICD9_CODE'].unique()\n",
    "icd9codes"
   ]
  },
  {
   "cell_type": "code",
   "execution_count": 57,
   "id": "3c4c59c6",
   "metadata": {},
   "outputs": [
    {
     "name": "stderr",
     "output_type": "stream",
     "text": [
      "  5%|███████                                                                                                                                      | 468/9403 [08:48<2:48:06,  1.13s/it]\n"
     ]
    },
    {
     "ename": "CancelledError",
     "evalue": "",
     "output_type": "error",
     "traceback": [
      "\u001b[0;31m---------------------------------------------------------------------------\u001b[0m",
      "\u001b[0;31mCancelledError\u001b[0m                            Traceback (most recent call last)",
      "Cell \u001b[0;32mIn [57], line 32\u001b[0m\n\u001b[1;32m     29\u001b[0m             mapping[icd_9] \u001b[38;5;241m=\u001b[39m icd_10\n\u001b[1;32m     30\u001b[0m     \u001b[38;5;28mprint\u001b[39m(count)\n\u001b[0;32m---> 32\u001b[0m \u001b[38;5;28;01mawait\u001b[39;00m main()\n",
      "Cell \u001b[0;32mIn [57], line 11\u001b[0m, in \u001b[0;36mmain\u001b[0;34m()\u001b[0m\n\u001b[1;32m      9\u001b[0m icd_9 \u001b[38;5;241m=\u001b[39m icd9codes[i]\n\u001b[1;32m     10\u001b[0m url \u001b[38;5;241m=\u001b[39m \u001b[38;5;124mf\u001b[39m\u001b[38;5;124m'\u001b[39m\u001b[38;5;124mhttps://www.icd10data.com/Convert/\u001b[39m\u001b[38;5;132;01m{\u001b[39;00micd_9\u001b[38;5;132;01m}\u001b[39;00m\u001b[38;5;124m'\u001b[39m\n\u001b[0;32m---> 11\u001b[0m \u001b[38;5;28;01masync\u001b[39;00m \u001b[38;5;28;01mwith\u001b[39;00m session\u001b[38;5;241m.\u001b[39mget(url) \u001b[38;5;28;01mas\u001b[39;00m response:\n\u001b[1;32m     12\u001b[0m     text \u001b[38;5;241m=\u001b[39m \u001b[38;5;28;01mawait\u001b[39;00m response\u001b[38;5;241m.\u001b[39mtext()\n\u001b[1;32m     13\u001b[0m     tasks\u001b[38;5;241m.\u001b[39mappend(text)\n",
      "File \u001b[0;32m~/.local/lib/python3.8/site-packages/aiohttp/client.py:1141\u001b[0m, in \u001b[0;36m_BaseRequestContextManager.__aenter__\u001b[0;34m(self)\u001b[0m\n\u001b[1;32m   1140\u001b[0m \u001b[38;5;28;01masync\u001b[39;00m \u001b[38;5;28;01mdef\u001b[39;00m \u001b[38;5;21m__aenter__\u001b[39m(\u001b[38;5;28mself\u001b[39m) \u001b[38;5;241m-\u001b[39m\u001b[38;5;241m>\u001b[39m _RetType:\n\u001b[0;32m-> 1141\u001b[0m     \u001b[38;5;28mself\u001b[39m\u001b[38;5;241m.\u001b[39m_resp \u001b[38;5;241m=\u001b[39m \u001b[38;5;28;01mawait\u001b[39;00m \u001b[38;5;28mself\u001b[39m\u001b[38;5;241m.\u001b[39m_coro\n\u001b[1;32m   1142\u001b[0m     \u001b[38;5;28;01mreturn\u001b[39;00m \u001b[38;5;28mself\u001b[39m\u001b[38;5;241m.\u001b[39m_resp\n",
      "File \u001b[0;32m~/.local/lib/python3.8/site-packages/aiohttp/client.py:560\u001b[0m, in \u001b[0;36mClientSession._request\u001b[0;34m(self, method, str_or_url, params, data, json, cookies, headers, skip_auto_headers, auth, allow_redirects, max_redirects, compress, chunked, expect100, raise_for_status, read_until_eof, proxy, proxy_auth, timeout, verify_ssl, fingerprint, ssl_context, ssl, proxy_headers, trace_request_ctx, read_bufsize)\u001b[0m\n\u001b[1;32m    558\u001b[0m resp \u001b[38;5;241m=\u001b[39m \u001b[38;5;28;01mawait\u001b[39;00m req\u001b[38;5;241m.\u001b[39msend(conn)\n\u001b[1;32m    559\u001b[0m \u001b[38;5;28;01mtry\u001b[39;00m:\n\u001b[0;32m--> 560\u001b[0m     \u001b[38;5;28;01mawait\u001b[39;00m resp\u001b[38;5;241m.\u001b[39mstart(conn)\n\u001b[1;32m    561\u001b[0m \u001b[38;5;28;01mexcept\u001b[39;00m \u001b[38;5;167;01mBaseException\u001b[39;00m:\n\u001b[1;32m    562\u001b[0m     resp\u001b[38;5;241m.\u001b[39mclose()\n",
      "File \u001b[0;32m~/.local/lib/python3.8/site-packages/aiohttp/client_reqrep.py:899\u001b[0m, in \u001b[0;36mClientResponse.start\u001b[0;34m(self, connection)\u001b[0m\n\u001b[1;32m    897\u001b[0m \u001b[38;5;28;01mtry\u001b[39;00m:\n\u001b[1;32m    898\u001b[0m     protocol \u001b[38;5;241m=\u001b[39m \u001b[38;5;28mself\u001b[39m\u001b[38;5;241m.\u001b[39m_protocol\n\u001b[0;32m--> 899\u001b[0m     message, payload \u001b[38;5;241m=\u001b[39m \u001b[38;5;28;01mawait\u001b[39;00m protocol\u001b[38;5;241m.\u001b[39mread()  \u001b[38;5;66;03m# type: ignore[union-attr]\u001b[39;00m\n\u001b[1;32m    900\u001b[0m \u001b[38;5;28;01mexcept\u001b[39;00m http\u001b[38;5;241m.\u001b[39mHttpProcessingError \u001b[38;5;28;01mas\u001b[39;00m exc:\n\u001b[1;32m    901\u001b[0m     \u001b[38;5;28;01mraise\u001b[39;00m ClientResponseError(\n\u001b[1;32m    902\u001b[0m         \u001b[38;5;28mself\u001b[39m\u001b[38;5;241m.\u001b[39mrequest_info,\n\u001b[1;32m    903\u001b[0m         \u001b[38;5;28mself\u001b[39m\u001b[38;5;241m.\u001b[39mhistory,\n\u001b[0;32m   (...)\u001b[0m\n\u001b[1;32m    906\u001b[0m         headers\u001b[38;5;241m=\u001b[39mexc\u001b[38;5;241m.\u001b[39mheaders,\n\u001b[1;32m    907\u001b[0m     ) \u001b[38;5;28;01mfrom\u001b[39;00m \u001b[38;5;21;01mexc\u001b[39;00m\n",
      "File \u001b[0;32m~/.local/lib/python3.8/site-packages/aiohttp/streams.py:616\u001b[0m, in \u001b[0;36mDataQueue.read\u001b[0;34m(self)\u001b[0m\n\u001b[1;32m    614\u001b[0m \u001b[38;5;28mself\u001b[39m\u001b[38;5;241m.\u001b[39m_waiter \u001b[38;5;241m=\u001b[39m \u001b[38;5;28mself\u001b[39m\u001b[38;5;241m.\u001b[39m_loop\u001b[38;5;241m.\u001b[39mcreate_future()\n\u001b[1;32m    615\u001b[0m \u001b[38;5;28;01mtry\u001b[39;00m:\n\u001b[0;32m--> 616\u001b[0m     \u001b[38;5;28;01mawait\u001b[39;00m \u001b[38;5;28mself\u001b[39m\u001b[38;5;241m.\u001b[39m_waiter\n\u001b[1;32m    617\u001b[0m \u001b[38;5;28;01mexcept\u001b[39;00m (asyncio\u001b[38;5;241m.\u001b[39mCancelledError, asyncio\u001b[38;5;241m.\u001b[39mTimeoutError):\n\u001b[1;32m    618\u001b[0m     \u001b[38;5;28mself\u001b[39m\u001b[38;5;241m.\u001b[39m_waiter \u001b[38;5;241m=\u001b[39m \u001b[38;5;28;01mNone\u001b[39;00m\n",
      "\u001b[0;31mCancelledError\u001b[0m: "
     ]
    }
   ],
   "source": [
    "mapping = {} \n",
    "async def main():\n",
    "    count = 0\n",
    "    tasks = []\n",
    "    headers = {\n",
    "        \"user-agent\": \"Mozilla/5.0 (compatible; Googlebot/2.1; +http://www.google.com/bot.html)\"}\n",
    "    async with aiohttp.ClientSession(headers=headers) as session:\n",
    "        for i in tqdm(range(len(icd9codes))):\n",
    "            icd_9 = icd9codes[i]\n",
    "            url = f'https://www.icd10data.com/Convert/{icd_9}'\n",
    "            async with session.get(url) as response:\n",
    "                text = await response.text()\n",
    "                tasks.append(text)\n",
    "        for i in tqdm(range(len(tasks))):\n",
    "            icd_9 = icd9codes[i]\n",
    "            url = f'https://www.icd10data.com/Convert/{icd_9}'\n",
    "            task = tasks[i]\n",
    "            soup = BeautifulSoup(task, 'html.parser')\n",
    "            icd_10 = soup.find_all(\"span\", {\"class\": \"identifier\"})\n",
    "            if len(icd_10) == 0:\n",
    "                # print(\"ERROR: No ICD10 code found for code: \",icd_9)\n",
    "                print(url,end=\" \")\n",
    "                print(icd_10)\n",
    "                icd_10 = icd_9\n",
    "            elif len(icd_10) == 1:\n",
    "                icd_10 = str(icd_10[0]).split('>')[1].split('<')[0]\n",
    "            else:\n",
    "                icd_10 = str(icd_10[1]).split('>')[1].split('<')[0]\n",
    "            mapping[icd_9] = icd_10\n",
    "    print(count)\n",
    "\n",
    "await main()"
   ]
  },
  {
   "cell_type": "code",
   "execution_count": null,
   "id": "cc4f5c52",
   "metadata": {},
   "outputs": [],
   "source": [
    "with open('icd9to10mapping.json', 'w') as f:\n",
    "    json.dump(mapping, f)"
   ]
  },
  {
   "cell_type": "code",
   "execution_count": 39,
   "id": "d2761d57",
   "metadata": {},
   "outputs": [],
   "source": [
    "f = open('icd9to10mapping.json','r')\n",
    "mapping = json.load(f)"
   ]
  },
  {
   "cell_type": "code",
   "execution_count": 51,
   "id": "708db32d",
   "metadata": {},
   "outputs": [
    {
     "name": "stderr",
     "output_type": "stream",
     "text": [
      "/tmp/ipykernel_34542/1923795444.py:1: DtypeWarning: Columns (4) have mixed types. Specify dtype option on import or set low_memory=False.\n",
      "  df = pd.read_csv('ALL_CODES.csv')\n"
     ]
    },
    {
     "data": {
      "text/plain": [
       "9403"
      ]
     },
     "execution_count": 51,
     "metadata": {},
     "output_type": "execute_result"
    }
   ],
   "source": [
    "df = pd.read_csv('ALL_CODES.csv')\n",
    "df = df[df['ICD9_CODE'].notna()]\n",
    "len(df['ICD9_CODE'].unique())"
   ]
  },
  {
   "cell_type": "code",
   "execution_count": 53,
   "id": "51ee9ca9",
   "metadata": {},
   "outputs": [
    {
     "ename": "KeyError",
     "evalue": "'99.2'",
     "output_type": "error",
     "traceback": [
      "\u001b[0;31m---------------------------------------------------------------------------\u001b[0m",
      "\u001b[0;31mKeyError\u001b[0m                                  Traceback (most recent call last)",
      "Cell \u001b[0;32mIn [53], line 6\u001b[0m\n\u001b[1;32m      4\u001b[0m     \u001b[38;5;28;01melse\u001b[39;00m:\n\u001b[1;32m      5\u001b[0m         \u001b[38;5;28;01mreturn\u001b[39;00m mapping[\u001b[38;5;28mstr\u001b[39m(icd_9)]\n\u001b[0;32m----> 6\u001b[0m df[\u001b[38;5;124m'\u001b[39m\u001b[38;5;124mICD10_CODE\u001b[39m\u001b[38;5;124m'\u001b[39m] \u001b[38;5;241m=\u001b[39m \u001b[43mdf\u001b[49m\u001b[38;5;241;43m.\u001b[39;49m\u001b[43mapply\u001b[49m\u001b[43m(\u001b[49m\u001b[38;5;28;43;01mlambda\u001b[39;49;00m\u001b[43m \u001b[49m\u001b[43mrow\u001b[49m\u001b[43m:\u001b[49m\u001b[43m \u001b[49m\u001b[38;5;28;43mstr\u001b[39;49m\u001b[43m(\u001b[49m\u001b[43micd9to10\u001b[49m\u001b[43m(\u001b[49m\u001b[43mrow\u001b[49m\u001b[43m[\u001b[49m\u001b[38;5;241;43m4\u001b[39;49m\u001b[43m]\u001b[49m\u001b[43m)\u001b[49m\u001b[43m)\u001b[49m\u001b[43m,\u001b[49m\u001b[43m \u001b[49m\u001b[43maxis\u001b[49m\u001b[38;5;241;43m=\u001b[39;49m\u001b[38;5;241;43m1\u001b[39;49m\u001b[43m)\u001b[49m\n",
      "File \u001b[0;32m~/.local/lib/python3.8/site-packages/pandas/core/frame.py:9558\u001b[0m, in \u001b[0;36mDataFrame.apply\u001b[0;34m(self, func, axis, raw, result_type, args, **kwargs)\u001b[0m\n\u001b[1;32m   9547\u001b[0m \u001b[38;5;28;01mfrom\u001b[39;00m \u001b[38;5;21;01mpandas\u001b[39;00m\u001b[38;5;21;01m.\u001b[39;00m\u001b[38;5;21;01mcore\u001b[39;00m\u001b[38;5;21;01m.\u001b[39;00m\u001b[38;5;21;01mapply\u001b[39;00m \u001b[38;5;28;01mimport\u001b[39;00m frame_apply\n\u001b[1;32m   9549\u001b[0m op \u001b[38;5;241m=\u001b[39m frame_apply(\n\u001b[1;32m   9550\u001b[0m     \u001b[38;5;28mself\u001b[39m,\n\u001b[1;32m   9551\u001b[0m     func\u001b[38;5;241m=\u001b[39mfunc,\n\u001b[0;32m   (...)\u001b[0m\n\u001b[1;32m   9556\u001b[0m     kwargs\u001b[38;5;241m=\u001b[39mkwargs,\n\u001b[1;32m   9557\u001b[0m )\n\u001b[0;32m-> 9558\u001b[0m \u001b[38;5;28;01mreturn\u001b[39;00m \u001b[43mop\u001b[49m\u001b[38;5;241;43m.\u001b[39;49m\u001b[43mapply\u001b[49m\u001b[43m(\u001b[49m\u001b[43m)\u001b[49m\u001b[38;5;241m.\u001b[39m__finalize__(\u001b[38;5;28mself\u001b[39m, method\u001b[38;5;241m=\u001b[39m\u001b[38;5;124m\"\u001b[39m\u001b[38;5;124mapply\u001b[39m\u001b[38;5;124m\"\u001b[39m)\n",
      "File \u001b[0;32m~/.local/lib/python3.8/site-packages/pandas/core/apply.py:741\u001b[0m, in \u001b[0;36mFrameApply.apply\u001b[0;34m(self)\u001b[0m\n\u001b[1;32m    738\u001b[0m \u001b[38;5;28;01melif\u001b[39;00m \u001b[38;5;28mself\u001b[39m\u001b[38;5;241m.\u001b[39mraw:\n\u001b[1;32m    739\u001b[0m     \u001b[38;5;28;01mreturn\u001b[39;00m \u001b[38;5;28mself\u001b[39m\u001b[38;5;241m.\u001b[39mapply_raw()\n\u001b[0;32m--> 741\u001b[0m \u001b[38;5;28;01mreturn\u001b[39;00m \u001b[38;5;28;43mself\u001b[39;49m\u001b[38;5;241;43m.\u001b[39;49m\u001b[43mapply_standard\u001b[49m\u001b[43m(\u001b[49m\u001b[43m)\u001b[49m\n",
      "File \u001b[0;32m~/.local/lib/python3.8/site-packages/pandas/core/apply.py:868\u001b[0m, in \u001b[0;36mFrameApply.apply_standard\u001b[0;34m(self)\u001b[0m\n\u001b[1;32m    867\u001b[0m \u001b[38;5;28;01mdef\u001b[39;00m \u001b[38;5;21mapply_standard\u001b[39m(\u001b[38;5;28mself\u001b[39m):\n\u001b[0;32m--> 868\u001b[0m     results, res_index \u001b[38;5;241m=\u001b[39m \u001b[38;5;28;43mself\u001b[39;49m\u001b[38;5;241;43m.\u001b[39;49m\u001b[43mapply_series_generator\u001b[49m\u001b[43m(\u001b[49m\u001b[43m)\u001b[49m\n\u001b[1;32m    870\u001b[0m     \u001b[38;5;66;03m# wrap results\u001b[39;00m\n\u001b[1;32m    871\u001b[0m     \u001b[38;5;28;01mreturn\u001b[39;00m \u001b[38;5;28mself\u001b[39m\u001b[38;5;241m.\u001b[39mwrap_results(results, res_index)\n",
      "File \u001b[0;32m~/.local/lib/python3.8/site-packages/pandas/core/apply.py:884\u001b[0m, in \u001b[0;36mFrameApply.apply_series_generator\u001b[0;34m(self)\u001b[0m\n\u001b[1;32m    881\u001b[0m \u001b[38;5;28;01mwith\u001b[39;00m option_context(\u001b[38;5;124m\"\u001b[39m\u001b[38;5;124mmode.chained_assignment\u001b[39m\u001b[38;5;124m\"\u001b[39m, \u001b[38;5;28;01mNone\u001b[39;00m):\n\u001b[1;32m    882\u001b[0m     \u001b[38;5;28;01mfor\u001b[39;00m i, v \u001b[38;5;129;01min\u001b[39;00m \u001b[38;5;28menumerate\u001b[39m(series_gen):\n\u001b[1;32m    883\u001b[0m         \u001b[38;5;66;03m# ignore SettingWithCopy here in case the user mutates\u001b[39;00m\n\u001b[0;32m--> 884\u001b[0m         results[i] \u001b[38;5;241m=\u001b[39m \u001b[38;5;28;43mself\u001b[39;49m\u001b[38;5;241;43m.\u001b[39;49m\u001b[43mf\u001b[49m\u001b[43m(\u001b[49m\u001b[43mv\u001b[49m\u001b[43m)\u001b[49m\n\u001b[1;32m    885\u001b[0m         \u001b[38;5;28;01mif\u001b[39;00m \u001b[38;5;28misinstance\u001b[39m(results[i], ABCSeries):\n\u001b[1;32m    886\u001b[0m             \u001b[38;5;66;03m# If we have a view on v, we need to make a copy because\u001b[39;00m\n\u001b[1;32m    887\u001b[0m             \u001b[38;5;66;03m#  series_generator will swap out the underlying data\u001b[39;00m\n\u001b[1;32m    888\u001b[0m             results[i] \u001b[38;5;241m=\u001b[39m results[i]\u001b[38;5;241m.\u001b[39mcopy(deep\u001b[38;5;241m=\u001b[39m\u001b[38;5;28;01mFalse\u001b[39;00m)\n",
      "Cell \u001b[0;32mIn [53], line 6\u001b[0m, in \u001b[0;36m<lambda>\u001b[0;34m(row)\u001b[0m\n\u001b[1;32m      4\u001b[0m     \u001b[38;5;28;01melse\u001b[39;00m:\n\u001b[1;32m      5\u001b[0m         \u001b[38;5;28;01mreturn\u001b[39;00m mapping[\u001b[38;5;28mstr\u001b[39m(icd_9)]\n\u001b[0;32m----> 6\u001b[0m df[\u001b[38;5;124m'\u001b[39m\u001b[38;5;124mICD10_CODE\u001b[39m\u001b[38;5;124m'\u001b[39m] \u001b[38;5;241m=\u001b[39m df\u001b[38;5;241m.\u001b[39mapply(\u001b[38;5;28;01mlambda\u001b[39;00m row: \u001b[38;5;28mstr\u001b[39m(\u001b[43micd9to10\u001b[49m\u001b[43m(\u001b[49m\u001b[43mrow\u001b[49m\u001b[43m[\u001b[49m\u001b[38;5;241;43m4\u001b[39;49m\u001b[43m]\u001b[49m\u001b[43m)\u001b[49m), axis\u001b[38;5;241m=\u001b[39m\u001b[38;5;241m1\u001b[39m)\n",
      "Cell \u001b[0;32mIn [53], line 5\u001b[0m, in \u001b[0;36micd9to10\u001b[0;34m(icd_9)\u001b[0m\n\u001b[1;32m      3\u001b[0m     \u001b[38;5;28;01mreturn\u001b[39;00m mapping[icd_9]\n\u001b[1;32m      4\u001b[0m \u001b[38;5;28;01melse\u001b[39;00m:\n\u001b[0;32m----> 5\u001b[0m     \u001b[38;5;28;01mreturn\u001b[39;00m \u001b[43mmapping\u001b[49m\u001b[43m[\u001b[49m\u001b[38;5;28;43mstr\u001b[39;49m\u001b[43m(\u001b[49m\u001b[43micd_9\u001b[49m\u001b[43m)\u001b[49m\u001b[43m]\u001b[49m\n",
      "\u001b[0;31mKeyError\u001b[0m: '99.2'"
     ]
    }
   ],
   "source": [
    "def icd9to10(icd_9):\n",
    "    if icd_9 in mapping.keys():\n",
    "        return mapping[icd_9]\n",
    "    else:\n",
    "        return mapping[str(icd_9)]\n",
    "df['ICD10_CODE'] = df.apply(lambda row: str(icd9to10(row[4])), axis=1)"
   ]
  },
  {
   "cell_type": "code",
   "execution_count": null,
   "id": "f0be694a",
   "metadata": {},
   "outputs": [],
   "source": [
    "df.head()"
   ]
  },
  {
   "cell_type": "code",
   "execution_count": 115,
   "id": "eb61faef",
   "metadata": {},
   "outputs": [],
   "source": [
    "df.to_csv('ALL_MAPPED_CODES.csv', index=False,\n",
    "               columns=['ROW_ID', 'SUBJECT_ID', 'HADM_ID', 'SEQ_NUM', 'ICD9_CODE','ICD10_CODE'],\n",
    "               header=['ROW_ID', 'SUBJECT_ID', 'HADM_ID', 'SEQ_NUM', 'ICD9_CODE','ICD10_CODE'])"
   ]
  },
  {
   "cell_type": "code",
   "execution_count": 62,
   "id": "b9477e22",
   "metadata": {},
   "outputs": [
    {
     "data": {
      "text/plain": [
       "8969"
      ]
     },
     "execution_count": 62,
     "metadata": {},
     "output_type": "execute_result"
    }
   ],
   "source": [
    "df = pd.read_csv('ALL_MAPPED_CODES.csv')\n",
    "len(df['ICD9_CODE'].unique())"
   ]
  },
  {
   "cell_type": "code",
   "execution_count": 63,
   "id": "7915edfd",
   "metadata": {},
   "outputs": [
    {
     "data": {
      "text/plain": [
       "7710"
      ]
     },
     "execution_count": 63,
     "metadata": {},
     "output_type": "execute_result"
    }
   ],
   "source": [
    "len(df['ICD10_CODE'].unique())"
   ]
  },
  {
   "cell_type": "markdown",
   "id": "9def4870",
   "metadata": {},
   "source": [
    "### Concatenate"
   ]
  },
  {
   "cell_type": "code",
   "execution_count": 2,
   "id": "29cf3dfe",
   "metadata": {},
   "outputs": [
    {
     "name": "stderr",
     "output_type": "stream",
     "text": [
      "C:\\ProgramData\\Anaconda3\\lib\\site-packages\\IPython\\core\\interactiveshell.py:3165: DtypeWarning: Columns (4,5) have mixed types.Specify dtype option on import or set low_memory=False.\n",
      "  has_raised = await self.run_ast_nodes(code_ast.body, cell_name,\n"
     ]
    }
   ],
   "source": [
    "noteeventsdf = pd.read_csv('NOTEEVENTS.csv')"
   ]
  },
  {
   "cell_type": "code",
   "execution_count": 3,
   "id": "4a43ba9f",
   "metadata": {},
   "outputs": [
    {
     "data": {
      "text/html": [
       "<div>\n",
       "<style scoped>\n",
       "    .dataframe tbody tr th:only-of-type {\n",
       "        vertical-align: middle;\n",
       "    }\n",
       "\n",
       "    .dataframe tbody tr th {\n",
       "        vertical-align: top;\n",
       "    }\n",
       "\n",
       "    .dataframe thead th {\n",
       "        text-align: right;\n",
       "    }\n",
       "</style>\n",
       "<table border=\"1\" class=\"dataframe\">\n",
       "  <thead>\n",
       "    <tr style=\"text-align: right;\">\n",
       "      <th></th>\n",
       "      <th>ROW_ID</th>\n",
       "      <th>SUBJECT_ID</th>\n",
       "      <th>HADM_ID</th>\n",
       "      <th>CHARTDATE</th>\n",
       "      <th>CHARTTIME</th>\n",
       "      <th>STORETIME</th>\n",
       "      <th>CATEGORY</th>\n",
       "      <th>DESCRIPTION</th>\n",
       "      <th>CGID</th>\n",
       "      <th>ISERROR</th>\n",
       "      <th>TEXT</th>\n",
       "    </tr>\n",
       "  </thead>\n",
       "  <tbody>\n",
       "    <tr>\n",
       "      <th>0</th>\n",
       "      <td>174</td>\n",
       "      <td>22532</td>\n",
       "      <td>167853.0</td>\n",
       "      <td>2151-08-04</td>\n",
       "      <td>NaN</td>\n",
       "      <td>NaN</td>\n",
       "      <td>Discharge summary</td>\n",
       "      <td>Report</td>\n",
       "      <td>NaN</td>\n",
       "      <td>NaN</td>\n",
       "      <td>Admission Date:  [**2151-7-16**]       Dischar...</td>\n",
       "    </tr>\n",
       "    <tr>\n",
       "      <th>1</th>\n",
       "      <td>175</td>\n",
       "      <td>13702</td>\n",
       "      <td>107527.0</td>\n",
       "      <td>2118-06-14</td>\n",
       "      <td>NaN</td>\n",
       "      <td>NaN</td>\n",
       "      <td>Discharge summary</td>\n",
       "      <td>Report</td>\n",
       "      <td>NaN</td>\n",
       "      <td>NaN</td>\n",
       "      <td>Admission Date:  [**2118-6-2**]       Discharg...</td>\n",
       "    </tr>\n",
       "    <tr>\n",
       "      <th>2</th>\n",
       "      <td>176</td>\n",
       "      <td>13702</td>\n",
       "      <td>167118.0</td>\n",
       "      <td>2119-05-25</td>\n",
       "      <td>NaN</td>\n",
       "      <td>NaN</td>\n",
       "      <td>Discharge summary</td>\n",
       "      <td>Report</td>\n",
       "      <td>NaN</td>\n",
       "      <td>NaN</td>\n",
       "      <td>Admission Date:  [**2119-5-4**]              D...</td>\n",
       "    </tr>\n",
       "    <tr>\n",
       "      <th>3</th>\n",
       "      <td>177</td>\n",
       "      <td>13702</td>\n",
       "      <td>196489.0</td>\n",
       "      <td>2124-08-18</td>\n",
       "      <td>NaN</td>\n",
       "      <td>NaN</td>\n",
       "      <td>Discharge summary</td>\n",
       "      <td>Report</td>\n",
       "      <td>NaN</td>\n",
       "      <td>NaN</td>\n",
       "      <td>Admission Date:  [**2124-7-21**]              ...</td>\n",
       "    </tr>\n",
       "    <tr>\n",
       "      <th>4</th>\n",
       "      <td>178</td>\n",
       "      <td>26880</td>\n",
       "      <td>135453.0</td>\n",
       "      <td>2162-03-25</td>\n",
       "      <td>NaN</td>\n",
       "      <td>NaN</td>\n",
       "      <td>Discharge summary</td>\n",
       "      <td>Report</td>\n",
       "      <td>NaN</td>\n",
       "      <td>NaN</td>\n",
       "      <td>Admission Date:  [**2162-3-3**]              D...</td>\n",
       "    </tr>\n",
       "  </tbody>\n",
       "</table>\n",
       "</div>"
      ],
      "text/plain": [
       "   ROW_ID  SUBJECT_ID   HADM_ID   CHARTDATE CHARTTIME STORETIME  \\\n",
       "0     174       22532  167853.0  2151-08-04       NaN       NaN   \n",
       "1     175       13702  107527.0  2118-06-14       NaN       NaN   \n",
       "2     176       13702  167118.0  2119-05-25       NaN       NaN   \n",
       "3     177       13702  196489.0  2124-08-18       NaN       NaN   \n",
       "4     178       26880  135453.0  2162-03-25       NaN       NaN   \n",
       "\n",
       "            CATEGORY DESCRIPTION  CGID  ISERROR  \\\n",
       "0  Discharge summary      Report   NaN      NaN   \n",
       "1  Discharge summary      Report   NaN      NaN   \n",
       "2  Discharge summary      Report   NaN      NaN   \n",
       "3  Discharge summary      Report   NaN      NaN   \n",
       "4  Discharge summary      Report   NaN      NaN   \n",
       "\n",
       "                                                TEXT  \n",
       "0  Admission Date:  [**2151-7-16**]       Dischar...  \n",
       "1  Admission Date:  [**2118-6-2**]       Discharg...  \n",
       "2  Admission Date:  [**2119-5-4**]              D...  \n",
       "3  Admission Date:  [**2124-7-21**]              ...  \n",
       "4  Admission Date:  [**2162-3-3**]              D...  "
      ]
     },
     "execution_count": 3,
     "metadata": {},
     "output_type": "execute_result"
    }
   ],
   "source": [
    "noteeventsdf.head()"
   ]
  },
  {
   "cell_type": "code",
   "execution_count": 4,
   "id": "53e2127a",
   "metadata": {},
   "outputs": [
    {
     "data": {
      "text/plain": [
       "2083180"
      ]
     },
     "execution_count": 4,
     "metadata": {},
     "output_type": "execute_result"
    }
   ],
   "source": [
    "len(noteeventsdf.index)"
   ]
  },
  {
   "cell_type": "code",
   "execution_count": 8,
   "id": "f1316b07",
   "metadata": {},
   "outputs": [],
   "source": [
    "noteeventsdf = noteeventsdf[noteeventsdf['CATEGORY']=='Discharge summary']"
   ]
  },
  {
   "cell_type": "code",
   "execution_count": 9,
   "id": "db743fa1",
   "metadata": {},
   "outputs": [
    {
     "data": {
      "text/plain": [
       "59652"
      ]
     },
     "execution_count": 9,
     "metadata": {},
     "output_type": "execute_result"
    }
   ],
   "source": [
    "len(noteeventsdf.index)"
   ]
  },
  {
   "cell_type": "code",
   "execution_count": 10,
   "id": "7bbbbdc0",
   "metadata": {},
   "outputs": [
    {
     "data": {
      "text/plain": [
       "52726"
      ]
     },
     "execution_count": 10,
     "metadata": {},
     "output_type": "execute_result"
    }
   ],
   "source": [
    "len(noteeventsdf['HADM_ID'].unique())"
   ]
  },
  {
   "cell_type": "code",
   "execution_count": 14,
   "id": "ff7a24ae",
   "metadata": {},
   "outputs": [],
   "source": [
    "noteeventsdf = noteeventsdf[noteeventsdf['HADM_ID'].notna()]"
   ]
  },
  {
   "cell_type": "code",
   "execution_count": 15,
   "id": "82102cab",
   "metadata": {},
   "outputs": [
    {
     "data": {
      "text/plain": [
       "52726"
      ]
     },
     "execution_count": 15,
     "metadata": {},
     "output_type": "execute_result"
    }
   ],
   "source": [
    "len(noteeventsdf['HADM_ID'].unique())"
   ]
  },
  {
   "cell_type": "code",
   "execution_count": 16,
   "id": "ba46409e",
   "metadata": {},
   "outputs": [],
   "source": [
    "noteeventsdf = noteeventsdf.sort_values(['SUBJECT_ID', 'HADM_ID'])"
   ]
  },
  {
   "cell_type": "code",
   "execution_count": 17,
   "id": "ba227f7f",
   "metadata": {},
   "outputs": [
    {
     "data": {
      "text/html": [
       "<div>\n",
       "<style scoped>\n",
       "    .dataframe tbody tr th:only-of-type {\n",
       "        vertical-align: middle;\n",
       "    }\n",
       "\n",
       "    .dataframe tbody tr th {\n",
       "        vertical-align: top;\n",
       "    }\n",
       "\n",
       "    .dataframe thead th {\n",
       "        text-align: right;\n",
       "    }\n",
       "</style>\n",
       "<table border=\"1\" class=\"dataframe\">\n",
       "  <thead>\n",
       "    <tr style=\"text-align: right;\">\n",
       "      <th></th>\n",
       "      <th>ROW_ID</th>\n",
       "      <th>SUBJECT_ID</th>\n",
       "      <th>HADM_ID</th>\n",
       "      <th>CHARTDATE</th>\n",
       "      <th>CHARTTIME</th>\n",
       "      <th>STORETIME</th>\n",
       "      <th>CATEGORY</th>\n",
       "      <th>DESCRIPTION</th>\n",
       "      <th>CGID</th>\n",
       "      <th>ISERROR</th>\n",
       "      <th>TEXT</th>\n",
       "    </tr>\n",
       "  </thead>\n",
       "  <tbody>\n",
       "    <tr>\n",
       "      <th>48470</th>\n",
       "      <td>44005</td>\n",
       "      <td>3</td>\n",
       "      <td>145834.0</td>\n",
       "      <td>2101-10-31</td>\n",
       "      <td>NaN</td>\n",
       "      <td>NaN</td>\n",
       "      <td>Discharge summary</td>\n",
       "      <td>Report</td>\n",
       "      <td>NaN</td>\n",
       "      <td>NaN</td>\n",
       "      <td>Admission Date:  [**2101-10-20**]     Discharg...</td>\n",
       "    </tr>\n",
       "    <tr>\n",
       "      <th>4782</th>\n",
       "      <td>4788</td>\n",
       "      <td>4</td>\n",
       "      <td>185777.0</td>\n",
       "      <td>2191-03-23</td>\n",
       "      <td>NaN</td>\n",
       "      <td>NaN</td>\n",
       "      <td>Discharge summary</td>\n",
       "      <td>Report</td>\n",
       "      <td>NaN</td>\n",
       "      <td>NaN</td>\n",
       "      <td>Admission Date:  [**2191-3-16**]     Discharge...</td>\n",
       "    </tr>\n",
       "    <tr>\n",
       "      <th>24476</th>\n",
       "      <td>20825</td>\n",
       "      <td>6</td>\n",
       "      <td>107064.0</td>\n",
       "      <td>2175-06-15</td>\n",
       "      <td>NaN</td>\n",
       "      <td>NaN</td>\n",
       "      <td>Discharge summary</td>\n",
       "      <td>Report</td>\n",
       "      <td>NaN</td>\n",
       "      <td>NaN</td>\n",
       "      <td>Admission Date: [**2175-5-30**]        Dischar...</td>\n",
       "    </tr>\n",
       "    <tr>\n",
       "      <th>22764</th>\n",
       "      <td>20070</td>\n",
       "      <td>9</td>\n",
       "      <td>150750.0</td>\n",
       "      <td>2149-11-13</td>\n",
       "      <td>NaN</td>\n",
       "      <td>NaN</td>\n",
       "      <td>Discharge summary</td>\n",
       "      <td>Report</td>\n",
       "      <td>NaN</td>\n",
       "      <td>NaN</td>\n",
       "      <td>Admission Date:  [**2149-11-9**]       Dischar...</td>\n",
       "    </tr>\n",
       "    <tr>\n",
       "      <th>57341</th>\n",
       "      <td>57115</td>\n",
       "      <td>9</td>\n",
       "      <td>150750.0</td>\n",
       "      <td>2149-11-14</td>\n",
       "      <td>NaN</td>\n",
       "      <td>NaN</td>\n",
       "      <td>Discharge summary</td>\n",
       "      <td>Addendum</td>\n",
       "      <td>NaN</td>\n",
       "      <td>NaN</td>\n",
       "      <td>Name:  [**Known lastname 10050**], [**Known fi...</td>\n",
       "    </tr>\n",
       "  </tbody>\n",
       "</table>\n",
       "</div>"
      ],
      "text/plain": [
       "       ROW_ID  SUBJECT_ID   HADM_ID   CHARTDATE CHARTTIME STORETIME  \\\n",
       "48470   44005           3  145834.0  2101-10-31       NaN       NaN   \n",
       "4782     4788           4  185777.0  2191-03-23       NaN       NaN   \n",
       "24476   20825           6  107064.0  2175-06-15       NaN       NaN   \n",
       "22764   20070           9  150750.0  2149-11-13       NaN       NaN   \n",
       "57341   57115           9  150750.0  2149-11-14       NaN       NaN   \n",
       "\n",
       "                CATEGORY DESCRIPTION  CGID  ISERROR  \\\n",
       "48470  Discharge summary      Report   NaN      NaN   \n",
       "4782   Discharge summary      Report   NaN      NaN   \n",
       "24476  Discharge summary      Report   NaN      NaN   \n",
       "22764  Discharge summary      Report   NaN      NaN   \n",
       "57341  Discharge summary    Addendum   NaN      NaN   \n",
       "\n",
       "                                                    TEXT  \n",
       "48470  Admission Date:  [**2101-10-20**]     Discharg...  \n",
       "4782   Admission Date:  [**2191-3-16**]     Discharge...  \n",
       "24476  Admission Date: [**2175-5-30**]        Dischar...  \n",
       "22764  Admission Date:  [**2149-11-9**]       Dischar...  \n",
       "57341  Name:  [**Known lastname 10050**], [**Known fi...  "
      ]
     },
     "execution_count": 17,
     "metadata": {},
     "output_type": "execute_result"
    }
   ],
   "source": [
    "noteeventsdf.head()"
   ]
  },
  {
   "cell_type": "code",
   "execution_count": null,
   "id": "1c347cf9",
   "metadata": {},
   "outputs": [],
   "source": [
    "noteeventsdf.to_csv('DISCHARGE_SUMMARY.csv', index=False)"
   ]
  },
  {
   "cell_type": "code",
   "execution_count": 2,
   "id": "cbc20f56",
   "metadata": {},
   "outputs": [
    {
     "data": {
      "text/html": [
       "<div>\n",
       "<style scoped>\n",
       "    .dataframe tbody tr th:only-of-type {\n",
       "        vertical-align: middle;\n",
       "    }\n",
       "\n",
       "    .dataframe tbody tr th {\n",
       "        vertical-align: top;\n",
       "    }\n",
       "\n",
       "    .dataframe thead th {\n",
       "        text-align: right;\n",
       "    }\n",
       "</style>\n",
       "<table border=\"1\" class=\"dataframe\">\n",
       "  <thead>\n",
       "    <tr style=\"text-align: right;\">\n",
       "      <th></th>\n",
       "      <th>ROW_ID</th>\n",
       "      <th>SUBJECT_ID</th>\n",
       "      <th>HADM_ID</th>\n",
       "      <th>CHARTDATE</th>\n",
       "      <th>CHARTTIME</th>\n",
       "      <th>STORETIME</th>\n",
       "      <th>CATEGORY</th>\n",
       "      <th>DESCRIPTION</th>\n",
       "      <th>CGID</th>\n",
       "      <th>ISERROR</th>\n",
       "      <th>TEXT</th>\n",
       "    </tr>\n",
       "  </thead>\n",
       "  <tbody>\n",
       "    <tr>\n",
       "      <th>0</th>\n",
       "      <td>44005</td>\n",
       "      <td>3</td>\n",
       "      <td>145834.0</td>\n",
       "      <td>2101-10-31</td>\n",
       "      <td>NaN</td>\n",
       "      <td>NaN</td>\n",
       "      <td>Discharge summary</td>\n",
       "      <td>Report</td>\n",
       "      <td>NaN</td>\n",
       "      <td>NaN</td>\n",
       "      <td>Admission Date:  [**2101-10-20**]     Discharg...</td>\n",
       "    </tr>\n",
       "    <tr>\n",
       "      <th>1</th>\n",
       "      <td>4788</td>\n",
       "      <td>4</td>\n",
       "      <td>185777.0</td>\n",
       "      <td>2191-03-23</td>\n",
       "      <td>NaN</td>\n",
       "      <td>NaN</td>\n",
       "      <td>Discharge summary</td>\n",
       "      <td>Report</td>\n",
       "      <td>NaN</td>\n",
       "      <td>NaN</td>\n",
       "      <td>Admission Date:  [**2191-3-16**]     Discharge...</td>\n",
       "    </tr>\n",
       "    <tr>\n",
       "      <th>2</th>\n",
       "      <td>20825</td>\n",
       "      <td>6</td>\n",
       "      <td>107064.0</td>\n",
       "      <td>2175-06-15</td>\n",
       "      <td>NaN</td>\n",
       "      <td>NaN</td>\n",
       "      <td>Discharge summary</td>\n",
       "      <td>Report</td>\n",
       "      <td>NaN</td>\n",
       "      <td>NaN</td>\n",
       "      <td>Admission Date: [**2175-5-30**]        Dischar...</td>\n",
       "    </tr>\n",
       "    <tr>\n",
       "      <th>3</th>\n",
       "      <td>20070</td>\n",
       "      <td>9</td>\n",
       "      <td>150750.0</td>\n",
       "      <td>2149-11-13</td>\n",
       "      <td>NaN</td>\n",
       "      <td>NaN</td>\n",
       "      <td>Discharge summary</td>\n",
       "      <td>Report</td>\n",
       "      <td>NaN</td>\n",
       "      <td>NaN</td>\n",
       "      <td>Admission Date:  [**2149-11-9**]       Dischar...</td>\n",
       "    </tr>\n",
       "    <tr>\n",
       "      <th>4</th>\n",
       "      <td>57115</td>\n",
       "      <td>9</td>\n",
       "      <td>150750.0</td>\n",
       "      <td>2149-11-14</td>\n",
       "      <td>NaN</td>\n",
       "      <td>NaN</td>\n",
       "      <td>Discharge summary</td>\n",
       "      <td>Addendum</td>\n",
       "      <td>NaN</td>\n",
       "      <td>NaN</td>\n",
       "      <td>Name:  [**Known lastname 10050**], [**Known fi...</td>\n",
       "    </tr>\n",
       "  </tbody>\n",
       "</table>\n",
       "</div>"
      ],
      "text/plain": [
       "   ROW_ID  SUBJECT_ID   HADM_ID   CHARTDATE  CHARTTIME  STORETIME  \\\n",
       "0   44005           3  145834.0  2101-10-31        NaN        NaN   \n",
       "1    4788           4  185777.0  2191-03-23        NaN        NaN   \n",
       "2   20825           6  107064.0  2175-06-15        NaN        NaN   \n",
       "3   20070           9  150750.0  2149-11-13        NaN        NaN   \n",
       "4   57115           9  150750.0  2149-11-14        NaN        NaN   \n",
       "\n",
       "            CATEGORY DESCRIPTION  CGID  ISERROR  \\\n",
       "0  Discharge summary      Report   NaN      NaN   \n",
       "1  Discharge summary      Report   NaN      NaN   \n",
       "2  Discharge summary      Report   NaN      NaN   \n",
       "3  Discharge summary      Report   NaN      NaN   \n",
       "4  Discharge summary    Addendum   NaN      NaN   \n",
       "\n",
       "                                                TEXT  \n",
       "0  Admission Date:  [**2101-10-20**]     Discharg...  \n",
       "1  Admission Date:  [**2191-3-16**]     Discharge...  \n",
       "2  Admission Date: [**2175-5-30**]        Dischar...  \n",
       "3  Admission Date:  [**2149-11-9**]       Dischar...  \n",
       "4  Name:  [**Known lastname 10050**], [**Known fi...  "
      ]
     },
     "execution_count": 2,
     "metadata": {},
     "output_type": "execute_result"
    }
   ],
   "source": [
    "noteeventsdf = pd.read_csv('DISCHARGE_SUMMARY.csv')\n",
    "noteeventsdf.head()"
   ]
  },
  {
   "cell_type": "code",
   "execution_count": 20,
   "id": "1cf63b1d",
   "metadata": {},
   "outputs": [
    {
     "name": "stderr",
     "output_type": "stream",
     "text": [
      "C:\\ProgramData\\Anaconda3\\lib\\site-packages\\IPython\\core\\interactiveshell.py:3165: DtypeWarning: Columns (4) have mixed types.Specify dtype option on import or set low_memory=False.\n",
      "  has_raised = await self.run_ast_nodes(code_ast.body, cell_name,\n"
     ]
    }
   ],
   "source": [
    "labeldf = pd.read_csv('ALL_MAPPED_CODES.csv')"
   ]
  },
  {
   "cell_type": "code",
   "execution_count": 21,
   "id": "ff558d04",
   "metadata": {},
   "outputs": [
    {
     "data": {
      "text/html": [
       "<div>\n",
       "<style scoped>\n",
       "    .dataframe tbody tr th:only-of-type {\n",
       "        vertical-align: middle;\n",
       "    }\n",
       "\n",
       "    .dataframe tbody tr th {\n",
       "        vertical-align: top;\n",
       "    }\n",
       "\n",
       "    .dataframe thead th {\n",
       "        text-align: right;\n",
       "    }\n",
       "</style>\n",
       "<table border=\"1\" class=\"dataframe\">\n",
       "  <thead>\n",
       "    <tr style=\"text-align: right;\">\n",
       "      <th></th>\n",
       "      <th>ROW_ID</th>\n",
       "      <th>SUBJECT_ID</th>\n",
       "      <th>HADM_ID</th>\n",
       "      <th>SEQ_NUM</th>\n",
       "      <th>ICD9_CODE</th>\n",
       "      <th>ICD10_CODE</th>\n",
       "    </tr>\n",
       "  </thead>\n",
       "  <tbody>\n",
       "    <tr>\n",
       "      <th>608</th>\n",
       "      <td>1</td>\n",
       "      <td>2</td>\n",
       "      <td>163353</td>\n",
       "      <td>1.0</td>\n",
       "      <td>V30.01</td>\n",
       "      <td>Z38.01</td>\n",
       "    </tr>\n",
       "    <tr>\n",
       "      <th>609</th>\n",
       "      <td>2</td>\n",
       "      <td>2</td>\n",
       "      <td>163353</td>\n",
       "      <td>2.0</td>\n",
       "      <td>V05.3</td>\n",
       "      <td>Z23</td>\n",
       "    </tr>\n",
       "    <tr>\n",
       "      <th>610</th>\n",
       "      <td>3</td>\n",
       "      <td>2</td>\n",
       "      <td>163353</td>\n",
       "      <td>3.0</td>\n",
       "      <td>V29.0</td>\n",
       "      <td>Z05.1</td>\n",
       "    </tr>\n",
       "    <tr>\n",
       "      <th>746085</th>\n",
       "      <td>109376</td>\n",
       "      <td>2</td>\n",
       "      <td>163353</td>\n",
       "      <td>1.0</td>\n",
       "      <td>99.55</td>\n",
       "      <td>3E0134Z</td>\n",
       "    </tr>\n",
       "    <tr>\n",
       "      <th>611</th>\n",
       "      <td>4</td>\n",
       "      <td>3</td>\n",
       "      <td>145834</td>\n",
       "      <td>1.0</td>\n",
       "      <td>038.9</td>\n",
       "      <td>A41.9</td>\n",
       "    </tr>\n",
       "  </tbody>\n",
       "</table>\n",
       "</div>"
      ],
      "text/plain": [
       "        ROW_ID  SUBJECT_ID  HADM_ID  SEQ_NUM ICD9_CODE ICD10_CODE\n",
       "608          1           2   163353      1.0    V30.01     Z38.01\n",
       "609          2           2   163353      2.0     V05.3        Z23\n",
       "610          3           2   163353      3.0     V29.0      Z05.1\n",
       "746085  109376           2   163353      1.0     99.55    3E0134Z\n",
       "611          4           3   145834      1.0     038.9      A41.9"
      ]
     },
     "execution_count": 21,
     "metadata": {},
     "output_type": "execute_result"
    }
   ],
   "source": [
    "labeldf = labeldf.sort_values(['SUBJECT_ID', 'HADM_ID'])\n",
    "labeldf.head()"
   ]
  },
  {
   "cell_type": "code",
   "execution_count": 24,
   "id": "1c666453",
   "metadata": {},
   "outputs": [],
   "source": [
    "labeldf.to_csv('ALL_MAPPED_CODES.csv', index=False)"
   ]
  },
  {
   "cell_type": "code",
   "execution_count": 25,
   "id": "3715dfb4",
   "metadata": {},
   "outputs": [
    {
     "data": {
      "text/html": [
       "<div>\n",
       "<style scoped>\n",
       "    .dataframe tbody tr th:only-of-type {\n",
       "        vertical-align: middle;\n",
       "    }\n",
       "\n",
       "    .dataframe tbody tr th {\n",
       "        vertical-align: top;\n",
       "    }\n",
       "\n",
       "    .dataframe thead th {\n",
       "        text-align: right;\n",
       "    }\n",
       "</style>\n",
       "<table border=\"1\" class=\"dataframe\">\n",
       "  <thead>\n",
       "    <tr style=\"text-align: right;\">\n",
       "      <th></th>\n",
       "      <th>ROW_ID</th>\n",
       "      <th>SUBJECT_ID</th>\n",
       "      <th>HADM_ID</th>\n",
       "      <th>SEQ_NUM</th>\n",
       "      <th>ICD9_CODE</th>\n",
       "      <th>ICD10_CODE</th>\n",
       "    </tr>\n",
       "  </thead>\n",
       "  <tbody>\n",
       "    <tr>\n",
       "      <th>0</th>\n",
       "      <td>1</td>\n",
       "      <td>2</td>\n",
       "      <td>163353</td>\n",
       "      <td>1.0</td>\n",
       "      <td>V30.01</td>\n",
       "      <td>Z38.01</td>\n",
       "    </tr>\n",
       "    <tr>\n",
       "      <th>1</th>\n",
       "      <td>2</td>\n",
       "      <td>2</td>\n",
       "      <td>163353</td>\n",
       "      <td>2.0</td>\n",
       "      <td>V05.3</td>\n",
       "      <td>Z23</td>\n",
       "    </tr>\n",
       "    <tr>\n",
       "      <th>2</th>\n",
       "      <td>3</td>\n",
       "      <td>2</td>\n",
       "      <td>163353</td>\n",
       "      <td>3.0</td>\n",
       "      <td>V29.0</td>\n",
       "      <td>Z05.1</td>\n",
       "    </tr>\n",
       "    <tr>\n",
       "      <th>3</th>\n",
       "      <td>109376</td>\n",
       "      <td>2</td>\n",
       "      <td>163353</td>\n",
       "      <td>1.0</td>\n",
       "      <td>99.55</td>\n",
       "      <td>3E0134Z</td>\n",
       "    </tr>\n",
       "    <tr>\n",
       "      <th>4</th>\n",
       "      <td>4</td>\n",
       "      <td>3</td>\n",
       "      <td>145834</td>\n",
       "      <td>1.0</td>\n",
       "      <td>038.9</td>\n",
       "      <td>A41.9</td>\n",
       "    </tr>\n",
       "  </tbody>\n",
       "</table>\n",
       "</div>"
      ],
      "text/plain": [
       "   ROW_ID  SUBJECT_ID  HADM_ID  SEQ_NUM ICD9_CODE ICD10_CODE\n",
       "0       1           2   163353      1.0    V30.01     Z38.01\n",
       "1       2           2   163353      2.0     V05.3        Z23\n",
       "2       3           2   163353      3.0     V29.0      Z05.1\n",
       "3  109376           2   163353      1.0     99.55    3E0134Z\n",
       "4       4           3   145834      1.0     038.9      A41.9"
      ]
     },
     "execution_count": 25,
     "metadata": {},
     "output_type": "execute_result"
    }
   ],
   "source": [
    "labeldf = pd.read_csv('ALL_MAPPED_CODES.csv')\n",
    "labeldf.head()"
   ]
  },
  {
   "cell_type": "code",
   "execution_count": 26,
   "id": "642d5831",
   "metadata": {},
   "outputs": [
    {
     "data": {
      "text/plain": [
       "(52726, 58929)"
      ]
     },
     "execution_count": 26,
     "metadata": {},
     "output_type": "execute_result"
    }
   ],
   "source": [
    "len(noteeventsdf['HADM_ID'].unique()), len(labeldf['HADM_ID'].unique())"
   ]
  },
  {
   "cell_type": "code",
   "execution_count": 30,
   "id": "c5cf2ea7",
   "metadata": {},
   "outputs": [],
   "source": [
    "hadm_ids = set(noteeventsdf['HADM_ID'])\n",
    "with open('ALL_MAPPED_CODES.csv', 'r') as lf:\n",
    "    with open('ALL_CODES_filtered.csv', 'w') as of:\n",
    "        w = csv.writer(of)\n",
    "        w.writerow(['SUBJECT_ID', 'HADM_ID', 'ICD9_CODE','ICD10_CODE', 'ADMITTIME', 'DISCHTIME'])\n",
    "        r = csv.reader(lf)\n",
    "        next(r)\n",
    "        for i,row in enumerate(r):\n",
    "            hadm_id = int(row[2])\n",
    "            if hadm_id in hadm_ids:\n",
    "                w.writerow(row[1:3] + [row[-2],row[-1], '', ''])"
   ]
  },
  {
   "cell_type": "code",
   "execution_count": 64,
   "id": "faf9c1d5",
   "metadata": {},
   "outputs": [
    {
     "data": {
      "text/plain": [
       "52722"
      ]
     },
     "execution_count": 64,
     "metadata": {},
     "output_type": "execute_result"
    }
   ],
   "source": [
    "df = pd.read_csv('ALL_CODES_filtered.csv')\n",
    "len(df['HADM_ID'].unique())"
   ]
  },
  {
   "cell_type": "code",
   "execution_count": 65,
   "id": "adf7ac76",
   "metadata": {},
   "outputs": [
    {
     "data": {
      "text/plain": [
       "8884"
      ]
     },
     "execution_count": 65,
     "metadata": {},
     "output_type": "execute_result"
    }
   ],
   "source": [
    "len(df['ICD9_CODE'].unique())"
   ]
  },
  {
   "cell_type": "code",
   "execution_count": 40,
   "id": "532c4fef",
   "metadata": {},
   "outputs": [],
   "source": [
    "def next_labels(labelsfile):\n",
    "    labels_reader = csv.reader(labelsfile)\n",
    "    next(labels_reader)\n",
    "    next(labels_reader)\n",
    "    first_label_line = next(labels_reader)\n",
    "    cur_subj = int(first_label_line[0])\n",
    "    cur_hadm = int(float(first_label_line[1]))\n",
    "    cur_labels1 = [first_label_line[2]]\n",
    "    cur_labels2 = [first_label_line[3]]\n",
    "    flag = 0\n",
    "    for row in labels_reader:\n",
    "        flag += 1\n",
    "        if flag%2:\n",
    "            continue\n",
    "        subj_id = int(row[0])\n",
    "        hadm_id = int(float(row[1]))\n",
    "        code1 = row[2]\n",
    "        code2 = row[3]\n",
    "        if hadm_id != cur_hadm or subj_id != cur_subj:\n",
    "            yield cur_subj, cur_labels1,cur_labels2, cur_hadm\n",
    "            cur_labels1 = [code1]\n",
    "            cur_labels2 = [code2]\n",
    "            cur_subj = subj_id\n",
    "            cur_hadm = hadm_id\n",
    "        else:\n",
    "            cur_labels1.append(code1)\n",
    "            cur_labels2.append(code2)\n",
    "    yield cur_subj, cur_labels1,cur_labels1, cur_hadm\n",
    "\n",
    "def next_notes(notesfile):\n",
    "    nr = csv.reader(notesfile)\n",
    "    next(nr)\n",
    "    first_note = next(nr)\n",
    "    cur_subj = int(first_note[1])\n",
    "    cur_hadm = int(float(first_note[2]))\n",
    "    cur_text = first_note[-1]\n",
    "    for row in nr:\n",
    "        subj_id = int(row[1])\n",
    "        hadm_id = int(float(row[2]))\n",
    "        text = row[-1]\n",
    "        if hadm_id != cur_hadm or subj_id != cur_subj:\n",
    "            yield cur_subj, cur_text, cur_hadm\n",
    "            cur_text = text\n",
    "            cur_subj = subj_id\n",
    "            cur_hadm = hadm_id\n",
    "        else:\n",
    "            cur_text += \" \" + text\n",
    "    yield cur_subj, cur_text, cur_hadm"
   ]
  },
  {
   "cell_type": "code",
   "execution_count": 52,
   "id": "932abb19",
   "metadata": {},
   "outputs": [
    {
     "name": "stdout",
     "output_type": "stream",
     "text": [
      "CONCATENATING\n",
      "0 done\n",
      "10000 done\n",
      "147784 110220\n",
      "couldn't find matching hadm_id. data is probably not sorted correctly\n",
      "108144 142890\n",
      "couldn't find matching hadm_id. data is probably not sorted correctly\n",
      "20000 done\n",
      "185270 109963\n",
      "couldn't find matching hadm_id. data is probably not sorted correctly\n",
      "30000 done\n",
      "193503 182252\n",
      "couldn't find matching hadm_id. data is probably not sorted correctly\n",
      "40000 done\n",
      "50000 done\n"
     ]
    }
   ],
   "source": [
    "with open('ALL_CODES_filtered.csv', 'r') as lf:\n",
    "    print(\"CONCATENATING\")\n",
    "    with open('DISCHARGE_SUMMARY.csv', 'r') as notesfile:\n",
    "        with open('notes_labeled.csv', 'w') as outfile:\n",
    "            w = csv.writer(outfile)\n",
    "            w.writerow(['SUBJECT_ID', 'HADM_ID', 'TEXT', 'LABELS1','LABELS2'])\n",
    "            labels_gen = next_labels(lf)\n",
    "            notes_gen = next_notes(notesfile)\n",
    "            flag=True\n",
    "            for i, (subj_id, text, hadm_id) in enumerate(notes_gen):\n",
    "                if i % 10000 == 0:\n",
    "                    print(str(i) + \" done\")\n",
    "                if flag:\n",
    "                    cur_subj, cur_labels1,cur_labels2, cur_hadm = next(labels_gen)\n",
    "                if cur_hadm == hadm_id:\n",
    "                    flag=True\n",
    "                    w.writerow([subj_id, str(hadm_id), text, ';'.join(cur_labels1),';'.join(cur_labels2)])\n",
    "                else:\n",
    "                    flag=False\n",
    "                    print(cur_hadm,hadm_id)\n",
    "                    print(\"couldn't find matching hadm_id. data is probably not sorted correctly\")\n",
    "#                     break"
   ]
  },
  {
   "cell_type": "code",
   "execution_count": 53,
   "id": "1f80cd5e",
   "metadata": {},
   "outputs": [],
   "source": [
    "finaldf = pd.read_csv('notes_labeled.csv')"
   ]
  },
  {
   "cell_type": "code",
   "execution_count": 54,
   "id": "c0149c25",
   "metadata": {},
   "outputs": [
    {
     "data": {
      "text/html": [
       "<div>\n",
       "<style scoped>\n",
       "    .dataframe tbody tr th:only-of-type {\n",
       "        vertical-align: middle;\n",
       "    }\n",
       "\n",
       "    .dataframe tbody tr th {\n",
       "        vertical-align: top;\n",
       "    }\n",
       "\n",
       "    .dataframe thead th {\n",
       "        text-align: right;\n",
       "    }\n",
       "</style>\n",
       "<table border=\"1\" class=\"dataframe\">\n",
       "  <thead>\n",
       "    <tr style=\"text-align: right;\">\n",
       "      <th></th>\n",
       "      <th>SUBJECT_ID</th>\n",
       "      <th>HADM_ID</th>\n",
       "      <th>TEXT</th>\n",
       "      <th>LABELS1</th>\n",
       "      <th>LABELS2</th>\n",
       "    </tr>\n",
       "  </thead>\n",
       "  <tbody>\n",
       "    <tr>\n",
       "      <th>0</th>\n",
       "      <td>3</td>\n",
       "      <td>145834</td>\n",
       "      <td>Admission Date:  [**2101-10-20**]     Discharg...</td>\n",
       "      <td>038.9;785.59;584.9;427.5;410.71;428.0;682.6;42...</td>\n",
       "      <td>A41.9;R57.1;N17.9;I46.9;I21.4;I50.814;L03.119;...</td>\n",
       "    </tr>\n",
       "    <tr>\n",
       "      <th>1</th>\n",
       "      <td>4</td>\n",
       "      <td>185777</td>\n",
       "      <td>Admission Date:  [**2191-3-16**]     Discharge...</td>\n",
       "      <td>042;136.3;799.4;276.3;790.7;571.5;041.11;V09.0...</td>\n",
       "      <td>B20;B59;R64;E87.3;R78.81;K74.0;B95.61;Z16.11;E...</td>\n",
       "    </tr>\n",
       "    <tr>\n",
       "      <th>2</th>\n",
       "      <td>6</td>\n",
       "      <td>107064</td>\n",
       "      <td>Admission Date: [**2175-5-30**]        Dischar...</td>\n",
       "      <td>403.91;444.0;997.2;276.6;276.7;285.9;275.3;V15...</td>\n",
       "      <td>I12.0;444.0;T81.719A;276.6;E87.5;D64.9;E83.30;...</td>\n",
       "    </tr>\n",
       "    <tr>\n",
       "      <th>3</th>\n",
       "      <td>9</td>\n",
       "      <td>150750</td>\n",
       "      <td>Admission Date:  [**2149-11-9**]       Dischar...</td>\n",
       "      <td>431;507.0;428.0;584.9;276.5;401.9;96.72;96.04</td>\n",
       "      <td>I61.9;J69.0;I50.814;N17.9;276.5;I10;5A1955Z;0B...</td>\n",
       "    </tr>\n",
       "    <tr>\n",
       "      <th>4</th>\n",
       "      <td>10</td>\n",
       "      <td>184167</td>\n",
       "      <td>Admission Date:  [**2103-6-28**]       Dischar...</td>\n",
       "      <td>V30.00;774.2;765.25;765.15;V29.0;99.83;99.15;96.6</td>\n",
       "      <td>Z38.00;P59.0;P07.32;P07.15;Z05.1;6A600ZZ;3E033...</td>\n",
       "    </tr>\n",
       "  </tbody>\n",
       "</table>\n",
       "</div>"
      ],
      "text/plain": [
       "   SUBJECT_ID  HADM_ID                                               TEXT  \\\n",
       "0           3   145834  Admission Date:  [**2101-10-20**]     Discharg...   \n",
       "1           4   185777  Admission Date:  [**2191-3-16**]     Discharge...   \n",
       "2           6   107064  Admission Date: [**2175-5-30**]        Dischar...   \n",
       "3           9   150750  Admission Date:  [**2149-11-9**]       Dischar...   \n",
       "4          10   184167  Admission Date:  [**2103-6-28**]       Dischar...   \n",
       "\n",
       "                                             LABELS1  \\\n",
       "0  038.9;785.59;584.9;427.5;410.71;428.0;682.6;42...   \n",
       "1  042;136.3;799.4;276.3;790.7;571.5;041.11;V09.0...   \n",
       "2  403.91;444.0;997.2;276.6;276.7;285.9;275.3;V15...   \n",
       "3      431;507.0;428.0;584.9;276.5;401.9;96.72;96.04   \n",
       "4  V30.00;774.2;765.25;765.15;V29.0;99.83;99.15;96.6   \n",
       "\n",
       "                                             LABELS2  \n",
       "0  A41.9;R57.1;N17.9;I46.9;I21.4;I50.814;L03.119;...  \n",
       "1  B20;B59;R64;E87.3;R78.81;K74.0;B95.61;Z16.11;E...  \n",
       "2  I12.0;444.0;T81.719A;276.6;E87.5;D64.9;E83.30;...  \n",
       "3  I61.9;J69.0;I50.814;N17.9;276.5;I10;5A1955Z;0B...  \n",
       "4  Z38.00;P59.0;P07.32;P07.15;Z05.1;6A600ZZ;3E033...  "
      ]
     },
     "execution_count": 54,
     "metadata": {},
     "output_type": "execute_result"
    }
   ],
   "source": [
    "finaldf.head()"
   ]
  },
  {
   "cell_type": "code",
   "execution_count": 55,
   "id": "7f22cbd2",
   "metadata": {},
   "outputs": [
    {
     "data": {
      "text/plain": [
       "52722"
      ]
     },
     "execution_count": 55,
     "metadata": {},
     "output_type": "execute_result"
    }
   ],
   "source": [
    "len(finaldf['HADM_ID'].unique())"
   ]
  },
  {
   "cell_type": "code",
   "execution_count": 58,
   "id": "f401b33f",
   "metadata": {},
   "outputs": [
    {
     "data": {
      "text/plain": [
       "SUBJECT_ID                                                    3\n",
       "HADM_ID                                                  145834\n",
       "TEXT          Admission Date:  [**2101-10-20**]     Discharg...\n",
       "LABELS1       038.9;785.59;584.9;427.5;410.71;428.0;682.6;42...\n",
       "LABELS2       A41.9;R57.1;N17.9;I46.9;I21.4;I50.814;L03.119;...\n",
       "Name: 0, dtype: object"
      ]
     },
     "execution_count": 58,
     "metadata": {},
     "output_type": "execute_result"
    }
   ],
   "source": [
    "finaldf.iloc[0]"
   ]
  },
  {
   "cell_type": "markdown",
   "id": "a6ace35d",
   "metadata": {},
   "source": [
    "### Preprocess Text"
   ]
  },
  {
   "cell_type": "code",
   "execution_count": 84,
   "id": "a816155f",
   "metadata": {},
   "outputs": [],
   "source": [
    "df  = pd.read_csv('notes_labeled.csv')"
   ]
  },
  {
   "cell_type": "code",
   "execution_count": 85,
   "id": "420c475f",
   "metadata": {},
   "outputs": [
    {
     "data": {
      "text/html": [
       "<div>\n",
       "<style scoped>\n",
       "    .dataframe tbody tr th:only-of-type {\n",
       "        vertical-align: middle;\n",
       "    }\n",
       "\n",
       "    .dataframe tbody tr th {\n",
       "        vertical-align: top;\n",
       "    }\n",
       "\n",
       "    .dataframe thead th {\n",
       "        text-align: right;\n",
       "    }\n",
       "</style>\n",
       "<table border=\"1\" class=\"dataframe\">\n",
       "  <thead>\n",
       "    <tr style=\"text-align: right;\">\n",
       "      <th></th>\n",
       "      <th>SUBJECT_ID</th>\n",
       "      <th>HADM_ID</th>\n",
       "      <th>TEXT</th>\n",
       "      <th>LABELS1</th>\n",
       "      <th>LABELS2</th>\n",
       "    </tr>\n",
       "  </thead>\n",
       "  <tbody>\n",
       "    <tr>\n",
       "      <th>0</th>\n",
       "      <td>3</td>\n",
       "      <td>145834</td>\n",
       "      <td>Admission Date:  [**2101-10-20**]     Discharg...</td>\n",
       "      <td>038.9;785.59;584.9;427.5;410.71;428.0;682.6;42...</td>\n",
       "      <td>A41.9;R57.1;N17.9;I46.9;I21.4;I50.814;L03.119;...</td>\n",
       "    </tr>\n",
       "    <tr>\n",
       "      <th>1</th>\n",
       "      <td>4</td>\n",
       "      <td>185777</td>\n",
       "      <td>Admission Date:  [**2191-3-16**]     Discharge...</td>\n",
       "      <td>042;136.3;799.4;276.3;790.7;571.5;041.11;V09.0...</td>\n",
       "      <td>B20;B59;R64;E87.3;R78.81;K74.0;B95.61;Z16.11;E...</td>\n",
       "    </tr>\n",
       "    <tr>\n",
       "      <th>2</th>\n",
       "      <td>6</td>\n",
       "      <td>107064</td>\n",
       "      <td>Admission Date: [**2175-5-30**]        Dischar...</td>\n",
       "      <td>403.91;444.0;997.2;276.6;276.7;285.9;275.3;V15...</td>\n",
       "      <td>I12.0;444.0;T81.719A;276.6;E87.5;D64.9;E83.30;...</td>\n",
       "    </tr>\n",
       "    <tr>\n",
       "      <th>3</th>\n",
       "      <td>9</td>\n",
       "      <td>150750</td>\n",
       "      <td>Admission Date:  [**2149-11-9**]       Dischar...</td>\n",
       "      <td>431;507.0;428.0;584.9;276.5;401.9;96.72;96.04</td>\n",
       "      <td>I61.9;J69.0;I50.814;N17.9;276.5;I10;5A1955Z;0B...</td>\n",
       "    </tr>\n",
       "    <tr>\n",
       "      <th>4</th>\n",
       "      <td>10</td>\n",
       "      <td>184167</td>\n",
       "      <td>Admission Date:  [**2103-6-28**]       Dischar...</td>\n",
       "      <td>V30.00;774.2;765.25;765.15;V29.0;99.83;99.15;96.6</td>\n",
       "      <td>Z38.00;P59.0;P07.32;P07.15;Z05.1;6A600ZZ;3E033...</td>\n",
       "    </tr>\n",
       "  </tbody>\n",
       "</table>\n",
       "</div>"
      ],
      "text/plain": [
       "   SUBJECT_ID  HADM_ID                                               TEXT  \\\n",
       "0           3   145834  Admission Date:  [**2101-10-20**]     Discharg...   \n",
       "1           4   185777  Admission Date:  [**2191-3-16**]     Discharge...   \n",
       "2           6   107064  Admission Date: [**2175-5-30**]        Dischar...   \n",
       "3           9   150750  Admission Date:  [**2149-11-9**]       Dischar...   \n",
       "4          10   184167  Admission Date:  [**2103-6-28**]       Dischar...   \n",
       "\n",
       "                                             LABELS1  \\\n",
       "0  038.9;785.59;584.9;427.5;410.71;428.0;682.6;42...   \n",
       "1  042;136.3;799.4;276.3;790.7;571.5;041.11;V09.0...   \n",
       "2  403.91;444.0;997.2;276.6;276.7;285.9;275.3;V15...   \n",
       "3      431;507.0;428.0;584.9;276.5;401.9;96.72;96.04   \n",
       "4  V30.00;774.2;765.25;765.15;V29.0;99.83;99.15;96.6   \n",
       "\n",
       "                                             LABELS2  \n",
       "0  A41.9;R57.1;N17.9;I46.9;I21.4;I50.814;L03.119;...  \n",
       "1  B20;B59;R64;E87.3;R78.81;K74.0;B95.61;Z16.11;E...  \n",
       "2  I12.0;444.0;T81.719A;276.6;E87.5;D64.9;E83.30;...  \n",
       "3  I61.9;J69.0;I50.814;N17.9;276.5;I10;5A1955Z;0B...  \n",
       "4  Z38.00;P59.0;P07.32;P07.15;Z05.1;6A600ZZ;3E033...  "
      ]
     },
     "execution_count": 85,
     "metadata": {},
     "output_type": "execute_result"
    }
   ],
   "source": [
    "df.head()"
   ]
  },
  {
   "cell_type": "code",
   "execution_count": 86,
   "id": "3d4cc989",
   "metadata": {},
   "outputs": [
    {
     "data": {
      "text/plain": [
       "\"Admission Date:  [**2101-10-20**]     Discharge Date:  [**2101-10-31**]\\r\\n\\r\\nDate of Birth:   [**2025-4-11**]     Sex:  M\\r\\n\\r\\nService:  Medicine\\r\\n\\r\\nCHIEF COMPLAINT:  Admitted from rehabilitation for\\r\\nhypotension (systolic blood pressure to the 70s) and\\r\\ndecreased urine output.\\r\\n\\r\\nHISTORY OF PRESENT ILLNESS:  The patient is a 76-year-old\\r\\nmale who had been hospitalized at the [**Hospital1 190**] from [**10-11**] through [**10-19**] of [**2101**]\\r\\nafter undergoing a left femoral-AT bypass graft and was\\r\\nsubsequently discharged to a rehabilitation facility.\\r\\n\\r\\nOn [**2101-10-20**], he presented again to the [**Hospital1 346**] after being found to have a systolic\\r\\nblood pressure in the 70s and no urine output for 17 hours.\\r\\nA Foley catheter placed at the rehabilitation facility\\r\\nyielded 100 cc of murky/brown urine.  There may also have\\r\\nbeen purulent discharge at the penile meatus at this time.\\r\\n\\r\\nOn presentation to the Emergency Department, the patient was\\r\\nwithout subjective complaints.  In the Emergency Department,\\r\\nhe was found to have systolic blood pressure of 85.  He was\\r\\ngiven 6 liters of intravenous fluids and transiently started\\r\\non dopamine for a systolic blood pressure in the 80.s\\r\\n\\r\\nPAST MEDICAL HISTORY:\\r\\n 1.  Coronary artery disease with diffuse 3-vessel disease;\\r\\nright-dominant, status post proximal left circumflex stent in\\r\\n[**2101-7-9**] with occlusion of the distal left circumflex;\\r\\nstatus post right coronary artery stent on [**2101-8-26**] (no\\r\\npercutaneous coronary intervention to 99% diagonal left\\r\\ncircumflex, 80% small proximal left anterior descending\\r\\nartery, or 80% small distal left anterior descending artery).\\r\\n 2.  Congestive heart failure (with an ejection fraction\\r\\nof 15% to 20%).\\r\\n 3.  Type 2 diabetes with neuropathy.\\r\\n 4.  Hypertension.\\r\\n 5.  Diverticulosis (found on colonoscopy in [**2101-7-9**]).\\r\\n 6.  Alzheimer's dementia.\\r\\n 7.  History of gastrointestinal bleed (while the patient was\\r\\ntaking eptifibatide).\\r\\n 8.  Cardiac risk factors (with a baseline creatinine\\r\\nof 1.4 to 1.6).\\r\\n 9.  Hypercholesterolemia.\\r\\n10.  History of methicillin-resistant Staphylococcus aureus\\r\\nand Pseudomonas growth in wound cultures.\\r\\n11.  Severe peripheral vascular disease; status post left\\r\\nfemoral-AT bypass graft on [**2101-10-11**].\\r\\n12.  Chronic nonhealing foot ulcers.\\r\\n13.  Recent right pedal cellulitis.\\r\\n\\r\\nALLERGIES:  The patient has no known drug allergies.\\r\\n\\r\\nMEDICATIONS ON ADMISSION:\\r\\n 1.  Vancomycin 1 g intravenously q.24h. for a level of less\\r\\nthan 15 (started on [**2101-10-4**]).\\r\\n 2.  Levofloxacin 250 mg p.o. q.d. (started on [**2101-10-4**]).\\r\\n 3.  Metronidazole 500 mg p.o. q.8h. (started on [**2101-10-4**]).\\r\\n 4.  Heparin 5000 units subcutaneous b.i.d.\\r\\n 5.  Simvastatin 40 mg p.o. q.d.\\r\\n 6.  Lisinopril 5 mg p.o. q.d.\\r\\n 7.  Furosemide 40 mg p.o. q.d.\\r\\n 8.  Vitamin E 400 IU p.o. q.d.\\r\\n 9.  Atenolol 25 mg p.o. q.d.\\r\\n10.  Pantoprazole 40 mg p.o. q.d.\\r\\n11.  Ascorbic acid 500 mg p.o. b.i.d.\\r\\n12.  NPH 17 units b.i.d.\\r\\n13.  Regular insulin sliding-scale.\\r\\n14.  Bisacodyl 10 mg p.o./p.r. as needed.\\r\\n15.  Docusate 100 mg p.o. b.i.d.\\r\\n16.  Percocet 5/325 mg one tablet p.o. q.4-6h. as needed for\\r\\npain.\\r\\n17.  Aspirin 81 mg p.o. q.d.\\r\\n18.  Metoprolol 75 mg p.o. b.i.d.\\r\\n\\r\\nSOCIAL HISTORY:  The patient is retired and had been living\\r\\nat home with his wife prior to his admission to the hospital\\r\\non [**2101-10-11**]; he had been living at [**Hospital3 1761**] for the day prior to admission.  He is a\\r\\nsocial drinker and has a 40-pack-year smoking history;\\r\\nalthough, he quit smoking 20 years ago.\\r\\n\\r\\nPHYSICAL EXAMINATION ON PRESENTATION:   Initial physical\\r\\nexamination revealed temperature was 96.1 degrees Fahrenheit,\\r\\nheart rate was 83, blood pressure was 124/42 (following\\r\\nadministration of 3 liters of normal saline), respiratory\\r\\nwas 24, and his oxygen saturation was 100% on 2 liters nasal\\r\\ncannula.  His heart had a regular rate and rhythm.  There\\r\\nwere normal first and second heart sounds.  There was a 2/6\\r\\nsystolic ejection murmur, and there were no rubs or gallops.\\r\\nHis lungs were clear to auscultation bilaterally.  His\\r\\nabdomen was soft, nontender, and nondistended, and there were\\r\\nhypoactive bowel sounds.  He had a palpable bypass graft\\r\\npulse, [**Hospital3 17394**] dorsalis pedis and posterior tibialis\\r\\npulses bilaterally; and his surgical incision was clean, dry,\\r\\nand intact.  Please note that the above examination was done\\r\\nby the Vascular Surgery team, which was the team that was\\r\\ninitially planning to admit the patient to the hospital.\\r\\n\\r\\nPERTINENT LABORATORY DATA ON PRESENTATION:  On initial\\r\\nlaboratory evaluation the patient had a white blood cell\\r\\ncount of 12.7, hematocrit was 30.2, and platelets\\r\\nwere 282,000.  His PT was 13.5, PTT was 30.7, and INR\\r\\nwas 1.3.  His serum chemistries revealed sodium was 136,\\r\\npotassium was 5.4, chloride was 99, bicarbonate was 25, blood\\r\\nurea nitrogen was 53, creatinine was 3.2, and blood glucose\\r\\nwas 91.  His calcium was 8.2, magnesium was 2.4, and\\r\\nphosphate was 4.8.  Blood cultures drawn on admission were\\r\\npending, but ultimately negative.  A urine culture taken on\\r\\nadmission was initially pending, but ultimately grew out\\r\\nyeast.  A sputum culture taken on admission was also\\r\\ninitially pending, but ultimately also grew out yeast.\\r\\n\\r\\nRADIOLOGY/IMAGING:  His admission chest x-ray demonstrated\\r\\nstable prominence of the right main pulmonary artery; no\\r\\nfocal areas of consolidation; overall stable appearance of\\r\\nthe chest compared with a [**2101-10-15**] study.  No\\r\\nradiographic evidence of congestive heart failure or\\r\\npneumonia.\\r\\n\\r\\nHis admission electrocardiogram demonstrated a sinus rhythm,\\r\\nnonspecific inferior/lateral T wave changes, low QRS voltages\\r\\nin the limb leads, and T wave changes in V5 and V6 when\\r\\ncompared with an electrocardiogram dated [**2101-10-12**].\\r\\n\\r\\nAn initial abdominal CT was a limited noncontrast examination\\r\\nthat demonstrated diffuse vascular calcifications.  No\\r\\nevidence of an abdominal aortic aneurysm or free fluid,\\r\\nincompletely imaged coronary artery calcification, a simple\\r\\nleft renal cyst, sigmoid diverticulosis, and an enlarged and\\r\\npartially calcified prostate gland.\\r\\n\\r\\nHOSPITAL COURSE BY SYSTEM:\\r\\n\\r\\n1.  CARDIOVASCULAR:  The patient was initially admitted to\\r\\nthe Vascular Intensive Care Unit with hypotension, decreased\\r\\nurine output, and acute renal failure; most likely secondary\\r\\nto a presumed gram-negative urosepsis (although there were\\r\\nnever any positive culture data to confirm this diagnosis).\\r\\n\\r\\nWhile boarding in the Medical Intensive Care Unit on the\\r\\nnight of admission, the patient had a sudden\\r\\ncardiorespiratory arrest.  He was resuscitated with\\r\\nepinephrine, lidocaine, and direct current cardioversion\\r\\ntimes four.  He was also intubate for airway protection.\\r\\n\\r\\nFollowing these measures, the patient returned to a sinus\\r\\nrhythm with a systolic blood pressure of approximately 100;\\r\\nthe total time elapsed from the beginning of the arrest to\\r\\nthe return of a pulse was approximately 16 minutes.  He\\r\\nsubsequently required double pressors to maintain his blood\\r\\npressure.\\r\\n\\r\\nAn echocardiogram performed at the bedside demonstrated a\\r\\ntrivial pericardial effusion and a left ventricular ejection\\r\\nfraction of 20% to 25% in the setting of tachycardia and a\\r\\nhyperdynamic right ventricle; suggesting elevated right-sided\\r\\nfilling pressures.  Although the definitive etiology of this\\r\\narrest remained unknown, the most likely trigger was a\\r\\nnon-Q-wave myocardial infarction, as his troponin values were\\r\\nelevated to greater than 50 following his arrest.\\r\\n\\r\\nA repeat echocardiogram done on [**2101-10-21**]\\r\\ndemonstrated mild left atrial dilation, an ejection fraction\\r\\nof 15% to 20%, resting regional wall motion abnormalities\\r\\nincluding inferior, mid, and apical left ventricular\\r\\nakinesis, depressed right ventricular systolic function, and\\r\\nmoderate mitral regurgitation.  Compared with the prior study\\r\\nof [**2101-10-20**]; the left ventricular function was\\r\\nunchanged.  There was moderate mitral regurgitation, and the\\r\\nright ventricular function appeared worse.\\r\\n\\r\\nOn [**2101-10-21**], the patient was loaded with amiodarone\\r\\nand was subsequently started on oral amiodarone.  The\\r\\nfollowing day, he was started on heparin intravenously given\\r\\nhis elevated serum troponin to greater than 50; this\\r\\nmedication was continued for 72 hours.  Given his elevated\\r\\ntroponins and non-Q-wave myocardial infarction, the patient\\r\\nwas a candidate for cardiac catheterization.\\r\\n\\r\\nAfter discussions between the Medical Intensive Care Unit\\r\\nteam and the patient's family, however, the decision was made\\r\\nto not pursue further invasive procedures given that the\\r\\npatient had been made do not resuscitate/do not intubate\\r\\nfollowing the resuscitation mentioned above, and his family\\r\\nno longer wished for aggressive resuscitating measures.\\r\\n\\r\\nBy [**2101-10-23**], he was off pressors and he was\\r\\nrestarted on a beta blocker and ACE inhibitor at low doses.\\r\\n\\r\\nOn the evening of [**2101-10-25**], the patient complained\\r\\nof substernal chest pain that was relieved by NPG SL and\\r\\nmorphine.  He also had ST segment depressions in V2 and V3\\r\\nthat reverted to baseline after the resolution of his pain.\\r\\nTherefore, the patient was again started on heparin;\\r\\nalthough, this was discontinued on [**2101-10-26**] when\\r\\nthe patient ruled out for a myocardial infarction by cardiac\\r\\nenzymes.  He again had substernal chest pain on [**2101-10-27**]; although, he had no electrocardiogram changes, and he\\r\\nagain ruled out for a myocardial infarction by cardiac\\r\\nenzymes.\\r\\n\\r\\nBy hospital day four, the patient began to develop evidence\\r\\nof congestive heart failure given his aggressive fluid\\r\\nresuscitation, and gentle diuresis with furosemide was begun.\\r\\nBy the time of his transfer to the General Medicine Service\\r\\non [**2101-10-26**], the patient was still significantly\\r\\nvolume overloaded following his aggressive fluid\\r\\nresuscitation in the Medical Intensive Care Unit.  Therefore,\\r\\nhe was continued on the program of gentle diuresis given that\\r\\nhe was having signs and symptoms of right-sided congestive\\r\\nheart failure.  He achieved adequate diuresis by the time of\\r\\nhis discharge to rehabilitation, as his oxygen saturation was\\r\\ngreater than 95% on 2 liters nasal cannula.\\r\\n\\r\\n2.  INFECTIOUS DISEASE/SEPSIS:  The patient was started on\\r\\ngentamicin and piperacillin/tazobactam in addition to the\\r\\nlevofloxacin, metronidazole, and vancomycin he was already\\r\\ntaking for right lower extremity cellulitis prior to\\r\\nadmission for empiric coverage of a presumed gram-negative\\r\\nurosepsis, and he was aggressively hydrated with intravenous\\r\\nfluids.\\r\\n\\r\\nOn [**2101-10-21**], his levofloxacin and metronidazole was\\r\\ndiscontinued, and he was started on fluconazole given the\\r\\ngrowth of yeast on urine culture.  He was taken off of\\r\\ngentamicin on hospital day three, and his fluconazole was\\r\\ndiscontinued on hospital day five (as per the Infectious\\r\\nDisease Service).  He was taken off of vancomycin on\\r\\n[**2101-10-28**], and his piperacillin/tazobactam was\\r\\ndiscontinued on [**2101-10-29**].\\r\\n\\r\\nDespite the presumption of a gram-negative urosepsis\\r\\nprecipitating this admission, the patient did not have any\\r\\npositive blood or urine cultures aside from the growth of\\r\\nyeast in two urine cultures noted above.  He remained\\r\\nafebrile both before and after discontinuation of his\\r\\nantibiotics, and he was found to be Clostridium difficile\\r\\nnegative on [**2101-10-28**].\\r\\n\\r\\n3.  PULMONARY:  As noted above, the patient was intubated and\\r\\nhe was extubated on [**2101-10-24**].  He subsequently\\r\\ndeveloped wheezing and mild hypoxia; most likely secondary to\\r\\ncardiac asthma and fluid overload in the setting of his\\r\\naggressive fluid resuscitation.  He was gently diuresed\\r\\ntoward the end of his hospitalization, and by the time of his\\r\\nhe was maintaining an oxygen saturation of greater than 95%\\r\\non 2 liters nasal cannula, intermittent ipratropium\\r\\nnebulizers, and chest physical therapy for clearance of his\\r\\nrespiratory secretions.\\r\\n\\r\\n4.  RENAL:  The patient presented with acute renal failure\\r\\nand prerenal azotemia that rapidly resolved following fluid\\r\\nresuscitation.  By the time of discharge, his serum\\r\\ncreatinine was stable and at his preadmission baseline.\\r\\n\\r\\n5.  NUTRITION:  The patient was found to be profoundly\\r\\nmalnourished with a serum albumin of 1.8 on admission.  Once\\r\\nhe was extubated and taking orals, he performed poorly on a\\r\\nmodified barium swallowing study and was started on a thin\\r\\nliquid, ground-solid diet with whole medication tablets,\\r\\nsmall bites and sips, upright posture with meals, and\\r\\naspiration precautions.  He was also given ProMod shakes with\\r\\nand between meals for nutritional supplementation of his\\r\\nheart-healthy/diabetic diet.\\r\\n\\r\\n6.  VASCULAR:  The patient's operative incisions and foot\\r\\nulcers continued to heal throughout this admission.  He was\\r\\nstarted on an multivitamin, vitamin C, and zinc for improved\\r\\nwound healing.\\r\\n\\r\\n7.  HEMATOLOGY:  The patient was transfused one unit of\\r\\npacked red blood cells on [**2101-10-27**] to maintain a\\r\\nhematocrit of greater than 30 given his history of severe\\r\\ncoronary artery disease.  His hematocrit subsequently\\r\\nremained stable.\\r\\n\\r\\nCONDITION AT DISCHARGE:  Condition on discharge was stable.\\r\\n\\r\\nDISCHARGE STATUS:  [**First Name4 (NamePattern1) 1188**] [**Last Name (NamePattern1) **] rehabilitation facility.\\r\\n\\r\\nDISCHARGE DIAGNOSES:\\r\\n 1.  Cardiorespiratory arrest.\\r\\n 2.  Non-Q-wave myocardial infarction.\\r\\n 3.  Acute renal failure.\\r\\n 4.  Coronary artery disease with diffuse 3-vessel disease;\\r\\nright-dominant, status post proximal left circumflex stent in\\r\\n[**2101-7-9**] with occlusion of distal left circumflex; status\\r\\npost right coronary artery stent on [**2101-10-27**] (no\\r\\npercutaneous coronary intervention to 99%, distal left\\r\\ncircumflex, 80% small proximal left anterior descending\\r\\nartery, 80% small distal left anterior descending artery).\\r\\n 5.  Congestive heart failure (with an ejection fraction\\r\\nof 15% to 20%).\\r\\n 6.  Type 2 diabetes with neuropathy.\\r\\n 7.  Hypertension.\\r\\n 8.  Diverticulosis (found on colonoscopy in [**2101-7-9**]).\\r\\n 9.  Alzheimer's dementia.\\r\\n10.  History of gastrointestinal bleed (while the patient was\\r\\ntaking eptifibatide).\\r\\n11.  Cardiac risk factors (with a baseline creatinine\\r\\nof 1.4 to 1.6).\\r\\n12.  History of methicillin-resistant Staphylococcus aureus\\r\\nand Pseudomonas growth in wound cultures.\\r\\n13.  Severe peripheral vascular disease; status post left\\r\\nfemoral-AT bypass graft on [**2101-10-11**].\\r\\n14.  Chronic nonhealing foot ulcers.\\r\\n\\r\\nMEDICATIONS ON DISCHARGE:\\r\\n 1.  Amiodarone 400 mg p.o. b.i.d. (through [**2101-11-2**]), then 400 mg p.o. q.d. (times one week), then 200 mg\\r\\np.o. q.d.\\r\\n 2.  Metoprolol 50 mg p.o. b.i.d.\\r\\n 3.  Captopril 6.25 mg p.o. t.i.d.\\r\\n 4.  Aspirin 325 mg p.o. q.d.\\r\\n 5.  Pantoprazole 40 mg p.o. q.d.\\r\\n 6.  Heparin 5000 units subcutaneously b.i.d.\\r\\n 7.  Multivitamin one tablet p.o. q.d.\\r\\n 8.  Zinc sulfate 220 mg p.o. q.d.\\r\\n 9.  Vitamin C 500 mg p.o. q.d.\\r\\n10.  Ipratropium nebulizers q.4-6h. as needed (for wheezing).\\r\\n11.  Acetaminophen 325 mg to 650 mg p.o. q.4-6h. as needed\\r\\n(for pain).\\r\\n12.  Miconazole 2% powder to groin b.i.d.\\r\\n13.  Santyl lotion to heels b.i.d.\\r\\n14.  Regular insulin sliding-scale.\\r\\n\\r\\nCODE STATUS:  Do not resuscitate/do not intubate.\\r\\n\\r\\nNOTE:  If applicable, an addendum to this Discharge Summary\\r\\nwill be dictated to include follow-up appointments as well as\\r\\nany changes to the medication list noted above.\\r\\n\\r\\n\\r\\n\\r\\n\\r\\n\\r\\n\\r\\n                          [**First Name11 (Name Pattern1) **] [**Last Name (NamePattern4) 1604**], M.D.  [**MD Number(1) 1605**]\\r\\n\\r\\nDictated By:[**Name8 (MD) 2507**]\\r\\n\\r\\nMEDQUIST36\\r\\n\\r\\nD:  [**2101-10-31**]  01:07\\r\\nT:  [**2101-11-5**]  03:44\\r\\nJOB#:  [**Job Number **]\\r\\n\""
      ]
     },
     "execution_count": 86,
     "metadata": {},
     "output_type": "execute_result"
    }
   ],
   "source": [
    "df.iloc[0,2]"
   ]
  },
  {
   "cell_type": "code",
   "execution_count": 98,
   "id": "d41cdee2",
   "metadata": {},
   "outputs": [
    {
     "data": {
      "text/plain": [
       "'sex m medicine chief complaint admitted from rehabilitation for hypotension systolic blood pressure to the 70s and decreased urine output history of present illness the patient is a 76 year old male who had been hospitalized at the after undergoing a left femoral at bypass graft and was subsequently discharged to a rehabilitation facility on after being found to have a systolic blood pressure in the 70s and no urine output for 17 hours a foley catheter placed at the rehabilitation facility yielded 100 cc of murky brown urine there may also have been purulent discharge at the penile meatus at this time on presentation to the emergency department the patient was without subjective complaints in the emergency department he was found to have systolic blood pressure of 85 he was given 6 liters of intravenous fluids and transiently started on dopamine for a systolic blood pressure in the 80s past medical history 1 coronary artery disease with diffuse 3 vessel disease right dominant status post proximal left circumflex stent in with occlusion of the distal left circumflex status post right coronary artery stent on no percutaneous coronary intervention to 99 diagonal left circumflex 80 small proximal left anterior descending artery or 80 small distal left anterior descending artery 2 congestive heart failure with an ejection fraction of 15 to 20 3 type 2 diabetes with neuropathy 4 hypertension 5 diverticulosis found on colonoscopy in 6 alzheimer s dementia 7 history of gastrointestinal bleed while the patient was taking eptifibatide 8 cardiac risk factors with a baseline creatinine of 14 to 16 9 hypercholesterolemia 10 history of methicillin resistant staphylococcus aureus and pseudomonas growth in wound cultures 11 severe peripheral vascular disease status post left femoral at bypass graft on 12 chronic nonhealing foot ulcers 13 recent right pedal cellulitis allergies the patient has no known drug allergies medications on admission 1 vancomycin 1 g intravenously q24h for a level of less than 15 started on 2 levofloxacin 250 mg po qd started on 3 metronidazole 500 mg po q8h started on 4 heparin 5000 units subcutaneous bid 5 simvastatin 40 mg po qd 6 lisinopril 5 mg po qd 7 furosemide 40 mg po qd 8 vitamin e 400 iu po qd 9 atenolol 25 mg po qd 10 pantoprazole 40 mg po qd 11 ascorbic acid 500 mg po bid 12 nph 17 units bid 13 regular insulin sliding scale 14 bisacodyl 10 mg po pr as needed 15 docusate 100 mg po bid 16 percocet 5 325 mg one tablet po q4 6h as needed for pain 17 aspirin 81 mg po qd 18 metoprolol 75 mg po bid social history the patient is retired and had been living at home with his wife prior to his admission to the hospital on for the day prior to admission he is a social drinker and has a 40 pack year smoking history although he quit smoking 20 years ago physical examination on presentation initial physical examination revealed temperature was 961 degrees fahrenheit heart rate was 83 blood pressure was 124 42 following administration of 3 liters of normal saline respiratory was 24 and his oxygen saturation was 100 on 2 liters nasal cannula his heart had a regular rate and rhythm there were normal first and second heart sounds there was a 2 6 systolic ejection murmur and there were no rubs or gallops his lungs were clear to auscultation bilaterally his abdomen was soft nontender and nondistended and there were hypoactive bowel sounds he had a palpable bypass graft pulse dorsalis pedis and posterior tibialis pulses bilaterally and his surgical incision was clean dry and intact please note that the above examination was done by the vascular surgery team which was the team that was initially planning to admit the patient to the hospital pertinent laboratory data on presentation on initial laboratory evaluation the patient had a white blood cell count of 127 hematocrit was 302 and platelets were 282 000 his pt was 135 ptt was 307 and inr was 13 his serum chemistries revealed sodium was 136 potassium was 54 chloride was 99 bicarbonate was 25 blood urea nitrogen was 53 creatinine was 32 and blood glucose was 91 his calcium was 82 magnesium was 24 and phosphate was 48 blood cultures drawn on admission were pending but ultimately negative a urine culture taken on admission was initially pending but ultimately grew out yeast a sputum culture taken on admission was also initially pending but ultimately also grew out yeast radiology imaging his admission chest x ray demonstrated stable prominence of the right main pulmonary artery no focal areas of consolidation overall stable appearance of the chest compared with a study no radiographic evidence of congestive heart failure or pneumonia his admission electrocardiogram demonstrated a sinus rhythm nonspecific inferior lateral t wave changes low qrs voltages in the limb leads and t wave changes in v5 and v6 when compared with an electrocardiogram dated an initial abdominal ct was a limited noncontrast examination that demonstrated diffuse vascular calcifications no evidence of an abdominal aortic aneurysm or free fluid incompletely imaged coronary artery calcification a simple left renal cyst sigmoid diverticulosis and an enlarged and partially calcified prostate gland hospital course by system 1 cardiovascular the patient was initially admitted to the vascular intensive care unit with hypotension decreased urine output and acute renal failure most likely secondary to a presumed gram negative urosepsis although there were never any positive culture data to confirm this diagnosis while boarding in the medical intensive care unit on the night of admission the patient had a sudden cardiorespiratory arrest he was resuscitated with epinephrine lidocaine and direct current cardioversion times four he was also intubate for airway protection following these measures the patient returned to a sinus rhythm with a systolic blood pressure of approximately 100 the total time elapsed from the beginning of the arrest to the return of a pulse was approximately 16 minutes he subsequently required double pressors to maintain his blood pressure an echocardiogram performed at the bedside demonstrated a trivial pericardial effusion and a left ventricular ejection fraction of 20 to 25 in the setting of tachycardia and a hyperdynamic right ventricle suggesting elevated right sided filling pressures although the definitive etiology of this arrest remained unknown the most likely trigger was a non q wave myocardial infarction as his troponin values were elevated to greater than 50 following his arrest a repeat echocardiogram done on demonstrated mild left atrial dilation an ejection fraction of 15 to 20 resting regional wall motion abnormalities including inferior mid and apical left ventricular akinesis depressed right ventricular systolic function and moderate mitral regurgitation compared with the prior study of the left ventricular function was unchanged there was moderate mitral regurgitation and the right ventricular function appeared worse on the patient was loaded with amiodarone and was subsequently started on oral amiodarone the following day he was started on heparin intravenously given his elevated serum troponin to greater than 50 this medication was continued for 72 hours given his elevated troponins and non q wave myocardial infarction the patient was a candidate for cardiac catheterization after discussions between the medical intensive care unit team and the patient s family however the decision was made to not pursue further invasive procedures given that the patient had been made do not resuscitate do not intubate following the resuscitation mentioned above and his family no longer wished for aggressive resuscitating measures by he was off pressors and he was restarted on a beta blocker and ace inhibitor at low doses on the evening of the patient complained of substernal chest pain that was relieved by npg sl and morphine he also had st segment depressions in v2 and v3 that reverted to baseline after the resolution of his pain therefore the patient was again started on heparin although this was discontinued on when the patient ruled out for a myocardial infarction by cardiac enzymes he again had substernal chest pain on although he had no electrocardiogram changes and he again ruled out for a myocardial infarction by cardiac enzymes by hospital day four the patient began to develop evidence of congestive heart failure given his aggressive fluid resuscitation and gentle diuresis with furosemide was begun by the time of his transfer to the general medicine service on the patient was still significantly volume overloaded following his aggressive fluid resuscitation in the medical intensive care unit therefore he was continued on the program of gentle diuresis given that he was having signs and symptoms of right sided congestive heart failure he achieved adequate diuresis by the time of his discharge to rehabilitation as his oxygen saturation was greater than 95 on 2 liters nasal cannula 2 infectious disease sepsis the patient was started on gentamicin and piperacillin tazobactam in addition to the levofloxacin metronidazole and vancomycin he was already taking for right lower extremity cellulitis prior to admission for empiric coverage of a presumed gram negative urosepsis and he was aggressively hydrated with intravenous fluids on his levofloxacin and metronidazole was discontinued and he was started on fluconazole given the growth of yeast on urine culture he was taken off of gentamicin on hospital day three and his fluconazole was discontinued on hospital day five as per the infectious disease service he was taken off of vancomycin on and his piperacillin tazobactam was discontinued on despite the presumption of a gram negative urosepsis precipitating this admission the patient did not have any positive blood or urine cultures aside from the growth of yeast in two urine cultures noted above he remained afebrile both before and after discontinuation of his antibiotics and he was found to be clostridium difficile negative on 3 pulmonary as noted above the patient was intubated and he was extubated on he subsequently developed wheezing and mild hypoxia most likely secondary to cardiac asthma and fluid overload in the setting of his aggressive fluid resuscitation he was gently diuresed toward the end of his hospitalization and by the time of his he was maintaining an oxygen saturation of greater than 95 on 2 liters nasal cannula intermittent ipratropium nebulizers and chest physical therapy for clearance of his respiratory secretions 4 renal the patient presented with acute renal failure and prerenal azotemia that rapidly resolved following fluid resuscitation by the time of discharge his serum creatinine was stable and at his preadmission baseline 5 nutrition the patient was found to be profoundly malnourished with a serum albumin of 18 on admission once he was extubated and taking orals he performed poorly on a modified barium swallowing study and was started on a thin liquid ground solid diet with whole medication tablets small bites and sips upright posture with meals and aspiration precautions he was also given promod shakes with and between meals for nutritional supplementation of his heart healthy diabetic diet 6 vascular the patient s operative incisions and foot ulcers continued to heal throughout this admission he was started on an multivitamin vitamin c and zinc for improved wound healing 7 hematology the patient was transfused one unit of packed red blood cells on to maintain a hematocrit of greater than 30 given his history of severe coronary artery disease his hematocrit subsequently remained stable condition at discharge condition on discharge was stable discharge status rehabilitation facility discharge diagnoses 1 cardiorespiratory arrest 2 non q wave myocardial infarction 3 acute renal failure 4 coronary artery disease with diffuse 3 vessel disease right dominant status post proximal left circumflex stent in with occlusion of distal left circumflex status post right coronary artery stent on no percutaneous coronary intervention to 99 distal left circumflex 80 small proximal left anterior descending artery 80 small distal left anterior descending artery 5 congestive heart failure with an ejection fraction of 15 to 20 6 type 2 diabetes with neuropathy 7 hypertension 8 diverticulosis found on colonoscopy in 9 alzheimer s dementia 10 history of gastrointestinal bleed while the patient was taking eptifibatide 11 cardiac risk factors with a baseline creatinine of 14 to 16 12 history of methicillin resistant staphylococcus aureus and pseudomonas growth in wound cultures 13 severe peripheral vascular disease status post left femoral at bypass graft on 14 chronic nonhealing foot ulcers medications on discharge 1 amiodarone 400 mg po bid through then 400 mg po qd times one week then 200 mg po qd 2 metoprolol 50 mg po bid 3 captopril 625 mg po tid 4 aspirin 325 mg po qd 5 pantoprazole 40 mg po qd 6 heparin 5000 units subcutaneously bid 7 multivitamin one tablet po qd 8 zinc sulfate 220 mg po qd 9 vitamin c 500 mg po qd 10 ipratropium nebulizers q4 6h as needed for wheezing 11 acetaminophen 325 mg to 650 mg po q4 6h as needed for pain 12 miconazole 2 powder to groin bid 13 santyl lotion to heels bid 14 regular insulin sliding scale code status do not resuscitate do not intubate note if applicable an addendum to this discharge summary will be dictated to include follow up appointments as well as any changes to the medication list noted above medquist36'"
      ]
     },
     "execution_count": 98,
     "metadata": {},
     "output_type": "execute_result"
    }
   ],
   "source": [
    "tokenizer = RegexpTokenizer(r'\\w+')\n",
    "def preprocess_text(discharge_summary):\n",
    "    ds = discharge_summary\n",
    "    ds = re.sub('\\[.*\\]', '', ds)\n",
    "    ds = ds.replace('\\n',' ')\n",
    "    ds = ds.replace('\\r',' ')\n",
    "    terms = ['Admission Date:','Discharge Date:','Date of Birth:','Service:','ADDENDUM:','Date/Time:','Completed by:','Dictated By:',' D:',' T:','JOB#:','Followup Instructions:','Follow up w/ Dr.', 'Provider:']\n",
    "    for term in terms:\n",
    "        ds = re.sub(term,'',ds)\n",
    "    ds = re.sub('\\d+:\\d+','',ds)\n",
    "    ds = re.sub(' +',' ',ds)\n",
    "    ds = re.sub('\\.','',ds)\n",
    "    ds = ds.strip()\n",
    "    tokens = [t.lower() for t in tokenizer.tokenize(ds)]\n",
    "    ds = ' '.join(tokens)\n",
    "    return ds\n",
    "preprocess_text(df.iloc[0,2])"
   ]
  },
  {
   "cell_type": "code",
   "execution_count": 99,
   "id": "09245dcc",
   "metadata": {},
   "outputs": [
    {
     "name": "stderr",
     "output_type": "stream",
     "text": [
      "100%|███████████████████████████████████████████████████████████████████████████| 52722/52722 [02:01<00:00, 432.55it/s]\n"
     ]
    }
   ],
   "source": [
    "tqdm.pandas()\n",
    "df['TEXT'] = df.progress_apply(lambda row: str(preprocess_text(row[-3])), axis=1)"
   ]
  },
  {
   "cell_type": "code",
   "execution_count": 100,
   "id": "2618194d",
   "metadata": {},
   "outputs": [
    {
     "data": {
      "text/html": [
       "<div>\n",
       "<style scoped>\n",
       "    .dataframe tbody tr th:only-of-type {\n",
       "        vertical-align: middle;\n",
       "    }\n",
       "\n",
       "    .dataframe tbody tr th {\n",
       "        vertical-align: top;\n",
       "    }\n",
       "\n",
       "    .dataframe thead th {\n",
       "        text-align: right;\n",
       "    }\n",
       "</style>\n",
       "<table border=\"1\" class=\"dataframe\">\n",
       "  <thead>\n",
       "    <tr style=\"text-align: right;\">\n",
       "      <th></th>\n",
       "      <th>SUBJECT_ID</th>\n",
       "      <th>HADM_ID</th>\n",
       "      <th>TEXT</th>\n",
       "      <th>LABELS1</th>\n",
       "      <th>LABELS2</th>\n",
       "    </tr>\n",
       "  </thead>\n",
       "  <tbody>\n",
       "    <tr>\n",
       "      <th>0</th>\n",
       "      <td>3</td>\n",
       "      <td>145834</td>\n",
       "      <td>sex m medicine chief complaint admitted from r...</td>\n",
       "      <td>038.9;785.59;584.9;427.5;410.71;428.0;682.6;42...</td>\n",
       "      <td>A41.9;R57.1;N17.9;I46.9;I21.4;I50.814;L03.119;...</td>\n",
       "    </tr>\n",
       "    <tr>\n",
       "      <th>1</th>\n",
       "      <td>4</td>\n",
       "      <td>185777</td>\n",
       "      <td>sex f chief complaint shortness of breath and ...</td>\n",
       "      <td>042;136.3;799.4;276.3;790.7;571.5;041.11;V09.0...</td>\n",
       "      <td>B20;B59;R64;E87.3;R78.81;K74.0;B95.61;Z16.11;E...</td>\n",
       "    </tr>\n",
       "    <tr>\n",
       "      <th>2</th>\n",
       "      <td>6</td>\n",
       "      <td>107064</td>\n",
       "      <td>sex f admission diagnosis end stage renal dise...</td>\n",
       "      <td>403.91;444.0;997.2;276.6;276.7;285.9;275.3;V15...</td>\n",
       "      <td>I12.0;444.0;T81.719A;276.6;E87.5;D64.9;E83.30;...</td>\n",
       "    </tr>\n",
       "    <tr>\n",
       "      <th>3</th>\n",
       "      <td>9</td>\n",
       "      <td>150750</td>\n",
       "      <td>sex m neurology chief complaint weakness inabi...</td>\n",
       "      <td>431;507.0;428.0;584.9;276.5;401.9;96.72;96.04</td>\n",
       "      <td>I61.9;J69.0;I50.814;N17.9;276.5;I10;5A1955Z;0B...</td>\n",
       "    </tr>\n",
       "    <tr>\n",
       "      <th>4</th>\n",
       "      <td>10</td>\n",
       "      <td>184167</td>\n",
       "      <td>sex f history of present illness baby girl is ...</td>\n",
       "      <td>V30.00;774.2;765.25;765.15;V29.0;99.83;99.15;96.6</td>\n",
       "      <td>Z38.00;P59.0;P07.32;P07.15;Z05.1;6A600ZZ;3E033...</td>\n",
       "    </tr>\n",
       "  </tbody>\n",
       "</table>\n",
       "</div>"
      ],
      "text/plain": [
       "   SUBJECT_ID  HADM_ID                                               TEXT  \\\n",
       "0           3   145834  sex m medicine chief complaint admitted from r...   \n",
       "1           4   185777  sex f chief complaint shortness of breath and ...   \n",
       "2           6   107064  sex f admission diagnosis end stage renal dise...   \n",
       "3           9   150750  sex m neurology chief complaint weakness inabi...   \n",
       "4          10   184167  sex f history of present illness baby girl is ...   \n",
       "\n",
       "                                             LABELS1  \\\n",
       "0  038.9;785.59;584.9;427.5;410.71;428.0;682.6;42...   \n",
       "1  042;136.3;799.4;276.3;790.7;571.5;041.11;V09.0...   \n",
       "2  403.91;444.0;997.2;276.6;276.7;285.9;275.3;V15...   \n",
       "3      431;507.0;428.0;584.9;276.5;401.9;96.72;96.04   \n",
       "4  V30.00;774.2;765.25;765.15;V29.0;99.83;99.15;96.6   \n",
       "\n",
       "                                             LABELS2  \n",
       "0  A41.9;R57.1;N17.9;I46.9;I21.4;I50.814;L03.119;...  \n",
       "1  B20;B59;R64;E87.3;R78.81;K74.0;B95.61;Z16.11;E...  \n",
       "2  I12.0;444.0;T81.719A;276.6;E87.5;D64.9;E83.30;...  \n",
       "3  I61.9;J69.0;I50.814;N17.9;276.5;I10;5A1955Z;0B...  \n",
       "4  Z38.00;P59.0;P07.32;P07.15;Z05.1;6A600ZZ;3E033...  "
      ]
     },
     "execution_count": 100,
     "metadata": {},
     "output_type": "execute_result"
    }
   ],
   "source": [
    "df.head()"
   ]
  },
  {
   "cell_type": "code",
   "execution_count": 106,
   "id": "443fb33a",
   "metadata": {},
   "outputs": [
    {
     "name": "stdout",
     "output_type": "stream",
     "text": [
      "Num types 167603\n",
      "Num tokens 82282110\n"
     ]
    }
   ],
   "source": [
    "types = set()\n",
    "num_tok = 0\n",
    "for row in df.itertuples():\n",
    "    for w in row[3].split(' '):\n",
    "        types.add(w)\n",
    "        num_tok += 1\n",
    "print(\"Num types\", len(types))\n",
    "print(\"Num tokens\", str(num_tok))"
   ]
  },
  {
   "cell_type": "code",
   "execution_count": 5,
   "id": "77bc2aa4",
   "metadata": {},
   "outputs": [],
   "source": [
    "df.to_csv('processed_notes_labeled.csv', index=False)"
   ]
  },
  {
   "cell_type": "code",
   "execution_count": 8,
   "id": "433beb21",
   "metadata": {},
   "outputs": [],
   "source": [
    "df  = pd.read_csv('processed_notes_labeled.csv')"
   ]
  },
  {
   "cell_type": "code",
   "execution_count": 19,
   "id": "d6615d8a",
   "metadata": {},
   "outputs": [
    {
     "data": {
      "text/plain": [
       "41126"
      ]
     },
     "execution_count": 19,
     "metadata": {},
     "output_type": "execute_result"
    }
   ],
   "source": [
    "len(df['SUBJECT_ID'].unique())"
   ]
  },
  {
   "cell_type": "code",
   "execution_count": 9,
   "id": "03ff62e7",
   "metadata": {},
   "outputs": [
    {
     "data": {
      "text/plain": [
       "52722"
      ]
     },
     "execution_count": 9,
     "metadata": {},
     "output_type": "execute_result"
    }
   ],
   "source": [
    "len(df.index)"
   ]
  },
  {
   "cell_type": "code",
   "execution_count": 20,
   "id": "b6982aac",
   "metadata": {},
   "outputs": [
    {
     "name": "stdout",
     "output_type": "stream",
     "text": [
      "Defaulting to user installation because normal site-packages is not writeable\n",
      "Collecting sklearn\n",
      "  Downloading sklearn-0.0.tar.gz (1.1 kB)\n",
      "Collecting scikit-learn\n",
      "  Downloading scikit_learn-1.1.2-cp38-cp38-manylinux_2_17_x86_64.manylinux2014_x86_64.whl (31.2 MB)\n",
      "\u001b[K     |████████████████████████████████| 31.2 MB 224 kB/s eta 0:00:01\n",
      "\u001b[?25hCollecting threadpoolctl>=2.0.0\n",
      "  Downloading threadpoolctl-3.1.0-py3-none-any.whl (14 kB)\n",
      "Collecting scipy>=1.3.2\n",
      "  Downloading scipy-1.9.2-cp38-cp38-manylinux_2_17_x86_64.manylinux2014_x86_64.whl (33.8 MB)\n",
      "\u001b[K     |████████████████████████████████| 33.8 MB 389 kB/s  eta 0:00:01\n",
      "\u001b[?25hRequirement already satisfied: numpy>=1.17.3 in /usr/local/lib/python3.8/dist-packages (from scikit-learn->sklearn) (1.23.2)\n",
      "Collecting joblib>=1.0.0\n",
      "  Downloading joblib-1.2.0-py3-none-any.whl (297 kB)\n",
      "\u001b[K     |████████████████████████████████| 297 kB 63.2 MB/s eta 0:00:01\n",
      "\u001b[?25hBuilding wheels for collected packages: sklearn\n",
      "  Building wheel for sklearn (setup.py) ... \u001b[?25ldone\n",
      "\u001b[?25h  Created wheel for sklearn: filename=sklearn-0.0-py2.py3-none-any.whl size=1302 sha256=13630922a52bf8a888a87f6e5f8d516fc34020a594847ca16ec015a769f20b10\n",
      "  Stored in directory: /home3/191it205/.cache/pip/wheels/22/0b/40/fd3f795caaa1fb4c6cb738bc1f56100be1e57da95849bfc897\n",
      "Successfully built sklearn\n",
      "Installing collected packages: threadpoolctl, scipy, joblib, scikit-learn, sklearn\n",
      "Successfully installed joblib-1.2.0 scikit-learn-1.1.2 scipy-1.9.2 sklearn-0.0 threadpoolctl-3.1.0\n",
      "\u001b[33mWARNING: You are using pip version 20.2.4; however, version 22.2.2 is available.\n",
      "You should consider upgrading via the '/usr/bin/python3 -m pip install --upgrade pip' command.\u001b[0m\n"
     ]
    }
   ],
   "source": [
    "!pip install sklearn"
   ]
  },
  {
   "cell_type": "code",
   "execution_count": 29,
   "id": "69ef8cdd",
   "metadata": {},
   "outputs": [
    {
     "name": "stdout",
     "output_type": "stream",
     "text": [
      "TRAIN: [    0     2     3 ... 52719 52720 52721] TEST: [    1     4     7 ... 52701 52710 52716]\n",
      "47762 4960\n"
     ]
    }
   ],
   "source": [
    "import numpy as np\n",
    "X = df.iloc[:,:2]\n",
    "y = df.iloc[:,-1:]\n",
    "\n",
    "from collections import defaultdict\n",
    "from sklearn.model_selection import GroupShuffleSplit\n",
    "\n",
    "subject_ids = list(df['SUBJECT_ID'])\n",
    "# print(subject_ids)\n",
    "d_dict = defaultdict(lambda: len(d_dict))\n",
    "list_ids= [d_dict[n] for n in subject_ids]\n",
    "# Print ids of the dictionary\n",
    "# print(\"The list of ids : \", list_ids)\n",
    "\n",
    "# groups = np.array([1, 1, 2, 2, 2, 3, 3, 3])\n",
    "# print(groups.shape)\n",
    "\n",
    "gss = GroupShuffleSplit(n_splits=1, train_size=.9050978607, random_state=42)\n",
    "gss.get_n_splits()\n",
    "\n",
    "for train_idx, test_idx in gss.split(X, y, list_ids):\n",
    "    print(\"TRAIN:\", train_idx, \"TEST:\", test_idx)\n",
    "    print(len(train_idx), len(test_idx))"
   ]
  },
  {
   "cell_type": "markdown",
   "id": "ef515662",
   "metadata": {},
   "source": [
    "### Top 50 codes"
   ]
  },
  {
   "cell_type": "code",
   "execution_count": 76,
   "id": "11b10417",
   "metadata": {},
   "outputs": [],
   "source": [
    "#first calculate the top k\n",
    "counts = Counter()\n",
    "dfnl = pd.read_csv('notes_labeled.csv')\n",
    "for row in dfnl.itertuples():\n",
    "    for label in str(row[5]).split(';'):\n",
    "        counts[label] += 1"
   ]
  },
  {
   "cell_type": "code",
   "execution_count": 77,
   "id": "a6b5a925",
   "metadata": {},
   "outputs": [],
   "source": [
    "codes_50 = sorted(counts.items(), key=operator.itemgetter(1), reverse=True)"
   ]
  },
  {
   "cell_type": "code",
   "execution_count": 78,
   "id": "d622cbb5",
   "metadata": {},
   "outputs": [],
   "source": [
    "codes_50 = [code[0] for code in codes_50[:50]]"
   ]
  },
  {
   "cell_type": "code",
   "execution_count": 81,
   "id": "607fda66",
   "metadata": {},
   "outputs": [],
   "source": [
    "ICD10_50 = codes_50"
   ]
  },
  {
   "cell_type": "code",
   "execution_count": 82,
   "id": "9e6d2df8",
   "metadata": {},
   "outputs": [
    {
     "data": {
      "text/plain": [
       "['I10',\n",
       " '02H633Z',\n",
       " 'I25.10',\n",
       " 'I50.814',\n",
       " 'I48.91',\n",
       " '0BH17EZ',\n",
       " '0DH67UZ',\n",
       " 'N17.9',\n",
       " 'E11.9',\n",
       " '5A1935Z',\n",
       " 'E78.4',\n",
       " 'J96.00',\n",
       " '30233N1',\n",
       " '5A1221Z',\n",
       " 'N39.0',\n",
       " 'B2000ZZ',\n",
       " 'K21.9',\n",
       " '5A1955Z',\n",
       " 'E78.00',\n",
       " 'D64.9',\n",
       " 'J44.9',\n",
       " 'A41.9',\n",
       " 'E03.9',\n",
       " 'J18.9',\n",
       " '02HW32Z',\n",
       " 'D62',\n",
       " '0210088',\n",
       " 'E87.2',\n",
       " '3E0336Z',\n",
       " 'R65.20',\n",
       " 'Z79.01',\n",
       " 'J69.0',\n",
       " 'B244YZZ',\n",
       " 'I12.9',\n",
       " 'F32.9',\n",
       " 'N18.9',\n",
       " 'F17.200',\n",
       " 'I21.4',\n",
       " '4A020N7',\n",
       " 'I25.2',\n",
       " '0B933ZX',\n",
       " '5A1D70Z',\n",
       " '0DJ08ZZ',\n",
       " 'D69.6',\n",
       " 'E87.1',\n",
       " 'Z95.1',\n",
       " 'I34.0',\n",
       " '0BJ08ZZ',\n",
       " 'I12.0',\n",
       " 'Z87.891']"
      ]
     },
     "execution_count": 82,
     "metadata": {},
     "output_type": "execute_result"
    }
   ],
   "source": [
    "ICD10_50"
   ]
  },
  {
   "cell_type": "code",
   "execution_count": 75,
   "id": "f02c4cd2",
   "metadata": {},
   "outputs": [],
   "source": [
    "ICD9_50 = codes_50"
   ]
  },
  {
   "cell_type": "code",
   "execution_count": 83,
   "id": "0834c8ba",
   "metadata": {},
   "outputs": [
    {
     "data": {
      "text/plain": [
       "['401.9',\n",
       " '38.93',\n",
       " '428.0',\n",
       " '427.31',\n",
       " '414.01',\n",
       " '96.04',\n",
       " '96.6',\n",
       " '584.9',\n",
       " '250.00',\n",
       " '96.71',\n",
       " '272.4',\n",
       " '518.81',\n",
       " '99.04',\n",
       " '39.61',\n",
       " '599.0',\n",
       " '530.81',\n",
       " '96.72',\n",
       " '272.0',\n",
       " '285.9',\n",
       " '88.56',\n",
       " '244.9',\n",
       " '486',\n",
       " '38.91',\n",
       " '285.1',\n",
       " '36.15',\n",
       " '276.2',\n",
       " '496',\n",
       " '99.15',\n",
       " '995.92',\n",
       " 'V58.61',\n",
       " '507.0',\n",
       " '038.9',\n",
       " '88.72',\n",
       " '585.9',\n",
       " '403.90',\n",
       " '311',\n",
       " '305.1',\n",
       " '37.22',\n",
       " '412',\n",
       " '33.24',\n",
       " '39.95',\n",
       " '287.5',\n",
       " '410.71',\n",
       " '276.1',\n",
       " 'V45.81',\n",
       " '424.0',\n",
       " '45.13',\n",
       " 'V15.82',\n",
       " '511.9',\n",
       " '37.23']"
      ]
     },
     "execution_count": 83,
     "metadata": {},
     "output_type": "execute_result"
    }
   ],
   "source": [
    "ICD9_50"
   ]
  },
  {
   "cell_type": "code",
   "execution_count": null,
   "id": "c5cfc732",
   "metadata": {},
   "outputs": [],
   "source": []
  }
 ],
 "metadata": {
  "kernelspec": {
   "display_name": "Python 3 (ipykernel)",
   "language": "python",
   "name": "python3"
  },
  "language_info": {
   "codemirror_mode": {
    "name": "ipython",
    "version": 3
   },
   "file_extension": ".py",
   "mimetype": "text/x-python",
   "name": "python",
   "nbconvert_exporter": "python",
   "pygments_lexer": "ipython3",
   "version": "3.8.10"
  }
 },
 "nbformat": 4,
 "nbformat_minor": 5
}
