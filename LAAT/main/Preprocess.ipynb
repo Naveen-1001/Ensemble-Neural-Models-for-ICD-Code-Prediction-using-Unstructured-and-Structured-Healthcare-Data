{
 "cells": [
  {
   "cell_type": "code",
   "execution_count": 1,
   "id": "8ef6de1f",
   "metadata": {},
   "outputs": [],
   "source": [
    "import numpy as np\n",
    "import pandas as pd\n",
    "from collections import Counter, defaultdict\n",
    "import csv\n",
    "import math\n",
    "import operator\n",
    "import requests\n",
    "from bs4 import BeautifulSoup\n",
    "from tqdm.notebook import tqdm\n",
    "import re\n",
    "import os\n",
    "import json\n",
    "import asyncio\n",
    "import requests\n",
    "import aiohttp\n",
    "from nltk.tokenize import RegexpTokenizer\n",
    "tqdm.pandas()"
   ]
  },
  {
   "cell_type": "code",
   "execution_count": 74,
   "id": "23fd553a",
   "metadata": {},
   "outputs": [],
   "source": [
    "import nltk\n",
    "from nltk.corpus import stopwords\n",
    "stop_words = set(stopwords.words('english'))\n"
   ]
  },
  {
   "cell_type": "markdown",
   "id": "65252ae4",
   "metadata": {},
   "source": [
    "### Full"
   ]
  },
  {
   "cell_type": "code",
   "execution_count": 4,
   "id": "2969917b",
   "metadata": {},
   "outputs": [],
   "source": [
    "data_path = '../../'"
   ]
  },
  {
   "cell_type": "code",
   "execution_count": 5,
   "id": "0fcdee92",
   "metadata": {},
   "outputs": [],
   "source": [
    "dfproc = pd.read_csv(data_path + 'PROCEDURES_ICD.csv')\n",
    "dfdiag = pd.read_csv(data_path + 'DIAGNOSES_ICD.csv')"
   ]
  },
  {
   "cell_type": "code",
   "execution_count": 6,
   "id": "b840c3cb",
   "metadata": {},
   "outputs": [
    {
     "data": {
      "text/html": [
       "<div>\n",
       "<style scoped>\n",
       "    .dataframe tbody tr th:only-of-type {\n",
       "        vertical-align: middle;\n",
       "    }\n",
       "\n",
       "    .dataframe tbody tr th {\n",
       "        vertical-align: top;\n",
       "    }\n",
       "\n",
       "    .dataframe thead th {\n",
       "        text-align: right;\n",
       "    }\n",
       "</style>\n",
       "<table border=\"1\" class=\"dataframe\">\n",
       "  <thead>\n",
       "    <tr style=\"text-align: right;\">\n",
       "      <th></th>\n",
       "      <th>ROW_ID</th>\n",
       "      <th>SUBJECT_ID</th>\n",
       "      <th>HADM_ID</th>\n",
       "      <th>SEQ_NUM</th>\n",
       "      <th>ICD9_CODE</th>\n",
       "    </tr>\n",
       "  </thead>\n",
       "  <tbody>\n",
       "    <tr>\n",
       "      <th>0</th>\n",
       "      <td>944</td>\n",
       "      <td>62641</td>\n",
       "      <td>154460</td>\n",
       "      <td>3</td>\n",
       "      <td>3404</td>\n",
       "    </tr>\n",
       "    <tr>\n",
       "      <th>1</th>\n",
       "      <td>945</td>\n",
       "      <td>2592</td>\n",
       "      <td>130856</td>\n",
       "      <td>1</td>\n",
       "      <td>9671</td>\n",
       "    </tr>\n",
       "    <tr>\n",
       "      <th>2</th>\n",
       "      <td>946</td>\n",
       "      <td>2592</td>\n",
       "      <td>130856</td>\n",
       "      <td>2</td>\n",
       "      <td>3893</td>\n",
       "    </tr>\n",
       "    <tr>\n",
       "      <th>3</th>\n",
       "      <td>947</td>\n",
       "      <td>55357</td>\n",
       "      <td>119355</td>\n",
       "      <td>1</td>\n",
       "      <td>9672</td>\n",
       "    </tr>\n",
       "    <tr>\n",
       "      <th>4</th>\n",
       "      <td>948</td>\n",
       "      <td>55357</td>\n",
       "      <td>119355</td>\n",
       "      <td>2</td>\n",
       "      <td>331</td>\n",
       "    </tr>\n",
       "  </tbody>\n",
       "</table>\n",
       "</div>"
      ],
      "text/plain": [
       "   ROW_ID  SUBJECT_ID  HADM_ID  SEQ_NUM  ICD9_CODE\n",
       "0     944       62641   154460        3       3404\n",
       "1     945        2592   130856        1       9671\n",
       "2     946        2592   130856        2       3893\n",
       "3     947       55357   119355        1       9672\n",
       "4     948       55357   119355        2        331"
      ]
     },
     "execution_count": 6,
     "metadata": {},
     "output_type": "execute_result"
    }
   ],
   "source": [
    "dfproc.head()"
   ]
  },
  {
   "cell_type": "code",
   "execution_count": 7,
   "id": "62cce13f",
   "metadata": {},
   "outputs": [
    {
     "data": {
      "text/html": [
       "<div>\n",
       "<style scoped>\n",
       "    .dataframe tbody tr th:only-of-type {\n",
       "        vertical-align: middle;\n",
       "    }\n",
       "\n",
       "    .dataframe tbody tr th {\n",
       "        vertical-align: top;\n",
       "    }\n",
       "\n",
       "    .dataframe thead th {\n",
       "        text-align: right;\n",
       "    }\n",
       "</style>\n",
       "<table border=\"1\" class=\"dataframe\">\n",
       "  <thead>\n",
       "    <tr style=\"text-align: right;\">\n",
       "      <th></th>\n",
       "      <th>ROW_ID</th>\n",
       "      <th>SUBJECT_ID</th>\n",
       "      <th>HADM_ID</th>\n",
       "      <th>SEQ_NUM</th>\n",
       "      <th>ICD9_CODE</th>\n",
       "    </tr>\n",
       "  </thead>\n",
       "  <tbody>\n",
       "    <tr>\n",
       "      <th>0</th>\n",
       "      <td>1297</td>\n",
       "      <td>109</td>\n",
       "      <td>172335</td>\n",
       "      <td>1.0</td>\n",
       "      <td>40301</td>\n",
       "    </tr>\n",
       "    <tr>\n",
       "      <th>1</th>\n",
       "      <td>1298</td>\n",
       "      <td>109</td>\n",
       "      <td>172335</td>\n",
       "      <td>2.0</td>\n",
       "      <td>486</td>\n",
       "    </tr>\n",
       "    <tr>\n",
       "      <th>2</th>\n",
       "      <td>1299</td>\n",
       "      <td>109</td>\n",
       "      <td>172335</td>\n",
       "      <td>3.0</td>\n",
       "      <td>58281</td>\n",
       "    </tr>\n",
       "    <tr>\n",
       "      <th>3</th>\n",
       "      <td>1300</td>\n",
       "      <td>109</td>\n",
       "      <td>172335</td>\n",
       "      <td>4.0</td>\n",
       "      <td>5855</td>\n",
       "    </tr>\n",
       "    <tr>\n",
       "      <th>4</th>\n",
       "      <td>1301</td>\n",
       "      <td>109</td>\n",
       "      <td>172335</td>\n",
       "      <td>5.0</td>\n",
       "      <td>4254</td>\n",
       "    </tr>\n",
       "  </tbody>\n",
       "</table>\n",
       "</div>"
      ],
      "text/plain": [
       "   ROW_ID  SUBJECT_ID  HADM_ID  SEQ_NUM ICD9_CODE\n",
       "0    1297         109   172335      1.0     40301\n",
       "1    1298         109   172335      2.0       486\n",
       "2    1299         109   172335      3.0     58281\n",
       "3    1300         109   172335      4.0      5855\n",
       "4    1301         109   172335      5.0      4254"
      ]
     },
     "execution_count": 7,
     "metadata": {},
     "output_type": "execute_result"
    }
   ],
   "source": [
    "dfdiag.head()"
   ]
  },
  {
   "cell_type": "markdown",
   "id": "ee9e6c9e",
   "metadata": {},
   "source": [
    "Put a period in the right place because the MIMIC-3 data files exclude them.Generally, procedure codes have dots after the first two digits, while diagnosis codes have dots after the first three digits."
   ]
  },
  {
   "cell_type": "code",
   "execution_count": 8,
   "id": "766ad169",
   "metadata": {},
   "outputs": [],
   "source": [
    "def reformat(code, is_diag):\n",
    "    code = ''.join(code.split('.'))\n",
    "    if is_diag:\n",
    "        if code.startswith('E'):\n",
    "            if len(code) > 4:\n",
    "                code = code[:4] + '.' + code[4:]\n",
    "        else:\n",
    "            if len(code) > 3:\n",
    "                code = code[:3] + '.' + code[3:]\n",
    "    else:\n",
    "        code = code[:2] + '.' + code[2:]\n",
    "    return code"
   ]
  },
  {
   "cell_type": "code",
   "execution_count": 9,
   "id": "0698cdcf",
   "metadata": {},
   "outputs": [
    {
     "data": {
      "application/vnd.jupyter.widget-view+json": {
       "model_id": "07fba8ad0e1446888c180e3bbfc6c598",
       "version_major": 2,
       "version_minor": 0
      },
      "text/plain": [
       "  0%|          | 0/651047 [00:00<?, ?it/s]"
      ]
     },
     "metadata": {},
     "output_type": "display_data"
    },
    {
     "data": {
      "application/vnd.jupyter.widget-view+json": {
       "model_id": "a27dcfb5e3a14884b420106f0d096ee7",
       "version_major": 2,
       "version_minor": 0
      },
      "text/plain": [
       "  0%|          | 0/240095 [00:00<?, ?it/s]"
      ]
     },
     "metadata": {},
     "output_type": "display_data"
    }
   ],
   "source": [
    "dfdiag['ICD9_CODE'] = dfdiag.progress_apply(lambda row: str(reformat(str(row[4]), True)), axis=1)\n",
    "dfproc['ICD9_CODE'] = dfproc.progress_apply(lambda row: str(reformat(str(row[4]), False)), axis=1)"
   ]
  },
  {
   "cell_type": "code",
   "execution_count": 11,
   "id": "61ef5e28",
   "metadata": {},
   "outputs": [],
   "source": [
    "dfcodes = pd.concat([dfdiag, dfproc])\n",
    "dfcodes.to_csv('../data/mimic3_new/' + 'ALL_CODES.csv', index=False,\n",
    "               columns=['ROW_ID', 'SUBJECT_ID', 'HADM_ID', 'SEQ_NUM', 'ICD9_CODE'],\n",
    "               header=['ROW_ID', 'SUBJECT_ID', 'HADM_ID', 'SEQ_NUM', 'ICD9_CODE'])\n"
   ]
  },
  {
   "cell_type": "code",
   "execution_count": 14,
   "id": "2573d9a0",
   "metadata": {},
   "outputs": [],
   "source": [
    "data_path = '../data/mimic3_new/'"
   ]
  },
  {
   "cell_type": "code",
   "execution_count": 12,
   "id": "aedae7a2",
   "metadata": {},
   "outputs": [
    {
     "data": {
      "text/html": [
       "<div>\n",
       "<style scoped>\n",
       "    .dataframe tbody tr th:only-of-type {\n",
       "        vertical-align: middle;\n",
       "    }\n",
       "\n",
       "    .dataframe tbody tr th {\n",
       "        vertical-align: top;\n",
       "    }\n",
       "\n",
       "    .dataframe thead th {\n",
       "        text-align: right;\n",
       "    }\n",
       "</style>\n",
       "<table border=\"1\" class=\"dataframe\">\n",
       "  <thead>\n",
       "    <tr style=\"text-align: right;\">\n",
       "      <th></th>\n",
       "      <th>ROW_ID</th>\n",
       "      <th>SUBJECT_ID</th>\n",
       "      <th>HADM_ID</th>\n",
       "      <th>SEQ_NUM</th>\n",
       "      <th>ICD9_CODE</th>\n",
       "    </tr>\n",
       "  </thead>\n",
       "  <tbody>\n",
       "    <tr>\n",
       "      <th>0</th>\n",
       "      <td>1297</td>\n",
       "      <td>109</td>\n",
       "      <td>172335</td>\n",
       "      <td>1.0</td>\n",
       "      <td>403.01</td>\n",
       "    </tr>\n",
       "    <tr>\n",
       "      <th>1</th>\n",
       "      <td>1298</td>\n",
       "      <td>109</td>\n",
       "      <td>172335</td>\n",
       "      <td>2.0</td>\n",
       "      <td>486</td>\n",
       "    </tr>\n",
       "    <tr>\n",
       "      <th>2</th>\n",
       "      <td>1299</td>\n",
       "      <td>109</td>\n",
       "      <td>172335</td>\n",
       "      <td>3.0</td>\n",
       "      <td>582.81</td>\n",
       "    </tr>\n",
       "    <tr>\n",
       "      <th>3</th>\n",
       "      <td>1300</td>\n",
       "      <td>109</td>\n",
       "      <td>172335</td>\n",
       "      <td>4.0</td>\n",
       "      <td>585.5</td>\n",
       "    </tr>\n",
       "    <tr>\n",
       "      <th>4</th>\n",
       "      <td>1301</td>\n",
       "      <td>109</td>\n",
       "      <td>172335</td>\n",
       "      <td>5.0</td>\n",
       "      <td>425.4</td>\n",
       "    </tr>\n",
       "  </tbody>\n",
       "</table>\n",
       "</div>"
      ],
      "text/plain": [
       "   ROW_ID  SUBJECT_ID  HADM_ID  SEQ_NUM ICD9_CODE\n",
       "0    1297         109   172335      1.0    403.01\n",
       "1    1298         109   172335      2.0       486\n",
       "2    1299         109   172335      3.0    582.81\n",
       "3    1300         109   172335      4.0     585.5\n",
       "4    1301         109   172335      5.0     425.4"
      ]
     },
     "execution_count": 12,
     "metadata": {},
     "output_type": "execute_result"
    }
   ],
   "source": [
    "dfcodes.head()"
   ]
  },
  {
   "cell_type": "code",
   "execution_count": 15,
   "id": "bf049465",
   "metadata": {},
   "outputs": [
    {
     "data": {
      "text/plain": [
       "8994"
      ]
     },
     "execution_count": 15,
     "metadata": {},
     "output_type": "execute_result"
    }
   ],
   "source": [
    "df = pd.read_csv(data_path + 'ALL_CODES.csv',dtype={\"ICD9_CODE\": str})\n",
    "len(df['ICD9_CODE'].unique())"
   ]
  },
  {
   "cell_type": "code",
   "execution_count": 11,
   "id": "84acd5f1",
   "metadata": {},
   "outputs": [],
   "source": [
    "#df = df[df['ICD9_CODE'].notna()]"
   ]
  },
  {
   "cell_type": "markdown",
   "id": "9d636523",
   "metadata": {},
   "source": [
    "### MAP"
   ]
  },
  {
   "cell_type": "code",
   "execution_count": 16,
   "id": "566c1275",
   "metadata": {},
   "outputs": [
    {
     "data": {
      "text/plain": [
       "8994"
      ]
     },
     "execution_count": 16,
     "metadata": {},
     "output_type": "execute_result"
    }
   ],
   "source": [
    "icd9codes = df['ICD9_CODE'].unique()\n",
    "len(icd9codes)"
   ]
  },
  {
   "cell_type": "code",
   "execution_count": 13,
   "id": "3c4c59c6",
   "metadata": {},
   "outputs": [],
   "source": [
    "# mapping = {} \n",
    "# async def main():\n",
    "#     count = 0\n",
    "#     tasks = []\n",
    "#     headers = {\n",
    "#         \"user-agent\": \"Mozilla/5.0 (compatible; Googlebot/2.1; +http://www.google.com/bot.html)\"}\n",
    "#     async with aiohttp.ClientSession(headers=headers) as session:\n",
    "#         for i in tqdm(range(len(icd9codes))):\n",
    "#             icd_9 = icd9codes[i]\n",
    "#             url = f'https://www.icd10data.com/Convert/{icd_9}'\n",
    "#             async with session.get(url) as response:\n",
    "#                 text = await response.text()\n",
    "#                 tasks.append(text)\n",
    "#         for i in tqdm(range(len(tasks))):\n",
    "#             icd_9 = icd9codes[i]\n",
    "#             url = f'https://www.icd10data.com/Convert/{icd_9}'\n",
    "#             task = tasks[i]\n",
    "#             soup = BeautifulSoup(task, 'html.parser')\n",
    "#             icd_10 = soup.find_all(\"span\", {\"class\": \"identifier\"})\n",
    "#             if len(icd_10) == 0:\n",
    "#                 # print(\"ERROR: No ICD10 code found for code: \",icd_9)\n",
    "#                 print(url,end=\" \")\n",
    "#                 print(icd_10)\n",
    "#                 icd_10 = icd_9\n",
    "#             elif len(icd_10) == 1:\n",
    "#                 icd_10 = str(icd_10[0]).split('>')[1].split('<')[0]\n",
    "#             else:\n",
    "#                 icd_10 = str(icd_10[1]).split('>')[1].split('<')[0]\n",
    "#             mapping[icd_9] = icd_10\n",
    "#     print(count)\n",
    "\n",
    "# await main()"
   ]
  },
  {
   "cell_type": "code",
   "execution_count": 14,
   "id": "cc4f5c52",
   "metadata": {},
   "outputs": [],
   "source": [
    "# with open('icd9to10mapping.json', 'w') as f:\n",
    "#     json.dump(mapping, f)"
   ]
  },
  {
   "cell_type": "code",
   "execution_count": 19,
   "id": "d2761d57",
   "metadata": {},
   "outputs": [],
   "source": [
    "f = open('../../icd9to10mapping.json','r')\n",
    "mapping = json.load(f)"
   ]
  },
  {
   "cell_type": "code",
   "execution_count": 20,
   "id": "f5a2a6db",
   "metadata": {},
   "outputs": [
    {
     "data": {
      "text/plain": [
       "8994"
      ]
     },
     "execution_count": 20,
     "metadata": {},
     "output_type": "execute_result"
    }
   ],
   "source": [
    "len(mapping.keys())"
   ]
  },
  {
   "cell_type": "code",
   "execution_count": 21,
   "id": "51ee9ca9",
   "metadata": {},
   "outputs": [
    {
     "data": {
      "application/vnd.jupyter.widget-view+json": {
       "model_id": "0ec79a9f7e07454483f4d7b8cc2b3ba2",
       "version_major": 2,
       "version_minor": 0
      },
      "text/plain": [
       "  0%|          | 0/891142 [00:00<?, ?it/s]"
      ]
     },
     "metadata": {},
     "output_type": "display_data"
    }
   ],
   "source": [
    "def icd9to10(icd_9):\n",
    "    if icd_9 not in mapping.keys():\n",
    "        return icd_9\n",
    "    return mapping[icd_9]\n",
    "df['ICD10_CODE'] = df.progress_apply(lambda row: icd9to10(row[4]), axis=1)"
   ]
  },
  {
   "cell_type": "code",
   "execution_count": 22,
   "id": "f0be694a",
   "metadata": {},
   "outputs": [
    {
     "data": {
      "text/html": [
       "<div>\n",
       "<style scoped>\n",
       "    .dataframe tbody tr th:only-of-type {\n",
       "        vertical-align: middle;\n",
       "    }\n",
       "\n",
       "    .dataframe tbody tr th {\n",
       "        vertical-align: top;\n",
       "    }\n",
       "\n",
       "    .dataframe thead th {\n",
       "        text-align: right;\n",
       "    }\n",
       "</style>\n",
       "<table border=\"1\" class=\"dataframe\">\n",
       "  <thead>\n",
       "    <tr style=\"text-align: right;\">\n",
       "      <th></th>\n",
       "      <th>ROW_ID</th>\n",
       "      <th>SUBJECT_ID</th>\n",
       "      <th>HADM_ID</th>\n",
       "      <th>SEQ_NUM</th>\n",
       "      <th>ICD9_CODE</th>\n",
       "      <th>ICD10_CODE</th>\n",
       "    </tr>\n",
       "  </thead>\n",
       "  <tbody>\n",
       "    <tr>\n",
       "      <th>0</th>\n",
       "      <td>1297</td>\n",
       "      <td>109</td>\n",
       "      <td>172335</td>\n",
       "      <td>1.0</td>\n",
       "      <td>403.01</td>\n",
       "      <td>I12.0</td>\n",
       "    </tr>\n",
       "    <tr>\n",
       "      <th>1</th>\n",
       "      <td>1298</td>\n",
       "      <td>109</td>\n",
       "      <td>172335</td>\n",
       "      <td>2.0</td>\n",
       "      <td>486</td>\n",
       "      <td>J18.9</td>\n",
       "    </tr>\n",
       "    <tr>\n",
       "      <th>2</th>\n",
       "      <td>1299</td>\n",
       "      <td>109</td>\n",
       "      <td>172335</td>\n",
       "      <td>3.0</td>\n",
       "      <td>582.81</td>\n",
       "      <td>N08</td>\n",
       "    </tr>\n",
       "    <tr>\n",
       "      <th>3</th>\n",
       "      <td>1300</td>\n",
       "      <td>109</td>\n",
       "      <td>172335</td>\n",
       "      <td>4.0</td>\n",
       "      <td>585.5</td>\n",
       "      <td>N18.5</td>\n",
       "    </tr>\n",
       "    <tr>\n",
       "      <th>4</th>\n",
       "      <td>1301</td>\n",
       "      <td>109</td>\n",
       "      <td>172335</td>\n",
       "      <td>5.0</td>\n",
       "      <td>425.4</td>\n",
       "      <td>I42.5</td>\n",
       "    </tr>\n",
       "  </tbody>\n",
       "</table>\n",
       "</div>"
      ],
      "text/plain": [
       "   ROW_ID  SUBJECT_ID  HADM_ID  SEQ_NUM ICD9_CODE ICD10_CODE\n",
       "0    1297         109   172335      1.0    403.01      I12.0\n",
       "1    1298         109   172335      2.0       486      J18.9\n",
       "2    1299         109   172335      3.0    582.81        N08\n",
       "3    1300         109   172335      4.0     585.5      N18.5\n",
       "4    1301         109   172335      5.0     425.4      I42.5"
      ]
     },
     "execution_count": 22,
     "metadata": {},
     "output_type": "execute_result"
    }
   ],
   "source": [
    "df.head()"
   ]
  },
  {
   "cell_type": "code",
   "execution_count": 23,
   "id": "22d2ee37",
   "metadata": {},
   "outputs": [
    {
     "data": {
      "text/plain": [
       "8994"
      ]
     },
     "execution_count": 23,
     "metadata": {},
     "output_type": "execute_result"
    }
   ],
   "source": [
    "len(df['ICD9_CODE'].unique())"
   ]
  },
  {
   "cell_type": "code",
   "execution_count": 24,
   "id": "eb61faef",
   "metadata": {},
   "outputs": [],
   "source": [
    "df.to_csv(data_path + 'ALL_MAPPED_CODES.csv', index=False,\n",
    "               columns=['ROW_ID', 'SUBJECT_ID', 'HADM_ID', 'SEQ_NUM', 'ICD9_CODE','ICD10_CODE'],\n",
    "               header=['ROW_ID', 'SUBJECT_ID', 'HADM_ID', 'SEQ_NUM', 'ICD9_CODE','ICD10_CODE'])"
   ]
  },
  {
   "cell_type": "code",
   "execution_count": 25,
   "id": "b9477e22",
   "metadata": {},
   "outputs": [
    {
     "data": {
      "text/plain": [
       "8994"
      ]
     },
     "execution_count": 25,
     "metadata": {},
     "output_type": "execute_result"
    }
   ],
   "source": [
    "df = pd.read_csv(data_path + 'ALL_MAPPED_CODES.csv',dtype={\"ICD9_CODE\": str})\n",
    "len(df['ICD9_CODE'].unique())"
   ]
  },
  {
   "cell_type": "markdown",
   "id": "9def4870",
   "metadata": {},
   "source": [
    "### Get Discharge Summary"
   ]
  },
  {
   "cell_type": "code",
   "execution_count": 26,
   "id": "29cf3dfe",
   "metadata": {},
   "outputs": [
    {
     "name": "stderr",
     "output_type": "stream",
     "text": [
      "/tmp/ipykernel_289499/156598584.py:1: DtypeWarning: Columns (4,5) have mixed types. Specify dtype option on import or set low_memory=False.\n",
      "  noteeventsdf = pd.read_csv('../../NOTEEVENTS.csv')\n"
     ]
    }
   ],
   "source": [
    "noteeventsdf = pd.read_csv('../../NOTEEVENTS.csv')"
   ]
  },
  {
   "cell_type": "code",
   "execution_count": 27,
   "id": "4a43ba9f",
   "metadata": {},
   "outputs": [
    {
     "data": {
      "text/html": [
       "<div>\n",
       "<style scoped>\n",
       "    .dataframe tbody tr th:only-of-type {\n",
       "        vertical-align: middle;\n",
       "    }\n",
       "\n",
       "    .dataframe tbody tr th {\n",
       "        vertical-align: top;\n",
       "    }\n",
       "\n",
       "    .dataframe thead th {\n",
       "        text-align: right;\n",
       "    }\n",
       "</style>\n",
       "<table border=\"1\" class=\"dataframe\">\n",
       "  <thead>\n",
       "    <tr style=\"text-align: right;\">\n",
       "      <th></th>\n",
       "      <th>ROW_ID</th>\n",
       "      <th>SUBJECT_ID</th>\n",
       "      <th>HADM_ID</th>\n",
       "      <th>CHARTDATE</th>\n",
       "      <th>CHARTTIME</th>\n",
       "      <th>STORETIME</th>\n",
       "      <th>CATEGORY</th>\n",
       "      <th>DESCRIPTION</th>\n",
       "      <th>CGID</th>\n",
       "      <th>ISERROR</th>\n",
       "      <th>TEXT</th>\n",
       "    </tr>\n",
       "  </thead>\n",
       "  <tbody>\n",
       "    <tr>\n",
       "      <th>0</th>\n",
       "      <td>174</td>\n",
       "      <td>22532</td>\n",
       "      <td>167853.0</td>\n",
       "      <td>2151-08-04</td>\n",
       "      <td>NaN</td>\n",
       "      <td>NaN</td>\n",
       "      <td>Discharge summary</td>\n",
       "      <td>Report</td>\n",
       "      <td>NaN</td>\n",
       "      <td>NaN</td>\n",
       "      <td>Admission Date:  [**2151-7-16**]       Dischar...</td>\n",
       "    </tr>\n",
       "    <tr>\n",
       "      <th>1</th>\n",
       "      <td>175</td>\n",
       "      <td>13702</td>\n",
       "      <td>107527.0</td>\n",
       "      <td>2118-06-14</td>\n",
       "      <td>NaN</td>\n",
       "      <td>NaN</td>\n",
       "      <td>Discharge summary</td>\n",
       "      <td>Report</td>\n",
       "      <td>NaN</td>\n",
       "      <td>NaN</td>\n",
       "      <td>Admission Date:  [**2118-6-2**]       Discharg...</td>\n",
       "    </tr>\n",
       "    <tr>\n",
       "      <th>2</th>\n",
       "      <td>176</td>\n",
       "      <td>13702</td>\n",
       "      <td>167118.0</td>\n",
       "      <td>2119-05-25</td>\n",
       "      <td>NaN</td>\n",
       "      <td>NaN</td>\n",
       "      <td>Discharge summary</td>\n",
       "      <td>Report</td>\n",
       "      <td>NaN</td>\n",
       "      <td>NaN</td>\n",
       "      <td>Admission Date:  [**2119-5-4**]              D...</td>\n",
       "    </tr>\n",
       "    <tr>\n",
       "      <th>3</th>\n",
       "      <td>177</td>\n",
       "      <td>13702</td>\n",
       "      <td>196489.0</td>\n",
       "      <td>2124-08-18</td>\n",
       "      <td>NaN</td>\n",
       "      <td>NaN</td>\n",
       "      <td>Discharge summary</td>\n",
       "      <td>Report</td>\n",
       "      <td>NaN</td>\n",
       "      <td>NaN</td>\n",
       "      <td>Admission Date:  [**2124-7-21**]              ...</td>\n",
       "    </tr>\n",
       "    <tr>\n",
       "      <th>4</th>\n",
       "      <td>178</td>\n",
       "      <td>26880</td>\n",
       "      <td>135453.0</td>\n",
       "      <td>2162-03-25</td>\n",
       "      <td>NaN</td>\n",
       "      <td>NaN</td>\n",
       "      <td>Discharge summary</td>\n",
       "      <td>Report</td>\n",
       "      <td>NaN</td>\n",
       "      <td>NaN</td>\n",
       "      <td>Admission Date:  [**2162-3-3**]              D...</td>\n",
       "    </tr>\n",
       "  </tbody>\n",
       "</table>\n",
       "</div>"
      ],
      "text/plain": [
       "   ROW_ID  SUBJECT_ID   HADM_ID   CHARTDATE CHARTTIME STORETIME  \\\n",
       "0     174       22532  167853.0  2151-08-04       NaN       NaN   \n",
       "1     175       13702  107527.0  2118-06-14       NaN       NaN   \n",
       "2     176       13702  167118.0  2119-05-25       NaN       NaN   \n",
       "3     177       13702  196489.0  2124-08-18       NaN       NaN   \n",
       "4     178       26880  135453.0  2162-03-25       NaN       NaN   \n",
       "\n",
       "            CATEGORY DESCRIPTION  CGID  ISERROR  \\\n",
       "0  Discharge summary      Report   NaN      NaN   \n",
       "1  Discharge summary      Report   NaN      NaN   \n",
       "2  Discharge summary      Report   NaN      NaN   \n",
       "3  Discharge summary      Report   NaN      NaN   \n",
       "4  Discharge summary      Report   NaN      NaN   \n",
       "\n",
       "                                                TEXT  \n",
       "0  Admission Date:  [**2151-7-16**]       Dischar...  \n",
       "1  Admission Date:  [**2118-6-2**]       Discharg...  \n",
       "2  Admission Date:  [**2119-5-4**]              D...  \n",
       "3  Admission Date:  [**2124-7-21**]              ...  \n",
       "4  Admission Date:  [**2162-3-3**]              D...  "
      ]
     },
     "execution_count": 27,
     "metadata": {},
     "output_type": "execute_result"
    }
   ],
   "source": [
    "noteeventsdf.head()"
   ]
  },
  {
   "cell_type": "code",
   "execution_count": 28,
   "id": "53e2127a",
   "metadata": {},
   "outputs": [
    {
     "data": {
      "text/plain": [
       "2083180"
      ]
     },
     "execution_count": 28,
     "metadata": {},
     "output_type": "execute_result"
    }
   ],
   "source": [
    "len(noteeventsdf.index)"
   ]
  },
  {
   "cell_type": "code",
   "execution_count": 29,
   "id": "f1316b07",
   "metadata": {},
   "outputs": [],
   "source": [
    "dich_full = noteeventsdf[noteeventsdf['CATEGORY']=='Discharge summary']"
   ]
  },
  {
   "cell_type": "code",
   "execution_count": 30,
   "id": "db743fa1",
   "metadata": {},
   "outputs": [
    {
     "data": {
      "text/plain": [
       "59652"
      ]
     },
     "execution_count": 30,
     "metadata": {},
     "output_type": "execute_result"
    }
   ],
   "source": [
    "len(dich_full.index)"
   ]
  },
  {
   "cell_type": "code",
   "execution_count": 31,
   "id": "7bbbbdc0",
   "metadata": {},
   "outputs": [
    {
     "data": {
      "text/plain": [
       "52726"
      ]
     },
     "execution_count": 31,
     "metadata": {},
     "output_type": "execute_result"
    }
   ],
   "source": [
    "len(dich_full['HADM_ID'].unique())"
   ]
  },
  {
   "cell_type": "code",
   "execution_count": 32,
   "id": "ff7a24ae",
   "metadata": {},
   "outputs": [],
   "source": [
    "# dich_full = dich_full[dich_full['HADM_ID'].notna()]"
   ]
  },
  {
   "cell_type": "code",
   "execution_count": 33,
   "id": "ba46409e",
   "metadata": {},
   "outputs": [],
   "source": [
    "dich_full = dich_full.sort_values(['SUBJECT_ID', 'HADM_ID'])"
   ]
  },
  {
   "cell_type": "code",
   "execution_count": 34,
   "id": "ba227f7f",
   "metadata": {},
   "outputs": [
    {
     "data": {
      "text/html": [
       "<div>\n",
       "<style scoped>\n",
       "    .dataframe tbody tr th:only-of-type {\n",
       "        vertical-align: middle;\n",
       "    }\n",
       "\n",
       "    .dataframe tbody tr th {\n",
       "        vertical-align: top;\n",
       "    }\n",
       "\n",
       "    .dataframe thead th {\n",
       "        text-align: right;\n",
       "    }\n",
       "</style>\n",
       "<table border=\"1\" class=\"dataframe\">\n",
       "  <thead>\n",
       "    <tr style=\"text-align: right;\">\n",
       "      <th></th>\n",
       "      <th>ROW_ID</th>\n",
       "      <th>SUBJECT_ID</th>\n",
       "      <th>HADM_ID</th>\n",
       "      <th>CHARTDATE</th>\n",
       "      <th>CHARTTIME</th>\n",
       "      <th>STORETIME</th>\n",
       "      <th>CATEGORY</th>\n",
       "      <th>DESCRIPTION</th>\n",
       "      <th>CGID</th>\n",
       "      <th>ISERROR</th>\n",
       "      <th>TEXT</th>\n",
       "    </tr>\n",
       "  </thead>\n",
       "  <tbody>\n",
       "    <tr>\n",
       "      <th>48470</th>\n",
       "      <td>44005</td>\n",
       "      <td>3</td>\n",
       "      <td>145834.0</td>\n",
       "      <td>2101-10-31</td>\n",
       "      <td>NaN</td>\n",
       "      <td>NaN</td>\n",
       "      <td>Discharge summary</td>\n",
       "      <td>Report</td>\n",
       "      <td>NaN</td>\n",
       "      <td>NaN</td>\n",
       "      <td>Admission Date:  [**2101-10-20**]     Discharg...</td>\n",
       "    </tr>\n",
       "    <tr>\n",
       "      <th>4782</th>\n",
       "      <td>4788</td>\n",
       "      <td>4</td>\n",
       "      <td>185777.0</td>\n",
       "      <td>2191-03-23</td>\n",
       "      <td>NaN</td>\n",
       "      <td>NaN</td>\n",
       "      <td>Discharge summary</td>\n",
       "      <td>Report</td>\n",
       "      <td>NaN</td>\n",
       "      <td>NaN</td>\n",
       "      <td>Admission Date:  [**2191-3-16**]     Discharge...</td>\n",
       "    </tr>\n",
       "    <tr>\n",
       "      <th>24476</th>\n",
       "      <td>20825</td>\n",
       "      <td>6</td>\n",
       "      <td>107064.0</td>\n",
       "      <td>2175-06-15</td>\n",
       "      <td>NaN</td>\n",
       "      <td>NaN</td>\n",
       "      <td>Discharge summary</td>\n",
       "      <td>Report</td>\n",
       "      <td>NaN</td>\n",
       "      <td>NaN</td>\n",
       "      <td>Admission Date: [**2175-5-30**]        Dischar...</td>\n",
       "    </tr>\n",
       "    <tr>\n",
       "      <th>22764</th>\n",
       "      <td>20070</td>\n",
       "      <td>9</td>\n",
       "      <td>150750.0</td>\n",
       "      <td>2149-11-13</td>\n",
       "      <td>NaN</td>\n",
       "      <td>NaN</td>\n",
       "      <td>Discharge summary</td>\n",
       "      <td>Report</td>\n",
       "      <td>NaN</td>\n",
       "      <td>NaN</td>\n",
       "      <td>Admission Date:  [**2149-11-9**]       Dischar...</td>\n",
       "    </tr>\n",
       "    <tr>\n",
       "      <th>57341</th>\n",
       "      <td>57115</td>\n",
       "      <td>9</td>\n",
       "      <td>150750.0</td>\n",
       "      <td>2149-11-14</td>\n",
       "      <td>NaN</td>\n",
       "      <td>NaN</td>\n",
       "      <td>Discharge summary</td>\n",
       "      <td>Addendum</td>\n",
       "      <td>NaN</td>\n",
       "      <td>NaN</td>\n",
       "      <td>Name:  [**Known lastname 10050**], [**Known fi...</td>\n",
       "    </tr>\n",
       "  </tbody>\n",
       "</table>\n",
       "</div>"
      ],
      "text/plain": [
       "       ROW_ID  SUBJECT_ID   HADM_ID   CHARTDATE CHARTTIME STORETIME  \\\n",
       "48470   44005           3  145834.0  2101-10-31       NaN       NaN   \n",
       "4782     4788           4  185777.0  2191-03-23       NaN       NaN   \n",
       "24476   20825           6  107064.0  2175-06-15       NaN       NaN   \n",
       "22764   20070           9  150750.0  2149-11-13       NaN       NaN   \n",
       "57341   57115           9  150750.0  2149-11-14       NaN       NaN   \n",
       "\n",
       "                CATEGORY DESCRIPTION  CGID  ISERROR  \\\n",
       "48470  Discharge summary      Report   NaN      NaN   \n",
       "4782   Discharge summary      Report   NaN      NaN   \n",
       "24476  Discharge summary      Report   NaN      NaN   \n",
       "22764  Discharge summary      Report   NaN      NaN   \n",
       "57341  Discharge summary    Addendum   NaN      NaN   \n",
       "\n",
       "                                                    TEXT  \n",
       "48470  Admission Date:  [**2101-10-20**]     Discharg...  \n",
       "4782   Admission Date:  [**2191-3-16**]     Discharge...  \n",
       "24476  Admission Date: [**2175-5-30**]        Dischar...  \n",
       "22764  Admission Date:  [**2149-11-9**]       Dischar...  \n",
       "57341  Name:  [**Known lastname 10050**], [**Known fi...  "
      ]
     },
     "execution_count": 34,
     "metadata": {},
     "output_type": "execute_result"
    }
   ],
   "source": [
    "dich_full.head()"
   ]
  },
  {
   "cell_type": "code",
   "execution_count": 35,
   "id": "1c347cf9",
   "metadata": {},
   "outputs": [],
   "source": [
    "dich_full.to_csv(data_path + 'disch_full.csv', index=False)"
   ]
  },
  {
   "cell_type": "code",
   "execution_count": 36,
   "id": "26970af0",
   "metadata": {},
   "outputs": [],
   "source": [
    "del noteeventsdf"
   ]
  },
  {
   "cell_type": "code",
   "execution_count": 37,
   "id": "cbc20f56",
   "metadata": {},
   "outputs": [
    {
     "data": {
      "text/html": [
       "<div>\n",
       "<style scoped>\n",
       "    .dataframe tbody tr th:only-of-type {\n",
       "        vertical-align: middle;\n",
       "    }\n",
       "\n",
       "    .dataframe tbody tr th {\n",
       "        vertical-align: top;\n",
       "    }\n",
       "\n",
       "    .dataframe thead th {\n",
       "        text-align: right;\n",
       "    }\n",
       "</style>\n",
       "<table border=\"1\" class=\"dataframe\">\n",
       "  <thead>\n",
       "    <tr style=\"text-align: right;\">\n",
       "      <th></th>\n",
       "      <th>ROW_ID</th>\n",
       "      <th>SUBJECT_ID</th>\n",
       "      <th>HADM_ID</th>\n",
       "      <th>CHARTDATE</th>\n",
       "      <th>CHARTTIME</th>\n",
       "      <th>STORETIME</th>\n",
       "      <th>CATEGORY</th>\n",
       "      <th>DESCRIPTION</th>\n",
       "      <th>CGID</th>\n",
       "      <th>ISERROR</th>\n",
       "      <th>TEXT</th>\n",
       "    </tr>\n",
       "  </thead>\n",
       "  <tbody>\n",
       "    <tr>\n",
       "      <th>0</th>\n",
       "      <td>44005</td>\n",
       "      <td>3</td>\n",
       "      <td>145834.0</td>\n",
       "      <td>2101-10-31</td>\n",
       "      <td>NaN</td>\n",
       "      <td>NaN</td>\n",
       "      <td>Discharge summary</td>\n",
       "      <td>Report</td>\n",
       "      <td>NaN</td>\n",
       "      <td>NaN</td>\n",
       "      <td>Admission Date:  [**2101-10-20**]     Discharg...</td>\n",
       "    </tr>\n",
       "    <tr>\n",
       "      <th>1</th>\n",
       "      <td>4788</td>\n",
       "      <td>4</td>\n",
       "      <td>185777.0</td>\n",
       "      <td>2191-03-23</td>\n",
       "      <td>NaN</td>\n",
       "      <td>NaN</td>\n",
       "      <td>Discharge summary</td>\n",
       "      <td>Report</td>\n",
       "      <td>NaN</td>\n",
       "      <td>NaN</td>\n",
       "      <td>Admission Date:  [**2191-3-16**]     Discharge...</td>\n",
       "    </tr>\n",
       "    <tr>\n",
       "      <th>2</th>\n",
       "      <td>20825</td>\n",
       "      <td>6</td>\n",
       "      <td>107064.0</td>\n",
       "      <td>2175-06-15</td>\n",
       "      <td>NaN</td>\n",
       "      <td>NaN</td>\n",
       "      <td>Discharge summary</td>\n",
       "      <td>Report</td>\n",
       "      <td>NaN</td>\n",
       "      <td>NaN</td>\n",
       "      <td>Admission Date: [**2175-5-30**]        Dischar...</td>\n",
       "    </tr>\n",
       "    <tr>\n",
       "      <th>3</th>\n",
       "      <td>20070</td>\n",
       "      <td>9</td>\n",
       "      <td>150750.0</td>\n",
       "      <td>2149-11-13</td>\n",
       "      <td>NaN</td>\n",
       "      <td>NaN</td>\n",
       "      <td>Discharge summary</td>\n",
       "      <td>Report</td>\n",
       "      <td>NaN</td>\n",
       "      <td>NaN</td>\n",
       "      <td>Admission Date:  [**2149-11-9**]       Dischar...</td>\n",
       "    </tr>\n",
       "    <tr>\n",
       "      <th>4</th>\n",
       "      <td>57115</td>\n",
       "      <td>9</td>\n",
       "      <td>150750.0</td>\n",
       "      <td>2149-11-14</td>\n",
       "      <td>NaN</td>\n",
       "      <td>NaN</td>\n",
       "      <td>Discharge summary</td>\n",
       "      <td>Addendum</td>\n",
       "      <td>NaN</td>\n",
       "      <td>NaN</td>\n",
       "      <td>Name:  [**Known lastname 10050**], [**Known fi...</td>\n",
       "    </tr>\n",
       "  </tbody>\n",
       "</table>\n",
       "</div>"
      ],
      "text/plain": [
       "   ROW_ID  SUBJECT_ID   HADM_ID   CHARTDATE  CHARTTIME  STORETIME  \\\n",
       "0   44005           3  145834.0  2101-10-31        NaN        NaN   \n",
       "1    4788           4  185777.0  2191-03-23        NaN        NaN   \n",
       "2   20825           6  107064.0  2175-06-15        NaN        NaN   \n",
       "3   20070           9  150750.0  2149-11-13        NaN        NaN   \n",
       "4   57115           9  150750.0  2149-11-14        NaN        NaN   \n",
       "\n",
       "            CATEGORY DESCRIPTION  CGID  ISERROR  \\\n",
       "0  Discharge summary      Report   NaN      NaN   \n",
       "1  Discharge summary      Report   NaN      NaN   \n",
       "2  Discharge summary      Report   NaN      NaN   \n",
       "3  Discharge summary      Report   NaN      NaN   \n",
       "4  Discharge summary    Addendum   NaN      NaN   \n",
       "\n",
       "                                                TEXT  \n",
       "0  Admission Date:  [**2101-10-20**]     Discharg...  \n",
       "1  Admission Date:  [**2191-3-16**]     Discharge...  \n",
       "2  Admission Date: [**2175-5-30**]        Dischar...  \n",
       "3  Admission Date:  [**2149-11-9**]       Dischar...  \n",
       "4  Name:  [**Known lastname 10050**], [**Known fi...  "
      ]
     },
     "execution_count": 37,
     "metadata": {},
     "output_type": "execute_result"
    }
   ],
   "source": [
    "dich_full = pd.read_csv(data_path + 'disch_full.csv')\n",
    "dich_full.head()"
   ]
  },
  {
   "cell_type": "markdown",
   "id": "d1de5164",
   "metadata": {},
   "source": [
    "### Sort"
   ]
  },
  {
   "cell_type": "code",
   "execution_count": 38,
   "id": "1cf63b1d",
   "metadata": {},
   "outputs": [],
   "source": [
    "labeldf = pd.read_csv(data_path + 'ALL_MAPPED_CODES.csv',dtype={\"ICD9_CODE\": str})"
   ]
  },
  {
   "cell_type": "code",
   "execution_count": 39,
   "id": "ff558d04",
   "metadata": {},
   "outputs": [
    {
     "data": {
      "text/html": [
       "<div>\n",
       "<style scoped>\n",
       "    .dataframe tbody tr th:only-of-type {\n",
       "        vertical-align: middle;\n",
       "    }\n",
       "\n",
       "    .dataframe tbody tr th {\n",
       "        vertical-align: top;\n",
       "    }\n",
       "\n",
       "    .dataframe thead th {\n",
       "        text-align: right;\n",
       "    }\n",
       "</style>\n",
       "<table border=\"1\" class=\"dataframe\">\n",
       "  <thead>\n",
       "    <tr style=\"text-align: right;\">\n",
       "      <th></th>\n",
       "      <th>SUBJECT_ID</th>\n",
       "      <th>HADM_ID</th>\n",
       "      <th>SEQ_NUM</th>\n",
       "      <th>ICD9_CODE</th>\n",
       "      <th>ICD10_CODE</th>\n",
       "    </tr>\n",
       "  </thead>\n",
       "  <tbody>\n",
       "    <tr>\n",
       "      <th>608</th>\n",
       "      <td>2</td>\n",
       "      <td>163353</td>\n",
       "      <td>1.0</td>\n",
       "      <td>V30.01</td>\n",
       "      <td>Z38.01</td>\n",
       "    </tr>\n",
       "    <tr>\n",
       "      <th>609</th>\n",
       "      <td>2</td>\n",
       "      <td>163353</td>\n",
       "      <td>2.0</td>\n",
       "      <td>V05.3</td>\n",
       "      <td>Z23</td>\n",
       "    </tr>\n",
       "    <tr>\n",
       "      <th>610</th>\n",
       "      <td>2</td>\n",
       "      <td>163353</td>\n",
       "      <td>3.0</td>\n",
       "      <td>V29.0</td>\n",
       "      <td>Z05.1</td>\n",
       "    </tr>\n",
       "    <tr>\n",
       "      <th>746132</th>\n",
       "      <td>2</td>\n",
       "      <td>163353</td>\n",
       "      <td>1.0</td>\n",
       "      <td>99.55</td>\n",
       "      <td>3E0134Z</td>\n",
       "    </tr>\n",
       "    <tr>\n",
       "      <th>611</th>\n",
       "      <td>3</td>\n",
       "      <td>145834</td>\n",
       "      <td>1.0</td>\n",
       "      <td>038.9</td>\n",
       "      <td>A41.9</td>\n",
       "    </tr>\n",
       "  </tbody>\n",
       "</table>\n",
       "</div>"
      ],
      "text/plain": [
       "        SUBJECT_ID  HADM_ID  SEQ_NUM ICD9_CODE ICD10_CODE\n",
       "608              2   163353      1.0    V30.01     Z38.01\n",
       "609              2   163353      2.0     V05.3        Z23\n",
       "610              2   163353      3.0     V29.0      Z05.1\n",
       "746132           2   163353      1.0     99.55    3E0134Z\n",
       "611              3   145834      1.0     038.9      A41.9"
      ]
     },
     "execution_count": 39,
     "metadata": {},
     "output_type": "execute_result"
    }
   ],
   "source": [
    "labeldf = labeldf.drop(['ROW_ID'],axis=1)\n",
    "labeldf = labeldf.sort_values(['SUBJECT_ID', 'HADM_ID'])\n",
    "labeldf.head()"
   ]
  },
  {
   "cell_type": "code",
   "execution_count": 40,
   "id": "1c666453",
   "metadata": {},
   "outputs": [],
   "source": [
    "labeldf.to_csv(data_path + 'ALL_MAPPED_CODES.csv', index=False)"
   ]
  },
  {
   "cell_type": "markdown",
   "id": "79097271",
   "metadata": {},
   "source": [
    "### Filter"
   ]
  },
  {
   "cell_type": "code",
   "execution_count": 41,
   "id": "3715dfb4",
   "metadata": {},
   "outputs": [
    {
     "data": {
      "text/html": [
       "<div>\n",
       "<style scoped>\n",
       "    .dataframe tbody tr th:only-of-type {\n",
       "        vertical-align: middle;\n",
       "    }\n",
       "\n",
       "    .dataframe tbody tr th {\n",
       "        vertical-align: top;\n",
       "    }\n",
       "\n",
       "    .dataframe thead th {\n",
       "        text-align: right;\n",
       "    }\n",
       "</style>\n",
       "<table border=\"1\" class=\"dataframe\">\n",
       "  <thead>\n",
       "    <tr style=\"text-align: right;\">\n",
       "      <th></th>\n",
       "      <th>SUBJECT_ID</th>\n",
       "      <th>HADM_ID</th>\n",
       "      <th>SEQ_NUM</th>\n",
       "      <th>ICD9_CODE</th>\n",
       "      <th>ICD10_CODE</th>\n",
       "    </tr>\n",
       "  </thead>\n",
       "  <tbody>\n",
       "    <tr>\n",
       "      <th>0</th>\n",
       "      <td>2</td>\n",
       "      <td>163353</td>\n",
       "      <td>1.0</td>\n",
       "      <td>V30.01</td>\n",
       "      <td>Z38.01</td>\n",
       "    </tr>\n",
       "    <tr>\n",
       "      <th>1</th>\n",
       "      <td>2</td>\n",
       "      <td>163353</td>\n",
       "      <td>2.0</td>\n",
       "      <td>V05.3</td>\n",
       "      <td>Z23</td>\n",
       "    </tr>\n",
       "    <tr>\n",
       "      <th>2</th>\n",
       "      <td>2</td>\n",
       "      <td>163353</td>\n",
       "      <td>3.0</td>\n",
       "      <td>V29.0</td>\n",
       "      <td>Z05.1</td>\n",
       "    </tr>\n",
       "    <tr>\n",
       "      <th>3</th>\n",
       "      <td>2</td>\n",
       "      <td>163353</td>\n",
       "      <td>1.0</td>\n",
       "      <td>99.55</td>\n",
       "      <td>3E0134Z</td>\n",
       "    </tr>\n",
       "    <tr>\n",
       "      <th>4</th>\n",
       "      <td>3</td>\n",
       "      <td>145834</td>\n",
       "      <td>1.0</td>\n",
       "      <td>038.9</td>\n",
       "      <td>A41.9</td>\n",
       "    </tr>\n",
       "  </tbody>\n",
       "</table>\n",
       "</div>"
      ],
      "text/plain": [
       "   SUBJECT_ID  HADM_ID  SEQ_NUM ICD9_CODE ICD10_CODE\n",
       "0           2   163353      1.0    V30.01     Z38.01\n",
       "1           2   163353      2.0     V05.3        Z23\n",
       "2           2   163353      3.0     V29.0      Z05.1\n",
       "3           2   163353      1.0     99.55    3E0134Z\n",
       "4           3   145834      1.0     038.9      A41.9"
      ]
     },
     "execution_count": 41,
     "metadata": {},
     "output_type": "execute_result"
    }
   ],
   "source": [
    "labeldf = pd.read_csv(data_path + 'ALL_MAPPED_CODES.csv',dtype={\"ICD9_CODE\": str})\n",
    "labeldf.head()"
   ]
  },
  {
   "cell_type": "code",
   "execution_count": 44,
   "id": "642d5831",
   "metadata": {},
   "outputs": [
    {
     "data": {
      "text/plain": [
       "(52726, 52726)"
      ]
     },
     "execution_count": 44,
     "metadata": {},
     "output_type": "execute_result"
    }
   ],
   "source": [
    "len(dich_full['HADM_ID'].unique()), len(labeldf['HADM_ID'].unique())"
   ]
  },
  {
   "cell_type": "code",
   "execution_count": 45,
   "id": "d15b1f71",
   "metadata": {},
   "outputs": [],
   "source": [
    "admission_ids = list(dich_full['HADM_ID'].unique()) \n",
    "labeldf = labeldf.loc[labeldf['HADM_ID'].isin(admission_ids)]"
   ]
  },
  {
   "cell_type": "code",
   "execution_count": 46,
   "id": "ad6f9c15",
   "metadata": {},
   "outputs": [],
   "source": [
    "labeldf = labeldf[labeldf['ICD9_CODE'].notna()]"
   ]
  },
  {
   "cell_type": "code",
   "execution_count": 47,
   "id": "082d0ba3",
   "metadata": {},
   "outputs": [],
   "source": [
    "labeldf.to_csv(data_path + 'ALL_CODES_filtered.csv', index=False)"
   ]
  },
  {
   "cell_type": "code",
   "execution_count": 48,
   "id": "faf9c1d5",
   "metadata": {},
   "outputs": [
    {
     "data": {
      "text/plain": [
       "52722"
      ]
     },
     "execution_count": 48,
     "metadata": {},
     "output_type": "execute_result"
    }
   ],
   "source": [
    "labeldf = pd.read_csv(data_path + 'ALL_CODES_filtered.csv',dtype={\"ICD9_CODE\": str})\n",
    "len(labeldf['HADM_ID'].unique())"
   ]
  },
  {
   "cell_type": "code",
   "execution_count": 49,
   "id": "bfec4a29",
   "metadata": {},
   "outputs": [
    {
     "data": {
      "text/html": [
       "<div>\n",
       "<style scoped>\n",
       "    .dataframe tbody tr th:only-of-type {\n",
       "        vertical-align: middle;\n",
       "    }\n",
       "\n",
       "    .dataframe tbody tr th {\n",
       "        vertical-align: top;\n",
       "    }\n",
       "\n",
       "    .dataframe thead th {\n",
       "        text-align: right;\n",
       "    }\n",
       "</style>\n",
       "<table border=\"1\" class=\"dataframe\">\n",
       "  <thead>\n",
       "    <tr style=\"text-align: right;\">\n",
       "      <th></th>\n",
       "      <th>SUBJECT_ID</th>\n",
       "      <th>HADM_ID</th>\n",
       "      <th>SEQ_NUM</th>\n",
       "      <th>ICD9_CODE</th>\n",
       "      <th>ICD10_CODE</th>\n",
       "    </tr>\n",
       "  </thead>\n",
       "  <tbody>\n",
       "    <tr>\n",
       "      <th>0</th>\n",
       "      <td>3</td>\n",
       "      <td>145834</td>\n",
       "      <td>1.0</td>\n",
       "      <td>038.9</td>\n",
       "      <td>A41.9</td>\n",
       "    </tr>\n",
       "    <tr>\n",
       "      <th>1</th>\n",
       "      <td>3</td>\n",
       "      <td>145834</td>\n",
       "      <td>2.0</td>\n",
       "      <td>785.59</td>\n",
       "      <td>R57.1</td>\n",
       "    </tr>\n",
       "    <tr>\n",
       "      <th>2</th>\n",
       "      <td>3</td>\n",
       "      <td>145834</td>\n",
       "      <td>3.0</td>\n",
       "      <td>584.9</td>\n",
       "      <td>N17.9</td>\n",
       "    </tr>\n",
       "    <tr>\n",
       "      <th>3</th>\n",
       "      <td>3</td>\n",
       "      <td>145834</td>\n",
       "      <td>4.0</td>\n",
       "      <td>427.5</td>\n",
       "      <td>I46.9</td>\n",
       "    </tr>\n",
       "    <tr>\n",
       "      <th>4</th>\n",
       "      <td>3</td>\n",
       "      <td>145834</td>\n",
       "      <td>5.0</td>\n",
       "      <td>410.71</td>\n",
       "      <td>I21.4</td>\n",
       "    </tr>\n",
       "  </tbody>\n",
       "</table>\n",
       "</div>"
      ],
      "text/plain": [
       "   SUBJECT_ID  HADM_ID  SEQ_NUM ICD9_CODE ICD10_CODE\n",
       "0           3   145834      1.0     038.9      A41.9\n",
       "1           3   145834      2.0    785.59      R57.1\n",
       "2           3   145834      3.0     584.9      N17.9\n",
       "3           3   145834      4.0     427.5      I46.9\n",
       "4           3   145834      5.0    410.71      I21.4"
      ]
     },
     "execution_count": 49,
     "metadata": {},
     "output_type": "execute_result"
    }
   ],
   "source": [
    "labeldf.head()"
   ]
  },
  {
   "cell_type": "code",
   "execution_count": 50,
   "id": "1348cb0a",
   "metadata": {},
   "outputs": [],
   "source": [
    "dich_full = pd.read_csv(data_path + 'disch_full.csv')\n",
    "admission_ids = list(labeldf['HADM_ID'].unique()) \n",
    "dich_full = dich_full.loc[dich_full['HADM_ID'].isin(admission_ids)]"
   ]
  },
  {
   "cell_type": "code",
   "execution_count": 51,
   "id": "f7918ccc",
   "metadata": {},
   "outputs": [],
   "source": [
    "dich_full.to_csv(data_path + 'disch_full.csv', index=False)"
   ]
  },
  {
   "cell_type": "code",
   "execution_count": 52,
   "id": "2e4d504b",
   "metadata": {},
   "outputs": [
    {
     "data": {
      "text/plain": [
       "52722"
      ]
     },
     "execution_count": 52,
     "metadata": {},
     "output_type": "execute_result"
    }
   ],
   "source": [
    "dich_full = pd.read_csv(data_path + 'disch_full.csv')\n",
    "len(dich_full['HADM_ID'].unique())"
   ]
  },
  {
   "cell_type": "markdown",
   "id": "6dae4344",
   "metadata": {},
   "source": [
    "### concatenate"
   ]
  },
  {
   "cell_type": "code",
   "execution_count": 53,
   "id": "945285be",
   "metadata": {},
   "outputs": [],
   "source": [
    "labeldf = pd.read_csv(data_path + 'ALL_CODES_filtered.csv',dtype={\"ICD9_CODE\": str})"
   ]
  },
  {
   "cell_type": "code",
   "execution_count": 54,
   "id": "f6a150b9",
   "metadata": {},
   "outputs": [
    {
     "name": "stderr",
     "output_type": "stream",
     "text": [
      "/tmp/ipykernel_289499/2348149100.py:1: FutureWarning: ['SEQ_NUM'] did not aggregate successfully. If any error is raised this will raise in a future version of pandas. Drop these columns/ops to avoid this warning.\n",
      "  labeldf=labeldf.groupby(['SUBJECT_ID','HADM_ID']).aggregate([('ICD9_CODE',';'.join)],[('ICD10_CODE',';'.join)])\n"
     ]
    }
   ],
   "source": [
    "labeldf=labeldf.groupby(['SUBJECT_ID','HADM_ID']).aggregate([('ICD9_CODE',';'.join)],[('ICD10_CODE',';'.join)])"
   ]
  },
  {
   "cell_type": "code",
   "execution_count": 55,
   "id": "f67615a6",
   "metadata": {},
   "outputs": [],
   "source": [
    "labeldf = labeldf.droplevel(axis=1, level=1).reset_index()"
   ]
  },
  {
   "cell_type": "code",
   "execution_count": 57,
   "id": "a1e58180",
   "metadata": {},
   "outputs": [
    {
     "data": {
      "text/html": [
       "<div>\n",
       "<style scoped>\n",
       "    .dataframe tbody tr th:only-of-type {\n",
       "        vertical-align: middle;\n",
       "    }\n",
       "\n",
       "    .dataframe tbody tr th {\n",
       "        vertical-align: top;\n",
       "    }\n",
       "\n",
       "    .dataframe thead th {\n",
       "        text-align: right;\n",
       "    }\n",
       "</style>\n",
       "<table border=\"1\" class=\"dataframe\">\n",
       "  <thead>\n",
       "    <tr style=\"text-align: right;\">\n",
       "      <th></th>\n",
       "      <th>SUBJECT_ID</th>\n",
       "      <th>HADM_ID</th>\n",
       "      <th>ICD9_CODE</th>\n",
       "      <th>ICD10_CODE</th>\n",
       "    </tr>\n",
       "  </thead>\n",
       "  <tbody>\n",
       "    <tr>\n",
       "      <th>0</th>\n",
       "      <td>3</td>\n",
       "      <td>145834</td>\n",
       "      <td>038.9;785.59;584.9;427.5;410.71;428.0;682.6;42...</td>\n",
       "      <td>A41.9;R57.1;N17.9;I46.9;I21.4;I50.814;L03.119;...</td>\n",
       "    </tr>\n",
       "    <tr>\n",
       "      <th>1</th>\n",
       "      <td>4</td>\n",
       "      <td>185777</td>\n",
       "      <td>042;136.3;799.4;276.3;790.7;571.5;041.11;V09.0...</td>\n",
       "      <td>B20;B59;R64;E87.3;R78.81;K74.0;B95.61;Z16.11;E...</td>\n",
       "    </tr>\n",
       "    <tr>\n",
       "      <th>2</th>\n",
       "      <td>6</td>\n",
       "      <td>107064</td>\n",
       "      <td>403.91;444.0;997.2;276.6;276.7;285.9;275.3;V15...</td>\n",
       "      <td>I12.0;444.0;T81.719A;276.6;E87.5;D64.9;E83.30;...</td>\n",
       "    </tr>\n",
       "    <tr>\n",
       "      <th>3</th>\n",
       "      <td>9</td>\n",
       "      <td>150750</td>\n",
       "      <td>431;507.0;428.0;584.9;276.5;401.9;96.72;96.04</td>\n",
       "      <td>I61.9;J69.0;I50.814;N17.9;276.5;I10;5A1955Z;0B...</td>\n",
       "    </tr>\n",
       "    <tr>\n",
       "      <th>4</th>\n",
       "      <td>10</td>\n",
       "      <td>184167</td>\n",
       "      <td>V30.00;774.2;765.25;765.15;V29.0;99.83;99.15;96.6</td>\n",
       "      <td>Z38.00;P59.0;P07.32;P07.15;Z05.1;6A600ZZ;3E033...</td>\n",
       "    </tr>\n",
       "  </tbody>\n",
       "</table>\n",
       "</div>"
      ],
      "text/plain": [
       "   SUBJECT_ID  HADM_ID                                          ICD9_CODE  \\\n",
       "0           3   145834  038.9;785.59;584.9;427.5;410.71;428.0;682.6;42...   \n",
       "1           4   185777  042;136.3;799.4;276.3;790.7;571.5;041.11;V09.0...   \n",
       "2           6   107064  403.91;444.0;997.2;276.6;276.7;285.9;275.3;V15...   \n",
       "3           9   150750      431;507.0;428.0;584.9;276.5;401.9;96.72;96.04   \n",
       "4          10   184167  V30.00;774.2;765.25;765.15;V29.0;99.83;99.15;96.6   \n",
       "\n",
       "                                          ICD10_CODE  \n",
       "0  A41.9;R57.1;N17.9;I46.9;I21.4;I50.814;L03.119;...  \n",
       "1  B20;B59;R64;E87.3;R78.81;K74.0;B95.61;Z16.11;E...  \n",
       "2  I12.0;444.0;T81.719A;276.6;E87.5;D64.9;E83.30;...  \n",
       "3  I61.9;J69.0;I50.814;N17.9;276.5;I10;5A1955Z;0B...  \n",
       "4  Z38.00;P59.0;P07.32;P07.15;Z05.1;6A600ZZ;3E033...  "
      ]
     },
     "execution_count": 57,
     "metadata": {},
     "output_type": "execute_result"
    }
   ],
   "source": [
    "labeldf.head()"
   ]
  },
  {
   "cell_type": "code",
   "execution_count": 58,
   "id": "0e3ec1da",
   "metadata": {},
   "outputs": [],
   "source": [
    "dich_full = pd.read_csv(data_path + 'disch_full.csv')"
   ]
  },
  {
   "cell_type": "code",
   "execution_count": 59,
   "id": "8c8a9e4c",
   "metadata": {},
   "outputs": [
    {
     "name": "stderr",
     "output_type": "stream",
     "text": [
      "/tmp/ipykernel_289499/1083673685.py:1: FutureWarning: ['ROW_ID', 'CHARTTIME', 'STORETIME', 'CGID', 'ISERROR'] did not aggregate successfully. If any error is raised this will raise in a future version of pandas. Drop these columns/ops to avoid this warning.\n",
      "  dich_full=dich_full.groupby(['SUBJECT_ID','HADM_ID']).aggregate([('TEXT',' '.join)])\n"
     ]
    }
   ],
   "source": [
    "dich_full=dich_full.groupby(['SUBJECT_ID','HADM_ID']).aggregate([('TEXT',' '.join)])"
   ]
  },
  {
   "cell_type": "code",
   "execution_count": 60,
   "id": "76ffb9fc",
   "metadata": {},
   "outputs": [],
   "source": [
    "dich_full = dich_full.droplevel(axis=1, level=1).reset_index()\n",
    "dich_full = dich_full.drop(['CHARTDATE','CATEGORY','DESCRIPTION'],axis=1)"
   ]
  },
  {
   "cell_type": "code",
   "execution_count": 61,
   "id": "1093d135",
   "metadata": {},
   "outputs": [
    {
     "data": {
      "text/html": [
       "<div>\n",
       "<style scoped>\n",
       "    .dataframe tbody tr th:only-of-type {\n",
       "        vertical-align: middle;\n",
       "    }\n",
       "\n",
       "    .dataframe tbody tr th {\n",
       "        vertical-align: top;\n",
       "    }\n",
       "\n",
       "    .dataframe thead th {\n",
       "        text-align: right;\n",
       "    }\n",
       "</style>\n",
       "<table border=\"1\" class=\"dataframe\">\n",
       "  <thead>\n",
       "    <tr style=\"text-align: right;\">\n",
       "      <th></th>\n",
       "      <th>SUBJECT_ID</th>\n",
       "      <th>HADM_ID</th>\n",
       "      <th>TEXT</th>\n",
       "    </tr>\n",
       "  </thead>\n",
       "  <tbody>\n",
       "    <tr>\n",
       "      <th>0</th>\n",
       "      <td>3</td>\n",
       "      <td>145834.0</td>\n",
       "      <td>Admission Date:  [**2101-10-20**]     Discharg...</td>\n",
       "    </tr>\n",
       "    <tr>\n",
       "      <th>1</th>\n",
       "      <td>4</td>\n",
       "      <td>185777.0</td>\n",
       "      <td>Admission Date:  [**2191-3-16**]     Discharge...</td>\n",
       "    </tr>\n",
       "    <tr>\n",
       "      <th>2</th>\n",
       "      <td>6</td>\n",
       "      <td>107064.0</td>\n",
       "      <td>Admission Date: [**2175-5-30**]        Dischar...</td>\n",
       "    </tr>\n",
       "    <tr>\n",
       "      <th>3</th>\n",
       "      <td>9</td>\n",
       "      <td>150750.0</td>\n",
       "      <td>Admission Date:  [**2149-11-9**]       Dischar...</td>\n",
       "    </tr>\n",
       "    <tr>\n",
       "      <th>4</th>\n",
       "      <td>10</td>\n",
       "      <td>184167.0</td>\n",
       "      <td>Admission Date:  [**2103-6-28**]       Dischar...</td>\n",
       "    </tr>\n",
       "  </tbody>\n",
       "</table>\n",
       "</div>"
      ],
      "text/plain": [
       "   SUBJECT_ID   HADM_ID                                               TEXT\n",
       "0           3  145834.0  Admission Date:  [**2101-10-20**]     Discharg...\n",
       "1           4  185777.0  Admission Date:  [**2191-3-16**]     Discharge...\n",
       "2           6  107064.0  Admission Date: [**2175-5-30**]        Dischar...\n",
       "3           9  150750.0  Admission Date:  [**2149-11-9**]       Dischar...\n",
       "4          10  184167.0  Admission Date:  [**2103-6-28**]       Dischar..."
      ]
     },
     "execution_count": 61,
     "metadata": {},
     "output_type": "execute_result"
    }
   ],
   "source": [
    "dich_full.head()"
   ]
  },
  {
   "cell_type": "code",
   "execution_count": 62,
   "id": "351a7036",
   "metadata": {},
   "outputs": [],
   "source": [
    "notes_labeled_full = pd.merge(labeldf,dich_full,on=['HADM_ID','SUBJECT_ID'],how='inner')"
   ]
  },
  {
   "cell_type": "code",
   "execution_count": 63,
   "id": "ded32315",
   "metadata": {},
   "outputs": [],
   "source": [
    "notes_labeled_full = notes_labeled_full.loc[:,['SUBJECT_ID','HADM_ID','TEXT','ICD9_CODE','ICD10_CODE']]"
   ]
  },
  {
   "cell_type": "code",
   "execution_count": 64,
   "id": "c7cc368c",
   "metadata": {},
   "outputs": [
    {
     "data": {
      "text/html": [
       "<div>\n",
       "<style scoped>\n",
       "    .dataframe tbody tr th:only-of-type {\n",
       "        vertical-align: middle;\n",
       "    }\n",
       "\n",
       "    .dataframe tbody tr th {\n",
       "        vertical-align: top;\n",
       "    }\n",
       "\n",
       "    .dataframe thead th {\n",
       "        text-align: right;\n",
       "    }\n",
       "</style>\n",
       "<table border=\"1\" class=\"dataframe\">\n",
       "  <thead>\n",
       "    <tr style=\"text-align: right;\">\n",
       "      <th></th>\n",
       "      <th>SUBJECT_ID</th>\n",
       "      <th>HADM_ID</th>\n",
       "      <th>TEXT</th>\n",
       "      <th>ICD9_CODE</th>\n",
       "      <th>ICD10_CODE</th>\n",
       "    </tr>\n",
       "  </thead>\n",
       "  <tbody>\n",
       "    <tr>\n",
       "      <th>0</th>\n",
       "      <td>3</td>\n",
       "      <td>145834</td>\n",
       "      <td>Admission Date:  [**2101-10-20**]     Discharg...</td>\n",
       "      <td>038.9;785.59;584.9;427.5;410.71;428.0;682.6;42...</td>\n",
       "      <td>A41.9;R57.1;N17.9;I46.9;I21.4;I50.814;L03.119;...</td>\n",
       "    </tr>\n",
       "    <tr>\n",
       "      <th>1</th>\n",
       "      <td>4</td>\n",
       "      <td>185777</td>\n",
       "      <td>Admission Date:  [**2191-3-16**]     Discharge...</td>\n",
       "      <td>042;136.3;799.4;276.3;790.7;571.5;041.11;V09.0...</td>\n",
       "      <td>B20;B59;R64;E87.3;R78.81;K74.0;B95.61;Z16.11;E...</td>\n",
       "    </tr>\n",
       "    <tr>\n",
       "      <th>2</th>\n",
       "      <td>6</td>\n",
       "      <td>107064</td>\n",
       "      <td>Admission Date: [**2175-5-30**]        Dischar...</td>\n",
       "      <td>403.91;444.0;997.2;276.6;276.7;285.9;275.3;V15...</td>\n",
       "      <td>I12.0;444.0;T81.719A;276.6;E87.5;D64.9;E83.30;...</td>\n",
       "    </tr>\n",
       "    <tr>\n",
       "      <th>3</th>\n",
       "      <td>9</td>\n",
       "      <td>150750</td>\n",
       "      <td>Admission Date:  [**2149-11-9**]       Dischar...</td>\n",
       "      <td>431;507.0;428.0;584.9;276.5;401.9;96.72;96.04</td>\n",
       "      <td>I61.9;J69.0;I50.814;N17.9;276.5;I10;5A1955Z;0B...</td>\n",
       "    </tr>\n",
       "    <tr>\n",
       "      <th>4</th>\n",
       "      <td>10</td>\n",
       "      <td>184167</td>\n",
       "      <td>Admission Date:  [**2103-6-28**]       Dischar...</td>\n",
       "      <td>V30.00;774.2;765.25;765.15;V29.0;99.83;99.15;96.6</td>\n",
       "      <td>Z38.00;P59.0;P07.32;P07.15;Z05.1;6A600ZZ;3E033...</td>\n",
       "    </tr>\n",
       "  </tbody>\n",
       "</table>\n",
       "</div>"
      ],
      "text/plain": [
       "   SUBJECT_ID  HADM_ID                                               TEXT  \\\n",
       "0           3   145834  Admission Date:  [**2101-10-20**]     Discharg...   \n",
       "1           4   185777  Admission Date:  [**2191-3-16**]     Discharge...   \n",
       "2           6   107064  Admission Date: [**2175-5-30**]        Dischar...   \n",
       "3           9   150750  Admission Date:  [**2149-11-9**]       Dischar...   \n",
       "4          10   184167  Admission Date:  [**2103-6-28**]       Dischar...   \n",
       "\n",
       "                                           ICD9_CODE  \\\n",
       "0  038.9;785.59;584.9;427.5;410.71;428.0;682.6;42...   \n",
       "1  042;136.3;799.4;276.3;790.7;571.5;041.11;V09.0...   \n",
       "2  403.91;444.0;997.2;276.6;276.7;285.9;275.3;V15...   \n",
       "3      431;507.0;428.0;584.9;276.5;401.9;96.72;96.04   \n",
       "4  V30.00;774.2;765.25;765.15;V29.0;99.83;99.15;96.6   \n",
       "\n",
       "                                          ICD10_CODE  \n",
       "0  A41.9;R57.1;N17.9;I46.9;I21.4;I50.814;L03.119;...  \n",
       "1  B20;B59;R64;E87.3;R78.81;K74.0;B95.61;Z16.11;E...  \n",
       "2  I12.0;444.0;T81.719A;276.6;E87.5;D64.9;E83.30;...  \n",
       "3  I61.9;J69.0;I50.814;N17.9;276.5;I10;5A1955Z;0B...  \n",
       "4  Z38.00;P59.0;P07.32;P07.15;Z05.1;6A600ZZ;3E033...  "
      ]
     },
     "execution_count": 64,
     "metadata": {},
     "output_type": "execute_result"
    }
   ],
   "source": [
    "notes_labeled_full.head()"
   ]
  },
  {
   "cell_type": "code",
   "execution_count": 66,
   "id": "1778f8e4",
   "metadata": {},
   "outputs": [],
   "source": [
    "notes_labeled_full.to_csv(data_path + 'notes_labeled.csv', index=False)"
   ]
  },
  {
   "cell_type": "code",
   "execution_count": 67,
   "id": "88ec3b4a",
   "metadata": {},
   "outputs": [],
   "source": [
    "del dich_full\n",
    "del notes_labeled_full"
   ]
  },
  {
   "cell_type": "markdown",
   "id": "a6ace35d",
   "metadata": {},
   "source": [
    "### Preprocess Text"
   ]
  },
  {
   "cell_type": "code",
   "execution_count": 68,
   "id": "a816155f",
   "metadata": {},
   "outputs": [],
   "source": [
    "df  = pd.read_csv(data_path + 'notes_labeled.csv')"
   ]
  },
  {
   "cell_type": "code",
   "execution_count": 69,
   "id": "420c475f",
   "metadata": {},
   "outputs": [
    {
     "data": {
      "text/html": [
       "<div>\n",
       "<style scoped>\n",
       "    .dataframe tbody tr th:only-of-type {\n",
       "        vertical-align: middle;\n",
       "    }\n",
       "\n",
       "    .dataframe tbody tr th {\n",
       "        vertical-align: top;\n",
       "    }\n",
       "\n",
       "    .dataframe thead th {\n",
       "        text-align: right;\n",
       "    }\n",
       "</style>\n",
       "<table border=\"1\" class=\"dataframe\">\n",
       "  <thead>\n",
       "    <tr style=\"text-align: right;\">\n",
       "      <th></th>\n",
       "      <th>SUBJECT_ID</th>\n",
       "      <th>HADM_ID</th>\n",
       "      <th>TEXT</th>\n",
       "      <th>ICD9_CODE</th>\n",
       "      <th>ICD10_CODE</th>\n",
       "    </tr>\n",
       "  </thead>\n",
       "  <tbody>\n",
       "    <tr>\n",
       "      <th>0</th>\n",
       "      <td>3</td>\n",
       "      <td>145834</td>\n",
       "      <td>Admission Date:  [**2101-10-20**]     Discharg...</td>\n",
       "      <td>038.9;785.59;584.9;427.5;410.71;428.0;682.6;42...</td>\n",
       "      <td>A41.9;R57.1;N17.9;I46.9;I21.4;I50.814;L03.119;...</td>\n",
       "    </tr>\n",
       "    <tr>\n",
       "      <th>1</th>\n",
       "      <td>4</td>\n",
       "      <td>185777</td>\n",
       "      <td>Admission Date:  [**2191-3-16**]     Discharge...</td>\n",
       "      <td>042;136.3;799.4;276.3;790.7;571.5;041.11;V09.0...</td>\n",
       "      <td>B20;B59;R64;E87.3;R78.81;K74.0;B95.61;Z16.11;E...</td>\n",
       "    </tr>\n",
       "    <tr>\n",
       "      <th>2</th>\n",
       "      <td>6</td>\n",
       "      <td>107064</td>\n",
       "      <td>Admission Date: [**2175-5-30**]        Dischar...</td>\n",
       "      <td>403.91;444.0;997.2;276.6;276.7;285.9;275.3;V15...</td>\n",
       "      <td>I12.0;444.0;T81.719A;276.6;E87.5;D64.9;E83.30;...</td>\n",
       "    </tr>\n",
       "    <tr>\n",
       "      <th>3</th>\n",
       "      <td>9</td>\n",
       "      <td>150750</td>\n",
       "      <td>Admission Date:  [**2149-11-9**]       Dischar...</td>\n",
       "      <td>431;507.0;428.0;584.9;276.5;401.9;96.72;96.04</td>\n",
       "      <td>I61.9;J69.0;I50.814;N17.9;276.5;I10;5A1955Z;0B...</td>\n",
       "    </tr>\n",
       "    <tr>\n",
       "      <th>4</th>\n",
       "      <td>10</td>\n",
       "      <td>184167</td>\n",
       "      <td>Admission Date:  [**2103-6-28**]       Dischar...</td>\n",
       "      <td>V30.00;774.2;765.25;765.15;V29.0;99.83;99.15;96.6</td>\n",
       "      <td>Z38.00;P59.0;P07.32;P07.15;Z05.1;6A600ZZ;3E033...</td>\n",
       "    </tr>\n",
       "  </tbody>\n",
       "</table>\n",
       "</div>"
      ],
      "text/plain": [
       "   SUBJECT_ID  HADM_ID                                               TEXT  \\\n",
       "0           3   145834  Admission Date:  [**2101-10-20**]     Discharg...   \n",
       "1           4   185777  Admission Date:  [**2191-3-16**]     Discharge...   \n",
       "2           6   107064  Admission Date: [**2175-5-30**]        Dischar...   \n",
       "3           9   150750  Admission Date:  [**2149-11-9**]       Dischar...   \n",
       "4          10   184167  Admission Date:  [**2103-6-28**]       Dischar...   \n",
       "\n",
       "                                           ICD9_CODE  \\\n",
       "0  038.9;785.59;584.9;427.5;410.71;428.0;682.6;42...   \n",
       "1  042;136.3;799.4;276.3;790.7;571.5;041.11;V09.0...   \n",
       "2  403.91;444.0;997.2;276.6;276.7;285.9;275.3;V15...   \n",
       "3      431;507.0;428.0;584.9;276.5;401.9;96.72;96.04   \n",
       "4  V30.00;774.2;765.25;765.15;V29.0;99.83;99.15;96.6   \n",
       "\n",
       "                                          ICD10_CODE  \n",
       "0  A41.9;R57.1;N17.9;I46.9;I21.4;I50.814;L03.119;...  \n",
       "1  B20;B59;R64;E87.3;R78.81;K74.0;B95.61;Z16.11;E...  \n",
       "2  I12.0;444.0;T81.719A;276.6;E87.5;D64.9;E83.30;...  \n",
       "3  I61.9;J69.0;I50.814;N17.9;276.5;I10;5A1955Z;0B...  \n",
       "4  Z38.00;P59.0;P07.32;P07.15;Z05.1;6A600ZZ;3E033...  "
      ]
     },
     "execution_count": 69,
     "metadata": {},
     "output_type": "execute_result"
    }
   ],
   "source": [
    "df.head()"
   ]
  },
  {
   "cell_type": "code",
   "execution_count": 71,
   "id": "3d4cc989",
   "metadata": {},
   "outputs": [
    {
     "data": {
      "text/plain": [
       "\"Admission Date:  [**2101-10-20**]     Discharge Date:  [**2101-10-31**]\\n\\nDate of Birth:   [**2025-4-11**]     Sex:  M\\n\\nService:  Medicine\\n\\nCHIEF COMPLAINT:  Admitted from rehabilitation for\\nhypotension (systolic blood pressure to the 70s) and\\ndecreased urine output.\\n\\nHISTORY OF PRESENT ILLNESS:  The patient is a 76-year-old\\nmale who had been hospitalized at the [**Hospital1 190**] from [**10-11**] through [**10-19**] of [**2101**]\\nafter undergoing a left femoral-AT bypass graft and was\\nsubsequently discharged to a rehabilitation facility.\\n\\nOn [**2101-10-20**], he presented again to the [**Hospital1 346**] after being found to have a systolic\\nblood pressure in the 70s and no urine output for 17 hours.\\nA Foley catheter placed at the rehabilitation facility\\nyielded 100 cc of murky/brown urine.  There may also have\\nbeen purulent discharge at the penile meatus at this time.\\n\\nOn presentation to the Emergency Department, the patient was\\nwithout subjective complaints.  In the Emergency Department,\\nhe was found to have systolic blood pressure of 85.  He was\\ngiven 6 liters of intravenous fluids and transiently started\\non dopamine for a systolic blood pressure in the 80.s\\n\\nPAST MEDICAL HISTORY:\\n 1.  Coronary artery disease with diffuse 3-vessel disease;\\nright-dominant, status post proximal left circumflex stent in\\n[**2101-7-9**] with occlusion of the distal left circumflex;\\nstatus post right coronary artery stent on [**2101-8-26**] (no\\npercutaneous coronary intervention to 99% diagonal left\\ncircumflex, 80% small proximal left anterior descending\\nartery, or 80% small distal left anterior descending artery).\\n 2.  Congestive heart failure (with an ejection fraction\\nof 15% to 20%).\\n 3.  Type 2 diabetes with neuropathy.\\n 4.  Hypertension.\\n 5.  Diverticulosis (found on colonoscopy in [**2101-7-9**]).\\n 6.  Alzheimer's dementia.\\n 7.  History of gastrointestinal bleed (while the patient was\\ntaking eptifibatide).\\n 8.  Cardiac risk factors (with a baseline creatinine\\nof 1.4 to 1.6).\\n 9.  Hypercholesterolemia.\\n10.  History of methicillin-resistant Staphylococcus aureus\\nand Pseudomonas growth in wound cultures.\\n11.  Severe peripheral vascular disease; status post left\\nfemoral-AT bypass graft on [**2101-10-11**].\\n12.  Chronic nonhealing foot ulcers.\\n13.  Recent right pedal cellulitis.\\n\\nALLERGIES:  The patient has no known drug allergies.\\n\\nMEDICATIONS ON ADMISSION:\\n 1.  Vancomycin 1 g intravenously q.24h. for a level of less\\nthan 15 (started on [**2101-10-4**]).\\n 2.  Levofloxacin 250 mg p.o. q.d. (started on [**2101-10-4**]).\\n 3.  Metronidazole 500 mg p.o. q.8h. (started on [**2101-10-4**]).\\n 4.  Heparin 5000 units subcutaneous b.i.d.\\n 5.  Simvastatin 40 mg p.o. q.d.\\n 6.  Lisinopril 5 mg p.o. q.d.\\n 7.  Furosemide 40 mg p.o. q.d.\\n 8.  Vitamin E 400 IU p.o. q.d.\\n 9.  Atenolol 25 mg p.o. q.d.\\n10.  Pantoprazole 40 mg p.o. q.d.\\n11.  Ascorbic acid 500 mg p.o. b.i.d.\\n12.  NPH 17 units b.i.d.\\n13.  Regular insulin sliding-scale.\\n14.  Bisacodyl 10 mg p.o./p.r. as needed.\\n15.  Docusate 100 mg p.o. b.i.d.\\n16.  Percocet 5/325 mg one tablet p.o. q.4-6h. as needed for\\npain.\\n17.  Aspirin 81 mg p.o. q.d.\\n18.  Metoprolol 75 mg p.o. b.i.d.\\n\\nSOCIAL HISTORY:  The patient is retired and had been living\\nat home with his wife prior to his admission to the hospital\\non [**2101-10-11**]; he had been living at [**Hospital3 1761**] for the day prior to admission.  He is a\\nsocial drinker and has a 40-pack-year smoking history;\\nalthough, he quit smoking 20 years ago.\\n\\nPHYSICAL EXAMINATION ON PRESENTATION:   Initial physical\\nexamination revealed temperature was 96.1 degrees Fahrenheit,\\nheart rate was 83, blood pressure was 124/42 (following\\nadministration of 3 liters of normal saline), respiratory\\nwas 24, and his oxygen saturation was 100% on 2 liters nasal\\ncannula.  His heart had a regular rate and rhythm.  There\\nwere normal first and second heart sounds.  There was a 2/6\\nsystolic ejection murmur, and there were no rubs or gallops.\\nHis lungs were clear to auscultation bilaterally.  His\\nabdomen was soft, nontender, and nondistended, and there were\\nhypoactive bowel sounds.  He had a palpable bypass graft\\npulse, [**Hospital3 17394**] dorsalis pedis and posterior tibialis\\npulses bilaterally; and his surgical incision was clean, dry,\\nand intact.  Please note that the above examination was done\\nby the Vascular Surgery team, which was the team that was\\ninitially planning to admit the patient to the hospital.\\n\\nPERTINENT LABORATORY DATA ON PRESENTATION:  On initial\\nlaboratory evaluation the patient had a white blood cell\\ncount of 12.7, hematocrit was 30.2, and platelets\\nwere 282,000.  His PT was 13.5, PTT was 30.7, and INR\\nwas 1.3.  His serum chemistries revealed sodium was 136,\\npotassium was 5.4, chloride was 99, bicarbonate was 25, blood\\nurea nitrogen was 53, creatinine was 3.2, and blood glucose\\nwas 91.  His calcium was 8.2, magnesium was 2.4, and\\nphosphate was 4.8.  Blood cultures drawn on admission were\\npending, but ultimately negative.  A urine culture taken on\\nadmission was initially pending, but ultimately grew out\\nyeast.  A sputum culture taken on admission was also\\ninitially pending, but ultimately also grew out yeast.\\n\\nRADIOLOGY/IMAGING:  His admission chest x-ray demonstrated\\nstable prominence of the right main pulmonary artery; no\\nfocal areas of consolidation; overall stable appearance of\\nthe chest compared with a [**2101-10-15**] study.  No\\nradiographic evidence of congestive heart failure or\\npneumonia.\\n\\nHis admission electrocardiogram demonstrated a sinus rhythm,\\nnonspecific inferior/lateral T wave changes, low QRS voltages\\nin the limb leads, and T wave changes in V5 and V6 when\\ncompared with an electrocardiogram dated [**2101-10-12**].\\n\\nAn initial abdominal CT was a limited noncontrast examination\\nthat demonstrated diffuse vascular calcifications.  No\\nevidence of an abdominal aortic aneurysm or free fluid,\\nincompletely imaged coronary artery calcification, a simple\\nleft renal cyst, sigmoid diverticulosis, and an enlarged and\\npartially calcified prostate gland.\\n\\nHOSPITAL COURSE BY SYSTEM:\\n\\n1.  CARDIOVASCULAR:  The patient was initially admitted to\\nthe Vascular Intensive Care Unit with hypotension, decreased\\nurine output, and acute renal failure; most likely secondary\\nto a presumed gram-negative urosepsis (although there were\\nnever any positive culture data to confirm this diagnosis).\\n\\nWhile boarding in the Medical Intensive Care Unit on the\\nnight of admission, the patient had a sudden\\ncardiorespiratory arrest.  He was resuscitated with\\nepinephrine, lidocaine, and direct current cardioversion\\ntimes four.  He was also intubate for airway protection.\\n\\nFollowing these measures, the patient returned to a sinus\\nrhythm with a systolic blood pressure of approximately 100;\\nthe total time elapsed from the beginning of the arrest to\\nthe return of a pulse was approximately 16 minutes.  He\\nsubsequently required double pressors to maintain his blood\\npressure.\\n\\nAn echocardiogram performed at the bedside demonstrated a\\ntrivial pericardial effusion and a left ventricular ejection\\nfraction of 20% to 25% in the setting of tachycardia and a\\nhyperdynamic right ventricle; suggesting elevated right-sided\\nfilling pressures.  Although the definitive etiology of this\\narrest remained unknown, the most likely trigger was a\\nnon-Q-wave myocardial infarction, as his troponin values were\\nelevated to greater than 50 following his arrest.\\n\\nA repeat echocardiogram done on [**2101-10-21**]\\ndemonstrated mild left atrial dilation, an ejection fraction\\nof 15% to 20%, resting regional wall motion abnormalities\\nincluding inferior, mid, and apical left ventricular\\nakinesis, depressed right ventricular systolic function, and\\nmoderate mitral regurgitation.  Compared with the prior study\\nof [**2101-10-20**]; the left ventricular function was\\nunchanged.  There was moderate mitral regurgitation, and the\\nright ventricular function appeared worse.\\n\\nOn [**2101-10-21**], the patient was loaded with amiodarone\\nand was subsequently started on oral amiodarone.  The\\nfollowing day, he was started on heparin intravenously given\\nhis elevated serum troponin to greater than 50; this\\nmedication was continued for 72 hours.  Given his elevated\\ntroponins and non-Q-wave myocardial infarction, the patient\\nwas a candidate for cardiac catheterization.\\n\\nAfter discussions between the Medical Intensive Care Unit\\nteam and the patient's family, however, the decision was made\\nto not pursue further invasive procedures given that the\\npatient had been made do not resuscitate/do not intubate\\nfollowing the resuscitation mentioned above, and his family\\nno longer wished for aggressive resuscitating measures.\\n\\nBy [**2101-10-23**], he was off pressors and he was\\nrestarted on a beta blocker and ACE inhibitor at low doses.\\n\\nOn the evening of [**2101-10-25**], the patient complained\\nof substernal chest pain that was relieved by NPG SL and\\nmorphine.  He also had ST segment depressions in V2 and V3\\nthat reverted to baseline after the resolution of his pain.\\nTherefore, the patient was again started on heparin;\\nalthough, this was discontinued on [**2101-10-26**] when\\nthe patient ruled out for a myocardial infarction by cardiac\\nenzymes.  He again had substernal chest pain on [**2101-10-27**]; although, he had no electrocardiogram changes, and he\\nagain ruled out for a myocardial infarction by cardiac\\nenzymes.\\n\\nBy hospital day four, the patient began to develop evidence\\nof congestive heart failure given his aggressive fluid\\nresuscitation, and gentle diuresis with furosemide was begun.\\nBy the time of his transfer to the General Medicine Service\\non [**2101-10-26**], the patient was still significantly\\nvolume overloaded following his aggressive fluid\\nresuscitation in the Medical Intensive Care Unit.  Therefore,\\nhe was continued on the program of gentle diuresis given that\\nhe was having signs and symptoms of right-sided congestive\\nheart failure.  He achieved adequate diuresis by the time of\\nhis discharge to rehabilitation, as his oxygen saturation was\\ngreater than 95% on 2 liters nasal cannula.\\n\\n2.  INFECTIOUS DISEASE/SEPSIS:  The patient was started on\\ngentamicin and piperacillin/tazobactam in addition to the\\nlevofloxacin, metronidazole, and vancomycin he was already\\ntaking for right lower extremity cellulitis prior to\\nadmission for empiric coverage of a presumed gram-negative\\nurosepsis, and he was aggressively hydrated with intravenous\\nfluids.\\n\\nOn [**2101-10-21**], his levofloxacin and metronidazole was\\ndiscontinued, and he was started on fluconazole given the\\ngrowth of yeast on urine culture.  He was taken off of\\ngentamicin on hospital day three, and his fluconazole was\\ndiscontinued on hospital day five (as per the Infectious\\nDisease Service).  He was taken off of vancomycin on\\n[**2101-10-28**], and his piperacillin/tazobactam was\\ndiscontinued on [**2101-10-29**].\\n\\nDespite the presumption of a gram-negative urosepsis\\nprecipitating this admission, the patient did not have any\\npositive blood or urine cultures aside from the growth of\\nyeast in two urine cultures noted above.  He remained\\nafebrile both before and after discontinuation of his\\nantibiotics, and he was found to be Clostridium difficile\\nnegative on [**2101-10-28**].\\n\\n3.  PULMONARY:  As noted above, the patient was intubated and\\nhe was extubated on [**2101-10-24**].  He subsequently\\ndeveloped wheezing and mild hypoxia; most likely secondary to\\ncardiac asthma and fluid overload in the setting of his\\naggressive fluid resuscitation.  He was gently diuresed\\ntoward the end of his hospitalization, and by the time of his\\nhe was maintaining an oxygen saturation of greater than 95%\\non 2 liters nasal cannula, intermittent ipratropium\\nnebulizers, and chest physical therapy for clearance of his\\nrespiratory secretions.\\n\\n4.  RENAL:  The patient presented with acute renal failure\\nand prerenal azotemia that rapidly resolved following fluid\\nresuscitation.  By the time of discharge, his serum\\ncreatinine was stable and at his preadmission baseline.\\n\\n5.  NUTRITION:  The patient was found to be profoundly\\nmalnourished with a serum albumin of 1.8 on admission.  Once\\nhe was extubated and taking orals, he performed poorly on a\\nmodified barium swallowing study and was started on a thin\\nliquid, ground-solid diet with whole medication tablets,\\nsmall bites and sips, upright posture with meals, and\\naspiration precautions.  He was also given ProMod shakes with\\nand between meals for nutritional supplementation of his\\nheart-healthy/diabetic diet.\\n\\n6.  VASCULAR:  The patient's operative incisions and foot\\nulcers continued to heal throughout this admission.  He was\\nstarted on an multivitamin, vitamin C, and zinc for improved\\nwound healing.\\n\\n7.  HEMATOLOGY:  The patient was transfused one unit of\\npacked red blood cells on [**2101-10-27**] to maintain a\\nhematocrit of greater than 30 given his history of severe\\ncoronary artery disease.  His hematocrit subsequently\\nremained stable.\\n\\nCONDITION AT DISCHARGE:  Condition on discharge was stable.\\n\\nDISCHARGE STATUS:  [**First Name4 (NamePattern1) 1188**] [**Last Name (NamePattern1) **] rehabilitation facility.\\n\\nDISCHARGE DIAGNOSES:\\n 1.  Cardiorespiratory arrest.\\n 2.  Non-Q-wave myocardial infarction.\\n 3.  Acute renal failure.\\n 4.  Coronary artery disease with diffuse 3-vessel disease;\\nright-dominant, status post proximal left circumflex stent in\\n[**2101-7-9**] with occlusion of distal left circumflex; status\\npost right coronary artery stent on [**2101-10-27**] (no\\npercutaneous coronary intervention to 99%, distal left\\ncircumflex, 80% small proximal left anterior descending\\nartery, 80% small distal left anterior descending artery).\\n 5.  Congestive heart failure (with an ejection fraction\\nof 15% to 20%).\\n 6.  Type 2 diabetes with neuropathy.\\n 7.  Hypertension.\\n 8.  Diverticulosis (found on colonoscopy in [**2101-7-9**]).\\n 9.  Alzheimer's dementia.\\n10.  History of gastrointestinal bleed (while the patient was\\ntaking eptifibatide).\\n11.  Cardiac risk factors (with a baseline creatinine\\nof 1.4 to 1.6).\\n12.  History of methicillin-resistant Staphylococcus aureus\\nand Pseudomonas growth in wound cultures.\\n13.  Severe peripheral vascular disease; status post left\\nfemoral-AT bypass graft on [**2101-10-11**].\\n14.  Chronic nonhealing foot ulcers.\\n\\nMEDICATIONS ON DISCHARGE:\\n 1.  Amiodarone 400 mg p.o. b.i.d. (through [**2101-11-2**]), then 400 mg p.o. q.d. (times one week), then 200 mg\\np.o. q.d.\\n 2.  Metoprolol 50 mg p.o. b.i.d.\\n 3.  Captopril 6.25 mg p.o. t.i.d.\\n 4.  Aspirin 325 mg p.o. q.d.\\n 5.  Pantoprazole 40 mg p.o. q.d.\\n 6.  Heparin 5000 units subcutaneously b.i.d.\\n 7.  Multivitamin one tablet p.o. q.d.\\n 8.  Zinc sulfate 220 mg p.o. q.d.\\n 9.  Vitamin C 500 mg p.o. q.d.\\n10.  Ipratropium nebulizers q.4-6h. as needed (for wheezing).\\n11.  Acetaminophen 325 mg to 650 mg p.o. q.4-6h. as needed\\n(for pain).\\n12.  Miconazole 2% powder to groin b.i.d.\\n13.  Santyl lotion to heels b.i.d.\\n14.  Regular insulin sliding-scale.\\n\\nCODE STATUS:  Do not resuscitate/do not intubate.\\n\\nNOTE:  If applicable, an addendum to this Discharge Summary\\nwill be dictated to include follow-up appointments as well as\\nany changes to the medication list noted above.\\n\\n\\n\\n\\n\\n\\n                          [**First Name11 (Name Pattern1) **] [**Last Name (NamePattern4) 1604**], M.D.  [**MD Number(1) 1605**]\\n\\nDictated By:[**Name8 (MD) 2507**]\\n\\nMEDQUIST36\\n\\nD:  [**2101-10-31**]  01:07\\nT:  [**2101-11-5**]  03:44\\nJOB#:  [**Job Number **]\\n\""
      ]
     },
     "execution_count": 71,
     "metadata": {},
     "output_type": "execute_result"
    }
   ],
   "source": [
    "df.iloc[0,2]"
   ]
  },
  {
   "cell_type": "code",
   "execution_count": 91,
   "id": "d41cdee2",
   "metadata": {},
   "outputs": [
    {
     "data": {
      "text/plain": [
       "'admission date date birth sex service medicine chief complaint admitted rehabilitation hypotension systolic blood pressure decreased urine output history present illness patient year old male hospitalized undergoing left femoral bypass graft subsequently discharged rehabilitation facility found systolic blood pressure urine output hours foley catheter placed rehabilitation facility yielded cc murky brown urine may also purulent discharge penile meatus time presentation emergency department patient without subjective complaints emergency department found systolic blood pressure given liters intravenous fluids transiently started dopamine systolic blood pressure past medical history coronary artery disease diffuse vessel disease right dominant status post proximal left circumflex stent occlusion distal left circumflex status post right coronary artery stent percutaneous coronary intervention diagonal left circumflex small proximal left anterior descending artery small distal left anterior descending artery congestive heart failure ejection fraction type diabetes neuropathy hypertension diverticulosis found colonoscopy alzheimer dementia history gastrointestinal bleed patient taking eptifibatide cardiac risk factors baseline creatinine hypercholesterolemia history methicillin resistant staphylococcus aureus pseudomonas growth wound cultures severe peripheral vascular disease status post left femoral bypass graft chronic nonhealing foot ulcers recent right pedal cellulitis allergies patient known drug allergies medications admission vancomycin g intravenously qh level less started levofloxacin mg po qd started metronidazole mg po qh started heparin units subcutaneous bid simvastatin mg po qd lisinopril mg po qd furosemide mg po qd vitamin e iu po qd atenolol mg po qd pantoprazole mg po qd ascorbic acid mg po bid nph units bid regular insulin sliding scale bisacodyl mg po pr needed docusate mg po bid percocet mg one tablet po q h needed pain aspirin mg po qd metoprolol mg po bid social history patient retired living home wife prior admission hospital day prior admission social drinker pack year smoking history although quit smoking years ago physical examination presentation initial physical examination revealed temperature degrees fahrenheit heart rate blood pressure following administration liters normal saline respiratory oxygen saturation liters nasal cannula heart regular rate rhythm normal first second heart sounds systolic ejection murmur rubs gallops lungs clear auscultation bilaterally abdomen soft nontender nondistended hypoactive bowel sounds palpable bypass graft pulse dorsalis pedis posterior tibialis pulses bilaterally surgical incision clean dry intact please note examination done vascular surgery team team initially planning admit patient hospital pertinent laboratory data presentation initial laboratory evaluation patient white blood cell count hematocrit platelets pt ptt inr serum chemistries revealed sodium potassium chloride bicarbonate blood urea nitrogen creatinine blood glucose calcium magnesium phosphate blood cultures drawn admission pending ultimately negative urine culture taken admission initially pending ultimately grew yeast sputum culture taken admission also initially pending ultimately also grew yeast radiology imaging admission chest x ray demonstrated stable prominence right main pulmonary artery focal areas consolidation overall stable appearance chest compared study radiographic evidence congestive heart failure pneumonia admission electrocardiogram demonstrated sinus rhythm nonspecific inferior lateral wave changes low qrs voltages limb leads wave changes v v compared electrocardiogram dated initial abdominal ct limited noncontrast examination demonstrated diffuse vascular calcifications evidence abdominal aortic aneurysm free fluid incompletely imaged coronary artery calcification simple left renal cyst sigmoid diverticulosis enlarged partially calcified prostate gland hospital course system cardiovascular patient initially admitted vascular intensive care unit hypotension decreased urine output acute renal failure likely secondary presumed gram negative urosepsis although never positive culture data confirm diagnosis boarding medical intensive care unit night admission patient sudden cardiorespiratory arrest resuscitated epinephrine lidocaine direct current cardioversion times four also intubate airway protection following measures patient returned sinus rhythm systolic blood pressure approximately total time elapsed beginning arrest return pulse approximately minutes subsequently required double pressors maintain blood pressure echocardiogram performed bedside demonstrated trivial pericardial effusion left ventricular ejection fraction setting tachycardia hyperdynamic right ventricle suggesting elevated right sided filling pressures although definitive etiology arrest remained unknown likely trigger non q wave myocardial infarction troponin values elevated greater following arrest repeat echocardiogram done demonstrated mild left atrial dilation ejection fraction resting regional wall motion abnormalities including inferior mid apical left ventricular akinesis depressed right ventricular systolic function moderate mitral regurgitation compared prior study left ventricular function unchanged moderate mitral regurgitation right ventricular function appeared worse patient loaded amiodarone subsequently started oral amiodarone following day started heparin intravenously given elevated serum troponin greater medication continued hours given elevated troponins non q wave myocardial infarction patient candidate cardiac catheterization discussions medical intensive care unit team patient family however decision made pursue invasive procedures given patient made resuscitate intubate following resuscitation mentioned family longer wished aggressive resuscitating measures pressors restarted beta blocker ace inhibitor low doses evening patient complained substernal chest pain relieved npg sl morphine also st segment depressions v v reverted baseline resolution pain therefore patient started heparin although discontinued patient ruled myocardial infarction cardiac enzymes substernal chest pain although electrocardiogram changes ruled myocardial infarction cardiac enzymes hospital day four patient began develop evidence congestive heart failure given aggressive fluid resuscitation gentle diuresis furosemide begun time transfer general medicine service patient still significantly volume overloaded following aggressive fluid resuscitation medical intensive care unit therefore continued program gentle diuresis given signs symptoms right sided congestive heart failure achieved adequate diuresis time discharge rehabilitation oxygen saturation greater liters nasal cannula infectious disease sepsis patient started gentamicin piperacillin tazobactam addition levofloxacin metronidazole vancomycin already taking right lower extremity cellulitis prior admission empiric coverage presumed gram negative urosepsis aggressively hydrated intravenous fluids levofloxacin metronidazole discontinued started fluconazole given growth yeast urine culture taken gentamicin hospital day three fluconazole discontinued hospital day five per infectious disease service taken vancomycin piperacillin tazobactam discontinued despite presumption gram negative urosepsis precipitating admission patient positive blood urine cultures aside growth yeast two urine cultures noted remained afebrile discontinuation antibiotics found clostridium difficile negative pulmonary noted patient intubated extubated subsequently developed wheezing mild hypoxia likely secondary cardiac asthma fluid overload setting aggressive fluid resuscitation gently diuresed toward end hospitalization time maintaining oxygen saturation greater liters nasal cannula intermittent ipratropium nebulizers chest physical therapy clearance respiratory secretions renal patient presented acute renal failure prerenal azotemia rapidly resolved following fluid resuscitation time discharge serum creatinine stable preadmission baseline nutrition patient found profoundly malnourished serum albumin admission extubated taking orals performed poorly modified barium swallowing study started thin liquid ground solid diet whole medication tablets small bites sips upright posture meals aspiration precautions also given promod shakes meals nutritional supplementation heart healthy diabetic diet vascular patient operative incisions foot ulcers continued heal throughout admission started multivitamin vitamin c zinc improved wound healing hematology patient transfused one unit packed red blood cells maintain hematocrit greater given history severe coronary artery disease hematocrit subsequently remained stable condition discharge condition discharge stable discharge status rehabilitation facility discharge diagnoses cardiorespiratory arrest non q wave myocardial infarction acute renal failure coronary artery disease diffuse vessel disease right dominant status post proximal left circumflex stent occlusion distal left circumflex status post right coronary artery stent percutaneous coronary intervention distal left circumflex small proximal left anterior descending artery small distal left anterior descending artery congestive heart failure ejection fraction type diabetes neuropathy hypertension diverticulosis found colonoscopy alzheimer dementia history gastrointestinal bleed patient taking eptifibatide cardiac risk factors baseline creatinine history methicillin resistant staphylococcus aureus pseudomonas growth wound cultures severe peripheral vascular disease status post left femoral bypass graft chronic nonhealing foot ulcers medications discharge amiodarone mg po bid mg po qd times one week mg po qd metoprolol mg po bid captopril mg po tid aspirin mg po qd pantoprazole mg po qd heparin units subcutaneously bid multivitamin one tablet po qd zinc sulfate mg po qd vitamin c mg po qd ipratropium nebulizers q h needed wheezing acetaminophen mg mg po q h needed pain miconazole powder groin bid santyl lotion heels bid regular insulin sliding scale code status resuscitate intubate note applicable addendum discharge summary dictated include follow appointments well changes medication list noted dictated medquist job'"
      ]
     },
     "execution_count": 91,
     "metadata": {},
     "output_type": "execute_result"
    }
   ],
   "source": [
    "tokenizer = RegexpTokenizer(r'\\w+')\n",
    "def preprocess_text(discharge_summary):\n",
    "    ds = discharge_summary\n",
    "    ds = re.sub('\\[.*\\]', '', ds)\n",
    "    ds = ds.replace('\\n',' ')\n",
    "    ds = ds.replace('\\r',' ')\n",
    "#     terms = ['Admission Date:','Discharge Date:','Date of Birth:','Service:','ADDENDUM:','Date/Time:','Completed by:','Dictated By:',' D:',' T:','JOB#:','Followup Instructions:','Follow up w/ Dr.', 'Provider:']\n",
    "#     for term in terms:\n",
    "#         ds = re.sub(term,'',ds)\n",
    "    ds = re.sub('\\d+:\\d+','',ds)\n",
    "    ds = re.sub('\\d+','',ds)\n",
    "    ds = re.sub(' +',' ',ds)\n",
    "    ds = re.sub('\\.','',ds)\n",
    "    ds = ds.strip()\n",
    "    tokens = [t.lower() for t in tokenizer.tokenize(ds)]\n",
    "    tokens = [w for w in tokens if not w in stop_words]\n",
    "    ds = ' '.join(tokens)   \n",
    "    \n",
    "    return ds\n",
    "preprocess_text(df.iloc[0,2])"
   ]
  },
  {
   "cell_type": "code",
   "execution_count": 92,
   "id": "09245dcc",
   "metadata": {},
   "outputs": [
    {
     "data": {
      "application/vnd.jupyter.widget-view+json": {
       "model_id": "2faed3b6d2e544608ffebe4d875b07ea",
       "version_major": 2,
       "version_minor": 0
      },
      "text/plain": [
       "  0%|          | 0/52722 [00:00<?, ?it/s]"
      ]
     },
     "metadata": {},
     "output_type": "display_data"
    }
   ],
   "source": [
    "df['TEXT'] = df.progress_apply(lambda row: str(preprocess_text(row[2])), axis=1)"
   ]
  },
  {
   "cell_type": "code",
   "execution_count": 93,
   "id": "2618194d",
   "metadata": {},
   "outputs": [
    {
     "data": {
      "text/html": [
       "<div>\n",
       "<style scoped>\n",
       "    .dataframe tbody tr th:only-of-type {\n",
       "        vertical-align: middle;\n",
       "    }\n",
       "\n",
       "    .dataframe tbody tr th {\n",
       "        vertical-align: top;\n",
       "    }\n",
       "\n",
       "    .dataframe thead th {\n",
       "        text-align: right;\n",
       "    }\n",
       "</style>\n",
       "<table border=\"1\" class=\"dataframe\">\n",
       "  <thead>\n",
       "    <tr style=\"text-align: right;\">\n",
       "      <th></th>\n",
       "      <th>SUBJECT_ID</th>\n",
       "      <th>HADM_ID</th>\n",
       "      <th>TEXT</th>\n",
       "      <th>ICD9_CODE</th>\n",
       "      <th>ICD10_CODE</th>\n",
       "    </tr>\n",
       "  </thead>\n",
       "  <tbody>\n",
       "    <tr>\n",
       "      <th>0</th>\n",
       "      <td>3</td>\n",
       "      <td>145834</td>\n",
       "      <td>admission date date birth sex service medicine...</td>\n",
       "      <td>038.9;785.59;584.9;427.5;410.71;428.0;682.6;42...</td>\n",
       "      <td>A41.9;R57.1;N17.9;I46.9;I21.4;I50.814;L03.119;...</td>\n",
       "    </tr>\n",
       "    <tr>\n",
       "      <th>1</th>\n",
       "      <td>4</td>\n",
       "      <td>185777</td>\n",
       "      <td>admission date date birth sex f service chief ...</td>\n",
       "      <td>042;136.3;799.4;276.3;790.7;571.5;041.11;V09.0...</td>\n",
       "      <td>B20;B59;R64;E87.3;R78.81;K74.0;B95.61;Z16.11;E...</td>\n",
       "    </tr>\n",
       "    <tr>\n",
       "      <th>2</th>\n",
       "      <td>6</td>\n",
       "      <td>107064</td>\n",
       "      <td>admission date date birth sex f service admiss...</td>\n",
       "      <td>403.91;444.0;997.2;276.6;276.7;285.9;275.3;V15...</td>\n",
       "      <td>I12.0;444.0;T81.719A;276.6;E87.5;D64.9;E83.30;...</td>\n",
       "    </tr>\n",
       "    <tr>\n",
       "      <th>3</th>\n",
       "      <td>9</td>\n",
       "      <td>150750</td>\n",
       "      <td>admission date date birth sex service neurolog...</td>\n",
       "      <td>431;507.0;428.0;584.9;276.5;401.9;96.72;96.04</td>\n",
       "      <td>I61.9;J69.0;I50.814;N17.9;276.5;I10;5A1955Z;0B...</td>\n",
       "    </tr>\n",
       "    <tr>\n",
       "      <th>4</th>\n",
       "      <td>10</td>\n",
       "      <td>184167</td>\n",
       "      <td>admission date date birth sex f service histor...</td>\n",
       "      <td>V30.00;774.2;765.25;765.15;V29.0;99.83;99.15;96.6</td>\n",
       "      <td>Z38.00;P59.0;P07.32;P07.15;Z05.1;6A600ZZ;3E033...</td>\n",
       "    </tr>\n",
       "  </tbody>\n",
       "</table>\n",
       "</div>"
      ],
      "text/plain": [
       "   SUBJECT_ID  HADM_ID                                               TEXT  \\\n",
       "0           3   145834  admission date date birth sex service medicine...   \n",
       "1           4   185777  admission date date birth sex f service chief ...   \n",
       "2           6   107064  admission date date birth sex f service admiss...   \n",
       "3           9   150750  admission date date birth sex service neurolog...   \n",
       "4          10   184167  admission date date birth sex f service histor...   \n",
       "\n",
       "                                           ICD9_CODE  \\\n",
       "0  038.9;785.59;584.9;427.5;410.71;428.0;682.6;42...   \n",
       "1  042;136.3;799.4;276.3;790.7;571.5;041.11;V09.0...   \n",
       "2  403.91;444.0;997.2;276.6;276.7;285.9;275.3;V15...   \n",
       "3      431;507.0;428.0;584.9;276.5;401.9;96.72;96.04   \n",
       "4  V30.00;774.2;765.25;765.15;V29.0;99.83;99.15;96.6   \n",
       "\n",
       "                                          ICD10_CODE  \n",
       "0  A41.9;R57.1;N17.9;I46.9;I21.4;I50.814;L03.119;...  \n",
       "1  B20;B59;R64;E87.3;R78.81;K74.0;B95.61;Z16.11;E...  \n",
       "2  I12.0;444.0;T81.719A;276.6;E87.5;D64.9;E83.30;...  \n",
       "3  I61.9;J69.0;I50.814;N17.9;276.5;I10;5A1955Z;0B...  \n",
       "4  Z38.00;P59.0;P07.32;P07.15;Z05.1;6A600ZZ;3E033...  "
      ]
     },
     "execution_count": 93,
     "metadata": {},
     "output_type": "execute_result"
    }
   ],
   "source": [
    "df.head()"
   ]
  },
  {
   "cell_type": "code",
   "execution_count": 94,
   "id": "443fb33a",
   "metadata": {},
   "outputs": [
    {
     "name": "stdout",
     "output_type": "stream",
     "text": [
      "Num types 139263\n",
      "Num tokens 51895155\n"
     ]
    }
   ],
   "source": [
    "types = set()\n",
    "num_tok = 0\n",
    "for row in df.itertuples():\n",
    "    for w in row[-3].split(' '):\n",
    "        types.add(w)\n",
    "        num_tok += 1\n",
    "print(\"Num types\", len(types))\n",
    "print(\"Num tokens\", str(num_tok))"
   ]
  },
  {
   "cell_type": "code",
   "execution_count": 95,
   "id": "77bc2aa4",
   "metadata": {},
   "outputs": [],
   "source": [
    "df.to_csv(data_path + 'processed_notes_labeled.csv', index=False)"
   ]
  },
  {
   "cell_type": "code",
   "execution_count": 96,
   "id": "f34999c4",
   "metadata": {},
   "outputs": [],
   "source": [
    "del df"
   ]
  },
  {
   "cell_type": "markdown",
   "id": "2429d3ab",
   "metadata": {},
   "source": [
    "### Train and Test split"
   ]
  },
  {
   "cell_type": "code",
   "execution_count": 97,
   "id": "433beb21",
   "metadata": {},
   "outputs": [],
   "source": [
    "df  = pd.read_csv(data_path + 'processed_notes_labeled.csv')"
   ]
  },
  {
   "cell_type": "code",
   "execution_count": 98,
   "id": "69ef8cdd",
   "metadata": {},
   "outputs": [
    {
     "name": "stdout",
     "output_type": "stream",
     "text": [
      "TRAIN: [    0     2     3 ... 52719 52720 52721] TEST: [    1     4     7 ... 52701 52710 52716]\n",
      "47762 4960\n"
     ]
    }
   ],
   "source": [
    "import numpy as np\n",
    "X = df.iloc[:,:2]\n",
    "y = df.iloc[:,-1:]\n",
    "\n",
    "from collections import defaultdict\n",
    "from sklearn.model_selection import GroupShuffleSplit\n",
    "\n",
    "subject_ids = list(df['SUBJECT_ID'])\n",
    "# print(subject_ids)\n",
    "d_dict = defaultdict(lambda: len(d_dict))\n",
    "list_ids= [d_dict[n] for n in subject_ids]\n",
    "# Print ids of the dictionary\n",
    "# print(\"The list of ids : \", list_ids)\n",
    "\n",
    "# groups = np.array([1, 1, 2, 2, 2, 3, 3, 3])\n",
    "# print(groups.shape)\n",
    "\n",
    "gss = GroupShuffleSplit(n_splits=1, train_size=.9050978607, random_state=42)\n",
    "gss.get_n_splits()\n",
    "train_splt = []\n",
    "test_splt = []\n",
    "for train_idx, test_idx in gss.split(X, y, list_ids):\n",
    "    print(\"TRAIN:\", train_idx, \"TEST:\", test_idx)\n",
    "    train_splt = train_idx\n",
    "    test_splt = test_idx\n",
    "    print(len(train_idx), len(test_idx))"
   ]
  },
  {
   "cell_type": "code",
   "execution_count": 99,
   "id": "4fcf73fd",
   "metadata": {},
   "outputs": [
    {
     "name": "stderr",
     "output_type": "stream",
     "text": [
      "/tmp/ipykernel_289499/2418772405.py:3: SettingWithCopyWarning: \n",
      "A value is trying to be set on a copy of a slice from a DataFrame.\n",
      "Try using .loc[row_indexer,col_indexer] = value instead\n",
      "\n",
      "See the caveats in the documentation: https://pandas.pydata.org/pandas-docs/stable/user_guide/indexing.html#returning-a-view-versus-a-copy\n",
      "  traindf['length'] = traindf.apply(lambda row: len(str(row.loc['TEXT']).split()), axis=1)\n"
     ]
    }
   ],
   "source": [
    "traindf = df.iloc[train_splt]\n",
    "train_subid = list(traindf['SUBJECT_ID'].unique())\n",
    "traindf['length'] = traindf.apply(lambda row: len(str(row.loc['TEXT']).split()), axis=1)\n",
    "traindf = traindf.sort_values(['length'])\n",
    "traindf.to_csv(data_path + 'train_full.csv',index=False)"
   ]
  },
  {
   "cell_type": "code",
   "execution_count": 100,
   "id": "34f15b5c",
   "metadata": {},
   "outputs": [
    {
     "data": {
      "text/html": [
       "<div>\n",
       "<style scoped>\n",
       "    .dataframe tbody tr th:only-of-type {\n",
       "        vertical-align: middle;\n",
       "    }\n",
       "\n",
       "    .dataframe tbody tr th {\n",
       "        vertical-align: top;\n",
       "    }\n",
       "\n",
       "    .dataframe thead th {\n",
       "        text-align: right;\n",
       "    }\n",
       "</style>\n",
       "<table border=\"1\" class=\"dataframe\">\n",
       "  <thead>\n",
       "    <tr style=\"text-align: right;\">\n",
       "      <th></th>\n",
       "      <th>SUBJECT_ID</th>\n",
       "      <th>HADM_ID</th>\n",
       "      <th>TEXT</th>\n",
       "      <th>ICD9_CODE</th>\n",
       "      <th>ICD10_CODE</th>\n",
       "      <th>length</th>\n",
       "    </tr>\n",
       "  </thead>\n",
       "  <tbody>\n",
       "    <tr>\n",
       "      <th>2992</th>\n",
       "      <td>2896</td>\n",
       "      <td>178124</td>\n",
       "      <td>name admission date date birth sex service med...</td>\n",
       "      <td>211.3;427.31;578.9;560.1;496;584.9;428.0;276.5...</td>\n",
       "      <td>D12.0;I48.91;K92.2;K56.0;J44.9;N17.9;I50.814;2...</td>\n",
       "      <td>20</td>\n",
       "    </tr>\n",
       "    <tr>\n",
       "      <th>184</th>\n",
       "      <td>158</td>\n",
       "      <td>169433</td>\n",
       "      <td>admission date date birth sex service med blum...</td>\n",
       "      <td>532.40;493.20;V45.81;412;401.9;44.43</td>\n",
       "      <td>K26.4;J44.9;Z95.1;I25.2;I10;0W3P8ZZ</td>\n",
       "      <td>23</td>\n",
       "    </tr>\n",
       "    <tr>\n",
       "      <th>8357</th>\n",
       "      <td>7995</td>\n",
       "      <td>190945</td>\n",
       "      <td>admission date date birth sex f service vascul...</td>\n",
       "      <td>440.22;492.8;401.9;714.0;39.29;88.48</td>\n",
       "      <td>I70.229;J43.9;I10;M06.9;0312090;B40F0ZZ</td>\n",
       "      <td>30</td>\n",
       "    </tr>\n",
       "    <tr>\n",
       "      <th>3678</th>\n",
       "      <td>3564</td>\n",
       "      <td>117638</td>\n",
       "      <td>admission date service medicine please see omr...</td>\n",
       "      <td>038.49;041.6;785.59;518.81;507.0;592.1;591;276...</td>\n",
       "      <td>A41.59;B96.4;R57.1;J96.00;J69.0;N20.1;N13.30;E...</td>\n",
       "      <td>36</td>\n",
       "    </tr>\n",
       "    <tr>\n",
       "      <th>43779</th>\n",
       "      <td>70734</td>\n",
       "      <td>124010</td>\n",
       "      <td>name admission date date birth sex f service s...</td>\n",
       "      <td>852.20;410.71;805.6;285.1;816.12;E880.9;922.32...</td>\n",
       "      <td>S06.5X0A;I21.4;S32.10XA;D62;S62.523B;W10.8XXA;...</td>\n",
       "      <td>41</td>\n",
       "    </tr>\n",
       "  </tbody>\n",
       "</table>\n",
       "</div>"
      ],
      "text/plain": [
       "       SUBJECT_ID  HADM_ID                                               TEXT  \\\n",
       "2992         2896   178124  name admission date date birth sex service med...   \n",
       "184           158   169433  admission date date birth sex service med blum...   \n",
       "8357         7995   190945  admission date date birth sex f service vascul...   \n",
       "3678         3564   117638  admission date service medicine please see omr...   \n",
       "43779       70734   124010  name admission date date birth sex f service s...   \n",
       "\n",
       "                                               ICD9_CODE  \\\n",
       "2992   211.3;427.31;578.9;560.1;496;584.9;428.0;276.5...   \n",
       "184                 532.40;493.20;V45.81;412;401.9;44.43   \n",
       "8357                440.22;492.8;401.9;714.0;39.29;88.48   \n",
       "3678   038.49;041.6;785.59;518.81;507.0;592.1;591;276...   \n",
       "43779  852.20;410.71;805.6;285.1;816.12;E880.9;922.32...   \n",
       "\n",
       "                                              ICD10_CODE  length  \n",
       "2992   D12.0;I48.91;K92.2;K56.0;J44.9;N17.9;I50.814;2...      20  \n",
       "184                  K26.4;J44.9;Z95.1;I25.2;I10;0W3P8ZZ      23  \n",
       "8357             I70.229;J43.9;I10;M06.9;0312090;B40F0ZZ      30  \n",
       "3678   A41.59;B96.4;R57.1;J96.00;J69.0;N20.1;N13.30;E...      36  \n",
       "43779  S06.5X0A;I21.4;S32.10XA;D62;S62.523B;W10.8XXA;...      41  "
      ]
     },
     "execution_count": 100,
     "metadata": {},
     "output_type": "execute_result"
    }
   ],
   "source": [
    "traindf.head()"
   ]
  },
  {
   "cell_type": "code",
   "execution_count": 101,
   "id": "947ab23b",
   "metadata": {},
   "outputs": [
    {
     "name": "stderr",
     "output_type": "stream",
     "text": [
      "/tmp/ipykernel_289499/3877616801.py:3: SettingWithCopyWarning: \n",
      "A value is trying to be set on a copy of a slice from a DataFrame.\n",
      "Try using .loc[row_indexer,col_indexer] = value instead\n",
      "\n",
      "See the caveats in the documentation: https://pandas.pydata.org/pandas-docs/stable/user_guide/indexing.html#returning-a-view-versus-a-copy\n",
      "  testdf['length'] = testdf.apply(lambda row: len(str(row['TEXT']).split()), axis=1)\n"
     ]
    }
   ],
   "source": [
    "testdf = df.iloc[test_splt]\n",
    "test_subid = list(testdf['SUBJECT_ID'].unique())\n",
    "testdf['length'] = testdf.apply(lambda row: len(str(row['TEXT']).split()), axis=1)\n",
    "testdf = testdf.sort_values(['length'])\n",
    "testdf.to_csv(data_path + 'test_full.csv',index=False)"
   ]
  },
  {
   "cell_type": "code",
   "execution_count": 102,
   "id": "4c9c9fdc",
   "metadata": {},
   "outputs": [
    {
     "data": {
      "text/html": [
       "<div>\n",
       "<style scoped>\n",
       "    .dataframe tbody tr th:only-of-type {\n",
       "        vertical-align: middle;\n",
       "    }\n",
       "\n",
       "    .dataframe tbody tr th {\n",
       "        vertical-align: top;\n",
       "    }\n",
       "\n",
       "    .dataframe thead th {\n",
       "        text-align: right;\n",
       "    }\n",
       "</style>\n",
       "<table border=\"1\" class=\"dataframe\">\n",
       "  <thead>\n",
       "    <tr style=\"text-align: right;\">\n",
       "      <th></th>\n",
       "      <th>SUBJECT_ID</th>\n",
       "      <th>HADM_ID</th>\n",
       "      <th>TEXT</th>\n",
       "      <th>ICD9_CODE</th>\n",
       "      <th>ICD10_CODE</th>\n",
       "      <th>length</th>\n",
       "    </tr>\n",
       "  </thead>\n",
       "  <tbody>\n",
       "    <tr>\n",
       "      <th>6751</th>\n",
       "      <td>6495</td>\n",
       "      <td>139808</td>\n",
       "      <td>admission date date birth sex service psu disc...</td>\n",
       "      <td>998.59;998.32;905.4;E929.0;041.85;86.22;86.69;...</td>\n",
       "      <td>K68.11;T81.31XA;M84.369S;V87.0XXS;B96.89;0HB0X...</td>\n",
       "      <td>29</td>\n",
       "    </tr>\n",
       "    <tr>\n",
       "      <th>22375</th>\n",
       "      <td>21434</td>\n",
       "      <td>191109</td>\n",
       "      <td>admission date date birth sex service micu his...</td>\n",
       "      <td>510.0;162.3;410.91;427.32;427.31;518.81;507.0;...</td>\n",
       "      <td>J86.0;C34.10;I21.3;I48.92;I48.91;J96.00;J69.0;...</td>\n",
       "      <td>64</td>\n",
       "    </tr>\n",
       "    <tr>\n",
       "      <th>1379</th>\n",
       "      <td>1284</td>\n",
       "      <td>118883</td>\n",
       "      <td>admission date date birth sex service history ...</td>\n",
       "      <td>571.2;572.2;789.5;584.5;54.91;89.64;38.95;38.93</td>\n",
       "      <td>K70.30;K72.90;789.5;N17.0;0D9530Z;02HP32Z;05HY...</td>\n",
       "      <td>70</td>\n",
       "    </tr>\n",
       "    <tr>\n",
       "      <th>17229</th>\n",
       "      <td>16525</td>\n",
       "      <td>134157</td>\n",
       "      <td>name admission date date birth sex f service a...</td>\n",
       "      <td>851.00;518.5;780.39;276.1;285.9;401.9;E888.9;7...</td>\n",
       "      <td>S06.330A;518.5;R56.9;E87.1;D64.9;I10;W19.XXXA;...</td>\n",
       "      <td>74</td>\n",
       "    </tr>\n",
       "    <tr>\n",
       "      <th>18942</th>\n",
       "      <td>18139</td>\n",
       "      <td>152558</td>\n",
       "      <td>admission date service medicine history presen...</td>\n",
       "      <td>507.0;518.81;413.9;707.14;008.45;038.9;250.01;...</td>\n",
       "      <td>J69.0;J96.00;I20.8;L97.409;A04.71;A41.9;E10.9;...</td>\n",
       "      <td>78</td>\n",
       "    </tr>\n",
       "  </tbody>\n",
       "</table>\n",
       "</div>"
      ],
      "text/plain": [
       "       SUBJECT_ID  HADM_ID                                               TEXT  \\\n",
       "6751         6495   139808  admission date date birth sex service psu disc...   \n",
       "22375       21434   191109  admission date date birth sex service micu his...   \n",
       "1379         1284   118883  admission date date birth sex service history ...   \n",
       "17229       16525   134157  name admission date date birth sex f service a...   \n",
       "18942       18139   152558  admission date service medicine history presen...   \n",
       "\n",
       "                                               ICD9_CODE  \\\n",
       "6751   998.59;998.32;905.4;E929.0;041.85;86.22;86.69;...   \n",
       "22375  510.0;162.3;410.91;427.32;427.31;518.81;507.0;...   \n",
       "1379     571.2;572.2;789.5;584.5;54.91;89.64;38.95;38.93   \n",
       "17229  851.00;518.5;780.39;276.1;285.9;401.9;E888.9;7...   \n",
       "18942  507.0;518.81;413.9;707.14;008.45;038.9;250.01;...   \n",
       "\n",
       "                                              ICD10_CODE  length  \n",
       "6751   K68.11;T81.31XA;M84.369S;V87.0XXS;B96.89;0HB0X...      29  \n",
       "22375  J86.0;C34.10;I21.3;I48.92;I48.91;J96.00;J69.0;...      64  \n",
       "1379   K70.30;K72.90;789.5;N17.0;0D9530Z;02HP32Z;05HY...      70  \n",
       "17229  S06.330A;518.5;R56.9;E87.1;D64.9;I10;W19.XXXA;...      74  \n",
       "18942  J69.0;J96.00;I20.8;L97.409;A04.71;A41.9;E10.9;...      78  "
      ]
     },
     "execution_count": 102,
     "metadata": {},
     "output_type": "execute_result"
    }
   ],
   "source": [
    "testdf.head()"
   ]
  },
  {
   "cell_type": "code",
   "execution_count": 103,
   "id": "84218810",
   "metadata": {},
   "outputs": [],
   "source": [
    "# devdf = df.iloc[dev_splt]\n",
    "# dev_subid = list(devdf['SUBJECT_ID'].unique())\n",
    "# devdf['length'] = devdf.progress_apply(lambda row: len(str(row['TEXT']).split()), axis=1)\n",
    "# devdf = devdf.sort_values(['length'])\n",
    "# devdf.to_csv(data_path + 'dev_full.csv',index=False)"
   ]
  },
  {
   "cell_type": "code",
   "execution_count": 104,
   "id": "a71decd8",
   "metadata": {},
   "outputs": [],
   "source": [
    "# devdf.head()"
   ]
  },
  {
   "cell_type": "code",
   "execution_count": 105,
   "id": "683199ce",
   "metadata": {},
   "outputs": [
    {
     "data": {
      "text/plain": [
       "(37223, 3903)"
      ]
     },
     "execution_count": 105,
     "metadata": {},
     "output_type": "execute_result"
    }
   ],
   "source": [
    "(len(train_subid),len(test_subid))"
   ]
  },
  {
   "cell_type": "code",
   "execution_count": null,
   "id": "44d2c43c",
   "metadata": {},
   "outputs": [],
   "source": []
  },
  {
   "cell_type": "markdown",
   "id": "ef515662",
   "metadata": {},
   "source": [
    "### Top 50 codes"
   ]
  },
  {
   "cell_type": "code",
   "execution_count": 106,
   "id": "11b10417",
   "metadata": {},
   "outputs": [],
   "source": [
    "#first calculate the top k\n",
    "counts = Counter()\n",
    "dfnl = pd.read_csv(data_path + 'processed_notes_labeled.csv')\n",
    "for row in dfnl.itertuples():\n",
    "    for label in str(row[-1]).split(';'):\n",
    "        counts[label] += 1"
   ]
  },
  {
   "cell_type": "code",
   "execution_count": 107,
   "id": "a6b5a925",
   "metadata": {},
   "outputs": [],
   "source": [
    "codes_50 = sorted(counts.items(), key=operator.itemgetter(1), reverse=True)"
   ]
  },
  {
   "cell_type": "code",
   "execution_count": 108,
   "id": "d622cbb5",
   "metadata": {},
   "outputs": [],
   "source": [
    "codes_50 = [code[0] for code in codes_50[:50]]"
   ]
  },
  {
   "cell_type": "code",
   "execution_count": 109,
   "id": "607fda66",
   "metadata": {},
   "outputs": [],
   "source": [
    "ICD10_50 = codes_50"
   ]
  },
  {
   "cell_type": "code",
   "execution_count": 110,
   "id": "9e6d2df8",
   "metadata": {},
   "outputs": [
    {
     "data": {
      "text/plain": [
       "['I10',\n",
       " '02H633Z',\n",
       " 'I25.10',\n",
       " 'I50.814',\n",
       " 'I48.91',\n",
       " '0BH17EZ',\n",
       " '0DH67UZ',\n",
       " 'N17.9',\n",
       " 'E11.9',\n",
       " '5A1935Z',\n",
       " 'E78.4',\n",
       " 'J96.00',\n",
       " '30233N1',\n",
       " '5A1221Z',\n",
       " 'N39.0',\n",
       " 'B2000ZZ',\n",
       " 'K21.9',\n",
       " '5A1955Z',\n",
       " 'E78.00',\n",
       " 'D64.9',\n",
       " 'J44.9',\n",
       " 'A41.9',\n",
       " 'E03.9',\n",
       " 'J18.9',\n",
       " '02HW32Z',\n",
       " 'D62',\n",
       " '0210088',\n",
       " 'E87.2',\n",
       " '3E0336Z',\n",
       " 'R65.20',\n",
       " 'Z79.01',\n",
       " 'J69.0',\n",
       " 'B244YZZ',\n",
       " 'I12.9',\n",
       " 'F32.9',\n",
       " 'N18.9',\n",
       " 'F17.200',\n",
       " 'I21.4',\n",
       " '4A020N7',\n",
       " 'I25.2',\n",
       " '0B933ZX',\n",
       " '5A1D70Z',\n",
       " '0DJ08ZZ',\n",
       " 'D69.6',\n",
       " 'E87.1',\n",
       " 'Z95.1',\n",
       " 'I34.0',\n",
       " '0BJ08ZZ',\n",
       " 'I12.0',\n",
       " 'Z87.891']"
      ]
     },
     "execution_count": 110,
     "metadata": {},
     "output_type": "execute_result"
    }
   ],
   "source": [
    "ICD10_50"
   ]
  },
  {
   "cell_type": "code",
   "execution_count": 111,
   "id": "779b5e3d",
   "metadata": {},
   "outputs": [],
   "source": [
    "#first calculate the top k\n",
    "counts = Counter()\n",
    "dfnl = pd.read_csv(data_path + 'processed_notes_labeled.csv')\n",
    "for row in dfnl.itertuples():\n",
    "    for label in str(row[-2]).split(';'):\n",
    "        counts[label] += 1"
   ]
  },
  {
   "cell_type": "code",
   "execution_count": 112,
   "id": "82fb4a35",
   "metadata": {},
   "outputs": [],
   "source": [
    "codes_50 = sorted(counts.items(), key=operator.itemgetter(1), reverse=True)"
   ]
  },
  {
   "cell_type": "code",
   "execution_count": 113,
   "id": "e50b0955",
   "metadata": {},
   "outputs": [],
   "source": [
    "codes_50 = [code[0] for code in codes_50[:50]]"
   ]
  },
  {
   "cell_type": "code",
   "execution_count": 114,
   "id": "f02c4cd2",
   "metadata": {},
   "outputs": [],
   "source": [
    "ICD9_50 = codes_50"
   ]
  },
  {
   "cell_type": "code",
   "execution_count": 115,
   "id": "0834c8ba",
   "metadata": {},
   "outputs": [
    {
     "data": {
      "text/plain": [
       "['401.9',\n",
       " '38.93',\n",
       " '428.0',\n",
       " '427.31',\n",
       " '414.01',\n",
       " '96.04',\n",
       " '96.6',\n",
       " '584.9',\n",
       " '250.00',\n",
       " '96.71',\n",
       " '272.4',\n",
       " '518.81',\n",
       " '99.04',\n",
       " '39.61',\n",
       " '599.0',\n",
       " '530.81',\n",
       " '96.72',\n",
       " '272.0',\n",
       " '285.9',\n",
       " '88.56',\n",
       " '244.9',\n",
       " '486',\n",
       " '38.91',\n",
       " '285.1',\n",
       " '36.15',\n",
       " '276.2',\n",
       " '496',\n",
       " '99.15',\n",
       " '995.92',\n",
       " 'V58.61',\n",
       " '507.0',\n",
       " '038.9',\n",
       " '88.72',\n",
       " '585.9',\n",
       " '403.90',\n",
       " '311',\n",
       " '305.1',\n",
       " '37.22',\n",
       " '412',\n",
       " '33.24',\n",
       " '39.95',\n",
       " '287.5',\n",
       " '410.71',\n",
       " '276.1',\n",
       " 'V45.81',\n",
       " '424.0',\n",
       " '45.13',\n",
       " 'V15.82',\n",
       " '511.9',\n",
       " '93.90']"
      ]
     },
     "execution_count": 115,
     "metadata": {},
     "output_type": "execute_result"
    }
   ],
   "source": [
    "ICD9_50"
   ]
  },
  {
   "cell_type": "code",
   "execution_count": 116,
   "id": "ec94ce7c",
   "metadata": {},
   "outputs": [],
   "source": [
    "ICD9_50[-1] = '37.23'"
   ]
  },
  {
   "cell_type": "code",
   "execution_count": 117,
   "id": "c5cfc732",
   "metadata": {},
   "outputs": [],
   "source": [
    "with open(data_path + 'processed_notes_labeled.csv', 'r') as f:\n",
    "    with open(data_path + 'TOP50_notes_labeled.csv', 'w') as of:\n",
    "        r = csv.reader(f)\n",
    "        w = csv.writer(of)\n",
    "        #header\n",
    "        w.writerow(next(r))\n",
    "        for row in r:\n",
    "#             codes10 = set(str(row[-2]).split(';'))\n",
    "#             filtered_codes10 = codes10.intersection(set(ICD10_50))\n",
    "            codes9 = set(str(row[-2]).split(';'))\n",
    "            filtered_codes9 = codes9.intersection(set(ICD9_50))\n",
    "            filtered_codes10 = [mapping[code] for code in filtered_codes9]\n",
    "            if len(filtered_codes9)>0:\n",
    "                w.writerow(row[:-2]+ [';'.join(filtered_codes9)] + [';'.join(filtered_codes10)])"
   ]
  },
  {
   "cell_type": "code",
   "execution_count": 118,
   "id": "54f73267",
   "metadata": {},
   "outputs": [],
   "source": [
    "t50df = pd.read_csv(data_path + 'TOP50_notes_labeled.csv')"
   ]
  },
  {
   "cell_type": "code",
   "execution_count": 119,
   "id": "799f26cd",
   "metadata": {},
   "outputs": [
    {
     "data": {
      "text/html": [
       "<div>\n",
       "<style scoped>\n",
       "    .dataframe tbody tr th:only-of-type {\n",
       "        vertical-align: middle;\n",
       "    }\n",
       "\n",
       "    .dataframe tbody tr th {\n",
       "        vertical-align: top;\n",
       "    }\n",
       "\n",
       "    .dataframe thead th {\n",
       "        text-align: right;\n",
       "    }\n",
       "</style>\n",
       "<table border=\"1\" class=\"dataframe\">\n",
       "  <thead>\n",
       "    <tr style=\"text-align: right;\">\n",
       "      <th></th>\n",
       "      <th>SUBJECT_ID</th>\n",
       "      <th>HADM_ID</th>\n",
       "      <th>TEXT</th>\n",
       "      <th>ICD9_CODE</th>\n",
       "      <th>ICD10_CODE</th>\n",
       "    </tr>\n",
       "  </thead>\n",
       "  <tbody>\n",
       "    <tr>\n",
       "      <th>0</th>\n",
       "      <td>3</td>\n",
       "      <td>145834</td>\n",
       "      <td>admission date date birth sex service medicine...</td>\n",
       "      <td>38.93;428.0;96.04;96.6;584.9;410.71;96.72;038.9</td>\n",
       "      <td>02H633Z;I50.814;0BH17EZ;0DH67UZ;N17.9;I21.4;5A...</td>\n",
       "    </tr>\n",
       "    <tr>\n",
       "      <th>1</th>\n",
       "      <td>4</td>\n",
       "      <td>185777</td>\n",
       "      <td>admission date date birth sex f service chief ...</td>\n",
       "      <td>88.72;38.93</td>\n",
       "      <td>B244YZZ;02H633Z</td>\n",
       "    </tr>\n",
       "    <tr>\n",
       "      <th>2</th>\n",
       "      <td>6</td>\n",
       "      <td>107064</td>\n",
       "      <td>admission date date birth sex f service admiss...</td>\n",
       "      <td>V15.82;99.04;285.9</td>\n",
       "      <td>Z87.891;30233N1;D64.9</td>\n",
       "    </tr>\n",
       "    <tr>\n",
       "      <th>3</th>\n",
       "      <td>9</td>\n",
       "      <td>150750</td>\n",
       "      <td>admission date date birth sex service neurolog...</td>\n",
       "      <td>96.04;428.0;584.9;96.72;507.0;401.9</td>\n",
       "      <td>0BH17EZ;I50.814;N17.9;5A1955Z;J69.0;I10</td>\n",
       "    </tr>\n",
       "    <tr>\n",
       "      <th>4</th>\n",
       "      <td>10</td>\n",
       "      <td>184167</td>\n",
       "      <td>admission date date birth sex f service histor...</td>\n",
       "      <td>99.15;96.6</td>\n",
       "      <td>3E0336Z;0DH67UZ</td>\n",
       "    </tr>\n",
       "  </tbody>\n",
       "</table>\n",
       "</div>"
      ],
      "text/plain": [
       "   SUBJECT_ID  HADM_ID                                               TEXT  \\\n",
       "0           3   145834  admission date date birth sex service medicine...   \n",
       "1           4   185777  admission date date birth sex f service chief ...   \n",
       "2           6   107064  admission date date birth sex f service admiss...   \n",
       "3           9   150750  admission date date birth sex service neurolog...   \n",
       "4          10   184167  admission date date birth sex f service histor...   \n",
       "\n",
       "                                         ICD9_CODE  \\\n",
       "0  38.93;428.0;96.04;96.6;584.9;410.71;96.72;038.9   \n",
       "1                                      88.72;38.93   \n",
       "2                               V15.82;99.04;285.9   \n",
       "3              96.04;428.0;584.9;96.72;507.0;401.9   \n",
       "4                                       99.15;96.6   \n",
       "\n",
       "                                          ICD10_CODE  \n",
       "0  02H633Z;I50.814;0BH17EZ;0DH67UZ;N17.9;I21.4;5A...  \n",
       "1                                    B244YZZ;02H633Z  \n",
       "2                              Z87.891;30233N1;D64.9  \n",
       "3            0BH17EZ;I50.814;N17.9;5A1955Z;J69.0;I10  \n",
       "4                                    3E0336Z;0DH67UZ  "
      ]
     },
     "execution_count": 119,
     "metadata": {},
     "output_type": "execute_result"
    }
   ],
   "source": [
    "t50df.head()"
   ]
  },
  {
   "cell_type": "code",
   "execution_count": 120,
   "id": "910aff74",
   "metadata": {},
   "outputs": [
    {
     "data": {
      "text/plain": [
       "49414"
      ]
     },
     "execution_count": 120,
     "metadata": {},
     "output_type": "execute_result"
    }
   ],
   "source": [
    "len(t50df.index)"
   ]
  },
  {
   "cell_type": "markdown",
   "id": "1f1baa38",
   "metadata": {},
   "source": [
    "### Subset"
   ]
  },
  {
   "cell_type": "code",
   "execution_count": 121,
   "id": "fe02f62a",
   "metadata": {},
   "outputs": [],
   "source": [
    "t50df = pd.read_csv(data_path + 'TOP50_notes_labeled.csv')"
   ]
  },
  {
   "cell_type": "code",
   "execution_count": 122,
   "id": "5edfbef0",
   "metadata": {},
   "outputs": [],
   "source": [
    "train_ids = pd.read_csv(data_path+'train_50_hadm_ids.csv',names=['HADM_ID'],header=None)\n",
    "train_admisn_ids  = list(train_ids['HADM_ID'])\n",
    "train_50 = t50df.loc[t50df['HADM_ID'].isin(train_admisn_ids)]"
   ]
  },
  {
   "cell_type": "code",
   "execution_count": 123,
   "id": "847af285",
   "metadata": {},
   "outputs": [
    {
     "data": {
      "text/plain": [
       "8066"
      ]
     },
     "execution_count": 123,
     "metadata": {},
     "output_type": "execute_result"
    }
   ],
   "source": [
    "len(train_50.index)"
   ]
  },
  {
   "cell_type": "code",
   "execution_count": 124,
   "id": "2ef49f7c",
   "metadata": {},
   "outputs": [],
   "source": [
    "train_50.to_csv(data_path + 'train.csv', index=False)"
   ]
  },
  {
   "cell_type": "code",
   "execution_count": 125,
   "id": "efd4a53b",
   "metadata": {},
   "outputs": [],
   "source": [
    "test_ids = pd.read_csv(data_path+'test_50_hadm_ids.csv',names=['HADM_ID'],header=None)\n",
    "test_admisn_ids  = list(test_ids['HADM_ID'])\n",
    "test_50 = t50df.loc[t50df['HADM_ID'].isin(test_admisn_ids)]"
   ]
  },
  {
   "cell_type": "code",
   "execution_count": 126,
   "id": "78393c8a",
   "metadata": {},
   "outputs": [
    {
     "data": {
      "text/plain": [
       "1729"
      ]
     },
     "execution_count": 126,
     "metadata": {},
     "output_type": "execute_result"
    }
   ],
   "source": [
    "len(test_50.index)"
   ]
  },
  {
   "cell_type": "code",
   "execution_count": 127,
   "id": "e70b1e52",
   "metadata": {},
   "outputs": [],
   "source": [
    "test_50.to_csv(data_path + 'test.csv', index=False)"
   ]
  },
  {
   "cell_type": "code",
   "execution_count": 128,
   "id": "9109d1f4",
   "metadata": {},
   "outputs": [],
   "source": [
    "dev_ids = pd.read_csv(data_path+'dev_50_hadm_ids.csv',names=['HADM_ID'],header=None)\n",
    "dev_admisn_ids  = list(dev_ids['HADM_ID'])\n",
    "dev_50 = t50df.loc[t50df['HADM_ID'].isin(dev_admisn_ids)]"
   ]
  },
  {
   "cell_type": "code",
   "execution_count": 129,
   "id": "ae727236",
   "metadata": {},
   "outputs": [
    {
     "data": {
      "text/plain": [
       "1573"
      ]
     },
     "execution_count": 129,
     "metadata": {},
     "output_type": "execute_result"
    }
   ],
   "source": [
    "len(dev_50.index)"
   ]
  },
  {
   "cell_type": "code",
   "execution_count": 130,
   "id": "830ca2bc",
   "metadata": {},
   "outputs": [],
   "source": [
    "dev_50.to_csv(data_path + 'dev.csv', index=False)"
   ]
  },
  {
   "cell_type": "code",
   "execution_count": 131,
   "id": "ccc5551e",
   "metadata": {},
   "outputs": [],
   "source": [
    "all_admisn_ids = train_admisn_ids + test_admisn_ids + dev_admisn_ids"
   ]
  },
  {
   "cell_type": "code",
   "execution_count": 132,
   "id": "332b3e96",
   "metadata": {},
   "outputs": [],
   "source": [
    "all_50 = t50df.loc[t50df['HADM_ID'].isin(all_admisn_ids)]"
   ]
  },
  {
   "cell_type": "code",
   "execution_count": 133,
   "id": "ff89d5e8",
   "metadata": {},
   "outputs": [
    {
     "data": {
      "text/plain": [
       "11368"
      ]
     },
     "execution_count": 133,
     "metadata": {},
     "output_type": "execute_result"
    }
   ],
   "source": [
    "len(all_50.index)"
   ]
  },
  {
   "cell_type": "code",
   "execution_count": 134,
   "id": "f154bd41",
   "metadata": {},
   "outputs": [],
   "source": [
    "all_50.to_csv(data_path + 'all_50.csv', index=False)"
   ]
  },
  {
   "cell_type": "markdown",
   "id": "d0beaea9",
   "metadata": {},
   "source": [
    "### sort"
   ]
  },
  {
   "cell_type": "code",
   "execution_count": 135,
   "id": "7239f80f",
   "metadata": {},
   "outputs": [
    {
     "data": {
      "application/vnd.jupyter.widget-view+json": {
       "model_id": "efd712bae32b4a5f8691031352bc8d97",
       "version_major": 2,
       "version_minor": 0
      },
      "text/plain": [
       "  0%|          | 0/8066 [00:00<?, ?it/s]"
      ]
     },
     "metadata": {},
     "output_type": "display_data"
    }
   ],
   "source": [
    "train_50 = pd.read_csv(data_path + 'train.csv')\n",
    "train_50['length'] = train_50.progress_apply(lambda row: len(str(row['TEXT']).split()), axis=1)\n",
    "train_50 = train_50.sort_values(['length'])\n",
    "train_50.to_csv(data_path + 'train.csv', index=False)"
   ]
  },
  {
   "cell_type": "code",
   "execution_count": 136,
   "id": "d57a4cf3",
   "metadata": {},
   "outputs": [
    {
     "data": {
      "application/vnd.jupyter.widget-view+json": {
       "model_id": "bdfcc182276d40a6ae749bb82a2cf125",
       "version_major": 2,
       "version_minor": 0
      },
      "text/plain": [
       "  0%|          | 0/1729 [00:00<?, ?it/s]"
      ]
     },
     "metadata": {},
     "output_type": "display_data"
    }
   ],
   "source": [
    "test_50 = pd.read_csv(data_path + 'test.csv')\n",
    "test_50['length'] = test_50.progress_apply(lambda row: len(str(row['TEXT']).split()), axis=1)\n",
    "test_50 = test_50.sort_values(['length'])\n",
    "test_50.to_csv(data_path + 'test.csv', index=False)"
   ]
  },
  {
   "cell_type": "code",
   "execution_count": 137,
   "id": "24d63c2a",
   "metadata": {},
   "outputs": [
    {
     "data": {
      "application/vnd.jupyter.widget-view+json": {
       "model_id": "8eb93a0692974ca784b3dc4ed670d0d3",
       "version_major": 2,
       "version_minor": 0
      },
      "text/plain": [
       "  0%|          | 0/1573 [00:00<?, ?it/s]"
      ]
     },
     "metadata": {},
     "output_type": "display_data"
    }
   ],
   "source": [
    "dev_50 = pd.read_csv(data_path + 'dev.csv')\n",
    "dev_50['length'] = dev_50.progress_apply(lambda row: len(str(row['TEXT']).split()), axis=1)\n",
    "dev_50 = dev_50.sort_values(['length'])\n",
    "dev_50.to_csv(data_path + 'dev.csv', index=False)"
   ]
  },
  {
   "cell_type": "code",
   "execution_count": null,
   "id": "21a1a6e5",
   "metadata": {},
   "outputs": [],
   "source": []
  }
 ],
 "metadata": {
  "kernelspec": {
   "display_name": "Python 3 (ipykernel)",
   "language": "python",
   "name": "python3"
  },
  "language_info": {
   "codemirror_mode": {
    "name": "ipython",
    "version": 3
   },
   "file_extension": ".py",
   "mimetype": "text/x-python",
   "name": "python",
   "nbconvert_exporter": "python",
   "pygments_lexer": "ipython3",
   "version": "3.8.10"
  }
 },
 "nbformat": 4,
 "nbformat_minor": 5
}
