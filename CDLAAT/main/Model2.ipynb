{
 "cells": [
  {
   "cell_type": "code",
   "execution_count": 1,
   "id": "6a9cb6ed",
   "metadata": {},
   "outputs": [
    {
     "name": "stderr",
     "output_type": "stream",
     "text": [
      "2022-12-01 15:26:50.607827: I tensorflow/core/platform/cpu_feature_guard.cc:193] This TensorFlow binary is optimized with oneAPI Deep Neural Network Library (oneDNN) to use the following CPU instructions in performance-critical operations:  AVX2 FMA\n",
      "To enable them in other operations, rebuild TensorFlow with the appropriate compiler flags.\n",
      "2022-12-01 15:26:50.788577: E tensorflow/stream_executor/cuda/cuda_blas.cc:2981] Unable to register cuBLAS factory: Attempting to register factory for plugin cuBLAS when one has already been registered\n"
     ]
    }
   ],
   "source": [
    "import os\n",
    "import copy\n",
    "import torch\n",
    "import pickle\n",
    "import pprint\n",
    "import random\n",
    "import shutil\n",
    "import random\n",
    "import torch\n",
    "import hashlib\n",
    "import numpy as np\n",
    "import pandas as pd\n",
    "from rnn import RNN\n",
    "import torch.nn as nn\n",
    "from vocab import Vocab\n",
    "from torch import optim\n",
    "from util import *\n",
    "from constants import *\n",
    "from evaluator import Evaluator\n",
    "from tqdm.notebook import tqdm\n",
    "from sklearn.metrics import *\n",
    "from transformers import AdamW\n",
    "from collections import Counter\n",
    "import torch.nn.functional as F\n",
    "from collections import OrderedDict\n",
    "from torch.autograd import Variable\n",
    "from sklearn.preprocessing import *\n",
    "from embedding_layer import EmbeddingLayer\n",
    "from attention_layer import AttentionLayer\n",
    "from torch.nn.utils.rnn import pad_sequence\n",
    "from gensim.models.word2vec import Word2Vec\n",
    "from dataloaders import TextDataLoader, TextDataset\n",
    "from gensim.models.keyedvectors import KeyedVectors\n",
    "from torch.nn.utils.rnn import pack_padded_sequence, pad_packed_sequence\n",
    "\n",
    "device = torch.device('cuda:3' if torch.cuda.is_available() else 'cpu')\n",
    "tqdm.pandas()"
   ]
  },
  {
   "cell_type": "code",
   "execution_count": 2,
   "id": "4c726f6b",
   "metadata": {},
   "outputs": [
    {
     "name": "stdout",
     "output_type": "stream",
     "text": [
      "Thu Dec  1 15:26:53 2022       \n",
      "+-----------------------------------------------------------------------------+\n",
      "| NVIDIA-SMI 460.106.00   Driver Version: 460.106.00   CUDA Version: 11.2     |\n",
      "|-------------------------------+----------------------+----------------------+\n",
      "| GPU  Name        Persistence-M| Bus-Id        Disp.A | Volatile Uncorr. ECC |\n",
      "| Fan  Temp  Perf  Pwr:Usage/Cap|         Memory-Usage | GPU-Util  Compute M. |\n",
      "|                               |                      |               MIG M. |\n",
      "|===============================+======================+======================|\n",
      "|   0  Tesla V100-DGXS...  Off  | 00000000:07:00.0 Off |                    0 |\n",
      "| N/A   55C    P0    58W / 300W |  32032MiB / 32508MiB |      0%      Default |\n",
      "|                               |                      |                  N/A |\n",
      "+-------------------------------+----------------------+----------------------+\n",
      "|   1  Tesla V100-DGXS...  Off  | 00000000:08:00.0 Off |                    0 |\n",
      "| N/A   54C    P0    57W / 300W |  28389MiB / 32508MiB |      0%      Default |\n",
      "|                               |                      |                  N/A |\n",
      "+-------------------------------+----------------------+----------------------+\n",
      "|   2  Tesla V100-DGXS...  Off  | 00000000:0E:00.0 Off |                    0 |\n",
      "| N/A   60C    P0   259W / 300W |   9631MiB / 32508MiB |    100%      Default |\n",
      "|                               |                      |                  N/A |\n",
      "+-------------------------------+----------------------+----------------------+\n",
      "|   3  Tesla V100-DGXS...  Off  | 00000000:0F:00.0 Off |                    0 |\n",
      "| N/A   55C    P0    59W / 300W |    464MiB / 32508MiB |      0%      Default |\n",
      "|                               |                      |                  N/A |\n",
      "+-------------------------------+----------------------+----------------------+\n",
      "                                                                               \n",
      "+-----------------------------------------------------------------------------+\n",
      "| Processes:                                                                  |\n",
      "|  GPU   GI   CI        PID   Type   Process name                  GPU Memory |\n",
      "|        ID   ID                                                   Usage      |\n",
      "|=============================================================================|\n",
      "|    0   N/A  N/A   3823906      C   /usr/bin/python3                32029MiB |\n",
      "|    1   N/A  N/A    136924      C   /usr/bin/python3                27925MiB |\n",
      "|    1   N/A  N/A   3823906      C   /usr/bin/python3                  461MiB |\n",
      "|    2   N/A  N/A   3823906      C   /usr/bin/python3                  461MiB |\n",
      "|    2   N/A  N/A   4074034      C   /usr/bin/python3                 9167MiB |\n",
      "|    3   N/A  N/A   3823906      C   /usr/bin/python3                  461MiB |\n",
      "+-----------------------------------------------------------------------------+\n"
     ]
    }
   ],
   "source": [
    "!nvidia-smi"
   ]
  },
  {
   "cell_type": "code",
   "execution_count": 3,
   "id": "f3ca0316",
   "metadata": {},
   "outputs": [
    {
     "data": {
      "text/plain": [
       "device(type='cuda', index=3)"
      ]
     },
     "execution_count": 3,
     "metadata": {},
     "output_type": "execute_result"
    }
   ],
   "source": [
    "device"
   ]
  },
  {
   "cell_type": "code",
   "execution_count": 4,
   "id": "fc5dfc3b",
   "metadata": {},
   "outputs": [],
   "source": [
    "def read_data(file_path) -> list:\n",
    "    data = pd.read_csv(file_path, on_bad_lines='skip')\n",
    "    id_data = data[id_col_name]\n",
    "    text_data = data[text_col_name]\n",
    "    hierarchical_label_data = []\n",
    "    label_data = data[label_col_name].tolist()\n",
    "    output = []\n",
    "    for i in tqdm(range(len(label_data)), desc=\"Reading data\"):\n",
    "        labels = label_data[i].split(';')\n",
    "        output.append((text_data[i], labels, id_data[i]))\n",
    "    return output"
   ]
  },
  {
   "cell_type": "code",
   "execution_count": 5,
   "id": "9c9c1c4c",
   "metadata": {},
   "outputs": [],
   "source": [
    "def read_labeldesc(file_path) -> list:\n",
    "    data = pd.read_csv(file_path)\n",
    "    desc_data = data[desc_col_name].tolist()\n",
    "    label_data = data[label_col_name].tolist()\n",
    "    output = []\n",
    "    for i in tqdm(range(len(label_data)), desc=\"Reading Label Descriptions\"):\n",
    "        output.append((label_data[i], desc_data[i]))\n",
    "    return output"
   ]
  },
  {
   "cell_type": "code",
   "execution_count": 6,
   "id": "a07b35fe",
   "metadata": {},
   "outputs": [],
   "source": [
    "def load_cached_data(file_path: str) -> tuple:\n",
    "    with open(file_path, 'rb') as f:\n",
    "        data = pickle.load(f)\n",
    "        f.close()\n",
    "    return data[\"vocab\"], data[\"training_data\"], data[\"valid_data\"], data[\"test_data\"],data[\"label_desc\"]"
   ]
  },
  {
   "cell_type": "code",
   "execution_count": 7,
   "id": "3f6718ae",
   "metadata": {},
   "outputs": [],
   "source": [
    "def prepare_data():\n",
    "    cache_folder = \"{}/{}\".format(cache_dir, \"mimic3_single_50\")\n",
    "#     device_name = 'cuda' if torch.cuda.is_available() else 'cpu'\n",
    "    save_vocab_file_name = \"{}.pkl\".format(\"save_vocab\")\n",
    "    cached_file_name = os.path.join(cache_folder, save_vocab_file_name)\n",
    "    if os.path.exists(cached_file_name):\n",
    "        vocab, training_data, valid_data, test_data, label_desc = load_cached_data(cached_file_name)\n",
    "        data = training_data + valid_data + test_data\n",
    "        labels = []\n",
    "        for (feature, l, _) in data:\n",
    "            labels.extend(l)\n",
    "        unique_labels=list(set(labels))\n",
    "        n_labels = len(unique_labels)\n",
    "        labels = unique_labels\n",
    "        vocab.update_labels(labels)\n",
    "        print(\"Loaded vocab and data from file\")\n",
    "    else:\n",
    "        training_data = read_data( data_dir + \"/train.csv\")\n",
    "        valid_data = read_data( data_dir + \"/dev.csv\")\n",
    "        test_data = read_data( data_dir + \"/test.csv\")\n",
    "        label_desc = read_labeldesc(data_dir + \"/D_ICD_50.csv\")\n",
    "        data = training_data + valid_data + test_data\n",
    "        labels = []\n",
    "        for (feature, l, _) in data:\n",
    "            labels.extend(l)\n",
    "        unique_labels=list(set(labels))\n",
    "        n_labels = len(unique_labels)\n",
    "        labels = unique_labels\n",
    "        vocab = Vocab(data, labels,label_desc,min_word_frequency,\n",
    "                          word_embedding_mode=embedding_mode,\n",
    "                          word_embedding_file=embedding_file)\n",
    "        print(\"Preparing the vocab\")\n",
    "        vocab.prepare_vocab()\n",
    "        saved_objects = {\"vocab\": vocab,\n",
    "                         \"training_data\": training_data,\n",
    "                         \"valid_data\": valid_data,\n",
    "                         \"test_data\": test_data,\n",
    "                         \"label_desc\": label_desc}\n",
    "        with open(cached_file_name, 'wb') as f:\n",
    "            pickle.dump(saved_objects, f, pickle.HIGHEST_PROTOCOL)\n",
    "            f.close()\n",
    "        print(\"Saved vocab and data to files\")\n",
    "    return training_data, valid_data, test_data ,label_desc, vocab,cached_file_name"
   ]
  },
  {
   "cell_type": "code",
   "execution_count": 8,
   "id": "cb8dcb0c",
   "metadata": {},
   "outputs": [
    {
     "name": "stdout",
     "output_type": "stream",
     "text": [
      "Loaded vocab and data from file\n"
     ]
    }
   ],
   "source": [
    "training_data, valid_data, test_data, label_desc, vocab, saved_vocab_path = prepare_data()"
   ]
  },
  {
   "cell_type": "code",
   "execution_count": 9,
   "id": "e1d85c9f",
   "metadata": {},
   "outputs": [
    {
     "data": {
      "text/plain": [
       "RNN(\n",
       "  (embedding): EmbeddingLayer(\n",
       "    (embeddings): Embedding(66379, 100)\n",
       "  )\n",
       "  (label_linear): Linear(in_features=512, out_features=256, bias=True)\n",
       "  (rnn): LSTM(100, 256, bidirectional=True)\n",
       "  (rnn1): LSTM(100, 256, bidirectional=True)\n",
       "  (dropout): Dropout(p=0.3, inplace=False)\n",
       "  (attention): AttentionLayer(\n",
       "    (first_linear): Linear(in_features=512, out_features=256, bias=False)\n",
       "    (second_linear): Linear(in_features=256, out_features=50, bias=False)\n",
       "    (third_linear): Linear(in_features=512, out_features=256, bias=False)\n",
       "  )\n",
       "  (classification_layer): Linear(in_features=256, out_features=50, bias=True)\n",
       ")"
      ]
     },
     "execution_count": 9,
     "metadata": {},
     "output_type": "execute_result"
    }
   ],
   "source": [
    "model = RNN(vocab, device)\n",
    "model"
   ]
  },
  {
   "cell_type": "code",
   "execution_count": 10,
   "id": "3e2041d7",
   "metadata": {},
   "outputs": [],
   "source": [
    "class Trainer:\n",
    "    def __init__(self, model: nn.Module,\n",
    "                 train_dataloader: TextDataLoader,\n",
    "                 valid_dataloader: TextDataLoader,\n",
    "                 test_dataloader: TextDataLoader,\n",
    "                 criterions,\n",
    "                 optimiser,\n",
    "                 scheduler,\n",
    "                 vocab,\n",
    "                 checkpoint_path,\n",
    "                 ):\n",
    "        self.model = model\n",
    "        self.train_dataloader = train_dataloader\n",
    "        self.valid_dataloader = valid_dataloader\n",
    "        self.test_dataloader = test_dataloader\n",
    "        self.criterions = criterions\n",
    "        self.optimiser = optimiser\n",
    "        self.scheduler = scheduler\n",
    "        self.vocab = vocab\n",
    "        self.multilabel = multilabel\n",
    "        self.checkpoint_path = checkpoint_path\n",
    "        self.n_training_labels = n_labels\n",
    "        self.saved_result_path = '../model/results.pkl'\n",
    "        self.main_metric = main_metric\n",
    "        self.start_epoch = 0\n",
    "        self.best_val = None\n",
    "        self.saved_test_scores = None\n",
    "        self.best_epoch_num = 1\n",
    "\n",
    "    def train_single_epoch(self, index):\n",
    "        self.model.train()\n",
    "        self.train_dataloader.dataset.shuffle_data()\n",
    "        losses = []\n",
    "        true_labels = []\n",
    "        pred_probs = []\n",
    "        ids = []\n",
    "        all_loss_list = []\n",
    "        progress_bar = tqdm(self.train_dataloader, unit=\"batches\", desc=\"Training at epoch #{}\".format(index))\n",
    "        progress_bar.clear()\n",
    "        self.optimiser.zero_grad()\n",
    "        batch_id = 0\n",
    "\n",
    "        for text_batch, label_batch, length_batch, id_batch,desc_batch in progress_bar:\n",
    "            batch_id += 1\n",
    "            text_batch = text_batch.to(device)\n",
    "            label_batch = label_batch.to(device)\n",
    "            length_batch = length_batch.to(device)\n",
    "            desc_batch = desc_batch.to(device)\n",
    "            true_labels.extend(label_batch.cpu().numpy())\n",
    "            ids.extend(id_batch)\n",
    "            output = self.model(text_batch, length_batch,desc_batch)\n",
    "            loss_list = []\n",
    "            loss_list = self.criterions(output, label_batch)\n",
    "            all_loss_list.append([loss_list.item()])\n",
    "            output = torch.sigmoid(output)\n",
    "            output = output.detach().cpu().numpy()\n",
    "            pred_probs.extend(output)\n",
    "            loss = get_loss(loss_list, self.n_training_labels)\n",
    "            loss.backward()\n",
    "            losses.append(loss.item())\n",
    "            self.optimiser.step()\n",
    "            self.optimiser.zero_grad()\n",
    "\n",
    "        scores = OrderedDict()\n",
    "        scores = calculate_eval_metrics(ids, true_labels,pred_probs, self.multilabel)\n",
    "        scores[\"loss\"] = np.mean(all_loss_list).item()\n",
    "        scores[\"average\"] = np.mean(losses).item()\n",
    "        progress_bar.refresh(True)\n",
    "        progress_bar.clear(True)\n",
    "        progress_bar.close()\n",
    "        keys = ['micro_auc', 'macro_auc', 'micro_f1', 'macro_f1', 'macro_P@5', 'macro_P@8', 'macro_P@15', 'loss']\n",
    "        print({k:v for k,v in scores.items() if k in keys})\n",
    "        return scores\n",
    "\n",
    "\n",
    "    @staticmethod\n",
    "    def format_number(number):\n",
    "        return abs(round(number, ndigits=ndigits))\n",
    "\n",
    "    def train(self,n_epoch: int = 100):\n",
    "        best_valid_scores = self.best_val\n",
    "        saved_test_scores = self.saved_test_scores\n",
    "        saved_train_scores = None\n",
    "        best_epoch_num = self.best_epoch_num\n",
    "        evaluator = Evaluator(self.model, self.vocab, self.criterions, self.n_training_labels,device)\n",
    "        for e in range(self.start_epoch + 1, n_epoch + 1):\n",
    "            train_scores = self.train_single_epoch(e)\n",
    "            epoch_loss = train_scores[\"average\"]\n",
    "            valid_scores = evaluator.evaluate(self.valid_dataloader)\n",
    "            test_scores = evaluator.evaluate(self.test_dataloader)\n",
    "            self.scheduler.step(test_scores[\"average\"])\n",
    "            print('lr {}'.format(self.optimiser.param_groups[0]['lr']))\n",
    "            keys = ['micro_auc', 'macro_auc', 'micro_f1', 'macro_f1', 'macro_P@5', 'macro_P@8', 'macro_P@15', 'loss']\n",
    "            print({k:v for k,v in test_scores.items() if k in keys})\n",
    "            print('\\n\\n')\n",
    "            \n",
    "            if best_valid_scores is None or best_valid_scores[self.main_metric] < valid_scores[self.main_metric]:\n",
    "                best_valid_scores = valid_scores\n",
    "                saved_test_scores = test_scores\n",
    "                saved_train_scores = train_scores\n",
    "                best_epoch_num = e\n",
    "                \n",
    "\n",
    "                    \n",
    "        results = {\"train\": saved_train_scores, \"valid\": best_valid_scores, \"test\": saved_test_scores,\n",
    "                    \"index2label\": self.vocab.index2label}\n",
    "        with open(self.saved_result_path, 'wb') as f:\n",
    "            pickle.dump(results, f, pickle.HIGHEST_PROTOCOL)\n",
    "                \n",
    "        return self.model, best_valid_scores"
   ]
  },
  {
   "cell_type": "code",
   "execution_count": 11,
   "id": "5b54069d",
   "metadata": {},
   "outputs": [],
   "source": [
    "def _load_and_cache_data(train_data, valid_data, test_data, label_desc, vocab, saved_data_file_path):\n",
    "    if os.path.exists(saved_data_file_path):\n",
    "        try:\n",
    "            with open(saved_data_file_path, 'rb') as f:\n",
    "                data = pickle.load(f)\n",
    "                data[\"train\"].multilabel = bool(multilabel)\n",
    "                data[\"valid\"].multilabel = bool(multilabel)\n",
    "                data[\"test\"].multilabel = bool(multilabel)\n",
    "\n",
    "                return data[\"train\"], data[\"valid\"], data[\"test\"]\n",
    "        except:\n",
    "            pass\n",
    "\n",
    "    # Build train/valid/test data loaders\n",
    "    train_dataset = TextDataset(train_data, vocab, label_desc,max_seq_length=max_seq_length,min_seq_length=min_seq_length,sort=True,multilabel=multilabel)\n",
    "\n",
    "    valid_dataset = TextDataset(valid_data, vocab, label_desc,max_seq_length=max_seq_length,min_seq_length=min_seq_length,sort=True,multilabel=multilabel)\n",
    "\n",
    "    test_dataset = TextDataset(test_data, vocab, label_desc,max_seq_length=max_seq_length,min_seq_length=min_seq_length,sort=True, multilabel=multilabel)\n",
    "    # try:\n",
    "    with open(saved_data_file_path, 'wb') as f:\n",
    "        data = {\"train\": train_dataset, \"valid\": valid_dataset, \"test\": test_dataset}\n",
    "        pickle.dump(data, f, pickle.HIGHEST_PROTOCOL)\n",
    "    \n",
    "    return train_dataset, valid_dataset, test_dataset"
   ]
  },
  {
   "cell_type": "code",
   "execution_count": 12,
   "id": "ee0e163b",
   "metadata": {},
   "outputs": [],
   "source": [
    "def _train_model(train_data, valid_data, test_data, label_desc, vocab, saved_data_file_path=None,checkpoint_path=None):\n",
    "    model = RNN(vocab,device)\n",
    "    init_state_dict = None\n",
    "    if init_state_dict is not None:\n",
    "        model.load_state_dict(init_state_dict)\n",
    "    model.to(device)\n",
    "\n",
    "    train_dataset, valid_dataset, test_dataset = _load_and_cache_data(train_data, valid_data, test_data, label_desc,\n",
    "                                                                      vocab, saved_data_file_path)\n",
    "    train_dataloader = TextDataLoader(dataset=train_dataset, vocab=vocab, batch_size=batch_size)\n",
    "\n",
    "    valid_dataloader = TextDataLoader(dataset=valid_dataset, vocab=vocab, batch_size=batch_size)\n",
    "\n",
    "    test_dataloader = TextDataLoader(dataset=test_dataset, vocab=vocab, batch_size=batch_size)\n",
    "\n",
    "    optimiser = torch.optim.AdamW(model.parameters(), lr = 0.001)\n",
    "    \n",
    "    scheduler = torch.optim.lr_scheduler.ReduceLROnPlateau(optimiser, 'min', patience=1)\n",
    "    \n",
    "    criterions = nn.BCEWithLogitsLoss(pos_weight = torch.tensor(2))\n",
    "\n",
    "    trainer = Trainer(model=model,\n",
    "                      train_dataloader=train_dataloader,\n",
    "                      valid_dataloader=valid_dataloader,\n",
    "                      test_dataloader=test_dataloader,\n",
    "                      criterions=criterions,\n",
    "                      optimiser=optimiser,\n",
    "                      scheduler = scheduler,\n",
    "                      vocab=vocab,\n",
    "                      checkpoint_path=checkpoint_path)\n",
    "    best_model, scores = trainer.train(n_epoch=n_epoch)\n",
    "\n",
    "    evaluator = Evaluator(model=best_model,vocab=vocab,criterions=criterions,\n",
    "                          n_training_labels=n_labels,device = device)\n",
    "\n",
    "    del model, optimiser, evaluator, trainer, criterions\n",
    "    return best_model, scores  # either on valid or test"
   ]
  },
  {
   "cell_type": "code",
   "execution_count": 13,
   "id": "13164513",
   "metadata": {},
   "outputs": [],
   "source": [
    "def run_with_validation(training_data, valid_data, test_data, label_desc, vocab, saved_data_file_path):\n",
    "    best_model, scores = _train_model(\n",
    "        train_data=training_data, valid_data=valid_data, test_data=test_data, label_desc=label_desc,\n",
    "        vocab=vocab, saved_data_file_path=saved_data_file_path, checkpoint_path=\"../model/checkpoint.pkl\")\n",
    "\n",
    "    return best_model, scores"
   ]
  },
  {
   "cell_type": "code",
   "execution_count": null,
   "id": "772dacdd",
   "metadata": {
    "scrolled": false
   },
   "outputs": [
    {
     "data": {
      "application/vnd.jupyter.widget-view+json": {
       "model_id": "1c5ea7690c7141b6892d5249a7ec8d10",
       "version_major": 2,
       "version_minor": 0
      },
      "text/plain": [
       "Training at epoch #1:   0%|          | 0/253 [00:00<?, ?batches/s]"
      ]
     },
     "metadata": {},
     "output_type": "display_data"
    },
    {
     "name": "stdout",
     "output_type": "stream",
     "text": [
      "{'macro_f1': 0.24678628248933546, 'macro_auc': 0.714228952278815, 'macro_P@5': 0.39590875278948673, 'macro_P@8': 0.32981031490205803, 'macro_P@15': 0.24530126456731965, 'micro_f1': 0.37228357209448903, 'micro_auc': 0.7871644972275891, 'loss': 0.45516749338905804}\n"
     ]
    },
    {
     "data": {
      "application/vnd.jupyter.widget-view+json": {
       "model_id": "0eee539325ff43e78a0b17b7bc2a20e5",
       "version_major": 2,
       "version_minor": 0
      },
      "text/plain": [
       "Evaluating:   0%|          | 0/50 [00:00<?, ?batches/s]"
      ]
     },
     "metadata": {},
     "output_type": "display_data"
    },
    {
     "data": {
      "application/vnd.jupyter.widget-view+json": {
       "model_id": "2834045abba0494db051f506702b6123",
       "version_major": 2,
       "version_minor": 0
      },
      "text/plain": [
       "Evaluating:   0%|          | 0/55 [00:00<?, ?batches/s]"
      ]
     },
     "metadata": {},
     "output_type": "display_data"
    },
    {
     "name": "stdout",
     "output_type": "stream",
     "text": [
      "lr 0.001\n",
      "{'macro_f1': 0.4291462882146768, 'macro_auc': 0.8262305188299266, 'macro_P@5': 0.508502024291498, 'macro_P@8': 0.4183776749566223, 'macro_P@15': 0.3016001542317332, 'micro_f1': 0.5263751518306438, 'micro_auc': 0.8672122834775144, 'loss': 0.3949410246177153}\n",
      "\n",
      "\n",
      "\n"
     ]
    },
    {
     "data": {
      "application/vnd.jupyter.widget-view+json": {
       "model_id": "0787b61bb4674cffaecca77a327d50dc",
       "version_major": 2,
       "version_minor": 0
      },
      "text/plain": [
       "Training at epoch #2:   0%|          | 0/253 [00:00<?, ?batches/s]"
      ]
     },
     "metadata": {},
     "output_type": "display_data"
    },
    {
     "name": "stdout",
     "output_type": "stream",
     "text": [
      "{'macro_f1': 0.5032709631234786, 'macro_auc': 0.8659371230259484, 'macro_P@5': 0.5684602033225887, 'macro_P@8': 0.45970741383585423, 'macro_P@15': 0.31337300603355656, 'micro_f1': 0.6006391184573004, 'micro_auc': 0.9092101271277462, 'loss': 0.3233298221713469}\n"
     ]
    },
    {
     "data": {
      "application/vnd.jupyter.widget-view+json": {
       "model_id": "7a30f89054114a7b8c9ad17d140ef5cd",
       "version_major": 2,
       "version_minor": 0
      },
      "text/plain": [
       "Evaluating:   0%|          | 0/50 [00:00<?, ?batches/s]"
      ]
     },
     "metadata": {},
     "output_type": "display_data"
    },
    {
     "data": {
      "application/vnd.jupyter.widget-view+json": {
       "model_id": "a312c0f99fc14bee8ac91c158d5284df",
       "version_major": 2,
       "version_minor": 0
      },
      "text/plain": [
       "Evaluating:   0%|          | 0/55 [00:00<?, ?batches/s]"
      ]
     },
     "metadata": {},
     "output_type": "display_data"
    },
    {
     "name": "stdout",
     "output_type": "stream",
     "text": [
      "lr 0.001\n",
      "{'macro_f1': 0.596254449796496, 'macro_auc': 0.9006923502610045, 'macro_P@5': 0.6235974551764025, 'macro_P@8': 0.5096876807403123, 'macro_P@15': 0.34466936572199736, 'micro_f1': 0.6598752412152762, 'micro_auc': 0.9262233967993339, 'loss': 0.30359386869452215}\n",
      "\n",
      "\n",
      "\n"
     ]
    },
    {
     "data": {
      "application/vnd.jupyter.widget-view+json": {
       "model_id": "790e0e52a4ad45d7ad169d0d7e26eeab",
       "version_major": 2,
       "version_minor": 0
      },
      "text/plain": [
       "Training at epoch #3:   0%|          | 0/253 [00:00<?, ?batches/s]"
      ]
     },
     "metadata": {},
     "output_type": "display_data"
    },
    {
     "name": "stdout",
     "output_type": "stream",
     "text": [
      "{'macro_f1': 0.5992990208552915, 'macro_auc': 0.908041340698133, 'macro_P@5': 0.6194892139846269, 'macro_P@8': 0.5038587899826432, 'macro_P@15': 0.33486238532110096, 'micro_f1': 0.671205655957162, 'micro_auc': 0.937673726706235, 'loss': 0.2739704873839857}\n"
     ]
    },
    {
     "data": {
      "application/vnd.jupyter.widget-view+json": {
       "model_id": "f5eae16c82f14b3ea2089ddb324a914f",
       "version_major": 2,
       "version_minor": 0
      },
      "text/plain": [
       "Evaluating:   0%|          | 0/50 [00:00<?, ?batches/s]"
      ]
     },
     "metadata": {},
     "output_type": "display_data"
    },
    {
     "data": {
      "application/vnd.jupyter.widget-view+json": {
       "model_id": "1a8122bfef59424896ebe52abdc097ec",
       "version_major": 2,
       "version_minor": 0
      },
      "text/plain": [
       "Evaluating:   0%|          | 0/55 [00:00<?, ?batches/s]"
      ]
     },
     "metadata": {},
     "output_type": "display_data"
    },
    {
     "name": "stdout",
     "output_type": "stream",
     "text": [
      "lr 0.001\n",
      "{'macro_f1': 0.6395052030679691, 'macro_auc': 0.9142141840667604, 'macro_P@5': 0.6421052631578947, 'macro_P@8': 0.525159051474841, 'macro_P@15': 0.3519182571814151, 'micro_f1': 0.6760963026655201, 'micro_auc': 0.9344154922311365, 'loss': 0.2875272569331256}\n",
      "\n",
      "\n",
      "\n"
     ]
    },
    {
     "data": {
      "application/vnd.jupyter.widget-view+json": {
       "model_id": "6ffb2a5958d24d26a6c0f71f9f3553af",
       "version_major": 2,
       "version_minor": 0
      },
      "text/plain": [
       "Training at epoch #4:   0%|          | 0/253 [00:00<?, ?batches/s]"
      ]
     },
     "metadata": {},
     "output_type": "display_data"
    },
    {
     "name": "stdout",
     "output_type": "stream",
     "text": [
      "{'macro_f1': 0.634068529345187, 'macro_auc': 0.9212035624711531, 'macro_P@5': 0.6369204066451772, 'macro_P@8': 0.5161480287627077, 'macro_P@15': 0.34011901810066947, 'micro_f1': 0.689634517871343, 'micro_auc': 0.9455720670877944, 'loss': 0.25681794246312656}\n"
     ]
    },
    {
     "data": {
      "application/vnd.jupyter.widget-view+json": {
       "model_id": "e7c9c538bd884579bf7f8fae2f9e4567",
       "version_major": 2,
       "version_minor": 0
      },
      "text/plain": [
       "Evaluating:   0%|          | 0/50 [00:00<?, ?batches/s]"
      ]
     },
     "metadata": {},
     "output_type": "display_data"
    },
    {
     "data": {
      "application/vnd.jupyter.widget-view+json": {
       "model_id": "4d04229d92df4dd2a9cc923098265fe3",
       "version_major": 2,
       "version_minor": 0
      },
      "text/plain": [
       "Evaluating:   0%|          | 0/55 [00:00<?, ?batches/s]"
      ]
     },
     "metadata": {},
     "output_type": "display_data"
    },
    {
     "name": "stdout",
     "output_type": "stream",
     "text": [
      "lr 0.001\n",
      "{'macro_f1': 0.6756646317551775, 'macro_auc': 0.9190926803310484, 'macro_P@5': 0.6620011567379988, 'macro_P@8': 0.540052053209948, 'macro_P@15': 0.3568536726431464, 'micro_f1': 0.7057477334741661, 'micro_auc': 0.942377860786386, 'loss': 0.27128702158277684}\n",
      "\n",
      "\n",
      "\n"
     ]
    },
    {
     "data": {
      "application/vnd.jupyter.widget-view+json": {
       "model_id": "fee23a82146945f7b1f5d4cf44d11ec4",
       "version_major": 2,
       "version_minor": 0
      },
      "text/plain": [
       "Training at epoch #5:   0%|          | 0/253 [00:00<?, ?batches/s]"
      ]
     },
     "metadata": {},
     "output_type": "display_data"
    },
    {
     "name": "stdout",
     "output_type": "stream",
     "text": [
      "{'macro_f1': 0.6510396259133593, 'macro_auc': 0.9276285178246749, 'macro_P@5': 0.6475576493925117, 'macro_P@8': 0.5229202826679891, 'macro_P@15': 0.342739069344574, 'micro_f1': 0.7023976270907143, 'micro_auc': 0.9499451941276912, 'loss': 0.24707103564805194}\n"
     ]
    },
    {
     "data": {
      "application/vnd.jupyter.widget-view+json": {
       "model_id": "515da08331fc4f5b9490216a9329abd7",
       "version_major": 2,
       "version_minor": 0
      },
      "text/plain": [
       "Evaluating:   0%|          | 0/50 [00:00<?, ?batches/s]"
      ]
     },
     "metadata": {},
     "output_type": "display_data"
    },
    {
     "data": {
      "application/vnd.jupyter.widget-view+json": {
       "model_id": "68c0d2b965374e4facb7296b78ed9213",
       "version_major": 2,
       "version_minor": 0
      },
      "text/plain": [
       "Evaluating:   0%|          | 0/55 [00:00<?, ?batches/s]"
      ]
     },
     "metadata": {},
     "output_type": "display_data"
    },
    {
     "name": "stdout",
     "output_type": "stream",
     "text": [
      "lr 0.001\n",
      "{'macro_f1': 0.6621993983493081, 'macro_auc': 0.9213892247745709, 'macro_P@5': 0.6570271833429728, 'macro_P@8': 0.534919028340081, 'macro_P@15': 0.3562753036437247, 'micro_f1': 0.6947450437191586, 'micro_auc': 0.941342744626396, 'loss': 0.27385148324749686}\n",
      "\n",
      "\n",
      "\n"
     ]
    },
    {
     "data": {
      "application/vnd.jupyter.widget-view+json": {
       "model_id": "b5054b84eacf4ec589750cef01a08b30",
       "version_major": 2,
       "version_minor": 0
      },
      "text/plain": [
       "Training at epoch #6:   0%|          | 0/253 [00:00<?, ?batches/s]"
      ]
     },
     "metadata": {},
     "output_type": "display_data"
    },
    {
     "name": "stdout",
     "output_type": "stream",
     "text": [
      "{'macro_f1': 0.6638425750001717, 'macro_auc': 0.9329708205842528, 'macro_P@5': 0.6549466898090751, 'macro_P@8': 0.5287627076617902, 'macro_P@15': 0.3451772873791223, 'micro_f1': 0.7112468884362978, 'micro_auc': 0.9533727202345458, 'loss': 0.23921480810218176}\n"
     ]
    },
    {
     "data": {
      "application/vnd.jupyter.widget-view+json": {
       "model_id": "b63597e65d3549319d68e9eedd5e2a92",
       "version_major": 2,
       "version_minor": 0
      },
      "text/plain": [
       "Evaluating:   0%|          | 0/50 [00:00<?, ?batches/s]"
      ]
     },
     "metadata": {},
     "output_type": "display_data"
    },
    {
     "data": {
      "application/vnd.jupyter.widget-view+json": {
       "model_id": "8790c58779694c609a5e7c9826683491",
       "version_major": 2,
       "version_minor": 0
      },
      "text/plain": [
       "Evaluating:   0%|          | 0/55 [00:00<?, ?batches/s]"
      ]
     },
     "metadata": {},
     "output_type": "display_data"
    },
    {
     "name": "stdout",
     "output_type": "stream",
     "text": [
      "lr 0.001\n",
      "{'macro_f1': 0.6792135551576922, 'macro_auc': 0.9231986450531173, 'macro_P@5': 0.6658183921341815, 'macro_P@8': 0.5409919028340081, 'macro_P@15': 0.3582032003084634, 'micro_f1': 0.7096600350294158, 'micro_auc': 0.943398863333544, 'loss': 0.27072346996177327}\n",
      "\n",
      "\n",
      "\n"
     ]
    },
    {
     "data": {
      "application/vnd.jupyter.widget-view+json": {
       "model_id": "7ae816a3d05648a3aed68a380284ad18",
       "version_major": 2,
       "version_minor": 0
      },
      "text/plain": [
       "Training at epoch #7:   0%|          | 0/253 [00:00<?, ?batches/s]"
      ]
     },
     "metadata": {},
     "output_type": "display_data"
    },
    {
     "name": "stdout",
     "output_type": "stream",
     "text": [
      "{'macro_f1': 0.6748215263618937, 'macro_auc': 0.936446975990338, 'macro_P@5': 0.6602033225886438, 'macro_P@8': 0.5345431440614927, 'macro_P@15': 0.3469047028680057, 'micro_f1': 0.7194117707382606, 'micro_auc': 0.9558444664860444, 'loss': 0.23370360803933954}\n"
     ]
    },
    {
     "data": {
      "application/vnd.jupyter.widget-view+json": {
       "model_id": "1d8e3fbed468435fb5690b38f5c3c35f",
       "version_major": 2,
       "version_minor": 0
      },
      "text/plain": [
       "Evaluating:   0%|          | 0/50 [00:00<?, ?batches/s]"
      ]
     },
     "metadata": {},
     "output_type": "display_data"
    },
    {
     "data": {
      "application/vnd.jupyter.widget-view+json": {
       "model_id": "92d2ca1e987d414c98056d90a371cbf3",
       "version_major": 2,
       "version_minor": 0
      },
      "text/plain": [
       "Evaluating:   0%|          | 0/55 [00:00<?, ?batches/s]"
      ]
     },
     "metadata": {},
     "output_type": "display_data"
    },
    {
     "name": "stdout",
     "output_type": "stream",
     "text": [
      "lr 0.001\n",
      "{'macro_f1': 0.6774485175226234, 'macro_auc': 0.9232556230138959, 'macro_P@5': 0.6662810873337189, 'macro_P@8': 0.5423655292076345, 'macro_P@15': 0.3580875265085792, 'micro_f1': 0.7120955521882522, 'micro_auc': 0.9436510320354501, 'loss': 0.2693518551913175}\n",
      "\n",
      "\n",
      "\n"
     ]
    },
    {
     "data": {
      "application/vnd.jupyter.widget-view+json": {
       "model_id": "60fddbebff0443a5ad1b164a6c32545b",
       "version_major": 2,
       "version_minor": 0
      },
      "text/plain": [
       "Training at epoch #8:   0%|          | 0/253 [00:00<?, ?batches/s]"
      ]
     },
     "metadata": {},
     "output_type": "display_data"
    },
    {
     "name": "stdout",
     "output_type": "stream",
     "text": [
      "{'macro_f1': 0.68559365506038, 'macro_auc': 0.9404355971320713, 'macro_P@5': 0.6666501363749071, 'macro_P@8': 0.537642573766427, 'macro_P@15': 0.3491197619637987, 'micro_f1': 0.7276138915377279, 'micro_auc': 0.9587963749800466, 'loss': 0.22704323148538944}\n"
     ]
    },
    {
     "data": {
      "application/vnd.jupyter.widget-view+json": {
       "model_id": "9d83e66bf68c46599b4001ca34a2600f",
       "version_major": 2,
       "version_minor": 0
      },
      "text/plain": [
       "Evaluating:   0%|          | 0/50 [00:00<?, ?batches/s]"
      ]
     },
     "metadata": {},
     "output_type": "display_data"
    },
    {
     "data": {
      "application/vnd.jupyter.widget-view+json": {
       "model_id": "9568745787f544ed9a800e8c01a37c43",
       "version_major": 2,
       "version_minor": 0
      },
      "text/plain": [
       "Evaluating:   0%|          | 0/55 [00:00<?, ?batches/s]"
      ]
     },
     "metadata": {},
     "output_type": "display_data"
    },
    {
     "name": "stdout",
     "output_type": "stream",
     "text": [
      "lr 0.001\n",
      "{'macro_f1': 0.6754946581635914, 'macro_auc': 0.9230994128764872, 'macro_P@5': 0.6651243493348756, 'macro_P@8': 0.5419317524580682, 'macro_P@15': 0.358280316175053, 'micro_f1': 0.7059494059362532, 'micro_auc': 0.9438708225968983, 'loss': 0.270146499032324}\n",
      "\n",
      "\n",
      "\n"
     ]
    },
    {
     "data": {
      "application/vnd.jupyter.widget-view+json": {
       "model_id": "4f3e6f23fa474e2ba5ec2a52c6d54e2b",
       "version_major": 2,
       "version_minor": 0
      },
      "text/plain": [
       "Training at epoch #9:   0%|          | 0/253 [00:00<?, ?batches/s]"
      ]
     },
     "metadata": {},
     "output_type": "display_data"
    },
    {
     "name": "stdout",
     "output_type": "stream",
     "text": [
      "{'macro_f1': 0.6910463700520231, 'macro_auc': 0.9423251182974123, 'macro_P@5': 0.6707165881477808, 'macro_P@8': 0.5408659806595586, 'macro_P@15': 0.3505992230762873, 'micro_f1': 0.7325222033985318, 'micro_auc': 0.9602174846936999, 'loss': 0.22246372711517123}\n"
     ]
    },
    {
     "data": {
      "application/vnd.jupyter.widget-view+json": {
       "model_id": "f4541a33b05241a5afcea8f36520ca9e",
       "version_major": 2,
       "version_minor": 0
      },
      "text/plain": [
       "Evaluating:   0%|          | 0/50 [00:00<?, ?batches/s]"
      ]
     },
     "metadata": {},
     "output_type": "display_data"
    },
    {
     "data": {
      "application/vnd.jupyter.widget-view+json": {
       "model_id": "28edc35f68ec46ce833e42f396e55116",
       "version_major": 2,
       "version_minor": 0
      },
      "text/plain": [
       "Evaluating:   0%|          | 0/55 [00:00<?, ?batches/s]"
      ]
     },
     "metadata": {},
     "output_type": "display_data"
    },
    {
     "name": "stdout",
     "output_type": "stream",
     "text": [
      "lr 0.001\n",
      "{'macro_f1': 0.6791466948284711, 'macro_auc': 0.9232082013293873, 'macro_P@5': 0.6680161943319838, 'macro_P@8': 0.543233082706767, 'macro_P@15': 0.35797185270869486, 'micro_f1': 0.7119657357009013, 'micro_auc': 0.9443547992862402, 'loss': 0.2689962991259315}\n",
      "\n",
      "\n",
      "\n"
     ]
    },
    {
     "data": {
      "application/vnd.jupyter.widget-view+json": {
       "model_id": "b1ed032d3cd74652949ce892125f24ef",
       "version_major": 2,
       "version_minor": 0
      },
      "text/plain": [
       "Training at epoch #10:   0%|          | 0/253 [00:00<?, ?batches/s]"
      ]
     },
     "metadata": {},
     "output_type": "display_data"
    },
    {
     "name": "stdout",
     "output_type": "stream",
     "text": [
      "{'macro_f1': 0.7005419118772691, 'macro_auc': 0.9460827944958397, 'macro_P@5': 0.6756260848003968, 'macro_P@8': 0.5452516736920406, 'macro_P@15': 0.35244235060748824, 'micro_f1': 0.7391871220754155, 'micro_auc': 0.9625588549778271, 'loss': 0.21612386331845648}\n"
     ]
    },
    {
     "data": {
      "application/vnd.jupyter.widget-view+json": {
       "model_id": "0fe93d19d6544302b5824ce5e77b9aa3",
       "version_major": 2,
       "version_minor": 0
      },
      "text/plain": [
       "Evaluating:   0%|          | 0/50 [00:00<?, ?batches/s]"
      ]
     },
     "metadata": {},
     "output_type": "display_data"
    },
    {
     "data": {
      "application/vnd.jupyter.widget-view+json": {
       "model_id": "daf45319da4045b9b755c4242a9b961a",
       "version_major": 2,
       "version_minor": 0
      },
      "text/plain": [
       "Evaluating:   0%|          | 0/55 [00:00<?, ?batches/s]"
      ]
     },
     "metadata": {},
     "output_type": "display_data"
    },
    {
     "name": "stdout",
     "output_type": "stream",
     "text": [
      "lr 0.001\n",
      "{'macro_f1': 0.6773263287810808, 'macro_auc': 0.9222126891958758, 'macro_P@5': 0.6676691729323307, 'macro_P@8': 0.5435945633314054, 'macro_P@15': 0.35689223057644115, 'micro_f1': 0.7073671339359798, 'micro_auc': 0.9434657522348785, 'loss': 0.2692226989702745}\n",
      "\n",
      "\n",
      "\n"
     ]
    },
    {
     "data": {
      "application/vnd.jupyter.widget-view+json": {
       "model_id": "e7b638e4069f4270b99a0bcb849d6f83",
       "version_major": 2,
       "version_minor": 0
      },
      "text/plain": [
       "Training at epoch #11:   0%|          | 0/253 [00:00<?, ?batches/s]"
      ]
     },
     "metadata": {},
     "output_type": "display_data"
    },
    {
     "name": "stdout",
     "output_type": "stream",
     "text": [
      "{'macro_f1': 0.708346271250496, 'macro_auc': 0.9489449401280674, 'macro_P@5': 0.680709149516489, 'macro_P@8': 0.5496838581700967, 'macro_P@15': 0.3535085544259856, 'micro_f1': 0.7454371783942565, 'micro_auc': 0.964787494072088, 'loss': 0.2102526151262253}\n"
     ]
    },
    {
     "data": {
      "application/vnd.jupyter.widget-view+json": {
       "model_id": "d004f4a5dac44be4954754f0f0d57ef7",
       "version_major": 2,
       "version_minor": 0
      },
      "text/plain": [
       "Evaluating:   0%|          | 0/50 [00:00<?, ?batches/s]"
      ]
     },
     "metadata": {},
     "output_type": "display_data"
    },
    {
     "data": {
      "application/vnd.jupyter.widget-view+json": {
       "model_id": "84406b5acb8f4795a8a08263aa1f14a3",
       "version_major": 2,
       "version_minor": 0
      },
      "text/plain": [
       "Evaluating:   0%|          | 0/55 [00:00<?, ?batches/s]"
      ]
     },
     "metadata": {},
     "output_type": "display_data"
    },
    {
     "name": "stdout",
     "output_type": "stream",
     "text": [
      "lr 0.0001\n",
      "{'macro_f1': 0.6772544331582173, 'macro_auc': 0.9223494272403382, 'macro_P@5': 0.6658183921341815, 'macro_P@8': 0.5439560439560439, 'macro_P@15': 0.35723925197609413, 'micro_f1': 0.71397616468039, 'micro_auc': 0.9423337705081651, 'loss': 0.2806539062749256}\n",
      "\n",
      "\n",
      "\n"
     ]
    },
    {
     "data": {
      "application/vnd.jupyter.widget-view+json": {
       "model_id": "c1de23e1113d4b319f29dea9680a1297",
       "version_major": 2,
       "version_minor": 0
      },
      "text/plain": [
       "Training at epoch #12:   0%|          | 0/253 [00:00<?, ?batches/s]"
      ]
     },
     "metadata": {},
     "output_type": "display_data"
    },
    {
     "name": "stdout",
     "output_type": "stream",
     "text": [
      "{'macro_f1': 0.735211587523229, 'macro_auc': 0.9574752574912394, 'macro_P@5': 0.6969253657327052, 'macro_P@8': 0.5607488222167121, 'macro_P@15': 0.35774030911645593, 'micro_f1': 0.7664727287679118, 'micro_auc': 0.9707977765353, 'loss': 0.19277604212874008}\n"
     ]
    },
    {
     "data": {
      "application/vnd.jupyter.widget-view+json": {
       "model_id": "aec787fab9524bb5aaa16615408d83fc",
       "version_major": 2,
       "version_minor": 0
      },
      "text/plain": [
       "Evaluating:   0%|          | 0/50 [00:00<?, ?batches/s]"
      ]
     },
     "metadata": {},
     "output_type": "display_data"
    },
    {
     "data": {
      "application/vnd.jupyter.widget-view+json": {
       "model_id": "593b5a7c95e54119b0c9e34f3f3e1a16",
       "version_major": 2,
       "version_minor": 0
      },
      "text/plain": [
       "Evaluating:   0%|          | 0/55 [00:00<?, ?batches/s]"
      ]
     },
     "metadata": {},
     "output_type": "display_data"
    },
    {
     "name": "stdout",
     "output_type": "stream",
     "text": [
      "lr 0.0001\n",
      "{'macro_f1': 0.6818850486396126, 'macro_auc': 0.9226250405388885, 'macro_P@5': 0.6692886061307113, 'macro_P@8': 0.5443898207056102, 'macro_P@15': 0.35855022170811646, 'micro_f1': 0.7132085514060144, 'micro_auc': 0.944812333366887, 'loss': 0.27513036700812254}\n",
      "\n",
      "\n",
      "\n"
     ]
    },
    {
     "data": {
      "application/vnd.jupyter.widget-view+json": {
       "model_id": "cf660c7fcb4c4daeadc847229c4a2462",
       "version_major": 2,
       "version_minor": 0
      },
      "text/plain": [
       "Training at epoch #13:   0%|          | 0/253 [00:00<?, ?batches/s]"
      ]
     },
     "metadata": {},
     "output_type": "display_data"
    },
    {
     "name": "stdout",
     "output_type": "stream",
     "text": [
      "{'macro_f1': 0.7386335865057189, 'macro_auc': 0.9588069360128572, 'macro_P@5': 0.7008678403173816, 'macro_P@8': 0.5640962062980411, 'macro_P@15': 0.3584924373915199, 'micro_f1': 0.7702560721863991, 'micro_auc': 0.9719215235077587, 'loss': 0.18880883566004486}\n"
     ]
    },
    {
     "data": {
      "application/vnd.jupyter.widget-view+json": {
       "model_id": "ad0c12562d334a9ba8253a6109ac4a51",
       "version_major": 2,
       "version_minor": 0
      },
      "text/plain": [
       "Evaluating:   0%|          | 0/50 [00:00<?, ?batches/s]"
      ]
     },
     "metadata": {},
     "output_type": "display_data"
    },
    {
     "data": {
      "application/vnd.jupyter.widget-view+json": {
       "model_id": "d967d62e38d24f729c2f7561da24d932",
       "version_major": 2,
       "version_minor": 0
      },
      "text/plain": [
       "Evaluating:   0%|          | 0/55 [00:00<?, ?batches/s]"
      ]
     },
     "metadata": {},
     "output_type": "display_data"
    },
    {
     "name": "stdout",
     "output_type": "stream",
     "text": [
      "lr 1e-05\n",
      "{'macro_f1': 0.6809295904286442, 'macro_auc': 0.922233547391958, 'macro_P@5': 0.6661654135338345, 'macro_P@8': 0.5441729323308271, 'macro_P@15': 0.35797185270869486, 'micro_f1': 0.7131706881941038, 'micro_auc': 0.9442654157936864, 'loss': 0.2789154979315671}\n",
      "\n",
      "\n",
      "\n"
     ]
    },
    {
     "data": {
      "application/vnd.jupyter.widget-view+json": {
       "model_id": "1d2b161f77444ab89b6915a109be5023",
       "version_major": 2,
       "version_minor": 0
      },
      "text/plain": [
       "Training at epoch #14:   0%|          | 0/253 [00:00<?, ?batches/s]"
      ]
     },
     "metadata": {},
     "output_type": "display_data"
    },
    {
     "name": "stdout",
     "output_type": "stream",
     "text": [
      "{'macro_f1': 0.7465710726587997, 'macro_auc': 0.9602455854604188, 'macro_P@5': 0.7050334738408133, 'macro_P@8': 0.5663742871311679, 'macro_P@15': 0.3596412926688156, 'micro_f1': 0.775903019834048, 'micro_auc': 0.9729348502083264, 'loss': 0.1860042930591719}\n"
     ]
    },
    {
     "data": {
      "application/vnd.jupyter.widget-view+json": {
       "model_id": "bcaab81e1de1480baf1be11022e5c5c2",
       "version_major": 2,
       "version_minor": 0
      },
      "text/plain": [
       "Evaluating:   0%|          | 0/50 [00:00<?, ?batches/s]"
      ]
     },
     "metadata": {},
     "output_type": "display_data"
    },
    {
     "data": {
      "application/vnd.jupyter.widget-view+json": {
       "model_id": "25c48d36a88c4bf4ae4148e8123a240d",
       "version_major": 2,
       "version_minor": 0
      },
      "text/plain": [
       "Evaluating:   0%|          | 0/55 [00:00<?, ?batches/s]"
      ]
     },
     "metadata": {},
     "output_type": "display_data"
    },
    {
     "name": "stdout",
     "output_type": "stream",
     "text": [
      "lr 1e-05\n",
      "{'macro_f1': 0.6809334136818896, 'macro_auc': 0.922262287264309, 'macro_P@5': 0.6668594563331406, 'macro_P@8': 0.5441729323308271, 'macro_P@15': 0.3587044534412956, 'micro_f1': 0.7135086937137761, 'micro_auc': 0.9445512591687586, 'loss': 0.2784081775356423}\n",
      "\n",
      "\n",
      "\n"
     ]
    },
    {
     "data": {
      "application/vnd.jupyter.widget-view+json": {
       "model_id": "2007148838964ae5947c34c71d154cf6",
       "version_major": 2,
       "version_minor": 0
      },
      "text/plain": [
       "Training at epoch #15:   0%|          | 0/253 [00:00<?, ?batches/s]"
      ]
     },
     "metadata": {},
     "output_type": "display_data"
    },
    {
     "name": "stdout",
     "output_type": "stream",
     "text": [
      "{'macro_f1': 0.7454315418300281, 'macro_auc': 0.9603038071312483, 'macro_P@5': 0.7046119514009421, 'macro_P@8': 0.5660953384577238, 'macro_P@15': 0.35936854285478137, 'micro_f1': 0.7757951421422762, 'micro_auc': 0.9728808188395051, 'loss': 0.18519707636635294}\n"
     ]
    },
    {
     "data": {
      "application/vnd.jupyter.widget-view+json": {
       "model_id": "c0dfd1f97b3a4f848a0292bcffe8678c",
       "version_major": 2,
       "version_minor": 0
      },
      "text/plain": [
       "Evaluating:   0%|          | 0/50 [00:00<?, ?batches/s]"
      ]
     },
     "metadata": {},
     "output_type": "display_data"
    },
    {
     "data": {
      "application/vnd.jupyter.widget-view+json": {
       "model_id": "ed7d0504551840da9f1eb27448cd9793",
       "version_major": 2,
       "version_minor": 0
      },
      "text/plain": [
       "Evaluating:   0%|          | 0/55 [00:00<?, ?batches/s]"
      ]
     },
     "metadata": {},
     "output_type": "display_data"
    },
    {
     "name": "stdout",
     "output_type": "stream",
     "text": [
      "lr 1.0000000000000002e-06\n",
      "{'macro_f1': 0.6802894220536543, 'macro_auc': 0.9222431598951446, 'macro_P@5': 0.6668594563331406, 'macro_P@8': 0.5443175245806825, 'macro_P@15': 0.35878156930788513, 'micro_f1': 0.7127081663549737, 'micro_auc': 0.9445871977488434, 'loss': 0.27829607637091114}\n",
      "\n",
      "\n",
      "\n"
     ]
    },
    {
     "data": {
      "application/vnd.jupyter.widget-view+json": {
       "model_id": "2ba7c1d2c99746839879de037f5d0310",
       "version_major": 2,
       "version_minor": 0
      },
      "text/plain": [
       "Training at epoch #16:   0%|          | 0/253 [00:00<?, ?batches/s]"
      ]
     },
     "metadata": {},
     "output_type": "display_data"
    }
   ],
   "source": [
    "# lstm no third layer\n",
    "run_with_validation(training_data, valid_data, test_data, label_desc, vocab, saved_data_file_path=\"{}.data.pkl\".format(saved_vocab_path.split(\".pkl\")[0]))"
   ]
  },
  {
   "cell_type": "code",
   "execution_count": null,
   "id": "25ec8f76",
   "metadata": {},
   "outputs": [],
   "source": []
  }
 ],
 "metadata": {
  "kernelspec": {
   "display_name": "Python 3 (ipykernel)",
   "language": "python",
   "name": "python3"
  },
  "language_info": {
   "codemirror_mode": {
    "name": "ipython",
    "version": 3
   },
   "file_extension": ".py",
   "mimetype": "text/x-python",
   "name": "python",
   "nbconvert_exporter": "python",
   "pygments_lexer": "ipython3",
   "version": "3.8.10"
  }
 },
 "nbformat": 4,
 "nbformat_minor": 5
}
