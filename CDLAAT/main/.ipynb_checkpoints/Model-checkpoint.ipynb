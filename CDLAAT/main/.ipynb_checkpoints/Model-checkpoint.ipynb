{
 "cells": [
  {
   "cell_type": "code",
   "execution_count": 1,
   "id": "6a9cb6ed",
   "metadata": {},
   "outputs": [
    {
     "name": "stderr",
     "output_type": "stream",
     "text": [
      "2022-11-30 14:57:28.273045: I tensorflow/core/platform/cpu_feature_guard.cc:193] This TensorFlow binary is optimized with oneAPI Deep Neural Network Library (oneDNN) to use the following CPU instructions in performance-critical operations:  AVX2 FMA\n",
      "To enable them in other operations, rebuild TensorFlow with the appropriate compiler flags.\n",
      "2022-11-30 14:57:28.453063: E tensorflow/stream_executor/cuda/cuda_blas.cc:2981] Unable to register cuBLAS factory: Attempting to register factory for plugin cuBLAS when one has already been registered\n"
     ]
    }
   ],
   "source": [
    "import os\n",
    "import copy\n",
    "import torch\n",
    "import pickle\n",
    "import pprint\n",
    "import random\n",
    "import shutil\n",
    "import random\n",
    "import torch\n",
    "import hashlib\n",
    "import numpy as np\n",
    "import pandas as pd\n",
    "from rnn import RNN\n",
    "import torch.nn as nn\n",
    "from vocab import Vocab\n",
    "from torch import optim\n",
    "from util import *\n",
    "from constants import *\n",
    "from evaluator import Evaluator\n",
    "from tqdm.notebook import tqdm\n",
    "from sklearn.metrics import *\n",
    "from transformers import AdamW\n",
    "from collections import Counter\n",
    "import torch.nn.functional as F\n",
    "from collections import OrderedDict\n",
    "from torch.autograd import Variable\n",
    "from sklearn.preprocessing import *\n",
    "from embedding_layer import EmbeddingLayer\n",
    "from attention_layer import AttentionLayer\n",
    "from torch.nn.utils.rnn import pad_sequence\n",
    "from gensim.models.word2vec import Word2Vec\n",
    "from dataloaders import TextDataLoader, TextDataset\n",
    "from gensim.models.keyedvectors import KeyedVectors\n",
    "from torch.nn.utils.rnn import pack_padded_sequence, pad_packed_sequence\n",
    "\n",
    "device = torch.device('cuda:3' if torch.cuda.is_available() else 'cpu')\n",
    "tqdm.pandas()"
   ]
  },
  {
   "cell_type": "code",
   "execution_count": 2,
   "id": "4c726f6b",
   "metadata": {},
   "outputs": [
    {
     "name": "stdout",
     "output_type": "stream",
     "text": [
      "Wed Nov 30 14:57:31 2022       \n",
      "+-----------------------------------------------------------------------------+\n",
      "| NVIDIA-SMI 460.106.00   Driver Version: 460.106.00   CUDA Version: 11.2     |\n",
      "|-------------------------------+----------------------+----------------------+\n",
      "| GPU  Name        Persistence-M| Bus-Id        Disp.A | Volatile Uncorr. ECC |\n",
      "| Fan  Temp  Perf  Pwr:Usage/Cap|         Memory-Usage | GPU-Util  Compute M. |\n",
      "|                               |                      |               MIG M. |\n",
      "|===============================+======================+======================|\n",
      "|   0  Tesla V100-DGXS...  Off  | 00000000:07:00.0 Off |                    0 |\n",
      "| N/A   58C    P0    59W / 300W |  31717MiB / 32508MiB |      0%      Default |\n",
      "|                               |                      |                  N/A |\n",
      "+-------------------------------+----------------------+----------------------+\n",
      "|   1  Tesla V100-DGXS...  Off  | 00000000:08:00.0 Off |                    0 |\n",
      "| N/A   57C    P0    58W / 300W |  16029MiB / 32508MiB |      0%      Default |\n",
      "|                               |                      |                  N/A |\n",
      "+-------------------------------+----------------------+----------------------+\n",
      "|   2  Tesla V100-DGXS...  Off  | 00000000:0E:00.0 Off |                    0 |\n",
      "| N/A   64C    P0   278W / 300W |  18449MiB / 32508MiB |    100%      Default |\n",
      "|                               |                      |                  N/A |\n",
      "+-------------------------------+----------------------+----------------------+\n",
      "|   3  Tesla V100-DGXS...  Off  | 00000000:0F:00.0 Off |                    0 |\n",
      "| N/A   57C    P0    60W / 300W |  19027MiB / 32508MiB |      0%      Default |\n",
      "|                               |                      |                  N/A |\n",
      "+-------------------------------+----------------------+----------------------+\n",
      "                                                                               \n",
      "+-----------------------------------------------------------------------------+\n",
      "| Processes:                                                                  |\n",
      "|  GPU   GI   CI        PID   Type   Process name                  GPU Memory |\n",
      "|        ID   ID                                                   Usage      |\n",
      "|=============================================================================|\n",
      "|    0   N/A  N/A   3223538      C   /usr/bin/python3                16137MiB |\n",
      "|    0   N/A  N/A   3269418      C   /usr/bin/python3                15577MiB |\n",
      "|    1   N/A  N/A   3223538      C   /usr/bin/python3                  461MiB |\n",
      "|    1   N/A  N/A   3269419      C   /usr/bin/python3                15565MiB |\n",
      "|    2   N/A  N/A   3223538      C   /usr/bin/python3                  461MiB |\n",
      "|    2   N/A  N/A   3269420      C   /usr/bin/python3                17985MiB |\n",
      "|    3   N/A  N/A   3223538      C   /usr/bin/python3                  461MiB |\n",
      "|    3   N/A  N/A   3269421      C   /usr/bin/python3                18563MiB |\n",
      "+-----------------------------------------------------------------------------+\n"
     ]
    }
   ],
   "source": [
    "!nvidia-smi"
   ]
  },
  {
   "cell_type": "code",
   "execution_count": 3,
   "id": "f3ca0316",
   "metadata": {},
   "outputs": [
    {
     "data": {
      "text/plain": [
       "device(type='cuda', index=3)"
      ]
     },
     "execution_count": 3,
     "metadata": {},
     "output_type": "execute_result"
    }
   ],
   "source": [
    "device"
   ]
  },
  {
   "cell_type": "code",
   "execution_count": 4,
   "id": "fc5dfc3b",
   "metadata": {},
   "outputs": [],
   "source": [
    "def read_data(file_path) -> list:\n",
    "    data = pd.read_csv(file_path, on_bad_lines='skip')\n",
    "    id_data = data[id_col_name]\n",
    "    text_data = data[text_col_name]\n",
    "    hierarchical_label_data = []\n",
    "    label_data = data[label_col_name].tolist()\n",
    "    output = []\n",
    "    for i in tqdm(range(len(label_data)), desc=\"Reading data\"):\n",
    "        labels = label_data[i].split(';')\n",
    "        output.append((text_data[i], labels, id_data[i]))\n",
    "    return output"
   ]
  },
  {
   "cell_type": "code",
   "execution_count": 5,
   "id": "9c9c1c4c",
   "metadata": {},
   "outputs": [],
   "source": [
    "def read_labeldesc(file_path) -> list:\n",
    "    data = pd.read_csv(file_path)\n",
    "    desc_data = data[desc_col_name].tolist()\n",
    "    label_data = data[label_col_name].tolist()\n",
    "    output = []\n",
    "    for i in tqdm(range(len(label_data)), desc=\"Reading Label Descriptions\"):\n",
    "        output.append((label_data[i], desc_data[i]))\n",
    "    return output"
   ]
  },
  {
   "cell_type": "code",
   "execution_count": 6,
   "id": "a07b35fe",
   "metadata": {},
   "outputs": [],
   "source": [
    "def load_cached_data(file_path: str) -> tuple:\n",
    "    with open(file_path, 'rb') as f:\n",
    "        data = pickle.load(f)\n",
    "        f.close()\n",
    "    return data[\"vocab\"], data[\"training_data\"], data[\"valid_data\"], data[\"test_data\"],data[\"label_desc\"]"
   ]
  },
  {
   "cell_type": "code",
   "execution_count": 7,
   "id": "3f6718ae",
   "metadata": {},
   "outputs": [],
   "source": [
    "def prepare_data():\n",
    "    cache_folder = \"{}/{}\".format(cache_dir, \"mimic3_single_50\")\n",
    "#     device_name = 'cuda' if torch.cuda.is_available() else 'cpu'\n",
    "    save_vocab_file_name = \"{}.pkl\".format(\"save_vocab\")\n",
    "    cached_file_name = os.path.join(cache_folder, save_vocab_file_name)\n",
    "    if os.path.exists(cached_file_name):\n",
    "        vocab, training_data, valid_data, test_data, label_desc = load_cached_data(cached_file_name)\n",
    "        data = training_data + valid_data + test_data\n",
    "        labels = []\n",
    "        for (feature, l, _) in data:\n",
    "            labels.extend(l)\n",
    "        unique_labels=list(set(labels))\n",
    "        n_labels = len(unique_labels)\n",
    "        labels = unique_labels\n",
    "        vocab.update_labels(labels)\n",
    "        print(\"Loaded vocab and data from file\")\n",
    "    else:\n",
    "        training_data = read_data( data_dir + \"/train.csv\")\n",
    "        valid_data = read_data( data_dir + \"/dev.csv\")\n",
    "        test_data = read_data( data_dir + \"/test.csv\")\n",
    "        label_desc = read_labeldesc(data_dir + \"/D_ICD_50.csv\")\n",
    "        data = training_data + valid_data + test_data\n",
    "        labels = []\n",
    "        for (feature, l, _) in data:\n",
    "            labels.extend(l)\n",
    "        unique_labels=list(set(labels))\n",
    "        n_labels = len(unique_labels)\n",
    "        labels = unique_labels\n",
    "        vocab = Vocab(data, labels,label_desc,min_word_frequency,\n",
    "                          word_embedding_mode=embedding_mode,\n",
    "                          word_embedding_file=embedding_file)\n",
    "        print(\"Preparing the vocab\")\n",
    "        vocab.prepare_vocab()\n",
    "        saved_objects = {\"vocab\": vocab,\n",
    "                         \"training_data\": training_data,\n",
    "                         \"valid_data\": valid_data,\n",
    "                         \"test_data\": test_data,\n",
    "                         \"label_desc\": label_desc}\n",
    "        with open(cached_file_name, 'wb') as f:\n",
    "            pickle.dump(saved_objects, f, pickle.HIGHEST_PROTOCOL)\n",
    "            f.close()\n",
    "        print(\"Saved vocab and data to files\")\n",
    "    return training_data, valid_data, test_data ,label_desc, vocab,cached_file_name"
   ]
  },
  {
   "cell_type": "code",
   "execution_count": 8,
   "id": "cb8dcb0c",
   "metadata": {},
   "outputs": [
    {
     "name": "stdout",
     "output_type": "stream",
     "text": [
      "Loaded vocab and data from file\n"
     ]
    }
   ],
   "source": [
    "training_data, valid_data, test_data, label_desc, vocab, saved_vocab_path = prepare_data()"
   ]
  },
  {
   "cell_type": "code",
   "execution_count": 9,
   "id": "e1d85c9f",
   "metadata": {},
   "outputs": [
    {
     "data": {
      "text/plain": [
       "RNN(\n",
       "  (embedding): EmbeddingLayer(\n",
       "    (embeddings): Embedding(66379, 100)\n",
       "  )\n",
       "  (label_linear): Linear(in_features=100, out_features=256, bias=True)\n",
       "  (rnn): LSTM(100, 256, bidirectional=True)\n",
       "  (dropout): Dropout(p=0.3, inplace=False)\n",
       "  (attention): AttentionLayer(\n",
       "    (first_linear): Linear(in_features=512, out_features=256, bias=False)\n",
       "    (second_linear): Linear(in_features=256, out_features=50, bias=False)\n",
       "    (third_linear): Linear(in_features=512, out_features=256, bias=False)\n",
       "  )\n",
       "  (classification_layer): Linear(in_features=256, out_features=50, bias=True)\n",
       ")"
      ]
     },
     "execution_count": 9,
     "metadata": {},
     "output_type": "execute_result"
    }
   ],
   "source": [
    "model = RNN(vocab, device)\n",
    "model"
   ]
  },
  {
   "cell_type": "code",
   "execution_count": 23,
   "id": "3e2041d7",
   "metadata": {},
   "outputs": [],
   "source": [
    "class Trainer:\n",
    "    def __init__(self, model: nn.Module,\n",
    "                 train_dataloader: TextDataLoader,\n",
    "                 valid_dataloader: TextDataLoader,\n",
    "                 test_dataloader: TextDataLoader,\n",
    "                 criterions,\n",
    "                 optimiser,\n",
    "                 scheduler,\n",
    "                 vocab,\n",
    "                 checkpoint_path,\n",
    "                 ):\n",
    "        self.model = model\n",
    "        self.train_dataloader = train_dataloader\n",
    "        self.valid_dataloader = valid_dataloader\n",
    "        self.test_dataloader = test_dataloader\n",
    "        self.criterions = criterions\n",
    "        self.optimiser = optimiser\n",
    "        self.scheduler = scheduler\n",
    "        self.vocab = vocab\n",
    "        self.multilabel = multilabel\n",
    "        self.checkpoint_path = checkpoint_path\n",
    "        self.n_training_labels = n_labels\n",
    "        self.saved_result_path = '../model/results.pkl'\n",
    "        self.main_metric = main_metric\n",
    "        self.start_epoch = 0\n",
    "        self.best_val = None\n",
    "        self.saved_test_scores = None\n",
    "        self.best_epoch_num = 1\n",
    "\n",
    "    def train_single_epoch(self, index):\n",
    "        self.model.train()\n",
    "        self.train_dataloader.dataset.shuffle_data()\n",
    "        losses = []\n",
    "        true_labels = []\n",
    "        pred_probs = []\n",
    "        ids = []\n",
    "        all_loss_list = []\n",
    "        progress_bar = tqdm(self.train_dataloader, unit=\"batches\", desc=\"Training at epoch #{}\".format(index))\n",
    "        progress_bar.clear()\n",
    "        self.optimiser.zero_grad()\n",
    "        batch_id = 0\n",
    "\n",
    "        for text_batch, label_batch, length_batch, id_batch,desc_batch in progress_bar:\n",
    "            batch_id += 1\n",
    "            text_batch = text_batch.to(device)\n",
    "            label_batch = label_batch.to(device)\n",
    "            length_batch = length_batch.to(device)\n",
    "            desc_batch = desc_batch.to(device)\n",
    "            true_labels.extend(label_batch.cpu().numpy())\n",
    "            ids.extend(id_batch)\n",
    "            output = self.model(text_batch, length_batch,desc_batch)\n",
    "            loss_list = []\n",
    "            loss_list = self.criterions(output, label_batch)\n",
    "            all_loss_list.append([loss_list.item()])\n",
    "            output = torch.sigmoid(output)\n",
    "            output = output.detach().cpu().numpy()\n",
    "            pred_probs.extend(output)\n",
    "            loss = get_loss(loss_list, self.n_training_labels)\n",
    "            loss.backward()\n",
    "            losses.append(loss.item())\n",
    "            self.optimiser.step()\n",
    "            self.optimiser.zero_grad()\n",
    "\n",
    "        scores = OrderedDict()\n",
    "        scores = calculate_eval_metrics(ids, true_labels,pred_probs, self.multilabel)\n",
    "        scores[\"loss\"] = np.mean(all_loss_list).item()\n",
    "        scores[\"average\"] = np.mean(losses).item()\n",
    "        progress_bar.refresh(True)\n",
    "        progress_bar.clear(True)\n",
    "        progress_bar.close()\n",
    "        keys = ['micro_auc', 'macro_auc', 'micro_f1', 'macro_f1', 'macro_P@5', 'macro_P@8', 'macro_P@15', 'loss']\n",
    "        print({k:v for k,v in scores.items() if k in keys})\n",
    "        return scores\n",
    "\n",
    "\n",
    "    @staticmethod\n",
    "    def format_number(number):\n",
    "        return abs(round(number, ndigits=ndigits))\n",
    "\n",
    "    def train(self,n_epoch: int = 100):\n",
    "        best_valid_scores = self.best_val\n",
    "        saved_test_scores = self.saved_test_scores\n",
    "        saved_train_scores = None\n",
    "        best_epoch_num = self.best_epoch_num\n",
    "        evaluator = Evaluator(self.model, self.vocab, self.criterions, self.n_training_labels,device)\n",
    "        for e in range(self.start_epoch + 1, n_epoch + 1):\n",
    "            train_scores = self.train_single_epoch(e)\n",
    "            epoch_loss = train_scores[\"average\"]\n",
    "            valid_scores = evaluator.evaluate(self.valid_dataloader)\n",
    "            test_scores = evaluator.evaluate(self.test_dataloader)\n",
    "            self.scheduler.step(test_scores[\"average\"])\n",
    "            print('lr {}'.format(self.optimiser.param_groups[0]['lr']))\n",
    "            keys = ['micro_auc', 'macro_auc', 'micro_f1', 'macro_f1', 'macro_P@5', 'macro_P@8', 'macro_P@15', 'loss']\n",
    "            print({k:v for k,v in test_scores.items() if k in keys})\n",
    "            print('\\n\\n')\n",
    "            \n",
    "            if best_valid_scores is None or best_valid_scores[self.main_metric] < valid_scores[self.main_metric]:\n",
    "                best_valid_scores = valid_scores\n",
    "                saved_test_scores = test_scores\n",
    "                saved_train_scores = train_scores\n",
    "                best_epoch_num = e\n",
    "                \n",
    "\n",
    "                    \n",
    "        results = {\"train\": saved_train_scores, \"valid\": best_valid_scores, \"test\": saved_test_scores,\n",
    "                    \"index2label\": self.vocab.index2label}\n",
    "        with open(self.saved_result_path, 'wb') as f:\n",
    "            pickle.dump(results, f, pickle.HIGHEST_PROTOCOL)\n",
    "                \n",
    "        return self.model, best_valid_scores"
   ]
  },
  {
   "cell_type": "code",
   "execution_count": 24,
   "id": "5b54069d",
   "metadata": {},
   "outputs": [],
   "source": [
    "def _load_and_cache_data(train_data, valid_data, test_data, label_desc, vocab, saved_data_file_path):\n",
    "    if os.path.exists(saved_data_file_path):\n",
    "        try:\n",
    "            with open(saved_data_file_path, 'rb') as f:\n",
    "                data = pickle.load(f)\n",
    "                data[\"train\"].multilabel = bool(multilabel)\n",
    "                data[\"valid\"].multilabel = bool(multilabel)\n",
    "                data[\"test\"].multilabel = bool(multilabel)\n",
    "\n",
    "                return data[\"train\"], data[\"valid\"], data[\"test\"]\n",
    "        except:\n",
    "            pass\n",
    "\n",
    "    # Build train/valid/test data loaders\n",
    "    train_dataset = TextDataset(train_data, vocab, label_desc,max_seq_length=max_seq_length,min_seq_length=min_seq_length,sort=True,multilabel=multilabel)\n",
    "\n",
    "    valid_dataset = TextDataset(valid_data, vocab, label_desc,max_seq_length=max_seq_length,min_seq_length=min_seq_length,sort=True,multilabel=multilabel)\n",
    "\n",
    "    test_dataset = TextDataset(test_data, vocab, label_desc,max_seq_length=max_seq_length,min_seq_length=min_seq_length,sort=True, multilabel=multilabel)\n",
    "    # try:\n",
    "    with open(saved_data_file_path, 'wb') as f:\n",
    "        data = {\"train\": train_dataset, \"valid\": valid_dataset, \"test\": test_dataset}\n",
    "        pickle.dump(data, f, pickle.HIGHEST_PROTOCOL)\n",
    "    \n",
    "    return train_dataset, valid_dataset, test_dataset"
   ]
  },
  {
   "cell_type": "code",
   "execution_count": 28,
   "id": "ee0e163b",
   "metadata": {},
   "outputs": [],
   "source": [
    "def _train_model(train_data, valid_data, test_data, label_desc, vocab, saved_data_file_path=None,checkpoint_path=None):\n",
    "    model = RNN(vocab,device)\n",
    "    init_state_dict = None\n",
    "    if init_state_dict is not None:\n",
    "        model.load_state_dict(init_state_dict)\n",
    "    model.to(device)\n",
    "\n",
    "    train_dataset, valid_dataset, test_dataset = _load_and_cache_data(train_data, valid_data, test_data, label_desc,\n",
    "                                                                      vocab, saved_data_file_path)\n",
    "    train_dataloader = TextDataLoader(dataset=train_dataset, vocab=vocab, batch_size=batch_size)\n",
    "\n",
    "    valid_dataloader = TextDataLoader(dataset=valid_dataset, vocab=vocab, batch_size=batch_size)\n",
    "\n",
    "    test_dataloader = TextDataLoader(dataset=test_dataset, vocab=vocab, batch_size=batch_size)\n",
    "\n",
    "    optimiser = torch.optim.AdamW(model.parameters(), lr = 0.001)\n",
    "    \n",
    "    scheduler = torch.optim.lr_scheduler.ReduceLROnPlateau(optimiser, 'min', patience=1)\n",
    "    \n",
    "    criterions = nn.BCEWithLogitsLoss(pos_weight = torch.tensor(2))\n",
    "\n",
    "    trainer = Trainer(model=model,\n",
    "                      train_dataloader=train_dataloader,\n",
    "                      valid_dataloader=valid_dataloader,\n",
    "                      test_dataloader=test_dataloader,\n",
    "                      criterions=criterions,\n",
    "                      optimiser=optimiser,\n",
    "                      scheduler = scheduler,\n",
    "                      vocab=vocab,\n",
    "                      checkpoint_path=checkpoint_path)\n",
    "    best_model, scores = trainer.train(n_epoch=n_epoch)\n",
    "\n",
    "    evaluator = Evaluator(model=best_model,vocab=vocab,criterions=criterions,\n",
    "                          n_training_labels=n_labels,device = device)\n",
    "\n",
    "    del model, optimiser, evaluator, trainer, criterions\n",
    "    return best_model, scores  # either on valid or test"
   ]
  },
  {
   "cell_type": "code",
   "execution_count": 29,
   "id": "13164513",
   "metadata": {},
   "outputs": [],
   "source": [
    "def run_with_validation(training_data, valid_data, test_data, label_desc, vocab, saved_data_file_path):\n",
    "    best_model, scores = _train_model(\n",
    "        train_data=training_data, valid_data=valid_data, test_data=test_data, label_desc=label_desc,\n",
    "        vocab=vocab, saved_data_file_path=saved_data_file_path, checkpoint_path=\"../model/checkpoint.pkl\")\n",
    "\n",
    "    return best_model, scores"
   ]
  },
  {
   "cell_type": "code",
   "execution_count": 14,
   "id": "772dacdd",
   "metadata": {
    "scrolled": false
   },
   "outputs": [
    {
     "name": "stderr",
     "output_type": "stream",
     "text": [
      "Processing data: 100%|██████████████████████████████████████████████████████████████████████████████████████████████████████████████████████████████████████████| 8066/8066 [00:07<00:00, 1098.65samples/s]\n",
      "Processing data: 100%|██████████████████████████████████████████████████████████████████████████████████████████████████████████████████████████████████████████| 1573/1573 [00:01<00:00, 1121.29samples/s]\n",
      "Processing data: 100%|███████████████████████████████████████████████████████████████████████████████████████████████████████████████████████████████████████████| 1729/1729 [00:02<00:00, 832.73samples/s]\n"
     ]
    },
    {
     "data": {
      "application/vnd.jupyter.widget-view+json": {
       "model_id": "155d2e5e85814c54a30e489d7b8b06e2",
       "version_major": 2,
       "version_minor": 0
      },
      "text/plain": [
       "Training at epoch #1:   0%|          | 0/253 [00:00<?, ?batches/s]"
      ]
     },
     "metadata": {},
     "output_type": "display_data"
    },
    {
     "name": "stdout",
     "output_type": "stream",
     "text": [
      "{'macro_f1': 0.276186847740609, 'macro_auc': 0.7367037239717569, 'macro_P@5': 0.4181998512273742, 'macro_P@8': 0.3462682866352591, 'macro_P@15': 0.25340937267542774, 'micro_f1': 0.41081025217031825, 'micro_auc': 0.8048651725200502, 'loss': 0.4398227349335968}\n"
     ]
    },
    {
     "data": {
      "application/vnd.jupyter.widget-view+json": {
       "model_id": "26afffebb2f9499f9ad7b8a73720d67a",
       "version_major": 2,
       "version_minor": 0
      },
      "text/plain": [
       "Evaluating:   0%|          | 0/50 [00:00<?, ?batches/s]"
      ]
     },
     "metadata": {},
     "output_type": "display_data"
    },
    {
     "data": {
      "application/vnd.jupyter.widget-view+json": {
       "model_id": "cf7e2e824547417483cde0525a7d60eb",
       "version_major": 2,
       "version_minor": 0
      },
      "text/plain": [
       "Evaluating:   0%|          | 0/55 [00:00<?, ?batches/s]"
      ]
     },
     "metadata": {},
     "output_type": "display_data"
    },
    {
     "name": "stdout",
     "output_type": "stream",
     "text": [
      "{'macro_f1': 0.44662982800079415, 'macro_auc': 0.8387840937260165, 'macro_P@5': 0.5235396182764605, 'macro_P@8': 0.43182475419317523, 'macro_P@15': 0.30584152689415844, 'micro_f1': 0.5378517803967621, 'micro_auc': 0.8733333990729019, 'loss': 0.39105866226282987}\n",
      "\n",
      "\n",
      "\n"
     ]
    },
    {
     "data": {
      "application/vnd.jupyter.widget-view+json": {
       "model_id": "9460073c9d694f44a0f5380131e676ab",
       "version_major": 2,
       "version_minor": 0
      },
      "text/plain": [
       "Training at epoch #2:   0%|          | 0/253 [00:00<?, ?batches/s]"
      ]
     },
     "metadata": {},
     "output_type": "display_data"
    },
    {
     "name": "stdout",
     "output_type": "stream",
     "text": [
      "{'macro_f1': 0.5305907010691941, 'macro_auc': 0.8760972623382043, 'macro_P@5': 0.5776345152491942, 'macro_P@8': 0.4684478056037689, 'macro_P@15': 0.3182577072485329, 'micro_f1': 0.6134015524983806, 'micro_auc': 0.9154132506336802, 'loss': 0.31375188848717883}\n"
     ]
    },
    {
     "data": {
      "application/vnd.jupyter.widget-view+json": {
       "model_id": "35a5dff51a2146b9bd2fe11fe6a901a6",
       "version_major": 2,
       "version_minor": 0
      },
      "text/plain": [
       "Evaluating:   0%|          | 0/50 [00:00<?, ?batches/s]"
      ]
     },
     "metadata": {},
     "output_type": "display_data"
    },
    {
     "data": {
      "application/vnd.jupyter.widget-view+json": {
       "model_id": "74fc887b15e540738df0f89ea7b1e866",
       "version_major": 2,
       "version_minor": 0
      },
      "text/plain": [
       "Evaluating:   0%|          | 0/55 [00:00<?, ?batches/s]"
      ]
     },
     "metadata": {},
     "output_type": "display_data"
    },
    {
     "name": "stdout",
     "output_type": "stream",
     "text": [
      "{'macro_f1': 0.6280196014347867, 'macro_auc': 0.906605932833607, 'macro_P@5': 0.6325043377674956, 'macro_P@8': 0.518796992481203, 'macro_P@15': 0.34825525351841147, 'micro_f1': 0.6750685950797563, 'micro_auc': 0.9307743145478127, 'loss': 0.2949457348747687}\n",
      "\n",
      "\n",
      "\n"
     ]
    },
    {
     "data": {
      "application/vnd.jupyter.widget-view+json": {
       "model_id": "96ce9c2ffc8c42ee9911893198ff5289",
       "version_major": 2,
       "version_minor": 0
      },
      "text/plain": [
       "Training at epoch #3:   0%|          | 0/253 [00:00<?, ?batches/s]"
      ]
     },
     "metadata": {},
     "output_type": "display_data"
    },
    {
     "name": "stdout",
     "output_type": "stream",
     "text": [
      "{'macro_f1': 0.6094514697212022, 'macro_auc': 0.9107462295466564, 'macro_P@5': 0.6255888916439375, 'macro_P@8': 0.5061058765187205, 'macro_P@15': 0.33612695264071407, 'micro_f1': 0.6761005631031379, 'micro_auc': 0.9396778564036427, 'loss': 0.2700288074289857}\n"
     ]
    },
    {
     "data": {
      "application/vnd.jupyter.widget-view+json": {
       "model_id": "461ae5cef1d149aba38428fa5294a786",
       "version_major": 2,
       "version_minor": 0
      },
      "text/plain": [
       "Evaluating:   0%|          | 0/50 [00:00<?, ?batches/s]"
      ]
     },
     "metadata": {},
     "output_type": "display_data"
    },
    {
     "data": {
      "application/vnd.jupyter.widget-view+json": {
       "model_id": "bc6a79859c2b40ff86292b15a7e14a61",
       "version_major": 2,
       "version_minor": 0
      },
      "text/plain": [
       "Evaluating:   0%|          | 0/55 [00:00<?, ?batches/s]"
      ]
     },
     "metadata": {},
     "output_type": "display_data"
    },
    {
     "name": "stdout",
     "output_type": "stream",
     "text": [
      "{'macro_f1': 0.6540789214591296, 'macro_auc': 0.9145368752314761, 'macro_P@5': 0.6417582417582417, 'macro_P@8': 0.5242192018507807, 'macro_P@15': 0.35295932138037406, 'micro_f1': 0.677049251843127, 'micro_auc': 0.9349067857872341, 'loss': 0.2872159632769498}\n",
      "\n",
      "\n",
      "\n"
     ]
    },
    {
     "data": {
      "application/vnd.jupyter.widget-view+json": {
       "model_id": "c6bce24a640742b086585de7f29cc914",
       "version_major": 2,
       "version_minor": 0
      },
      "text/plain": [
       "Training at epoch #4:   0%|          | 0/253 [00:00<?, ?batches/s]"
      ]
     },
     "metadata": {},
     "output_type": "display_data"
    },
    {
     "name": "stdout",
     "output_type": "stream",
     "text": [
      "{'macro_f1': 0.631572166850804, 'macro_auc': 0.9194878665143551, 'macro_P@5': 0.6380362013389536, 'macro_P@8': 0.5163030002479544, 'macro_P@15': 0.3395900487643607, 'micro_f1': 0.6913315497444332, 'micro_auc': 0.945426989901614, 'loss': 0.25718245343139523}\n"
     ]
    },
    {
     "data": {
      "application/vnd.jupyter.widget-view+json": {
       "model_id": "b51a5bc503b64a659e46db4f0dbd430c",
       "version_major": 2,
       "version_minor": 0
      },
      "text/plain": [
       "Evaluating:   0%|          | 0/50 [00:00<?, ?batches/s]"
      ]
     },
     "metadata": {},
     "output_type": "display_data"
    },
    {
     "data": {
      "application/vnd.jupyter.widget-view+json": {
       "model_id": "0db5c1733d484680b3e858af7637540b",
       "version_major": 2,
       "version_minor": 0
      },
      "text/plain": [
       "Evaluating:   0%|          | 0/55 [00:00<?, ?batches/s]"
      ]
     },
     "metadata": {},
     "output_type": "display_data"
    },
    {
     "name": "stdout",
     "output_type": "stream",
     "text": [
      "{'macro_f1': 0.6683580333796326, 'macro_auc': 0.919235143293848, 'macro_P@5': 0.6621168305378832, 'macro_P@8': 0.5381000578369, 'macro_P@15': 0.35723925197609413, 'micro_f1': 0.7061939870204406, 'micro_auc': 0.9430760147540951, 'loss': 0.2709197385744615}\n",
      "\n",
      "\n",
      "\n"
     ]
    },
    {
     "data": {
      "application/vnd.jupyter.widget-view+json": {
       "model_id": "117574f201b14bb984f61c4119bc0425",
       "version_major": 2,
       "version_minor": 0
      },
      "text/plain": [
       "Training at epoch #5:   0%|          | 0/253 [00:00<?, ?batches/s]"
      ]
     },
     "metadata": {},
     "output_type": "display_data"
    },
    {
     "name": "stdout",
     "output_type": "stream",
     "text": [
      "{'macro_f1': 0.6487284104632803, 'macro_auc': 0.9267433140901652, 'macro_P@5': 0.6476072402677908, 'macro_P@8': 0.5232767170840565, 'macro_P@15': 0.34322671295148366, 'micro_f1': 0.7037248569559393, 'micro_auc': 0.9501790402157142, 'loss': 0.246773397586798}\n"
     ]
    },
    {
     "data": {
      "application/vnd.jupyter.widget-view+json": {
       "model_id": "ae9139d9537a415aa2fcf73955b138ee",
       "version_major": 2,
       "version_minor": 0
      },
      "text/plain": [
       "Evaluating:   0%|          | 0/50 [00:00<?, ?batches/s]"
      ]
     },
     "metadata": {},
     "output_type": "display_data"
    },
    {
     "data": {
      "application/vnd.jupyter.widget-view+json": {
       "model_id": "c5e5bf39d0c94e2aa6810fb21278f0e9",
       "version_major": 2,
       "version_minor": 0
      },
      "text/plain": [
       "Evaluating:   0%|          | 0/55 [00:00<?, ?batches/s]"
      ]
     },
     "metadata": {},
     "output_type": "display_data"
    },
    {
     "name": "stdout",
     "output_type": "stream",
     "text": [
      "{'macro_f1': 0.6620902242369788, 'macro_auc': 0.919862358024201, 'macro_P@5': 0.659919028340081, 'macro_P@8': 0.535641989589358, 'macro_P@15': 0.354848660111818, 'micro_f1': 0.6983443854024857, 'micro_auc': 0.9416743517114403, 'loss': 0.2739636778831482}\n",
      "\n",
      "\n",
      "\n"
     ]
    },
    {
     "data": {
      "application/vnd.jupyter.widget-view+json": {
       "model_id": "20135fc643c04e119965a574696390b7",
       "version_major": 2,
       "version_minor": 0
      },
      "text/plain": [
       "Training at epoch #6:   0%|          | 0/253 [00:00<?, ?batches/s]"
      ]
     },
     "metadata": {},
     "output_type": "display_data"
    },
    {
     "name": "stdout",
     "output_type": "stream",
     "text": [
      "{'macro_f1': 0.6600358514123835, 'macro_auc': 0.9310798463656375, 'macro_P@5': 0.6533845772377883, 'macro_P@8': 0.5285457475824449, 'macro_P@15': 0.3447061740639723, 'micro_f1': 0.7119164746663345, 'micro_auc': 0.9529784272702642, 'loss': 0.240254471895723}\n"
     ]
    },
    {
     "data": {
      "application/vnd.jupyter.widget-view+json": {
       "model_id": "067a2044ca9f4936af8391ce80e76454",
       "version_major": 2,
       "version_minor": 0
      },
      "text/plain": [
       "Evaluating:   0%|          | 0/50 [00:00<?, ?batches/s]"
      ]
     },
     "metadata": {},
     "output_type": "display_data"
    },
    {
     "data": {
      "application/vnd.jupyter.widget-view+json": {
       "model_id": "71b49300808e4e5ca3ba221fb38a4111",
       "version_major": 2,
       "version_minor": 0
      },
      "text/plain": [
       "Evaluating:   0%|          | 0/55 [00:00<?, ?batches/s]"
      ]
     },
     "metadata": {},
     "output_type": "display_data"
    },
    {
     "name": "stdout",
     "output_type": "stream",
     "text": [
      "{'macro_f1': 0.6695752113678988, 'macro_auc': 0.9226650765915846, 'macro_P@5': 0.6654713707345286, 'macro_P@8': 0.5404135338345865, 'macro_P@15': 0.35847310584152686, 'micro_f1': 0.7084439246029961, 'micro_auc': 0.9439364501427687, 'loss': 0.27063423733819614}\n",
      "\n",
      "\n",
      "\n"
     ]
    },
    {
     "data": {
      "application/vnd.jupyter.widget-view+json": {
       "model_id": "c5b34ba4b3ef41768090712ddbe02397",
       "version_major": 2,
       "version_minor": 0
      },
      "text/plain": [
       "Training at epoch #7:   0%|          | 0/253 [00:00<?, ?batches/s]"
      ]
     },
     "metadata": {},
     "output_type": "display_data"
    },
    {
     "name": "stdout",
     "output_type": "stream",
     "text": [
      "{'macro_f1': 0.6685521967818095, 'macro_auc': 0.9348683710640975, 'macro_P@5': 0.659583436647657, 'macro_P@8': 0.533442846516241, 'macro_P@15': 0.34694602859740475, 'micro_f1': 0.7185638667039581, 'micro_auc': 0.9557480334422727, 'loss': 0.2341302498998378}\n"
     ]
    },
    {
     "data": {
      "application/vnd.jupyter.widget-view+json": {
       "model_id": "611ad0487cd74abfb9accc816fa77cd3",
       "version_major": 2,
       "version_minor": 0
      },
      "text/plain": [
       "Evaluating:   0%|          | 0/50 [00:00<?, ?batches/s]"
      ]
     },
     "metadata": {},
     "output_type": "display_data"
    },
    {
     "data": {
      "application/vnd.jupyter.widget-view+json": {
       "model_id": "9c1c53bca4394f3fb8d967f64b457bfb",
       "version_major": 2,
       "version_minor": 0
      },
      "text/plain": [
       "Evaluating:   0%|          | 0/55 [00:00<?, ?batches/s]"
      ]
     },
     "metadata": {},
     "output_type": "display_data"
    },
    {
     "name": "stdout",
     "output_type": "stream",
     "text": [
      "{'macro_f1': 0.6680168494047211, 'macro_auc': 0.9223605522340002, 'macro_P@5': 0.6657027183342973, 'macro_P@8': 0.5407027183342973, 'macro_P@15': 0.356737998843262, 'micro_f1': 0.7075992169425164, 'micro_auc': 0.942970046447317, 'loss': 0.27347437048500234}\n",
      "\n",
      "\n",
      "\n"
     ]
    },
    {
     "data": {
      "application/vnd.jupyter.widget-view+json": {
       "model_id": "952f7117a6d846adb7534af896a7c1a0",
       "version_major": 2,
       "version_minor": 0
      },
      "text/plain": [
       "Training at epoch #8:   0%|          | 0/253 [00:00<?, ?batches/s]"
      ]
     },
     "metadata": {},
     "output_type": "display_data"
    },
    {
     "name": "stdout",
     "output_type": "stream",
     "text": [
      "{'macro_f1': 0.6780479203222384, 'macro_auc': 0.938333761520624, 'macro_P@5': 0.6665757500619887, 'macro_P@8': 0.537921522439871, 'macro_P@15': 0.3488552772956443, 'micro_f1': 0.7273875851784346, 'micro_auc': 0.9584266774015329, 'loss': 0.2278807908296585}\n"
     ]
    },
    {
     "data": {
      "application/vnd.jupyter.widget-view+json": {
       "model_id": "0f6bf2cc809442818b07f4b8e7c1c07a",
       "version_major": 2,
       "version_minor": 0
      },
      "text/plain": [
       "Evaluating:   0%|          | 0/50 [00:00<?, ?batches/s]"
      ]
     },
     "metadata": {},
     "output_type": "display_data"
    },
    {
     "data": {
      "application/vnd.jupyter.widget-view+json": {
       "model_id": "ee89cac0717c43c69549a3ccb7d601d5",
       "version_major": 2,
       "version_minor": 0
      },
      "text/plain": [
       "Evaluating:   0%|          | 0/55 [00:00<?, ?batches/s]"
      ]
     },
     "metadata": {},
     "output_type": "display_data"
    },
    {
     "name": "stdout",
     "output_type": "stream",
     "text": [
      "{'macro_f1': 0.6799868600950014, 'macro_auc': 0.9219904246305088, 'macro_P@5': 0.6657027183342973, 'macro_P@8': 0.5412087912087912, 'macro_P@15': 0.3574705995758627, 'micro_f1': 0.7031806783687475, 'micro_auc': 0.9427873703909677, 'loss': 0.2747103185816245}\n",
      "\n",
      "\n",
      "\n"
     ]
    },
    {
     "data": {
      "application/vnd.jupyter.widget-view+json": {
       "model_id": "eb69154c9e8540adaefda37e57902b02",
       "version_major": 2,
       "version_minor": 0
      },
      "text/plain": [
       "Training at epoch #9:   0%|          | 0/253 [00:00<?, ?batches/s]"
      ]
     },
     "metadata": {},
     "output_type": "display_data"
    },
    {
     "name": "stdout",
     "output_type": "stream",
     "text": [
      "{'macro_f1': 0.6916018299429013, 'macro_auc': 0.9414084615634676, 'macro_P@5': 0.6717579965286387, 'macro_P@8': 0.5416253409372676, 'macro_P@15': 0.35031820811637326, 'micro_f1': 0.7334327369118622, 'micro_auc': 0.960406853189659, 'loss': 0.2223185408610129}\n"
     ]
    },
    {
     "data": {
      "application/vnd.jupyter.widget-view+json": {
       "model_id": "b2cba532b38b4f4c99f460558d00017d",
       "version_major": 2,
       "version_minor": 0
      },
      "text/plain": [
       "Evaluating:   0%|          | 0/50 [00:00<?, ?batches/s]"
      ]
     },
     "metadata": {},
     "output_type": "display_data"
    },
    {
     "data": {
      "application/vnd.jupyter.widget-view+json": {
       "model_id": "d3eed75485e74e24b54cedd62dab5070",
       "version_major": 2,
       "version_minor": 0
      },
      "text/plain": [
       "Evaluating:   0%|          | 0/55 [00:00<?, ?batches/s]"
      ]
     },
     "metadata": {},
     "output_type": "display_data"
    },
    {
     "name": "stdout",
     "output_type": "stream",
     "text": [
      "{'macro_f1': 0.6710068533575247, 'macro_auc': 0.9219811225842, 'macro_P@5': 0.6665124349334877, 'macro_P@8': 0.540268941584731, 'macro_P@15': 0.35727780990938884, 'micro_f1': 0.7049303559584348, 'micro_auc': 0.9428397587297861, 'loss': 0.2753746352412484}\n",
      "\n",
      "\n",
      "\n"
     ]
    },
    {
     "data": {
      "application/vnd.jupyter.widget-view+json": {
       "model_id": "8f8162660cf94cf98ec539623b31e658",
       "version_major": 2,
       "version_minor": 0
      },
      "text/plain": [
       "Training at epoch #10:   0%|          | 0/253 [00:00<?, ?batches/s]"
      ]
     },
     "metadata": {},
     "output_type": "display_data"
    },
    {
     "name": "stdout",
     "output_type": "stream",
     "text": [
      "{'macro_f1': 0.6952575680251931, 'macro_auc': 0.9438581668562204, 'macro_P@5': 0.6755516984874783, 'macro_P@8': 0.5438104388792462, 'macro_P@15': 0.3513265559137119, 'micro_f1': 0.7380597940702146, 'micro_auc': 0.9621478076982696, 'loss': 0.21715685404218704}\n"
     ]
    },
    {
     "data": {
      "application/vnd.jupyter.widget-view+json": {
       "model_id": "350abc04db0a41f2b22fb4f140ea4ae2",
       "version_major": 2,
       "version_minor": 0
      },
      "text/plain": [
       "Evaluating:   0%|          | 0/50 [00:00<?, ?batches/s]"
      ]
     },
     "metadata": {},
     "output_type": "display_data"
    },
    {
     "data": {
      "application/vnd.jupyter.widget-view+json": {
       "model_id": "fc17ac6df6c7488f9691f2bf342eb075",
       "version_major": 2,
       "version_minor": 0
      },
      "text/plain": [
       "Evaluating:   0%|          | 0/55 [00:00<?, ?batches/s]"
      ]
     },
     "metadata": {},
     "output_type": "display_data"
    },
    {
     "name": "stdout",
     "output_type": "stream",
     "text": [
      "{'macro_f1': 0.6840810972937025, 'macro_auc': 0.9225664947101856, 'macro_P@5': 0.6682475419317525, 'macro_P@8': 0.54344997108155, 'macro_P@15': 0.3582417582417583, 'micro_f1': 0.7073039259725091, 'micro_auc': 0.9437395078294751, 'loss': 0.27369112087921665}\n",
      "\n",
      "\n",
      "\n"
     ]
    },
    {
     "data": {
      "application/vnd.jupyter.widget-view+json": {
       "model_id": "da7b7567a0e4491db39a4f83f0d31600",
       "version_major": 2,
       "version_minor": 0
      },
      "text/plain": [
       "Training at epoch #11:   0%|          | 0/253 [00:00<?, ?batches/s]"
      ]
     },
     "metadata": {},
     "output_type": "display_data"
    },
    {
     "name": "stdout",
     "output_type": "stream",
     "text": [
      "{'macro_f1': 0.7032147534619289, 'macro_auc': 0.9472013021466229, 'macro_P@5': 0.6811554673939996, 'macro_P@8': 0.5485680634763204, 'macro_P@15': 0.35334325150838913, 'micro_f1': 0.7441445922978072, 'micro_auc': 0.9643054567890017, 'loss': 0.21166808184663297}\n"
     ]
    },
    {
     "data": {
      "application/vnd.jupyter.widget-view+json": {
       "model_id": "e02d7d9f684a434cb401a13065240c4e",
       "version_major": 2,
       "version_minor": 0
      },
      "text/plain": [
       "Evaluating:   0%|          | 0/50 [00:00<?, ?batches/s]"
      ]
     },
     "metadata": {},
     "output_type": "display_data"
    },
    {
     "data": {
      "application/vnd.jupyter.widget-view+json": {
       "model_id": "7fa3dccebb824710b1cfc59958b600dd",
       "version_major": 2,
       "version_minor": 0
      },
      "text/plain": [
       "Evaluating:   0%|          | 0/55 [00:00<?, ?batches/s]"
      ]
     },
     "metadata": {},
     "output_type": "display_data"
    },
    {
     "name": "stdout",
     "output_type": "stream",
     "text": [
      "{'macro_f1': 0.6748725402920983, 'macro_auc': 0.9247623358282057, 'macro_P@5': 0.6669751301330248, 'macro_P@8': 0.5412810873337189, 'macro_P@15': 0.3580104106419896, 'micro_f1': 0.7106084596245192, 'micro_auc': 0.9434890760039925, 'loss': 0.2775029410015453}\n",
      "\n",
      "\n",
      "\n"
     ]
    },
    {
     "data": {
      "application/vnd.jupyter.widget-view+json": {
       "model_id": "6ab496177d3243e49967efe8f4e17313",
       "version_major": 2,
       "version_minor": 0
      },
      "text/plain": [
       "Training at epoch #12:   0%|          | 0/253 [00:00<?, ?batches/s]"
      ]
     },
     "metadata": {},
     "output_type": "display_data"
    },
    {
     "name": "stdout",
     "output_type": "stream",
     "text": [
      "{'macro_f1': 0.710248978857423, 'macro_auc': 0.9498877200575895, 'macro_P@5': 0.6842796925365733, 'macro_P@8': 0.5512180758740391, 'macro_P@15': 0.35450863707744434, 'micro_f1': 0.7493114088678113, 'micro_auc': 0.9661030212166616, 'loss': 0.20692509294969763}\n"
     ]
    },
    {
     "data": {
      "application/vnd.jupyter.widget-view+json": {
       "model_id": "cbab31530e9242398294734e86c44386",
       "version_major": 2,
       "version_minor": 0
      },
      "text/plain": [
       "Evaluating:   0%|          | 0/50 [00:00<?, ?batches/s]"
      ]
     },
     "metadata": {},
     "output_type": "display_data"
    },
    {
     "data": {
      "application/vnd.jupyter.widget-view+json": {
       "model_id": "ccd710b157a94354b3b85d0459895b07",
       "version_major": 2,
       "version_minor": 0
      },
      "text/plain": [
       "Evaluating:   0%|          | 0/55 [00:00<?, ?batches/s]"
      ]
     },
     "metadata": {},
     "output_type": "display_data"
    },
    {
     "name": "stdout",
     "output_type": "stream",
     "text": [
      "{'macro_f1': 0.6796053814993386, 'macro_auc': 0.9246825240494323, 'macro_P@5': 0.6654713707345286, 'macro_P@8': 0.5425101214574899, 'macro_P@15': 0.35735492577597844, 'micro_f1': 0.7067819754210287, 'micro_auc': 0.9437115984553376, 'loss': 0.2783570662140846}\n",
      "\n",
      "\n",
      "\n"
     ]
    },
    {
     "data": {
      "application/vnd.jupyter.widget-view+json": {
       "model_id": "5b1ad98d6a5c479b8687c7a9b79efa52",
       "version_major": 2,
       "version_minor": 0
      },
      "text/plain": [
       "Training at epoch #13:   0%|          | 0/253 [00:00<?, ?batches/s]"
      ]
     },
     "metadata": {},
     "output_type": "display_data"
    },
    {
     "name": "stdout",
     "output_type": "stream",
     "text": [
      "{'macro_f1': 0.7171399619240422, 'macro_auc': 0.9523118361166376, 'macro_P@5': 0.6896107116290602, 'macro_P@8': 0.5560996776593107, 'macro_P@15': 0.35568228779237954, 'micro_f1': 0.7550733331954242, 'micro_auc': 0.9677261169281222, 'loss': 0.20205096994699698}\n"
     ]
    },
    {
     "data": {
      "application/vnd.jupyter.widget-view+json": {
       "model_id": "9646e2107ba7489eb717a72b22817521",
       "version_major": 2,
       "version_minor": 0
      },
      "text/plain": [
       "Evaluating:   0%|          | 0/50 [00:00<?, ?batches/s]"
      ]
     },
     "metadata": {},
     "output_type": "display_data"
    },
    {
     "data": {
      "application/vnd.jupyter.widget-view+json": {
       "model_id": "41991df7978346ad87f386b2f4b15886",
       "version_major": 2,
       "version_minor": 0
      },
      "text/plain": [
       "Evaluating:   0%|          | 0/55 [00:00<?, ?batches/s]"
      ]
     },
     "metadata": {},
     "output_type": "display_data"
    },
    {
     "name": "stdout",
     "output_type": "stream",
     "text": [
      "{'macro_f1': 0.6742829242349048, 'macro_auc': 0.9235219021633827, 'macro_P@5': 0.6660497397339502, 'macro_P@8': 0.5426547137073453, 'macro_P@15': 0.3578176209755158, 'micro_f1': 0.7029809327723571, 'micro_auc': 0.9432561781501572, 'loss': 0.2815958402373574}\n",
      "\n",
      "\n",
      "\n"
     ]
    },
    {
     "data": {
      "application/vnd.jupyter.widget-view+json": {
       "model_id": "b51bafb99bd44b368b3ab9196157ba2d",
       "version_major": 2,
       "version_minor": 0
      },
      "text/plain": [
       "Training at epoch #14:   0%|          | 0/253 [00:00<?, ?batches/s]"
      ]
     },
     "metadata": {},
     "output_type": "display_data"
    },
    {
     "name": "stdout",
     "output_type": "stream",
     "text": [
      "{'macro_f1': 0.7215632776619683, 'macro_auc': 0.953668931789469, 'macro_P@5': 0.6924621869575998, 'macro_P@8': 0.556797049342921, 'macro_P@15': 0.35622778742044797, 'micro_f1': 0.7587987103863658, 'micro_auc': 0.968773148321804, 'loss': 0.20005488342682834}\n"
     ]
    },
    {
     "data": {
      "application/vnd.jupyter.widget-view+json": {
       "model_id": "29f294ce4c4d4486b9fd8e89c29545f1",
       "version_major": 2,
       "version_minor": 0
      },
      "text/plain": [
       "Evaluating:   0%|          | 0/50 [00:00<?, ?batches/s]"
      ]
     },
     "metadata": {},
     "output_type": "display_data"
    },
    {
     "data": {
      "application/vnd.jupyter.widget-view+json": {
       "model_id": "969df168ea6141ff9c1d1cd0dca185e4",
       "version_major": 2,
       "version_minor": 0
      },
      "text/plain": [
       "Evaluating:   0%|          | 0/55 [00:00<?, ?batches/s]"
      ]
     },
     "metadata": {},
     "output_type": "display_data"
    },
    {
     "name": "stdout",
     "output_type": "stream",
     "text": [
      "{'macro_f1': 0.6702085368090456, 'macro_auc': 0.9230011861353533, 'macro_P@5': 0.6616541353383458, 'macro_P@8': 0.5391844997108155, 'macro_P@15': 0.35847310584152686, 'micro_f1': 0.7009020273287488, 'micro_auc': 0.9419683185172204, 'loss': 0.28502135561271147}\n",
      "\n",
      "\n",
      "\n"
     ]
    },
    {
     "data": {
      "application/vnd.jupyter.widget-view+json": {
       "model_id": "24cd2fa00e8d4a208d164caeb833ac8a",
       "version_major": 2,
       "version_minor": 0
      },
      "text/plain": [
       "Training at epoch #15:   0%|          | 0/253 [00:00<?, ?batches/s]"
      ]
     },
     "metadata": {},
     "output_type": "display_data"
    },
    {
     "name": "stdout",
     "output_type": "stream",
     "text": [
      "{'macro_f1': 0.7250770720017266, 'macro_auc': 0.9554077337478994, 'macro_P@5': 0.6967270022315895, 'macro_P@8': 0.5588891643937516, 'macro_P@15': 0.3577651045540954, 'micro_f1': 0.761103348341355, 'micro_auc': 0.970080131739349, 'loss': 0.19487881312963992}\n"
     ]
    },
    {
     "data": {
      "application/vnd.jupyter.widget-view+json": {
       "model_id": "66e2f83eb2ea4f4db3c2098d11924bbd",
       "version_major": 2,
       "version_minor": 0
      },
      "text/plain": [
       "Evaluating:   0%|          | 0/50 [00:00<?, ?batches/s]"
      ]
     },
     "metadata": {},
     "output_type": "display_data"
    },
    {
     "data": {
      "application/vnd.jupyter.widget-view+json": {
       "model_id": "8a7cdfebb57e44ab994b509d770639df",
       "version_major": 2,
       "version_minor": 0
      },
      "text/plain": [
       "Evaluating:   0%|          | 0/55 [00:00<?, ?batches/s]"
      ]
     },
     "metadata": {},
     "output_type": "display_data"
    },
    {
     "name": "stdout",
     "output_type": "stream",
     "text": [
      "{'macro_f1': 0.6690135691654066, 'macro_auc': 0.9229577692234666, 'macro_P@5': 0.6648930017351071, 'macro_P@8': 0.5399797570850202, 'macro_P@15': 0.35604395604395606, 'micro_f1': 0.7036450079239303, 'micro_auc': 0.9411618889924247, 'loss': 0.29115303348411214}\n",
      "\n",
      "\n",
      "\n"
     ]
    },
    {
     "data": {
      "application/vnd.jupyter.widget-view+json": {
       "model_id": "d87c1e2e4144441e94261ac889dffeaa",
       "version_major": 2,
       "version_minor": 0
      },
      "text/plain": [
       "Training at epoch #16:   0%|          | 0/253 [00:00<?, ?batches/s]"
      ]
     },
     "metadata": {},
     "output_type": "display_data"
    },
    {
     "name": "stdout",
     "output_type": "stream",
     "text": [
      "{'macro_f1': 0.7344363610702471, 'macro_auc': 0.9585906551550814, 'macro_P@5': 0.700049590875279, 'macro_P@8': 0.5630114059013142, 'macro_P@15': 0.35893049012315065, 'micro_f1': 0.7679879027664137, 'micro_auc': 0.9716671374364918, 'loss': 0.19056786579105695}\n"
     ]
    },
    {
     "data": {
      "application/vnd.jupyter.widget-view+json": {
       "model_id": "a9eaec4eb98d4e6c9a57d1e38dc335f5",
       "version_major": 2,
       "version_minor": 0
      },
      "text/plain": [
       "Evaluating:   0%|          | 0/50 [00:00<?, ?batches/s]"
      ]
     },
     "metadata": {},
     "output_type": "display_data"
    },
    {
     "data": {
      "application/vnd.jupyter.widget-view+json": {
       "model_id": "a60defc70f924924a1d0d2fac86ada83",
       "version_major": 2,
       "version_minor": 0
      },
      "text/plain": [
       "Evaluating:   0%|          | 0/55 [00:00<?, ?batches/s]"
      ]
     },
     "metadata": {},
     "output_type": "display_data"
    },
    {
     "name": "stdout",
     "output_type": "stream",
     "text": [
      "{'macro_f1': 0.6737323522460849, 'macro_auc': 0.9239586018610609, 'macro_P@5': 0.664545980335454, 'macro_P@8': 0.5407027183342973, 'macro_P@15': 0.35708502024291505, 'micro_f1': 0.707697828817513, 'micro_auc': 0.9427700669559014, 'loss': 0.28819935646924105}\n",
      "\n",
      "\n",
      "\n"
     ]
    },
    {
     "data": {
      "application/vnd.jupyter.widget-view+json": {
       "model_id": "e6bbf4a3fb3f423b984f192665fd3735",
       "version_major": 2,
       "version_minor": 0
      },
      "text/plain": [
       "Training at epoch #17:   0%|          | 0/253 [00:00<?, ?batches/s]"
      ]
     },
     "metadata": {},
     "output_type": "display_data"
    },
    {
     "name": "stdout",
     "output_type": "stream",
     "text": [
      "{'macro_f1': 0.7404708582449354, 'macro_auc': 0.9604375298693596, 'macro_P@5': 0.7054054054054053, 'macro_P@8': 0.5656769154475576, 'macro_P@15': 0.3593272171253823, 'micro_f1': 0.7731719929672148, 'micro_auc': 0.9728206766256451, 'loss': 0.18688989245137677}\n"
     ]
    },
    {
     "data": {
      "application/vnd.jupyter.widget-view+json": {
       "model_id": "f2d9d47c94f24e0a822df7bbd877e385",
       "version_major": 2,
       "version_minor": 0
      },
      "text/plain": [
       "Evaluating:   0%|          | 0/50 [00:00<?, ?batches/s]"
      ]
     },
     "metadata": {},
     "output_type": "display_data"
    },
    {
     "data": {
      "application/vnd.jupyter.widget-view+json": {
       "model_id": "403517ffd64b48dc885093d068a24d19",
       "version_major": 2,
       "version_minor": 0
      },
      "text/plain": [
       "Evaluating:   0%|          | 0/55 [00:00<?, ?batches/s]"
      ]
     },
     "metadata": {},
     "output_type": "display_data"
    },
    {
     "name": "stdout",
     "output_type": "stream",
     "text": [
      "{'macro_f1': 0.6726394393846734, 'macro_auc': 0.923196980203721, 'macro_P@5': 0.6588779641411221, 'macro_P@8': 0.5373048004626952, 'macro_P@15': 0.35754771544245223, 'micro_f1': 0.6991584852734922, 'micro_auc': 0.9414998311222176, 'loss': 0.29189928444949065}\n",
      "\n",
      "\n",
      "\n"
     ]
    },
    {
     "data": {
      "application/vnd.jupyter.widget-view+json": {
       "model_id": "6dae828aa21f4d3e8a6a6191590c7290",
       "version_major": 2,
       "version_minor": 0
      },
      "text/plain": [
       "Training at epoch #18:   0%|          | 0/253 [00:00<?, ?batches/s]"
      ]
     },
     "metadata": {},
     "output_type": "display_data"
    },
    {
     "name": "stdout",
     "output_type": "stream",
     "text": [
      "{'macro_f1': 0.7427320152794251, 'macro_auc': 0.9618638444109966, 'macro_P@5': 0.7066699727250186, 'macro_P@8': 0.5671026531118274, 'macro_P@15': 0.3606083147367551, 'micro_f1': 0.7752970199940131, 'micro_auc': 0.9738915389896124, 'loss': 0.1834166652482489}\n"
     ]
    },
    {
     "data": {
      "application/vnd.jupyter.widget-view+json": {
       "model_id": "417b31535ee64beeaa0d8043696d06cd",
       "version_major": 2,
       "version_minor": 0
      },
      "text/plain": [
       "Evaluating:   0%|          | 0/50 [00:00<?, ?batches/s]"
      ]
     },
     "metadata": {},
     "output_type": "display_data"
    },
    {
     "data": {
      "application/vnd.jupyter.widget-view+json": {
       "model_id": "08dbda9733f1477f85c6961f676b7dd9",
       "version_major": 2,
       "version_minor": 0
      },
      "text/plain": [
       "Evaluating:   0%|          | 0/55 [00:00<?, ?batches/s]"
      ]
     },
     "metadata": {},
     "output_type": "display_data"
    },
    {
     "ename": "KeyboardInterrupt",
     "evalue": "",
     "output_type": "error",
     "traceback": [
      "\u001b[0;31m---------------------------------------------------------------------------\u001b[0m",
      "\u001b[0;31mKeyboardInterrupt\u001b[0m                         Traceback (most recent call last)",
      "Cell \u001b[0;32mIn [14], line 1\u001b[0m\n\u001b[0;32m----> 1\u001b[0m \u001b[43mrun_with_validation\u001b[49m\u001b[43m(\u001b[49m\u001b[43mtraining_data\u001b[49m\u001b[43m,\u001b[49m\u001b[43m \u001b[49m\u001b[43mvalid_data\u001b[49m\u001b[43m,\u001b[49m\u001b[43m \u001b[49m\u001b[43mtest_data\u001b[49m\u001b[43m,\u001b[49m\u001b[43m \u001b[49m\u001b[43mlabel_desc\u001b[49m\u001b[43m,\u001b[49m\u001b[43m \u001b[49m\u001b[43mvocab\u001b[49m\u001b[43m,\u001b[49m\u001b[43m \u001b[49m\u001b[43msaved_data_file_path\u001b[49m\u001b[38;5;241;43m=\u001b[39;49m\u001b[38;5;124;43m\"\u001b[39;49m\u001b[38;5;132;43;01m{}\u001b[39;49;00m\u001b[38;5;124;43m.data.pkl\u001b[39;49m\u001b[38;5;124;43m\"\u001b[39;49m\u001b[38;5;241;43m.\u001b[39;49m\u001b[43mformat\u001b[49m\u001b[43m(\u001b[49m\u001b[43msaved_vocab_path\u001b[49m\u001b[38;5;241;43m.\u001b[39;49m\u001b[43msplit\u001b[49m\u001b[43m(\u001b[49m\u001b[38;5;124;43m\"\u001b[39;49m\u001b[38;5;124;43m.pkl\u001b[39;49m\u001b[38;5;124;43m\"\u001b[39;49m\u001b[43m)\u001b[49m\u001b[43m[\u001b[49m\u001b[38;5;241;43m0\u001b[39;49m\u001b[43m]\u001b[49m\u001b[43m)\u001b[49m\u001b[43m)\u001b[49m\n",
      "Cell \u001b[0;32mIn [13], line 2\u001b[0m, in \u001b[0;36mrun_with_validation\u001b[0;34m(training_data, valid_data, test_data, label_desc, vocab, saved_data_file_path)\u001b[0m\n\u001b[1;32m      1\u001b[0m \u001b[38;5;28;01mdef\u001b[39;00m \u001b[38;5;21mrun_with_validation\u001b[39m(training_data, valid_data, test_data, label_desc, vocab, saved_data_file_path):\n\u001b[0;32m----> 2\u001b[0m     best_model, scores \u001b[38;5;241m=\u001b[39m \u001b[43m_train_model\u001b[49m\u001b[43m(\u001b[49m\n\u001b[1;32m      3\u001b[0m \u001b[43m        \u001b[49m\u001b[43mtrain_data\u001b[49m\u001b[38;5;241;43m=\u001b[39;49m\u001b[43mtraining_data\u001b[49m\u001b[43m,\u001b[49m\u001b[43m \u001b[49m\u001b[43mvalid_data\u001b[49m\u001b[38;5;241;43m=\u001b[39;49m\u001b[43mvalid_data\u001b[49m\u001b[43m,\u001b[49m\u001b[43m \u001b[49m\u001b[43mtest_data\u001b[49m\u001b[38;5;241;43m=\u001b[39;49m\u001b[43mtest_data\u001b[49m\u001b[43m,\u001b[49m\u001b[43m \u001b[49m\u001b[43mlabel_desc\u001b[49m\u001b[38;5;241;43m=\u001b[39;49m\u001b[43mlabel_desc\u001b[49m\u001b[43m,\u001b[49m\n\u001b[1;32m      4\u001b[0m \u001b[43m        \u001b[49m\u001b[43mvocab\u001b[49m\u001b[38;5;241;43m=\u001b[39;49m\u001b[43mvocab\u001b[49m\u001b[43m,\u001b[49m\u001b[43m \u001b[49m\u001b[43msaved_data_file_path\u001b[49m\u001b[38;5;241;43m=\u001b[39;49m\u001b[43msaved_data_file_path\u001b[49m\u001b[43m,\u001b[49m\u001b[43m \u001b[49m\u001b[43mcheckpoint_path\u001b[49m\u001b[38;5;241;43m=\u001b[39;49m\u001b[38;5;124;43m\"\u001b[39;49m\u001b[38;5;124;43m../model/checkpoint.pkl\u001b[39;49m\u001b[38;5;124;43m\"\u001b[39;49m\u001b[43m)\u001b[49m\n\u001b[1;32m      6\u001b[0m     \u001b[38;5;28;01mreturn\u001b[39;00m best_model, scores\n",
      "Cell \u001b[0;32mIn [12], line 28\u001b[0m, in \u001b[0;36m_train_model\u001b[0;34m(train_data, valid_data, test_data, label_desc, vocab, saved_data_file_path, checkpoint_path)\u001b[0m\n\u001b[1;32m     18\u001b[0m criterions \u001b[38;5;241m=\u001b[39m nn\u001b[38;5;241m.\u001b[39mBCEWithLogitsLoss(pos_weight \u001b[38;5;241m=\u001b[39m torch\u001b[38;5;241m.\u001b[39mtensor(\u001b[38;5;241m2\u001b[39m))\n\u001b[1;32m     20\u001b[0m trainer \u001b[38;5;241m=\u001b[39m Trainer(model\u001b[38;5;241m=\u001b[39mmodel,\n\u001b[1;32m     21\u001b[0m                   train_dataloader\u001b[38;5;241m=\u001b[39mtrain_dataloader,\n\u001b[1;32m     22\u001b[0m                   valid_dataloader\u001b[38;5;241m=\u001b[39mvalid_dataloader,\n\u001b[0;32m   (...)\u001b[0m\n\u001b[1;32m     26\u001b[0m                   vocab\u001b[38;5;241m=\u001b[39mvocab,\n\u001b[1;32m     27\u001b[0m                   checkpoint_path\u001b[38;5;241m=\u001b[39mcheckpoint_path)\n\u001b[0;32m---> 28\u001b[0m best_model, scores \u001b[38;5;241m=\u001b[39m \u001b[43mtrainer\u001b[49m\u001b[38;5;241;43m.\u001b[39;49m\u001b[43mtrain\u001b[49m\u001b[43m(\u001b[49m\u001b[43mn_epoch\u001b[49m\u001b[38;5;241;43m=\u001b[39;49m\u001b[43mn_epoch\u001b[49m\u001b[43m,\u001b[49m\u001b[43m \u001b[49m\u001b[43mpatience\u001b[49m\u001b[38;5;241;43m=\u001b[39;49m\u001b[43mpatience\u001b[49m\u001b[43m)\u001b[49m\n\u001b[1;32m     30\u001b[0m evaluator \u001b[38;5;241m=\u001b[39m Evaluator(model\u001b[38;5;241m=\u001b[39mbest_model,vocab\u001b[38;5;241m=\u001b[39mvocab,criterions\u001b[38;5;241m=\u001b[39mcriterions,\n\u001b[1;32m     31\u001b[0m                       n_training_labels\u001b[38;5;241m=\u001b[39mn_labels,device \u001b[38;5;241m=\u001b[39m device)\n\u001b[1;32m     33\u001b[0m \u001b[38;5;28;01mdel\u001b[39;00m model, optimiser, evaluator, trainer, criterions\n",
      "Cell \u001b[0;32mIn [10], line 88\u001b[0m, in \u001b[0;36mTrainer.train\u001b[0;34m(self, n_epoch, patience)\u001b[0m\n\u001b[1;32m     86\u001b[0m epoch_loss \u001b[38;5;241m=\u001b[39m train_scores[\u001b[38;5;124m\"\u001b[39m\u001b[38;5;124maverage\u001b[39m\u001b[38;5;124m\"\u001b[39m]\n\u001b[1;32m     87\u001b[0m valid_scores \u001b[38;5;241m=\u001b[39m evaluator\u001b[38;5;241m.\u001b[39mevaluate(\u001b[38;5;28mself\u001b[39m\u001b[38;5;241m.\u001b[39mvalid_dataloader)\n\u001b[0;32m---> 88\u001b[0m test_scores \u001b[38;5;241m=\u001b[39m \u001b[43mevaluator\u001b[49m\u001b[38;5;241;43m.\u001b[39;49m\u001b[43mevaluate\u001b[49m\u001b[43m(\u001b[49m\u001b[38;5;28;43mself\u001b[39;49m\u001b[38;5;241;43m.\u001b[39;49m\u001b[43mtest_dataloader\u001b[49m\u001b[43m)\u001b[49m\n\u001b[1;32m     89\u001b[0m keys \u001b[38;5;241m=\u001b[39m [\u001b[38;5;124m'\u001b[39m\u001b[38;5;124mmicro_auc\u001b[39m\u001b[38;5;124m'\u001b[39m, \u001b[38;5;124m'\u001b[39m\u001b[38;5;124mmacro_auc\u001b[39m\u001b[38;5;124m'\u001b[39m, \u001b[38;5;124m'\u001b[39m\u001b[38;5;124mmicro_f1\u001b[39m\u001b[38;5;124m'\u001b[39m, \u001b[38;5;124m'\u001b[39m\u001b[38;5;124mmacro_f1\u001b[39m\u001b[38;5;124m'\u001b[39m, \u001b[38;5;124m'\u001b[39m\u001b[38;5;124mmacro_P@5\u001b[39m\u001b[38;5;124m'\u001b[39m, \u001b[38;5;124m'\u001b[39m\u001b[38;5;124mmacro_P@8\u001b[39m\u001b[38;5;124m'\u001b[39m, \u001b[38;5;124m'\u001b[39m\u001b[38;5;124mmacro_P@15\u001b[39m\u001b[38;5;124m'\u001b[39m, \u001b[38;5;124m'\u001b[39m\u001b[38;5;124mloss\u001b[39m\u001b[38;5;124m'\u001b[39m]\n\u001b[1;32m     90\u001b[0m \u001b[38;5;28mprint\u001b[39m({k:v \u001b[38;5;28;01mfor\u001b[39;00m k,v \u001b[38;5;129;01min\u001b[39;00m test_scores\u001b[38;5;241m.\u001b[39mitems() \u001b[38;5;28;01mif\u001b[39;00m k \u001b[38;5;129;01min\u001b[39;00m keys})\n",
      "File \u001b[0;32m~/project/home/CDLAAT/main/evaluator.py:32\u001b[0m, in \u001b[0;36mEvaluator.evaluate\u001b[0;34m(self, dataloader)\u001b[0m\n\u001b[1;32m     30\u001b[0m ids\u001b[38;5;241m.\u001b[39mextend(id_batch)\n\u001b[1;32m     31\u001b[0m \u001b[38;5;28;01mwith\u001b[39;00m torch\u001b[38;5;241m.\u001b[39mno_grad():\n\u001b[0;32m---> 32\u001b[0m     output \u001b[38;5;241m=\u001b[39m \u001b[38;5;28;43mself\u001b[39;49m\u001b[38;5;241;43m.\u001b[39;49m\u001b[43mmodel\u001b[49m\u001b[43m(\u001b[49m\u001b[43mtext_batch\u001b[49m\u001b[43m,\u001b[49m\u001b[43m \u001b[49m\u001b[43mlength_batch\u001b[49m\u001b[43m,\u001b[49m\u001b[43mdesc_batch\u001b[49m\u001b[43m)\u001b[49m\n\u001b[1;32m     33\u001b[0m loss_list \u001b[38;5;241m=\u001b[39m \u001b[38;5;28mself\u001b[39m\u001b[38;5;241m.\u001b[39mcriterions(output, label_batch)\n\u001b[1;32m     34\u001b[0m all_loss_list\u001b[38;5;241m.\u001b[39mappend([loss_list\u001b[38;5;241m.\u001b[39mitem()])\n",
      "File \u001b[0;32m~/.local/lib/python3.8/site-packages/torch/nn/modules/module.py:727\u001b[0m, in \u001b[0;36mModule._call_impl\u001b[0;34m(self, *input, **kwargs)\u001b[0m\n\u001b[1;32m    725\u001b[0m     result \u001b[38;5;241m=\u001b[39m \u001b[38;5;28mself\u001b[39m\u001b[38;5;241m.\u001b[39m_slow_forward(\u001b[38;5;241m*\u001b[39m\u001b[38;5;28minput\u001b[39m, \u001b[38;5;241m*\u001b[39m\u001b[38;5;241m*\u001b[39mkwargs)\n\u001b[1;32m    726\u001b[0m \u001b[38;5;28;01melse\u001b[39;00m:\n\u001b[0;32m--> 727\u001b[0m     result \u001b[38;5;241m=\u001b[39m \u001b[38;5;28;43mself\u001b[39;49m\u001b[38;5;241;43m.\u001b[39;49m\u001b[43mforward\u001b[49m\u001b[43m(\u001b[49m\u001b[38;5;241;43m*\u001b[39;49m\u001b[38;5;28;43minput\u001b[39;49m\u001b[43m,\u001b[49m\u001b[43m \u001b[49m\u001b[38;5;241;43m*\u001b[39;49m\u001b[38;5;241;43m*\u001b[39;49m\u001b[43mkwargs\u001b[49m\u001b[43m)\u001b[49m\n\u001b[1;32m    728\u001b[0m \u001b[38;5;28;01mfor\u001b[39;00m hook \u001b[38;5;129;01min\u001b[39;00m itertools\u001b[38;5;241m.\u001b[39mchain(\n\u001b[1;32m    729\u001b[0m         _global_forward_hooks\u001b[38;5;241m.\u001b[39mvalues(),\n\u001b[1;32m    730\u001b[0m         \u001b[38;5;28mself\u001b[39m\u001b[38;5;241m.\u001b[39m_forward_hooks\u001b[38;5;241m.\u001b[39mvalues()):\n\u001b[1;32m    731\u001b[0m     hook_result \u001b[38;5;241m=\u001b[39m hook(\u001b[38;5;28mself\u001b[39m, \u001b[38;5;28minput\u001b[39m, result)\n",
      "File \u001b[0;32m~/project/home/CDLAAT/main/rnn.py:62\u001b[0m, in \u001b[0;36mRNN.forward\u001b[0;34m(self, batch_data, lengths, desc_data)\u001b[0m\n\u001b[1;32m     60\u001b[0m label_weights \u001b[38;5;241m=\u001b[39m [label_weights \u001b[38;5;28;01mfor\u001b[39;00m i \u001b[38;5;129;01min\u001b[39;00m \u001b[38;5;28mrange\u001b[39m(batch_size)]\n\u001b[1;32m     61\u001b[0m label_weights \u001b[38;5;241m=\u001b[39m torch\u001b[38;5;241m.\u001b[39mstack(label_weights)\n\u001b[0;32m---> 62\u001b[0m rnn_output, hidden \u001b[38;5;241m=\u001b[39m \u001b[38;5;28;43mself\u001b[39;49m\u001b[38;5;241;43m.\u001b[39;49m\u001b[43mrnn\u001b[49m\u001b[43m(\u001b[49m\u001b[43membeds\u001b[49m\u001b[43m,\u001b[49m\u001b[43m \u001b[49m\u001b[43mhidden\u001b[49m\u001b[43m)\u001b[49m\n\u001b[1;32m     63\u001b[0m \u001b[38;5;28;01mif\u001b[39;00m \u001b[38;5;28mself\u001b[39m\u001b[38;5;241m.\u001b[39mrnn_model\u001b[38;5;241m.\u001b[39mlower() \u001b[38;5;241m==\u001b[39m \u001b[38;5;124m\"\u001b[39m\u001b[38;5;124mlstm\u001b[39m\u001b[38;5;124m\"\u001b[39m:\n\u001b[1;32m     64\u001b[0m     hidden \u001b[38;5;241m=\u001b[39m hidden[\u001b[38;5;241m0\u001b[39m]\n",
      "File \u001b[0;32m~/.local/lib/python3.8/site-packages/torch/nn/modules/module.py:727\u001b[0m, in \u001b[0;36mModule._call_impl\u001b[0;34m(self, *input, **kwargs)\u001b[0m\n\u001b[1;32m    725\u001b[0m     result \u001b[38;5;241m=\u001b[39m \u001b[38;5;28mself\u001b[39m\u001b[38;5;241m.\u001b[39m_slow_forward(\u001b[38;5;241m*\u001b[39m\u001b[38;5;28minput\u001b[39m, \u001b[38;5;241m*\u001b[39m\u001b[38;5;241m*\u001b[39mkwargs)\n\u001b[1;32m    726\u001b[0m \u001b[38;5;28;01melse\u001b[39;00m:\n\u001b[0;32m--> 727\u001b[0m     result \u001b[38;5;241m=\u001b[39m \u001b[38;5;28;43mself\u001b[39;49m\u001b[38;5;241;43m.\u001b[39;49m\u001b[43mforward\u001b[49m\u001b[43m(\u001b[49m\u001b[38;5;241;43m*\u001b[39;49m\u001b[38;5;28;43minput\u001b[39;49m\u001b[43m,\u001b[49m\u001b[43m \u001b[49m\u001b[38;5;241;43m*\u001b[39;49m\u001b[38;5;241;43m*\u001b[39;49m\u001b[43mkwargs\u001b[49m\u001b[43m)\u001b[49m\n\u001b[1;32m    728\u001b[0m \u001b[38;5;28;01mfor\u001b[39;00m hook \u001b[38;5;129;01min\u001b[39;00m itertools\u001b[38;5;241m.\u001b[39mchain(\n\u001b[1;32m    729\u001b[0m         _global_forward_hooks\u001b[38;5;241m.\u001b[39mvalues(),\n\u001b[1;32m    730\u001b[0m         \u001b[38;5;28mself\u001b[39m\u001b[38;5;241m.\u001b[39m_forward_hooks\u001b[38;5;241m.\u001b[39mvalues()):\n\u001b[1;32m    731\u001b[0m     hook_result \u001b[38;5;241m=\u001b[39m hook(\u001b[38;5;28mself\u001b[39m, \u001b[38;5;28minput\u001b[39m, result)\n",
      "File \u001b[0;32m~/.local/lib/python3.8/site-packages/torch/nn/modules/rnn.py:584\u001b[0m, in \u001b[0;36mLSTM.forward\u001b[0;34m(self, input, hx)\u001b[0m\n\u001b[1;32m    581\u001b[0m     result \u001b[38;5;241m=\u001b[39m _VF\u001b[38;5;241m.\u001b[39mlstm(\u001b[38;5;28minput\u001b[39m, hx, \u001b[38;5;28mself\u001b[39m\u001b[38;5;241m.\u001b[39m_flat_weights, \u001b[38;5;28mself\u001b[39m\u001b[38;5;241m.\u001b[39mbias, \u001b[38;5;28mself\u001b[39m\u001b[38;5;241m.\u001b[39mnum_layers,\n\u001b[1;32m    582\u001b[0m                       \u001b[38;5;28mself\u001b[39m\u001b[38;5;241m.\u001b[39mdropout, \u001b[38;5;28mself\u001b[39m\u001b[38;5;241m.\u001b[39mtraining, \u001b[38;5;28mself\u001b[39m\u001b[38;5;241m.\u001b[39mbidirectional, \u001b[38;5;28mself\u001b[39m\u001b[38;5;241m.\u001b[39mbatch_first)\n\u001b[1;32m    583\u001b[0m \u001b[38;5;28;01melse\u001b[39;00m:\n\u001b[0;32m--> 584\u001b[0m     result \u001b[38;5;241m=\u001b[39m \u001b[43m_VF\u001b[49m\u001b[38;5;241;43m.\u001b[39;49m\u001b[43mlstm\u001b[49m\u001b[43m(\u001b[49m\u001b[38;5;28;43minput\u001b[39;49m\u001b[43m,\u001b[49m\u001b[43m \u001b[49m\u001b[43mbatch_sizes\u001b[49m\u001b[43m,\u001b[49m\u001b[43m \u001b[49m\u001b[43mhx\u001b[49m\u001b[43m,\u001b[49m\u001b[43m \u001b[49m\u001b[38;5;28;43mself\u001b[39;49m\u001b[38;5;241;43m.\u001b[39;49m\u001b[43m_flat_weights\u001b[49m\u001b[43m,\u001b[49m\u001b[43m \u001b[49m\u001b[38;5;28;43mself\u001b[39;49m\u001b[38;5;241;43m.\u001b[39;49m\u001b[43mbias\u001b[49m\u001b[43m,\u001b[49m\n\u001b[1;32m    585\u001b[0m \u001b[43m                      \u001b[49m\u001b[38;5;28;43mself\u001b[39;49m\u001b[38;5;241;43m.\u001b[39;49m\u001b[43mnum_layers\u001b[49m\u001b[43m,\u001b[49m\u001b[43m \u001b[49m\u001b[38;5;28;43mself\u001b[39;49m\u001b[38;5;241;43m.\u001b[39;49m\u001b[43mdropout\u001b[49m\u001b[43m,\u001b[49m\u001b[43m \u001b[49m\u001b[38;5;28;43mself\u001b[39;49m\u001b[38;5;241;43m.\u001b[39;49m\u001b[43mtraining\u001b[49m\u001b[43m,\u001b[49m\u001b[43m \u001b[49m\u001b[38;5;28;43mself\u001b[39;49m\u001b[38;5;241;43m.\u001b[39;49m\u001b[43mbidirectional\u001b[49m\u001b[43m)\u001b[49m\n\u001b[1;32m    586\u001b[0m output \u001b[38;5;241m=\u001b[39m result[\u001b[38;5;241m0\u001b[39m]\n\u001b[1;32m    587\u001b[0m hidden \u001b[38;5;241m=\u001b[39m result[\u001b[38;5;241m1\u001b[39m:]\n",
      "\u001b[0;31mKeyboardInterrupt\u001b[0m: "
     ]
    }
   ],
   "source": [
    "# (db = 128)\n",
    "run_with_validation(training_data, valid_data, test_data, label_desc, vocab, saved_data_file_path=\"{}.data.pkl\".format(saved_vocab_path.split(\".pkl\")[0]))"
   ]
  },
  {
   "cell_type": "code",
   "execution_count": 30,
   "id": "6d59772f",
   "metadata": {},
   "outputs": [
    {
     "data": {
      "application/vnd.jupyter.widget-view+json": {
       "model_id": "2dc192e201024c738788c5443bf9f9ff",
       "version_major": 2,
       "version_minor": 0
      },
      "text/plain": [
       "Training at epoch #1:   0%|          | 0/253 [00:00<?, ?batches/s]"
      ]
     },
     "metadata": {},
     "output_type": "display_data"
    },
    {
     "name": "stdout",
     "output_type": "stream",
     "text": [
      "{'macro_f1': 0.278772958379358, 'macro_auc': 0.7438035355099071, 'macro_P@5': 0.41760476072402686, 'macro_P@8': 0.3453694520208282, 'macro_P@15': 0.25468220514092077, 'micro_f1': 0.41005161919926036, 'micro_auc': 0.8082988831134683, 'loss': 0.4376403638732292}\n"
     ]
    },
    {
     "data": {
      "application/vnd.jupyter.widget-view+json": {
       "model_id": "d2c4c536caf34bfdb97eec5c5929942d",
       "version_major": 2,
       "version_minor": 0
      },
      "text/plain": [
       "Evaluating:   0%|          | 0/50 [00:00<?, ?batches/s]"
      ]
     },
     "metadata": {},
     "output_type": "display_data"
    },
    {
     "data": {
      "application/vnd.jupyter.widget-view+json": {
       "model_id": "ed53f31f260e4385a13b243c42c1db11",
       "version_major": 2,
       "version_minor": 0
      },
      "text/plain": [
       "Evaluating:   0%|          | 0/55 [00:00<?, ?batches/s]"
      ]
     },
     "metadata": {},
     "output_type": "display_data"
    },
    {
     "name": "stdout",
     "output_type": "stream",
     "text": [
      "lr 0.001\n",
      "{'macro_f1': 0.4368308889474863, 'macro_auc': 0.8454345617425447, 'macro_P@5': 0.5293233082706768, 'macro_P@8': 0.43262001156738, 'macro_P@15': 0.31077694235588976, 'micro_f1': 0.5363083972507221, 'micro_auc': 0.8785712159554994, 'loss': 0.3781909159638665}\n",
      "\n",
      "\n",
      "\n"
     ]
    },
    {
     "data": {
      "application/vnd.jupyter.widget-view+json": {
       "model_id": "d9cc4810216c4cd791d6bfeb0ca9dbe7",
       "version_major": 2,
       "version_minor": 0
      },
      "text/plain": [
       "Training at epoch #2:   0%|          | 0/253 [00:00<?, ?batches/s]"
      ]
     },
     "metadata": {},
     "output_type": "display_data"
    },
    {
     "name": "stdout",
     "output_type": "stream",
     "text": [
      "{'macro_f1': 0.5243003899631893, 'macro_auc': 0.8807213678740216, 'macro_P@5': 0.5816265807091496, 'macro_P@8': 0.4725545499628068, 'macro_P@15': 0.31963798661046366, 'micro_f1': 0.618538675059559, 'micro_auc': 0.9177917814611369, 'loss': 0.3109560109998869}\n"
     ]
    },
    {
     "data": {
      "application/vnd.jupyter.widget-view+json": {
       "model_id": "f6e0f8f5434d41629ac045afab3a010d",
       "version_major": 2,
       "version_minor": 0
      },
      "text/plain": [
       "Evaluating:   0%|          | 0/50 [00:00<?, ?batches/s]"
      ]
     },
     "metadata": {},
     "output_type": "display_data"
    },
    {
     "data": {
      "application/vnd.jupyter.widget-view+json": {
       "model_id": "8f217e862d764e76a2cbdcbbfbd29942",
       "version_major": 2,
       "version_minor": 0
      },
      "text/plain": [
       "Evaluating:   0%|          | 0/55 [00:00<?, ?batches/s]"
      ]
     },
     "metadata": {},
     "output_type": "display_data"
    },
    {
     "name": "stdout",
     "output_type": "stream",
     "text": [
      "lr 0.001\n",
      "{'macro_f1': 0.6287785061670085, 'macro_auc': 0.9077223645235166, 'macro_P@5': 0.6210526315789475, 'macro_P@8': 0.5099768652400232, 'macro_P@15': 0.3454405243878928, 'micro_f1': 0.6597411743991549, 'micro_auc': 0.9274944015070655, 'loss': 0.3015674563971433}\n",
      "\n",
      "\n",
      "\n"
     ]
    },
    {
     "data": {
      "application/vnd.jupyter.widget-view+json": {
       "model_id": "243a95f862054080928a89911d3632ca",
       "version_major": 2,
       "version_minor": 0
      },
      "text/plain": [
       "Training at epoch #3:   0%|          | 0/253 [00:00<?, ?batches/s]"
      ]
     },
     "metadata": {},
     "output_type": "display_data"
    },
    {
     "name": "stdout",
     "output_type": "stream",
     "text": [
      "{'macro_f1': 0.6063199177712933, 'macro_auc': 0.9113391070836516, 'macro_P@5': 0.6231341433176295, 'macro_P@8': 0.5055014877262584, 'macro_P@15': 0.3366228613935036, 'micro_f1': 0.6738539401037309, 'micro_auc': 0.9397665612918966, 'loss': 0.27057366832914087}\n"
     ]
    },
    {
     "data": {
      "application/vnd.jupyter.widget-view+json": {
       "model_id": "2f215f6287434e8cb79f2c0ba93a3d5d",
       "version_major": 2,
       "version_minor": 0
      },
      "text/plain": [
       "Evaluating:   0%|          | 0/50 [00:00<?, ?batches/s]"
      ]
     },
     "metadata": {},
     "output_type": "display_data"
    },
    {
     "data": {
      "application/vnd.jupyter.widget-view+json": {
       "model_id": "9b879ecc7e314226b3e2b87d18c1054d",
       "version_major": 2,
       "version_minor": 0
      },
      "text/plain": [
       "Evaluating:   0%|          | 0/55 [00:00<?, ?batches/s]"
      ]
     },
     "metadata": {},
     "output_type": "display_data"
    },
    {
     "name": "stdout",
     "output_type": "stream",
     "text": [
      "lr 0.001\n",
      "{'macro_f1': 0.6622693380157019, 'macro_auc': 0.9170891286815439, 'macro_P@5': 0.64893001735107, 'macro_P@8': 0.5301474840948525, 'macro_P@15': 0.3555812608444187, 'micro_f1': 0.6981876906513547, 'micro_auc': 0.9399669268074533, 'loss': 0.2747692887078632}\n",
      "\n",
      "\n",
      "\n"
     ]
    },
    {
     "data": {
      "application/vnd.jupyter.widget-view+json": {
       "model_id": "3e37649162d04135b45132223bae7378",
       "version_major": 2,
       "version_minor": 0
      },
      "text/plain": [
       "Training at epoch #4:   0%|          | 0/253 [00:00<?, ?batches/s]"
      ]
     },
     "metadata": {},
     "output_type": "display_data"
    },
    {
     "name": "stdout",
     "output_type": "stream",
     "text": [
      "{'macro_f1': 0.6321717592099932, 'macro_auc': 0.9208987950516047, 'macro_P@5': 0.6399950409124721, 'macro_P@8': 0.5170778576741879, 'macro_P@15': 0.34030911645590545, 'micro_f1': 0.6912927661699825, 'micro_auc': 0.9460260567301395, 'loss': 0.25684647185529175}\n"
     ]
    },
    {
     "data": {
      "application/vnd.jupyter.widget-view+json": {
       "model_id": "a0cff726cd154d70b75e89ef2ec24906",
       "version_major": 2,
       "version_minor": 0
      },
      "text/plain": [
       "Evaluating:   0%|          | 0/50 [00:00<?, ?batches/s]"
      ]
     },
     "metadata": {},
     "output_type": "display_data"
    },
    {
     "data": {
      "application/vnd.jupyter.widget-view+json": {
       "model_id": "b30741a7f16b4b72b2adac38a95c4016",
       "version_major": 2,
       "version_minor": 0
      },
      "text/plain": [
       "Evaluating:   0%|          | 0/55 [00:00<?, ?batches/s]"
      ]
     },
     "metadata": {},
     "output_type": "display_data"
    },
    {
     "name": "stdout",
     "output_type": "stream",
     "text": [
      "lr 0.001\n",
      "{'macro_f1': 0.6567197722046604, 'macro_auc': 0.9191621001908546, 'macro_P@5': 0.6542510121457489, 'macro_P@8': 0.5318102949681897, 'macro_P@15': 0.3539618276460382, 'micro_f1': 0.701199514803001, 'micro_auc': 0.9385874932703576, 'loss': 0.28031106117096816}\n",
      "\n",
      "\n",
      "\n"
     ]
    },
    {
     "data": {
      "application/vnd.jupyter.widget-view+json": {
       "model_id": "dcd761e7e6f945e9a876b56ef0105b56",
       "version_major": 2,
       "version_minor": 0
      },
      "text/plain": [
       "Training at epoch #5:   0%|          | 0/253 [00:00<?, ?batches/s]"
      ]
     },
     "metadata": {},
     "output_type": "display_data"
    },
    {
     "name": "stdout",
     "output_type": "stream",
     "text": [
      "{'macro_f1': 0.6472933501993727, 'macro_auc': 0.9268541677391358, 'macro_P@5': 0.6451772873791223, 'macro_P@8': 0.5228582940738904, 'macro_P@15': 0.3434333415984792, 'micro_f1': 0.7027988663867111, 'micro_auc': 0.9501383565180197, 'loss': 0.24833560514120245}\n"
     ]
    },
    {
     "data": {
      "application/vnd.jupyter.widget-view+json": {
       "model_id": "19c849e43e2442a8aa6764f3721b4512",
       "version_major": 2,
       "version_minor": 0
      },
      "text/plain": [
       "Evaluating:   0%|          | 0/50 [00:00<?, ?batches/s]"
      ]
     },
     "metadata": {},
     "output_type": "display_data"
    },
    {
     "data": {
      "application/vnd.jupyter.widget-view+json": {
       "model_id": "3e07a025e72a4976b37749ca3bd9d155",
       "version_major": 2,
       "version_minor": 0
      },
      "text/plain": [
       "Evaluating:   0%|          | 0/55 [00:00<?, ?batches/s]"
      ]
     },
     "metadata": {},
     "output_type": "display_data"
    },
    {
     "name": "stdout",
     "output_type": "stream",
     "text": [
      "lr 0.001\n",
      "{'macro_f1': 0.6644737322342819, 'macro_auc': 0.9207967863432672, 'macro_P@5': 0.6683632157316367, 'macro_P@8': 0.5421486408328514, 'macro_P@15': 0.35793329477540003, 'micro_f1': 0.7045011480310185, 'micro_auc': 0.9432734671374269, 'loss': 0.2701492407105186}\n",
      "\n",
      "\n",
      "\n"
     ]
    },
    {
     "data": {
      "application/vnd.jupyter.widget-view+json": {
       "model_id": "480a64048e8a463189fd083d09538f3e",
       "version_major": 2,
       "version_minor": 0
      },
      "text/plain": [
       "Training at epoch #6:   0%|          | 0/253 [00:00<?, ?batches/s]"
      ]
     },
     "metadata": {},
     "output_type": "display_data"
    },
    {
     "name": "stdout",
     "output_type": "stream",
     "text": [
      "{'macro_f1': 0.6626886617086726, 'macro_auc': 0.9318490101679964, 'macro_P@5': 0.6553434168113067, 'macro_P@8': 0.5292276221175304, 'macro_P@15': 0.34541697660963716, 'micro_f1': 0.7127840086082027, 'micro_auc': 0.9534967671744378, 'loss': 0.2398998616594571}\n"
     ]
    },
    {
     "data": {
      "application/vnd.jupyter.widget-view+json": {
       "model_id": "fc1f621df81b40b2b56779532f709779",
       "version_major": 2,
       "version_minor": 0
      },
      "text/plain": [
       "Evaluating:   0%|          | 0/50 [00:00<?, ?batches/s]"
      ]
     },
     "metadata": {},
     "output_type": "display_data"
    },
    {
     "data": {
      "application/vnd.jupyter.widget-view+json": {
       "model_id": "e3845dde5a394660bdb01d2019682881",
       "version_major": 2,
       "version_minor": 0
      },
      "text/plain": [
       "Evaluating:   0%|          | 0/55 [00:00<?, ?batches/s]"
      ]
     },
     "metadata": {},
     "output_type": "display_data"
    },
    {
     "name": "stdout",
     "output_type": "stream",
     "text": [
      "lr 0.001\n",
      "{'macro_f1': 0.670512739905486, 'macro_auc': 0.922110915272411, 'macro_P@5': 0.6685945633314054, 'macro_P@8': 0.5435945633314054, 'macro_P@15': 0.3576248313090419, 'micro_f1': 0.7094906360264183, 'micro_auc': 0.9438560066955161, 'loss': 0.26800525134260006}\n",
      "\n",
      "\n",
      "\n"
     ]
    },
    {
     "data": {
      "application/vnd.jupyter.widget-view+json": {
       "model_id": "d328d5303c5d4b978f7177b735d19c88",
       "version_major": 2,
       "version_minor": 0
      },
      "text/plain": [
       "Training at epoch #7:   0%|          | 0/253 [00:00<?, ?batches/s]"
      ]
     },
     "metadata": {},
     "output_type": "display_data"
    },
    {
     "name": "stdout",
     "output_type": "stream",
     "text": [
      "{'macro_f1': 0.6710269531234488, 'macro_auc': 0.9348543251905862, 'macro_P@5': 0.6603025043392016, 'macro_P@8': 0.5334273493677163, 'macro_P@15': 0.34723530870319863, 'micro_f1': 0.7194088016417569, 'micro_auc': 0.9557852443494587, 'loss': 0.234027761774572}\n"
     ]
    },
    {
     "data": {
      "application/vnd.jupyter.widget-view+json": {
       "model_id": "15f967fcf12041858c6514f42f53f13e",
       "version_major": 2,
       "version_minor": 0
      },
      "text/plain": [
       "Evaluating:   0%|          | 0/50 [00:00<?, ?batches/s]"
      ]
     },
     "metadata": {},
     "output_type": "display_data"
    },
    {
     "data": {
      "application/vnd.jupyter.widget-view+json": {
       "model_id": "73c22ae11fd94901a8d78f7f24d718ad",
       "version_major": 2,
       "version_minor": 0
      },
      "text/plain": [
       "Evaluating:   0%|          | 0/55 [00:00<?, ?batches/s]"
      ]
     },
     "metadata": {},
     "output_type": "display_data"
    },
    {
     "name": "stdout",
     "output_type": "stream",
     "text": [
      "lr 0.001\n",
      "{'macro_f1': 0.6742498077119309, 'macro_auc': 0.9224112871659778, 'macro_P@5': 0.6703296703296703, 'macro_P@8': 0.54344997108155, 'macro_P@15': 0.3585887796414112, 'micro_f1': 0.7129437268539427, 'micro_auc': 0.9443512218861566, 'loss': 0.26837515566836706}\n",
      "\n",
      "\n",
      "\n"
     ]
    },
    {
     "data": {
      "application/vnd.jupyter.widget-view+json": {
       "model_id": "46867ab19a464a219d8d6490a4eb8be1",
       "version_major": 2,
       "version_minor": 0
      },
      "text/plain": [
       "Training at epoch #8:   0%|          | 0/253 [00:00<?, ?batches/s]"
      ]
     },
     "metadata": {},
     "output_type": "display_data"
    },
    {
     "name": "stdout",
     "output_type": "stream",
     "text": [
      "{'macro_f1': 0.6777342701243532, 'macro_auc': 0.938163111200135, 'macro_P@5': 0.6653359781800149, 'macro_P@8': 0.5381694768162658, 'macro_P@15': 0.3489379287544425, 'micro_f1': 0.7263494958496979, 'micro_auc': 0.9582260926950028, 'loss': 0.22766544563850397}\n"
     ]
    },
    {
     "data": {
      "application/vnd.jupyter.widget-view+json": {
       "model_id": "28ba7985ec584976beca71eb181fb6f2",
       "version_major": 2,
       "version_minor": 0
      },
      "text/plain": [
       "Evaluating:   0%|          | 0/50 [00:00<?, ?batches/s]"
      ]
     },
     "metadata": {},
     "output_type": "display_data"
    },
    {
     "data": {
      "application/vnd.jupyter.widget-view+json": {
       "model_id": "52243a91a2ff427490e55605c676f435",
       "version_major": 2,
       "version_minor": 0
      },
      "text/plain": [
       "Evaluating:   0%|          | 0/55 [00:00<?, ?batches/s]"
      ]
     },
     "metadata": {},
     "output_type": "display_data"
    },
    {
     "name": "stdout",
     "output_type": "stream",
     "text": [
      "lr 0.0001\n",
      "{'macro_f1': 0.6687665310672871, 'macro_auc': 0.9217640628734557, 'macro_P@5': 0.672296124927704, 'macro_P@8': 0.5438837478311163, 'macro_P@15': 0.35797185270869486, 'micro_f1': 0.7062186038454876, 'micro_auc': 0.944046509060494, 'loss': 0.2712358398193663}\n",
      "\n",
      "\n",
      "\n"
     ]
    },
    {
     "data": {
      "application/vnd.jupyter.widget-view+json": {
       "model_id": "a0f3080d4c444a208bd990d9fc037bf5",
       "version_major": 2,
       "version_minor": 0
      },
      "text/plain": [
       "Training at epoch #9:   0%|          | 0/253 [00:00<?, ?batches/s]"
      ]
     },
     "metadata": {},
     "output_type": "display_data"
    },
    {
     "name": "stdout",
     "output_type": "stream",
     "text": [
      "{'macro_f1': 0.7072508164409667, 'macro_auc': 0.9479263352873382, 'macro_P@5': 0.6833622613439129, 'macro_P@8': 0.550799652863873, 'macro_P@15': 0.3533349863625094, 'micro_f1': 0.748513988734323, 'micro_auc': 0.9651033653019798, 'loss': 0.2093268859056616}\n"
     ]
    },
    {
     "data": {
      "application/vnd.jupyter.widget-view+json": {
       "model_id": "990589061be04408ba4d64dc33ac2da8",
       "version_major": 2,
       "version_minor": 0
      },
      "text/plain": [
       "Evaluating:   0%|          | 0/50 [00:00<?, ?batches/s]"
      ]
     },
     "metadata": {},
     "output_type": "display_data"
    },
    {
     "data": {
      "application/vnd.jupyter.widget-view+json": {
       "model_id": "6c58e4c069a9468ca6ce98e3112020a8",
       "version_major": 2,
       "version_minor": 0
      },
      "text/plain": [
       "Evaluating:   0%|          | 0/55 [00:00<?, ?batches/s]"
      ]
     },
     "metadata": {},
     "output_type": "display_data"
    },
    {
     "name": "stdout",
     "output_type": "stream",
     "text": [
      "lr 0.0001\n",
      "{'macro_f1': 0.6815865750336735, 'macro_auc': 0.9224302273057927, 'macro_P@5': 0.6747252747252747, 'macro_P@8': 0.5459080393290919, 'macro_P@15': 0.3597455176402545, 'micro_f1': 0.7158876827846057, 'micro_auc': 0.9460665849121552, 'loss': 0.2662196762182496}\n",
      "\n",
      "\n",
      "\n"
     ]
    },
    {
     "data": {
      "application/vnd.jupyter.widget-view+json": {
       "model_id": "156dfd3164da4d95a4707fef910a4572",
       "version_major": 2,
       "version_minor": 0
      },
      "text/plain": [
       "Training at epoch #10:   0%|          | 0/253 [00:00<?, ?batches/s]"
      ]
     },
     "metadata": {},
     "output_type": "display_data"
    },
    {
     "name": "stdout",
     "output_type": "stream",
     "text": [
      "{'macro_f1': 0.7144039603135699, 'macro_auc': 0.9499520469141969, 'macro_P@5': 0.6878998264319365, 'macro_P@8': 0.5534186709645426, 'macro_P@15': 0.35463261426564185, 'micro_f1': 0.7535013133169297, 'micro_auc': 0.9665442294994333, 'loss': 0.2055231997146908}\n"
     ]
    },
    {
     "data": {
      "application/vnd.jupyter.widget-view+json": {
       "model_id": "9d51869fe1a74d499954d699aab9f1fb",
       "version_major": 2,
       "version_minor": 0
      },
      "text/plain": [
       "Evaluating:   0%|          | 0/50 [00:00<?, ?batches/s]"
      ]
     },
     "metadata": {},
     "output_type": "display_data"
    },
    {
     "data": {
      "application/vnd.jupyter.widget-view+json": {
       "model_id": "e2b55623dd654a2994e6e64874382995",
       "version_major": 2,
       "version_minor": 0
      },
      "text/plain": [
       "Evaluating:   0%|          | 0/55 [00:00<?, ?batches/s]"
      ]
     },
     "metadata": {},
     "output_type": "display_data"
    },
    {
     "name": "stdout",
     "output_type": "stream",
     "text": [
      "lr 0.0001\n",
      "{'macro_f1': 0.6802512052803963, 'macro_auc': 0.9224055264604261, 'macro_P@5': 0.6731058415268942, 'macro_P@8': 0.5467032967032966, 'macro_P@15': 0.360169654906497, 'micro_f1': 0.716496007939014, 'micro_auc': 0.9459282573098711, 'loss': 0.26804164898666466}\n",
      "\n",
      "\n",
      "\n"
     ]
    },
    {
     "data": {
      "application/vnd.jupyter.widget-view+json": {
       "model_id": "49d4d64da2fb40c6bbf14b2bdb12e4ec",
       "version_major": 2,
       "version_minor": 0
      },
      "text/plain": [
       "Training at epoch #11:   0%|          | 0/253 [00:00<?, ?batches/s]"
      ]
     },
     "metadata": {},
     "output_type": "display_data"
    },
    {
     "name": "stdout",
     "output_type": "stream",
     "text": [
      "{'macro_f1': 0.7169175622259202, 'macro_auc': 0.9506408347895529, 'macro_P@5': 0.6883957351847261, 'macro_P@8': 0.5545964542524175, 'macro_P@15': 0.35558310604182164, 'micro_f1': 0.7560889443059018, 'micro_auc': 0.9670982392011631, 'loss': 0.20396157569093668}\n"
     ]
    },
    {
     "data": {
      "application/vnd.jupyter.widget-view+json": {
       "model_id": "dcc09fa9c91b4976917d89c02577627c",
       "version_major": 2,
       "version_minor": 0
      },
      "text/plain": [
       "Evaluating:   0%|          | 0/50 [00:00<?, ?batches/s]"
      ]
     },
     "metadata": {},
     "output_type": "display_data"
    },
    {
     "data": {
      "application/vnd.jupyter.widget-view+json": {
       "model_id": "7584131f1c6b42abafa11d3737945638",
       "version_major": 2,
       "version_minor": 0
      },
      "text/plain": [
       "Evaluating:   0%|          | 0/55 [00:00<?, ?batches/s]"
      ]
     },
     "metadata": {},
     "output_type": "display_data"
    },
    {
     "name": "stdout",
     "output_type": "stream",
     "text": [
      "lr 1e-05\n",
      "{'macro_f1': 0.6778752360656732, 'macro_auc': 0.9222446439692926, 'macro_P@5': 0.6740312319259687, 'macro_P@8': 0.5462695199537305, 'macro_P@15': 0.36036244457297084, 'micro_f1': 0.7149199515673349, 'micro_auc': 0.9457486404174213, 'loss': 0.26932646083560857}\n",
      "\n",
      "\n",
      "\n"
     ]
    },
    {
     "data": {
      "application/vnd.jupyter.widget-view+json": {
       "model_id": "3c8dc3ab5de645b78aa18ca55962ae34",
       "version_major": 2,
       "version_minor": 0
      },
      "text/plain": [
       "Training at epoch #12:   0%|          | 0/253 [00:00<?, ?batches/s]"
      ]
     },
     "metadata": {},
     "output_type": "display_data"
    },
    {
     "name": "stdout",
     "output_type": "stream",
     "text": [
      "{'macro_f1': 0.7224396056772454, 'macro_auc': 0.9520201037860293, 'macro_P@5': 0.6899330523183734, 'macro_P@8': 0.5560221919166873, 'macro_P@15': 0.3558889164393752, 'micro_f1': 0.7585920981717176, 'micro_auc': 0.9679901284372416, 'loss': 0.20126620035162085}\n"
     ]
    },
    {
     "data": {
      "application/vnd.jupyter.widget-view+json": {
       "model_id": "0cc4c79ad73d470b89a6218f4a62a924",
       "version_major": 2,
       "version_minor": 0
      },
      "text/plain": [
       "Evaluating:   0%|          | 0/50 [00:00<?, ?batches/s]"
      ]
     },
     "metadata": {},
     "output_type": "display_data"
    },
    {
     "data": {
      "application/vnd.jupyter.widget-view+json": {
       "model_id": "57d6d7910aed47e1880136ea6c2550b7",
       "version_major": 2,
       "version_minor": 0
      },
      "text/plain": [
       "Evaluating:   0%|          | 0/55 [00:00<?, ?batches/s]"
      ]
     },
     "metadata": {},
     "output_type": "display_data"
    },
    {
     "name": "stdout",
     "output_type": "stream",
     "text": [
      "lr 1e-05\n",
      "{'macro_f1': 0.679414599243517, 'macro_auc': 0.9222435527346652, 'macro_P@5': 0.6741469057258531, 'macro_P@8': 0.5460526315789473, 'macro_P@15': 0.3604395604395604, 'micro_f1': 0.716549612821898, 'micro_auc': 0.9458383323390254, 'loss': 0.2689851613207297}\n",
      "\n",
      "\n",
      "\n"
     ]
    },
    {
     "data": {
      "application/vnd.jupyter.widget-view+json": {
       "model_id": "16410bc99abf40d281802c1343af222f",
       "version_major": 2,
       "version_minor": 0
      },
      "text/plain": [
       "Training at epoch #13:   0%|          | 0/253 [00:00<?, ?batches/s]"
      ]
     },
     "metadata": {},
     "output_type": "display_data"
    },
    {
     "name": "stdout",
     "output_type": "stream",
     "text": [
      "{'macro_f1': 0.7215375043150961, 'macro_auc': 0.9520304765331818, 'macro_P@5': 0.6901314158194892, 'macro_P@8': 0.5564251177783288, 'macro_P@15': 0.3560790147946111, 'micro_f1': 0.7587581353345997, 'micro_auc': 0.9681105891841609, 'loss': 0.20048899527477182}\n"
     ]
    },
    {
     "data": {
      "application/vnd.jupyter.widget-view+json": {
       "model_id": "249b4e912e294db3b96ba0af500a8f62",
       "version_major": 2,
       "version_minor": 0
      },
      "text/plain": [
       "Evaluating:   0%|          | 0/50 [00:00<?, ?batches/s]"
      ]
     },
     "metadata": {},
     "output_type": "display_data"
    },
    {
     "data": {
      "application/vnd.jupyter.widget-view+json": {
       "model_id": "5bbac721eb6b43868e43a9f70453eef5",
       "version_major": 2,
       "version_minor": 0
      },
      "text/plain": [
       "Evaluating:   0%|          | 0/55 [00:00<?, ?batches/s]"
      ]
     },
     "metadata": {},
     "output_type": "display_data"
    },
    {
     "name": "stdout",
     "output_type": "stream",
     "text": [
      "lr 1.0000000000000002e-06\n",
      "{'macro_f1': 0.6791311899595952, 'macro_auc': 0.922268828022577, 'macro_P@5': 0.6732215153267784, 'macro_P@8': 0.5459080393290919, 'macro_P@15': 0.3606323501060343, 'micro_f1': 0.7162149995498335, 'micro_auc': 0.9458387462998078, 'loss': 0.2689973378045992}\n",
      "\n",
      "\n",
      "\n"
     ]
    },
    {
     "data": {
      "application/vnd.jupyter.widget-view+json": {
       "model_id": "8aca67bdbb3e4c828f0f62eb741aae72",
       "version_major": 2,
       "version_minor": 0
      },
      "text/plain": [
       "Training at epoch #14:   0%|          | 0/253 [00:00<?, ?batches/s]"
      ]
     },
     "metadata": {},
     "output_type": "display_data"
    },
    {
     "name": "stdout",
     "output_type": "stream",
     "text": [
      "{'macro_f1': 0.7209922512025453, 'macro_auc': 0.9522250597859125, 'macro_P@5': 0.6918175055789735, 'macro_P@8': 0.557075998016365, 'macro_P@15': 0.3561368708157699, 'micro_f1': 0.7612517142500935, 'micro_auc': 0.9683472554653304, 'loss': 0.1999280736027028}\n"
     ]
    },
    {
     "data": {
      "application/vnd.jupyter.widget-view+json": {
       "model_id": "67fad35e0d5e41ab866085752bacc4bc",
       "version_major": 2,
       "version_minor": 0
      },
      "text/plain": [
       "Evaluating:   0%|          | 0/50 [00:00<?, ?batches/s]"
      ]
     },
     "metadata": {},
     "output_type": "display_data"
    },
    {
     "data": {
      "application/vnd.jupyter.widget-view+json": {
       "model_id": "972b46cc0a044b6fa4e0a0e45013c9c2",
       "version_major": 2,
       "version_minor": 0
      },
      "text/plain": [
       "Evaluating:   0%|          | 0/55 [00:00<?, ?batches/s]"
      ]
     },
     "metadata": {},
     "output_type": "display_data"
    },
    {
     "name": "stdout",
     "output_type": "stream",
     "text": [
      "lr 1.0000000000000002e-06\n",
      "{'macro_f1': 0.679031976676498, 'macro_auc': 0.9222714616209424, 'macro_P@5': 0.6733371891266628, 'macro_P@8': 0.5459803354540197, 'macro_P@15': 0.36059379217273957, 'micro_f1': 0.7162149995498335, 'micro_auc': 0.9458337517593223, 'loss': 0.26903218207034196}\n",
      "\n",
      "\n",
      "\n"
     ]
    },
    {
     "data": {
      "application/vnd.jupyter.widget-view+json": {
       "model_id": "00516636bada404fba86de169663c850",
       "version_major": 2,
       "version_minor": 0
      },
      "text/plain": [
       "Training at epoch #15:   0%|          | 0/253 [00:00<?, ?batches/s]"
      ]
     },
     "metadata": {},
     "output_type": "display_data"
    },
    {
     "name": "stdout",
     "output_type": "stream",
     "text": [
      "{'macro_f1': 0.7201547736238445, 'macro_auc': 0.9521143095869276, 'macro_P@5': 0.6915695512025788, 'macro_P@8': 0.5556967517976692, 'macro_P@15': 0.35597983304405323, 'micro_f1': 0.7587346111890291, 'micro_auc': 0.9682052138516679, 'loss': 0.20089011194677692}\n"
     ]
    },
    {
     "data": {
      "application/vnd.jupyter.widget-view+json": {
       "model_id": "f349161c1a114833a019d60cdae2d7cf",
       "version_major": 2,
       "version_minor": 0
      },
      "text/plain": [
       "Evaluating:   0%|          | 0/50 [00:00<?, ?batches/s]"
      ]
     },
     "metadata": {},
     "output_type": "display_data"
    },
    {
     "data": {
      "application/vnd.jupyter.widget-view+json": {
       "model_id": "b77cc58c40cd4a4c8d866c3871cb2f56",
       "version_major": 2,
       "version_minor": 0
      },
      "text/plain": [
       "Evaluating:   0%|          | 0/55 [00:00<?, ?batches/s]"
      ]
     },
     "metadata": {},
     "output_type": "display_data"
    },
    {
     "name": "stdout",
     "output_type": "stream",
     "text": [
      "lr 1.0000000000000002e-07\n",
      "{'macro_f1': 0.6791768571599561, 'macro_auc': 0.9222667798903161, 'macro_P@5': 0.6733371891266628, 'macro_P@8': 0.5461972238288028, 'macro_P@15': 0.36059379217273957, 'micro_f1': 0.7162539396668167, 'micro_auc': 0.9458325400288989, 'loss': 0.2690387842330066}\n",
      "\n",
      "\n",
      "\n"
     ]
    },
    {
     "data": {
      "application/vnd.jupyter.widget-view+json": {
       "model_id": "2a841e215d6b4b45b8d59ae32b999d64",
       "version_major": 2,
       "version_minor": 0
      },
      "text/plain": [
       "Training at epoch #16:   0%|          | 0/253 [00:00<?, ?batches/s]"
      ]
     },
     "metadata": {},
     "output_type": "display_data"
    },
    {
     "name": "stdout",
     "output_type": "stream",
     "text": [
      "{'macro_f1': 0.7236498445073503, 'macro_auc': 0.9524125588331301, 'macro_P@5': 0.6929580957103894, 'macro_P@8': 0.5563786263327548, 'macro_P@15': 0.355897181585255, 'micro_f1': 0.7592960279426593, 'micro_auc': 0.9684473897498196, 'loss': 0.20010487629255289}\n"
     ]
    },
    {
     "data": {
      "application/vnd.jupyter.widget-view+json": {
       "model_id": "fb76e9588e9a4d4bbd192483db20e629",
       "version_major": 2,
       "version_minor": 0
      },
      "text/plain": [
       "Evaluating:   0%|          | 0/50 [00:00<?, ?batches/s]"
      ]
     },
     "metadata": {},
     "output_type": "display_data"
    },
    {
     "data": {
      "application/vnd.jupyter.widget-view+json": {
       "model_id": "7b6dd0588a464a42a3bbd240afc7cf08",
       "version_major": 2,
       "version_minor": 0
      },
      "text/plain": [
       "Evaluating:   0%|          | 0/55 [00:00<?, ?batches/s]"
      ]
     },
     "metadata": {},
     "output_type": "display_data"
    },
    {
     "name": "stdout",
     "output_type": "stream",
     "text": [
      "lr 1.0000000000000002e-07\n",
      "{'macro_f1': 0.6791768571599561, 'macro_auc': 0.9222666556985993, 'macro_P@5': 0.6733371891266628, 'macro_P@8': 0.5461972238288028, 'macro_P@15': 0.36059379217273957, 'micro_f1': 0.7162539396668167, 'micro_auc': 0.94583224290682, 'loss': 0.26904087046330627}\n",
      "\n",
      "\n",
      "\n"
     ]
    },
    {
     "data": {
      "application/vnd.jupyter.widget-view+json": {
       "model_id": "9ed060b830bc4db89f0c4463853a4378",
       "version_major": 2,
       "version_minor": 0
      },
      "text/plain": [
       "Training at epoch #17:   0%|          | 0/253 [00:00<?, ?batches/s]"
      ]
     },
     "metadata": {},
     "output_type": "display_data"
    },
    {
     "name": "stdout",
     "output_type": "stream",
     "text": [
      "{'macro_f1': 0.7231194020298443, 'macro_auc': 0.9519580004531363, 'macro_P@5': 0.6906273245722787, 'macro_P@8': 0.5568125464914456, 'macro_P@15': 0.3561699313992892, 'micro_f1': 0.7582838914807619, 'micro_auc': 0.9681829917521835, 'loss': 0.20066296353406116}\n"
     ]
    },
    {
     "data": {
      "application/vnd.jupyter.widget-view+json": {
       "model_id": "51dc146ea79c4cb29c477d56a8462d1a",
       "version_major": 2,
       "version_minor": 0
      },
      "text/plain": [
       "Evaluating:   0%|          | 0/50 [00:00<?, ?batches/s]"
      ]
     },
     "metadata": {},
     "output_type": "display_data"
    },
    {
     "data": {
      "application/vnd.jupyter.widget-view+json": {
       "model_id": "b3812aa9c8be4389ac15c63d9f9a791e",
       "version_major": 2,
       "version_minor": 0
      },
      "text/plain": [
       "Evaluating:   0%|          | 0/55 [00:00<?, ?batches/s]"
      ]
     },
     "metadata": {},
     "output_type": "display_data"
    },
    {
     "name": "stdout",
     "output_type": "stream",
     "text": [
      "lr 1.0000000000000004e-08\n",
      "{'macro_f1': 0.6791555060325783, 'macro_auc': 0.9222657128848013, 'macro_P@5': 0.6733371891266628, 'macro_P@8': 0.5461972238288028, 'macro_P@15': 0.36059379217273957, 'micro_f1': 0.716221691954437, 'micro_auc': 0.945832024305375, 'loss': 0.26904009099711074}\n",
      "\n",
      "\n",
      "\n"
     ]
    },
    {
     "data": {
      "application/vnd.jupyter.widget-view+json": {
       "model_id": "2d332afb71f646a1963453884c645636",
       "version_major": 2,
       "version_minor": 0
      },
      "text/plain": [
       "Training at epoch #18:   0%|          | 0/253 [00:00<?, ?batches/s]"
      ]
     },
     "metadata": {},
     "output_type": "display_data"
    },
    {
     "name": "stdout",
     "output_type": "stream",
     "text": [
      "{'macro_f1': 0.7239947930238236, 'macro_auc': 0.9524982517648923, 'macro_P@5': 0.6919910736424498, 'macro_P@8': 0.5576958839573518, 'macro_P@15': 0.3562939085874866, 'micro_f1': 0.7600212122157408, 'micro_auc': 0.9683872510702654, 'loss': 0.199837339725419}\n"
     ]
    },
    {
     "data": {
      "application/vnd.jupyter.widget-view+json": {
       "model_id": "08d9ee46940848dfb53578a6f6a7a794",
       "version_major": 2,
       "version_minor": 0
      },
      "text/plain": [
       "Evaluating:   0%|          | 0/50 [00:00<?, ?batches/s]"
      ]
     },
     "metadata": {},
     "output_type": "display_data"
    },
    {
     "data": {
      "application/vnd.jupyter.widget-view+json": {
       "model_id": "025812ed33244699aedfeae04d5af42e",
       "version_major": 2,
       "version_minor": 0
      },
      "text/plain": [
       "Evaluating:   0%|          | 0/55 [00:00<?, ?batches/s]"
      ]
     },
     "metadata": {},
     "output_type": "display_data"
    },
    {
     "name": "stdout",
     "output_type": "stream",
     "text": [
      "lr 1.0000000000000004e-08\n",
      "{'macro_f1': 0.6791555060325783, 'macro_auc': 0.9222659845229129, 'macro_P@5': 0.6733371891266628, 'macro_P@8': 0.5461972238288028, 'macro_P@15': 0.36059379217273957, 'micro_f1': 0.716221691954437, 'micro_auc': 0.945832033099686, 'loss': 0.2690401270308278}\n",
      "\n",
      "\n",
      "\n"
     ]
    },
    {
     "data": {
      "application/vnd.jupyter.widget-view+json": {
       "model_id": "7d82efb6c46547b4b00f20221899ce91",
       "version_major": 2,
       "version_minor": 0
      },
      "text/plain": [
       "Training at epoch #19:   0%|          | 0/253 [00:00<?, ?batches/s]"
      ]
     },
     "metadata": {},
     "output_type": "display_data"
    },
    {
     "ename": "KeyboardInterrupt",
     "evalue": "",
     "output_type": "error",
     "traceback": [
      "\u001b[0;31m---------------------------------------------------------------------------\u001b[0m",
      "\u001b[0;31mKeyboardInterrupt\u001b[0m                         Traceback (most recent call last)",
      "Cell \u001b[0;32mIn [30], line 2\u001b[0m\n\u001b[1;32m      1\u001b[0m \u001b[38;5;66;03m# (pos_wt = 2, lr = 0.001, lr scheduler)\u001b[39;00m\n\u001b[0;32m----> 2\u001b[0m \u001b[43mrun_with_validation\u001b[49m\u001b[43m(\u001b[49m\u001b[43mtraining_data\u001b[49m\u001b[43m,\u001b[49m\u001b[43m \u001b[49m\u001b[43mvalid_data\u001b[49m\u001b[43m,\u001b[49m\u001b[43m \u001b[49m\u001b[43mtest_data\u001b[49m\u001b[43m,\u001b[49m\u001b[43m \u001b[49m\u001b[43mlabel_desc\u001b[49m\u001b[43m,\u001b[49m\u001b[43m \u001b[49m\u001b[43mvocab\u001b[49m\u001b[43m,\u001b[49m\u001b[43m \u001b[49m\u001b[43msaved_data_file_path\u001b[49m\u001b[38;5;241;43m=\u001b[39;49m\u001b[38;5;124;43m\"\u001b[39;49m\u001b[38;5;132;43;01m{}\u001b[39;49;00m\u001b[38;5;124;43m.data.pkl\u001b[39;49m\u001b[38;5;124;43m\"\u001b[39;49m\u001b[38;5;241;43m.\u001b[39;49m\u001b[43mformat\u001b[49m\u001b[43m(\u001b[49m\u001b[43msaved_vocab_path\u001b[49m\u001b[38;5;241;43m.\u001b[39;49m\u001b[43msplit\u001b[49m\u001b[43m(\u001b[49m\u001b[38;5;124;43m\"\u001b[39;49m\u001b[38;5;124;43m.pkl\u001b[39;49m\u001b[38;5;124;43m\"\u001b[39;49m\u001b[43m)\u001b[49m\u001b[43m[\u001b[49m\u001b[38;5;241;43m0\u001b[39;49m\u001b[43m]\u001b[49m\u001b[43m)\u001b[49m\u001b[43m)\u001b[49m\n",
      "Cell \u001b[0;32mIn [29], line 2\u001b[0m, in \u001b[0;36mrun_with_validation\u001b[0;34m(training_data, valid_data, test_data, label_desc, vocab, saved_data_file_path)\u001b[0m\n\u001b[1;32m      1\u001b[0m \u001b[38;5;28;01mdef\u001b[39;00m \u001b[38;5;21mrun_with_validation\u001b[39m(training_data, valid_data, test_data, label_desc, vocab, saved_data_file_path):\n\u001b[0;32m----> 2\u001b[0m     best_model, scores \u001b[38;5;241m=\u001b[39m \u001b[43m_train_model\u001b[49m\u001b[43m(\u001b[49m\n\u001b[1;32m      3\u001b[0m \u001b[43m        \u001b[49m\u001b[43mtrain_data\u001b[49m\u001b[38;5;241;43m=\u001b[39;49m\u001b[43mtraining_data\u001b[49m\u001b[43m,\u001b[49m\u001b[43m \u001b[49m\u001b[43mvalid_data\u001b[49m\u001b[38;5;241;43m=\u001b[39;49m\u001b[43mvalid_data\u001b[49m\u001b[43m,\u001b[49m\u001b[43m \u001b[49m\u001b[43mtest_data\u001b[49m\u001b[38;5;241;43m=\u001b[39;49m\u001b[43mtest_data\u001b[49m\u001b[43m,\u001b[49m\u001b[43m \u001b[49m\u001b[43mlabel_desc\u001b[49m\u001b[38;5;241;43m=\u001b[39;49m\u001b[43mlabel_desc\u001b[49m\u001b[43m,\u001b[49m\n\u001b[1;32m      4\u001b[0m \u001b[43m        \u001b[49m\u001b[43mvocab\u001b[49m\u001b[38;5;241;43m=\u001b[39;49m\u001b[43mvocab\u001b[49m\u001b[43m,\u001b[49m\u001b[43m \u001b[49m\u001b[43msaved_data_file_path\u001b[49m\u001b[38;5;241;43m=\u001b[39;49m\u001b[43msaved_data_file_path\u001b[49m\u001b[43m,\u001b[49m\u001b[43m \u001b[49m\u001b[43mcheckpoint_path\u001b[49m\u001b[38;5;241;43m=\u001b[39;49m\u001b[38;5;124;43m\"\u001b[39;49m\u001b[38;5;124;43m../model/checkpoint.pkl\u001b[39;49m\u001b[38;5;124;43m\"\u001b[39;49m\u001b[43m)\u001b[49m\n\u001b[1;32m      6\u001b[0m     \u001b[38;5;28;01mreturn\u001b[39;00m best_model, scores\n",
      "Cell \u001b[0;32mIn [28], line 31\u001b[0m, in \u001b[0;36m_train_model\u001b[0;34m(train_data, valid_data, test_data, label_desc, vocab, saved_data_file_path, checkpoint_path)\u001b[0m\n\u001b[1;32m     20\u001b[0m criterions \u001b[38;5;241m=\u001b[39m nn\u001b[38;5;241m.\u001b[39mBCEWithLogitsLoss(pos_weight \u001b[38;5;241m=\u001b[39m torch\u001b[38;5;241m.\u001b[39mtensor(\u001b[38;5;241m2\u001b[39m))\n\u001b[1;32m     22\u001b[0m trainer \u001b[38;5;241m=\u001b[39m Trainer(model\u001b[38;5;241m=\u001b[39mmodel,\n\u001b[1;32m     23\u001b[0m                   train_dataloader\u001b[38;5;241m=\u001b[39mtrain_dataloader,\n\u001b[1;32m     24\u001b[0m                   valid_dataloader\u001b[38;5;241m=\u001b[39mvalid_dataloader,\n\u001b[0;32m   (...)\u001b[0m\n\u001b[1;32m     29\u001b[0m                   vocab\u001b[38;5;241m=\u001b[39mvocab,\n\u001b[1;32m     30\u001b[0m                   checkpoint_path\u001b[38;5;241m=\u001b[39mcheckpoint_path)\n\u001b[0;32m---> 31\u001b[0m best_model, scores \u001b[38;5;241m=\u001b[39m \u001b[43mtrainer\u001b[49m\u001b[38;5;241;43m.\u001b[39;49m\u001b[43mtrain\u001b[49m\u001b[43m(\u001b[49m\u001b[43mn_epoch\u001b[49m\u001b[38;5;241;43m=\u001b[39;49m\u001b[43mn_epoch\u001b[49m\u001b[43m)\u001b[49m\n\u001b[1;32m     33\u001b[0m evaluator \u001b[38;5;241m=\u001b[39m Evaluator(model\u001b[38;5;241m=\u001b[39mbest_model,vocab\u001b[38;5;241m=\u001b[39mvocab,criterions\u001b[38;5;241m=\u001b[39mcriterions,\n\u001b[1;32m     34\u001b[0m                       n_training_labels\u001b[38;5;241m=\u001b[39mn_labels,device \u001b[38;5;241m=\u001b[39m device)\n\u001b[1;32m     36\u001b[0m \u001b[38;5;28;01mdel\u001b[39;00m model, optimiser, evaluator, trainer, criterions\n",
      "Cell \u001b[0;32mIn [23], line 87\u001b[0m, in \u001b[0;36mTrainer.train\u001b[0;34m(self, n_epoch)\u001b[0m\n\u001b[1;32m     85\u001b[0m evaluator \u001b[38;5;241m=\u001b[39m Evaluator(\u001b[38;5;28mself\u001b[39m\u001b[38;5;241m.\u001b[39mmodel, \u001b[38;5;28mself\u001b[39m\u001b[38;5;241m.\u001b[39mvocab, \u001b[38;5;28mself\u001b[39m\u001b[38;5;241m.\u001b[39mcriterions, \u001b[38;5;28mself\u001b[39m\u001b[38;5;241m.\u001b[39mn_training_labels,device)\n\u001b[1;32m     86\u001b[0m \u001b[38;5;28;01mfor\u001b[39;00m e \u001b[38;5;129;01min\u001b[39;00m \u001b[38;5;28mrange\u001b[39m(\u001b[38;5;28mself\u001b[39m\u001b[38;5;241m.\u001b[39mstart_epoch \u001b[38;5;241m+\u001b[39m \u001b[38;5;241m1\u001b[39m, n_epoch \u001b[38;5;241m+\u001b[39m \u001b[38;5;241m1\u001b[39m):\n\u001b[0;32m---> 87\u001b[0m     train_scores \u001b[38;5;241m=\u001b[39m \u001b[38;5;28;43mself\u001b[39;49m\u001b[38;5;241;43m.\u001b[39;49m\u001b[43mtrain_single_epoch\u001b[49m\u001b[43m(\u001b[49m\u001b[43me\u001b[49m\u001b[43m)\u001b[49m\n\u001b[1;32m     88\u001b[0m     epoch_loss \u001b[38;5;241m=\u001b[39m train_scores[\u001b[38;5;124m\"\u001b[39m\u001b[38;5;124maverage\u001b[39m\u001b[38;5;124m\"\u001b[39m]\n\u001b[1;32m     89\u001b[0m     valid_scores \u001b[38;5;241m=\u001b[39m evaluator\u001b[38;5;241m.\u001b[39mevaluate(\u001b[38;5;28mself\u001b[39m\u001b[38;5;241m.\u001b[39mvalid_dataloader)\n",
      "Cell \u001b[0;32mIn [23], line 43\u001b[0m, in \u001b[0;36mTrainer.train_single_epoch\u001b[0;34m(self, index)\u001b[0m\n\u001b[1;32m     40\u001b[0m \u001b[38;5;28mself\u001b[39m\u001b[38;5;241m.\u001b[39moptimiser\u001b[38;5;241m.\u001b[39mzero_grad()\n\u001b[1;32m     41\u001b[0m batch_id \u001b[38;5;241m=\u001b[39m \u001b[38;5;241m0\u001b[39m\n\u001b[0;32m---> 43\u001b[0m \u001b[38;5;28;01mfor\u001b[39;00m text_batch, label_batch, length_batch, id_batch,desc_batch \u001b[38;5;129;01min\u001b[39;00m progress_bar:\n\u001b[1;32m     44\u001b[0m     batch_id \u001b[38;5;241m+\u001b[39m\u001b[38;5;241m=\u001b[39m \u001b[38;5;241m1\u001b[39m\n\u001b[1;32m     45\u001b[0m     text_batch \u001b[38;5;241m=\u001b[39m text_batch\u001b[38;5;241m.\u001b[39mto(device)\n",
      "File \u001b[0;32m~/.local/lib/python3.8/site-packages/tqdm/notebook.py:259\u001b[0m, in \u001b[0;36mtqdm_notebook.__iter__\u001b[0;34m(self)\u001b[0m\n\u001b[1;32m    257\u001b[0m \u001b[38;5;28;01mtry\u001b[39;00m:\n\u001b[1;32m    258\u001b[0m     it \u001b[38;5;241m=\u001b[39m \u001b[38;5;28msuper\u001b[39m(tqdm_notebook, \u001b[38;5;28mself\u001b[39m)\u001b[38;5;241m.\u001b[39m\u001b[38;5;21m__iter__\u001b[39m()\n\u001b[0;32m--> 259\u001b[0m     \u001b[38;5;28;01mfor\u001b[39;00m obj \u001b[38;5;129;01min\u001b[39;00m it:\n\u001b[1;32m    260\u001b[0m         \u001b[38;5;66;03m# return super(tqdm...) will not catch exception\u001b[39;00m\n\u001b[1;32m    261\u001b[0m         \u001b[38;5;28;01myield\u001b[39;00m obj\n\u001b[1;32m    262\u001b[0m \u001b[38;5;66;03m# NB: except ... [ as ...] breaks IPython async KeyboardInterrupt\u001b[39;00m\n",
      "File \u001b[0;32m~/.local/lib/python3.8/site-packages/tqdm/std.py:1195\u001b[0m, in \u001b[0;36mtqdm.__iter__\u001b[0;34m(self)\u001b[0m\n\u001b[1;32m   1192\u001b[0m time \u001b[38;5;241m=\u001b[39m \u001b[38;5;28mself\u001b[39m\u001b[38;5;241m.\u001b[39m_time\n\u001b[1;32m   1194\u001b[0m \u001b[38;5;28;01mtry\u001b[39;00m:\n\u001b[0;32m-> 1195\u001b[0m     \u001b[38;5;28;01mfor\u001b[39;00m obj \u001b[38;5;129;01min\u001b[39;00m iterable:\n\u001b[1;32m   1196\u001b[0m         \u001b[38;5;28;01myield\u001b[39;00m obj\n\u001b[1;32m   1197\u001b[0m         \u001b[38;5;66;03m# Update and possibly print the progressbar.\u001b[39;00m\n\u001b[1;32m   1198\u001b[0m         \u001b[38;5;66;03m# Note: does not call self.update(1) for speed optimisation.\u001b[39;00m\n",
      "File \u001b[0;32m~/.local/lib/python3.8/site-packages/torch/utils/data/dataloader.py:435\u001b[0m, in \u001b[0;36m_BaseDataLoaderIter.__next__\u001b[0;34m(self)\u001b[0m\n\u001b[1;32m    433\u001b[0m \u001b[38;5;28;01mif\u001b[39;00m \u001b[38;5;28mself\u001b[39m\u001b[38;5;241m.\u001b[39m_sampler_iter \u001b[38;5;129;01mis\u001b[39;00m \u001b[38;5;28;01mNone\u001b[39;00m:\n\u001b[1;32m    434\u001b[0m     \u001b[38;5;28mself\u001b[39m\u001b[38;5;241m.\u001b[39m_reset()\n\u001b[0;32m--> 435\u001b[0m data \u001b[38;5;241m=\u001b[39m \u001b[38;5;28;43mself\u001b[39;49m\u001b[38;5;241;43m.\u001b[39;49m\u001b[43m_next_data\u001b[49m\u001b[43m(\u001b[49m\u001b[43m)\u001b[49m\n\u001b[1;32m    436\u001b[0m \u001b[38;5;28mself\u001b[39m\u001b[38;5;241m.\u001b[39m_num_yielded \u001b[38;5;241m+\u001b[39m\u001b[38;5;241m=\u001b[39m \u001b[38;5;241m1\u001b[39m\n\u001b[1;32m    437\u001b[0m \u001b[38;5;28;01mif\u001b[39;00m \u001b[38;5;28mself\u001b[39m\u001b[38;5;241m.\u001b[39m_dataset_kind \u001b[38;5;241m==\u001b[39m _DatasetKind\u001b[38;5;241m.\u001b[39mIterable \u001b[38;5;129;01mand\u001b[39;00m \\\n\u001b[1;32m    438\u001b[0m         \u001b[38;5;28mself\u001b[39m\u001b[38;5;241m.\u001b[39m_IterableDataset_len_called \u001b[38;5;129;01mis\u001b[39;00m \u001b[38;5;129;01mnot\u001b[39;00m \u001b[38;5;28;01mNone\u001b[39;00m \u001b[38;5;129;01mand\u001b[39;00m \\\n\u001b[1;32m    439\u001b[0m         \u001b[38;5;28mself\u001b[39m\u001b[38;5;241m.\u001b[39m_num_yielded \u001b[38;5;241m>\u001b[39m \u001b[38;5;28mself\u001b[39m\u001b[38;5;241m.\u001b[39m_IterableDataset_len_called:\n",
      "File \u001b[0;32m~/.local/lib/python3.8/site-packages/torch/utils/data/dataloader.py:475\u001b[0m, in \u001b[0;36m_SingleProcessDataLoaderIter._next_data\u001b[0;34m(self)\u001b[0m\n\u001b[1;32m    473\u001b[0m \u001b[38;5;28;01mdef\u001b[39;00m \u001b[38;5;21m_next_data\u001b[39m(\u001b[38;5;28mself\u001b[39m):\n\u001b[1;32m    474\u001b[0m     index \u001b[38;5;241m=\u001b[39m \u001b[38;5;28mself\u001b[39m\u001b[38;5;241m.\u001b[39m_next_index()  \u001b[38;5;66;03m# may raise StopIteration\u001b[39;00m\n\u001b[0;32m--> 475\u001b[0m     data \u001b[38;5;241m=\u001b[39m \u001b[38;5;28;43mself\u001b[39;49m\u001b[38;5;241;43m.\u001b[39;49m\u001b[43m_dataset_fetcher\u001b[49m\u001b[38;5;241;43m.\u001b[39;49m\u001b[43mfetch\u001b[49m\u001b[43m(\u001b[49m\u001b[43mindex\u001b[49m\u001b[43m)\u001b[49m  \u001b[38;5;66;03m# may raise StopIteration\u001b[39;00m\n\u001b[1;32m    476\u001b[0m     \u001b[38;5;28;01mif\u001b[39;00m \u001b[38;5;28mself\u001b[39m\u001b[38;5;241m.\u001b[39m_pin_memory:\n\u001b[1;32m    477\u001b[0m         data \u001b[38;5;241m=\u001b[39m _utils\u001b[38;5;241m.\u001b[39mpin_memory\u001b[38;5;241m.\u001b[39mpin_memory(data)\n",
      "File \u001b[0;32m~/.local/lib/python3.8/site-packages/torch/utils/data/_utils/fetch.py:47\u001b[0m, in \u001b[0;36m_MapDatasetFetcher.fetch\u001b[0;34m(self, possibly_batched_index)\u001b[0m\n\u001b[1;32m     45\u001b[0m \u001b[38;5;28;01melse\u001b[39;00m:\n\u001b[1;32m     46\u001b[0m     data \u001b[38;5;241m=\u001b[39m \u001b[38;5;28mself\u001b[39m\u001b[38;5;241m.\u001b[39mdataset[possibly_batched_index]\n\u001b[0;32m---> 47\u001b[0m \u001b[38;5;28;01mreturn\u001b[39;00m \u001b[38;5;28;43mself\u001b[39;49m\u001b[38;5;241;43m.\u001b[39;49m\u001b[43mcollate_fn\u001b[49m\u001b[43m(\u001b[49m\u001b[43mdata\u001b[49m\u001b[43m)\u001b[49m\n",
      "File \u001b[0;32m~/project/home/CDLAAT/main/dataloaders.py:115\u001b[0m, in \u001b[0;36mTextDataLoader._collate_fn\u001b[0;34m(self, batch)\u001b[0m\n\u001b[1;32m    113\u001b[0m desc \u001b[38;5;241m=\u001b[39m desc_torched\n\u001b[1;32m    114\u001b[0m \u001b[38;5;28;01mfor\u001b[39;00m i \u001b[38;5;129;01min\u001b[39;00m \u001b[38;5;28mrange\u001b[39m(\u001b[38;5;28mlen\u001b[39m(desc)):\n\u001b[0;32m--> 115\u001b[0m     desc[i] \u001b[38;5;241m=\u001b[39m \u001b[43mnn\u001b[49m\u001b[38;5;241;43m.\u001b[39;49m\u001b[43mConstantPad1d\u001b[49m\u001b[43m(\u001b[49m\u001b[43m(\u001b[49m\u001b[38;5;241;43m0\u001b[39;49m\u001b[43m,\u001b[49m\u001b[43m \u001b[49m\u001b[38;5;241;43m6\u001b[39;49m\u001b[43m \u001b[49m\u001b[38;5;241;43m-\u001b[39;49m\u001b[43m \u001b[49m\u001b[43mdesc\u001b[49m\u001b[43m[\u001b[49m\u001b[43mi\u001b[49m\u001b[43m]\u001b[49m\u001b[38;5;241;43m.\u001b[39;49m\u001b[43mshape\u001b[49m\u001b[43m[\u001b[49m\u001b[38;5;241;43m0\u001b[39;49m\u001b[43m]\u001b[49m\u001b[43m)\u001b[49m\u001b[43m,\u001b[49m\u001b[43m \u001b[49m\u001b[38;5;241;43m0\u001b[39;49m\u001b[43m)\u001b[49m\u001b[43m(\u001b[49m\u001b[43mdesc\u001b[49m\u001b[43m[\u001b[49m\u001b[43mi\u001b[49m\u001b[43m]\u001b[49m\u001b[43m)\u001b[49m\u001b[38;5;241;43m.\u001b[39;49m\u001b[43mtolist\u001b[49m()\n\u001b[1;32m    116\u001b[0m desc_batch\u001b[38;5;241m.\u001b[39mappend(desc)\n\u001b[1;32m    118\u001b[0m feature_length \u001b[38;5;241m=\u001b[39m \u001b[38;5;28mlen\u001b[39m(features)\n",
      "\u001b[0;31mKeyboardInterrupt\u001b[0m: "
     ]
    }
   ],
   "source": [
    "# (pos_wt = 2, lr = 0.001, lr scheduler)\n",
    "run_with_validation(training_data, valid_data, test_data, label_desc, vocab, saved_data_file_path=\"{}.data.pkl\".format(saved_vocab_path.split(\".pkl\")[0]))"
   ]
  },
  {
   "cell_type": "code",
   "execution_count": null,
   "id": "25ec8f76",
   "metadata": {},
   "outputs": [],
   "source": []
  }
 ],
 "metadata": {
  "kernelspec": {
   "display_name": "Python 3 (ipykernel)",
   "language": "python",
   "name": "python3"
  },
  "language_info": {
   "codemirror_mode": {
    "name": "ipython",
    "version": 3
   },
   "file_extension": ".py",
   "mimetype": "text/x-python",
   "name": "python",
   "nbconvert_exporter": "python",
   "pygments_lexer": "ipython3",
   "version": "3.8.10"
  }
 },
 "nbformat": 4,
 "nbformat_minor": 5
}
