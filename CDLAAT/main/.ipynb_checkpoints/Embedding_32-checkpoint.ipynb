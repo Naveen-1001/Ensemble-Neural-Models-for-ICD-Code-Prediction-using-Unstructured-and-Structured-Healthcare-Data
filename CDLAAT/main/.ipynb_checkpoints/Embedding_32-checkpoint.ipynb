{
 "cells": [
  {
   "cell_type": "code",
   "execution_count": 2,
   "id": "512b1564",
   "metadata": {},
   "outputs": [],
   "source": [
    "import csv\n",
    "import numpy as np\n",
    "import pandas as pd\n",
    "import operator\n",
    "from collections import defaultdict\n",
    "from scipy.sparse import csr_matrix\n",
    "import gensim.models.word2vec as w2v\n",
    "import gensim.models\n",
    "from tqdm.notebook import tqdm\n",
    "tqdm.pandas()"
   ]
  },
  {
   "cell_type": "code",
   "execution_count": 3,
   "id": "e84d8813",
   "metadata": {},
   "outputs": [],
   "source": [
    "data_path = '../data/'"
   ]
  },
  {
   "cell_type": "code",
   "execution_count": 4,
   "id": "aff996d6",
   "metadata": {},
   "outputs": [],
   "source": [
    "train_df = pd.read_csv(data_path + 'ensemble_train_32.csv')\n",
    "test_df = pd.read_csv(data_path + 'ensemble_test_32.csv')\n",
    "dev_df = pd.read_csv(data_path + 'ensemble_dev_32.csv')"
   ]
  },
  {
   "cell_type": "code",
   "execution_count": 6,
   "id": "2b782ca6",
   "metadata": {},
   "outputs": [
    {
     "name": "stderr",
     "output_type": "stream",
     "text": [
      "/tmp/ipykernel_666835/4143505273.py:1: FutureWarning: The frame.append method is deprecated and will be removed from pandas in a future version. Use pandas.concat instead.\n",
      "  all_32_df = train_df.append(test_df)\n",
      "/tmp/ipykernel_666835/4143505273.py:2: FutureWarning: The frame.append method is deprecated and will be removed from pandas in a future version. Use pandas.concat instead.\n",
      "  all_32_df = all_32_df.append(dev_df)\n"
     ]
    },
    {
     "data": {
      "text/html": [
       "<div>\n",
       "<style scoped>\n",
       "    .dataframe tbody tr th:only-of-type {\n",
       "        vertical-align: middle;\n",
       "    }\n",
       "\n",
       "    .dataframe tbody tr th {\n",
       "        vertical-align: top;\n",
       "    }\n",
       "\n",
       "    .dataframe thead th {\n",
       "        text-align: right;\n",
       "    }\n",
       "</style>\n",
       "<table border=\"1\" class=\"dataframe\">\n",
       "  <thead>\n",
       "    <tr style=\"text-align: right;\">\n",
       "      <th></th>\n",
       "      <th>SUBJECT_ID</th>\n",
       "      <th>HADM_ID</th>\n",
       "      <th>TEXT</th>\n",
       "      <th>ICD9_CODE</th>\n",
       "    </tr>\n",
       "  </thead>\n",
       "  <tbody>\n",
       "    <tr>\n",
       "      <th>0</th>\n",
       "      <td>4</td>\n",
       "      <td>185777</td>\n",
       "      <td>admission date date birth sex f service chief ...</td>\n",
       "      <td>R78.81</td>\n",
       "    </tr>\n",
       "    <tr>\n",
       "      <th>1</th>\n",
       "      <td>21</td>\n",
       "      <td>109451</td>\n",
       "      <td>admission date service medicine allergies pati...</td>\n",
       "      <td>N17.9;I25.10;E11.9;I48.91;I12.0</td>\n",
       "    </tr>\n",
       "    <tr>\n",
       "      <th>2</th>\n",
       "      <td>21</td>\n",
       "      <td>111970</td>\n",
       "      <td>admission date service medicine allergies pati...</td>\n",
       "      <td>D64.9;I25.10;E03.9;E11.9;R65.20;I48.91;R65.21;...</td>\n",
       "    </tr>\n",
       "    <tr>\n",
       "      <th>3</th>\n",
       "      <td>26</td>\n",
       "      <td>197661</td>\n",
       "      <td>admission date date birth sex service ccu hist...</td>\n",
       "      <td>I25.10;I48.91</td>\n",
       "    </tr>\n",
       "    <tr>\n",
       "      <th>4</th>\n",
       "      <td>31</td>\n",
       "      <td>128652</td>\n",
       "      <td>admission date date birth sex service neurolog...</td>\n",
       "      <td>I10;J18.9</td>\n",
       "    </tr>\n",
       "    <tr>\n",
       "      <th>...</th>\n",
       "      <td>...</td>\n",
       "      <td>...</td>\n",
       "      <td>...</td>\n",
       "      <td>...</td>\n",
       "    </tr>\n",
       "    <tr>\n",
       "      <th>1489</th>\n",
       "      <td>99389</td>\n",
       "      <td>196423</td>\n",
       "      <td>admission date date birth sex f service neuros...</td>\n",
       "      <td>N39.0;I25.10;I10;I48.91</td>\n",
       "    </tr>\n",
       "    <tr>\n",
       "      <th>1490</th>\n",
       "      <td>99783</td>\n",
       "      <td>126090</td>\n",
       "      <td>admission date date birth sex service cardioth...</td>\n",
       "      <td>N17.9;R65.20;I48.91;R65.21;D62</td>\n",
       "    </tr>\n",
       "    <tr>\n",
       "      <th>1491</th>\n",
       "      <td>99817</td>\n",
       "      <td>195557</td>\n",
       "      <td>admission date date birth sex service medicine...</td>\n",
       "      <td>N39.0;I25.10;N17.9;J18.9</td>\n",
       "    </tr>\n",
       "    <tr>\n",
       "      <th>1492</th>\n",
       "      <td>99830</td>\n",
       "      <td>176834</td>\n",
       "      <td>admission date date birth sex service cardioth...</td>\n",
       "      <td>N17.9;I10;E11.9;R65.20;I48.91;D62</td>\n",
       "    </tr>\n",
       "    <tr>\n",
       "      <th>1493</th>\n",
       "      <td>99985</td>\n",
       "      <td>176670</td>\n",
       "      <td>admission date date birth sex service medicine...</td>\n",
       "      <td>E03.9;D64.9;R65.21;R65.20</td>\n",
       "    </tr>\n",
       "  </tbody>\n",
       "</table>\n",
       "<p>17087 rows × 4 columns</p>\n",
       "</div>"
      ],
      "text/plain": [
       "      SUBJECT_ID  HADM_ID                                               TEXT  \\\n",
       "0              4   185777  admission date date birth sex f service chief ...   \n",
       "1             21   109451  admission date service medicine allergies pati...   \n",
       "2             21   111970  admission date service medicine allergies pati...   \n",
       "3             26   197661  admission date date birth sex service ccu hist...   \n",
       "4             31   128652  admission date date birth sex service neurolog...   \n",
       "...          ...      ...                                                ...   \n",
       "1489       99389   196423  admission date date birth sex f service neuros...   \n",
       "1490       99783   126090  admission date date birth sex service cardioth...   \n",
       "1491       99817   195557  admission date date birth sex service medicine...   \n",
       "1492       99830   176834  admission date date birth sex service cardioth...   \n",
       "1493       99985   176670  admission date date birth sex service medicine...   \n",
       "\n",
       "                                              ICD9_CODE  \n",
       "0                                                R78.81  \n",
       "1                       N17.9;I25.10;E11.9;I48.91;I12.0  \n",
       "2     D64.9;I25.10;E03.9;E11.9;R65.20;I48.91;R65.21;...  \n",
       "3                                         I25.10;I48.91  \n",
       "4                                             I10;J18.9  \n",
       "...                                                 ...  \n",
       "1489                            N39.0;I25.10;I10;I48.91  \n",
       "1490                     N17.9;R65.20;I48.91;R65.21;D62  \n",
       "1491                           N39.0;I25.10;N17.9;J18.9  \n",
       "1492                  N17.9;I10;E11.9;R65.20;I48.91;D62  \n",
       "1493                          E03.9;D64.9;R65.21;R65.20  \n",
       "\n",
       "[17087 rows x 4 columns]"
      ]
     },
     "execution_count": 6,
     "metadata": {},
     "output_type": "execute_result"
    }
   ],
   "source": [
    "all_32_df = train_df.append(test_df)\n",
    "all_32_df = all_32_df.append(dev_df)\n",
    "all_32_df"
   ]
  },
  {
   "cell_type": "code",
   "execution_count": 7,
   "id": "c5667e43",
   "metadata": {},
   "outputs": [],
   "source": [
    "df = all_32_df"
   ]
  },
  {
   "cell_type": "code",
   "execution_count": 16,
   "id": "2d8c9d5b",
   "metadata": {},
   "outputs": [],
   "source": [
    "df = pd.read_csv(data_path + 'all_50.csv')"
   ]
  },
  {
   "cell_type": "code",
   "execution_count": 17,
   "id": "0620b815",
   "metadata": {},
   "outputs": [
    {
     "data": {
      "text/html": [
       "<div>\n",
       "<style scoped>\n",
       "    .dataframe tbody tr th:only-of-type {\n",
       "        vertical-align: middle;\n",
       "    }\n",
       "\n",
       "    .dataframe tbody tr th {\n",
       "        vertical-align: top;\n",
       "    }\n",
       "\n",
       "    .dataframe thead th {\n",
       "        text-align: right;\n",
       "    }\n",
       "</style>\n",
       "<table border=\"1\" class=\"dataframe\">\n",
       "  <thead>\n",
       "    <tr style=\"text-align: right;\">\n",
       "      <th></th>\n",
       "      <th>SUBJECT_ID</th>\n",
       "      <th>HADM_ID</th>\n",
       "      <th>TEXT</th>\n",
       "      <th>ICD9_CODE</th>\n",
       "      <th>ICD10_CODE</th>\n",
       "    </tr>\n",
       "  </thead>\n",
       "  <tbody>\n",
       "    <tr>\n",
       "      <th>0</th>\n",
       "      <td>17</td>\n",
       "      <td>161087</td>\n",
       "      <td>admission date date birth sex f service cardio...</td>\n",
       "      <td>38.93;272.4;511.9;88.72;311</td>\n",
       "      <td>02H633Z;E78.4;J91.8;B244YZZ;F32.9</td>\n",
       "    </tr>\n",
       "    <tr>\n",
       "      <th>1</th>\n",
       "      <td>20</td>\n",
       "      <td>157681</td>\n",
       "      <td>admission date date birth sex f service histor...</td>\n",
       "      <td>272.4;36.15;414.01;401.9;250.00;39.61</td>\n",
       "      <td>E78.4;0210088;I25.10;I10;E11.9;5A1221Z</td>\n",
       "    </tr>\n",
       "    <tr>\n",
       "      <th>2</th>\n",
       "      <td>33</td>\n",
       "      <td>176176</td>\n",
       "      <td>admission date service history present illness...</td>\n",
       "      <td>038.9</td>\n",
       "      <td>A41.9</td>\n",
       "    </tr>\n",
       "    <tr>\n",
       "      <th>3</th>\n",
       "      <td>38</td>\n",
       "      <td>185910</td>\n",
       "      <td>admission date date birth sex service urology ...</td>\n",
       "      <td>96.72;995.92;96.6;38.93;427.31;038.9;428.0;584...</td>\n",
       "      <td>5A1955Z;R65.20;0DH67UZ;02H633Z;I48.91;A41.9;I5...</td>\n",
       "    </tr>\n",
       "    <tr>\n",
       "      <th>4</th>\n",
       "      <td>41</td>\n",
       "      <td>101757</td>\n",
       "      <td>admission date date birth sex service medicine...</td>\n",
       "      <td>96.71;507.0;285.9;96.6;38.93;401.9;99.04;305.1...</td>\n",
       "      <td>5A1935Z;J69.0;D64.9;0DH67UZ;02H633Z;I10;30233N...</td>\n",
       "    </tr>\n",
       "  </tbody>\n",
       "</table>\n",
       "</div>"
      ],
      "text/plain": [
       "   SUBJECT_ID  HADM_ID                                               TEXT  \\\n",
       "0          17   161087  admission date date birth sex f service cardio...   \n",
       "1          20   157681  admission date date birth sex f service histor...   \n",
       "2          33   176176  admission date service history present illness...   \n",
       "3          38   185910  admission date date birth sex service urology ...   \n",
       "4          41   101757  admission date date birth sex service medicine...   \n",
       "\n",
       "                                           ICD9_CODE  \\\n",
       "0                        38.93;272.4;511.9;88.72;311   \n",
       "1              272.4;36.15;414.01;401.9;250.00;39.61   \n",
       "2                                              038.9   \n",
       "3  96.72;995.92;96.6;38.93;427.31;038.9;428.0;584...   \n",
       "4  96.71;507.0;285.9;96.6;38.93;401.9;99.04;305.1...   \n",
       "\n",
       "                                          ICD10_CODE  \n",
       "0                  02H633Z;E78.4;J91.8;B244YZZ;F32.9  \n",
       "1             E78.4;0210088;I25.10;I10;E11.9;5A1221Z  \n",
       "2                                              A41.9  \n",
       "3  5A1955Z;R65.20;0DH67UZ;02H633Z;I48.91;A41.9;I5...  \n",
       "4  5A1935Z;J69.0;D64.9;0DH67UZ;02H633Z;I10;30233N...  "
      ]
     },
     "execution_count": 17,
     "metadata": {},
     "output_type": "execute_result"
    }
   ],
   "source": [
    "df.head()"
   ]
  },
  {
   "cell_type": "code",
   "execution_count": 9,
   "id": "a020f4ba",
   "metadata": {},
   "outputs": [],
   "source": [
    "labeldf = pd.read_csv(data_path + 'D_ICD_32.csv')"
   ]
  },
  {
   "cell_type": "code",
   "execution_count": 10,
   "id": "0c65af34",
   "metadata": {},
   "outputs": [
    {
     "data": {
      "text/html": [
       "<div>\n",
       "<style scoped>\n",
       "    .dataframe tbody tr th:only-of-type {\n",
       "        vertical-align: middle;\n",
       "    }\n",
       "\n",
       "    .dataframe tbody tr th {\n",
       "        vertical-align: top;\n",
       "    }\n",
       "\n",
       "    .dataframe thead th {\n",
       "        text-align: right;\n",
       "    }\n",
       "</style>\n",
       "<table border=\"1\" class=\"dataframe\">\n",
       "  <thead>\n",
       "    <tr style=\"text-align: right;\">\n",
       "      <th></th>\n",
       "      <th>ICD9_CODE</th>\n",
       "      <th>DESC</th>\n",
       "    </tr>\n",
       "  </thead>\n",
       "  <tbody>\n",
       "    <tr>\n",
       "      <th>0</th>\n",
       "      <td>E11.9</td>\n",
       "      <td>Diabetes mellitus without mention of complicat...</td>\n",
       "    </tr>\n",
       "    <tr>\n",
       "      <th>1</th>\n",
       "      <td>E46</td>\n",
       "      <td>Other protein-calorie malnutrition</td>\n",
       "    </tr>\n",
       "    <tr>\n",
       "      <th>2</th>\n",
       "      <td>E03.9</td>\n",
       "      <td>Unspecified acquired hypothyroidism</td>\n",
       "    </tr>\n",
       "    <tr>\n",
       "      <th>3</th>\n",
       "      <td>E66.9</td>\n",
       "      <td>Obesity, unspecified</td>\n",
       "    </tr>\n",
       "    <tr>\n",
       "      <th>4</th>\n",
       "      <td>E66.01</td>\n",
       "      <td>Morbid obesity</td>\n",
       "    </tr>\n",
       "  </tbody>\n",
       "</table>\n",
       "</div>"
      ],
      "text/plain": [
       "  ICD9_CODE                                               DESC\n",
       "0     E11.9  Diabetes mellitus without mention of complicat...\n",
       "1       E46                 Other protein-calorie malnutrition\n",
       "2     E03.9                Unspecified acquired hypothyroidism\n",
       "3     E66.9                               Obesity, unspecified\n",
       "4    E66.01                                     Morbid obesity"
      ]
     },
     "execution_count": 10,
     "metadata": {},
     "output_type": "execute_result"
    }
   ],
   "source": [
    "labeldf.head()"
   ]
  },
  {
   "cell_type": "markdown",
   "id": "3c74540f",
   "metadata": {},
   "source": [
    "### Build Vocab"
   ]
  },
  {
   "cell_type": "code",
   "execution_count": 12,
   "id": "2f897f50",
   "metadata": {},
   "outputs": [],
   "source": [
    "types = set()\n",
    "for row in df.itertuples():\n",
    "    for w in row[-2].split(' '):\n",
    "        types.add(w)"
   ]
  },
  {
   "cell_type": "code",
   "execution_count": 13,
   "id": "db92e328",
   "metadata": {},
   "outputs": [
    {
     "data": {
      "text/plain": [
       "89942"
      ]
     },
     "execution_count": 13,
     "metadata": {},
     "output_type": "execute_result"
    }
   ],
   "source": [
    "len(types)"
   ]
  },
  {
   "cell_type": "code",
   "execution_count": 14,
   "id": "3e7d4b8d",
   "metadata": {},
   "outputs": [],
   "source": [
    "for row in labeldf.itertuples():\n",
    "    for w in row[-1].split(' '):\n",
    "        types.add(w)"
   ]
  },
  {
   "cell_type": "code",
   "execution_count": 15,
   "id": "9296169c",
   "metadata": {},
   "outputs": [
    {
     "data": {
      "text/plain": [
       "89991"
      ]
     },
     "execution_count": 15,
     "metadata": {},
     "output_type": "execute_result"
    }
   ],
   "source": [
    "len(types)"
   ]
  },
  {
   "cell_type": "code",
   "execution_count": 16,
   "id": "42e31022",
   "metadata": {},
   "outputs": [],
   "source": [
    "vocab_list = list(types)"
   ]
  },
  {
   "cell_type": "code",
   "execution_count": 17,
   "id": "8af54054",
   "metadata": {},
   "outputs": [],
   "source": [
    "vocab_list.sort()"
   ]
  },
  {
   "cell_type": "code",
   "execution_count": 18,
   "id": "3c088694",
   "metadata": {},
   "outputs": [],
   "source": [
    "with open(data_path + 'vocab.csv', 'w') as vocab_file:\n",
    "    for word in vocab_list:\n",
    "        vocab_file.write(word + \"\\n\")"
   ]
  },
  {
   "cell_type": "markdown",
   "id": "5bf12416",
   "metadata": {},
   "source": [
    "### Pre-train word embeddings"
   ]
  },
  {
   "cell_type": "code",
   "execution_count": 19,
   "id": "209ac820",
   "metadata": {},
   "outputs": [
    {
     "data": {
      "application/vnd.jupyter.widget-view+json": {
       "model_id": "e64b0b099b494a85b7e0ca3f79e3e0e3",
       "version_major": 2,
       "version_minor": 0
      },
      "text/plain": [
       "  0%|          | 0/17087 [00:00<?, ?it/s]"
      ]
     },
     "metadata": {},
     "output_type": "display_data"
    }
   ],
   "source": [
    "textsentences = df.progress_apply(lambda row: str(row['TEXT']).split(), axis=1)"
   ]
  },
  {
   "cell_type": "code",
   "execution_count": 20,
   "id": "131b4bdf",
   "metadata": {},
   "outputs": [
    {
     "data": {
      "application/vnd.jupyter.widget-view+json": {
       "model_id": "54ea79a00169450fb25a69afd4857c09",
       "version_major": 2,
       "version_minor": 0
      },
      "text/plain": [
       "  0%|          | 0/32 [00:00<?, ?it/s]"
      ]
     },
     "metadata": {},
     "output_type": "display_data"
    }
   ],
   "source": [
    "labelsentences = labeldf.progress_apply(lambda row: str(row['DESC']).split(), axis=1)"
   ]
  },
  {
   "cell_type": "code",
   "execution_count": 21,
   "id": "eeff8adf",
   "metadata": {},
   "outputs": [],
   "source": [
    "sentences = pd.concat([textsentences,labelsentences])"
   ]
  },
  {
   "cell_type": "code",
   "execution_count": 22,
   "id": "c191d44f",
   "metadata": {},
   "outputs": [],
   "source": [
    "model = w2v.Word2Vec(vector_size=100, min_count=0, workers=4, epochs=50)\n",
    "model.build_vocab(sentences)"
   ]
  },
  {
   "cell_type": "code",
   "execution_count": 23,
   "id": "4757b249",
   "metadata": {},
   "outputs": [
    {
     "data": {
      "text/plain": [
       "(978003656, 1041306250)"
      ]
     },
     "execution_count": 23,
     "metadata": {},
     "output_type": "execute_result"
    }
   ],
   "source": [
    "model.train(sentences, total_examples=model.corpus_count, epochs=model.epochs)"
   ]
  },
  {
   "cell_type": "code",
   "execution_count": 24,
   "id": "14a4b575",
   "metadata": {},
   "outputs": [
    {
     "data": {
      "text/plain": [
       "[('fevers', 0.912713348865509),\n",
       " ('temperatures', 0.6981709003448486),\n",
       " ('yestderday', 0.6981277465820312),\n",
       " ('temps', 0.6843907833099365),\n",
       " ('temperature', 0.6769816875457764),\n",
       " ('coughin', 0.6671100854873657),\n",
       " ('temprature', 0.6273037791252136),\n",
       " ('temp', 0.6269897222518921),\n",
       " ('febrile', 0.6213597059249878),\n",
       " ('condused', 0.6149826645851135)]"
      ]
     },
     "execution_count": 24,
     "metadata": {},
     "output_type": "execute_result"
    }
   ],
   "source": [
    "model.wv.most_similar('fever', topn=10)"
   ]
  },
  {
   "cell_type": "code",
   "execution_count": 25,
   "id": "01d1c32c",
   "metadata": {},
   "outputs": [],
   "source": [
    "model.save(data_path + 'processed_32.w2v')"
   ]
  },
  {
   "cell_type": "markdown",
   "id": "efff542a",
   "metadata": {},
   "source": [
    "### Map words with its embeddings"
   ]
  },
  {
   "cell_type": "code",
   "execution_count": 26,
   "id": "2f1a8f41",
   "metadata": {},
   "outputs": [],
   "source": [
    "model = gensim.models.Word2Vec.load(data_path + 'processed_32.w2v')\n",
    "wv = model.wv                             "
   ]
  },
  {
   "cell_type": "code",
   "execution_count": 27,
   "id": "0f44f7c9",
   "metadata": {},
   "outputs": [],
   "source": [
    "vocabdf = pd.read_csv(data_path+'vocab.csv',names=['word'],header=None,on_bad_lines='skip')"
   ]
  },
  {
   "cell_type": "code",
   "execution_count": 28,
   "id": "c6618858",
   "metadata": {},
   "outputs": [],
   "source": [
    "vocab = set(vocabdf['word'])"
   ]
  },
  {
   "cell_type": "code",
   "execution_count": 29,
   "id": "e62fc371",
   "metadata": {},
   "outputs": [],
   "source": [
    "ind2w = {i+1:w for i,w in enumerate(sorted(vocab))}"
   ]
  },
  {
   "cell_type": "code",
   "execution_count": 30,
   "id": "95341d01",
   "metadata": {},
   "outputs": [
    {
     "data": {
      "application/vnd.jupyter.widget-view+json": {
       "model_id": "72e8740675b44f3eacccee97f905d204",
       "version_major": 2,
       "version_minor": 0
      },
      "text/plain": [
       "  0%|          | 0/89978 [00:00<?, ?it/s]"
      ]
     },
     "metadata": {},
     "output_type": "display_data"
    }
   ],
   "source": [
    "PAD_CHAR = \"**PAD**\"\n",
    "W = np.zeros((len(ind2w)+1, len(wv.get_vector(wv.index_to_key[0])) ))\n",
    "words = [PAD_CHAR]\n",
    "W[0][:] = np.zeros(len(wv.get_vector(wv.index_to_key[0])))\n",
    "for idx, word in tqdm(ind2w.items()):\n",
    "    if idx >= W.shape[0]:\n",
    "        break    \n",
    "    W[idx][:] = wv.get_vector(word)\n",
    "    words.append(word)"
   ]
  },
  {
   "cell_type": "code",
   "execution_count": 31,
   "id": "eb683d91",
   "metadata": {},
   "outputs": [
    {
     "data": {
      "text/plain": [
       "89979"
      ]
     },
     "execution_count": 31,
     "metadata": {},
     "output_type": "execute_result"
    }
   ],
   "source": [
    "W.shape[0]"
   ]
  },
  {
   "cell_type": "code",
   "execution_count": 32,
   "id": "99e32d68",
   "metadata": {},
   "outputs": [],
   "source": [
    "with open(data_path + 'processed_32.embed', 'w') as o:\n",
    "    #pad token already included\n",
    "    for i in range(len(words)):\n",
    "        line = [words[i]]\n",
    "        line.extend([str(d) for d in W[i]])\n",
    "        o.write(\" \".join(line) + \"\\n\")"
   ]
  },
  {
   "cell_type": "code",
   "execution_count": null,
   "id": "c01e02a8",
   "metadata": {},
   "outputs": [],
   "source": []
  }
 ],
 "metadata": {
  "kernelspec": {
   "display_name": "Python 3 (ipykernel)",
   "language": "python",
   "name": "python3"
  },
  "language_info": {
   "codemirror_mode": {
    "name": "ipython",
    "version": 3
   },
   "file_extension": ".py",
   "mimetype": "text/x-python",
   "name": "python",
   "nbconvert_exporter": "python",
   "pygments_lexer": "ipython3",
   "version": "3.8.10"
  }
 },
 "nbformat": 4,
 "nbformat_minor": 5
}
