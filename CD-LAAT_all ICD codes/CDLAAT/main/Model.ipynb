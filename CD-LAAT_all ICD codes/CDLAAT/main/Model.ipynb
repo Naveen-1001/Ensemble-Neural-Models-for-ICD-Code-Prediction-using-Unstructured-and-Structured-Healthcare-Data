{
 "cells": [
  {
   "cell_type": "code",
   "execution_count": 1,
   "id": "6a9cb6ed",
   "metadata": {},
   "outputs": [
    {
     "name": "stderr",
     "output_type": "stream",
     "text": [
      "2022-12-11 23:59:46.451840: I tensorflow/core/platform/cpu_feature_guard.cc:193] This TensorFlow binary is optimized with oneAPI Deep Neural Network Library (oneDNN) to use the following CPU instructions in performance-critical operations:  AVX2 AVX512F FMA\n",
      "To enable them in other operations, rebuild TensorFlow with the appropriate compiler flags.\n",
      "2022-12-11 23:59:46.647044: E tensorflow/stream_executor/cuda/cuda_blas.cc:2981] Unable to register cuBLAS factory: Attempting to register factory for plugin cuBLAS when one has already been registered\n"
     ]
    }
   ],
   "source": [
    "import os\n",
    "import copy\n",
    "import torch\n",
    "import pickle\n",
    "import pprint\n",
    "import random\n",
    "import shutil\n",
    "import random\n",
    "import torch\n",
    "import hashlib\n",
    "import numpy as np\n",
    "import pandas as pd\n",
    "from rnn import RNN\n",
    "import torch.nn as nn\n",
    "from vocab import Vocab\n",
    "from torch import optim\n",
    "from util import *\n",
    "from constants import *\n",
    "from evaluator import Evaluator\n",
    "from tqdm.notebook import tqdm\n",
    "from sklearn.metrics import *\n",
    "from transformers import AdamW\n",
    "from collections import Counter\n",
    "import torch.nn.functional as F\n",
    "from collections import OrderedDict\n",
    "from torch.autograd import Variable\n",
    "from sklearn.preprocessing import *\n",
    "from embedding_layer import EmbeddingLayer\n",
    "from attention_layer import AttentionLayer\n",
    "from torch.nn.utils.rnn import pad_sequence\n",
    "from gensim.models.word2vec import Word2Vec\n",
    "from dataloaders import TextDataLoader, TextDataset\n",
    "from gensim.models.keyedvectors import KeyedVectors\n",
    "from torch.nn.utils.rnn import pack_padded_sequence, pad_packed_sequence\n",
    "\n",
    "device = torch.device('cuda:0' if torch.cuda.is_available() else 'cpu')\n",
    "tqdm.pandas()"
   ]
  },
  {
   "cell_type": "code",
   "execution_count": 2,
   "id": "4c726f6b",
   "metadata": {},
   "outputs": [
    {
     "name": "stdout",
     "output_type": "stream",
     "text": [
      "Sun Dec 11 23:59:51 2022       \r\n",
      "+-----------------------------------------------------------------------------+\r\n",
      "| NVIDIA-SMI 460.32.03    Driver Version: 460.32.03    CUDA Version: 11.2     |\r\n",
      "|-------------------------------+----------------------+----------------------+\r\n",
      "| GPU  Name        Persistence-M| Bus-Id        Disp.A | Volatile Uncorr. ECC |\r\n",
      "| Fan  Temp  Perf  Pwr:Usage/Cap|         Memory-Usage | GPU-Util  Compute M. |\r\n",
      "|                               |                      |               MIG M. |\r\n",
      "|===============================+======================+======================|\r\n",
      "|   0  Tesla V100-SXM2...  Off  | 00000000:62:00.0 Off |                    0 |\r\n",
      "| N/A   49C    P0    58W / 300W |      3MiB / 32510MiB |      0%      Default |\r\n",
      "|                               |                      |                  N/A |\r\n",
      "+-------------------------------+----------------------+----------------------+\r\n",
      "|   1  Tesla V100-SXM2...  Off  | 00000000:89:00.0 Off |                    0 |\r\n",
      "| N/A   49C    P0    56W / 300W |      3MiB / 32510MiB |      4%      Default |\r\n",
      "|                               |                      |                  N/A |\r\n",
      "+-------------------------------+----------------------+----------------------+\r\n",
      "                                                                               \r\n",
      "+-----------------------------------------------------------------------------+\r\n",
      "| Processes:                                                                  |\r\n",
      "|  GPU   GI   CI        PID   Type   Process name                  GPU Memory |\r\n",
      "|        ID   ID                                                   Usage      |\r\n",
      "|=============================================================================|\r\n",
      "|  No running processes found                                                 |\r\n",
      "+-----------------------------------------------------------------------------+\r\n"
     ]
    }
   ],
   "source": [
    "!nvidia-smi"
   ]
  },
  {
   "cell_type": "code",
   "execution_count": 3,
   "id": "f3ca0316",
   "metadata": {},
   "outputs": [
    {
     "data": {
      "text/plain": [
       "device(type='cuda', index=0)"
      ]
     },
     "execution_count": 3,
     "metadata": {},
     "output_type": "execute_result"
    }
   ],
   "source": [
    "device"
   ]
  },
  {
   "cell_type": "code",
   "execution_count": 4,
   "id": "fc5dfc3b",
   "metadata": {},
   "outputs": [],
   "source": [
    "def read_data(file_path) -> list:\n",
    "    data = pd.read_csv(file_path, on_bad_lines='skip')\n",
    "    id_data = data[id_col_name]\n",
    "    text_data = data[text_col_name]\n",
    "    hierarchical_label_data = []\n",
    "    label_data = data[label_col_name].tolist()\n",
    "    output = []\n",
    "    for i in tqdm(range(len(label_data)), desc=\"Reading data\"):\n",
    "        labels = label_data[i].split(' ')\n",
    "        output.append((text_data[i], labels, id_data[i]))\n",
    "    return output"
   ]
  },
  {
   "cell_type": "code",
   "execution_count": 5,
   "id": "9c9c1c4c",
   "metadata": {},
   "outputs": [],
   "source": [
    "def read_labeldesc(file_path) -> list:\n",
    "    data = pd.read_csv(file_path)\n",
    "    desc_data = data[desc_col_name].tolist()\n",
    "    label_data = data[label_col_name].tolist()\n",
    "    output = []\n",
    "    for i in tqdm(range(len(label_data)), desc=\"Reading Label Descriptions\"):\n",
    "        output.append((label_data[i], desc_data[i]))\n",
    "    return output"
   ]
  },
  {
   "cell_type": "code",
   "execution_count": 6,
   "id": "a07b35fe",
   "metadata": {},
   "outputs": [],
   "source": [
    "def load_cached_data(file_path: str) -> tuple:\n",
    "    with open(file_path, 'rb') as f:\n",
    "        data = pickle.load(f)\n",
    "        f.close()\n",
    "    return data[\"vocab\"], data[\"training_data\"], data[\"valid_data\"], data[\"test_data\"],data[\"label_desc\"]"
   ]
  },
  {
   "cell_type": "code",
   "execution_count": 7,
   "id": "3f6718ae",
   "metadata": {},
   "outputs": [],
   "source": [
    "def prepare_data():\n",
    "    cache_folder = \"{}/{}\".format(cache_dir, \"mimic3_single_50\")\n",
    "#     device_name = 'cuda' if torch.cuda.is_available() else 'cpu'\n",
    "    save_vocab_file_name = \"{}.pkl\".format(\"save_vocab\")\n",
    "    cached_file_name = os.path.join(cache_folder, save_vocab_file_name)\n",
    "    if os.path.exists(cached_file_name):\n",
    "        vocab, training_data, valid_data, test_data, label_desc = load_cached_data(cached_file_name)\n",
    "        data = training_data + valid_data + test_data\n",
    "        labels = []\n",
    "        for (feature, l, _) in data:\n",
    "            labels.extend(l)\n",
    "        unique_labels=list(set(labels))\n",
    "        n_labels = len(unique_labels)\n",
    "        labels = unique_labels\n",
    "        vocab.update_labels(labels)\n",
    "        print(\"Loaded vocab and data from file\")\n",
    "    else:\n",
    "        training_data = read_data( data_dir + \"/train_full.csv\")\n",
    "        valid_data = read_data( data_dir + \"/dev_full.csv\")\n",
    "        test_data = read_data( data_dir + \"/test_full.csv\")\n",
    "        label_desc = read_labeldesc(data_dir + \"/D_ICD_full.csv\")\n",
    "        data = training_data + valid_data + test_data\n",
    "        labels = []\n",
    "        for (feature, l, _) in data:\n",
    "            labels.extend(l)\n",
    "        unique_labels=list(set(labels))\n",
    "        n_labels = len(unique_labels)\n",
    "        print(\"No of labels: \",n_labels)\n",
    "        labels = unique_labels\n",
    "        vocab = Vocab(data, labels,label_desc,min_word_frequency,\n",
    "                          word_embedding_mode=embedding_mode,\n",
    "                          word_embedding_file=embedding_file)\n",
    "        print(\"Preparing the vocab\")\n",
    "        vocab.prepare_vocab()\n",
    "        saved_objects = {\"vocab\": vocab,\n",
    "                         \"training_data\": training_data,\n",
    "                         \"valid_data\": valid_data,\n",
    "                         \"test_data\": test_data,\n",
    "                         \"label_desc\": label_desc}\n",
    "        with open(cached_file_name, 'wb') as f:\n",
    "            pickle.dump(saved_objects, f, pickle.HIGHEST_PROTOCOL)\n",
    "            f.close()\n",
    "        print(\"Saved vocab and data to files\")\n",
    "    return training_data, valid_data, test_data ,label_desc, vocab,cached_file_name"
   ]
  },
  {
   "cell_type": "code",
   "execution_count": 8,
   "id": "cb8dcb0c",
   "metadata": {},
   "outputs": [
    {
     "name": "stdout",
     "output_type": "stream",
     "text": [
      "Loaded vocab and data from file\n"
     ]
    }
   ],
   "source": [
    "training_data, valid_data, test_data, label_desc, vocab, saved_vocab_path = prepare_data()"
   ]
  },
  {
   "cell_type": "code",
   "execution_count": 9,
   "id": "e1d85c9f",
   "metadata": {},
   "outputs": [
    {
     "data": {
      "text/plain": [
       "RNN(\n",
       "  (embedding): EmbeddingLayer(\n",
       "    (embeddings): Embedding(66379, 100)\n",
       "  )\n",
       "  (label_linear): Linear(in_features=100, out_features=256, bias=True)\n",
       "  (rnn): LSTM(100, 256, bidirectional=True)\n",
       "  (dropout): Dropout(p=0.3, inplace=False)\n",
       "  (attention): AttentionLayer(\n",
       "    (first_linear): Linear(in_features=512, out_features=256, bias=False)\n",
       "    (second_linear): Linear(in_features=256, out_features=8907, bias=False)\n",
       "    (third_linear): Linear(in_features=512, out_features=256, bias=False)\n",
       "  )\n",
       "  (classification_layer): Linear(in_features=256, out_features=8907, bias=True)\n",
       ")"
      ]
     },
     "execution_count": 9,
     "metadata": {},
     "output_type": "execute_result"
    }
   ],
   "source": [
    "model = RNN(vocab, device)\n",
    "model"
   ]
  },
  {
   "cell_type": "code",
   "execution_count": 10,
   "id": "3e2041d7",
   "metadata": {},
   "outputs": [],
   "source": [
    "class Trainer:\n",
    "    def __init__(self, model: nn.Module,\n",
    "                 train_dataloader: TextDataLoader,\n",
    "                 valid_dataloader: TextDataLoader,\n",
    "                 test_dataloader: TextDataLoader,\n",
    "                 criterions,\n",
    "                 optimiser,\n",
    "                 scheduler,\n",
    "                 vocab,\n",
    "                 checkpoint_path,\n",
    "                 ):\n",
    "        self.model = model\n",
    "        self.train_dataloader = train_dataloader\n",
    "        self.valid_dataloader = valid_dataloader\n",
    "        self.test_dataloader = test_dataloader\n",
    "        self.criterions = criterions\n",
    "        self.optimiser = optimiser\n",
    "        self.scheduler = scheduler\n",
    "        self.vocab = vocab\n",
    "        self.multilabel = multilabel\n",
    "        self.checkpoint_path = checkpoint_path\n",
    "        self.n_training_labels = n_labels\n",
    "        self.saved_result_path = '../model/results.pkl'\n",
    "        self.main_metric = main_metric\n",
    "        self.start_epoch = 0\n",
    "        self.best_val = None\n",
    "        self.saved_test_scores = None\n",
    "        self.best_epoch_num = 1\n",
    "\n",
    "    def train_single_epoch(self, index):\n",
    "        self.model.train()\n",
    "        self.train_dataloader.dataset.shuffle_data()\n",
    "        losses = []\n",
    "        true_labels = []\n",
    "        pred_probs = []\n",
    "        ids = []\n",
    "        all_loss_list = []\n",
    "        progress_bar = tqdm(self.train_dataloader, unit=\"batches\", desc=\"Training at epoch #{}\".format(index))\n",
    "        progress_bar.clear()\n",
    "        self.optimiser.zero_grad()\n",
    "        batch_id = 0\n",
    "\n",
    "        for text_batch, label_batch, length_batch, id_batch,desc_batch in progress_bar:\n",
    "            batch_id += 1\n",
    "            text_batch = text_batch.to(device)\n",
    "            label_batch = label_batch.to(device)\n",
    "            length_batch = length_batch.to(device)\n",
    "            desc_batch = desc_batch.to(device)\n",
    "            true_labels.extend(label_batch.cpu().numpy())\n",
    "            ids.extend(id_batch)\n",
    "            output = self.model(text_batch, length_batch,desc_batch)\n",
    "            loss_list = []\n",
    "            loss_list = self.criterions(output, label_batch)\n",
    "            all_loss_list.append([loss_list.item()])\n",
    "            output = torch.sigmoid(output)\n",
    "            output = output.detach().cpu().numpy()\n",
    "            pred_probs.extend(output)\n",
    "            loss = get_loss(loss_list, self.n_training_labels)\n",
    "            loss.backward()\n",
    "            losses.append(loss.item())\n",
    "            self.optimiser.step()\n",
    "            self.optimiser.zero_grad()\n",
    "\n",
    "        scores = OrderedDict()\n",
    "        scores = calculate_eval_metrics(ids, true_labels,pred_probs, self.multilabel)\n",
    "        scores[\"loss\"] = np.mean(all_loss_list).item()\n",
    "        scores[\"average\"] = np.mean(losses).item()\n",
    "        progress_bar.refresh(True)\n",
    "        progress_bar.clear(True)\n",
    "        progress_bar.close()\n",
    "        keys = ['micro_auc', 'macro_auc', 'micro_f1', 'macro_f1', 'macro_P@5', 'macro_P@8', 'macro_P@15', 'loss']\n",
    "        print({k:v for k,v in scores.items() if k in keys})\n",
    "        return scores\n",
    "\n",
    "\n",
    "    @staticmethod\n",
    "    def format_number(number):\n",
    "        return abs(round(number, ndigits=ndigits))\n",
    "\n",
    "    def train(self,n_epoch: int = 100):\n",
    "        best_valid_scores = self.best_val\n",
    "        saved_test_scores = self.saved_test_scores\n",
    "        saved_train_scores = None\n",
    "        best_epoch_num = self.best_epoch_num\n",
    "        evaluator = Evaluator(self.model, self.vocab, self.criterions, self.n_training_labels,device)\n",
    "        for e in range(self.start_epoch + 1, n_epoch + 1):\n",
    "            train_scores = self.train_single_epoch(e)\n",
    "            epoch_loss = train_scores[\"average\"]\n",
    "            valid_scores = evaluator.evaluate(self.valid_dataloader)\n",
    "            test_scores = evaluator.evaluate(self.test_dataloader)\n",
    "            self.scheduler.step(test_scores[\"average\"])\n",
    "            print('lr {}'.format(self.optimiser.param_groups[0]['lr']))\n",
    "            keys = ['micro_auc', 'macro_auc', 'micro_f1', 'macro_f1', 'macro_P@5', 'macro_P@8', 'macro_P@15', 'loss']\n",
    "            print({k:v for k,v in test_scores.items() if k in keys})\n",
    "            print('\\n\\n')\n",
    "            \n",
    "            if best_valid_scores is None or best_valid_scores[self.main_metric] < valid_scores[self.main_metric]:\n",
    "                best_valid_scores = valid_scores\n",
    "                saved_test_scores = test_scores\n",
    "                saved_train_scores = train_scores\n",
    "                best_epoch_num = e\n",
    "                \n",
    "\n",
    "                    \n",
    "        results = {\"train\": saved_train_scores, \"valid\": best_valid_scores, \"test\": saved_test_scores,\n",
    "                    \"index2label\": self.vocab.index2label}\n",
    "        with open(self.saved_result_path, 'wb') as f:\n",
    "            pickle.dump(results, f, pickle.HIGHEST_PROTOCOL)\n",
    "                \n",
    "        return self.model, best_valid_scores"
   ]
  },
  {
   "cell_type": "code",
   "execution_count": 11,
   "id": "5b54069d",
   "metadata": {},
   "outputs": [],
   "source": [
    "def _load_and_cache_data(train_data, valid_data, test_data, label_desc, vocab, saved_data_file_path):\n",
    "    if os.path.exists(saved_data_file_path):\n",
    "        try:\n",
    "            with open(saved_data_file_path, 'rb') as f:\n",
    "                data = pickle.load(f)\n",
    "                data[\"train\"].multilabel = bool(multilabel)\n",
    "                data[\"valid\"].multilabel = bool(multilabel)\n",
    "                data[\"test\"].multilabel = bool(multilabel)\n",
    "\n",
    "                return data[\"train\"], data[\"valid\"], data[\"test\"]\n",
    "        except:\n",
    "            pass\n",
    "\n",
    "    # Build train/valid/test data loaders\n",
    "    train_dataset = TextDataset(train_data, vocab, label_desc,max_seq_length=max_seq_length,min_seq_length=min_seq_length,sort=True,multilabel=multilabel)\n",
    "\n",
    "    valid_dataset = TextDataset(valid_data, vocab, label_desc,max_seq_length=max_seq_length,min_seq_length=min_seq_length,sort=True,multilabel=multilabel)\n",
    "\n",
    "    test_dataset = TextDataset(test_data, vocab, label_desc,max_seq_length=max_seq_length,min_seq_length=min_seq_length,sort=True, multilabel=multilabel)\n",
    "    # try:\n",
    "    with open(saved_data_file_path, 'wb') as f:\n",
    "        data = {\"train\": train_dataset, \"valid\": valid_dataset, \"test\": test_dataset}\n",
    "        pickle.dump(data, f, pickle.HIGHEST_PROTOCOL)\n",
    "    \n",
    "    return train_dataset, valid_dataset, test_dataset"
   ]
  },
  {
   "cell_type": "code",
   "execution_count": 12,
   "id": "ee0e163b",
   "metadata": {},
   "outputs": [],
   "source": [
    "def _train_model(train_data, valid_data, test_data, label_desc, vocab, saved_data_file_path=None,checkpoint_path=None):\n",
    "    model = RNN(vocab,device)\n",
    "    init_state_dict = None\n",
    "    if init_state_dict is not None:\n",
    "        model.load_state_dict(init_state_dict)\n",
    "    model.to(device)\n",
    "\n",
    "    train_dataset, valid_dataset, test_dataset = _load_and_cache_data(train_data, valid_data, test_data, label_desc,\n",
    "                                                                      vocab, saved_data_file_path)\n",
    "    train_dataloader = TextDataLoader(dataset=train_dataset, vocab=vocab, batch_size=batch_size)\n",
    "\n",
    "    valid_dataloader = TextDataLoader(dataset=valid_dataset, vocab=vocab, batch_size=batch_size)\n",
    "\n",
    "    test_dataloader = TextDataLoader(dataset=test_dataset, vocab=vocab, batch_size=batch_size)\n",
    "\n",
    "    optimiser = torch.optim.AdamW(model.parameters(), lr = 0.001)\n",
    "    \n",
    "    scheduler = torch.optim.lr_scheduler.ReduceLROnPlateau(optimiser, 'min', patience=1)\n",
    "    \n",
    "    criterions = nn.BCEWithLogitsLoss(pos_weight = torch.tensor(2))\n",
    "\n",
    "    trainer = Trainer(model=model,\n",
    "                      train_dataloader=train_dataloader,\n",
    "                      valid_dataloader=valid_dataloader,\n",
    "                      test_dataloader=test_dataloader,\n",
    "                      criterions=criterions,\n",
    "                      optimiser=optimiser,\n",
    "                      scheduler = scheduler,\n",
    "                      vocab=vocab,\n",
    "                      checkpoint_path=checkpoint_path)\n",
    "    best_model, scores = trainer.train(n_epoch=n_epoch)\n",
    "\n",
    "    evaluator = Evaluator(model=best_model,vocab=vocab,criterions=criterions,\n",
    "                          n_training_labels=n_labels,device = device)\n",
    "\n",
    "    del model, optimiser, evaluator, trainer, criterions\n",
    "    return best_model, scores  # either on valid or test"
   ]
  },
  {
   "cell_type": "code",
   "execution_count": 13,
   "id": "13164513",
   "metadata": {},
   "outputs": [],
   "source": [
    "def run_with_validation(training_data, valid_data, test_data, label_desc, vocab, saved_data_file_path):\n",
    "    best_model, scores = _train_model(\n",
    "        train_data=training_data, valid_data=valid_data, test_data=test_data, label_desc=label_desc,\n",
    "        vocab=vocab, saved_data_file_path=saved_data_file_path, checkpoint_path=\"../model/checkpoint.pkl\")\n",
    "\n",
    "    return best_model, scores"
   ]
  },
  {
   "cell_type": "code",
   "execution_count": 14,
   "id": "f44da3a4",
   "metadata": {},
   "outputs": [
    {
     "data": {
      "application/vnd.jupyter.widget-view+json": {
       "model_id": "3c0db1f14db848a5a96609b7535a16e0",
       "version_major": 2,
       "version_minor": 0
      },
      "text/plain": [
       "Training at epoch #1:   0%|          | 0/1492 [00:00<?, ?batches/s]"
      ]
     },
     "metadata": {},
     "output_type": "display_data"
    },
    {
     "name": "stdout",
     "output_type": "stream",
     "text": [
      "{'macro_f1': 0.0019743246260074906, 'macro_auc': 0.45277338447737775, 'macro_P@5': 0.29591148179970245, 'macro_P@8': 0.2580628261279574, 'macro_P@15': 0.20368546421062192, 'micro_f1': 0.0625941153640036, 'micro_auc': 0.9247824391815537, 'loss': 0.020120280279201173}\n"
     ]
    },
    {
     "data": {
      "application/vnd.jupyter.widget-view+json": {
       "model_id": "d52308795e6a443a8c3de13aef5ebc44",
       "version_major": 2,
       "version_minor": 0
      },
      "text/plain": [
       "Evaluating:   0%|          | 0/51 [00:00<?, ?batches/s]"
      ]
     },
     "metadata": {},
     "output_type": "display_data"
    },
    {
     "data": {
      "application/vnd.jupyter.widget-view+json": {
       "model_id": "6810b48bda664afb83b4bdd490c2b8e8",
       "version_major": 2,
       "version_minor": 0
      },
      "text/plain": [
       "Evaluating:   0%|          | 0/106 [00:00<?, ?batches/s]"
      ]
     },
     "metadata": {},
     "output_type": "display_data"
    },
    {
     "name": "stdout",
     "output_type": "stream",
     "text": [
      "lr 0.001\n",
      "{'macro_f1': 0.0008234088299836457, 'macro_auc': 0.6258584882817813, 'macro_P@5': 0.3319098457888494, 'macro_P@8': 0.29811684460260973, 'macro_P@15': 0.22807433768287863, 'micro_f1': 0.13385108617544636, 'micro_auc': 0.937890656278604, 'loss': 0.017098090927696454}\n",
      "\n",
      "\n",
      "\n"
     ]
    },
    {
     "data": {
      "application/vnd.jupyter.widget-view+json": {
       "model_id": "1e071d12b1904e979c233387260f08a8",
       "version_major": 2,
       "version_minor": 0
      },
      "text/plain": [
       "Training at epoch #2:   0%|          | 0/1492 [00:00<?, ?batches/s]"
      ]
     },
     "metadata": {},
     "output_type": "display_data"
    },
    {
     "name": "stdout",
     "output_type": "stream",
     "text": [
      "{'macro_f1': 0.0034743458771772685, 'macro_auc': 0.5380751181099851, 'macro_P@5': 0.39841572539240144, 'macro_P@8': 0.3411612774785725, 'macro_P@15': 0.2642818723499375, 'micro_f1': 0.20990920081281994, 'micro_auc': 0.9556184848819833, 'loss': 0.01356310231284046}\n"
     ]
    },
    {
     "data": {
      "application/vnd.jupyter.widget-view+json": {
       "model_id": "cd82c636c0504f84947ea934e409fc0d",
       "version_major": 2,
       "version_minor": 0
      },
      "text/plain": [
       "Evaluating:   0%|          | 0/51 [00:00<?, ?batches/s]"
      ]
     },
     "metadata": {},
     "output_type": "display_data"
    },
    {
     "data": {
      "application/vnd.jupyter.widget-view+json": {
       "model_id": "0738a30bd5b64139acb7d5d4f7366981",
       "version_major": 2,
       "version_minor": 0
      },
      "text/plain": [
       "Evaluating:   0%|          | 0/106 [00:00<?, ?batches/s]"
      ]
     },
     "metadata": {},
     "output_type": "display_data"
    },
    {
     "name": "stdout",
     "output_type": "stream",
     "text": [
      "lr 0.001\n",
      "{'macro_f1': 0.0035177038655766516, 'macro_auc': 0.7656617804028123, 'macro_P@5': 0.4237841043890866, 'macro_P@8': 0.367141162514828, 'macro_P@15': 0.28483590351917754, 'micro_f1': 0.20529311842736547, 'micro_auc': 0.9564968765617219, 'loss': 0.015160953054942613}\n",
      "\n",
      "\n",
      "\n"
     ]
    },
    {
     "data": {
      "application/vnd.jupyter.widget-view+json": {
       "model_id": "c926aff5eb47478e84da5d9b072f7895",
       "version_major": 2,
       "version_minor": 0
      },
      "text/plain": [
       "Training at epoch #3:   0%|          | 0/1492 [00:00<?, ?batches/s]"
      ]
     },
     "metadata": {},
     "output_type": "display_data"
    },
    {
     "name": "stdout",
     "output_type": "stream",
     "text": [
      "{'macro_f1': 0.020429277008520198, 'macro_auc': 0.7312438020821072, 'macro_P@5': 0.5914750937781597, 'macro_P@8': 0.5124321549068506, 'macro_P@15': 0.3932326047626033, 'micro_f1': 0.38522422877854845, 'micro_auc': 0.975642110372661, 'loss': 0.010661815254744291}\n"
     ]
    },
    {
     "data": {
      "application/vnd.jupyter.widget-view+json": {
       "model_id": "8e3b4bee3b774844adf2c1c79244e201",
       "version_major": 2,
       "version_minor": 0
      },
      "text/plain": [
       "Evaluating:   0%|          | 0/51 [00:00<?, ?batches/s]"
      ]
     },
     "metadata": {},
     "output_type": "display_data"
    },
    {
     "data": {
      "application/vnd.jupyter.widget-view+json": {
       "model_id": "e30fce249d9b4485947acb5f07936a52",
       "version_major": 2,
       "version_minor": 0
      },
      "text/plain": [
       "Evaluating:   0%|          | 0/106 [00:00<?, ?batches/s]"
      ]
     },
     "metadata": {},
     "output_type": "display_data"
    },
    {
     "name": "stdout",
     "output_type": "stream",
     "text": [
      "lr 0.001\n",
      "{'macro_f1': 0.04134251078658546, 'macro_auc': 0.8800403211707432, 'macro_P@5': 0.7284104389086595, 'macro_P@8': 0.6480575326215896, 'macro_P@15': 0.5063661526294978, 'micro_f1': 0.48849908429524336, 'micro_auc': 0.979925445859416, 'loss': 0.010654384929265053}\n",
      "\n",
      "\n",
      "\n"
     ]
    },
    {
     "data": {
      "application/vnd.jupyter.widget-view+json": {
       "model_id": "b2e0ed34d6aa4b06b4118327b147db82",
       "version_major": 2,
       "version_minor": 0
      },
      "text/plain": [
       "Training at epoch #4:   0%|          | 0/1492 [00:00<?, ?batches/s]"
      ]
     },
     "metadata": {},
     "output_type": "display_data"
    },
    {
     "name": "stdout",
     "output_type": "stream",
     "text": [
      "{'macro_f1': 0.052455656185518035, 'macro_auc': 0.8532573906527211, 'macro_P@5': 0.7125757035981475, 'macro_P@8': 0.6304302269536244, 'macro_P@15': 0.4895869569773047, 'micro_f1': 0.5016394779032799, 'micro_auc': 0.9873789924251372, 'loss': 0.008426177152494923}\n"
     ]
    },
    {
     "data": {
      "application/vnd.jupyter.widget-view+json": {
       "model_id": "689f5e52e45e4ae3a9388cd326306eb3",
       "version_major": 2,
       "version_minor": 0
      },
      "text/plain": [
       "Evaluating:   0%|          | 0/51 [00:00<?, ?batches/s]"
      ]
     },
     "metadata": {},
     "output_type": "display_data"
    },
    {
     "data": {
      "application/vnd.jupyter.widget-view+json": {
       "model_id": "42767e85761e4ec298ce0bb3943440e7",
       "version_major": 2,
       "version_minor": 0
      },
      "text/plain": [
       "Evaluating:   0%|          | 0/106 [00:00<?, ?batches/s]"
      ]
     },
     "metadata": {},
     "output_type": "display_data"
    },
    {
     "name": "stdout",
     "output_type": "stream",
     "text": [
      "lr 0.001\n",
      "{'macro_f1': 0.06861905381086338, 'macro_auc': 0.9122124816760381, 'macro_P@5': 0.7658362989323844, 'macro_P@8': 0.689650059311981, 'macro_P@15': 0.5457888493475682, 'micro_f1': 0.5269179442111773, 'micro_auc': 0.9849949956984212, 'loss': 0.009557530740803143}\n",
      "\n",
      "\n",
      "\n"
     ]
    },
    {
     "data": {
      "application/vnd.jupyter.widget-view+json": {
       "model_id": "d7268603553b41339e009e65b93f1ba5",
       "version_major": 2,
       "version_minor": 0
      },
      "text/plain": [
       "Training at epoch #5:   0%|          | 0/1492 [00:00<?, ?batches/s]"
      ]
     },
     "metadata": {},
     "output_type": "display_data"
    },
    {
     "name": "stdout",
     "output_type": "stream",
     "text": [
      "{'macro_f1': 0.07620227845467586, 'macro_auc': 0.9244763527803201, 'macro_P@5': 0.7406777174710284, 'macro_P@8': 0.6587758544814435, 'macro_P@15': 0.513383208645054, 'micro_f1': 0.5298502025096029, 'micro_auc': 0.9913320150046485, 'loss': 0.007754753071917146}\n"
     ]
    },
    {
     "data": {
      "application/vnd.jupyter.widget-view+json": {
       "model_id": "6ccb2d27ba8c4443875f199746536d61",
       "version_major": 2,
       "version_minor": 0
      },
      "text/plain": [
       "Evaluating:   0%|          | 0/51 [00:00<?, ?batches/s]"
      ]
     },
     "metadata": {},
     "output_type": "display_data"
    },
    {
     "data": {
      "application/vnd.jupyter.widget-view+json": {
       "model_id": "0c7596ab32944394b1729432da2f3741",
       "version_major": 2,
       "version_minor": 0
      },
      "text/plain": [
       "Evaluating:   0%|          | 0/106 [00:00<?, ?batches/s]"
      ]
     },
     "metadata": {},
     "output_type": "display_data"
    },
    {
     "name": "stdout",
     "output_type": "stream",
     "text": [
      "lr 0.001\n",
      "{'macro_f1': 0.07702528275878814, 'macro_auc': 0.9222275800793889, 'macro_P@5': 0.7798932384341638, 'macro_P@8': 0.7024392052194544, 'macro_P@15': 0.5600830367734283, 'micro_f1': 0.5436850811564266, 'micro_auc': 0.9867227175558548, 'loss': 0.009113775276280236}\n",
      "\n",
      "\n",
      "\n"
     ]
    },
    {
     "data": {
      "application/vnd.jupyter.widget-view+json": {
       "model_id": "bbe9d5b0bbcf4945981c187bfaf8e451",
       "version_major": 2,
       "version_minor": 0
      },
      "text/plain": [
       "Training at epoch #6:   0%|          | 0/1492 [00:00<?, ?batches/s]"
      ]
     },
     "metadata": {},
     "output_type": "display_data"
    },
    {
     "name": "stdout",
     "output_type": "stream",
     "text": [
      "{'macro_f1': 0.09788397992179762, 'macro_auc': 0.9564830974119675, 'macro_P@5': 0.7545505982941806, 'macro_P@8': 0.6739165741109411, 'macro_P@15': 0.5262949069902275, 'micro_f1': 0.5438790820604982, 'micro_auc': 0.9932030751577774, 'loss': 0.007384888829361278}\n"
     ]
    },
    {
     "data": {
      "application/vnd.jupyter.widget-view+json": {
       "model_id": "ece9b07ef1784382a52d5a85fe11fb3c",
       "version_major": 2,
       "version_minor": 0
      },
      "text/plain": [
       "Evaluating:   0%|          | 0/51 [00:00<?, ?batches/s]"
      ]
     },
     "metadata": {},
     "output_type": "display_data"
    },
    {
     "data": {
      "application/vnd.jupyter.widget-view+json": {
       "model_id": "ff9cc839cd8341e6b2893e4e1f6e5fc9",
       "version_major": 2,
       "version_minor": 0
      },
      "text/plain": [
       "Evaluating:   0%|          | 0/106 [00:00<?, ?batches/s]"
      ]
     },
     "metadata": {},
     "output_type": "display_data"
    },
    {
     "name": "stdout",
     "output_type": "stream",
     "text": [
      "lr 0.001\n",
      "{'macro_f1': 0.09071484836048195, 'macro_auc': 0.9272791125375128, 'macro_P@5': 0.787129300118624, 'macro_P@8': 0.7133007117437722, 'macro_P@15': 0.5694543297746145, 'micro_f1': 0.5506258195255693, 'micro_auc': 0.9874881989974444, 'loss': 0.00896034557548053}\n",
      "\n",
      "\n",
      "\n"
     ]
    },
    {
     "data": {
      "application/vnd.jupyter.widget-view+json": {
       "model_id": "a3da2462bd8248d8a902aa321ef41576",
       "version_major": 2,
       "version_minor": 0
      },
      "text/plain": [
       "Training at epoch #7:   0%|          | 0/1492 [00:00<?, ?batches/s]"
      ]
     },
     "metadata": {},
     "output_type": "display_data"
    },
    {
     "name": "stdout",
     "output_type": "stream",
     "text": [
      "{'macro_f1': 0.1221120206254497, 'macro_auc': 0.9700647454460771, 'macro_P@5': 0.7655734613047214, 'macro_P@8': 0.6830010058886398, 'macro_P@15': 0.5347667246449702, 'micro_f1': 0.5536149709248864, 'micro_auc': 0.9942190068826781, 'loss': 0.007132569999913448}\n"
     ]
    },
    {
     "data": {
      "application/vnd.jupyter.widget-view+json": {
       "model_id": "b77026df38df4833a7db234ff1c2934c",
       "version_major": 2,
       "version_minor": 0
      },
      "text/plain": [
       "Evaluating:   0%|          | 0/51 [00:00<?, ?batches/s]"
      ]
     },
     "metadata": {},
     "output_type": "display_data"
    },
    {
     "data": {
      "application/vnd.jupyter.widget-view+json": {
       "model_id": "44d1846b07bb463fa4a7a1eff4fce1f4",
       "version_major": 2,
       "version_minor": 0
      },
      "text/plain": [
       "Evaluating:   0%|          | 0/106 [00:00<?, ?batches/s]"
      ]
     },
     "metadata": {},
     "output_type": "display_data"
    },
    {
     "name": "stdout",
     "output_type": "stream",
     "text": [
      "lr 0.001\n",
      "{'macro_f1': 0.0971250581322198, 'macro_auc': 0.9278164899055058, 'macro_P@5': 0.7937722419928827, 'macro_P@8': 0.7187129300118624, 'macro_P@15': 0.5748319493871095, 'micro_f1': 0.5559892500639878, 'micro_auc': 0.9876527168575744, 'loss': 0.00885514383432719}\n",
      "\n",
      "\n",
      "\n"
     ]
    },
    {
     "data": {
      "application/vnd.jupyter.widget-view+json": {
       "model_id": "921d95d292c74bd3b97b480fcce470fc",
       "version_major": 2,
       "version_minor": 0
      },
      "text/plain": [
       "Training at epoch #8:   0%|          | 0/1492 [00:00<?, ?batches/s]"
      ]
     },
     "metadata": {},
     "output_type": "display_data"
    },
    {
     "name": "stdout",
     "output_type": "stream",
     "text": [
      "{'macro_f1': 0.15190206249489777, 'macro_auc': 0.9772851799006471, 'macro_P@5': 0.7729248307801925, 'macro_P@8': 0.6918523020180641, 'macro_P@15': 0.5416864002458839, 'micro_f1': 0.561370088178611, 'micro_auc': 0.9948926603213941, 'loss': 0.0069380776426722435}\n"
     ]
    },
    {
     "data": {
      "application/vnd.jupyter.widget-view+json": {
       "model_id": "a842f4c231da4493addbbb40f6e1866b",
       "version_major": 2,
       "version_minor": 0
      },
      "text/plain": [
       "Evaluating:   0%|          | 0/51 [00:00<?, ?batches/s]"
      ]
     },
     "metadata": {},
     "output_type": "display_data"
    },
    {
     "data": {
      "application/vnd.jupyter.widget-view+json": {
       "model_id": "da12af54b84f418cba0d423138bec711",
       "version_major": 2,
       "version_minor": 0
      },
      "text/plain": [
       "Evaluating:   0%|          | 0/106 [00:00<?, ?batches/s]"
      ]
     },
     "metadata": {},
     "output_type": "display_data"
    },
    {
     "name": "stdout",
     "output_type": "stream",
     "text": [
      "lr 0.001\n",
      "{'macro_f1': 0.10495340128448445, 'macro_auc': 0.9273130886358083, 'macro_P@5': 0.7841043890865955, 'macro_P@8': 0.7150800711743772, 'macro_P@15': 0.5709964412811388, 'micro_f1': 0.5446942286019337, 'micro_auc': 0.9877615059585192, 'loss': 0.009077844833779448}\n",
      "\n",
      "\n",
      "\n"
     ]
    },
    {
     "data": {
      "application/vnd.jupyter.widget-view+json": {
       "model_id": "3bb0cc35d8f1490199aa3fae6fdbeb8f",
       "version_major": 2,
       "version_minor": 0
      },
      "text/plain": [
       "Training at epoch #9:   0%|          | 0/1492 [00:00<?, ?batches/s]"
      ]
     },
     "metadata": {},
     "output_type": "display_data"
    },
    {
     "name": "stdout",
     "output_type": "stream",
     "text": [
      "{'macro_f1': 0.1984276677512227, 'macro_auc': 0.9813197030650085, 'macro_P@5': 0.7778536851149438, 'macro_P@8': 0.6978823948532031, 'macro_P@15': 0.5473445238444505, 'micro_f1': 0.5677561124506489, 'micro_auc': 0.9953518492833048, 'loss': 0.006790860935274122}\n"
     ]
    },
    {
     "data": {
      "application/vnd.jupyter.widget-view+json": {
       "model_id": "a550187c97c14088872b086dc34963d5",
       "version_major": 2,
       "version_minor": 0
      },
      "text/plain": [
       "Evaluating:   0%|          | 0/51 [00:00<?, ?batches/s]"
      ]
     },
     "metadata": {},
     "output_type": "display_data"
    },
    {
     "data": {
      "application/vnd.jupyter.widget-view+json": {
       "model_id": "7a6e4bbc53c44dcd9c19b08159fa97be",
       "version_major": 2,
       "version_minor": 0
      },
      "text/plain": [
       "Evaluating:   0%|          | 0/106 [00:00<?, ?batches/s]"
      ]
     },
     "metadata": {},
     "output_type": "display_data"
    },
    {
     "name": "stdout",
     "output_type": "stream",
     "text": [
      "lr 0.001\n",
      "{'macro_f1': 0.10422666118538547, 'macro_auc': 0.9261730967797299, 'macro_P@5': 0.7927046263345195, 'macro_P@8': 0.7213078291814946, 'macro_P@15': 0.5783906682483195, 'micro_f1': 0.5595547546525905, 'micro_auc': 0.9874053826907766, 'loss': 0.008835875253491807}\n",
      "\n",
      "\n",
      "\n"
     ]
    },
    {
     "data": {
      "application/vnd.jupyter.widget-view+json": {
       "model_id": "f5a7cba1e8954eb8abfaf6b5478ae7ea",
       "version_major": 2,
       "version_minor": 0
      },
      "text/plain": [
       "Training at epoch #10:   0%|          | 0/1492 [00:00<?, ?batches/s]"
      ]
     },
     "metadata": {},
     "output_type": "display_data"
    },
    {
     "name": "stdout",
     "output_type": "stream",
     "text": [
      "{'macro_f1': 0.2508117228975351, 'macro_auc': 0.9841546813166666, 'macro_P@5': 0.7835579119428321, 'macro_P@8': 0.7031580712085332, 'macro_P@15': 0.5519199200877358, 'micro_f1': 0.57310550749884, 'micro_auc': 0.9957094860461617, 'loss': 0.006655931644124196}\n"
     ]
    },
    {
     "data": {
      "application/vnd.jupyter.widget-view+json": {
       "model_id": "accb6eba84b046fbaf5f7256f604c852",
       "version_major": 2,
       "version_minor": 0
      },
      "text/plain": [
       "Evaluating:   0%|          | 0/51 [00:00<?, ?batches/s]"
      ]
     },
     "metadata": {},
     "output_type": "display_data"
    },
    {
     "data": {
      "application/vnd.jupyter.widget-view+json": {
       "model_id": "e0964c51332844a887191655d3c3d5a6",
       "version_major": 2,
       "version_minor": 0
      },
      "text/plain": [
       "Evaluating:   0%|          | 0/106 [00:00<?, ?batches/s]"
      ]
     },
     "metadata": {},
     "output_type": "display_data"
    },
    {
     "name": "stdout",
     "output_type": "stream",
     "text": [
      "lr 0.001\n",
      "{'macro_f1': 0.1116168167220198, 'macro_auc': 0.9247655297650814, 'macro_P@5': 0.7905693950177936, 'macro_P@8': 0.7226423487544484, 'macro_P@15': 0.5785488335310399, 'micro_f1': 0.5534566132011127, 'micro_auc': 0.9874342868088681, 'loss': 0.008964492249706725}\n",
      "\n",
      "\n",
      "\n"
     ]
    },
    {
     "data": {
      "application/vnd.jupyter.widget-view+json": {
       "model_id": "fa89fd543e9f472c8a34f0159bbc437a",
       "version_major": 2,
       "version_minor": 0
      },
      "text/plain": [
       "Training at epoch #11:   0%|          | 0/1492 [00:00<?, ?batches/s]"
      ]
     },
     "metadata": {},
     "output_type": "display_data"
    },
    {
     "name": "stdout",
     "output_type": "stream",
     "text": [
      "{'macro_f1': 0.3006943494163189, 'macro_auc': 0.9864302099667256, 'macro_P@5': 0.7886376495735451, 'macro_P@8': 0.7078600766990087, 'macro_P@15': 0.5560622253889086, 'micro_f1': 0.5776742020823635, 'micro_auc': 0.9960155098541388, 'loss': 0.006544764493854252}\n"
     ]
    },
    {
     "data": {
      "application/vnd.jupyter.widget-view+json": {
       "model_id": "383e14908ae3487ab0df9a06996ea523",
       "version_major": 2,
       "version_minor": 0
      },
      "text/plain": [
       "Evaluating:   0%|          | 0/51 [00:00<?, ?batches/s]"
      ]
     },
     "metadata": {},
     "output_type": "display_data"
    },
    {
     "data": {
      "application/vnd.jupyter.widget-view+json": {
       "model_id": "27998b6f62bf4f289783c606a5232388",
       "version_major": 2,
       "version_minor": 0
      },
      "text/plain": [
       "Evaluating:   0%|          | 0/106 [00:00<?, ?batches/s]"
      ]
     },
     "metadata": {},
     "output_type": "display_data"
    },
    {
     "name": "stdout",
     "output_type": "stream",
     "text": [
      "lr 0.0001\n",
      "{'macro_f1': 0.11340603116998553, 'macro_auc': 0.9245780572127081, 'macro_P@5': 0.7876631079478055, 'macro_P@8': 0.7194172597864769, 'macro_P@15': 0.5763542902332938, 'micro_f1': 0.55291586595515, 'micro_auc': 0.9875207763021417, 'loss': 0.0089836104351254}\n",
      "\n",
      "\n",
      "\n"
     ]
    },
    {
     "data": {
      "application/vnd.jupyter.widget-view+json": {
       "model_id": "7a2741feb9de4e2ba8f3af13007ae8c8",
       "version_major": 2,
       "version_minor": 0
      },
      "text/plain": [
       "Training at epoch #12:   0%|          | 0/1492 [00:00<?, ?batches/s]"
      ]
     },
     "metadata": {},
     "output_type": "display_data"
    },
    {
     "name": "stdout",
     "output_type": "stream",
     "text": [
      "{'macro_f1': 0.46039898682104946, 'macro_auc': 0.9915655594609283, 'macro_P@5': 0.8114168360611077, 'macro_P@8': 0.7314879817263564, 'macro_P@15': 0.5761422773598217, 'micro_f1': 0.6005640688297094, 'micro_auc': 0.9969080393557592, 'loss': 0.0060606172318313145}\n"
     ]
    },
    {
     "data": {
      "application/vnd.jupyter.widget-view+json": {
       "model_id": "717dee610a774fa8b902bf43ee8d7e08",
       "version_major": 2,
       "version_minor": 0
      },
      "text/plain": [
       "Evaluating:   0%|          | 0/51 [00:00<?, ?batches/s]"
      ]
     },
     "metadata": {},
     "output_type": "display_data"
    },
    {
     "data": {
      "application/vnd.jupyter.widget-view+json": {
       "model_id": "3fa36eb5761943de8b2a7d3ee96e0a5e",
       "version_major": 2,
       "version_minor": 0
      },
      "text/plain": [
       "Evaluating:   0%|          | 0/106 [00:00<?, ?batches/s]"
      ]
     },
     "metadata": {},
     "output_type": "display_data"
    },
    {
     "name": "stdout",
     "output_type": "stream",
     "text": [
      "lr 0.0001\n",
      "{'macro_f1': 0.117575818383455, 'macro_auc': 0.9231354375550755, 'macro_P@5': 0.8097271648873072, 'macro_P@8': 0.7369513641755635, 'macro_P@15': 0.5914590747330961, 'micro_f1': 0.5684373668100274, 'micro_auc': 0.9877620062943144, 'loss': 0.008731380671719616}\n",
      "\n",
      "\n",
      "\n"
     ]
    },
    {
     "data": {
      "application/vnd.jupyter.widget-view+json": {
       "model_id": "ed30d695a2f346fbb7d85f040b3815e1",
       "version_major": 2,
       "version_minor": 0
      },
      "text/plain": [
       "Training at epoch #13:   0%|          | 0/1492 [00:00<?, ?batches/s]"
      ]
     },
     "metadata": {},
     "output_type": "display_data"
    },
    {
     "name": "stdout",
     "output_type": "stream",
     "text": [
      "{'macro_f1': 0.5114999599412595, 'macro_auc': 0.9920038751199443, 'macro_P@5': 0.8175108447368973, 'macro_P@8': 0.7375809426014796, 'macro_P@15': 0.5807526002919872, 'micro_f1': 0.6056204445028246, 'micro_auc': 0.997080768168749, 'loss': 0.005955717993598062}\n"
     ]
    },
    {
     "data": {
      "application/vnd.jupyter.widget-view+json": {
       "model_id": "ac0ba9cafa2b4b619843c4245b709162",
       "version_major": 2,
       "version_minor": 0
      },
      "text/plain": [
       "Evaluating:   0%|          | 0/51 [00:00<?, ?batches/s]"
      ]
     },
     "metadata": {},
     "output_type": "display_data"
    },
    {
     "data": {
      "application/vnd.jupyter.widget-view+json": {
       "model_id": "4aefd84ffa7541a3a9ddb31cea2bc882",
       "version_major": 2,
       "version_minor": 0
      },
      "text/plain": [
       "Evaluating:   0%|          | 0/106 [00:00<?, ?batches/s]"
      ]
     },
     "metadata": {},
     "output_type": "display_data"
    },
    {
     "name": "stdout",
     "output_type": "stream",
     "text": [
      "lr 0.0001\n",
      "{'macro_f1': 0.11973769466649464, 'macro_auc': 0.922608225653916, 'macro_P@5': 0.8077698695136418, 'macro_P@8': 0.7380634638196916, 'macro_P@15': 0.5923685251087387, 'micro_f1': 0.5650728441553502, 'micro_auc': 0.9877789617108836, 'loss': 0.008798619688330393}\n",
      "\n",
      "\n",
      "\n"
     ]
    },
    {
     "data": {
      "application/vnd.jupyter.widget-view+json": {
       "model_id": "5e658be910b1458abd660189af3d40ef",
       "version_major": 2,
       "version_minor": 0
      },
      "text/plain": [
       "Training at epoch #14:   0%|          | 0/1492 [00:00<?, ?batches/s]"
      ]
     },
     "metadata": {},
     "output_type": "display_data"
    },
    {
     "name": "stdout",
     "output_type": "stream",
     "text": [
      "{'macro_f1': 0.5366098033942189, 'macro_auc': 0.9922533543915678, 'macro_P@5': 0.8199124038642889, 'macro_P@8': 0.7400092206458644, 'macro_P@15': 0.5824723904524404, 'micro_f1': 0.6077577236862062, 'micro_auc': 0.997160288633309, 'loss': 0.005909679685070132}\n"
     ]
    },
    {
     "data": {
      "application/vnd.jupyter.widget-view+json": {
       "model_id": "649a6d060c7c4036b5bf31e5bb0e9561",
       "version_major": 2,
       "version_minor": 0
      },
      "text/plain": [
       "Evaluating:   0%|          | 0/51 [00:00<?, ?batches/s]"
      ]
     },
     "metadata": {},
     "output_type": "display_data"
    },
    {
     "data": {
      "application/vnd.jupyter.widget-view+json": {
       "model_id": "831ba45800bb4dc6a3e1dfc35492c69d",
       "version_major": 2,
       "version_minor": 0
      },
      "text/plain": [
       "Evaluating:   0%|          | 0/106 [00:00<?, ?batches/s]"
      ]
     },
     "metadata": {},
     "output_type": "display_data"
    },
    {
     "name": "stdout",
     "output_type": "stream",
     "text": [
      "lr 1e-05\n",
      "{'macro_f1': 0.12021958182989359, 'macro_auc': 0.9219858977190718, 'macro_P@5': 0.8115065243179121, 'macro_P@8': 0.7390272835112692, 'macro_P@15': 0.5931000395413207, 'micro_f1': 0.5705085826728785, 'micro_auc': 0.9876676433807207, 'loss': 0.008751156124866233}\n",
      "\n",
      "\n",
      "\n"
     ]
    },
    {
     "data": {
      "application/vnd.jupyter.widget-view+json": {
       "model_id": "55c112cb70514ccda2b5c43d761fe3dd",
       "version_major": 2,
       "version_minor": 0
      },
      "text/plain": [
       "Training at epoch #15:   0%|          | 0/1492 [00:00<?, ?batches/s]"
      ]
     },
     "metadata": {},
     "output_type": "display_data"
    },
    {
     "name": "stdout",
     "output_type": "stream",
     "text": [
      "{'macro_f1': 0.566095643918957, 'macro_auc': 0.9928483980734022, 'macro_P@5': 0.8227666128795659, 'macro_P@8': 0.7430268865650999, 'macro_P@15': 0.5857513080044986, 'micro_f1': 0.6116297797777698, 'micro_auc': 0.9972784956598858, 'loss': 0.005836609880821954}\n"
     ]
    },
    {
     "data": {
      "application/vnd.jupyter.widget-view+json": {
       "model_id": "0dabccb3e3f74f9a844db8600c4942f8",
       "version_major": 2,
       "version_minor": 0
      },
      "text/plain": [
       "Evaluating:   0%|          | 0/51 [00:00<?, ?batches/s]"
      ]
     },
     "metadata": {},
     "output_type": "display_data"
    },
    {
     "data": {
      "application/vnd.jupyter.widget-view+json": {
       "model_id": "bc9dc78fd2934d55ab26e0a69869f289",
       "version_major": 2,
       "version_minor": 0
      },
      "text/plain": [
       "Evaluating:   0%|          | 0/106 [00:00<?, ?batches/s]"
      ]
     },
     "metadata": {},
     "output_type": "display_data"
    },
    {
     "name": "stdout",
     "output_type": "stream",
     "text": [
      "lr 1e-05\n",
      "{'macro_f1': 0.11995946659022978, 'macro_auc': 0.9218703224296623, 'macro_P@5': 0.8102609727164887, 'macro_P@8': 0.7398428232502966, 'macro_P@15': 0.5942071965203638, 'micro_f1': 0.5720257385749847, 'micro_auc': 0.9876366668297873, 'loss': 0.008738729909484117}\n",
      "\n",
      "\n",
      "\n"
     ]
    },
    {
     "data": {
      "application/vnd.jupyter.widget-view+json": {
       "model_id": "2b7d70391b04414888ce2286ae865ce6",
       "version_major": 2,
       "version_minor": 0
      },
      "text/plain": [
       "Training at epoch #16:   0%|          | 0/1492 [00:00<?, ?batches/s]"
      ]
     },
     "metadata": {},
     "output_type": "display_data"
    },
    {
     "name": "stdout",
     "output_type": "stream",
     "text": [
      "{'macro_f1': 0.5712599420531776, 'macro_auc': 0.9928381146751454, 'macro_P@5': 0.8238521343699576, 'macro_P@8': 0.7437865420482408, 'macro_P@15': 0.5862109432301599, 'micro_f1': 0.612288794060334, 'micro_auc': 0.9972920890682145, 'loss': 0.005826177486860201}\n"
     ]
    },
    {
     "data": {
      "application/vnd.jupyter.widget-view+json": {
       "model_id": "70ece4ae7fc14737b7901bace97f86aa",
       "version_major": 2,
       "version_minor": 0
      },
      "text/plain": [
       "Evaluating:   0%|          | 0/51 [00:00<?, ?batches/s]"
      ]
     },
     "metadata": {},
     "output_type": "display_data"
    },
    {
     "data": {
      "application/vnd.jupyter.widget-view+json": {
       "model_id": "f8bb6843b6464521aa3aa4e093adcc68",
       "version_major": 2,
       "version_minor": 0
      },
      "text/plain": [
       "Evaluating:   0%|          | 0/106 [00:00<?, ?batches/s]"
      ]
     },
     "metadata": {},
     "output_type": "display_data"
    },
    {
     "name": "stdout",
     "output_type": "stream",
     "text": [
      "lr 1.0000000000000002e-06\n",
      "{'macro_f1': 0.11972680658637472, 'macro_auc': 0.9216963924560274, 'macro_P@5': 0.8119810201660735, 'macro_P@8': 0.740176453143535, 'macro_P@15': 0.5945037564254646, 'micro_f1': 0.5724722315850533, 'micro_auc': 0.9876035103287353, 'loss': 0.008740592053827812}\n",
      "\n",
      "\n",
      "\n"
     ]
    },
    {
     "data": {
      "application/vnd.jupyter.widget-view+json": {
       "model_id": "a737285b4a9f475f8d84603a0004cf54",
       "version_major": 2,
       "version_minor": 0
      },
      "text/plain": [
       "Training at epoch #17:   0%|          | 0/1492 [00:00<?, ?batches/s]"
      ]
     },
     "metadata": {},
     "output_type": "display_data"
    },
    {
     "name": "stdout",
     "output_type": "stream",
     "text": [
      "{'macro_f1': 0.5720674475729698, 'macro_auc': 0.9929182039952847, 'macro_P@5': 0.8240658857059034, 'macro_P@8': 0.7444571344747375, 'macro_P@15': 0.587022639479732, 'micro_f1': 0.6122358040855579, 'micro_auc': 0.9973105427192269, 'loss': 0.005814440088688668}\n"
     ]
    },
    {
     "data": {
      "application/vnd.jupyter.widget-view+json": {
       "model_id": "3ddcec2143da49dbb92f825bd011fe10",
       "version_major": 2,
       "version_minor": 0
      },
      "text/plain": [
       "Evaluating:   0%|          | 0/51 [00:00<?, ?batches/s]"
      ]
     },
     "metadata": {},
     "output_type": "display_data"
    },
    {
     "data": {
      "application/vnd.jupyter.widget-view+json": {
       "model_id": "c36593f2c6b84866a4694fecbadbbcac",
       "version_major": 2,
       "version_minor": 0
      },
      "text/plain": [
       "Evaluating:   0%|          | 0/106 [00:00<?, ?batches/s]"
      ]
     },
     "metadata": {},
     "output_type": "display_data"
    },
    {
     "name": "stdout",
     "output_type": "stream",
     "text": [
      "lr 1.0000000000000002e-06\n",
      "{'macro_f1': 0.12008984290637535, 'macro_auc': 0.9217304872815965, 'macro_P@5': 0.8104982206405694, 'macro_P@8': 0.7401023131672598, 'macro_P@15': 0.594266508501384, 'micro_f1': 0.5715533306821992, 'micro_auc': 0.9876230697847896, 'loss': 0.008752615753350393}\n",
      "\n",
      "\n",
      "\n"
     ]
    },
    {
     "data": {
      "application/vnd.jupyter.widget-view+json": {
       "model_id": "f2c10e83b53e4648a98efc70bbba0eb6",
       "version_major": 2,
       "version_minor": 0
      },
      "text/plain": [
       "Training at epoch #18:   0%|          | 0/1492 [00:00<?, ?batches/s]"
      ]
     },
     "metadata": {},
     "output_type": "display_data"
    },
    {
     "name": "stdout",
     "output_type": "stream",
     "text": [
      "{'macro_f1': 0.5746109787573026, 'macro_auc': 0.9928968895655758, 'macro_P@5': 0.8236300006286804, 'macro_P@8': 0.7442816278631154, 'macro_P@15': 0.5872559497614508, 'micro_f1': 0.6128629895882708, 'micro_auc': 0.9973108097920181, 'loss': 0.005813476315265067}\n"
     ]
    },
    {
     "data": {
      "application/vnd.jupyter.widget-view+json": {
       "model_id": "9292001217cb4d8ba2bebcfcc1f762bd",
       "version_major": 2,
       "version_minor": 0
      },
      "text/plain": [
       "Evaluating:   0%|          | 0/51 [00:00<?, ?batches/s]"
      ]
     },
     "metadata": {},
     "output_type": "display_data"
    },
    {
     "data": {
      "application/vnd.jupyter.widget-view+json": {
       "model_id": "60dbaccc4790436185b70789571bf5e7",
       "version_major": 2,
       "version_minor": 0
      },
      "text/plain": [
       "Evaluating:   0%|          | 0/106 [00:00<?, ?batches/s]"
      ]
     },
     "metadata": {},
     "output_type": "display_data"
    },
    {
     "name": "stdout",
     "output_type": "stream",
     "text": [
      "lr 1.0000000000000002e-07\n",
      "{'macro_f1': 0.12020126056791158, 'macro_auc': 0.9217171236285211, 'macro_P@5': 0.8105575326215897, 'macro_P@8': 0.7402505931198102, 'macro_P@15': 0.594306049822064, 'micro_f1': 0.5714820476027076, 'micro_auc': 0.9876208201347034, 'loss': 0.008753191969656158}\n",
      "\n",
      "\n",
      "\n"
     ]
    },
    {
     "data": {
      "application/vnd.jupyter.widget-view+json": {
       "model_id": "ddc61a33f4564fa1837cdc321654e6bb",
       "version_major": 2,
       "version_minor": 0
      },
      "text/plain": [
       "Training at epoch #19:   0%|          | 0/1492 [00:00<?, ?batches/s]"
      ]
     },
     "metadata": {},
     "output_type": "display_data"
    },
    {
     "name": "stdout",
     "output_type": "stream",
     "text": [
      "{'macro_f1': 0.5741018110455225, 'macro_auc': 0.9929168146802698, 'macro_P@5': 0.8240784593139001, 'macro_P@8': 0.7442921058697793, 'macro_P@15': 0.5870310218850633, 'micro_f1': 0.6130354446685179, 'micro_auc': 0.9973146739701267, 'loss': 0.005811891570966941}\n"
     ]
    },
    {
     "data": {
      "application/vnd.jupyter.widget-view+json": {
       "model_id": "71e2e962aaef4dbb9191c2e9ede57e63",
       "version_major": 2,
       "version_minor": 0
      },
      "text/plain": [
       "Evaluating:   0%|          | 0/51 [00:00<?, ?batches/s]"
      ]
     },
     "metadata": {},
     "output_type": "display_data"
    },
    {
     "data": {
      "application/vnd.jupyter.widget-view+json": {
       "model_id": "5a42f036da42466a89f157e139fc39d7",
       "version_major": 2,
       "version_minor": 0
      },
      "text/plain": [
       "Evaluating:   0%|          | 0/106 [00:00<?, ?batches/s]"
      ]
     },
     "metadata": {},
     "output_type": "display_data"
    },
    {
     "name": "stdout",
     "output_type": "stream",
     "text": [
      "lr 1.0000000000000002e-07\n",
      "{'macro_f1': 0.12022773881169785, 'macro_auc': 0.9217156051494669, 'macro_P@5': 0.8106168446026097, 'macro_P@8': 0.7402505931198102, 'macro_P@15': 0.594306049822064, 'micro_f1': 0.5715310874160512, 'micro_auc': 0.9876201838173863, 'loss': 0.008752879040878056}\n",
      "\n",
      "\n",
      "\n"
     ]
    },
    {
     "data": {
      "application/vnd.jupyter.widget-view+json": {
       "model_id": "9addad2f9f2f4461b8df711bc7063c05",
       "version_major": 2,
       "version_minor": 0
      },
      "text/plain": [
       "Training at epoch #20:   0%|          | 0/1492 [00:00<?, ?batches/s]"
      ]
     },
     "metadata": {},
     "output_type": "display_data"
    },
    {
     "name": "stdout",
     "output_type": "stream",
     "text": [
      "{'macro_f1': 0.573896786576937, 'macro_auc': 0.992878848060706, 'macro_P@5': 0.8243341226765021, 'macro_P@8': 0.7447531381629958, 'macro_P@15': 0.5870813163170505, 'micro_f1': 0.6130316209484736, 'micro_auc': 0.9973131691064628, 'loss': 0.005811329225818539}\n"
     ]
    },
    {
     "data": {
      "application/vnd.jupyter.widget-view+json": {
       "model_id": "73a22b01c37d46feb22833a6a94fd64f",
       "version_major": 2,
       "version_minor": 0
      },
      "text/plain": [
       "Evaluating:   0%|          | 0/51 [00:00<?, ?batches/s]"
      ]
     },
     "metadata": {},
     "output_type": "display_data"
    },
    {
     "data": {
      "application/vnd.jupyter.widget-view+json": {
       "model_id": "6284d061893a469c953cc0c47729c014",
       "version_major": 2,
       "version_minor": 0
      },
      "text/plain": [
       "Evaluating:   0%|          | 0/106 [00:00<?, ?batches/s]"
      ]
     },
     "metadata": {},
     "output_type": "display_data"
    },
    {
     "name": "stdout",
     "output_type": "stream",
     "text": [
      "lr 1.0000000000000004e-08\n",
      "{'macro_f1': 0.12020319792971383, 'macro_auc': 0.9217126128826723, 'macro_P@5': 0.8106761565836299, 'macro_P@8': 0.7402505931198102, 'macro_P@15': 0.5943455911427441, 'micro_f1': 0.5715801380816788, 'micro_auc': 0.987619304693645, 'loss': 0.008752650743842407}\n",
      "\n",
      "\n",
      "\n"
     ]
    },
    {
     "data": {
      "application/vnd.jupyter.widget-view+json": {
       "model_id": "deaa81e649cd47d09cc82a5c16066e39",
       "version_major": 2,
       "version_minor": 0
      },
      "text/plain": [
       "Training at epoch #21:   0%|          | 0/1492 [00:00<?, ?batches/s]"
      ]
     },
     "metadata": {},
     "output_type": "display_data"
    },
    {
     "name": "stdout",
     "output_type": "stream",
     "text": [
      "{'macro_f1': 0.5724754803682578, 'macro_auc': 0.992895568702175, 'macro_P@5': 0.8237599279113141, 'macro_P@8': 0.7449993713196001, 'macro_P@15': 0.5869737421153, 'micro_f1': 0.6128171477333213, 'micro_auc': 0.9973110520063926, 'loss': 0.005812296773689042}\n"
     ]
    },
    {
     "data": {
      "application/vnd.jupyter.widget-view+json": {
       "model_id": "9a2298818ab84c66a530c224774183e1",
       "version_major": 2,
       "version_minor": 0
      },
      "text/plain": [
       "Evaluating:   0%|          | 0/51 [00:00<?, ?batches/s]"
      ]
     },
     "metadata": {},
     "output_type": "display_data"
    },
    {
     "data": {
      "application/vnd.jupyter.widget-view+json": {
       "model_id": "422a2fd6f5914fbda745e0d4af15e2fb",
       "version_major": 2,
       "version_minor": 0
      },
      "text/plain": [
       "Evaluating:   0%|          | 0/106 [00:00<?, ?batches/s]"
      ]
     },
     "metadata": {},
     "output_type": "display_data"
    },
    {
     "name": "stdout",
     "output_type": "stream",
     "text": [
      "lr 1.0000000000000004e-08\n",
      "{'macro_f1': 0.12020235763569861, 'macro_auc': 0.9217130698630123, 'macro_P@5': 0.8106761565836299, 'macro_P@8': 0.7402505931198102, 'macro_P@15': 0.5943258204824041, 'micro_f1': 0.5715801380816788, 'micro_auc': 0.9876193075568983, 'loss': 0.00875265601108659}\n",
      "\n",
      "\n",
      "\n"
     ]
    },
    {
     "data": {
      "application/vnd.jupyter.widget-view+json": {
       "model_id": "588508ca02fd42dcb38c885abf04a90f",
       "version_major": 2,
       "version_minor": 0
      },
      "text/plain": [
       "Training at epoch #22:   0%|          | 0/1492 [00:00<?, ?batches/s]"
      ]
     },
     "metadata": {},
     "output_type": "display_data"
    },
    {
     "ename": "KeyboardInterrupt",
     "evalue": "",
     "output_type": "error",
     "traceback": [
      "\u001b[0;31m---------------------------------------------------------------------------\u001b[0m",
      "\u001b[0;31mKeyboardInterrupt\u001b[0m                         Traceback (most recent call last)",
      "Cell \u001b[0;32mIn [14], line 2\u001b[0m\n\u001b[1;32m      1\u001b[0m \u001b[38;5;66;03m#( total codes = 8907, run->2)\u001b[39;00m\n\u001b[0;32m----> 2\u001b[0m \u001b[43mrun_with_validation\u001b[49m\u001b[43m(\u001b[49m\u001b[43mtraining_data\u001b[49m\u001b[43m,\u001b[49m\u001b[43m \u001b[49m\u001b[43mvalid_data\u001b[49m\u001b[43m,\u001b[49m\u001b[43m \u001b[49m\u001b[43mtest_data\u001b[49m\u001b[43m,\u001b[49m\u001b[43m \u001b[49m\u001b[43mlabel_desc\u001b[49m\u001b[43m,\u001b[49m\u001b[43m \u001b[49m\u001b[43mvocab\u001b[49m\u001b[43m,\u001b[49m\u001b[43m \u001b[49m\u001b[43msaved_data_file_path\u001b[49m\u001b[38;5;241;43m=\u001b[39;49m\u001b[38;5;124;43m\"\u001b[39;49m\u001b[38;5;132;43;01m{}\u001b[39;49;00m\u001b[38;5;124;43m.data.pkl\u001b[39;49m\u001b[38;5;124;43m\"\u001b[39;49m\u001b[38;5;241;43m.\u001b[39;49m\u001b[43mformat\u001b[49m\u001b[43m(\u001b[49m\u001b[43msaved_vocab_path\u001b[49m\u001b[38;5;241;43m.\u001b[39;49m\u001b[43msplit\u001b[49m\u001b[43m(\u001b[49m\u001b[38;5;124;43m\"\u001b[39;49m\u001b[38;5;124;43m.pkl\u001b[39;49m\u001b[38;5;124;43m\"\u001b[39;49m\u001b[43m)\u001b[49m\u001b[43m[\u001b[49m\u001b[38;5;241;43m0\u001b[39;49m\u001b[43m]\u001b[49m\u001b[43m)\u001b[49m\u001b[43m)\u001b[49m\n",
      "Cell \u001b[0;32mIn [13], line 2\u001b[0m, in \u001b[0;36mrun_with_validation\u001b[0;34m(training_data, valid_data, test_data, label_desc, vocab, saved_data_file_path)\u001b[0m\n\u001b[1;32m      1\u001b[0m \u001b[38;5;28;01mdef\u001b[39;00m \u001b[38;5;21mrun_with_validation\u001b[39m(training_data, valid_data, test_data, label_desc, vocab, saved_data_file_path):\n\u001b[0;32m----> 2\u001b[0m     best_model, scores \u001b[38;5;241m=\u001b[39m \u001b[43m_train_model\u001b[49m\u001b[43m(\u001b[49m\n\u001b[1;32m      3\u001b[0m \u001b[43m        \u001b[49m\u001b[43mtrain_data\u001b[49m\u001b[38;5;241;43m=\u001b[39;49m\u001b[43mtraining_data\u001b[49m\u001b[43m,\u001b[49m\u001b[43m \u001b[49m\u001b[43mvalid_data\u001b[49m\u001b[38;5;241;43m=\u001b[39;49m\u001b[43mvalid_data\u001b[49m\u001b[43m,\u001b[49m\u001b[43m \u001b[49m\u001b[43mtest_data\u001b[49m\u001b[38;5;241;43m=\u001b[39;49m\u001b[43mtest_data\u001b[49m\u001b[43m,\u001b[49m\u001b[43m \u001b[49m\u001b[43mlabel_desc\u001b[49m\u001b[38;5;241;43m=\u001b[39;49m\u001b[43mlabel_desc\u001b[49m\u001b[43m,\u001b[49m\n\u001b[1;32m      4\u001b[0m \u001b[43m        \u001b[49m\u001b[43mvocab\u001b[49m\u001b[38;5;241;43m=\u001b[39;49m\u001b[43mvocab\u001b[49m\u001b[43m,\u001b[49m\u001b[43m \u001b[49m\u001b[43msaved_data_file_path\u001b[49m\u001b[38;5;241;43m=\u001b[39;49m\u001b[43msaved_data_file_path\u001b[49m\u001b[43m,\u001b[49m\u001b[43m \u001b[49m\u001b[43mcheckpoint_path\u001b[49m\u001b[38;5;241;43m=\u001b[39;49m\u001b[38;5;124;43m\"\u001b[39;49m\u001b[38;5;124;43m../model/checkpoint.pkl\u001b[39;49m\u001b[38;5;124;43m\"\u001b[39;49m\u001b[43m)\u001b[49m\n\u001b[1;32m      6\u001b[0m     \u001b[38;5;28;01mreturn\u001b[39;00m best_model, scores\n",
      "Cell \u001b[0;32mIn [12], line 31\u001b[0m, in \u001b[0;36m_train_model\u001b[0;34m(train_data, valid_data, test_data, label_desc, vocab, saved_data_file_path, checkpoint_path)\u001b[0m\n\u001b[1;32m     20\u001b[0m criterions \u001b[38;5;241m=\u001b[39m nn\u001b[38;5;241m.\u001b[39mBCEWithLogitsLoss(pos_weight \u001b[38;5;241m=\u001b[39m torch\u001b[38;5;241m.\u001b[39mtensor(\u001b[38;5;241m2\u001b[39m))\n\u001b[1;32m     22\u001b[0m trainer \u001b[38;5;241m=\u001b[39m Trainer(model\u001b[38;5;241m=\u001b[39mmodel,\n\u001b[1;32m     23\u001b[0m                   train_dataloader\u001b[38;5;241m=\u001b[39mtrain_dataloader,\n\u001b[1;32m     24\u001b[0m                   valid_dataloader\u001b[38;5;241m=\u001b[39mvalid_dataloader,\n\u001b[0;32m   (...)\u001b[0m\n\u001b[1;32m     29\u001b[0m                   vocab\u001b[38;5;241m=\u001b[39mvocab,\n\u001b[1;32m     30\u001b[0m                   checkpoint_path\u001b[38;5;241m=\u001b[39mcheckpoint_path)\n\u001b[0;32m---> 31\u001b[0m best_model, scores \u001b[38;5;241m=\u001b[39m \u001b[43mtrainer\u001b[49m\u001b[38;5;241;43m.\u001b[39;49m\u001b[43mtrain\u001b[49m\u001b[43m(\u001b[49m\u001b[43mn_epoch\u001b[49m\u001b[38;5;241;43m=\u001b[39;49m\u001b[43mn_epoch\u001b[49m\u001b[43m)\u001b[49m\n\u001b[1;32m     33\u001b[0m evaluator \u001b[38;5;241m=\u001b[39m Evaluator(model\u001b[38;5;241m=\u001b[39mbest_model,vocab\u001b[38;5;241m=\u001b[39mvocab,criterions\u001b[38;5;241m=\u001b[39mcriterions,\n\u001b[1;32m     34\u001b[0m                       n_training_labels\u001b[38;5;241m=\u001b[39mn_labels,device \u001b[38;5;241m=\u001b[39m device)\n\u001b[1;32m     36\u001b[0m \u001b[38;5;28;01mdel\u001b[39;00m model, optimiser, evaluator, trainer, criterions\n",
      "Cell \u001b[0;32mIn [10], line 87\u001b[0m, in \u001b[0;36mTrainer.train\u001b[0;34m(self, n_epoch)\u001b[0m\n\u001b[1;32m     85\u001b[0m evaluator \u001b[38;5;241m=\u001b[39m Evaluator(\u001b[38;5;28mself\u001b[39m\u001b[38;5;241m.\u001b[39mmodel, \u001b[38;5;28mself\u001b[39m\u001b[38;5;241m.\u001b[39mvocab, \u001b[38;5;28mself\u001b[39m\u001b[38;5;241m.\u001b[39mcriterions, \u001b[38;5;28mself\u001b[39m\u001b[38;5;241m.\u001b[39mn_training_labels,device)\n\u001b[1;32m     86\u001b[0m \u001b[38;5;28;01mfor\u001b[39;00m e \u001b[38;5;129;01min\u001b[39;00m \u001b[38;5;28mrange\u001b[39m(\u001b[38;5;28mself\u001b[39m\u001b[38;5;241m.\u001b[39mstart_epoch \u001b[38;5;241m+\u001b[39m \u001b[38;5;241m1\u001b[39m, n_epoch \u001b[38;5;241m+\u001b[39m \u001b[38;5;241m1\u001b[39m):\n\u001b[0;32m---> 87\u001b[0m     train_scores \u001b[38;5;241m=\u001b[39m \u001b[38;5;28;43mself\u001b[39;49m\u001b[38;5;241;43m.\u001b[39;49m\u001b[43mtrain_single_epoch\u001b[49m\u001b[43m(\u001b[49m\u001b[43me\u001b[49m\u001b[43m)\u001b[49m\n\u001b[1;32m     88\u001b[0m     epoch_loss \u001b[38;5;241m=\u001b[39m train_scores[\u001b[38;5;124m\"\u001b[39m\u001b[38;5;124maverage\u001b[39m\u001b[38;5;124m\"\u001b[39m]\n\u001b[1;32m     89\u001b[0m     valid_scores \u001b[38;5;241m=\u001b[39m evaluator\u001b[38;5;241m.\u001b[39mevaluate(\u001b[38;5;28mself\u001b[39m\u001b[38;5;241m.\u001b[39mvalid_dataloader)\n",
      "Cell \u001b[0;32mIn [10], line 54\u001b[0m, in \u001b[0;36mTrainer.train_single_epoch\u001b[0;34m(self, index)\u001b[0m\n\u001b[1;32m     52\u001b[0m loss_list \u001b[38;5;241m=\u001b[39m []\n\u001b[1;32m     53\u001b[0m loss_list \u001b[38;5;241m=\u001b[39m \u001b[38;5;28mself\u001b[39m\u001b[38;5;241m.\u001b[39mcriterions(output, label_batch)\n\u001b[0;32m---> 54\u001b[0m all_loss_list\u001b[38;5;241m.\u001b[39mappend([\u001b[43mloss_list\u001b[49m\u001b[38;5;241;43m.\u001b[39;49m\u001b[43mitem\u001b[49m\u001b[43m(\u001b[49m\u001b[43m)\u001b[49m])\n\u001b[1;32m     55\u001b[0m output \u001b[38;5;241m=\u001b[39m torch\u001b[38;5;241m.\u001b[39msigmoid(output)\n\u001b[1;32m     56\u001b[0m output \u001b[38;5;241m=\u001b[39m output\u001b[38;5;241m.\u001b[39mdetach()\u001b[38;5;241m.\u001b[39mcpu()\u001b[38;5;241m.\u001b[39mnumpy()\n",
      "\u001b[0;31mKeyboardInterrupt\u001b[0m: "
     ]
    }
   ],
   "source": [
    "#( total codes = 8907, run->2)\n",
    "run_with_validation(training_data, valid_data, test_data, label_desc, vocab, saved_data_file_path=\"{}.data.pkl\".format(saved_vocab_path.split(\".pkl\")[0]))"
   ]
  },
  {
   "cell_type": "code",
   "execution_count": 17,
   "id": "9336e080",
   "metadata": {},
   "outputs": [
    {
     "name": "stdout",
     "output_type": "stream",
     "text": [
      "5590475\n"
     ]
    }
   ],
   "source": [
    "pytorch_total_params = sum(p.numel() for p in model.parameters() if p.requires_grad)\n",
    "print(pytorch_total_params)"
   ]
  },
  {
   "cell_type": "code",
   "execution_count": null,
   "id": "3c8a6531",
   "metadata": {},
   "outputs": [],
   "source": []
  },
  {
   "cell_type": "code",
   "execution_count": null,
   "id": "c97010db",
   "metadata": {},
   "outputs": [],
   "source": []
  },
  {
   "cell_type": "code",
   "execution_count": null,
   "id": "90051da7",
   "metadata": {},
   "outputs": [
    {
     "data": {
      "application/vnd.jupyter.widget-view+json": {
       "model_id": "0a778ee446c142e9b2332f520d083cfb",
       "version_major": 2,
       "version_minor": 0
      },
      "text/plain": [
       "Training at epoch #1:   0%|          | 0/1492 [00:00<?, ?batches/s]"
      ]
     },
     "metadata": {},
     "output_type": "display_data"
    },
    {
     "name": "stdout",
     "output_type": "stream",
     "text": [
      "{'macro_f1': 0.0013977374870771976, 'macro_auc': 0.43186631653779267, 'macro_P@5': 0.24968251639808048, 'macro_P@8': 0.22187703011379115, 'macro_P@15': 0.18215246198229915, 'micro_f1': 0.0312868750714615, 'micro_auc': 0.9209802624672869, 'loss': 0.02057751205664917}\n"
     ]
    },
    {
     "data": {
      "application/vnd.jupyter.widget-view+json": {
       "model_id": "465ef2f0eb144a7d8049f899d472a447",
       "version_major": 2,
       "version_minor": 0
      },
      "text/plain": [
       "Evaluating:   0%|          | 0/51 [00:00<?, ?batches/s]"
      ]
     },
     "metadata": {},
     "output_type": "display_data"
    },
    {
     "data": {
      "application/vnd.jupyter.widget-view+json": {
       "model_id": "308151da6f984792a4ed151c29b03b08",
       "version_major": 2,
       "version_minor": 0
      },
      "text/plain": [
       "Evaluating:   0%|          | 0/106 [00:00<?, ?batches/s]"
      ]
     },
     "metadata": {},
     "output_type": "display_data"
    },
    {
     "name": "stdout",
     "output_type": "stream",
     "text": [
      "lr 0.001\n",
      "{'macro_f1': 0.00010553345425829218, 'macro_auc': 0.4851821463431628, 'macro_P@5': 0.2577698695136418, 'macro_P@8': 0.2226423487544484, 'macro_P@15': 0.17761961249505737, 'micro_f1': 0.054127198917456015, 'micro_auc': 0.9284976139426423, 'loss': 0.018256732737118343}\n",
      "\n",
      "\n",
      "\n"
     ]
    },
    {
     "data": {
      "application/vnd.jupyter.widget-view+json": {
       "model_id": "34cc88b2824d43e598920bdb9bef3a6e",
       "version_major": 2,
       "version_minor": 0
      },
      "text/plain": [
       "Training at epoch #2:   0%|          | 0/1492 [00:00<?, ?batches/s]"
      ]
     },
     "metadata": {},
     "output_type": "display_data"
    },
    {
     "name": "stdout",
     "output_type": "stream",
     "text": [
      "{'macro_f1': 0.0019022545906197436, 'macro_auc': 0.4433526359715493, 'macro_P@5': 0.34274817158783716, 'macro_P@8': 0.29728986357635323, 'macro_P@15': 0.23321248698980843, 'micro_f1': 0.14885629435836698, 'micro_auc': 0.9453698015486227, 'loss': 0.01461225191390906}\n"
     ]
    },
    {
     "data": {
      "application/vnd.jupyter.widget-view+json": {
       "model_id": "70b45ab8f5e74c7597656eaee8dd9971",
       "version_major": 2,
       "version_minor": 0
      },
      "text/plain": [
       "Evaluating:   0%|          | 0/51 [00:00<?, ?batches/s]"
      ]
     },
     "metadata": {},
     "output_type": "display_data"
    },
    {
     "data": {
      "application/vnd.jupyter.widget-view+json": {
       "model_id": "4f942b5d8bec4d2790ffd270c3d91651",
       "version_major": 2,
       "version_minor": 0
      },
      "text/plain": [
       "Evaluating:   0%|          | 0/106 [00:00<?, ?batches/s]"
      ]
     },
     "metadata": {},
     "output_type": "display_data"
    },
    {
     "name": "stdout",
     "output_type": "stream",
     "text": [
      "lr 0.001\n",
      "{'macro_f1': 0.0017237595800293532, 'macro_auc': 0.7131753710981169, 'macro_P@5': 0.3816725978647687, 'macro_P@8': 0.3291073546856465, 'macro_P@15': 0.2587584025306445, 'micro_f1': 0.16733369388858843, 'micro_auc': 0.9487961549208164, 'loss': 0.015982442535459995}\n",
      "\n",
      "\n",
      "\n"
     ]
    },
    {
     "data": {
      "application/vnd.jupyter.widget-view+json": {
       "model_id": "f3adb8382aac407d98b844b66451df08",
       "version_major": 2,
       "version_minor": 0
      },
      "text/plain": [
       "Training at epoch #3:   0%|          | 0/1492 [00:00<?, ?batches/s]"
      ]
     },
     "metadata": {},
     "output_type": "display_data"
    },
    {
     "name": "stdout",
     "output_type": "stream",
     "text": [
      "{'macro_f1': 0.016379581562720586, 'macro_auc': 0.6886044324386438, 'macro_P@5': 0.5570527462855467, 'macro_P@8': 0.48050304909993924, 'macro_P@15': 0.36872105450659065, 'micro_f1': 0.35464097683189416, 'micro_auc': 0.9716245271549359, 'loss': 0.01125392062656941}\n"
     ]
    },
    {
     "data": {
      "application/vnd.jupyter.widget-view+json": {
       "model_id": "11a821cbddba4225a9c1061786c782e1",
       "version_major": 2,
       "version_minor": 0
      },
      "text/plain": [
       "Evaluating:   0%|          | 0/51 [00:00<?, ?batches/s]"
      ]
     },
     "metadata": {},
     "output_type": "display_data"
    },
    {
     "data": {
      "application/vnd.jupyter.widget-view+json": {
       "model_id": "ecda0c6ad4c54901a551425d3deb4a4a",
       "version_major": 2,
       "version_minor": 0
      },
      "text/plain": [
       "Evaluating:   0%|          | 0/106 [00:00<?, ?batches/s]"
      ]
     },
     "metadata": {},
     "output_type": "display_data"
    },
    {
     "name": "stdout",
     "output_type": "stream",
     "text": [
      "lr 0.001\n",
      "{'macro_f1': 0.03489639850666835, 'macro_auc': 0.8694255258466095, 'macro_P@5': 0.7144721233689205, 'macro_P@8': 0.634452846975089, 'macro_P@15': 0.49630288651640964, 'micro_f1': 0.4790882976540592, 'micro_auc': 0.9779903497119384, 'loss': 0.010995725982488607}\n",
      "\n",
      "\n",
      "\n"
     ]
    },
    {
     "data": {
      "application/vnd.jupyter.widget-view+json": {
       "model_id": "40d4934f6186442d9b6ae93793cdac55",
       "version_major": 2,
       "version_minor": 0
      },
      "text/plain": [
       "Training at epoch #4:   0%|          | 0/1492 [00:00<?, ?batches/s]"
      ]
     },
     "metadata": {},
     "output_type": "display_data"
    },
    {
     "name": "stdout",
     "output_type": "stream",
     "text": [
      "{'macro_f1': 0.048301706751084375, 'macro_auc': 0.8347055573595908, 'macro_P@5': 0.7043483727655652, 'macro_P@8': 0.6222835767723548, 'macro_P@15': 0.48353206619306077, 'micro_f1': 0.49435416404125554, 'micro_auc': 0.9863678303170125, 'loss': 0.008587735730358188}\n"
     ]
    },
    {
     "data": {
      "application/vnd.jupyter.widget-view+json": {
       "model_id": "62de1c8fcccb4ac1bb8f4dc7fbfc4045",
       "version_major": 2,
       "version_minor": 0
      },
      "text/plain": [
       "Evaluating:   0%|          | 0/51 [00:00<?, ?batches/s]"
      ]
     },
     "metadata": {},
     "output_type": "display_data"
    },
    {
     "data": {
      "application/vnd.jupyter.widget-view+json": {
       "model_id": "22ad8bea20b942dd8d8e3d4bc12adea3",
       "version_major": 2,
       "version_minor": 0
      },
      "text/plain": [
       "Evaluating:   0%|          | 0/106 [00:00<?, ?batches/s]"
      ]
     },
     "metadata": {},
     "output_type": "display_data"
    },
    {
     "name": "stdout",
     "output_type": "stream",
     "text": [
      "lr 0.001\n",
      "{'macro_f1': 0.06603880700888448, 'macro_auc': 0.9103330612737887, 'macro_P@5': 0.76073546856465, 'macro_P@8': 0.68301453143535, 'macro_P@15': 0.5416567813364966, 'micro_f1': 0.5220834052060488, 'micro_auc': 0.9843320364248749, 'loss': 0.009665390305256224}\n",
      "\n",
      "\n",
      "\n"
     ]
    },
    {
     "data": {
      "application/vnd.jupyter.widget-view+json": {
       "model_id": "3c34c7430724404d9f9becf3d25859ad",
       "version_major": 2,
       "version_minor": 0
      },
      "text/plain": [
       "Training at epoch #5:   0%|          | 0/1492 [00:00<?, ?batches/s]"
      ]
     },
     "metadata": {},
     "output_type": "display_data"
    },
    {
     "name": "stdout",
     "output_type": "stream",
     "text": [
      "{'macro_f1': 0.0723958033775787, 'macro_auc': 0.916540461523493, 'macro_P@5': 0.7354009933150317, 'macro_P@8': 0.6530627213478908, 'macro_P@15': 0.5103292189693833, 'micro_f1': 0.5252077978952583, 'micro_auc': 0.9908956507664767, 'loss': 0.007834705547242358}\n"
     ]
    },
    {
     "data": {
      "application/vnd.jupyter.widget-view+json": {
       "model_id": "1df024d99cf4451699fb4e14c6ca72a8",
       "version_major": 2,
       "version_minor": 0
      },
      "text/plain": [
       "Evaluating:   0%|          | 0/51 [00:00<?, ?batches/s]"
      ]
     },
     "metadata": {},
     "output_type": "display_data"
    },
    {
     "data": {
      "application/vnd.jupyter.widget-view+json": {
       "model_id": "188950365248492cbcf59e0148e71262",
       "version_major": 2,
       "version_minor": 0
      },
      "text/plain": [
       "Evaluating:   0%|          | 0/106 [00:00<?, ?batches/s]"
      ]
     },
     "metadata": {},
     "output_type": "display_data"
    },
    {
     "name": "stdout",
     "output_type": "stream",
     "text": [
      "lr 0.001\n",
      "{'macro_f1': 0.07803064690994332, 'macro_auc': 0.9215118911015998, 'macro_P@5': 0.7750889679715303, 'macro_P@8': 0.7054048042704626, 'macro_P@15': 0.5591538157374456, 'micro_f1': 0.545034988337221, 'micro_auc': 0.9865864195570294, 'loss': 0.009088872299301174}\n",
      "\n",
      "\n",
      "\n"
     ]
    },
    {
     "data": {
      "application/vnd.jupyter.widget-view+json": {
       "model_id": "62c4ffce7fab491cabfb8a7a284b4771",
       "version_major": 2,
       "version_minor": 0
      },
      "text/plain": [
       "Training at epoch #6:   0%|          | 0/1492 [00:00<?, ?batches/s]"
      ]
     },
     "metadata": {},
     "output_type": "display_data"
    },
    {
     "name": "stdout",
     "output_type": "stream",
     "text": [
      "{'macro_f1': 0.09394890320435649, 'macro_auc': 0.952179354391584, 'macro_P@5': 0.7511976361616967, 'macro_P@8': 0.671252540916616, 'macro_P@15': 0.5252373268509398, 'micro_f1': 0.5423555251712753, 'micro_auc': 0.9929847380745973, 'loss': 0.0074239854361292665}\n"
     ]
    },
    {
     "data": {
      "application/vnd.jupyter.widget-view+json": {
       "model_id": "70c58cab046f471bb4615fdeaa1799dd",
       "version_major": 2,
       "version_minor": 0
      },
      "text/plain": [
       "Evaluating:   0%|          | 0/51 [00:00<?, ?batches/s]"
      ]
     },
     "metadata": {},
     "output_type": "display_data"
    },
    {
     "data": {
      "application/vnd.jupyter.widget-view+json": {
       "model_id": "bb5f33ed12324c74a28b0fe3b7f5812a",
       "version_major": 2,
       "version_minor": 0
      },
      "text/plain": [
       "Evaluating:   0%|          | 0/106 [00:00<?, ?batches/s]"
      ]
     },
     "metadata": {},
     "output_type": "display_data"
    },
    {
     "name": "stdout",
     "output_type": "stream",
     "text": [
      "lr 0.001\n",
      "{'macro_f1': 0.09062687135886378, 'macro_auc': 0.9257850360736732, 'macro_P@5': 0.787900355871886, 'macro_P@8': 0.7106687425860023, 'macro_P@15': 0.565717674970344, 'micro_f1': 0.5448871744209751, 'micro_auc': 0.9872450298837275, 'loss': 0.009068727405425513}\n",
      "\n",
      "\n",
      "\n"
     ]
    },
    {
     "data": {
      "application/vnd.jupyter.widget-view+json": {
       "model_id": "770490543931445099e9f3c696bf4fc3",
       "version_major": 2,
       "version_minor": 0
      },
      "text/plain": [
       "Training at epoch #7:   0%|          | 0/1492 [00:00<?, ?batches/s]"
      ]
     },
     "metadata": {},
     "output_type": "display_data"
    },
    {
     "name": "stdout",
     "output_type": "stream",
     "text": [
      "{'macro_f1': 0.11615686273107818, 'macro_auc': 0.9680967395729371, 'macro_P@5': 0.7627318258974414, 'macro_P@8': 0.682317315953813, 'macro_P@15': 0.5343112806219744, 'micro_f1': 0.5528721324164383, 'micro_auc': 0.9940871754183496, 'loss': 0.007159838089956615}\n"
     ]
    },
    {
     "data": {
      "application/vnd.jupyter.widget-view+json": {
       "model_id": "4fa17507562a42419ce9c8cc19201c61",
       "version_major": 2,
       "version_minor": 0
      },
      "text/plain": [
       "Evaluating:   0%|          | 0/51 [00:00<?, ?batches/s]"
      ]
     },
     "metadata": {},
     "output_type": "display_data"
    },
    {
     "data": {
      "application/vnd.jupyter.widget-view+json": {
       "model_id": "a0b2c126672e4b70a409596f1007d690",
       "version_major": 2,
       "version_minor": 0
      },
      "text/plain": [
       "Evaluating:   0%|          | 0/106 [00:00<?, ?batches/s]"
      ]
     },
     "metadata": {},
     "output_type": "display_data"
    },
    {
     "name": "stdout",
     "output_type": "stream",
     "text": [
      "lr 0.001\n",
      "{'macro_f1': 0.09477117459622642, 'macro_auc': 0.9264767090118786, 'macro_P@5': 0.7902728351126929, 'macro_P@8': 0.7174896204033214, 'macro_P@15': 0.5748912613681297, 'micro_f1': 0.5579515042730896, 'micro_auc': 0.9875248218319728, 'loss': 0.008821643902129441}\n",
      "\n",
      "\n",
      "\n"
     ]
    },
    {
     "data": {
      "application/vnd.jupyter.widget-view+json": {
       "model_id": "700bcfbdf07b4fdaaf045b0e910a71a5",
       "version_major": 2,
       "version_minor": 0
      },
      "text/plain": [
       "Training at epoch #8:   0%|          | 0/1492 [00:00<?, ?batches/s]"
      ]
     },
     "metadata": {},
     "output_type": "display_data"
    },
    {
     "name": "stdout",
     "output_type": "stream",
     "text": [
      "{'macro_f1': 0.14605923596800482, 'macro_auc': 0.9761249513945734, 'macro_P@5': 0.7703179027221861, 'macro_P@8': 0.6908097403549949, 'macro_P@15': 0.5412197796824466, 'micro_f1': 0.5612008972385917, 'micro_auc': 0.9948115731318055, 'loss': 0.006957159246550249}\n"
     ]
    },
    {
     "data": {
      "application/vnd.jupyter.widget-view+json": {
       "model_id": "85f7fe7759394f688dc2a0baf20d5a24",
       "version_major": 2,
       "version_minor": 0
      },
      "text/plain": [
       "Evaluating:   0%|          | 0/51 [00:00<?, ?batches/s]"
      ]
     },
     "metadata": {},
     "output_type": "display_data"
    },
    {
     "data": {
      "application/vnd.jupyter.widget-view+json": {
       "model_id": "e7414086b6b94d8f9deb6d5864ee82c3",
       "version_major": 2,
       "version_minor": 0
      },
      "text/plain": [
       "Evaluating:   0%|          | 0/106 [00:00<?, ?batches/s]"
      ]
     },
     "metadata": {},
     "output_type": "display_data"
    },
    {
     "name": "stdout",
     "output_type": "stream",
     "text": [
      "lr 0.001\n",
      "{'macro_f1': 0.10390811862393898, 'macro_auc': 0.9274867446928324, 'macro_P@5': 0.7884341637010677, 'macro_P@8': 0.7127817319098458, 'macro_P@15': 0.5716686437327007, 'micro_f1': 0.5458488739465528, 'micro_auc': 0.9877667505728973, 'loss': 0.009086952821509738}\n",
      "\n",
      "\n",
      "\n"
     ]
    },
    {
     "data": {
      "application/vnd.jupyter.widget-view+json": {
       "model_id": "77eb20fc65cd4f63b330ee96c8644c79",
       "version_major": 2,
       "version_minor": 0
      },
      "text/plain": [
       "Training at epoch #9:   0%|          | 0/1492 [00:00<?, ?batches/s]"
      ]
     },
     "metadata": {},
     "output_type": "display_data"
    },
    {
     "name": "stdout",
     "output_type": "stream",
     "text": [
      "{'macro_f1': 0.18775621443004403, 'macro_auc': 0.9809021296655462, 'macro_P@5': 0.7762819841153421, 'macro_P@8': 0.6966302730568537, 'macro_P@15': 0.5465593718784272, 'micro_f1': 0.5669442504701245, 'micro_auc': 0.9953101865276642, 'loss': 0.006801830114979027}\n"
     ]
    },
    {
     "data": {
      "application/vnd.jupyter.widget-view+json": {
       "model_id": "bd57632cffc141d9b6a5a8c15ef24bd1",
       "version_major": 2,
       "version_minor": 0
      },
      "text/plain": [
       "Evaluating:   0%|          | 0/51 [00:00<?, ?batches/s]"
      ]
     },
     "metadata": {},
     "output_type": "display_data"
    },
    {
     "data": {
      "application/vnd.jupyter.widget-view+json": {
       "model_id": "4c1f221961f34254a476820079f525e8",
       "version_major": 2,
       "version_minor": 0
      },
      "text/plain": [
       "Evaluating:   0%|          | 0/106 [00:00<?, ?batches/s]"
      ]
     },
     "metadata": {},
     "output_type": "display_data"
    },
    {
     "name": "stdout",
     "output_type": "stream",
     "text": [
      "lr 0.0001\n",
      "{'macro_f1': 0.10375325780560075, 'macro_auc': 0.926816707290277, 'macro_P@5': 0.8000593119810202, 'macro_P@8': 0.7222345788849348, 'macro_P@15': 0.5792408066429419, 'micro_f1': 0.5589814873317749, 'micro_auc': 0.9874469945444468, 'loss': 0.008831348529366671}\n",
      "\n",
      "\n",
      "\n"
     ]
    },
    {
     "data": {
      "application/vnd.jupyter.widget-view+json": {
       "model_id": "b4b727d84b6b49688949bd8e41e9445f",
       "version_major": 2,
       "version_minor": 0
      },
      "text/plain": [
       "Training at epoch #10:   0%|          | 0/1492 [00:00<?, ?batches/s]"
      ]
     },
     "metadata": {},
     "output_type": "display_data"
    }
   ],
   "source": [
    "#( total codes = 8907)\n",
    "run_with_validation(training_data, valid_data, test_data, label_desc, vocab, saved_data_file_path=\"{}.data.pkl\".format(saved_vocab_path.split(\".pkl\")[0]))"
   ]
  },
  {
   "cell_type": "code",
   "execution_count": 14,
   "id": "772dacdd",
   "metadata": {
    "scrolled": false
   },
   "outputs": [
    {
     "data": {
      "application/vnd.jupyter.widget-view+json": {
       "model_id": "e76a2e24a2f84b9da3181aa2b1f01dbc",
       "version_major": 2,
       "version_minor": 0
      },
      "text/plain": [
       "Training at epoch #1:   0%|          | 0/1492 [00:00<?, ?batches/s]"
      ]
     },
     "metadata": {},
     "output_type": "display_data"
    },
    {
     "name": "stdout",
     "output_type": "stream",
     "text": [
      "{'macro_f1': 0.002683240198661733, 'macro_auc': 0.46151170010635323, 'macro_P@5': 0.29805524120876825, 'macro_P@8': 0.2606144431870573, 'macro_P@15': 0.2062240663900415, 'micro_f1': 0.07055410310028315, 'micro_auc': 0.9276246341882759, 'loss': 0.0196414275154791}\n"
     ]
    },
    {
     "data": {
      "application/vnd.jupyter.widget-view+json": {
       "model_id": "cbbe7cd539f94fcaa6abefef61742333",
       "version_major": 2,
       "version_minor": 0
      },
      "text/plain": [
       "Evaluating:   0%|          | 0/51 [00:00<?, ?batches/s]"
      ]
     },
     "metadata": {},
     "output_type": "display_data"
    },
    {
     "data": {
      "application/vnd.jupyter.widget-view+json": {
       "model_id": "b5a0cc9d0a544e53af88c3d0840fab7b",
       "version_major": 2,
       "version_minor": 0
      },
      "text/plain": [
       "Evaluating:   0%|          | 0/106 [00:00<?, ?batches/s]"
      ]
     },
     "metadata": {},
     "output_type": "display_data"
    },
    {
     "name": "stdout",
     "output_type": "stream",
     "text": [
      "lr 0.001\n",
      "{'macro_f1': 0.001304752594920136, 'macro_auc': 0.6695441941954966, 'macro_P@5': 0.348576512455516, 'macro_P@8': 0.3055308422301305, 'macro_P@15': 0.2344602609727165, 'micro_f1': 0.16092297251442145, 'micro_auc': 0.9424558556005656, 'loss': 0.016805756186961004}\n",
      "\n",
      "\n",
      "\n"
     ]
    },
    {
     "data": {
      "application/vnd.jupyter.widget-view+json": {
       "model_id": "313f8033944e449d9f5bad817d930e0c",
       "version_major": 2,
       "version_minor": 0
      },
      "text/plain": [
       "Training at epoch #2:   0%|          | 0/1492 [00:00<?, ?batches/s]"
      ]
     },
     "metadata": {},
     "output_type": "display_data"
    },
    {
     "name": "stdout",
     "output_type": "stream",
     "text": [
      "{'macro_f1': 0.004469404926614035, 'macro_auc': 0.5826400704325985, 'macro_P@5': 0.42164801542394914, 'macro_P@8': 0.35948698604300267, 'macro_P@15': 0.27774145326012545, 'micro_f1': 0.23413775039086146, 'micro_auc': 0.9598925720814456, 'loss': 0.013068623174775902}\n"
     ]
    },
    {
     "data": {
      "application/vnd.jupyter.widget-view+json": {
       "model_id": "26ac7164642a4718a4d715d165d8fa39",
       "version_major": 2,
       "version_minor": 0
      },
      "text/plain": [
       "Evaluating:   0%|          | 0/51 [00:00<?, ?batches/s]"
      ]
     },
     "metadata": {},
     "output_type": "display_data"
    },
    {
     "data": {
      "application/vnd.jupyter.widget-view+json": {
       "model_id": "23e800fe638d4ab08e96212d75fe09eb",
       "version_major": 2,
       "version_minor": 0
      },
      "text/plain": [
       "Evaluating:   0%|          | 0/106 [00:00<?, ?batches/s]"
      ]
     },
     "metadata": {},
     "output_type": "display_data"
    },
    {
     "name": "stdout",
     "output_type": "stream",
     "text": [
      "lr 0.001\n",
      "{'macro_f1': 0.006857116687877586, 'macro_auc': 0.8040566333344584, 'macro_P@5': 0.4868920521945433, 'macro_P@8': 0.41662959667852906, 'macro_P@15': 0.31809015421115067, 'micro_f1': 0.2677720306284567, 'micro_auc': 0.9622429963575099, 'loss': 0.014482546184774278}\n",
      "\n",
      "\n",
      "\n"
     ]
    },
    {
     "data": {
      "application/vnd.jupyter.widget-view+json": {
       "model_id": "53ef0e8474bb406fb25888c70e5a1be4",
       "version_major": 2,
       "version_minor": 0
      },
      "text/plain": [
       "Training at epoch #3:   0%|          | 0/1492 [00:00<?, ?batches/s]"
      ]
     },
     "metadata": {},
     "output_type": "display_data"
    },
    {
     "name": "stdout",
     "output_type": "stream",
     "text": [
      "{'macro_f1': 0.026271171693396298, 'macro_auc': 0.7634292192877306, 'macro_P@5': 0.6386856112997192, 'macro_P@8': 0.5554271972840438, 'macro_P@15': 0.42475935007055343, 'micro_f1': 0.431726518769643, 'micro_auc': 0.9792785570127506, 'loss': 0.009881371584778337}\n"
     ]
    },
    {
     "data": {
      "application/vnd.jupyter.widget-view+json": {
       "model_id": "3dc7a2b172774a4299307369f6254c0e",
       "version_major": 2,
       "version_minor": 0
      },
      "text/plain": [
       "Evaluating:   0%|          | 0/51 [00:00<?, ?batches/s]"
      ]
     },
     "metadata": {},
     "output_type": "display_data"
    },
    {
     "data": {
      "application/vnd.jupyter.widget-view+json": {
       "model_id": "81725a6b9c334779bc3af24631612c50",
       "version_major": 2,
       "version_minor": 0
      },
      "text/plain": [
       "Evaluating:   0%|          | 0/106 [00:00<?, ?batches/s]"
      ]
     },
     "metadata": {},
     "output_type": "display_data"
    },
    {
     "name": "stdout",
     "output_type": "stream",
     "text": [
      "lr 0.001\n",
      "{'macro_f1': 0.04347231242270373, 'macro_auc': 0.8895709304540079, 'macro_P@5': 0.7301897983392645, 'macro_P@8': 0.6528024911032029, 'macro_P@15': 0.5124555160142349, 'micro_f1': 0.4993801671319129, 'micro_auc': 0.9808114390928231, 'loss': 0.010459318159604972}\n",
      "\n",
      "\n",
      "\n"
     ]
    },
    {
     "data": {
      "application/vnd.jupyter.widget-view+json": {
       "model_id": "92af46a6577f4637a58b0f3b3bb016a6",
       "version_major": 2,
       "version_minor": 0
      },
      "text/plain": [
       "Training at epoch #4:   0%|          | 0/1492 [00:00<?, ?batches/s]"
      ]
     },
     "metadata": {},
     "output_type": "display_data"
    },
    {
     "name": "stdout",
     "output_type": "stream",
     "text": [
      "{'macro_f1': 0.05484332562016266, 'macro_auc': 0.8715453383046374, 'macro_P@5': 0.7145312041577602, 'macro_P@8': 0.6321356720734315, 'macro_P@15': 0.49016723249088395, 'micro_f1': 0.5099405298859147, 'micro_auc': 0.98828441622704, 'loss': 0.008237354629036369}\n"
     ]
    },
    {
     "data": {
      "application/vnd.jupyter.widget-view+json": {
       "model_id": "b899a915143a4ccc8fb205e025af777a",
       "version_major": 2,
       "version_minor": 0
      },
      "text/plain": [
       "Evaluating:   0%|          | 0/51 [00:00<?, ?batches/s]"
      ]
     },
     "metadata": {},
     "output_type": "display_data"
    },
    {
     "data": {
      "application/vnd.jupyter.widget-view+json": {
       "model_id": "d5c87caf7f394ff19f5f96033d608763",
       "version_major": 2,
       "version_minor": 0
      },
      "text/plain": [
       "Evaluating:   0%|          | 0/106 [00:00<?, ?batches/s]"
      ]
     },
     "metadata": {},
     "output_type": "display_data"
    },
    {
     "name": "stdout",
     "output_type": "stream",
     "text": [
      "lr 0.001\n",
      "{'macro_f1': 0.06863878319546504, 'macro_auc': 0.9131745243367694, 'macro_P@5': 0.7676749703440094, 'macro_P@8': 0.6922820284697508, 'macro_P@15': 0.548556741795176, 'micro_f1': 0.5336120717837541, 'micro_auc': 0.9851487454259301, 'loss': 0.009489338853800634}\n",
      "\n",
      "\n",
      "\n"
     ]
    },
    {
     "data": {
      "application/vnd.jupyter.widget-view+json": {
       "model_id": "8115bcaba67841c8b3d41d1c70d70781",
       "version_major": 2,
       "version_minor": 0
      },
      "text/plain": [
       "Training at epoch #5:   0%|          | 0/1492 [00:00<?, ?batches/s]"
      ]
     },
     "metadata": {},
     "output_type": "display_data"
    },
    {
     "name": "stdout",
     "output_type": "stream",
     "text": [
      "{'macro_f1': 0.07669540147722291, 'macro_auc': 0.9286816676678102, 'macro_P@5': 0.7390460622825769, 'macro_P@8': 0.6573855777693952, 'macro_P@15': 0.5110356678821408, 'micro_f1': 0.5333464291819494, 'micro_auc': 0.9916300980913371, 'loss': 0.007646899192997232}\n"
     ]
    },
    {
     "data": {
      "application/vnd.jupyter.widget-view+json": {
       "model_id": "ff19b24c577a41f7b2474e8471591f6c",
       "version_major": 2,
       "version_minor": 0
      },
      "text/plain": [
       "Evaluating:   0%|          | 0/51 [00:00<?, ?batches/s]"
      ]
     },
     "metadata": {},
     "output_type": "display_data"
    },
    {
     "data": {
      "application/vnd.jupyter.widget-view+json": {
       "model_id": "19684fa2ffac45baaa517007fbcbc915",
       "version_major": 2,
       "version_minor": 0
      },
      "text/plain": [
       "Evaluating:   0%|          | 0/106 [00:00<?, ?batches/s]"
      ]
     },
     "metadata": {},
     "output_type": "display_data"
    },
    {
     "name": "stdout",
     "output_type": "stream",
     "text": [
      "lr 0.001\n",
      "{'macro_f1': 0.0865383696387151, 'macro_auc': 0.9218169820236085, 'macro_P@5': 0.7752075919335706, 'macro_P@8': 0.7016978054567022, 'macro_P@15': 0.558916567813365, 'micro_f1': 0.5386523845154176, 'micro_auc': 0.9868536675495252, 'loss': 0.009327403098379946}\n",
      "\n",
      "\n",
      "\n"
     ]
    },
    {
     "data": {
      "application/vnd.jupyter.widget-view+json": {
       "model_id": "80b7442866ba47158b6ef53fe16eeedb",
       "version_major": 2,
       "version_minor": 0
      },
      "text/plain": [
       "Training at epoch #6:   0%|          | 0/1492 [00:00<?, ?batches/s]"
      ]
     },
     "metadata": {},
     "output_type": "display_data"
    },
    {
     "name": "stdout",
     "output_type": "stream",
     "text": [
      "{'macro_f1': 0.0971400767992535, 'macro_auc': 0.9560384443212122, 'macro_P@5': 0.7545244980929628, 'macro_P@8': 0.6719057797895972, 'macro_P@15': 0.5234614471128994, 'micro_f1': 0.5482135321684354, 'micro_auc': 0.9933104927551056, 'loss': 0.007296927737062123}\n"
     ]
    },
    {
     "data": {
      "application/vnd.jupyter.widget-view+json": {
       "model_id": "05db92ac4e03460490adebea4ba1a332",
       "version_major": 2,
       "version_minor": 0
      },
      "text/plain": [
       "Evaluating:   0%|          | 0/51 [00:00<?, ?batches/s]"
      ]
     },
     "metadata": {},
     "output_type": "display_data"
    },
    {
     "data": {
      "application/vnd.jupyter.widget-view+json": {
       "model_id": "69d81266247e4433880f40adb4d99e46",
       "version_major": 2,
       "version_minor": 0
      },
      "text/plain": [
       "Evaluating:   0%|          | 0/106 [00:00<?, ?batches/s]"
      ]
     },
     "metadata": {},
     "output_type": "display_data"
    },
    {
     "name": "stdout",
     "output_type": "stream",
     "text": [
      "lr 0.001\n",
      "{'macro_f1': 0.09033766667243442, 'macro_auc': 0.9249251518785091, 'macro_P@5': 0.78570581257414, 'macro_P@8': 0.7141903914590747, 'macro_P@15': 0.5681890075128508, 'micro_f1': 0.5517614022448363, 'micro_auc': 0.987229049548447, 'loss': 0.009035707262502808}\n",
      "\n",
      "\n",
      "\n"
     ]
    },
    {
     "data": {
      "application/vnd.jupyter.widget-view+json": {
       "model_id": "1520201f65834c9b8c8b25edd9094c80",
       "version_major": 2,
       "version_minor": 0
      },
      "text/plain": [
       "Training at epoch #7:   0%|          | 0/1492 [00:00<?, ?batches/s]"
      ]
     },
     "metadata": {},
     "output_type": "display_data"
    },
    {
     "name": "stdout",
     "output_type": "stream",
     "text": [
      "{'macro_f1': 0.1205858093545089, 'macro_auc': 0.9700978669240173, 'macro_P@5': 0.7631669391005491, 'macro_P@8': 0.6813623789764869, 'macro_P@15': 0.5315268871285469, 'micro_f1': 0.5570422592265524, 'micro_auc': 0.9943074153812771, 'loss': 0.007061714085503094}\n"
     ]
    },
    {
     "data": {
      "application/vnd.jupyter.widget-view+json": {
       "model_id": "258aed0666a34746bb8e4ebb7896fbe1",
       "version_major": 2,
       "version_minor": 0
      },
      "text/plain": [
       "Evaluating:   0%|          | 0/51 [00:00<?, ?batches/s]"
      ]
     },
     "metadata": {},
     "output_type": "display_data"
    },
    {
     "data": {
      "application/vnd.jupyter.widget-view+json": {
       "model_id": "14acceae94c942a2927e92096d927dff",
       "version_major": 2,
       "version_minor": 0
      },
      "text/plain": [
       "Evaluating:   0%|          | 0/106 [00:00<?, ?batches/s]"
      ]
     },
     "metadata": {},
     "output_type": "display_data"
    },
    {
     "name": "stdout",
     "output_type": "stream",
     "text": [
      "lr 0.001\n",
      "{'macro_f1': 0.10364003013263469, 'macro_auc': 0.9261501663681933, 'macro_P@5': 0.7854092526690392, 'macro_P@8': 0.7143016014234875, 'macro_P@15': 0.5688216686437327, 'micro_f1': 0.5390135921181975, 'micro_auc': 0.9876590394879536, 'loss': 0.009346331610291634}\n",
      "\n",
      "\n",
      "\n"
     ]
    },
    {
     "data": {
      "application/vnd.jupyter.widget-view+json": {
       "model_id": "47a93c53e5f3436ebd952d6018018588",
       "version_major": 2,
       "version_minor": 0
      },
      "text/plain": [
       "Training at epoch #8:   0%|          | 0/1492 [00:00<?, ?batches/s]"
      ]
     },
     "metadata": {},
     "output_type": "display_data"
    },
    {
     "name": "stdout",
     "output_type": "stream",
     "text": [
      "{'macro_f1': 0.1536237996842172, 'macro_auc': 0.9772582951745818, 'macro_P@5': 0.7703256632717214, 'macro_P@8': 0.6892812984617964, 'macro_P@15': 0.538258099668888, 'micro_f1': 0.565186315663053, 'micro_auc': 0.9949788550346352, 'loss': 0.006863545128593756}\n"
     ]
    },
    {
     "data": {
      "application/vnd.jupyter.widget-view+json": {
       "model_id": "3a96f5ee9db544af9ef60649f3686294",
       "version_major": 2,
       "version_minor": 0
      },
      "text/plain": [
       "Evaluating:   0%|          | 0/51 [00:00<?, ?batches/s]"
      ]
     },
     "metadata": {},
     "output_type": "display_data"
    },
    {
     "data": {
      "application/vnd.jupyter.widget-view+json": {
       "model_id": "ea79bb63a7374842a2243c6a931d5f13",
       "version_major": 2,
       "version_minor": 0
      },
      "text/plain": [
       "Evaluating:   0%|          | 0/106 [00:00<?, ?batches/s]"
      ]
     },
     "metadata": {},
     "output_type": "display_data"
    },
    {
     "name": "stdout",
     "output_type": "stream",
     "text": [
      "lr 0.001\n",
      "{'macro_f1': 0.10225865514316997, 'macro_auc': 0.925551997298819, 'macro_P@5': 0.7914590747330962, 'macro_P@8': 0.7184163701067615, 'macro_P@15': 0.5741597469355477, 'micro_f1': 0.5549778059606848, 'micro_auc': 0.9876004750432834, 'loss': 0.008990335871272211}\n",
      "\n",
      "\n",
      "\n"
     ]
    },
    {
     "data": {
      "application/vnd.jupyter.widget-view+json": {
       "model_id": "425f43c435d6464d8ff428603ced8a55",
       "version_major": 2,
       "version_minor": 0
      },
      "text/plain": [
       "Training at epoch #9:   0%|          | 0/1492 [00:00<?, ?batches/s]"
      ]
     },
     "metadata": {},
     "output_type": "display_data"
    },
    {
     "name": "stdout",
     "output_type": "stream",
     "text": [
      "{'macro_f1': 0.1964817150324793, 'macro_auc': 0.9814261915914334, 'macro_P@5': 0.7770568758120625, 'macro_P@8': 0.6954451150509242, 'macro_P@15': 0.544044874750269, 'micro_f1': 0.5710893894443193, 'micro_auc': 0.995440305945926, 'loss': 0.006707342979485723}\n"
     ]
    },
    {
     "data": {
      "application/vnd.jupyter.widget-view+json": {
       "model_id": "2916b3f95d6e4fb4b7e13510e95691bd",
       "version_major": 2,
       "version_minor": 0
      },
      "text/plain": [
       "Evaluating:   0%|          | 0/51 [00:00<?, ?batches/s]"
      ]
     },
     "metadata": {},
     "output_type": "display_data"
    },
    {
     "data": {
      "application/vnd.jupyter.widget-view+json": {
       "model_id": "53eb067793624369939d1cf27243e9e3",
       "version_major": 2,
       "version_minor": 0
      },
      "text/plain": [
       "Evaluating:   0%|          | 0/106 [00:00<?, ?batches/s]"
      ]
     },
     "metadata": {},
     "output_type": "display_data"
    },
    {
     "name": "stdout",
     "output_type": "stream",
     "text": [
      "lr 0.001\n",
      "{'macro_f1': 0.11133433957961603, 'macro_auc': 0.9252490477625062, 'macro_P@5': 0.7963819691577699, 'macro_P@8': 0.7207888493475683, 'macro_P@15': 0.576413602214314, 'micro_f1': 0.5499950914871283, 'micro_auc': 0.9874615106233177, 'loss': 0.009134987382358819}\n",
      "\n",
      "\n",
      "\n"
     ]
    },
    {
     "data": {
      "application/vnd.jupyter.widget-view+json": {
       "model_id": "f5f64c8749ba42ebb1d319326e1ca344",
       "version_major": 2,
       "version_minor": 0
      },
      "text/plain": [
       "Training at epoch #10:   0%|          | 0/1492 [00:00<?, ?batches/s]"
      ]
     },
     "metadata": {},
     "output_type": "display_data"
    },
    {
     "name": "stdout",
     "output_type": "stream",
     "text": [
      "{'macro_f1': 0.2478657537315206, 'macro_auc': 0.9843427886405837, 'macro_P@5': 0.7823923886164551, 'macro_P@8': 0.700697325956662, 'macro_P@15': 0.548903977534683, 'micro_f1': 0.5773454039705279, 'micro_auc': 0.9958096342084148, 'loss': 0.006573043234930961}\n"
     ]
    },
    {
     "data": {
      "application/vnd.jupyter.widget-view+json": {
       "model_id": "34aedaa540b74b7ca7cff8819f2f3a23",
       "version_major": 2,
       "version_minor": 0
      },
      "text/plain": [
       "Evaluating:   0%|          | 0/51 [00:00<?, ?batches/s]"
      ]
     },
     "metadata": {},
     "output_type": "display_data"
    },
    {
     "data": {
      "application/vnd.jupyter.widget-view+json": {
       "model_id": "bf28e511b8f74c90b664e0adf81dfb1c",
       "version_major": 2,
       "version_minor": 0
      },
      "text/plain": [
       "Evaluating:   0%|          | 0/106 [00:00<?, ?batches/s]"
      ]
     },
     "metadata": {},
     "output_type": "display_data"
    },
    {
     "name": "stdout",
     "output_type": "stream",
     "text": [
      "lr 0.001\n",
      "{'macro_f1': 0.10713146544267706, 'macro_auc': 0.9232984715845532, 'macro_P@5': 0.7943060498220641, 'macro_P@8': 0.7216414590747331, 'macro_P@15': 0.5787267694741004, 'micro_f1': 0.5607984314229694, 'micro_auc': 0.9873874214008977, 'loss': 0.008927589914989922}\n",
      "\n",
      "\n",
      "\n"
     ]
    },
    {
     "data": {
      "application/vnd.jupyter.widget-view+json": {
       "model_id": "d31d8a453ca247f39f4ed3c0616647be",
       "version_major": 2,
       "version_minor": 0
      },
      "text/plain": [
       "Training at epoch #11:   0%|          | 0/1492 [00:00<?, ?batches/s]"
      ]
     },
     "metadata": {},
     "output_type": "display_data"
    },
    {
     "name": "stdout",
     "output_type": "stream",
     "text": [
      "{'macro_f1': 0.2988418306109919, 'macro_auc': 0.9864398066994958, 'macro_P@5': 0.7862693323274236, 'macro_P@8': 0.7055801793872333, 'macro_P@15': 0.5521829638012211, 'micro_f1': 0.5813883823912477, 'micro_auc': 0.9961023169747578, 'loss': 0.006460158493939098}\n"
     ]
    },
    {
     "data": {
      "application/vnd.jupyter.widget-view+json": {
       "model_id": "fffb53c6a20845f1bc3d9ff19fd65927",
       "version_major": 2,
       "version_minor": 0
      },
      "text/plain": [
       "Evaluating:   0%|          | 0/51 [00:00<?, ?batches/s]"
      ]
     },
     "metadata": {},
     "output_type": "display_data"
    },
    {
     "data": {
      "application/vnd.jupyter.widget-view+json": {
       "model_id": "6f0b12bed4d047edbaef58e8956aa1fa",
       "version_major": 2,
       "version_minor": 0
      },
      "text/plain": [
       "Evaluating:   0%|          | 0/106 [00:00<?, ?batches/s]"
      ]
     },
     "metadata": {},
     "output_type": "display_data"
    },
    {
     "name": "stdout",
     "output_type": "stream",
     "text": [
      "lr 0.001\n",
      "{'macro_f1': 0.10966222970105519, 'macro_auc': 0.9235633980899457, 'macro_P@5': 0.7988730723606169, 'macro_P@8': 0.7252743179122183, 'macro_P@15': 0.5815737445630684, 'micro_f1': 0.5605228189327593, 'micro_auc': 0.9872456687229866, 'loss': 0.008945836378085726}\n",
      "\n",
      "\n",
      "\n"
     ]
    },
    {
     "data": {
      "application/vnd.jupyter.widget-view+json": {
       "model_id": "9f9aed672e8e4741ab865f52100f0880",
       "version_major": 2,
       "version_minor": 0
      },
      "text/plain": [
       "Training at epoch #12:   0%|          | 0/1492 [00:00<?, ?batches/s]"
      ]
     },
     "metadata": {},
     "output_type": "display_data"
    },
    {
     "name": "stdout",
     "output_type": "stream",
     "text": [
      "{'macro_f1': 0.3496699418469983, 'macro_auc': 0.988070984789969, 'macro_P@5': 0.7912318202774634, 'macro_P@8': 0.7101382078041829, 'macro_P@15': 0.5562513097782809, 'micro_f1': 0.5858869521736275, 'micro_auc': 0.9963228832480728, 'loss': 0.006362760994594604}\n"
     ]
    },
    {
     "data": {
      "application/vnd.jupyter.widget-view+json": {
       "model_id": "0cf24b2ccef14aa48e2ebb6eaad72c59",
       "version_major": 2,
       "version_minor": 0
      },
      "text/plain": [
       "Evaluating:   0%|          | 0/51 [00:00<?, ?batches/s]"
      ]
     },
     "metadata": {},
     "output_type": "display_data"
    },
    {
     "data": {
      "application/vnd.jupyter.widget-view+json": {
       "model_id": "28c1d93f34d1405a86febaee8a3f12ba",
       "version_major": 2,
       "version_minor": 0
      },
      "text/plain": [
       "Evaluating:   0%|          | 0/106 [00:00<?, ?batches/s]"
      ]
     },
     "metadata": {},
     "output_type": "display_data"
    },
    {
     "name": "stdout",
     "output_type": "stream",
     "text": [
      "lr 0.0001\n",
      "{'macro_f1': 0.11049939316870884, 'macro_auc': 0.921700212149439, 'macro_P@5': 0.7973902728351128, 'macro_P@8': 0.726238137603796, 'macro_P@15': 0.5815144325820483, 'micro_f1': 0.5616299292532639, 'micro_auc': 0.9871254895852042, 'loss': 0.008941096025255491}\n",
      "\n",
      "\n",
      "\n"
     ]
    },
    {
     "data": {
      "application/vnd.jupyter.widget-view+json": {
       "model_id": "678dd46e3c224533a7dd29eae6136ece",
       "version_major": 2,
       "version_minor": 0
      },
      "text/plain": [
       "Training at epoch #13:   0%|          | 0/1492 [00:00<?, ?batches/s]"
      ]
     },
     "metadata": {},
     "output_type": "display_data"
    },
    {
     "name": "stdout",
     "output_type": "stream",
     "text": [
      "{'macro_f1': 0.5075891823944811, 'macro_auc': 0.9924136979703633, 'macro_P@5': 0.8158388867932436, 'macro_P@8': 0.7347175070204116, 'macro_P@15': 0.5763988432038224, 'micro_f1': 0.6090756143083117, 'micro_auc': 0.9971505406192316, 'loss': 0.005886910008060579}\n"
     ]
    },
    {
     "data": {
      "application/vnd.jupyter.widget-view+json": {
       "model_id": "b34f36f449744d67a742eed25b0f1daa",
       "version_major": 2,
       "version_minor": 0
      },
      "text/plain": [
       "Evaluating:   0%|          | 0/51 [00:00<?, ?batches/s]"
      ]
     },
     "metadata": {},
     "output_type": "display_data"
    },
    {
     "data": {
      "application/vnd.jupyter.widget-view+json": {
       "model_id": "38829449282c4caaa22758859efd6de6",
       "version_major": 2,
       "version_minor": 0
      },
      "text/plain": [
       "Evaluating:   0%|          | 0/106 [00:00<?, ?batches/s]"
      ]
     },
     "metadata": {},
     "output_type": "display_data"
    },
    {
     "name": "stdout",
     "output_type": "stream",
     "text": [
      "lr 0.0001\n",
      "{'macro_f1': 0.11885546999644019, 'macro_auc': 0.9207906903050418, 'macro_P@5': 0.8145907473309609, 'macro_P@8': 0.7418816725978647, 'macro_P@15': 0.5929418742586002, 'micro_f1': 0.5716663003547992, 'micro_auc': 0.9874850095719413, 'loss': 0.008791399913189828}\n",
      "\n",
      "\n",
      "\n"
     ]
    },
    {
     "data": {
      "application/vnd.jupyter.widget-view+json": {
       "model_id": "ca95590e5ed042a78ad704c563dce7b5",
       "version_major": 2,
       "version_minor": 0
      },
      "text/plain": [
       "Training at epoch #14:   0%|          | 0/1492 [00:00<?, ?batches/s]"
      ]
     },
     "metadata": {},
     "output_type": "display_data"
    },
    {
     "name": "stdout",
     "output_type": "stream",
     "text": [
      "{'macro_f1': 0.5602381315208121, 'macro_auc': 0.9927547095437588, 'macro_P@5': 0.8205708537658747, 'macro_P@8': 0.7399775765958339, 'macro_P@15': 0.5806180756388225, 'micro_f1': 0.6141217957178682, 'micro_auc': 0.9973001164620342, 'loss': 0.005786362247374258}\n"
     ]
    },
    {
     "data": {
      "application/vnd.jupyter.widget-view+json": {
       "model_id": "b6ddccca3f0845f7a97954b56a9f8594",
       "version_major": 2,
       "version_minor": 0
      },
      "text/plain": [
       "Evaluating:   0%|          | 0/51 [00:00<?, ?batches/s]"
      ]
     },
     "metadata": {},
     "output_type": "display_data"
    },
    {
     "data": {
      "application/vnd.jupyter.widget-view+json": {
       "model_id": "06e3035af72f4eb49a60370ce6b3e079",
       "version_major": 2,
       "version_minor": 0
      },
      "text/plain": [
       "Evaluating:   0%|          | 0/106 [00:00<?, ?batches/s]"
      ]
     },
     "metadata": {},
     "output_type": "display_data"
    },
    {
     "name": "stdout",
     "output_type": "stream",
     "text": [
      "lr 0.0001\n",
      "{'macro_f1': 0.11965239929044902, 'macro_auc': 0.9206768291577189, 'macro_P@5': 0.8141162514827994, 'macro_P@8': 0.7420670225385528, 'macro_P@15': 0.5929023329379202, 'micro_f1': 0.5706736298921321, 'micro_auc': 0.9875211345076113, 'loss': 0.008825465452523445}\n",
      "\n",
      "\n",
      "\n"
     ]
    },
    {
     "data": {
      "application/vnd.jupyter.widget-view+json": {
       "model_id": "c1ded1b6bd394a0c8f4800994a5e2ae0",
       "version_major": 2,
       "version_minor": 0
      },
      "text/plain": [
       "Training at epoch #15:   0%|          | 0/1492 [00:00<?, ?batches/s]"
      ]
     },
     "metadata": {},
     "output_type": "display_data"
    },
    {
     "name": "stdout",
     "output_type": "stream",
     "text": [
      "{'macro_f1': 0.5837618696264062, 'macro_auc': 0.9929872531422013, 'macro_P@5': 0.8223060480321892, 'macro_P@8': 0.7417667337273146, 'macro_P@15': 0.5827919583106305, 'micro_f1': 0.6165983832669129, 'micro_auc': 0.9973745600653005, 'loss': 0.005739815641617797}\n"
     ]
    },
    {
     "data": {
      "application/vnd.jupyter.widget-view+json": {
       "model_id": "d7748fc0557a4cdcace68b8decb905e0",
       "version_major": 2,
       "version_minor": 0
      },
      "text/plain": [
       "Evaluating:   0%|          | 0/51 [00:00<?, ?batches/s]"
      ]
     },
     "metadata": {},
     "output_type": "display_data"
    },
    {
     "data": {
      "application/vnd.jupyter.widget-view+json": {
       "model_id": "4305cce6ea9d43198d690ffff1b52071",
       "version_major": 2,
       "version_minor": 0
      },
      "text/plain": [
       "Evaluating:   0%|          | 0/106 [00:00<?, ?batches/s]"
      ]
     },
     "metadata": {},
     "output_type": "display_data"
    },
    {
     "name": "stdout",
     "output_type": "stream",
     "text": [
      "lr 1e-05\n",
      "{'macro_f1': 0.11946467188322281, 'macro_auc': 0.9197784947052117, 'macro_P@5': 0.8134638196915777, 'macro_P@8': 0.742697212336892, 'macro_P@15': 0.5931395808620008, 'micro_f1': 0.5742218863647098, 'micro_auc': 0.987436711442289, 'loss': 0.008827193684102792}\n",
      "\n",
      "\n",
      "\n"
     ]
    },
    {
     "data": {
      "application/vnd.jupyter.widget-view+json": {
       "model_id": "e27974c2d750411b8b22a834b0e6a3d8",
       "version_major": 2,
       "version_minor": 0
      },
      "text/plain": [
       "Training at epoch #16:   0%|          | 0/1492 [00:00<?, ?batches/s]"
      ]
     },
     "metadata": {},
     "output_type": "display_data"
    },
    {
     "name": "stdout",
     "output_type": "stream",
     "text": [
      "{'macro_f1': 0.6122163200032743, 'macro_auc': 0.9934587523884073, 'macro_P@5': 0.8263464520725932, 'macro_P@8': 0.7457982312754097, 'macro_P@15': 0.5860611648993392, 'micro_f1': 0.6201715832046854, 'micro_auc': 0.9974788363185315, 'loss': 0.00566618455930965}\n"
     ]
    },
    {
     "data": {
      "application/vnd.jupyter.widget-view+json": {
       "model_id": "a9f6dc141fa94155bb889e91c83419db",
       "version_major": 2,
       "version_minor": 0
      },
      "text/plain": [
       "Evaluating:   0%|          | 0/51 [00:00<?, ?batches/s]"
      ]
     },
     "metadata": {},
     "output_type": "display_data"
    },
    {
     "data": {
      "application/vnd.jupyter.widget-view+json": {
       "model_id": "07b88fc68bcf47008d8a0156f4133d30",
       "version_major": 2,
       "version_minor": 0
      },
      "text/plain": [
       "Evaluating:   0%|          | 0/106 [00:00<?, ?batches/s]"
      ]
     },
     "metadata": {},
     "output_type": "display_data"
    },
    {
     "name": "stdout",
     "output_type": "stream",
     "text": [
      "lr 1e-05\n",
      "{'macro_f1': 0.1197298330006348, 'macro_auc': 0.9195772695775928, 'macro_P@5': 0.8145314353499408, 'macro_P@8': 0.7436239620403321, 'macro_P@15': 0.5941874258600237, 'micro_f1': 0.5739435788015023, 'micro_auc': 0.9873919811901505, 'loss': 0.00882710350396217}\n",
      "\n",
      "\n",
      "\n"
     ]
    },
    {
     "data": {
      "application/vnd.jupyter.widget-view+json": {
       "model_id": "912ddea40e5c473083e9ddddd11395d7",
       "version_major": 2,
       "version_minor": 0
      },
      "text/plain": [
       "Training at epoch #17:   0%|          | 0/1492 [00:00<?, ?batches/s]"
      ]
     },
     "metadata": {},
     "output_type": "display_data"
    },
    {
     "name": "stdout",
     "output_type": "stream",
     "text": [
      "{'macro_f1': 0.6135821518991899, 'macro_auc': 0.993477310798935, 'macro_P@5': 0.8264889559495371, 'macro_P@8': 0.7455834276373695, 'macro_P@15': 0.5863950710423739, 'micro_f1': 0.620926400651361, 'micro_auc': 0.9974923592354049, 'loss': 0.005657424662766563}\n"
     ]
    },
    {
     "data": {
      "application/vnd.jupyter.widget-view+json": {
       "model_id": "72b5d7f2ea1f4f0c9bdec74f3d5f43ce",
       "version_major": 2,
       "version_minor": 0
      },
      "text/plain": [
       "Evaluating:   0%|          | 0/51 [00:00<?, ?batches/s]"
      ]
     },
     "metadata": {},
     "output_type": "display_data"
    },
    {
     "data": {
      "application/vnd.jupyter.widget-view+json": {
       "model_id": "5a35ef18e88b48388a85a2c0f2dab9c2",
       "version_major": 2,
       "version_minor": 0
      },
      "text/plain": [
       "Evaluating:   0%|          | 0/106 [00:00<?, ?batches/s]"
      ]
     },
     "metadata": {},
     "output_type": "display_data"
    },
    {
     "name": "stdout",
     "output_type": "stream",
     "text": [
      "lr 1.0000000000000002e-06\n",
      "{'macro_f1': 0.12004393548984374, 'macro_auc': 0.9194861483503199, 'macro_P@5': 0.8141755634638197, 'macro_P@8': 0.7432903321470937, 'macro_P@15': 0.5936338473705022, 'micro_f1': 0.572795646803121, 'micro_auc': 0.9873882865028418, 'loss': 0.008847044227328503}\n",
      "\n",
      "\n",
      "\n"
     ]
    },
    {
     "data": {
      "application/vnd.jupyter.widget-view+json": {
       "model_id": "e979930f6be64cc68ed6eb93e7444d52",
       "version_major": 2,
       "version_minor": 0
      },
      "text/plain": [
       "Training at epoch #18:   0%|          | 0/1492 [00:00<?, ?batches/s]"
      ]
     },
     "metadata": {},
     "output_type": "display_data"
    },
    {
     "ename": "KeyboardInterrupt",
     "evalue": "",
     "output_type": "error",
     "traceback": [
      "\u001b[0;31m---------------------------------------------------------------------------\u001b[0m",
      "\u001b[0;31mKeyboardInterrupt\u001b[0m                         Traceback (most recent call last)",
      "Cell \u001b[0;32mIn [14], line 2\u001b[0m\n\u001b[1;32m      1\u001b[0m \u001b[38;5;66;03m# (db = 128)\u001b[39;00m\n\u001b[0;32m----> 2\u001b[0m \u001b[43mrun_with_validation\u001b[49m\u001b[43m(\u001b[49m\u001b[43mtraining_data\u001b[49m\u001b[43m,\u001b[49m\u001b[43m \u001b[49m\u001b[43mvalid_data\u001b[49m\u001b[43m,\u001b[49m\u001b[43m \u001b[49m\u001b[43mtest_data\u001b[49m\u001b[43m,\u001b[49m\u001b[43m \u001b[49m\u001b[43mlabel_desc\u001b[49m\u001b[43m,\u001b[49m\u001b[43m \u001b[49m\u001b[43mvocab\u001b[49m\u001b[43m,\u001b[49m\u001b[43m \u001b[49m\u001b[43msaved_data_file_path\u001b[49m\u001b[38;5;241;43m=\u001b[39;49m\u001b[38;5;124;43m\"\u001b[39;49m\u001b[38;5;132;43;01m{}\u001b[39;49;00m\u001b[38;5;124;43m.data.pkl\u001b[39;49m\u001b[38;5;124;43m\"\u001b[39;49m\u001b[38;5;241;43m.\u001b[39;49m\u001b[43mformat\u001b[49m\u001b[43m(\u001b[49m\u001b[43msaved_vocab_path\u001b[49m\u001b[38;5;241;43m.\u001b[39;49m\u001b[43msplit\u001b[49m\u001b[43m(\u001b[49m\u001b[38;5;124;43m\"\u001b[39;49m\u001b[38;5;124;43m.pkl\u001b[39;49m\u001b[38;5;124;43m\"\u001b[39;49m\u001b[43m)\u001b[49m\u001b[43m[\u001b[49m\u001b[38;5;241;43m0\u001b[39;49m\u001b[43m]\u001b[49m\u001b[43m)\u001b[49m\u001b[43m)\u001b[49m\n",
      "Cell \u001b[0;32mIn [13], line 2\u001b[0m, in \u001b[0;36mrun_with_validation\u001b[0;34m(training_data, valid_data, test_data, label_desc, vocab, saved_data_file_path)\u001b[0m\n\u001b[1;32m      1\u001b[0m \u001b[38;5;28;01mdef\u001b[39;00m \u001b[38;5;21mrun_with_validation\u001b[39m(training_data, valid_data, test_data, label_desc, vocab, saved_data_file_path):\n\u001b[0;32m----> 2\u001b[0m     best_model, scores \u001b[38;5;241m=\u001b[39m \u001b[43m_train_model\u001b[49m\u001b[43m(\u001b[49m\n\u001b[1;32m      3\u001b[0m \u001b[43m        \u001b[49m\u001b[43mtrain_data\u001b[49m\u001b[38;5;241;43m=\u001b[39;49m\u001b[43mtraining_data\u001b[49m\u001b[43m,\u001b[49m\u001b[43m \u001b[49m\u001b[43mvalid_data\u001b[49m\u001b[38;5;241;43m=\u001b[39;49m\u001b[43mvalid_data\u001b[49m\u001b[43m,\u001b[49m\u001b[43m \u001b[49m\u001b[43mtest_data\u001b[49m\u001b[38;5;241;43m=\u001b[39;49m\u001b[43mtest_data\u001b[49m\u001b[43m,\u001b[49m\u001b[43m \u001b[49m\u001b[43mlabel_desc\u001b[49m\u001b[38;5;241;43m=\u001b[39;49m\u001b[43mlabel_desc\u001b[49m\u001b[43m,\u001b[49m\n\u001b[1;32m      4\u001b[0m \u001b[43m        \u001b[49m\u001b[43mvocab\u001b[49m\u001b[38;5;241;43m=\u001b[39;49m\u001b[43mvocab\u001b[49m\u001b[43m,\u001b[49m\u001b[43m \u001b[49m\u001b[43msaved_data_file_path\u001b[49m\u001b[38;5;241;43m=\u001b[39;49m\u001b[43msaved_data_file_path\u001b[49m\u001b[43m,\u001b[49m\u001b[43m \u001b[49m\u001b[43mcheckpoint_path\u001b[49m\u001b[38;5;241;43m=\u001b[39;49m\u001b[38;5;124;43m\"\u001b[39;49m\u001b[38;5;124;43m../model/checkpoint.pkl\u001b[39;49m\u001b[38;5;124;43m\"\u001b[39;49m\u001b[43m)\u001b[49m\n\u001b[1;32m      6\u001b[0m     \u001b[38;5;28;01mreturn\u001b[39;00m best_model, scores\n",
      "Cell \u001b[0;32mIn [12], line 31\u001b[0m, in \u001b[0;36m_train_model\u001b[0;34m(train_data, valid_data, test_data, label_desc, vocab, saved_data_file_path, checkpoint_path)\u001b[0m\n\u001b[1;32m     20\u001b[0m criterions \u001b[38;5;241m=\u001b[39m nn\u001b[38;5;241m.\u001b[39mBCEWithLogitsLoss(pos_weight \u001b[38;5;241m=\u001b[39m torch\u001b[38;5;241m.\u001b[39mtensor(\u001b[38;5;241m2\u001b[39m))\n\u001b[1;32m     22\u001b[0m trainer \u001b[38;5;241m=\u001b[39m Trainer(model\u001b[38;5;241m=\u001b[39mmodel,\n\u001b[1;32m     23\u001b[0m                   train_dataloader\u001b[38;5;241m=\u001b[39mtrain_dataloader,\n\u001b[1;32m     24\u001b[0m                   valid_dataloader\u001b[38;5;241m=\u001b[39mvalid_dataloader,\n\u001b[0;32m   (...)\u001b[0m\n\u001b[1;32m     29\u001b[0m                   vocab\u001b[38;5;241m=\u001b[39mvocab,\n\u001b[1;32m     30\u001b[0m                   checkpoint_path\u001b[38;5;241m=\u001b[39mcheckpoint_path)\n\u001b[0;32m---> 31\u001b[0m best_model, scores \u001b[38;5;241m=\u001b[39m \u001b[43mtrainer\u001b[49m\u001b[38;5;241;43m.\u001b[39;49m\u001b[43mtrain\u001b[49m\u001b[43m(\u001b[49m\u001b[43mn_epoch\u001b[49m\u001b[38;5;241;43m=\u001b[39;49m\u001b[43mn_epoch\u001b[49m\u001b[43m)\u001b[49m\n\u001b[1;32m     33\u001b[0m evaluator \u001b[38;5;241m=\u001b[39m Evaluator(model\u001b[38;5;241m=\u001b[39mbest_model,vocab\u001b[38;5;241m=\u001b[39mvocab,criterions\u001b[38;5;241m=\u001b[39mcriterions,\n\u001b[1;32m     34\u001b[0m                       n_training_labels\u001b[38;5;241m=\u001b[39mn_labels,device \u001b[38;5;241m=\u001b[39m device)\n\u001b[1;32m     36\u001b[0m \u001b[38;5;28;01mdel\u001b[39;00m model, optimiser, evaluator, trainer, criterions\n",
      "Cell \u001b[0;32mIn [10], line 87\u001b[0m, in \u001b[0;36mTrainer.train\u001b[0;34m(self, n_epoch)\u001b[0m\n\u001b[1;32m     85\u001b[0m evaluator \u001b[38;5;241m=\u001b[39m Evaluator(\u001b[38;5;28mself\u001b[39m\u001b[38;5;241m.\u001b[39mmodel, \u001b[38;5;28mself\u001b[39m\u001b[38;5;241m.\u001b[39mvocab, \u001b[38;5;28mself\u001b[39m\u001b[38;5;241m.\u001b[39mcriterions, \u001b[38;5;28mself\u001b[39m\u001b[38;5;241m.\u001b[39mn_training_labels,device)\n\u001b[1;32m     86\u001b[0m \u001b[38;5;28;01mfor\u001b[39;00m e \u001b[38;5;129;01min\u001b[39;00m \u001b[38;5;28mrange\u001b[39m(\u001b[38;5;28mself\u001b[39m\u001b[38;5;241m.\u001b[39mstart_epoch \u001b[38;5;241m+\u001b[39m \u001b[38;5;241m1\u001b[39m, n_epoch \u001b[38;5;241m+\u001b[39m \u001b[38;5;241m1\u001b[39m):\n\u001b[0;32m---> 87\u001b[0m     train_scores \u001b[38;5;241m=\u001b[39m \u001b[38;5;28;43mself\u001b[39;49m\u001b[38;5;241;43m.\u001b[39;49m\u001b[43mtrain_single_epoch\u001b[49m\u001b[43m(\u001b[49m\u001b[43me\u001b[49m\u001b[43m)\u001b[49m\n\u001b[1;32m     88\u001b[0m     epoch_loss \u001b[38;5;241m=\u001b[39m train_scores[\u001b[38;5;124m\"\u001b[39m\u001b[38;5;124maverage\u001b[39m\u001b[38;5;124m\"\u001b[39m]\n\u001b[1;32m     89\u001b[0m     valid_scores \u001b[38;5;241m=\u001b[39m evaluator\u001b[38;5;241m.\u001b[39mevaluate(\u001b[38;5;28mself\u001b[39m\u001b[38;5;241m.\u001b[39mvalid_dataloader)\n",
      "Cell \u001b[0;32mIn [10], line 43\u001b[0m, in \u001b[0;36mTrainer.train_single_epoch\u001b[0;34m(self, index)\u001b[0m\n\u001b[1;32m     40\u001b[0m \u001b[38;5;28mself\u001b[39m\u001b[38;5;241m.\u001b[39moptimiser\u001b[38;5;241m.\u001b[39mzero_grad()\n\u001b[1;32m     41\u001b[0m batch_id \u001b[38;5;241m=\u001b[39m \u001b[38;5;241m0\u001b[39m\n\u001b[0;32m---> 43\u001b[0m \u001b[38;5;28;01mfor\u001b[39;00m text_batch, label_batch, length_batch, id_batch,desc_batch \u001b[38;5;129;01min\u001b[39;00m progress_bar:\n\u001b[1;32m     44\u001b[0m     batch_id \u001b[38;5;241m+\u001b[39m\u001b[38;5;241m=\u001b[39m \u001b[38;5;241m1\u001b[39m\n\u001b[1;32m     45\u001b[0m     text_batch \u001b[38;5;241m=\u001b[39m text_batch\u001b[38;5;241m.\u001b[39mto(device)\n",
      "File \u001b[0;32m~/.local/lib/python3.8/site-packages/tqdm/notebook.py:259\u001b[0m, in \u001b[0;36mtqdm_notebook.__iter__\u001b[0;34m(self)\u001b[0m\n\u001b[1;32m    257\u001b[0m \u001b[38;5;28;01mtry\u001b[39;00m:\n\u001b[1;32m    258\u001b[0m     it \u001b[38;5;241m=\u001b[39m \u001b[38;5;28msuper\u001b[39m(tqdm_notebook, \u001b[38;5;28mself\u001b[39m)\u001b[38;5;241m.\u001b[39m\u001b[38;5;21m__iter__\u001b[39m()\n\u001b[0;32m--> 259\u001b[0m     \u001b[38;5;28;01mfor\u001b[39;00m obj \u001b[38;5;129;01min\u001b[39;00m it:\n\u001b[1;32m    260\u001b[0m         \u001b[38;5;66;03m# return super(tqdm...) will not catch exception\u001b[39;00m\n\u001b[1;32m    261\u001b[0m         \u001b[38;5;28;01myield\u001b[39;00m obj\n\u001b[1;32m    262\u001b[0m \u001b[38;5;66;03m# NB: except ... [ as ...] breaks IPython async KeyboardInterrupt\u001b[39;00m\n",
      "File \u001b[0;32m~/.local/lib/python3.8/site-packages/tqdm/std.py:1195\u001b[0m, in \u001b[0;36mtqdm.__iter__\u001b[0;34m(self)\u001b[0m\n\u001b[1;32m   1192\u001b[0m time \u001b[38;5;241m=\u001b[39m \u001b[38;5;28mself\u001b[39m\u001b[38;5;241m.\u001b[39m_time\n\u001b[1;32m   1194\u001b[0m \u001b[38;5;28;01mtry\u001b[39;00m:\n\u001b[0;32m-> 1195\u001b[0m     \u001b[38;5;28;01mfor\u001b[39;00m obj \u001b[38;5;129;01min\u001b[39;00m iterable:\n\u001b[1;32m   1196\u001b[0m         \u001b[38;5;28;01myield\u001b[39;00m obj\n\u001b[1;32m   1197\u001b[0m         \u001b[38;5;66;03m# Update and possibly print the progressbar.\u001b[39;00m\n\u001b[1;32m   1198\u001b[0m         \u001b[38;5;66;03m# Note: does not call self.update(1) for speed optimisation.\u001b[39;00m\n",
      "File \u001b[0;32m~/.local/lib/python3.8/site-packages/torch/utils/data/dataloader.py:435\u001b[0m, in \u001b[0;36m_BaseDataLoaderIter.__next__\u001b[0;34m(self)\u001b[0m\n\u001b[1;32m    433\u001b[0m \u001b[38;5;28;01mif\u001b[39;00m \u001b[38;5;28mself\u001b[39m\u001b[38;5;241m.\u001b[39m_sampler_iter \u001b[38;5;129;01mis\u001b[39;00m \u001b[38;5;28;01mNone\u001b[39;00m:\n\u001b[1;32m    434\u001b[0m     \u001b[38;5;28mself\u001b[39m\u001b[38;5;241m.\u001b[39m_reset()\n\u001b[0;32m--> 435\u001b[0m data \u001b[38;5;241m=\u001b[39m \u001b[38;5;28;43mself\u001b[39;49m\u001b[38;5;241;43m.\u001b[39;49m\u001b[43m_next_data\u001b[49m\u001b[43m(\u001b[49m\u001b[43m)\u001b[49m\n\u001b[1;32m    436\u001b[0m \u001b[38;5;28mself\u001b[39m\u001b[38;5;241m.\u001b[39m_num_yielded \u001b[38;5;241m+\u001b[39m\u001b[38;5;241m=\u001b[39m \u001b[38;5;241m1\u001b[39m\n\u001b[1;32m    437\u001b[0m \u001b[38;5;28;01mif\u001b[39;00m \u001b[38;5;28mself\u001b[39m\u001b[38;5;241m.\u001b[39m_dataset_kind \u001b[38;5;241m==\u001b[39m _DatasetKind\u001b[38;5;241m.\u001b[39mIterable \u001b[38;5;129;01mand\u001b[39;00m \\\n\u001b[1;32m    438\u001b[0m         \u001b[38;5;28mself\u001b[39m\u001b[38;5;241m.\u001b[39m_IterableDataset_len_called \u001b[38;5;129;01mis\u001b[39;00m \u001b[38;5;129;01mnot\u001b[39;00m \u001b[38;5;28;01mNone\u001b[39;00m \u001b[38;5;129;01mand\u001b[39;00m \\\n\u001b[1;32m    439\u001b[0m         \u001b[38;5;28mself\u001b[39m\u001b[38;5;241m.\u001b[39m_num_yielded \u001b[38;5;241m>\u001b[39m \u001b[38;5;28mself\u001b[39m\u001b[38;5;241m.\u001b[39m_IterableDataset_len_called:\n",
      "File \u001b[0;32m~/.local/lib/python3.8/site-packages/torch/utils/data/dataloader.py:475\u001b[0m, in \u001b[0;36m_SingleProcessDataLoaderIter._next_data\u001b[0;34m(self)\u001b[0m\n\u001b[1;32m    473\u001b[0m \u001b[38;5;28;01mdef\u001b[39;00m \u001b[38;5;21m_next_data\u001b[39m(\u001b[38;5;28mself\u001b[39m):\n\u001b[1;32m    474\u001b[0m     index \u001b[38;5;241m=\u001b[39m \u001b[38;5;28mself\u001b[39m\u001b[38;5;241m.\u001b[39m_next_index()  \u001b[38;5;66;03m# may raise StopIteration\u001b[39;00m\n\u001b[0;32m--> 475\u001b[0m     data \u001b[38;5;241m=\u001b[39m \u001b[38;5;28;43mself\u001b[39;49m\u001b[38;5;241;43m.\u001b[39;49m\u001b[43m_dataset_fetcher\u001b[49m\u001b[38;5;241;43m.\u001b[39;49m\u001b[43mfetch\u001b[49m\u001b[43m(\u001b[49m\u001b[43mindex\u001b[49m\u001b[43m)\u001b[49m  \u001b[38;5;66;03m# may raise StopIteration\u001b[39;00m\n\u001b[1;32m    476\u001b[0m     \u001b[38;5;28;01mif\u001b[39;00m \u001b[38;5;28mself\u001b[39m\u001b[38;5;241m.\u001b[39m_pin_memory:\n\u001b[1;32m    477\u001b[0m         data \u001b[38;5;241m=\u001b[39m _utils\u001b[38;5;241m.\u001b[39mpin_memory\u001b[38;5;241m.\u001b[39mpin_memory(data)\n",
      "File \u001b[0;32m~/.local/lib/python3.8/site-packages/torch/utils/data/_utils/fetch.py:47\u001b[0m, in \u001b[0;36m_MapDatasetFetcher.fetch\u001b[0;34m(self, possibly_batched_index)\u001b[0m\n\u001b[1;32m     45\u001b[0m \u001b[38;5;28;01melse\u001b[39;00m:\n\u001b[1;32m     46\u001b[0m     data \u001b[38;5;241m=\u001b[39m \u001b[38;5;28mself\u001b[39m\u001b[38;5;241m.\u001b[39mdataset[possibly_batched_index]\n\u001b[0;32m---> 47\u001b[0m \u001b[38;5;28;01mreturn\u001b[39;00m \u001b[38;5;28;43mself\u001b[39;49m\u001b[38;5;241;43m.\u001b[39;49m\u001b[43mcollate_fn\u001b[49m\u001b[43m(\u001b[49m\u001b[43mdata\u001b[49m\u001b[43m)\u001b[49m\n",
      "File \u001b[0;32m~/project/home/CD-LAAT_all ICD codes/CDLAAT/main/dataloaders.py:117\u001b[0m, in \u001b[0;36mTextDataLoader._collate_fn\u001b[0;34m(self, batch)\u001b[0m\n\u001b[1;32m    115\u001b[0m desc \u001b[38;5;241m=\u001b[39m desc_torched\n\u001b[1;32m    116\u001b[0m \u001b[38;5;28;01mfor\u001b[39;00m i \u001b[38;5;129;01min\u001b[39;00m \u001b[38;5;28mrange\u001b[39m(\u001b[38;5;28mlen\u001b[39m(desc)):\n\u001b[0;32m--> 117\u001b[0m     desc[i] \u001b[38;5;241m=\u001b[39m \u001b[43mnn\u001b[49m\u001b[38;5;241;43m.\u001b[39;49m\u001b[43mConstantPad1d\u001b[49m\u001b[43m(\u001b[49m\u001b[43m(\u001b[49m\u001b[38;5;241;43m0\u001b[39;49m\u001b[43m,\u001b[49m\u001b[43m \u001b[49m\u001b[38;5;241;43m6\u001b[39;49m\u001b[43m \u001b[49m\u001b[38;5;241;43m-\u001b[39;49m\u001b[43m \u001b[49m\u001b[43mdesc\u001b[49m\u001b[43m[\u001b[49m\u001b[43mi\u001b[49m\u001b[43m]\u001b[49m\u001b[38;5;241;43m.\u001b[39;49m\u001b[43mshape\u001b[49m\u001b[43m[\u001b[49m\u001b[38;5;241;43m0\u001b[39;49m\u001b[43m]\u001b[49m\u001b[43m)\u001b[49m\u001b[43m,\u001b[49m\u001b[43m \u001b[49m\u001b[38;5;241;43m0\u001b[39;49m\u001b[43m)\u001b[49m(desc[i])\u001b[38;5;241m.\u001b[39mtolist()\n\u001b[1;32m    118\u001b[0m desc_batch \u001b[38;5;241m=\u001b[39m desc\n\u001b[1;32m    119\u001b[0m flag \u001b[38;5;241m=\u001b[39m \u001b[38;5;28;01mFalse\u001b[39;00m\n",
      "File \u001b[0;32m~/.local/lib/python3.8/site-packages/torch/nn/modules/padding.py:73\u001b[0m, in \u001b[0;36mConstantPad1d.__init__\u001b[0;34m(self, padding, value)\u001b[0m\n\u001b[1;32m     72\u001b[0m \u001b[38;5;28;01mdef\u001b[39;00m \u001b[38;5;21m__init__\u001b[39m(\u001b[38;5;28mself\u001b[39m, padding: _size_2_t, value: \u001b[38;5;28mfloat\u001b[39m):\n\u001b[0;32m---> 73\u001b[0m     \u001b[38;5;28;43msuper\u001b[39;49m\u001b[43m(\u001b[49m\u001b[43mConstantPad1d\u001b[49m\u001b[43m,\u001b[49m\u001b[43m \u001b[49m\u001b[38;5;28;43mself\u001b[39;49m\u001b[43m)\u001b[49m\u001b[38;5;241m.\u001b[39m\u001b[38;5;21m__init__\u001b[39m(value)\n\u001b[1;32m     74\u001b[0m     \u001b[38;5;28mself\u001b[39m\u001b[38;5;241m.\u001b[39mpadding \u001b[38;5;241m=\u001b[39m _pair(padding)\n",
      "\u001b[0;31mKeyboardInterrupt\u001b[0m: "
     ]
    }
   ],
   "source": [
    "# (total code = 8571)\n",
    "run_with_validation(training_data, valid_data, test_data, label_desc, vocab, saved_data_file_path=\"{}.data.pkl\".format(saved_vocab_path.split(\".pkl\")[0]))"
   ]
  }
 ],
 "metadata": {
  "kernelspec": {
   "display_name": "Python 3 (ipykernel)",
   "language": "python",
   "name": "python3"
  },
  "language_info": {
   "codemirror_mode": {
    "name": "ipython",
    "version": 3
   },
   "file_extension": ".py",
   "mimetype": "text/x-python",
   "name": "python",
   "nbconvert_exporter": "python",
   "pygments_lexer": "ipython3",
   "version": "3.8.10"
  }
 },
 "nbformat": 4,
 "nbformat_minor": 5
}
