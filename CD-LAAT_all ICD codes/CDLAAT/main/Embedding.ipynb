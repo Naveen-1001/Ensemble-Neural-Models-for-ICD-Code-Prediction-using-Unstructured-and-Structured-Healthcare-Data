{
 "cells": [
  {
   "cell_type": "code",
   "execution_count": 14,
   "id": "512b1564",
   "metadata": {},
   "outputs": [],
   "source": [
    "import csv\n",
    "import numpy as np\n",
    "import pandas as pd\n",
    "import operator\n",
    "from collections import defaultdict\n",
    "from scipy.sparse import csr_matrix\n",
    "import gensim.models.word2vec as w2v\n",
    "import gensim.models\n",
    "from tqdm.notebook import tqdm\n",
    "tqdm.pandas()"
   ]
  },
  {
   "cell_type": "code",
   "execution_count": 15,
   "id": "e84d8813",
   "metadata": {},
   "outputs": [],
   "source": [
    "data_path = '../data/'"
   ]
  },
  {
   "cell_type": "code",
   "execution_count": 16,
   "id": "2d8c9d5b",
   "metadata": {},
   "outputs": [],
   "source": [
    "df = pd.read_csv(data_path + 'all_50.csv')"
   ]
  },
  {
   "cell_type": "code",
   "execution_count": 17,
   "id": "0620b815",
   "metadata": {},
   "outputs": [
    {
     "data": {
      "text/html": [
       "<div>\n",
       "<style scoped>\n",
       "    .dataframe tbody tr th:only-of-type {\n",
       "        vertical-align: middle;\n",
       "    }\n",
       "\n",
       "    .dataframe tbody tr th {\n",
       "        vertical-align: top;\n",
       "    }\n",
       "\n",
       "    .dataframe thead th {\n",
       "        text-align: right;\n",
       "    }\n",
       "</style>\n",
       "<table border=\"1\" class=\"dataframe\">\n",
       "  <thead>\n",
       "    <tr style=\"text-align: right;\">\n",
       "      <th></th>\n",
       "      <th>SUBJECT_ID</th>\n",
       "      <th>HADM_ID</th>\n",
       "      <th>TEXT</th>\n",
       "      <th>ICD9_CODE</th>\n",
       "      <th>ICD10_CODE</th>\n",
       "    </tr>\n",
       "  </thead>\n",
       "  <tbody>\n",
       "    <tr>\n",
       "      <th>0</th>\n",
       "      <td>17</td>\n",
       "      <td>161087</td>\n",
       "      <td>admission date date birth sex f service cardio...</td>\n",
       "      <td>38.93;272.4;511.9;88.72;311</td>\n",
       "      <td>02H633Z;E78.4;J91.8;B244YZZ;F32.9</td>\n",
       "    </tr>\n",
       "    <tr>\n",
       "      <th>1</th>\n",
       "      <td>20</td>\n",
       "      <td>157681</td>\n",
       "      <td>admission date date birth sex f service histor...</td>\n",
       "      <td>272.4;36.15;414.01;401.9;250.00;39.61</td>\n",
       "      <td>E78.4;0210088;I25.10;I10;E11.9;5A1221Z</td>\n",
       "    </tr>\n",
       "    <tr>\n",
       "      <th>2</th>\n",
       "      <td>33</td>\n",
       "      <td>176176</td>\n",
       "      <td>admission date service history present illness...</td>\n",
       "      <td>038.9</td>\n",
       "      <td>A41.9</td>\n",
       "    </tr>\n",
       "    <tr>\n",
       "      <th>3</th>\n",
       "      <td>38</td>\n",
       "      <td>185910</td>\n",
       "      <td>admission date date birth sex service urology ...</td>\n",
       "      <td>96.72;995.92;96.6;38.93;427.31;038.9;428.0;584...</td>\n",
       "      <td>5A1955Z;R65.20;0DH67UZ;02H633Z;I48.91;A41.9;I5...</td>\n",
       "    </tr>\n",
       "    <tr>\n",
       "      <th>4</th>\n",
       "      <td>41</td>\n",
       "      <td>101757</td>\n",
       "      <td>admission date date birth sex service medicine...</td>\n",
       "      <td>96.71;507.0;285.9;96.6;38.93;401.9;99.04;305.1...</td>\n",
       "      <td>5A1935Z;J69.0;D64.9;0DH67UZ;02H633Z;I10;30233N...</td>\n",
       "    </tr>\n",
       "  </tbody>\n",
       "</table>\n",
       "</div>"
      ],
      "text/plain": [
       "   SUBJECT_ID  HADM_ID                                               TEXT  \\\n",
       "0          17   161087  admission date date birth sex f service cardio...   \n",
       "1          20   157681  admission date date birth sex f service histor...   \n",
       "2          33   176176  admission date service history present illness...   \n",
       "3          38   185910  admission date date birth sex service urology ...   \n",
       "4          41   101757  admission date date birth sex service medicine...   \n",
       "\n",
       "                                           ICD9_CODE  \\\n",
       "0                        38.93;272.4;511.9;88.72;311   \n",
       "1              272.4;36.15;414.01;401.9;250.00;39.61   \n",
       "2                                              038.9   \n",
       "3  96.72;995.92;96.6;38.93;427.31;038.9;428.0;584...   \n",
       "4  96.71;507.0;285.9;96.6;38.93;401.9;99.04;305.1...   \n",
       "\n",
       "                                          ICD10_CODE  \n",
       "0                  02H633Z;E78.4;J91.8;B244YZZ;F32.9  \n",
       "1             E78.4;0210088;I25.10;I10;E11.9;5A1221Z  \n",
       "2                                              A41.9  \n",
       "3  5A1955Z;R65.20;0DH67UZ;02H633Z;I48.91;A41.9;I5...  \n",
       "4  5A1935Z;J69.0;D64.9;0DH67UZ;02H633Z;I10;30233N...  "
      ]
     },
     "execution_count": 17,
     "metadata": {},
     "output_type": "execute_result"
    }
   ],
   "source": [
    "df.head()"
   ]
  },
  {
   "cell_type": "code",
   "execution_count": 18,
   "id": "a020f4ba",
   "metadata": {},
   "outputs": [],
   "source": [
    "labeldf = pd.read_csv(data_path + 'D_ICD_50.csv')"
   ]
  },
  {
   "cell_type": "code",
   "execution_count": 19,
   "id": "0c65af34",
   "metadata": {},
   "outputs": [
    {
     "data": {
      "text/html": [
       "<div>\n",
       "<style scoped>\n",
       "    .dataframe tbody tr th:only-of-type {\n",
       "        vertical-align: middle;\n",
       "    }\n",
       "\n",
       "    .dataframe tbody tr th {\n",
       "        vertical-align: top;\n",
       "    }\n",
       "\n",
       "    .dataframe thead th {\n",
       "        text-align: right;\n",
       "    }\n",
       "</style>\n",
       "<table border=\"1\" class=\"dataframe\">\n",
       "  <thead>\n",
       "    <tr style=\"text-align: right;\">\n",
       "      <th></th>\n",
       "      <th>ICD10_CODE</th>\n",
       "      <th>DESC</th>\n",
       "    </tr>\n",
       "  </thead>\n",
       "  <tbody>\n",
       "    <tr>\n",
       "      <th>0</th>\n",
       "      <td>A41.9</td>\n",
       "      <td>Unspecified septicemia</td>\n",
       "    </tr>\n",
       "    <tr>\n",
       "      <th>1</th>\n",
       "      <td>E11.9</td>\n",
       "      <td>Diabetes mellitus without mention of complicat...</td>\n",
       "    </tr>\n",
       "    <tr>\n",
       "      <th>2</th>\n",
       "      <td>E03.9</td>\n",
       "      <td>Unspecified acquired hypothyroidism</td>\n",
       "    </tr>\n",
       "    <tr>\n",
       "      <th>3</th>\n",
       "      <td>E78.00</td>\n",
       "      <td>Pure hypercholesterolemia</td>\n",
       "    </tr>\n",
       "    <tr>\n",
       "      <th>4</th>\n",
       "      <td>E78.4</td>\n",
       "      <td>Other and unspecified hyperlipidemia</td>\n",
       "    </tr>\n",
       "  </tbody>\n",
       "</table>\n",
       "</div>"
      ],
      "text/plain": [
       "  ICD10_CODE                                               DESC\n",
       "0      A41.9                             Unspecified septicemia\n",
       "1      E11.9  Diabetes mellitus without mention of complicat...\n",
       "2      E03.9                Unspecified acquired hypothyroidism\n",
       "3     E78.00                          Pure hypercholesterolemia\n",
       "4      E78.4               Other and unspecified hyperlipidemia"
      ]
     },
     "execution_count": 19,
     "metadata": {},
     "output_type": "execute_result"
    }
   ],
   "source": [
    "labeldf.head()"
   ]
  },
  {
   "cell_type": "markdown",
   "id": "3c74540f",
   "metadata": {},
   "source": [
    "### Build Vocab"
   ]
  },
  {
   "cell_type": "code",
   "execution_count": 20,
   "id": "2f897f50",
   "metadata": {},
   "outputs": [],
   "source": [
    "types = set()\n",
    "for row in df.itertuples():\n",
    "    for w in row[-3].split(' '):\n",
    "        types.add(w)"
   ]
  },
  {
   "cell_type": "code",
   "execution_count": 21,
   "id": "db92e328",
   "metadata": {},
   "outputs": [
    {
     "data": {
      "text/plain": [
       "66320"
      ]
     },
     "execution_count": 21,
     "metadata": {},
     "output_type": "execute_result"
    }
   ],
   "source": [
    "len(types)"
   ]
  },
  {
   "cell_type": "code",
   "execution_count": 22,
   "id": "3e7d4b8d",
   "metadata": {},
   "outputs": [],
   "source": [
    "for row in labeldf.itertuples():\n",
    "    for w in row[-1].split(' '):\n",
    "        types.add(w)"
   ]
  },
  {
   "cell_type": "code",
   "execution_count": 23,
   "id": "9296169c",
   "metadata": {},
   "outputs": [
    {
     "data": {
      "text/plain": [
       "66391"
      ]
     },
     "execution_count": 23,
     "metadata": {},
     "output_type": "execute_result"
    }
   ],
   "source": [
    "len(types)"
   ]
  },
  {
   "cell_type": "code",
   "execution_count": 24,
   "id": "42e31022",
   "metadata": {},
   "outputs": [],
   "source": [
    "vocab_list = list(types)"
   ]
  },
  {
   "cell_type": "code",
   "execution_count": 25,
   "id": "8af54054",
   "metadata": {},
   "outputs": [],
   "source": [
    "vocab_list.sort()"
   ]
  },
  {
   "cell_type": "code",
   "execution_count": 26,
   "id": "3c088694",
   "metadata": {},
   "outputs": [],
   "source": [
    "with open(data_path + 'vocab.csv', 'w') as vocab_file:\n",
    "    for word in vocab_list:\n",
    "        vocab_file.write(word + \"\\n\")"
   ]
  },
  {
   "cell_type": "markdown",
   "id": "5bf12416",
   "metadata": {},
   "source": [
    "### Pre-train word embeddings"
   ]
  },
  {
   "cell_type": "code",
   "execution_count": 27,
   "id": "209ac820",
   "metadata": {},
   "outputs": [
    {
     "data": {
      "application/vnd.jupyter.widget-view+json": {
       "model_id": "206bc59f257d4491b25a4944dd5fec3d",
       "version_major": 2,
       "version_minor": 0
      },
      "text/plain": [
       "  0%|          | 0/11368 [00:00<?, ?it/s]"
      ]
     },
     "metadata": {},
     "output_type": "display_data"
    }
   ],
   "source": [
    "textsentences = df.progress_apply(lambda row: str(row['TEXT']).split(), axis=1)"
   ]
  },
  {
   "cell_type": "code",
   "execution_count": 28,
   "id": "131b4bdf",
   "metadata": {},
   "outputs": [
    {
     "data": {
      "application/vnd.jupyter.widget-view+json": {
       "model_id": "f783b98a388142299e184bef085df4a8",
       "version_major": 2,
       "version_minor": 0
      },
      "text/plain": [
       "  0%|          | 0/50 [00:00<?, ?it/s]"
      ]
     },
     "metadata": {},
     "output_type": "display_data"
    }
   ],
   "source": [
    "labelsentences = labeldf.progress_apply(lambda row: str(row['DESC']).split(), axis=1)"
   ]
  },
  {
   "cell_type": "code",
   "execution_count": 29,
   "id": "eeff8adf",
   "metadata": {},
   "outputs": [],
   "source": [
    "sentences = pd.concat([textsentences,labelsentences])"
   ]
  },
  {
   "cell_type": "code",
   "execution_count": 30,
   "id": "c191d44f",
   "metadata": {},
   "outputs": [],
   "source": [
    "model = w2v.Word2Vec(vector_size=100, min_count=0, workers=4, epochs=50)\n",
    "model.build_vocab(sentences)"
   ]
  },
  {
   "cell_type": "code",
   "execution_count": 31,
   "id": "4757b249",
   "metadata": {},
   "outputs": [
    {
     "data": {
      "text/plain": [
       "(560173079, 599665250)"
      ]
     },
     "execution_count": 31,
     "metadata": {},
     "output_type": "execute_result"
    }
   ],
   "source": [
    "model.train(sentences, total_examples=model.corpus_count, epochs=model.epochs)"
   ]
  },
  {
   "cell_type": "code",
   "execution_count": 32,
   "id": "14a4b575",
   "metadata": {},
   "outputs": [
    {
     "data": {
      "text/plain": [
       "[('fevers', 0.8807467222213745),\n",
       " ('fivers', 0.6618841290473938),\n",
       " ('yestderday', 0.6599153876304626),\n",
       " ('temps', 0.6471483707427979),\n",
       " ('addominal', 0.6402809023857117),\n",
       " ('temperatures', 0.637224555015564),\n",
       " ('temperature', 0.6262152194976807),\n",
       " ('cevers', 0.5718331336975098),\n",
       " ('nonprod', 0.5659204125404358),\n",
       " ('febrile', 0.5648596286773682)]"
      ]
     },
     "execution_count": 32,
     "metadata": {},
     "output_type": "execute_result"
    }
   ],
   "source": [
    "model.wv.most_similar('fever', topn=10)"
   ]
  },
  {
   "cell_type": "code",
   "execution_count": 33,
   "id": "01d1c32c",
   "metadata": {},
   "outputs": [],
   "source": [
    "model.save(data_path + 'processed_50.w2v')"
   ]
  },
  {
   "cell_type": "markdown",
   "id": "efff542a",
   "metadata": {},
   "source": [
    "### Map words with its embeddings"
   ]
  },
  {
   "cell_type": "code",
   "execution_count": 34,
   "id": "2f1a8f41",
   "metadata": {},
   "outputs": [],
   "source": [
    "model = gensim.models.Word2Vec.load(data_path + 'processed_50.w2v')\n",
    "wv = model.wv                             "
   ]
  },
  {
   "cell_type": "code",
   "execution_count": 36,
   "id": "0f44f7c9",
   "metadata": {},
   "outputs": [],
   "source": [
    "vocabdf = pd.read_csv(data_path+'vocab.csv',names=['word'],header=None,on_bad_lines='skip')"
   ]
  },
  {
   "cell_type": "code",
   "execution_count": 37,
   "id": "c6618858",
   "metadata": {},
   "outputs": [],
   "source": [
    "vocab = set(vocabdf['word'])"
   ]
  },
  {
   "cell_type": "code",
   "execution_count": 38,
   "id": "e62fc371",
   "metadata": {},
   "outputs": [],
   "source": [
    "ind2w = {i+1:w for i,w in enumerate(sorted(vocab))}"
   ]
  },
  {
   "cell_type": "code",
   "execution_count": 39,
   "id": "95341d01",
   "metadata": {},
   "outputs": [
    {
     "data": {
      "application/vnd.jupyter.widget-view+json": {
       "model_id": "dd5248130e3b4034867cb89105dadf93",
       "version_major": 2,
       "version_minor": 0
      },
      "text/plain": [
       "  0%|          | 0/66377 [00:00<?, ?it/s]"
      ]
     },
     "metadata": {},
     "output_type": "display_data"
    }
   ],
   "source": [
    "PAD_CHAR = \"**PAD**\"\n",
    "W = np.zeros((len(ind2w)+1, len(wv.get_vector(wv.index_to_key[0])) ))\n",
    "words = [PAD_CHAR]\n",
    "W[0][:] = np.zeros(len(wv.get_vector(wv.index_to_key[0])))\n",
    "for idx, word in tqdm(ind2w.items()):\n",
    "    if idx >= W.shape[0]:\n",
    "        break    \n",
    "    W[idx][:] = wv.get_vector(word)\n",
    "    words.append(word)"
   ]
  },
  {
   "cell_type": "code",
   "execution_count": 40,
   "id": "eb683d91",
   "metadata": {},
   "outputs": [
    {
     "data": {
      "text/plain": [
       "66378"
      ]
     },
     "execution_count": 40,
     "metadata": {},
     "output_type": "execute_result"
    }
   ],
   "source": [
    "W.shape[0]"
   ]
  },
  {
   "cell_type": "code",
   "execution_count": 41,
   "id": "99e32d68",
   "metadata": {},
   "outputs": [],
   "source": [
    "with open(data_path + 'processed_50.embed', 'w') as o:\n",
    "    #pad token already included\n",
    "    for i in range(len(words)):\n",
    "        line = [words[i]]\n",
    "        line.extend([str(d) for d in W[i]])\n",
    "        o.write(\" \".join(line) + \"\\n\")"
   ]
  }
 ],
 "metadata": {
  "kernelspec": {
   "display_name": "Python 3 (ipykernel)",
   "language": "python",
   "name": "python3"
  },
  "language_info": {
   "codemirror_mode": {
    "name": "ipython",
    "version": 3
   },
   "file_extension": ".py",
   "mimetype": "text/x-python",
   "name": "python",
   "nbconvert_exporter": "python",
   "pygments_lexer": "ipython3",
   "version": "3.8.10"
  }
 },
 "nbformat": 4,
 "nbformat_minor": 5
}
