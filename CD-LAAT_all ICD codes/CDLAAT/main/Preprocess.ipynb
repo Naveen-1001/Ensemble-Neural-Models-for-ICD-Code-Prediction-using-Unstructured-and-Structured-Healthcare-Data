{
 "cells": [
  {
   "cell_type": "code",
   "execution_count": 2,
   "id": "8ef6de1f",
   "metadata": {},
   "outputs": [],
   "source": [
    "import numpy as np\n",
    "import pandas as pd\n",
    "from collections import Counter, defaultdict\n",
    "import csv\n",
    "import math\n",
    "import operator\n",
    "import requests\n",
    "from bs4 import BeautifulSoup\n",
    "from tqdm.notebook import tqdm\n",
    "import re\n",
    "import os\n",
    "import json\n",
    "import asyncio\n",
    "import requests\n",
    "import aiohttp\n",
    "from nltk.tokenize import RegexpTokenizer\n",
    "tqdm.pandas()"
   ]
  },
  {
   "cell_type": "markdown",
   "id": "65252ae4",
   "metadata": {},
   "source": [
    "### Full"
   ]
  },
  {
   "cell_type": "code",
   "execution_count": 3,
   "id": "2969917b",
   "metadata": {},
   "outputs": [],
   "source": [
    "data_path = '../data/'"
   ]
  },
  {
   "cell_type": "code",
   "execution_count": 4,
   "id": "0fcdee92",
   "metadata": {},
   "outputs": [],
   "source": [
    "dfproc = pd.read_csv(data_path + 'PROCEDURES_ICD.csv')\n",
    "dfdiag = pd.read_csv(data_path + 'DIAGNOSES_ICD.csv')"
   ]
  },
  {
   "cell_type": "code",
   "execution_count": 4,
   "id": "b840c3cb",
   "metadata": {},
   "outputs": [
    {
     "data": {
      "text/html": [
       "<div>\n",
       "<style scoped>\n",
       "    .dataframe tbody tr th:only-of-type {\n",
       "        vertical-align: middle;\n",
       "    }\n",
       "\n",
       "    .dataframe tbody tr th {\n",
       "        vertical-align: top;\n",
       "    }\n",
       "\n",
       "    .dataframe thead th {\n",
       "        text-align: right;\n",
       "    }\n",
       "</style>\n",
       "<table border=\"1\" class=\"dataframe\">\n",
       "  <thead>\n",
       "    <tr style=\"text-align: right;\">\n",
       "      <th></th>\n",
       "      <th>ROW_ID</th>\n",
       "      <th>SUBJECT_ID</th>\n",
       "      <th>HADM_ID</th>\n",
       "      <th>SEQ_NUM</th>\n",
       "      <th>ICD9_CODE</th>\n",
       "    </tr>\n",
       "  </thead>\n",
       "  <tbody>\n",
       "    <tr>\n",
       "      <th>0</th>\n",
       "      <td>944</td>\n",
       "      <td>62641</td>\n",
       "      <td>154460</td>\n",
       "      <td>3</td>\n",
       "      <td>3404</td>\n",
       "    </tr>\n",
       "    <tr>\n",
       "      <th>1</th>\n",
       "      <td>945</td>\n",
       "      <td>2592</td>\n",
       "      <td>130856</td>\n",
       "      <td>1</td>\n",
       "      <td>9671</td>\n",
       "    </tr>\n",
       "    <tr>\n",
       "      <th>2</th>\n",
       "      <td>946</td>\n",
       "      <td>2592</td>\n",
       "      <td>130856</td>\n",
       "      <td>2</td>\n",
       "      <td>3893</td>\n",
       "    </tr>\n",
       "    <tr>\n",
       "      <th>3</th>\n",
       "      <td>947</td>\n",
       "      <td>55357</td>\n",
       "      <td>119355</td>\n",
       "      <td>1</td>\n",
       "      <td>9672</td>\n",
       "    </tr>\n",
       "    <tr>\n",
       "      <th>4</th>\n",
       "      <td>948</td>\n",
       "      <td>55357</td>\n",
       "      <td>119355</td>\n",
       "      <td>2</td>\n",
       "      <td>331</td>\n",
       "    </tr>\n",
       "  </tbody>\n",
       "</table>\n",
       "</div>"
      ],
      "text/plain": [
       "   ROW_ID  SUBJECT_ID  HADM_ID  SEQ_NUM  ICD9_CODE\n",
       "0     944       62641   154460        3       3404\n",
       "1     945        2592   130856        1       9671\n",
       "2     946        2592   130856        2       3893\n",
       "3     947       55357   119355        1       9672\n",
       "4     948       55357   119355        2        331"
      ]
     },
     "execution_count": 4,
     "metadata": {},
     "output_type": "execute_result"
    }
   ],
   "source": [
    "dfproc.head()"
   ]
  },
  {
   "cell_type": "code",
   "execution_count": 5,
   "id": "62cce13f",
   "metadata": {},
   "outputs": [
    {
     "data": {
      "text/html": [
       "<div>\n",
       "<style scoped>\n",
       "    .dataframe tbody tr th:only-of-type {\n",
       "        vertical-align: middle;\n",
       "    }\n",
       "\n",
       "    .dataframe tbody tr th {\n",
       "        vertical-align: top;\n",
       "    }\n",
       "\n",
       "    .dataframe thead th {\n",
       "        text-align: right;\n",
       "    }\n",
       "</style>\n",
       "<table border=\"1\" class=\"dataframe\">\n",
       "  <thead>\n",
       "    <tr style=\"text-align: right;\">\n",
       "      <th></th>\n",
       "      <th>ROW_ID</th>\n",
       "      <th>SUBJECT_ID</th>\n",
       "      <th>HADM_ID</th>\n",
       "      <th>SEQ_NUM</th>\n",
       "      <th>ICD9_CODE</th>\n",
       "    </tr>\n",
       "  </thead>\n",
       "  <tbody>\n",
       "    <tr>\n",
       "      <th>0</th>\n",
       "      <td>1297</td>\n",
       "      <td>109</td>\n",
       "      <td>172335</td>\n",
       "      <td>1.0</td>\n",
       "      <td>40301</td>\n",
       "    </tr>\n",
       "    <tr>\n",
       "      <th>1</th>\n",
       "      <td>1298</td>\n",
       "      <td>109</td>\n",
       "      <td>172335</td>\n",
       "      <td>2.0</td>\n",
       "      <td>486</td>\n",
       "    </tr>\n",
       "    <tr>\n",
       "      <th>2</th>\n",
       "      <td>1299</td>\n",
       "      <td>109</td>\n",
       "      <td>172335</td>\n",
       "      <td>3.0</td>\n",
       "      <td>58281</td>\n",
       "    </tr>\n",
       "    <tr>\n",
       "      <th>3</th>\n",
       "      <td>1300</td>\n",
       "      <td>109</td>\n",
       "      <td>172335</td>\n",
       "      <td>4.0</td>\n",
       "      <td>5855</td>\n",
       "    </tr>\n",
       "    <tr>\n",
       "      <th>4</th>\n",
       "      <td>1301</td>\n",
       "      <td>109</td>\n",
       "      <td>172335</td>\n",
       "      <td>5.0</td>\n",
       "      <td>4254</td>\n",
       "    </tr>\n",
       "  </tbody>\n",
       "</table>\n",
       "</div>"
      ],
      "text/plain": [
       "   ROW_ID  SUBJECT_ID  HADM_ID  SEQ_NUM ICD9_CODE\n",
       "0    1297         109   172335      1.0     40301\n",
       "1    1298         109   172335      2.0       486\n",
       "2    1299         109   172335      3.0     58281\n",
       "3    1300         109   172335      4.0      5855\n",
       "4    1301         109   172335      5.0      4254"
      ]
     },
     "execution_count": 5,
     "metadata": {},
     "output_type": "execute_result"
    }
   ],
   "source": [
    "dfdiag.head()"
   ]
  },
  {
   "cell_type": "markdown",
   "id": "ee9e6c9e",
   "metadata": {},
   "source": [
    "Put a period in the right place because the MIMIC-3 data files exclude them.Generally, procedure codes have dots after the first two digits, while diagnosis codes have dots after the first three digits."
   ]
  },
  {
   "cell_type": "code",
   "execution_count": 5,
   "id": "766ad169",
   "metadata": {},
   "outputs": [],
   "source": [
    "def reformat(code, is_diag):\n",
    "    code = ''.join(code.split('.'))\n",
    "    if is_diag:\n",
    "        if code.startswith('E'):\n",
    "            if len(code) > 4:\n",
    "                code = code[:4] + '.' + code[4:]\n",
    "        else:\n",
    "            if len(code) > 3:\n",
    "                code = code[:3] + '.' + code[3:]\n",
    "    else:\n",
    "        code = code[:2] + '.' + code[2:]\n",
    "    return code"
   ]
  },
  {
   "cell_type": "code",
   "execution_count": 7,
   "id": "0698cdcf",
   "metadata": {},
   "outputs": [],
   "source": [
    "dfdiag['ICD9_CODE'] = dfdiag.apply(lambda row: str(reformat(str(row[4]), True)), axis=1)\n",
    "dfproc['ICD9_CODE'] = dfproc.apply(lambda row: str(reformat(str(row[4]), False)), axis=1)"
   ]
  },
  {
   "cell_type": "code",
   "execution_count": 8,
   "id": "61ef5e28",
   "metadata": {},
   "outputs": [],
   "source": [
    "dfcodes = pd.concat([dfdiag, dfproc])\n",
    "dfcodes.to_csv(data_path + 'ALL_CODES.csv', index=False,\n",
    "               columns=['ROW_ID', 'SUBJECT_ID', 'HADM_ID', 'SEQ_NUM', 'ICD9_CODE'],\n",
    "               header=['ROW_ID', 'SUBJECT_ID', 'HADM_ID', 'SEQ_NUM', 'ICD9_CODE'])\n"
   ]
  },
  {
   "cell_type": "code",
   "execution_count": 9,
   "id": "aedae7a2",
   "metadata": {},
   "outputs": [
    {
     "data": {
      "text/html": [
       "<div>\n",
       "<style scoped>\n",
       "    .dataframe tbody tr th:only-of-type {\n",
       "        vertical-align: middle;\n",
       "    }\n",
       "\n",
       "    .dataframe tbody tr th {\n",
       "        vertical-align: top;\n",
       "    }\n",
       "\n",
       "    .dataframe thead th {\n",
       "        text-align: right;\n",
       "    }\n",
       "</style>\n",
       "<table border=\"1\" class=\"dataframe\">\n",
       "  <thead>\n",
       "    <tr style=\"text-align: right;\">\n",
       "      <th></th>\n",
       "      <th>ROW_ID</th>\n",
       "      <th>SUBJECT_ID</th>\n",
       "      <th>HADM_ID</th>\n",
       "      <th>SEQ_NUM</th>\n",
       "      <th>ICD9_CODE</th>\n",
       "    </tr>\n",
       "  </thead>\n",
       "  <tbody>\n",
       "    <tr>\n",
       "      <th>0</th>\n",
       "      <td>1297</td>\n",
       "      <td>109</td>\n",
       "      <td>172335</td>\n",
       "      <td>1.0</td>\n",
       "      <td>403.01</td>\n",
       "    </tr>\n",
       "    <tr>\n",
       "      <th>1</th>\n",
       "      <td>1298</td>\n",
       "      <td>109</td>\n",
       "      <td>172335</td>\n",
       "      <td>2.0</td>\n",
       "      <td>486</td>\n",
       "    </tr>\n",
       "    <tr>\n",
       "      <th>2</th>\n",
       "      <td>1299</td>\n",
       "      <td>109</td>\n",
       "      <td>172335</td>\n",
       "      <td>3.0</td>\n",
       "      <td>582.81</td>\n",
       "    </tr>\n",
       "    <tr>\n",
       "      <th>3</th>\n",
       "      <td>1300</td>\n",
       "      <td>109</td>\n",
       "      <td>172335</td>\n",
       "      <td>4.0</td>\n",
       "      <td>585.5</td>\n",
       "    </tr>\n",
       "    <tr>\n",
       "      <th>4</th>\n",
       "      <td>1301</td>\n",
       "      <td>109</td>\n",
       "      <td>172335</td>\n",
       "      <td>5.0</td>\n",
       "      <td>425.4</td>\n",
       "    </tr>\n",
       "  </tbody>\n",
       "</table>\n",
       "</div>"
      ],
      "text/plain": [
       "   ROW_ID  SUBJECT_ID  HADM_ID  SEQ_NUM ICD9_CODE\n",
       "0    1297         109   172335      1.0    403.01\n",
       "1    1298         109   172335      2.0       486\n",
       "2    1299         109   172335      3.0    582.81\n",
       "3    1300         109   172335      4.0     585.5\n",
       "4    1301         109   172335      5.0     425.4"
      ]
     },
     "execution_count": 9,
     "metadata": {},
     "output_type": "execute_result"
    }
   ],
   "source": [
    "dfcodes.head()"
   ]
  },
  {
   "cell_type": "code",
   "execution_count": 10,
   "id": "bf049465",
   "metadata": {},
   "outputs": [
    {
     "data": {
      "text/plain": [
       "8994"
      ]
     },
     "execution_count": 10,
     "metadata": {},
     "output_type": "execute_result"
    }
   ],
   "source": [
    "df = pd.read_csv(data_path + 'ALL_CODES.csv',dtype={\"ICD9_CODE\": str})\n",
    "len(df['ICD9_CODE'].unique())"
   ]
  },
  {
   "cell_type": "code",
   "execution_count": 11,
   "id": "84acd5f1",
   "metadata": {},
   "outputs": [],
   "source": [
    "# df = df[df['ICD9_CODE'].notna()]"
   ]
  },
  {
   "cell_type": "code",
   "execution_count": 12,
   "id": "566c1275",
   "metadata": {},
   "outputs": [
    {
     "data": {
      "text/plain": [
       "8994"
      ]
     },
     "execution_count": 12,
     "metadata": {},
     "output_type": "execute_result"
    }
   ],
   "source": [
    "icd9codes = df['ICD9_CODE'].unique()\n",
    "len(icd9codes)"
   ]
  },
  {
   "cell_type": "code",
   "execution_count": 13,
   "id": "d219e916",
   "metadata": {},
   "outputs": [],
   "source": [
    "df.to_csv(data_path + 'ALL_CODES.csv', index=False)"
   ]
  },
  {
   "cell_type": "markdown",
   "id": "9def4870",
   "metadata": {},
   "source": [
    "### Get Discharge Summary"
   ]
  },
  {
   "cell_type": "code",
   "execution_count": 14,
   "id": "29cf3dfe",
   "metadata": {},
   "outputs": [
    {
     "name": "stderr",
     "output_type": "stream",
     "text": [
      "/tmp/ipykernel_2713912/772925661.py:1: DtypeWarning: Columns (4,5) have mixed types. Specify dtype option on import or set low_memory=False.\n",
      "  noteeventsdf = pd.read_csv(data_path + 'NOTEEVENTS.csv')\n"
     ]
    }
   ],
   "source": [
    "noteeventsdf = pd.read_csv(data_path + 'NOTEEVENTS.csv')"
   ]
  },
  {
   "cell_type": "code",
   "execution_count": 15,
   "id": "4a43ba9f",
   "metadata": {},
   "outputs": [
    {
     "data": {
      "text/html": [
       "<div>\n",
       "<style scoped>\n",
       "    .dataframe tbody tr th:only-of-type {\n",
       "        vertical-align: middle;\n",
       "    }\n",
       "\n",
       "    .dataframe tbody tr th {\n",
       "        vertical-align: top;\n",
       "    }\n",
       "\n",
       "    .dataframe thead th {\n",
       "        text-align: right;\n",
       "    }\n",
       "</style>\n",
       "<table border=\"1\" class=\"dataframe\">\n",
       "  <thead>\n",
       "    <tr style=\"text-align: right;\">\n",
       "      <th></th>\n",
       "      <th>ROW_ID</th>\n",
       "      <th>SUBJECT_ID</th>\n",
       "      <th>HADM_ID</th>\n",
       "      <th>CHARTDATE</th>\n",
       "      <th>CHARTTIME</th>\n",
       "      <th>STORETIME</th>\n",
       "      <th>CATEGORY</th>\n",
       "      <th>DESCRIPTION</th>\n",
       "      <th>CGID</th>\n",
       "      <th>ISERROR</th>\n",
       "      <th>TEXT</th>\n",
       "    </tr>\n",
       "  </thead>\n",
       "  <tbody>\n",
       "    <tr>\n",
       "      <th>0</th>\n",
       "      <td>174</td>\n",
       "      <td>22532</td>\n",
       "      <td>167853.0</td>\n",
       "      <td>2151-08-04</td>\n",
       "      <td>NaN</td>\n",
       "      <td>NaN</td>\n",
       "      <td>Discharge summary</td>\n",
       "      <td>Report</td>\n",
       "      <td>NaN</td>\n",
       "      <td>NaN</td>\n",
       "      <td>Admission Date:  [**2151-7-16**]       Dischar...</td>\n",
       "    </tr>\n",
       "    <tr>\n",
       "      <th>1</th>\n",
       "      <td>175</td>\n",
       "      <td>13702</td>\n",
       "      <td>107527.0</td>\n",
       "      <td>2118-06-14</td>\n",
       "      <td>NaN</td>\n",
       "      <td>NaN</td>\n",
       "      <td>Discharge summary</td>\n",
       "      <td>Report</td>\n",
       "      <td>NaN</td>\n",
       "      <td>NaN</td>\n",
       "      <td>Admission Date:  [**2118-6-2**]       Discharg...</td>\n",
       "    </tr>\n",
       "    <tr>\n",
       "      <th>2</th>\n",
       "      <td>176</td>\n",
       "      <td>13702</td>\n",
       "      <td>167118.0</td>\n",
       "      <td>2119-05-25</td>\n",
       "      <td>NaN</td>\n",
       "      <td>NaN</td>\n",
       "      <td>Discharge summary</td>\n",
       "      <td>Report</td>\n",
       "      <td>NaN</td>\n",
       "      <td>NaN</td>\n",
       "      <td>Admission Date:  [**2119-5-4**]              D...</td>\n",
       "    </tr>\n",
       "    <tr>\n",
       "      <th>3</th>\n",
       "      <td>177</td>\n",
       "      <td>13702</td>\n",
       "      <td>196489.0</td>\n",
       "      <td>2124-08-18</td>\n",
       "      <td>NaN</td>\n",
       "      <td>NaN</td>\n",
       "      <td>Discharge summary</td>\n",
       "      <td>Report</td>\n",
       "      <td>NaN</td>\n",
       "      <td>NaN</td>\n",
       "      <td>Admission Date:  [**2124-7-21**]              ...</td>\n",
       "    </tr>\n",
       "    <tr>\n",
       "      <th>4</th>\n",
       "      <td>178</td>\n",
       "      <td>26880</td>\n",
       "      <td>135453.0</td>\n",
       "      <td>2162-03-25</td>\n",
       "      <td>NaN</td>\n",
       "      <td>NaN</td>\n",
       "      <td>Discharge summary</td>\n",
       "      <td>Report</td>\n",
       "      <td>NaN</td>\n",
       "      <td>NaN</td>\n",
       "      <td>Admission Date:  [**2162-3-3**]              D...</td>\n",
       "    </tr>\n",
       "  </tbody>\n",
       "</table>\n",
       "</div>"
      ],
      "text/plain": [
       "   ROW_ID  SUBJECT_ID   HADM_ID   CHARTDATE CHARTTIME STORETIME  \\\n",
       "0     174       22532  167853.0  2151-08-04       NaN       NaN   \n",
       "1     175       13702  107527.0  2118-06-14       NaN       NaN   \n",
       "2     176       13702  167118.0  2119-05-25       NaN       NaN   \n",
       "3     177       13702  196489.0  2124-08-18       NaN       NaN   \n",
       "4     178       26880  135453.0  2162-03-25       NaN       NaN   \n",
       "\n",
       "            CATEGORY DESCRIPTION  CGID  ISERROR  \\\n",
       "0  Discharge summary      Report   NaN      NaN   \n",
       "1  Discharge summary      Report   NaN      NaN   \n",
       "2  Discharge summary      Report   NaN      NaN   \n",
       "3  Discharge summary      Report   NaN      NaN   \n",
       "4  Discharge summary      Report   NaN      NaN   \n",
       "\n",
       "                                                TEXT  \n",
       "0  Admission Date:  [**2151-7-16**]       Dischar...  \n",
       "1  Admission Date:  [**2118-6-2**]       Discharg...  \n",
       "2  Admission Date:  [**2119-5-4**]              D...  \n",
       "3  Admission Date:  [**2124-7-21**]              ...  \n",
       "4  Admission Date:  [**2162-3-3**]              D...  "
      ]
     },
     "execution_count": 15,
     "metadata": {},
     "output_type": "execute_result"
    }
   ],
   "source": [
    "noteeventsdf.head()"
   ]
  },
  {
   "cell_type": "code",
   "execution_count": 16,
   "id": "53e2127a",
   "metadata": {},
   "outputs": [
    {
     "data": {
      "text/plain": [
       "2083180"
      ]
     },
     "execution_count": 16,
     "metadata": {},
     "output_type": "execute_result"
    }
   ],
   "source": [
    "len(noteeventsdf.index)"
   ]
  },
  {
   "cell_type": "code",
   "execution_count": 17,
   "id": "f1316b07",
   "metadata": {},
   "outputs": [],
   "source": [
    "dich_full = noteeventsdf[noteeventsdf['CATEGORY']=='Discharge summary']"
   ]
  },
  {
   "cell_type": "code",
   "execution_count": 18,
   "id": "db743fa1",
   "metadata": {},
   "outputs": [
    {
     "data": {
      "text/plain": [
       "59652"
      ]
     },
     "execution_count": 18,
     "metadata": {},
     "output_type": "execute_result"
    }
   ],
   "source": [
    "len(dich_full.index)"
   ]
  },
  {
   "cell_type": "code",
   "execution_count": 19,
   "id": "7bbbbdc0",
   "metadata": {},
   "outputs": [
    {
     "data": {
      "text/plain": [
       "52726"
      ]
     },
     "execution_count": 19,
     "metadata": {},
     "output_type": "execute_result"
    }
   ],
   "source": [
    "len(dich_full['HADM_ID'].unique())"
   ]
  },
  {
   "cell_type": "code",
   "execution_count": 20,
   "id": "ff7a24ae",
   "metadata": {},
   "outputs": [],
   "source": [
    "# dich_full = dich_full[dich_full['HADM_ID'].notna()]"
   ]
  },
  {
   "cell_type": "code",
   "execution_count": 21,
   "id": "ba46409e",
   "metadata": {},
   "outputs": [],
   "source": [
    "dich_full = dich_full.sort_values(['SUBJECT_ID', 'HADM_ID'])"
   ]
  },
  {
   "cell_type": "code",
   "execution_count": 22,
   "id": "ba227f7f",
   "metadata": {},
   "outputs": [
    {
     "data": {
      "text/html": [
       "<div>\n",
       "<style scoped>\n",
       "    .dataframe tbody tr th:only-of-type {\n",
       "        vertical-align: middle;\n",
       "    }\n",
       "\n",
       "    .dataframe tbody tr th {\n",
       "        vertical-align: top;\n",
       "    }\n",
       "\n",
       "    .dataframe thead th {\n",
       "        text-align: right;\n",
       "    }\n",
       "</style>\n",
       "<table border=\"1\" class=\"dataframe\">\n",
       "  <thead>\n",
       "    <tr style=\"text-align: right;\">\n",
       "      <th></th>\n",
       "      <th>ROW_ID</th>\n",
       "      <th>SUBJECT_ID</th>\n",
       "      <th>HADM_ID</th>\n",
       "      <th>CHARTDATE</th>\n",
       "      <th>CHARTTIME</th>\n",
       "      <th>STORETIME</th>\n",
       "      <th>CATEGORY</th>\n",
       "      <th>DESCRIPTION</th>\n",
       "      <th>CGID</th>\n",
       "      <th>ISERROR</th>\n",
       "      <th>TEXT</th>\n",
       "    </tr>\n",
       "  </thead>\n",
       "  <tbody>\n",
       "    <tr>\n",
       "      <th>48470</th>\n",
       "      <td>44005</td>\n",
       "      <td>3</td>\n",
       "      <td>145834.0</td>\n",
       "      <td>2101-10-31</td>\n",
       "      <td>NaN</td>\n",
       "      <td>NaN</td>\n",
       "      <td>Discharge summary</td>\n",
       "      <td>Report</td>\n",
       "      <td>NaN</td>\n",
       "      <td>NaN</td>\n",
       "      <td>Admission Date:  [**2101-10-20**]     Discharg...</td>\n",
       "    </tr>\n",
       "    <tr>\n",
       "      <th>4782</th>\n",
       "      <td>4788</td>\n",
       "      <td>4</td>\n",
       "      <td>185777.0</td>\n",
       "      <td>2191-03-23</td>\n",
       "      <td>NaN</td>\n",
       "      <td>NaN</td>\n",
       "      <td>Discharge summary</td>\n",
       "      <td>Report</td>\n",
       "      <td>NaN</td>\n",
       "      <td>NaN</td>\n",
       "      <td>Admission Date:  [**2191-3-16**]     Discharge...</td>\n",
       "    </tr>\n",
       "    <tr>\n",
       "      <th>24476</th>\n",
       "      <td>20825</td>\n",
       "      <td>6</td>\n",
       "      <td>107064.0</td>\n",
       "      <td>2175-06-15</td>\n",
       "      <td>NaN</td>\n",
       "      <td>NaN</td>\n",
       "      <td>Discharge summary</td>\n",
       "      <td>Report</td>\n",
       "      <td>NaN</td>\n",
       "      <td>NaN</td>\n",
       "      <td>Admission Date: [**2175-5-30**]        Dischar...</td>\n",
       "    </tr>\n",
       "    <tr>\n",
       "      <th>22764</th>\n",
       "      <td>20070</td>\n",
       "      <td>9</td>\n",
       "      <td>150750.0</td>\n",
       "      <td>2149-11-13</td>\n",
       "      <td>NaN</td>\n",
       "      <td>NaN</td>\n",
       "      <td>Discharge summary</td>\n",
       "      <td>Report</td>\n",
       "      <td>NaN</td>\n",
       "      <td>NaN</td>\n",
       "      <td>Admission Date:  [**2149-11-9**]       Dischar...</td>\n",
       "    </tr>\n",
       "    <tr>\n",
       "      <th>57341</th>\n",
       "      <td>57115</td>\n",
       "      <td>9</td>\n",
       "      <td>150750.0</td>\n",
       "      <td>2149-11-14</td>\n",
       "      <td>NaN</td>\n",
       "      <td>NaN</td>\n",
       "      <td>Discharge summary</td>\n",
       "      <td>Addendum</td>\n",
       "      <td>NaN</td>\n",
       "      <td>NaN</td>\n",
       "      <td>Name:  [**Known lastname 10050**], [**Known fi...</td>\n",
       "    </tr>\n",
       "  </tbody>\n",
       "</table>\n",
       "</div>"
      ],
      "text/plain": [
       "       ROW_ID  SUBJECT_ID   HADM_ID   CHARTDATE CHARTTIME STORETIME  \\\n",
       "48470   44005           3  145834.0  2101-10-31       NaN       NaN   \n",
       "4782     4788           4  185777.0  2191-03-23       NaN       NaN   \n",
       "24476   20825           6  107064.0  2175-06-15       NaN       NaN   \n",
       "22764   20070           9  150750.0  2149-11-13       NaN       NaN   \n",
       "57341   57115           9  150750.0  2149-11-14       NaN       NaN   \n",
       "\n",
       "                CATEGORY DESCRIPTION  CGID  ISERROR  \\\n",
       "48470  Discharge summary      Report   NaN      NaN   \n",
       "4782   Discharge summary      Report   NaN      NaN   \n",
       "24476  Discharge summary      Report   NaN      NaN   \n",
       "22764  Discharge summary      Report   NaN      NaN   \n",
       "57341  Discharge summary    Addendum   NaN      NaN   \n",
       "\n",
       "                                                    TEXT  \n",
       "48470  Admission Date:  [**2101-10-20**]     Discharg...  \n",
       "4782   Admission Date:  [**2191-3-16**]     Discharge...  \n",
       "24476  Admission Date: [**2175-5-30**]        Dischar...  \n",
       "22764  Admission Date:  [**2149-11-9**]       Dischar...  \n",
       "57341  Name:  [**Known lastname 10050**], [**Known fi...  "
      ]
     },
     "execution_count": 22,
     "metadata": {},
     "output_type": "execute_result"
    }
   ],
   "source": [
    "dich_full.head()"
   ]
  },
  {
   "cell_type": "code",
   "execution_count": 23,
   "id": "1c347cf9",
   "metadata": {},
   "outputs": [],
   "source": [
    "dich_full.to_csv(data_path + 'disch_full.csv', index=False)"
   ]
  },
  {
   "cell_type": "code",
   "execution_count": 24,
   "id": "26970af0",
   "metadata": {},
   "outputs": [],
   "source": [
    "del noteeventsdf"
   ]
  },
  {
   "cell_type": "code",
   "execution_count": 3,
   "id": "cbc20f56",
   "metadata": {},
   "outputs": [
    {
     "data": {
      "text/html": [
       "<div>\n",
       "<style scoped>\n",
       "    .dataframe tbody tr th:only-of-type {\n",
       "        vertical-align: middle;\n",
       "    }\n",
       "\n",
       "    .dataframe tbody tr th {\n",
       "        vertical-align: top;\n",
       "    }\n",
       "\n",
       "    .dataframe thead th {\n",
       "        text-align: right;\n",
       "    }\n",
       "</style>\n",
       "<table border=\"1\" class=\"dataframe\">\n",
       "  <thead>\n",
       "    <tr style=\"text-align: right;\">\n",
       "      <th></th>\n",
       "      <th>ROW_ID</th>\n",
       "      <th>SUBJECT_ID</th>\n",
       "      <th>HADM_ID</th>\n",
       "      <th>CHARTDATE</th>\n",
       "      <th>CHARTTIME</th>\n",
       "      <th>STORETIME</th>\n",
       "      <th>CATEGORY</th>\n",
       "      <th>DESCRIPTION</th>\n",
       "      <th>CGID</th>\n",
       "      <th>ISERROR</th>\n",
       "      <th>TEXT</th>\n",
       "    </tr>\n",
       "  </thead>\n",
       "  <tbody>\n",
       "    <tr>\n",
       "      <th>0</th>\n",
       "      <td>44005</td>\n",
       "      <td>3</td>\n",
       "      <td>145834.0</td>\n",
       "      <td>2101-10-31</td>\n",
       "      <td>NaN</td>\n",
       "      <td>NaN</td>\n",
       "      <td>Discharge summary</td>\n",
       "      <td>Report</td>\n",
       "      <td>NaN</td>\n",
       "      <td>NaN</td>\n",
       "      <td>Admission Date:  [**2101-10-20**]     Discharg...</td>\n",
       "    </tr>\n",
       "    <tr>\n",
       "      <th>1</th>\n",
       "      <td>4788</td>\n",
       "      <td>4</td>\n",
       "      <td>185777.0</td>\n",
       "      <td>2191-03-23</td>\n",
       "      <td>NaN</td>\n",
       "      <td>NaN</td>\n",
       "      <td>Discharge summary</td>\n",
       "      <td>Report</td>\n",
       "      <td>NaN</td>\n",
       "      <td>NaN</td>\n",
       "      <td>Admission Date:  [**2191-3-16**]     Discharge...</td>\n",
       "    </tr>\n",
       "    <tr>\n",
       "      <th>2</th>\n",
       "      <td>20825</td>\n",
       "      <td>6</td>\n",
       "      <td>107064.0</td>\n",
       "      <td>2175-06-15</td>\n",
       "      <td>NaN</td>\n",
       "      <td>NaN</td>\n",
       "      <td>Discharge summary</td>\n",
       "      <td>Report</td>\n",
       "      <td>NaN</td>\n",
       "      <td>NaN</td>\n",
       "      <td>Admission Date: [**2175-5-30**]        Dischar...</td>\n",
       "    </tr>\n",
       "    <tr>\n",
       "      <th>3</th>\n",
       "      <td>20070</td>\n",
       "      <td>9</td>\n",
       "      <td>150750.0</td>\n",
       "      <td>2149-11-13</td>\n",
       "      <td>NaN</td>\n",
       "      <td>NaN</td>\n",
       "      <td>Discharge summary</td>\n",
       "      <td>Report</td>\n",
       "      <td>NaN</td>\n",
       "      <td>NaN</td>\n",
       "      <td>Admission Date:  [**2149-11-9**]       Dischar...</td>\n",
       "    </tr>\n",
       "    <tr>\n",
       "      <th>4</th>\n",
       "      <td>57115</td>\n",
       "      <td>9</td>\n",
       "      <td>150750.0</td>\n",
       "      <td>2149-11-14</td>\n",
       "      <td>NaN</td>\n",
       "      <td>NaN</td>\n",
       "      <td>Discharge summary</td>\n",
       "      <td>Addendum</td>\n",
       "      <td>NaN</td>\n",
       "      <td>NaN</td>\n",
       "      <td>Name:  [**Known lastname 10050**], [**Known fi...</td>\n",
       "    </tr>\n",
       "  </tbody>\n",
       "</table>\n",
       "</div>"
      ],
      "text/plain": [
       "   ROW_ID  SUBJECT_ID   HADM_ID   CHARTDATE  CHARTTIME  STORETIME  \\\n",
       "0   44005           3  145834.0  2101-10-31        NaN        NaN   \n",
       "1    4788           4  185777.0  2191-03-23        NaN        NaN   \n",
       "2   20825           6  107064.0  2175-06-15        NaN        NaN   \n",
       "3   20070           9  150750.0  2149-11-13        NaN        NaN   \n",
       "4   57115           9  150750.0  2149-11-14        NaN        NaN   \n",
       "\n",
       "            CATEGORY DESCRIPTION  CGID  ISERROR  \\\n",
       "0  Discharge summary      Report   NaN      NaN   \n",
       "1  Discharge summary      Report   NaN      NaN   \n",
       "2  Discharge summary      Report   NaN      NaN   \n",
       "3  Discharge summary      Report   NaN      NaN   \n",
       "4  Discharge summary    Addendum   NaN      NaN   \n",
       "\n",
       "                                                TEXT  \n",
       "0  Admission Date:  [**2101-10-20**]     Discharg...  \n",
       "1  Admission Date:  [**2191-3-16**]     Discharge...  \n",
       "2  Admission Date: [**2175-5-30**]        Dischar...  \n",
       "3  Admission Date:  [**2149-11-9**]       Dischar...  \n",
       "4  Name:  [**Known lastname 10050**], [**Known fi...  "
      ]
     },
     "execution_count": 3,
     "metadata": {},
     "output_type": "execute_result"
    }
   ],
   "source": [
    "dich_full = pd.read_csv(data_path + 'disch_full.csv')\n",
    "dich_full.head()"
   ]
  },
  {
   "cell_type": "markdown",
   "id": "d1de5164",
   "metadata": {},
   "source": [
    "### Sort"
   ]
  },
  {
   "cell_type": "code",
   "execution_count": 26,
   "id": "1cf63b1d",
   "metadata": {},
   "outputs": [],
   "source": [
    "labeldf = pd.read_csv(data_path + 'ALL_CODES.csv',dtype={\"ICD9_CODE\": str})"
   ]
  },
  {
   "cell_type": "code",
   "execution_count": 27,
   "id": "c59a6c23",
   "metadata": {},
   "outputs": [
    {
     "data": {
      "text/plain": [
       "8994"
      ]
     },
     "execution_count": 27,
     "metadata": {},
     "output_type": "execute_result"
    }
   ],
   "source": [
    "len(labeldf['ICD9_CODE'].unique())"
   ]
  },
  {
   "cell_type": "code",
   "execution_count": 28,
   "id": "ff558d04",
   "metadata": {},
   "outputs": [
    {
     "data": {
      "text/html": [
       "<div>\n",
       "<style scoped>\n",
       "    .dataframe tbody tr th:only-of-type {\n",
       "        vertical-align: middle;\n",
       "    }\n",
       "\n",
       "    .dataframe tbody tr th {\n",
       "        vertical-align: top;\n",
       "    }\n",
       "\n",
       "    .dataframe thead th {\n",
       "        text-align: right;\n",
       "    }\n",
       "</style>\n",
       "<table border=\"1\" class=\"dataframe\">\n",
       "  <thead>\n",
       "    <tr style=\"text-align: right;\">\n",
       "      <th></th>\n",
       "      <th>SUBJECT_ID</th>\n",
       "      <th>HADM_ID</th>\n",
       "      <th>SEQ_NUM</th>\n",
       "      <th>ICD9_CODE</th>\n",
       "    </tr>\n",
       "  </thead>\n",
       "  <tbody>\n",
       "    <tr>\n",
       "      <th>608</th>\n",
       "      <td>2</td>\n",
       "      <td>163353</td>\n",
       "      <td>1.0</td>\n",
       "      <td>V30.01</td>\n",
       "    </tr>\n",
       "    <tr>\n",
       "      <th>609</th>\n",
       "      <td>2</td>\n",
       "      <td>163353</td>\n",
       "      <td>2.0</td>\n",
       "      <td>V05.3</td>\n",
       "    </tr>\n",
       "    <tr>\n",
       "      <th>610</th>\n",
       "      <td>2</td>\n",
       "      <td>163353</td>\n",
       "      <td>3.0</td>\n",
       "      <td>V29.0</td>\n",
       "    </tr>\n",
       "    <tr>\n",
       "      <th>746132</th>\n",
       "      <td>2</td>\n",
       "      <td>163353</td>\n",
       "      <td>1.0</td>\n",
       "      <td>99.55</td>\n",
       "    </tr>\n",
       "    <tr>\n",
       "      <th>611</th>\n",
       "      <td>3</td>\n",
       "      <td>145834</td>\n",
       "      <td>1.0</td>\n",
       "      <td>038.9</td>\n",
       "    </tr>\n",
       "  </tbody>\n",
       "</table>\n",
       "</div>"
      ],
      "text/plain": [
       "        SUBJECT_ID  HADM_ID  SEQ_NUM ICD9_CODE\n",
       "608              2   163353      1.0    V30.01\n",
       "609              2   163353      2.0     V05.3\n",
       "610              2   163353      3.0     V29.0\n",
       "746132           2   163353      1.0     99.55\n",
       "611              3   145834      1.0     038.9"
      ]
     },
     "execution_count": 28,
     "metadata": {},
     "output_type": "execute_result"
    }
   ],
   "source": [
    "labeldf = labeldf.drop(['ROW_ID'],axis=1)\n",
    "labeldf = labeldf.sort_values(['SUBJECT_ID', 'HADM_ID'])\n",
    "labeldf.head()"
   ]
  },
  {
   "cell_type": "code",
   "execution_count": 29,
   "id": "39c558f3",
   "metadata": {},
   "outputs": [
    {
     "data": {
      "text/plain": [
       "8994"
      ]
     },
     "execution_count": 29,
     "metadata": {},
     "output_type": "execute_result"
    }
   ],
   "source": [
    "len(labeldf['ICD9_CODE'].unique())"
   ]
  },
  {
   "cell_type": "code",
   "execution_count": 30,
   "id": "1c666453",
   "metadata": {},
   "outputs": [],
   "source": [
    "labeldf.to_csv(data_path + 'ALL_CODES.csv', index=False)"
   ]
  },
  {
   "cell_type": "code",
   "execution_count": 31,
   "id": "d5970ca9",
   "metadata": {},
   "outputs": [
    {
     "data": {
      "text/plain": [
       "58976"
      ]
     },
     "execution_count": 31,
     "metadata": {},
     "output_type": "execute_result"
    }
   ],
   "source": [
    "len(labeldf['HADM_ID'].unique())"
   ]
  },
  {
   "cell_type": "markdown",
   "id": "79097271",
   "metadata": {},
   "source": [
    "### Filter"
   ]
  },
  {
   "cell_type": "code",
   "execution_count": 4,
   "id": "3715dfb4",
   "metadata": {},
   "outputs": [
    {
     "data": {
      "text/html": [
       "<div>\n",
       "<style scoped>\n",
       "    .dataframe tbody tr th:only-of-type {\n",
       "        vertical-align: middle;\n",
       "    }\n",
       "\n",
       "    .dataframe tbody tr th {\n",
       "        vertical-align: top;\n",
       "    }\n",
       "\n",
       "    .dataframe thead th {\n",
       "        text-align: right;\n",
       "    }\n",
       "</style>\n",
       "<table border=\"1\" class=\"dataframe\">\n",
       "  <thead>\n",
       "    <tr style=\"text-align: right;\">\n",
       "      <th></th>\n",
       "      <th>SUBJECT_ID</th>\n",
       "      <th>HADM_ID</th>\n",
       "      <th>SEQ_NUM</th>\n",
       "      <th>ICD9_CODE</th>\n",
       "    </tr>\n",
       "  </thead>\n",
       "  <tbody>\n",
       "    <tr>\n",
       "      <th>0</th>\n",
       "      <td>2</td>\n",
       "      <td>163353</td>\n",
       "      <td>1.0</td>\n",
       "      <td>V30.01</td>\n",
       "    </tr>\n",
       "    <tr>\n",
       "      <th>1</th>\n",
       "      <td>2</td>\n",
       "      <td>163353</td>\n",
       "      <td>2.0</td>\n",
       "      <td>V05.3</td>\n",
       "    </tr>\n",
       "    <tr>\n",
       "      <th>2</th>\n",
       "      <td>2</td>\n",
       "      <td>163353</td>\n",
       "      <td>3.0</td>\n",
       "      <td>V29.0</td>\n",
       "    </tr>\n",
       "    <tr>\n",
       "      <th>3</th>\n",
       "      <td>2</td>\n",
       "      <td>163353</td>\n",
       "      <td>1.0</td>\n",
       "      <td>99.55</td>\n",
       "    </tr>\n",
       "    <tr>\n",
       "      <th>4</th>\n",
       "      <td>3</td>\n",
       "      <td>145834</td>\n",
       "      <td>1.0</td>\n",
       "      <td>038.9</td>\n",
       "    </tr>\n",
       "  </tbody>\n",
       "</table>\n",
       "</div>"
      ],
      "text/plain": [
       "   SUBJECT_ID  HADM_ID  SEQ_NUM ICD9_CODE\n",
       "0           2   163353      1.0    V30.01\n",
       "1           2   163353      2.0     V05.3\n",
       "2           2   163353      3.0     V29.0\n",
       "3           2   163353      1.0     99.55\n",
       "4           3   145834      1.0     038.9"
      ]
     },
     "execution_count": 4,
     "metadata": {},
     "output_type": "execute_result"
    }
   ],
   "source": [
    "labeldf = pd.read_csv(data_path + 'ALL_CODES.csv')\n",
    "labeldf.head()"
   ]
  },
  {
   "cell_type": "code",
   "execution_count": 5,
   "id": "70a98f4f",
   "metadata": {},
   "outputs": [
    {
     "data": {
      "text/plain": [
       "8994"
      ]
     },
     "execution_count": 5,
     "metadata": {},
     "output_type": "execute_result"
    }
   ],
   "source": [
    "len(labeldf['ICD9_CODE'].unique())"
   ]
  },
  {
   "cell_type": "code",
   "execution_count": 6,
   "id": "642d5831",
   "metadata": {},
   "outputs": [
    {
     "data": {
      "text/plain": [
       "(52726, 58976)"
      ]
     },
     "execution_count": 6,
     "metadata": {},
     "output_type": "execute_result"
    }
   ],
   "source": [
    "len(dich_full['HADM_ID'].unique()), len(labeldf['HADM_ID'].unique())"
   ]
  },
  {
   "cell_type": "code",
   "execution_count": 7,
   "id": "d15b1f71",
   "metadata": {},
   "outputs": [],
   "source": [
    "admission_ids = list(dich_full['HADM_ID'].unique()) \n",
    "labeldf = labeldf.loc[labeldf['HADM_ID'].isin(admission_ids)]"
   ]
  },
  {
   "cell_type": "code",
   "execution_count": 8,
   "id": "13c1f220",
   "metadata": {},
   "outputs": [
    {
     "data": {
      "text/plain": [
       "8908"
      ]
     },
     "execution_count": 8,
     "metadata": {},
     "output_type": "execute_result"
    }
   ],
   "source": [
    "len(labeldf['ICD9_CODE'].unique())"
   ]
  },
  {
   "cell_type": "code",
   "execution_count": 18,
   "id": "ad6f9c15",
   "metadata": {},
   "outputs": [],
   "source": [
    "labeldf = labeldf[labeldf['ICD9_CODE'].notna()]"
   ]
  },
  {
   "cell_type": "code",
   "execution_count": 19,
   "id": "082d0ba3",
   "metadata": {},
   "outputs": [],
   "source": [
    "labeldf.to_csv(data_path + 'ALL_CODES_filtered.csv', index=False)"
   ]
  },
  {
   "cell_type": "code",
   "execution_count": 20,
   "id": "faf9c1d5",
   "metadata": {},
   "outputs": [
    {
     "data": {
      "text/plain": [
       "52722"
      ]
     },
     "execution_count": 20,
     "metadata": {},
     "output_type": "execute_result"
    }
   ],
   "source": [
    "labeldf = pd.read_csv(data_path + 'ALL_CODES_filtered.csv')\n",
    "len(labeldf['HADM_ID'].unique())"
   ]
  },
  {
   "cell_type": "code",
   "execution_count": 21,
   "id": "2b1836b2",
   "metadata": {},
   "outputs": [
    {
     "data": {
      "text/plain": [
       "8907"
      ]
     },
     "execution_count": 21,
     "metadata": {},
     "output_type": "execute_result"
    }
   ],
   "source": [
    "len(labeldf['ICD9_CODE'].unique())"
   ]
  },
  {
   "cell_type": "code",
   "execution_count": 22,
   "id": "bfec4a29",
   "metadata": {},
   "outputs": [
    {
     "data": {
      "text/html": [
       "<div>\n",
       "<style scoped>\n",
       "    .dataframe tbody tr th:only-of-type {\n",
       "        vertical-align: middle;\n",
       "    }\n",
       "\n",
       "    .dataframe tbody tr th {\n",
       "        vertical-align: top;\n",
       "    }\n",
       "\n",
       "    .dataframe thead th {\n",
       "        text-align: right;\n",
       "    }\n",
       "</style>\n",
       "<table border=\"1\" class=\"dataframe\">\n",
       "  <thead>\n",
       "    <tr style=\"text-align: right;\">\n",
       "      <th></th>\n",
       "      <th>SUBJECT_ID</th>\n",
       "      <th>HADM_ID</th>\n",
       "      <th>ICD9_CODE</th>\n",
       "    </tr>\n",
       "  </thead>\n",
       "  <tbody>\n",
       "    <tr>\n",
       "      <th>0</th>\n",
       "      <td>3</td>\n",
       "      <td>145834</td>\n",
       "      <td>038.9</td>\n",
       "    </tr>\n",
       "    <tr>\n",
       "      <th>1</th>\n",
       "      <td>3</td>\n",
       "      <td>145834</td>\n",
       "      <td>785.59</td>\n",
       "    </tr>\n",
       "    <tr>\n",
       "      <th>2</th>\n",
       "      <td>3</td>\n",
       "      <td>145834</td>\n",
       "      <td>584.9</td>\n",
       "    </tr>\n",
       "    <tr>\n",
       "      <th>3</th>\n",
       "      <td>3</td>\n",
       "      <td>145834</td>\n",
       "      <td>427.5</td>\n",
       "    </tr>\n",
       "    <tr>\n",
       "      <th>4</th>\n",
       "      <td>3</td>\n",
       "      <td>145834</td>\n",
       "      <td>410.71</td>\n",
       "    </tr>\n",
       "  </tbody>\n",
       "</table>\n",
       "</div>"
      ],
      "text/plain": [
       "   SUBJECT_ID  HADM_ID ICD9_CODE\n",
       "0           3   145834     038.9\n",
       "1           3   145834    785.59\n",
       "2           3   145834     584.9\n",
       "3           3   145834     427.5\n",
       "4           3   145834    410.71"
      ]
     },
     "execution_count": 22,
     "metadata": {},
     "output_type": "execute_result"
    }
   ],
   "source": [
    "labeldf.head()"
   ]
  },
  {
   "cell_type": "code",
   "execution_count": 23,
   "id": "1348cb0a",
   "metadata": {},
   "outputs": [],
   "source": [
    "dich_full = pd.read_csv(data_path + 'disch_full.csv')\n",
    "admission_ids = list(labeldf['HADM_ID'].unique()) \n",
    "dich_full = dich_full.loc[dich_full['HADM_ID'].isin(admission_ids)]"
   ]
  },
  {
   "cell_type": "code",
   "execution_count": 24,
   "id": "f7918ccc",
   "metadata": {},
   "outputs": [],
   "source": [
    "dich_full.to_csv(data_path + 'disch_full.csv', index=False)"
   ]
  },
  {
   "cell_type": "code",
   "execution_count": 25,
   "id": "2e4d504b",
   "metadata": {},
   "outputs": [
    {
     "data": {
      "text/plain": [
       "52722"
      ]
     },
     "execution_count": 25,
     "metadata": {},
     "output_type": "execute_result"
    }
   ],
   "source": [
    "dich_full = pd.read_csv(data_path + 'disch_full.csv')\n",
    "len(dich_full['HADM_ID'].unique())"
   ]
  },
  {
   "cell_type": "markdown",
   "id": "6dae4344",
   "metadata": {},
   "source": [
    "### concatenate"
   ]
  },
  {
   "cell_type": "code",
   "execution_count": 26,
   "id": "945285be",
   "metadata": {},
   "outputs": [],
   "source": [
    "labeldf = pd.read_csv(data_path + 'ALL_CODES_filtered.csv',dtype={\"ICD9_CODE\": str})"
   ]
  },
  {
   "cell_type": "code",
   "execution_count": 28,
   "id": "e9703008",
   "metadata": {},
   "outputs": [],
   "source": [
    "# labeldf = labeldf.drop(['SEQ_NUM'], axis=1)"
   ]
  },
  {
   "cell_type": "code",
   "execution_count": 29,
   "id": "e313ced3",
   "metadata": {},
   "outputs": [
    {
     "data": {
      "text/html": [
       "<div>\n",
       "<style scoped>\n",
       "    .dataframe tbody tr th:only-of-type {\n",
       "        vertical-align: middle;\n",
       "    }\n",
       "\n",
       "    .dataframe tbody tr th {\n",
       "        vertical-align: top;\n",
       "    }\n",
       "\n",
       "    .dataframe thead th {\n",
       "        text-align: right;\n",
       "    }\n",
       "</style>\n",
       "<table border=\"1\" class=\"dataframe\">\n",
       "  <thead>\n",
       "    <tr style=\"text-align: right;\">\n",
       "      <th></th>\n",
       "      <th>SUBJECT_ID</th>\n",
       "      <th>HADM_ID</th>\n",
       "      <th>ICD9_CODE</th>\n",
       "    </tr>\n",
       "  </thead>\n",
       "  <tbody>\n",
       "    <tr>\n",
       "      <th>0</th>\n",
       "      <td>3</td>\n",
       "      <td>145834</td>\n",
       "      <td>038.9</td>\n",
       "    </tr>\n",
       "    <tr>\n",
       "      <th>1</th>\n",
       "      <td>3</td>\n",
       "      <td>145834</td>\n",
       "      <td>785.59</td>\n",
       "    </tr>\n",
       "    <tr>\n",
       "      <th>2</th>\n",
       "      <td>3</td>\n",
       "      <td>145834</td>\n",
       "      <td>584.9</td>\n",
       "    </tr>\n",
       "    <tr>\n",
       "      <th>3</th>\n",
       "      <td>3</td>\n",
       "      <td>145834</td>\n",
       "      <td>427.5</td>\n",
       "    </tr>\n",
       "    <tr>\n",
       "      <th>4</th>\n",
       "      <td>3</td>\n",
       "      <td>145834</td>\n",
       "      <td>410.71</td>\n",
       "    </tr>\n",
       "  </tbody>\n",
       "</table>\n",
       "</div>"
      ],
      "text/plain": [
       "   SUBJECT_ID  HADM_ID ICD9_CODE\n",
       "0           3   145834     038.9\n",
       "1           3   145834    785.59\n",
       "2           3   145834     584.9\n",
       "3           3   145834     427.5\n",
       "4           3   145834    410.71"
      ]
     },
     "execution_count": 29,
     "metadata": {},
     "output_type": "execute_result"
    }
   ],
   "source": [
    "labeldf.head()"
   ]
  },
  {
   "cell_type": "code",
   "execution_count": 30,
   "id": "f6a150b9",
   "metadata": {},
   "outputs": [],
   "source": [
    "labeldf=labeldf.groupby(['SUBJECT_ID','HADM_ID']).aggregate([('ICD9_CODE',' '.join)])"
   ]
  },
  {
   "cell_type": "code",
   "execution_count": 32,
   "id": "f67615a6",
   "metadata": {},
   "outputs": [],
   "source": [
    "labeldf = labeldf.droplevel(axis=1, level=1).reset_index()"
   ]
  },
  {
   "cell_type": "code",
   "execution_count": 35,
   "id": "a1e58180",
   "metadata": {},
   "outputs": [
    {
     "data": {
      "text/html": [
       "<div>\n",
       "<style scoped>\n",
       "    .dataframe tbody tr th:only-of-type {\n",
       "        vertical-align: middle;\n",
       "    }\n",
       "\n",
       "    .dataframe tbody tr th {\n",
       "        vertical-align: top;\n",
       "    }\n",
       "\n",
       "    .dataframe thead th {\n",
       "        text-align: right;\n",
       "    }\n",
       "</style>\n",
       "<table border=\"1\" class=\"dataframe\">\n",
       "  <thead>\n",
       "    <tr style=\"text-align: right;\">\n",
       "      <th></th>\n",
       "      <th>SUBJECT_ID</th>\n",
       "      <th>HADM_ID</th>\n",
       "      <th>ICD9_CODE</th>\n",
       "    </tr>\n",
       "  </thead>\n",
       "  <tbody>\n",
       "    <tr>\n",
       "      <th>0</th>\n",
       "      <td>3</td>\n",
       "      <td>145834</td>\n",
       "      <td>038.9 785.59 584.9 427.5 410.71 428.0 682.6 42...</td>\n",
       "    </tr>\n",
       "    <tr>\n",
       "      <th>1</th>\n",
       "      <td>4</td>\n",
       "      <td>185777</td>\n",
       "      <td>042 136.3 799.4 276.3 790.7 571.5 041.11 V09.0...</td>\n",
       "    </tr>\n",
       "    <tr>\n",
       "      <th>2</th>\n",
       "      <td>6</td>\n",
       "      <td>107064</td>\n",
       "      <td>403.91 444.0 997.2 276.6 276.7 285.9 275.3 V15...</td>\n",
       "    </tr>\n",
       "    <tr>\n",
       "      <th>3</th>\n",
       "      <td>9</td>\n",
       "      <td>150750</td>\n",
       "      <td>431 507.0 428.0 584.9 276.5 401.9 96.72 96.04</td>\n",
       "    </tr>\n",
       "    <tr>\n",
       "      <th>4</th>\n",
       "      <td>10</td>\n",
       "      <td>184167</td>\n",
       "      <td>V30.00 774.2 765.25 765.15 V29.0 99.83 99.15 96.6</td>\n",
       "    </tr>\n",
       "  </tbody>\n",
       "</table>\n",
       "</div>"
      ],
      "text/plain": [
       "   SUBJECT_ID  HADM_ID                                          ICD9_CODE\n",
       "0           3   145834  038.9 785.59 584.9 427.5 410.71 428.0 682.6 42...\n",
       "1           4   185777  042 136.3 799.4 276.3 790.7 571.5 041.11 V09.0...\n",
       "2           6   107064  403.91 444.0 997.2 276.6 276.7 285.9 275.3 V15...\n",
       "3           9   150750      431 507.0 428.0 584.9 276.5 401.9 96.72 96.04\n",
       "4          10   184167  V30.00 774.2 765.25 765.15 V29.0 99.83 99.15 96.6"
      ]
     },
     "execution_count": 35,
     "metadata": {},
     "output_type": "execute_result"
    }
   ],
   "source": [
    "labeldf.head()"
   ]
  },
  {
   "cell_type": "code",
   "execution_count": 36,
   "id": "0e3ec1da",
   "metadata": {},
   "outputs": [],
   "source": [
    "dich_full = pd.read_csv(data_path + 'disch_full.csv')"
   ]
  },
  {
   "cell_type": "code",
   "execution_count": 37,
   "id": "8c8a9e4c",
   "metadata": {},
   "outputs": [
    {
     "name": "stderr",
     "output_type": "stream",
     "text": [
      "/tmp/ipykernel_2718364/1083673685.py:1: FutureWarning: ['ROW_ID', 'CHARTTIME', 'STORETIME', 'CGID', 'ISERROR'] did not aggregate successfully. If any error is raised this will raise in a future version of pandas. Drop these columns/ops to avoid this warning.\n",
      "  dich_full=dich_full.groupby(['SUBJECT_ID','HADM_ID']).aggregate([('TEXT',' '.join)])\n"
     ]
    }
   ],
   "source": [
    "dich_full=dich_full.groupby(['SUBJECT_ID','HADM_ID']).aggregate([('TEXT',' '.join)])"
   ]
  },
  {
   "cell_type": "code",
   "execution_count": 38,
   "id": "76ffb9fc",
   "metadata": {},
   "outputs": [],
   "source": [
    "dich_full = dich_full.droplevel(axis=1, level=1).reset_index()\n",
    "dich_full = dich_full.drop(['CHARTDATE','CATEGORY','DESCRIPTION'],axis=1)"
   ]
  },
  {
   "cell_type": "code",
   "execution_count": 39,
   "id": "1093d135",
   "metadata": {},
   "outputs": [
    {
     "data": {
      "text/html": [
       "<div>\n",
       "<style scoped>\n",
       "    .dataframe tbody tr th:only-of-type {\n",
       "        vertical-align: middle;\n",
       "    }\n",
       "\n",
       "    .dataframe tbody tr th {\n",
       "        vertical-align: top;\n",
       "    }\n",
       "\n",
       "    .dataframe thead th {\n",
       "        text-align: right;\n",
       "    }\n",
       "</style>\n",
       "<table border=\"1\" class=\"dataframe\">\n",
       "  <thead>\n",
       "    <tr style=\"text-align: right;\">\n",
       "      <th></th>\n",
       "      <th>SUBJECT_ID</th>\n",
       "      <th>HADM_ID</th>\n",
       "      <th>TEXT</th>\n",
       "    </tr>\n",
       "  </thead>\n",
       "  <tbody>\n",
       "    <tr>\n",
       "      <th>0</th>\n",
       "      <td>3</td>\n",
       "      <td>145834.0</td>\n",
       "      <td>Admission Date:  [**2101-10-20**]     Discharg...</td>\n",
       "    </tr>\n",
       "    <tr>\n",
       "      <th>1</th>\n",
       "      <td>4</td>\n",
       "      <td>185777.0</td>\n",
       "      <td>Admission Date:  [**2191-3-16**]     Discharge...</td>\n",
       "    </tr>\n",
       "    <tr>\n",
       "      <th>2</th>\n",
       "      <td>6</td>\n",
       "      <td>107064.0</td>\n",
       "      <td>Admission Date: [**2175-5-30**]        Dischar...</td>\n",
       "    </tr>\n",
       "    <tr>\n",
       "      <th>3</th>\n",
       "      <td>9</td>\n",
       "      <td>150750.0</td>\n",
       "      <td>Admission Date:  [**2149-11-9**]       Dischar...</td>\n",
       "    </tr>\n",
       "    <tr>\n",
       "      <th>4</th>\n",
       "      <td>10</td>\n",
       "      <td>184167.0</td>\n",
       "      <td>Admission Date:  [**2103-6-28**]       Dischar...</td>\n",
       "    </tr>\n",
       "  </tbody>\n",
       "</table>\n",
       "</div>"
      ],
      "text/plain": [
       "   SUBJECT_ID   HADM_ID                                               TEXT\n",
       "0           3  145834.0  Admission Date:  [**2101-10-20**]     Discharg...\n",
       "1           4  185777.0  Admission Date:  [**2191-3-16**]     Discharge...\n",
       "2           6  107064.0  Admission Date: [**2175-5-30**]        Dischar...\n",
       "3           9  150750.0  Admission Date:  [**2149-11-9**]       Dischar...\n",
       "4          10  184167.0  Admission Date:  [**2103-6-28**]       Dischar..."
      ]
     },
     "execution_count": 39,
     "metadata": {},
     "output_type": "execute_result"
    }
   ],
   "source": [
    "dich_full.head()"
   ]
  },
  {
   "cell_type": "code",
   "execution_count": 40,
   "id": "ec5a2f97",
   "metadata": {},
   "outputs": [
    {
     "data": {
      "text/plain": [
       "52722"
      ]
     },
     "execution_count": 40,
     "metadata": {},
     "output_type": "execute_result"
    }
   ],
   "source": [
    "len(dich_full.index)"
   ]
  },
  {
   "cell_type": "code",
   "execution_count": 41,
   "id": "351a7036",
   "metadata": {},
   "outputs": [],
   "source": [
    "notes_labeled_full = pd.merge(labeldf,dich_full,on=['HADM_ID','SUBJECT_ID'],how='inner')"
   ]
  },
  {
   "cell_type": "code",
   "execution_count": 43,
   "id": "ded32315",
   "metadata": {},
   "outputs": [],
   "source": [
    "notes_labeled_full = notes_labeled_full.loc[:,['SUBJECT_ID','HADM_ID','TEXT','ICD9_CODE']]"
   ]
  },
  {
   "cell_type": "code",
   "execution_count": 44,
   "id": "c7cc368c",
   "metadata": {},
   "outputs": [
    {
     "data": {
      "text/html": [
       "<div>\n",
       "<style scoped>\n",
       "    .dataframe tbody tr th:only-of-type {\n",
       "        vertical-align: middle;\n",
       "    }\n",
       "\n",
       "    .dataframe tbody tr th {\n",
       "        vertical-align: top;\n",
       "    }\n",
       "\n",
       "    .dataframe thead th {\n",
       "        text-align: right;\n",
       "    }\n",
       "</style>\n",
       "<table border=\"1\" class=\"dataframe\">\n",
       "  <thead>\n",
       "    <tr style=\"text-align: right;\">\n",
       "      <th></th>\n",
       "      <th>SUBJECT_ID</th>\n",
       "      <th>HADM_ID</th>\n",
       "      <th>TEXT</th>\n",
       "      <th>ICD9_CODE</th>\n",
       "    </tr>\n",
       "  </thead>\n",
       "  <tbody>\n",
       "    <tr>\n",
       "      <th>0</th>\n",
       "      <td>3</td>\n",
       "      <td>145834</td>\n",
       "      <td>Admission Date:  [**2101-10-20**]     Discharg...</td>\n",
       "      <td>038.9 785.59 584.9 427.5 410.71 428.0 682.6 42...</td>\n",
       "    </tr>\n",
       "    <tr>\n",
       "      <th>1</th>\n",
       "      <td>4</td>\n",
       "      <td>185777</td>\n",
       "      <td>Admission Date:  [**2191-3-16**]     Discharge...</td>\n",
       "      <td>042 136.3 799.4 276.3 790.7 571.5 041.11 V09.0...</td>\n",
       "    </tr>\n",
       "    <tr>\n",
       "      <th>2</th>\n",
       "      <td>6</td>\n",
       "      <td>107064</td>\n",
       "      <td>Admission Date: [**2175-5-30**]        Dischar...</td>\n",
       "      <td>403.91 444.0 997.2 276.6 276.7 285.9 275.3 V15...</td>\n",
       "    </tr>\n",
       "    <tr>\n",
       "      <th>3</th>\n",
       "      <td>9</td>\n",
       "      <td>150750</td>\n",
       "      <td>Admission Date:  [**2149-11-9**]       Dischar...</td>\n",
       "      <td>431 507.0 428.0 584.9 276.5 401.9 96.72 96.04</td>\n",
       "    </tr>\n",
       "    <tr>\n",
       "      <th>4</th>\n",
       "      <td>10</td>\n",
       "      <td>184167</td>\n",
       "      <td>Admission Date:  [**2103-6-28**]       Dischar...</td>\n",
       "      <td>V30.00 774.2 765.25 765.15 V29.0 99.83 99.15 96.6</td>\n",
       "    </tr>\n",
       "  </tbody>\n",
       "</table>\n",
       "</div>"
      ],
      "text/plain": [
       "   SUBJECT_ID  HADM_ID                                               TEXT  \\\n",
       "0           3   145834  Admission Date:  [**2101-10-20**]     Discharg...   \n",
       "1           4   185777  Admission Date:  [**2191-3-16**]     Discharge...   \n",
       "2           6   107064  Admission Date: [**2175-5-30**]        Dischar...   \n",
       "3           9   150750  Admission Date:  [**2149-11-9**]       Dischar...   \n",
       "4          10   184167  Admission Date:  [**2103-6-28**]       Dischar...   \n",
       "\n",
       "                                           ICD9_CODE  \n",
       "0  038.9 785.59 584.9 427.5 410.71 428.0 682.6 42...  \n",
       "1  042 136.3 799.4 276.3 790.7 571.5 041.11 V09.0...  \n",
       "2  403.91 444.0 997.2 276.6 276.7 285.9 275.3 V15...  \n",
       "3      431 507.0 428.0 584.9 276.5 401.9 96.72 96.04  \n",
       "4  V30.00 774.2 765.25 765.15 V29.0 99.83 99.15 96.6  "
      ]
     },
     "execution_count": 44,
     "metadata": {},
     "output_type": "execute_result"
    }
   ],
   "source": [
    "notes_labeled_full.head()"
   ]
  },
  {
   "cell_type": "code",
   "execution_count": 45,
   "id": "e413739e",
   "metadata": {},
   "outputs": [
    {
     "data": {
      "text/plain": [
       "52722"
      ]
     },
     "execution_count": 45,
     "metadata": {},
     "output_type": "execute_result"
    }
   ],
   "source": [
    "len(notes_labeled_full.index)"
   ]
  },
  {
   "cell_type": "code",
   "execution_count": 46,
   "id": "1778f8e4",
   "metadata": {},
   "outputs": [],
   "source": [
    "notes_labeled_full.to_csv(data_path + 'notes_labeled.csv', index=False)"
   ]
  },
  {
   "cell_type": "code",
   "execution_count": 47,
   "id": "88ec3b4a",
   "metadata": {},
   "outputs": [],
   "source": [
    "del dich_full\n",
    "del notes_labeled_full"
   ]
  },
  {
   "cell_type": "markdown",
   "id": "a6ace35d",
   "metadata": {},
   "source": [
    "### Preprocess Text"
   ]
  },
  {
   "cell_type": "code",
   "execution_count": 48,
   "id": "a816155f",
   "metadata": {},
   "outputs": [],
   "source": [
    "df  = pd.read_csv(data_path + 'notes_labeled.csv')"
   ]
  },
  {
   "cell_type": "code",
   "execution_count": 49,
   "id": "420c475f",
   "metadata": {},
   "outputs": [
    {
     "data": {
      "text/html": [
       "<div>\n",
       "<style scoped>\n",
       "    .dataframe tbody tr th:only-of-type {\n",
       "        vertical-align: middle;\n",
       "    }\n",
       "\n",
       "    .dataframe tbody tr th {\n",
       "        vertical-align: top;\n",
       "    }\n",
       "\n",
       "    .dataframe thead th {\n",
       "        text-align: right;\n",
       "    }\n",
       "</style>\n",
       "<table border=\"1\" class=\"dataframe\">\n",
       "  <thead>\n",
       "    <tr style=\"text-align: right;\">\n",
       "      <th></th>\n",
       "      <th>SUBJECT_ID</th>\n",
       "      <th>HADM_ID</th>\n",
       "      <th>TEXT</th>\n",
       "      <th>ICD9_CODE</th>\n",
       "    </tr>\n",
       "  </thead>\n",
       "  <tbody>\n",
       "    <tr>\n",
       "      <th>0</th>\n",
       "      <td>3</td>\n",
       "      <td>145834</td>\n",
       "      <td>Admission Date:  [**2101-10-20**]     Discharg...</td>\n",
       "      <td>038.9 785.59 584.9 427.5 410.71 428.0 682.6 42...</td>\n",
       "    </tr>\n",
       "    <tr>\n",
       "      <th>1</th>\n",
       "      <td>4</td>\n",
       "      <td>185777</td>\n",
       "      <td>Admission Date:  [**2191-3-16**]     Discharge...</td>\n",
       "      <td>042 136.3 799.4 276.3 790.7 571.5 041.11 V09.0...</td>\n",
       "    </tr>\n",
       "    <tr>\n",
       "      <th>2</th>\n",
       "      <td>6</td>\n",
       "      <td>107064</td>\n",
       "      <td>Admission Date: [**2175-5-30**]        Dischar...</td>\n",
       "      <td>403.91 444.0 997.2 276.6 276.7 285.9 275.3 V15...</td>\n",
       "    </tr>\n",
       "    <tr>\n",
       "      <th>3</th>\n",
       "      <td>9</td>\n",
       "      <td>150750</td>\n",
       "      <td>Admission Date:  [**2149-11-9**]       Dischar...</td>\n",
       "      <td>431 507.0 428.0 584.9 276.5 401.9 96.72 96.04</td>\n",
       "    </tr>\n",
       "    <tr>\n",
       "      <th>4</th>\n",
       "      <td>10</td>\n",
       "      <td>184167</td>\n",
       "      <td>Admission Date:  [**2103-6-28**]       Dischar...</td>\n",
       "      <td>V30.00 774.2 765.25 765.15 V29.0 99.83 99.15 96.6</td>\n",
       "    </tr>\n",
       "  </tbody>\n",
       "</table>\n",
       "</div>"
      ],
      "text/plain": [
       "   SUBJECT_ID  HADM_ID                                               TEXT  \\\n",
       "0           3   145834  Admission Date:  [**2101-10-20**]     Discharg...   \n",
       "1           4   185777  Admission Date:  [**2191-3-16**]     Discharge...   \n",
       "2           6   107064  Admission Date: [**2175-5-30**]        Dischar...   \n",
       "3           9   150750  Admission Date:  [**2149-11-9**]       Dischar...   \n",
       "4          10   184167  Admission Date:  [**2103-6-28**]       Dischar...   \n",
       "\n",
       "                                           ICD9_CODE  \n",
       "0  038.9 785.59 584.9 427.5 410.71 428.0 682.6 42...  \n",
       "1  042 136.3 799.4 276.3 790.7 571.5 041.11 V09.0...  \n",
       "2  403.91 444.0 997.2 276.6 276.7 285.9 275.3 V15...  \n",
       "3      431 507.0 428.0 584.9 276.5 401.9 96.72 96.04  \n",
       "4  V30.00 774.2 765.25 765.15 V29.0 99.83 99.15 96.6  "
      ]
     },
     "execution_count": 49,
     "metadata": {},
     "output_type": "execute_result"
    }
   ],
   "source": [
    "df.head()"
   ]
  },
  {
   "cell_type": "code",
   "execution_count": 50,
   "id": "3d4cc989",
   "metadata": {},
   "outputs": [
    {
     "data": {
      "text/plain": [
       "\"Admission Date:  [**2101-10-20**]     Discharge Date:  [**2101-10-31**]\\n\\nDate of Birth:   [**2025-4-11**]     Sex:  M\\n\\nService:  Medicine\\n\\nCHIEF COMPLAINT:  Admitted from rehabilitation for\\nhypotension (systolic blood pressure to the 70s) and\\ndecreased urine output.\\n\\nHISTORY OF PRESENT ILLNESS:  The patient is a 76-year-old\\nmale who had been hospitalized at the [**Hospital1 190**] from [**10-11**] through [**10-19**] of [**2101**]\\nafter undergoing a left femoral-AT bypass graft and was\\nsubsequently discharged to a rehabilitation facility.\\n\\nOn [**2101-10-20**], he presented again to the [**Hospital1 346**] after being found to have a systolic\\nblood pressure in the 70s and no urine output for 17 hours.\\nA Foley catheter placed at the rehabilitation facility\\nyielded 100 cc of murky/brown urine.  There may also have\\nbeen purulent discharge at the penile meatus at this time.\\n\\nOn presentation to the Emergency Department, the patient was\\nwithout subjective complaints.  In the Emergency Department,\\nhe was found to have systolic blood pressure of 85.  He was\\ngiven 6 liters of intravenous fluids and transiently started\\non dopamine for a systolic blood pressure in the 80.s\\n\\nPAST MEDICAL HISTORY:\\n 1.  Coronary artery disease with diffuse 3-vessel disease;\\nright-dominant, status post proximal left circumflex stent in\\n[**2101-7-9**] with occlusion of the distal left circumflex;\\nstatus post right coronary artery stent on [**2101-8-26**] (no\\npercutaneous coronary intervention to 99% diagonal left\\ncircumflex, 80% small proximal left anterior descending\\nartery, or 80% small distal left anterior descending artery).\\n 2.  Congestive heart failure (with an ejection fraction\\nof 15% to 20%).\\n 3.  Type 2 diabetes with neuropathy.\\n 4.  Hypertension.\\n 5.  Diverticulosis (found on colonoscopy in [**2101-7-9**]).\\n 6.  Alzheimer's dementia.\\n 7.  History of gastrointestinal bleed (while the patient was\\ntaking eptifibatide).\\n 8.  Cardiac risk factors (with a baseline creatinine\\nof 1.4 to 1.6).\\n 9.  Hypercholesterolemia.\\n10.  History of methicillin-resistant Staphylococcus aureus\\nand Pseudomonas growth in wound cultures.\\n11.  Severe peripheral vascular disease; status post left\\nfemoral-AT bypass graft on [**2101-10-11**].\\n12.  Chronic nonhealing foot ulcers.\\n13.  Recent right pedal cellulitis.\\n\\nALLERGIES:  The patient has no known drug allergies.\\n\\nMEDICATIONS ON ADMISSION:\\n 1.  Vancomycin 1 g intravenously q.24h. for a level of less\\nthan 15 (started on [**2101-10-4**]).\\n 2.  Levofloxacin 250 mg p.o. q.d. (started on [**2101-10-4**]).\\n 3.  Metronidazole 500 mg p.o. q.8h. (started on [**2101-10-4**]).\\n 4.  Heparin 5000 units subcutaneous b.i.d.\\n 5.  Simvastatin 40 mg p.o. q.d.\\n 6.  Lisinopril 5 mg p.o. q.d.\\n 7.  Furosemide 40 mg p.o. q.d.\\n 8.  Vitamin E 400 IU p.o. q.d.\\n 9.  Atenolol 25 mg p.o. q.d.\\n10.  Pantoprazole 40 mg p.o. q.d.\\n11.  Ascorbic acid 500 mg p.o. b.i.d.\\n12.  NPH 17 units b.i.d.\\n13.  Regular insulin sliding-scale.\\n14.  Bisacodyl 10 mg p.o./p.r. as needed.\\n15.  Docusate 100 mg p.o. b.i.d.\\n16.  Percocet 5/325 mg one tablet p.o. q.4-6h. as needed for\\npain.\\n17.  Aspirin 81 mg p.o. q.d.\\n18.  Metoprolol 75 mg p.o. b.i.d.\\n\\nSOCIAL HISTORY:  The patient is retired and had been living\\nat home with his wife prior to his admission to the hospital\\non [**2101-10-11**]; he had been living at [**Hospital3 1761**] for the day prior to admission.  He is a\\nsocial drinker and has a 40-pack-year smoking history;\\nalthough, he quit smoking 20 years ago.\\n\\nPHYSICAL EXAMINATION ON PRESENTATION:   Initial physical\\nexamination revealed temperature was 96.1 degrees Fahrenheit,\\nheart rate was 83, blood pressure was 124/42 (following\\nadministration of 3 liters of normal saline), respiratory\\nwas 24, and his oxygen saturation was 100% on 2 liters nasal\\ncannula.  His heart had a regular rate and rhythm.  There\\nwere normal first and second heart sounds.  There was a 2/6\\nsystolic ejection murmur, and there were no rubs or gallops.\\nHis lungs were clear to auscultation bilaterally.  His\\nabdomen was soft, nontender, and nondistended, and there were\\nhypoactive bowel sounds.  He had a palpable bypass graft\\npulse, [**Hospital3 17394**] dorsalis pedis and posterior tibialis\\npulses bilaterally; and his surgical incision was clean, dry,\\nand intact.  Please note that the above examination was done\\nby the Vascular Surgery team, which was the team that was\\ninitially planning to admit the patient to the hospital.\\n\\nPERTINENT LABORATORY DATA ON PRESENTATION:  On initial\\nlaboratory evaluation the patient had a white blood cell\\ncount of 12.7, hematocrit was 30.2, and platelets\\nwere 282,000.  His PT was 13.5, PTT was 30.7, and INR\\nwas 1.3.  His serum chemistries revealed sodium was 136,\\npotassium was 5.4, chloride was 99, bicarbonate was 25, blood\\nurea nitrogen was 53, creatinine was 3.2, and blood glucose\\nwas 91.  His calcium was 8.2, magnesium was 2.4, and\\nphosphate was 4.8.  Blood cultures drawn on admission were\\npending, but ultimately negative.  A urine culture taken on\\nadmission was initially pending, but ultimately grew out\\nyeast.  A sputum culture taken on admission was also\\ninitially pending, but ultimately also grew out yeast.\\n\\nRADIOLOGY/IMAGING:  His admission chest x-ray demonstrated\\nstable prominence of the right main pulmonary artery; no\\nfocal areas of consolidation; overall stable appearance of\\nthe chest compared with a [**2101-10-15**] study.  No\\nradiographic evidence of congestive heart failure or\\npneumonia.\\n\\nHis admission electrocardiogram demonstrated a sinus rhythm,\\nnonspecific inferior/lateral T wave changes, low QRS voltages\\nin the limb leads, and T wave changes in V5 and V6 when\\ncompared with an electrocardiogram dated [**2101-10-12**].\\n\\nAn initial abdominal CT was a limited noncontrast examination\\nthat demonstrated diffuse vascular calcifications.  No\\nevidence of an abdominal aortic aneurysm or free fluid,\\nincompletely imaged coronary artery calcification, a simple\\nleft renal cyst, sigmoid diverticulosis, and an enlarged and\\npartially calcified prostate gland.\\n\\nHOSPITAL COURSE BY SYSTEM:\\n\\n1.  CARDIOVASCULAR:  The patient was initially admitted to\\nthe Vascular Intensive Care Unit with hypotension, decreased\\nurine output, and acute renal failure; most likely secondary\\nto a presumed gram-negative urosepsis (although there were\\nnever any positive culture data to confirm this diagnosis).\\n\\nWhile boarding in the Medical Intensive Care Unit on the\\nnight of admission, the patient had a sudden\\ncardiorespiratory arrest.  He was resuscitated with\\nepinephrine, lidocaine, and direct current cardioversion\\ntimes four.  He was also intubate for airway protection.\\n\\nFollowing these measures, the patient returned to a sinus\\nrhythm with a systolic blood pressure of approximately 100;\\nthe total time elapsed from the beginning of the arrest to\\nthe return of a pulse was approximately 16 minutes.  He\\nsubsequently required double pressors to maintain his blood\\npressure.\\n\\nAn echocardiogram performed at the bedside demonstrated a\\ntrivial pericardial effusion and a left ventricular ejection\\nfraction of 20% to 25% in the setting of tachycardia and a\\nhyperdynamic right ventricle; suggesting elevated right-sided\\nfilling pressures.  Although the definitive etiology of this\\narrest remained unknown, the most likely trigger was a\\nnon-Q-wave myocardial infarction, as his troponin values were\\nelevated to greater than 50 following his arrest.\\n\\nA repeat echocardiogram done on [**2101-10-21**]\\ndemonstrated mild left atrial dilation, an ejection fraction\\nof 15% to 20%, resting regional wall motion abnormalities\\nincluding inferior, mid, and apical left ventricular\\nakinesis, depressed right ventricular systolic function, and\\nmoderate mitral regurgitation.  Compared with the prior study\\nof [**2101-10-20**]; the left ventricular function was\\nunchanged.  There was moderate mitral regurgitation, and the\\nright ventricular function appeared worse.\\n\\nOn [**2101-10-21**], the patient was loaded with amiodarone\\nand was subsequently started on oral amiodarone.  The\\nfollowing day, he was started on heparin intravenously given\\nhis elevated serum troponin to greater than 50; this\\nmedication was continued for 72 hours.  Given his elevated\\ntroponins and non-Q-wave myocardial infarction, the patient\\nwas a candidate for cardiac catheterization.\\n\\nAfter discussions between the Medical Intensive Care Unit\\nteam and the patient's family, however, the decision was made\\nto not pursue further invasive procedures given that the\\npatient had been made do not resuscitate/do not intubate\\nfollowing the resuscitation mentioned above, and his family\\nno longer wished for aggressive resuscitating measures.\\n\\nBy [**2101-10-23**], he was off pressors and he was\\nrestarted on a beta blocker and ACE inhibitor at low doses.\\n\\nOn the evening of [**2101-10-25**], the patient complained\\nof substernal chest pain that was relieved by NPG SL and\\nmorphine.  He also had ST segment depressions in V2 and V3\\nthat reverted to baseline after the resolution of his pain.\\nTherefore, the patient was again started on heparin;\\nalthough, this was discontinued on [**2101-10-26**] when\\nthe patient ruled out for a myocardial infarction by cardiac\\nenzymes.  He again had substernal chest pain on [**2101-10-27**]; although, he had no electrocardiogram changes, and he\\nagain ruled out for a myocardial infarction by cardiac\\nenzymes.\\n\\nBy hospital day four, the patient began to develop evidence\\nof congestive heart failure given his aggressive fluid\\nresuscitation, and gentle diuresis with furosemide was begun.\\nBy the time of his transfer to the General Medicine Service\\non [**2101-10-26**], the patient was still significantly\\nvolume overloaded following his aggressive fluid\\nresuscitation in the Medical Intensive Care Unit.  Therefore,\\nhe was continued on the program of gentle diuresis given that\\nhe was having signs and symptoms of right-sided congestive\\nheart failure.  He achieved adequate diuresis by the time of\\nhis discharge to rehabilitation, as his oxygen saturation was\\ngreater than 95% on 2 liters nasal cannula.\\n\\n2.  INFECTIOUS DISEASE/SEPSIS:  The patient was started on\\ngentamicin and piperacillin/tazobactam in addition to the\\nlevofloxacin, metronidazole, and vancomycin he was already\\ntaking for right lower extremity cellulitis prior to\\nadmission for empiric coverage of a presumed gram-negative\\nurosepsis, and he was aggressively hydrated with intravenous\\nfluids.\\n\\nOn [**2101-10-21**], his levofloxacin and metronidazole was\\ndiscontinued, and he was started on fluconazole given the\\ngrowth of yeast on urine culture.  He was taken off of\\ngentamicin on hospital day three, and his fluconazole was\\ndiscontinued on hospital day five (as per the Infectious\\nDisease Service).  He was taken off of vancomycin on\\n[**2101-10-28**], and his piperacillin/tazobactam was\\ndiscontinued on [**2101-10-29**].\\n\\nDespite the presumption of a gram-negative urosepsis\\nprecipitating this admission, the patient did not have any\\npositive blood or urine cultures aside from the growth of\\nyeast in two urine cultures noted above.  He remained\\nafebrile both before and after discontinuation of his\\nantibiotics, and he was found to be Clostridium difficile\\nnegative on [**2101-10-28**].\\n\\n3.  PULMONARY:  As noted above, the patient was intubated and\\nhe was extubated on [**2101-10-24**].  He subsequently\\ndeveloped wheezing and mild hypoxia; most likely secondary to\\ncardiac asthma and fluid overload in the setting of his\\naggressive fluid resuscitation.  He was gently diuresed\\ntoward the end of his hospitalization, and by the time of his\\nhe was maintaining an oxygen saturation of greater than 95%\\non 2 liters nasal cannula, intermittent ipratropium\\nnebulizers, and chest physical therapy for clearance of his\\nrespiratory secretions.\\n\\n4.  RENAL:  The patient presented with acute renal failure\\nand prerenal azotemia that rapidly resolved following fluid\\nresuscitation.  By the time of discharge, his serum\\ncreatinine was stable and at his preadmission baseline.\\n\\n5.  NUTRITION:  The patient was found to be profoundly\\nmalnourished with a serum albumin of 1.8 on admission.  Once\\nhe was extubated and taking orals, he performed poorly on a\\nmodified barium swallowing study and was started on a thin\\nliquid, ground-solid diet with whole medication tablets,\\nsmall bites and sips, upright posture with meals, and\\naspiration precautions.  He was also given ProMod shakes with\\nand between meals for nutritional supplementation of his\\nheart-healthy/diabetic diet.\\n\\n6.  VASCULAR:  The patient's operative incisions and foot\\nulcers continued to heal throughout this admission.  He was\\nstarted on an multivitamin, vitamin C, and zinc for improved\\nwound healing.\\n\\n7.  HEMATOLOGY:  The patient was transfused one unit of\\npacked red blood cells on [**2101-10-27**] to maintain a\\nhematocrit of greater than 30 given his history of severe\\ncoronary artery disease.  His hematocrit subsequently\\nremained stable.\\n\\nCONDITION AT DISCHARGE:  Condition on discharge was stable.\\n\\nDISCHARGE STATUS:  [**First Name4 (NamePattern1) 1188**] [**Last Name (NamePattern1) **] rehabilitation facility.\\n\\nDISCHARGE DIAGNOSES:\\n 1.  Cardiorespiratory arrest.\\n 2.  Non-Q-wave myocardial infarction.\\n 3.  Acute renal failure.\\n 4.  Coronary artery disease with diffuse 3-vessel disease;\\nright-dominant, status post proximal left circumflex stent in\\n[**2101-7-9**] with occlusion of distal left circumflex; status\\npost right coronary artery stent on [**2101-10-27**] (no\\npercutaneous coronary intervention to 99%, distal left\\ncircumflex, 80% small proximal left anterior descending\\nartery, 80% small distal left anterior descending artery).\\n 5.  Congestive heart failure (with an ejection fraction\\nof 15% to 20%).\\n 6.  Type 2 diabetes with neuropathy.\\n 7.  Hypertension.\\n 8.  Diverticulosis (found on colonoscopy in [**2101-7-9**]).\\n 9.  Alzheimer's dementia.\\n10.  History of gastrointestinal bleed (while the patient was\\ntaking eptifibatide).\\n11.  Cardiac risk factors (with a baseline creatinine\\nof 1.4 to 1.6).\\n12.  History of methicillin-resistant Staphylococcus aureus\\nand Pseudomonas growth in wound cultures.\\n13.  Severe peripheral vascular disease; status post left\\nfemoral-AT bypass graft on [**2101-10-11**].\\n14.  Chronic nonhealing foot ulcers.\\n\\nMEDICATIONS ON DISCHARGE:\\n 1.  Amiodarone 400 mg p.o. b.i.d. (through [**2101-11-2**]), then 400 mg p.o. q.d. (times one week), then 200 mg\\np.o. q.d.\\n 2.  Metoprolol 50 mg p.o. b.i.d.\\n 3.  Captopril 6.25 mg p.o. t.i.d.\\n 4.  Aspirin 325 mg p.o. q.d.\\n 5.  Pantoprazole 40 mg p.o. q.d.\\n 6.  Heparin 5000 units subcutaneously b.i.d.\\n 7.  Multivitamin one tablet p.o. q.d.\\n 8.  Zinc sulfate 220 mg p.o. q.d.\\n 9.  Vitamin C 500 mg p.o. q.d.\\n10.  Ipratropium nebulizers q.4-6h. as needed (for wheezing).\\n11.  Acetaminophen 325 mg to 650 mg p.o. q.4-6h. as needed\\n(for pain).\\n12.  Miconazole 2% powder to groin b.i.d.\\n13.  Santyl lotion to heels b.i.d.\\n14.  Regular insulin sliding-scale.\\n\\nCODE STATUS:  Do not resuscitate/do not intubate.\\n\\nNOTE:  If applicable, an addendum to this Discharge Summary\\nwill be dictated to include follow-up appointments as well as\\nany changes to the medication list noted above.\\n\\n\\n\\n\\n\\n\\n                          [**First Name11 (Name Pattern1) **] [**Last Name (NamePattern4) 1604**], M.D.  [**MD Number(1) 1605**]\\n\\nDictated By:[**Name8 (MD) 2507**]\\n\\nMEDQUIST36\\n\\nD:  [**2101-10-31**]  01:07\\nT:  [**2101-11-5**]  03:44\\nJOB#:  [**Job Number **]\\n\""
      ]
     },
     "execution_count": 50,
     "metadata": {},
     "output_type": "execute_result"
    }
   ],
   "source": [
    "df.iloc[0,2]"
   ]
  },
  {
   "cell_type": "code",
   "execution_count": 51,
   "id": "565dd708",
   "metadata": {},
   "outputs": [],
   "source": [
    "import nltk\n",
    "from nltk.corpus import stopwords\n",
    "stop_words = set(stopwords.words('english'))"
   ]
  },
  {
   "cell_type": "code",
   "execution_count": 52,
   "id": "d41cdee2",
   "metadata": {},
   "outputs": [
    {
     "data": {
      "text/plain": [
       "'admission date date birth sex service medicine chief complaint admitted rehabilitation hypotension systolic blood pressure decreased urine output history present illness patient year old male hospitalized undergoing left femoral bypass graft subsequently discharged rehabilitation facility found systolic blood pressure urine output hours foley catheter placed rehabilitation facility yielded cc murky brown urine may also purulent discharge penile meatus time presentation emergency department patient without subjective complaints emergency department found systolic blood pressure given liters intravenous fluids transiently started dopamine systolic blood pressure past medical history coronary artery disease diffuse vessel disease right dominant status post proximal left circumflex stent occlusion distal left circumflex status post right coronary artery stent percutaneous coronary intervention diagonal left circumflex small proximal left anterior descending artery small distal left anterior descending artery congestive heart failure ejection fraction type diabetes neuropathy hypertension diverticulosis found colonoscopy alzheimer dementia history gastrointestinal bleed patient taking eptifibatide cardiac risk factors baseline creatinine hypercholesterolemia history methicillin resistant staphylococcus aureus pseudomonas growth wound cultures severe peripheral vascular disease status post left femoral bypass graft chronic nonhealing foot ulcers recent right pedal cellulitis allergies patient known drug allergies medications admission vancomycin g intravenously qh level less started levofloxacin mg po qd started metronidazole mg po qh started heparin units subcutaneous bid simvastatin mg po qd lisinopril mg po qd furosemide mg po qd vitamin e iu po qd atenolol mg po qd pantoprazole mg po qd ascorbic acid mg po bid nph units bid regular insulin sliding scale bisacodyl mg po pr needed docusate mg po bid percocet mg one tablet po q h needed pain aspirin mg po qd metoprolol mg po bid social history patient retired living home wife prior admission hospital day prior admission social drinker pack year smoking history although quit smoking years ago physical examination presentation initial physical examination revealed temperature degrees fahrenheit heart rate blood pressure following administration liters normal saline respiratory oxygen saturation liters nasal cannula heart regular rate rhythm normal first second heart sounds systolic ejection murmur rubs gallops lungs clear auscultation bilaterally abdomen soft nontender nondistended hypoactive bowel sounds palpable bypass graft pulse dorsalis pedis posterior tibialis pulses bilaterally surgical incision clean dry intact please note examination done vascular surgery team team initially planning admit patient hospital pertinent laboratory data presentation initial laboratory evaluation patient white blood cell count hematocrit platelets pt ptt inr serum chemistries revealed sodium potassium chloride bicarbonate blood urea nitrogen creatinine blood glucose calcium magnesium phosphate blood cultures drawn admission pending ultimately negative urine culture taken admission initially pending ultimately grew yeast sputum culture taken admission also initially pending ultimately also grew yeast radiology imaging admission chest x ray demonstrated stable prominence right main pulmonary artery focal areas consolidation overall stable appearance chest compared study radiographic evidence congestive heart failure pneumonia admission electrocardiogram demonstrated sinus rhythm nonspecific inferior lateral wave changes low qrs voltages limb leads wave changes v v compared electrocardiogram dated initial abdominal ct limited noncontrast examination demonstrated diffuse vascular calcifications evidence abdominal aortic aneurysm free fluid incompletely imaged coronary artery calcification simple left renal cyst sigmoid diverticulosis enlarged partially calcified prostate gland hospital course system cardiovascular patient initially admitted vascular intensive care unit hypotension decreased urine output acute renal failure likely secondary presumed gram negative urosepsis although never positive culture data confirm diagnosis boarding medical intensive care unit night admission patient sudden cardiorespiratory arrest resuscitated epinephrine lidocaine direct current cardioversion times four also intubate airway protection following measures patient returned sinus rhythm systolic blood pressure approximately total time elapsed beginning arrest return pulse approximately minutes subsequently required double pressors maintain blood pressure echocardiogram performed bedside demonstrated trivial pericardial effusion left ventricular ejection fraction setting tachycardia hyperdynamic right ventricle suggesting elevated right sided filling pressures although definitive etiology arrest remained unknown likely trigger non q wave myocardial infarction troponin values elevated greater following arrest repeat echocardiogram done demonstrated mild left atrial dilation ejection fraction resting regional wall motion abnormalities including inferior mid apical left ventricular akinesis depressed right ventricular systolic function moderate mitral regurgitation compared prior study left ventricular function unchanged moderate mitral regurgitation right ventricular function appeared worse patient loaded amiodarone subsequently started oral amiodarone following day started heparin intravenously given elevated serum troponin greater medication continued hours given elevated troponins non q wave myocardial infarction patient candidate cardiac catheterization discussions medical intensive care unit team patient family however decision made pursue invasive procedures given patient made resuscitate intubate following resuscitation mentioned family longer wished aggressive resuscitating measures pressors restarted beta blocker ace inhibitor low doses evening patient complained substernal chest pain relieved npg sl morphine also st segment depressions v v reverted baseline resolution pain therefore patient started heparin although discontinued patient ruled myocardial infarction cardiac enzymes substernal chest pain although electrocardiogram changes ruled myocardial infarction cardiac enzymes hospital day four patient began develop evidence congestive heart failure given aggressive fluid resuscitation gentle diuresis furosemide begun time transfer general medicine service patient still significantly volume overloaded following aggressive fluid resuscitation medical intensive care unit therefore continued program gentle diuresis given signs symptoms right sided congestive heart failure achieved adequate diuresis time discharge rehabilitation oxygen saturation greater liters nasal cannula infectious disease sepsis patient started gentamicin piperacillin tazobactam addition levofloxacin metronidazole vancomycin already taking right lower extremity cellulitis prior admission empiric coverage presumed gram negative urosepsis aggressively hydrated intravenous fluids levofloxacin metronidazole discontinued started fluconazole given growth yeast urine culture taken gentamicin hospital day three fluconazole discontinued hospital day five per infectious disease service taken vancomycin piperacillin tazobactam discontinued despite presumption gram negative urosepsis precipitating admission patient positive blood urine cultures aside growth yeast two urine cultures noted remained afebrile discontinuation antibiotics found clostridium difficile negative pulmonary noted patient intubated extubated subsequently developed wheezing mild hypoxia likely secondary cardiac asthma fluid overload setting aggressive fluid resuscitation gently diuresed toward end hospitalization time maintaining oxygen saturation greater liters nasal cannula intermittent ipratropium nebulizers chest physical therapy clearance respiratory secretions renal patient presented acute renal failure prerenal azotemia rapidly resolved following fluid resuscitation time discharge serum creatinine stable preadmission baseline nutrition patient found profoundly malnourished serum albumin admission extubated taking orals performed poorly modified barium swallowing study started thin liquid ground solid diet whole medication tablets small bites sips upright posture meals aspiration precautions also given promod shakes meals nutritional supplementation heart healthy diabetic diet vascular patient operative incisions foot ulcers continued heal throughout admission started multivitamin vitamin c zinc improved wound healing hematology patient transfused one unit packed red blood cells maintain hematocrit greater given history severe coronary artery disease hematocrit subsequently remained stable condition discharge condition discharge stable discharge status rehabilitation facility discharge diagnoses cardiorespiratory arrest non q wave myocardial infarction acute renal failure coronary artery disease diffuse vessel disease right dominant status post proximal left circumflex stent occlusion distal left circumflex status post right coronary artery stent percutaneous coronary intervention distal left circumflex small proximal left anterior descending artery small distal left anterior descending artery congestive heart failure ejection fraction type diabetes neuropathy hypertension diverticulosis found colonoscopy alzheimer dementia history gastrointestinal bleed patient taking eptifibatide cardiac risk factors baseline creatinine history methicillin resistant staphylococcus aureus pseudomonas growth wound cultures severe peripheral vascular disease status post left femoral bypass graft chronic nonhealing foot ulcers medications discharge amiodarone mg po bid mg po qd times one week mg po qd metoprolol mg po bid captopril mg po tid aspirin mg po qd pantoprazole mg po qd heparin units subcutaneously bid multivitamin one tablet po qd zinc sulfate mg po qd vitamin c mg po qd ipratropium nebulizers q h needed wheezing acetaminophen mg mg po q h needed pain miconazole powder groin bid santyl lotion heels bid regular insulin sliding scale code status resuscitate intubate note applicable addendum discharge summary dictated include follow appointments well changes medication list noted dictated medquist job'"
      ]
     },
     "execution_count": 52,
     "metadata": {},
     "output_type": "execute_result"
    }
   ],
   "source": [
    "tokenizer = RegexpTokenizer(r'\\w+')\n",
    "def preprocess_text(discharge_summary):\n",
    "#     ds = discharge_summary\n",
    "#     ds = re.sub('\\[.*\\]', '', ds)\n",
    "#     ds = ds.replace('\\n',' ')\n",
    "#     ds = ds.replace('\\r',' ')\n",
    "#     terms = ['Admission Date:','Discharge Date:','Date of Birth:','Service:','ADDENDUM:','Date/Time:','Completed by:','Dictated By:',' D:',' T:','JOB#:','Followup Instructions:','Follow up w/ Dr.', 'Provider:']\n",
    "#     for term in terms:\n",
    "#         ds = re.sub(term,'',ds)\n",
    "#     ds = re.sub('\\d+:\\d+','',ds)\n",
    "#     ds = re.sub(' +',' ',ds)\n",
    "#     ds = re.sub('\\.','',ds)\n",
    "#     ds = ds.strip()\n",
    "#     tokens = [t.lower() for t in tokenizer.tokenize(ds)]\n",
    "#     ds = ' '.join(tokens)\n",
    "#     return ds\n",
    "\n",
    "    ds = discharge_summary\n",
    "    ds = re.sub('\\[.*\\]', '', ds)\n",
    "    ds = ds.replace('\\n',' ')\n",
    "    ds = ds.replace('\\r',' ')\n",
    "#     terms = ['Admission Date:','Discharge Date:','Date of Birth:','Service:','ADDENDUM:','Date/Time:','Completed by:','Dictated By:',' D:',' T:','JOB#:','Followup Instructions:','Follow up w/ Dr.', 'Provider:']\n",
    "#     for term in terms:\n",
    "#         ds = re.sub(term,'',ds)\n",
    "    ds = re.sub('\\d+:\\d+','',ds)\n",
    "    ds = re.sub('\\d+','',ds)\n",
    "    ds = re.sub(' +',' ',ds)\n",
    "    ds = re.sub('\\.','',ds)\n",
    "    ds = ds.strip()\n",
    "    tokens = [t.lower() for t in tokenizer.tokenize(ds)]\n",
    "    tokens = [w for w in tokens if not w in stop_words]\n",
    "    ds = ' '.join(tokens)   \n",
    "    return ds\n",
    "preprocess_text(df.iloc[0,2])"
   ]
  },
  {
   "cell_type": "code",
   "execution_count": 53,
   "id": "09245dcc",
   "metadata": {},
   "outputs": [],
   "source": [
    "df['TEXT'] = df.apply(lambda row: str(preprocess_text(row[2])), axis=1)"
   ]
  },
  {
   "cell_type": "code",
   "execution_count": 54,
   "id": "2618194d",
   "metadata": {},
   "outputs": [
    {
     "data": {
      "text/html": [
       "<div>\n",
       "<style scoped>\n",
       "    .dataframe tbody tr th:only-of-type {\n",
       "        vertical-align: middle;\n",
       "    }\n",
       "\n",
       "    .dataframe tbody tr th {\n",
       "        vertical-align: top;\n",
       "    }\n",
       "\n",
       "    .dataframe thead th {\n",
       "        text-align: right;\n",
       "    }\n",
       "</style>\n",
       "<table border=\"1\" class=\"dataframe\">\n",
       "  <thead>\n",
       "    <tr style=\"text-align: right;\">\n",
       "      <th></th>\n",
       "      <th>SUBJECT_ID</th>\n",
       "      <th>HADM_ID</th>\n",
       "      <th>TEXT</th>\n",
       "      <th>ICD9_CODE</th>\n",
       "    </tr>\n",
       "  </thead>\n",
       "  <tbody>\n",
       "    <tr>\n",
       "      <th>0</th>\n",
       "      <td>3</td>\n",
       "      <td>145834</td>\n",
       "      <td>admission date date birth sex service medicine...</td>\n",
       "      <td>038.9 785.59 584.9 427.5 410.71 428.0 682.6 42...</td>\n",
       "    </tr>\n",
       "    <tr>\n",
       "      <th>1</th>\n",
       "      <td>4</td>\n",
       "      <td>185777</td>\n",
       "      <td>admission date date birth sex f service chief ...</td>\n",
       "      <td>042 136.3 799.4 276.3 790.7 571.5 041.11 V09.0...</td>\n",
       "    </tr>\n",
       "    <tr>\n",
       "      <th>2</th>\n",
       "      <td>6</td>\n",
       "      <td>107064</td>\n",
       "      <td>admission date date birth sex f service admiss...</td>\n",
       "      <td>403.91 444.0 997.2 276.6 276.7 285.9 275.3 V15...</td>\n",
       "    </tr>\n",
       "    <tr>\n",
       "      <th>3</th>\n",
       "      <td>9</td>\n",
       "      <td>150750</td>\n",
       "      <td>admission date date birth sex service neurolog...</td>\n",
       "      <td>431 507.0 428.0 584.9 276.5 401.9 96.72 96.04</td>\n",
       "    </tr>\n",
       "    <tr>\n",
       "      <th>4</th>\n",
       "      <td>10</td>\n",
       "      <td>184167</td>\n",
       "      <td>admission date date birth sex f service histor...</td>\n",
       "      <td>V30.00 774.2 765.25 765.15 V29.0 99.83 99.15 96.6</td>\n",
       "    </tr>\n",
       "  </tbody>\n",
       "</table>\n",
       "</div>"
      ],
      "text/plain": [
       "   SUBJECT_ID  HADM_ID                                               TEXT  \\\n",
       "0           3   145834  admission date date birth sex service medicine...   \n",
       "1           4   185777  admission date date birth sex f service chief ...   \n",
       "2           6   107064  admission date date birth sex f service admiss...   \n",
       "3           9   150750  admission date date birth sex service neurolog...   \n",
       "4          10   184167  admission date date birth sex f service histor...   \n",
       "\n",
       "                                           ICD9_CODE  \n",
       "0  038.9 785.59 584.9 427.5 410.71 428.0 682.6 42...  \n",
       "1  042 136.3 799.4 276.3 790.7 571.5 041.11 V09.0...  \n",
       "2  403.91 444.0 997.2 276.6 276.7 285.9 275.3 V15...  \n",
       "3      431 507.0 428.0 584.9 276.5 401.9 96.72 96.04  \n",
       "4  V30.00 774.2 765.25 765.15 V29.0 99.83 99.15 96.6  "
      ]
     },
     "execution_count": 54,
     "metadata": {},
     "output_type": "execute_result"
    }
   ],
   "source": [
    "df.head()"
   ]
  },
  {
   "cell_type": "code",
   "execution_count": 56,
   "id": "443fb33a",
   "metadata": {},
   "outputs": [
    {
     "name": "stdout",
     "output_type": "stream",
     "text": [
      "Num types 139263\n",
      "Num tokens 51895155\n"
     ]
    }
   ],
   "source": [
    "types = set()\n",
    "num_tok = 0\n",
    "for row in df.itertuples():\n",
    "    for w in row[-2].split(' '):\n",
    "        types.add(w)\n",
    "        num_tok += 1\n",
    "print(\"Num types\", len(types))\n",
    "print(\"Num tokens\", str(num_tok))"
   ]
  },
  {
   "cell_type": "code",
   "execution_count": 57,
   "id": "77bc2aa4",
   "metadata": {},
   "outputs": [],
   "source": [
    "df.to_csv(data_path + 'processed_notes_labeled.csv', index=False)"
   ]
  },
  {
   "cell_type": "code",
   "execution_count": 58,
   "id": "f34999c4",
   "metadata": {},
   "outputs": [],
   "source": [
    "del df"
   ]
  },
  {
   "cell_type": "markdown",
   "id": "eba2cb04",
   "metadata": {},
   "source": [
    "# Full"
   ]
  },
  {
   "cell_type": "code",
   "execution_count": 57,
   "id": "da6a7723",
   "metadata": {},
   "outputs": [],
   "source": [
    "df = pd.read_csv(data_path + 'processed_notes_labeled.csv')"
   ]
  },
  {
   "cell_type": "code",
   "execution_count": 58,
   "id": "497eeae7",
   "metadata": {},
   "outputs": [
    {
     "data": {
      "text/html": [
       "<div>\n",
       "<style scoped>\n",
       "    .dataframe tbody tr th:only-of-type {\n",
       "        vertical-align: middle;\n",
       "    }\n",
       "\n",
       "    .dataframe tbody tr th {\n",
       "        vertical-align: top;\n",
       "    }\n",
       "\n",
       "    .dataframe thead th {\n",
       "        text-align: right;\n",
       "    }\n",
       "</style>\n",
       "<table border=\"1\" class=\"dataframe\">\n",
       "  <thead>\n",
       "    <tr style=\"text-align: right;\">\n",
       "      <th></th>\n",
       "      <th>SUBJECT_ID</th>\n",
       "      <th>HADM_ID</th>\n",
       "      <th>TEXT</th>\n",
       "      <th>ICD9_CODE</th>\n",
       "    </tr>\n",
       "  </thead>\n",
       "  <tbody>\n",
       "    <tr>\n",
       "      <th>0</th>\n",
       "      <td>3</td>\n",
       "      <td>145834</td>\n",
       "      <td>admission date date birth sex service medicine...</td>\n",
       "      <td>038.9 785.59 584.9 427.5 410.71 428.0 682.6 42...</td>\n",
       "    </tr>\n",
       "    <tr>\n",
       "      <th>1</th>\n",
       "      <td>4</td>\n",
       "      <td>185777</td>\n",
       "      <td>admission date date birth sex f service chief ...</td>\n",
       "      <td>042 136.3 799.4 276.3 790.7 571.5 041.11 V09.0...</td>\n",
       "    </tr>\n",
       "    <tr>\n",
       "      <th>2</th>\n",
       "      <td>6</td>\n",
       "      <td>107064</td>\n",
       "      <td>admission date date birth sex f service admiss...</td>\n",
       "      <td>403.91 444.0 997.2 276.6 276.7 285.9 275.3 V15...</td>\n",
       "    </tr>\n",
       "    <tr>\n",
       "      <th>3</th>\n",
       "      <td>9</td>\n",
       "      <td>150750</td>\n",
       "      <td>admission date date birth sex service neurolog...</td>\n",
       "      <td>431 507.0 428.0 584.9 276.5 401.9 96.72 96.04</td>\n",
       "    </tr>\n",
       "    <tr>\n",
       "      <th>4</th>\n",
       "      <td>10</td>\n",
       "      <td>184167</td>\n",
       "      <td>admission date date birth sex f service histor...</td>\n",
       "      <td>V30.00 774.2 765.25 765.15 V29.0 99.83 99.15 96.6</td>\n",
       "    </tr>\n",
       "  </tbody>\n",
       "</table>\n",
       "</div>"
      ],
      "text/plain": [
       "   SUBJECT_ID  HADM_ID                                               TEXT  \\\n",
       "0           3   145834  admission date date birth sex service medicine...   \n",
       "1           4   185777  admission date date birth sex f service chief ...   \n",
       "2           6   107064  admission date date birth sex f service admiss...   \n",
       "3           9   150750  admission date date birth sex service neurolog...   \n",
       "4          10   184167  admission date date birth sex f service histor...   \n",
       "\n",
       "                                           ICD9_CODE  \n",
       "0  038.9 785.59 584.9 427.5 410.71 428.0 682.6 42...  \n",
       "1  042 136.3 799.4 276.3 790.7 571.5 041.11 V09.0...  \n",
       "2  403.91 444.0 997.2 276.6 276.7 285.9 275.3 V15...  \n",
       "3      431 507.0 428.0 584.9 276.5 401.9 96.72 96.04  \n",
       "4  V30.00 774.2 765.25 765.15 V29.0 99.83 99.15 96.6  "
      ]
     },
     "execution_count": 58,
     "metadata": {},
     "output_type": "execute_result"
    }
   ],
   "source": [
    "df.head()"
   ]
  },
  {
   "cell_type": "code",
   "execution_count": 59,
   "id": "317587c9",
   "metadata": {},
   "outputs": [
    {
     "data": {
      "text/plain": [
       "52722"
      ]
     },
     "execution_count": 59,
     "metadata": {},
     "output_type": "execute_result"
    }
   ],
   "source": [
    "len(df.index)"
   ]
  },
  {
   "cell_type": "code",
   "execution_count": 60,
   "id": "4ded9482",
   "metadata": {},
   "outputs": [],
   "source": [
    "# len(df['ICD9_CODE'].unique())"
   ]
  },
  {
   "cell_type": "code",
   "execution_count": 61,
   "id": "059c6a3a",
   "metadata": {},
   "outputs": [],
   "source": [
    "labeldf = pd.read_csv(data_path + 'ALL_CODES_filtered.csv',dtype={\"ICD9_CODE\": str})"
   ]
  },
  {
   "cell_type": "code",
   "execution_count": 62,
   "id": "e3ccabd7",
   "metadata": {},
   "outputs": [
    {
     "data": {
      "text/html": [
       "<div>\n",
       "<style scoped>\n",
       "    .dataframe tbody tr th:only-of-type {\n",
       "        vertical-align: middle;\n",
       "    }\n",
       "\n",
       "    .dataframe tbody tr th {\n",
       "        vertical-align: top;\n",
       "    }\n",
       "\n",
       "    .dataframe thead th {\n",
       "        text-align: right;\n",
       "    }\n",
       "</style>\n",
       "<table border=\"1\" class=\"dataframe\">\n",
       "  <thead>\n",
       "    <tr style=\"text-align: right;\">\n",
       "      <th></th>\n",
       "      <th>SUBJECT_ID</th>\n",
       "      <th>HADM_ID</th>\n",
       "      <th>ICD9_CODE</th>\n",
       "    </tr>\n",
       "  </thead>\n",
       "  <tbody>\n",
       "    <tr>\n",
       "      <th>0</th>\n",
       "      <td>3</td>\n",
       "      <td>145834</td>\n",
       "      <td>038.9</td>\n",
       "    </tr>\n",
       "    <tr>\n",
       "      <th>1</th>\n",
       "      <td>3</td>\n",
       "      <td>145834</td>\n",
       "      <td>785.59</td>\n",
       "    </tr>\n",
       "    <tr>\n",
       "      <th>2</th>\n",
       "      <td>3</td>\n",
       "      <td>145834</td>\n",
       "      <td>584.9</td>\n",
       "    </tr>\n",
       "    <tr>\n",
       "      <th>3</th>\n",
       "      <td>3</td>\n",
       "      <td>145834</td>\n",
       "      <td>427.5</td>\n",
       "    </tr>\n",
       "    <tr>\n",
       "      <th>4</th>\n",
       "      <td>3</td>\n",
       "      <td>145834</td>\n",
       "      <td>410.71</td>\n",
       "    </tr>\n",
       "  </tbody>\n",
       "</table>\n",
       "</div>"
      ],
      "text/plain": [
       "   SUBJECT_ID  HADM_ID ICD9_CODE\n",
       "0           3   145834     038.9\n",
       "1           3   145834    785.59\n",
       "2           3   145834     584.9\n",
       "3           3   145834     427.5\n",
       "4           3   145834    410.71"
      ]
     },
     "execution_count": 62,
     "metadata": {},
     "output_type": "execute_result"
    }
   ],
   "source": [
    "labeldf.head()"
   ]
  },
  {
   "cell_type": "code",
   "execution_count": 63,
   "id": "0591dee8",
   "metadata": {},
   "outputs": [
    {
     "data": {
      "text/plain": [
       "8907"
      ]
     },
     "execution_count": 63,
     "metadata": {},
     "output_type": "execute_result"
    }
   ],
   "source": [
    "full_codes = labeldf['ICD9_CODE'].unique()\n",
    "len(full_codes)"
   ]
  },
  {
   "cell_type": "code",
   "execution_count": 64,
   "id": "f7aa6650",
   "metadata": {},
   "outputs": [],
   "source": [
    "train_ids = pd.read_csv(data_path+'train_full_hadm_ids.csv',names=['HADM_ID'],header=None)\n",
    "train_admisn_ids  = list(train_ids['HADM_ID'])\n",
    "train_full = df.loc[df['HADM_ID'].isin(train_admisn_ids)]"
   ]
  },
  {
   "cell_type": "code",
   "execution_count": 65,
   "id": "1b922bf2",
   "metadata": {},
   "outputs": [
    {
     "data": {
      "text/html": [
       "<div>\n",
       "<style scoped>\n",
       "    .dataframe tbody tr th:only-of-type {\n",
       "        vertical-align: middle;\n",
       "    }\n",
       "\n",
       "    .dataframe tbody tr th {\n",
       "        vertical-align: top;\n",
       "    }\n",
       "\n",
       "    .dataframe thead th {\n",
       "        text-align: right;\n",
       "    }\n",
       "</style>\n",
       "<table border=\"1\" class=\"dataframe\">\n",
       "  <thead>\n",
       "    <tr style=\"text-align: right;\">\n",
       "      <th></th>\n",
       "      <th>SUBJECT_ID</th>\n",
       "      <th>HADM_ID</th>\n",
       "      <th>TEXT</th>\n",
       "      <th>ICD9_CODE</th>\n",
       "    </tr>\n",
       "  </thead>\n",
       "  <tbody>\n",
       "    <tr>\n",
       "      <th>0</th>\n",
       "      <td>3</td>\n",
       "      <td>145834</td>\n",
       "      <td>admission date date birth sex service medicine...</td>\n",
       "      <td>038.9 785.59 584.9 427.5 410.71 428.0 682.6 42...</td>\n",
       "    </tr>\n",
       "    <tr>\n",
       "      <th>1</th>\n",
       "      <td>4</td>\n",
       "      <td>185777</td>\n",
       "      <td>admission date date birth sex f service chief ...</td>\n",
       "      <td>042 136.3 799.4 276.3 790.7 571.5 041.11 V09.0...</td>\n",
       "    </tr>\n",
       "    <tr>\n",
       "      <th>2</th>\n",
       "      <td>6</td>\n",
       "      <td>107064</td>\n",
       "      <td>admission date date birth sex f service admiss...</td>\n",
       "      <td>403.91 444.0 997.2 276.6 276.7 285.9 275.3 V15...</td>\n",
       "    </tr>\n",
       "    <tr>\n",
       "      <th>3</th>\n",
       "      <td>9</td>\n",
       "      <td>150750</td>\n",
       "      <td>admission date date birth sex service neurolog...</td>\n",
       "      <td>431 507.0 428.0 584.9 276.5 401.9 96.72 96.04</td>\n",
       "    </tr>\n",
       "    <tr>\n",
       "      <th>4</th>\n",
       "      <td>10</td>\n",
       "      <td>184167</td>\n",
       "      <td>admission date date birth sex f service histor...</td>\n",
       "      <td>V30.00 774.2 765.25 765.15 V29.0 99.83 99.15 96.6</td>\n",
       "    </tr>\n",
       "  </tbody>\n",
       "</table>\n",
       "</div>"
      ],
      "text/plain": [
       "   SUBJECT_ID  HADM_ID                                               TEXT  \\\n",
       "0           3   145834  admission date date birth sex service medicine...   \n",
       "1           4   185777  admission date date birth sex f service chief ...   \n",
       "2           6   107064  admission date date birth sex f service admiss...   \n",
       "3           9   150750  admission date date birth sex service neurolog...   \n",
       "4          10   184167  admission date date birth sex f service histor...   \n",
       "\n",
       "                                           ICD9_CODE  \n",
       "0  038.9 785.59 584.9 427.5 410.71 428.0 682.6 42...  \n",
       "1  042 136.3 799.4 276.3 790.7 571.5 041.11 V09.0...  \n",
       "2  403.91 444.0 997.2 276.6 276.7 285.9 275.3 V15...  \n",
       "3      431 507.0 428.0 584.9 276.5 401.9 96.72 96.04  \n",
       "4  V30.00 774.2 765.25 765.15 V29.0 99.83 99.15 96.6  "
      ]
     },
     "execution_count": 65,
     "metadata": {},
     "output_type": "execute_result"
    }
   ],
   "source": [
    "train_full.head()"
   ]
  },
  {
   "cell_type": "code",
   "execution_count": 66,
   "id": "b77e389f",
   "metadata": {},
   "outputs": [
    {
     "data": {
      "text/plain": [
       "47719"
      ]
     },
     "execution_count": 66,
     "metadata": {},
     "output_type": "execute_result"
    }
   ],
   "source": [
    "len(train_full.index)"
   ]
  },
  {
   "cell_type": "code",
   "execution_count": 67,
   "id": "951fd8eb",
   "metadata": {},
   "outputs": [],
   "source": [
    "train_full.to_csv(data_path + 'train_full.csv', index=False)"
   ]
  },
  {
   "cell_type": "code",
   "execution_count": 68,
   "id": "a66e648f",
   "metadata": {},
   "outputs": [],
   "source": [
    "test_ids = pd.read_csv(data_path+'test_full_hadm_ids.csv',names=['HADM_ID'],header=None)\n",
    "test_admisn_ids  = list(test_ids['HADM_ID'])\n",
    "test_full = df.loc[df['HADM_ID'].isin(test_admisn_ids)]"
   ]
  },
  {
   "cell_type": "code",
   "execution_count": 69,
   "id": "3146bc03",
   "metadata": {},
   "outputs": [
    {
     "data": {
      "text/html": [
       "<div>\n",
       "<style scoped>\n",
       "    .dataframe tbody tr th:only-of-type {\n",
       "        vertical-align: middle;\n",
       "    }\n",
       "\n",
       "    .dataframe tbody tr th {\n",
       "        vertical-align: top;\n",
       "    }\n",
       "\n",
       "    .dataframe thead th {\n",
       "        text-align: right;\n",
       "    }\n",
       "</style>\n",
       "<table border=\"1\" class=\"dataframe\">\n",
       "  <thead>\n",
       "    <tr style=\"text-align: right;\">\n",
       "      <th></th>\n",
       "      <th>SUBJECT_ID</th>\n",
       "      <th>HADM_ID</th>\n",
       "      <th>TEXT</th>\n",
       "      <th>ICD9_CODE</th>\n",
       "    </tr>\n",
       "  </thead>\n",
       "  <tbody>\n",
       "    <tr>\n",
       "      <th>49350</th>\n",
       "      <td>89109</td>\n",
       "      <td>144591</td>\n",
       "      <td>admission date date birth sex f service medici...</td>\n",
       "      <td>487.8 482.42 428.21 493.22 518.81 997.31 357.0...</td>\n",
       "    </tr>\n",
       "    <tr>\n",
       "      <th>49351</th>\n",
       "      <td>89112</td>\n",
       "      <td>183380</td>\n",
       "      <td>admission date date birth sex f service medici...</td>\n",
       "      <td>411.0 401.9 305.1 414.01 780.79 427.31 515 V45...</td>\n",
       "    </tr>\n",
       "    <tr>\n",
       "      <th>49352</th>\n",
       "      <td>89119</td>\n",
       "      <td>180906</td>\n",
       "      <td>admission date date birth sex service medicine...</td>\n",
       "      <td>790.7 585.6 507.0 999.31 428.22 403.91 112.2 4...</td>\n",
       "    </tr>\n",
       "    <tr>\n",
       "      <th>49353</th>\n",
       "      <td>89119</td>\n",
       "      <td>187268</td>\n",
       "      <td>admission date date birth sex service medicine...</td>\n",
       "      <td>038.43 785.52 585.6 599.0 403.91 428.22 008.45...</td>\n",
       "    </tr>\n",
       "    <tr>\n",
       "      <th>49354</th>\n",
       "      <td>89119</td>\n",
       "      <td>191630</td>\n",
       "      <td>admission date date birth sex service medicine...</td>\n",
       "      <td>599.0 585.6 403.91 560.0 428.22 428.0 707.03 7...</td>\n",
       "    </tr>\n",
       "  </tbody>\n",
       "</table>\n",
       "</div>"
      ],
      "text/plain": [
       "       SUBJECT_ID  HADM_ID                                               TEXT  \\\n",
       "49350       89109   144591  admission date date birth sex f service medici...   \n",
       "49351       89112   183380  admission date date birth sex f service medici...   \n",
       "49352       89119   180906  admission date date birth sex service medicine...   \n",
       "49353       89119   187268  admission date date birth sex service medicine...   \n",
       "49354       89119   191630  admission date date birth sex service medicine...   \n",
       "\n",
       "                                               ICD9_CODE  \n",
       "49350  487.8 482.42 428.21 493.22 518.81 997.31 357.0...  \n",
       "49351  411.0 401.9 305.1 414.01 780.79 427.31 515 V45...  \n",
       "49352  790.7 585.6 507.0 999.31 428.22 403.91 112.2 4...  \n",
       "49353  038.43 785.52 585.6 599.0 403.91 428.22 008.45...  \n",
       "49354  599.0 585.6 403.91 560.0 428.22 428.0 707.03 7...  "
      ]
     },
     "execution_count": 69,
     "metadata": {},
     "output_type": "execute_result"
    }
   ],
   "source": [
    "test_full.head()"
   ]
  },
  {
   "cell_type": "code",
   "execution_count": 70,
   "id": "da30d6d8",
   "metadata": {},
   "outputs": [
    {
     "data": {
      "text/plain": [
       "3372"
      ]
     },
     "execution_count": 70,
     "metadata": {},
     "output_type": "execute_result"
    }
   ],
   "source": [
    "len(test_full.index)"
   ]
  },
  {
   "cell_type": "code",
   "execution_count": 71,
   "id": "14659298",
   "metadata": {},
   "outputs": [],
   "source": [
    "test_full.to_csv(data_path + 'test_full.csv', index=False)"
   ]
  },
  {
   "cell_type": "code",
   "execution_count": 72,
   "id": "97ab6eaa",
   "metadata": {},
   "outputs": [],
   "source": [
    "dev_ids = pd.read_csv(data_path+'dev_full_hadm_ids.csv',names=['HADM_ID'],header=None)\n",
    "dev_admisn_ids  = list(dev_ids['HADM_ID'])\n",
    "dev_full = df.loc[df['HADM_ID'].isin(dev_admisn_ids)]"
   ]
  },
  {
   "cell_type": "code",
   "execution_count": 73,
   "id": "8f6e9dee",
   "metadata": {},
   "outputs": [
    {
     "data": {
      "text/html": [
       "<div>\n",
       "<style scoped>\n",
       "    .dataframe tbody tr th:only-of-type {\n",
       "        vertical-align: middle;\n",
       "    }\n",
       "\n",
       "    .dataframe tbody tr th {\n",
       "        vertical-align: top;\n",
       "    }\n",
       "\n",
       "    .dataframe thead th {\n",
       "        text-align: right;\n",
       "    }\n",
       "</style>\n",
       "<table border=\"1\" class=\"dataframe\">\n",
       "  <thead>\n",
       "    <tr style=\"text-align: right;\">\n",
       "      <th></th>\n",
       "      <th>SUBJECT_ID</th>\n",
       "      <th>HADM_ID</th>\n",
       "      <th>TEXT</th>\n",
       "      <th>ICD9_CODE</th>\n",
       "    </tr>\n",
       "  </thead>\n",
       "  <tbody>\n",
       "    <tr>\n",
       "      <th>47719</th>\n",
       "      <td>83537</td>\n",
       "      <td>161562</td>\n",
       "      <td>admission date date birth sex service medicine...</td>\n",
       "      <td>410.71 578.0 285.1 401.9 272.4 V10.46 564.1 59...</td>\n",
       "    </tr>\n",
       "    <tr>\n",
       "      <th>47720</th>\n",
       "      <td>83542</td>\n",
       "      <td>103451</td>\n",
       "      <td>admission date date birth sex service allergie...</td>\n",
       "      <td>410.41 414.01 401.9 250.00 66. 36.07 45. 40. 3...</td>\n",
       "    </tr>\n",
       "    <tr>\n",
       "      <th>47721</th>\n",
       "      <td>83543</td>\n",
       "      <td>189598</td>\n",
       "      <td>admission date date birth sex service surgery ...</td>\n",
       "      <td>800.22 820.09 801.02 E826.1 E849.8 79.35</td>\n",
       "    </tr>\n",
       "    <tr>\n",
       "      <th>47722</th>\n",
       "      <td>83547</td>\n",
       "      <td>103269</td>\n",
       "      <td>admission date date birth sex f service cardio...</td>\n",
       "      <td>394.2 285.1 401.9 428.0 276.7 250.00 327.23 30...</td>\n",
       "    </tr>\n",
       "    <tr>\n",
       "      <th>47723</th>\n",
       "      <td>83550</td>\n",
       "      <td>116832</td>\n",
       "      <td>admission date date birth sex f service surger...</td>\n",
       "      <td>560.2 491.21 997.1 427.32 514 276.6 568.0 272....</td>\n",
       "    </tr>\n",
       "  </tbody>\n",
       "</table>\n",
       "</div>"
      ],
      "text/plain": [
       "       SUBJECT_ID  HADM_ID                                               TEXT  \\\n",
       "47719       83537   161562  admission date date birth sex service medicine...   \n",
       "47720       83542   103451  admission date date birth sex service allergie...   \n",
       "47721       83543   189598  admission date date birth sex service surgery ...   \n",
       "47722       83547   103269  admission date date birth sex f service cardio...   \n",
       "47723       83550   116832  admission date date birth sex f service surger...   \n",
       "\n",
       "                                               ICD9_CODE  \n",
       "47719  410.71 578.0 285.1 401.9 272.4 V10.46 564.1 59...  \n",
       "47720  410.41 414.01 401.9 250.00 66. 36.07 45. 40. 3...  \n",
       "47721           800.22 820.09 801.02 E826.1 E849.8 79.35  \n",
       "47722  394.2 285.1 401.9 428.0 276.7 250.00 327.23 30...  \n",
       "47723  560.2 491.21 997.1 427.32 514 276.6 568.0 272....  "
      ]
     },
     "execution_count": 73,
     "metadata": {},
     "output_type": "execute_result"
    }
   ],
   "source": [
    "dev_full.head()"
   ]
  },
  {
   "cell_type": "code",
   "execution_count": 74,
   "id": "a279cc8b",
   "metadata": {},
   "outputs": [
    {
     "data": {
      "text/plain": [
       "1631"
      ]
     },
     "execution_count": 74,
     "metadata": {},
     "output_type": "execute_result"
    }
   ],
   "source": [
    "len(dev_full.index)"
   ]
  },
  {
   "cell_type": "code",
   "execution_count": 75,
   "id": "eb91f892",
   "metadata": {},
   "outputs": [],
   "source": [
    "dev_full.to_csv(data_path + 'dev_full.csv', index=False)"
   ]
  },
  {
   "cell_type": "code",
   "execution_count": 76,
   "id": "43023d07",
   "metadata": {},
   "outputs": [
    {
     "data": {
      "text/plain": [
       "8907"
      ]
     },
     "execution_count": 76,
     "metadata": {},
     "output_type": "execute_result"
    }
   ],
   "source": [
    "ccodes = set()\n",
    "for lcodes in train_full['ICD9_CODE'].unique():\n",
    "    for code in lcodes.split(' '):\n",
    "        ccodes.add(code)\n",
    "        \n",
    "for lcodes in test_full['ICD9_CODE'].unique():\n",
    "    for code in lcodes.split(' '):\n",
    "        ccodes.add(code)\n",
    "        \n",
    "for lcodes in dev_full['ICD9_CODE'].unique():\n",
    "    for code in lcodes.split(' '):\n",
    "        ccodes.add(code)\n",
    "len(ccodes)"
   ]
  },
  {
   "cell_type": "code",
   "execution_count": 77,
   "id": "c23c61f6",
   "metadata": {},
   "outputs": [],
   "source": [
    "diag_desc = pd.read_csv(data_path + 'D_ICD_DIAGNOSES.csv')\n",
    "proc_desc = pd.read_csv(data_path + 'D_ICD_PROCEDURES.csv')"
   ]
  },
  {
   "cell_type": "code",
   "execution_count": 78,
   "id": "7c70e42f",
   "metadata": {},
   "outputs": [],
   "source": [
    "diag_desc['ICD9_CODE'] = diag_desc.apply(lambda row: str(reformat(str(row[1]), True)), axis=1)\n",
    "proc_desc['ICD9_CODE'] = proc_desc.apply(lambda row: str(reformat(str(row[1]), False)), axis=1)"
   ]
  },
  {
   "cell_type": "code",
   "execution_count": 79,
   "id": "191a45d3",
   "metadata": {},
   "outputs": [],
   "source": [
    "code_desc = pd.concat([diag_desc, proc_desc])\n",
    "code_desc.to_csv(data_path + 'D_ICD.csv', index=False,\n",
    "               columns=['ICD9_CODE','LONG_TITLE'],\n",
    "               header=['ICD9_CODE','DESC'])"
   ]
  },
  {
   "cell_type": "code",
   "execution_count": 80,
   "id": "356dcd73",
   "metadata": {},
   "outputs": [
    {
     "data": {
      "text/html": [
       "<div>\n",
       "<style scoped>\n",
       "    .dataframe tbody tr th:only-of-type {\n",
       "        vertical-align: middle;\n",
       "    }\n",
       "\n",
       "    .dataframe tbody tr th {\n",
       "        vertical-align: top;\n",
       "    }\n",
       "\n",
       "    .dataframe thead th {\n",
       "        text-align: right;\n",
       "    }\n",
       "</style>\n",
       "<table border=\"1\" class=\"dataframe\">\n",
       "  <thead>\n",
       "    <tr style=\"text-align: right;\">\n",
       "      <th></th>\n",
       "      <th>ICD9_CODE</th>\n",
       "      <th>DESC</th>\n",
       "    </tr>\n",
       "  </thead>\n",
       "  <tbody>\n",
       "    <tr>\n",
       "      <th>0</th>\n",
       "      <td>011.66</td>\n",
       "      <td>Tuberculous pneumonia [any form], tubercle bac...</td>\n",
       "    </tr>\n",
       "    <tr>\n",
       "      <th>1</th>\n",
       "      <td>011.70</td>\n",
       "      <td>Tuberculous pneumothorax, unspecified</td>\n",
       "    </tr>\n",
       "    <tr>\n",
       "      <th>2</th>\n",
       "      <td>011.71</td>\n",
       "      <td>Tuberculous pneumothorax, bacteriological or h...</td>\n",
       "    </tr>\n",
       "    <tr>\n",
       "      <th>3</th>\n",
       "      <td>011.72</td>\n",
       "      <td>Tuberculous pneumothorax, bacteriological or h...</td>\n",
       "    </tr>\n",
       "    <tr>\n",
       "      <th>4</th>\n",
       "      <td>011.73</td>\n",
       "      <td>Tuberculous pneumothorax, tubercle bacilli fou...</td>\n",
       "    </tr>\n",
       "    <tr>\n",
       "      <th>...</th>\n",
       "      <td>...</td>\n",
       "      <td>...</td>\n",
       "    </tr>\n",
       "    <tr>\n",
       "      <th>18444</th>\n",
       "      <td>99.59</td>\n",
       "      <td>Other vaccination and inoculation</td>\n",
       "    </tr>\n",
       "    <tr>\n",
       "      <th>18445</th>\n",
       "      <td>99.60</td>\n",
       "      <td>Cardiopulmonary resuscitation, not otherwise s...</td>\n",
       "    </tr>\n",
       "    <tr>\n",
       "      <th>18446</th>\n",
       "      <td>99.61</td>\n",
       "      <td>Atrial cardioversion</td>\n",
       "    </tr>\n",
       "    <tr>\n",
       "      <th>18447</th>\n",
       "      <td>99.62</td>\n",
       "      <td>Other electric countershock of heart</td>\n",
       "    </tr>\n",
       "    <tr>\n",
       "      <th>18448</th>\n",
       "      <td>99.63</td>\n",
       "      <td>Closed chest cardiac massage</td>\n",
       "    </tr>\n",
       "  </tbody>\n",
       "</table>\n",
       "<p>18449 rows × 2 columns</p>\n",
       "</div>"
      ],
      "text/plain": [
       "      ICD9_CODE                                               DESC\n",
       "0        011.66  Tuberculous pneumonia [any form], tubercle bac...\n",
       "1        011.70              Tuberculous pneumothorax, unspecified\n",
       "2        011.71  Tuberculous pneumothorax, bacteriological or h...\n",
       "3        011.72  Tuberculous pneumothorax, bacteriological or h...\n",
       "4        011.73  Tuberculous pneumothorax, tubercle bacilli fou...\n",
       "...         ...                                                ...\n",
       "18444     99.59                  Other vaccination and inoculation\n",
       "18445     99.60  Cardiopulmonary resuscitation, not otherwise s...\n",
       "18446     99.61                               Atrial cardioversion\n",
       "18447     99.62               Other electric countershock of heart\n",
       "18448     99.63                       Closed chest cardiac massage\n",
       "\n",
       "[18449 rows x 2 columns]"
      ]
     },
     "execution_count": 80,
     "metadata": {},
     "output_type": "execute_result"
    }
   ],
   "source": [
    "code_desc = pd.read_csv(data_path + 'D_ICD.csv',dtype={\"ICD9_CODE\": str})\n",
    "code_desc"
   ]
  },
  {
   "cell_type": "code",
   "execution_count": 81,
   "id": "86c62d00",
   "metadata": {},
   "outputs": [
    {
     "data": {
      "text/plain": [
       "18376"
      ]
     },
     "execution_count": 81,
     "metadata": {},
     "output_type": "execute_result"
    }
   ],
   "source": [
    "len(code_desc['ICD9_CODE'].unique())"
   ]
  },
  {
   "cell_type": "code",
   "execution_count": 82,
   "id": "c5618ffd",
   "metadata": {},
   "outputs": [],
   "source": [
    "code_desc_full = code_desc.loc[code_desc['ICD9_CODE'].isin(full_codes)]"
   ]
  },
  {
   "cell_type": "code",
   "execution_count": 83,
   "id": "1e96b158",
   "metadata": {},
   "outputs": [
    {
     "data": {
      "text/html": [
       "<div>\n",
       "<style scoped>\n",
       "    .dataframe tbody tr th:only-of-type {\n",
       "        vertical-align: middle;\n",
       "    }\n",
       "\n",
       "    .dataframe tbody tr th {\n",
       "        vertical-align: top;\n",
       "    }\n",
       "\n",
       "    .dataframe thead th {\n",
       "        text-align: right;\n",
       "    }\n",
       "</style>\n",
       "<table border=\"1\" class=\"dataframe\">\n",
       "  <thead>\n",
       "    <tr style=\"text-align: right;\">\n",
       "      <th></th>\n",
       "      <th>ICD9_CODE</th>\n",
       "      <th>DESC</th>\n",
       "    </tr>\n",
       "  </thead>\n",
       "  <tbody>\n",
       "    <tr>\n",
       "      <th>14</th>\n",
       "      <td>011.86</td>\n",
       "      <td>Other specified pulmonary tuberculosis, tuberc...</td>\n",
       "    </tr>\n",
       "    <tr>\n",
       "      <th>15</th>\n",
       "      <td>011.90</td>\n",
       "      <td>Pulmonary tuberculosis, unspecified, unspecified</td>\n",
       "    </tr>\n",
       "    <tr>\n",
       "      <th>18</th>\n",
       "      <td>011.93</td>\n",
       "      <td>Pulmonary tuberculosis, unspecified, tubercle ...</td>\n",
       "    </tr>\n",
       "    <tr>\n",
       "      <th>19</th>\n",
       "      <td>011.94</td>\n",
       "      <td>Pulmonary tuberculosis, unspecified, tubercle ...</td>\n",
       "    </tr>\n",
       "    <tr>\n",
       "      <th>27</th>\n",
       "      <td>012.05</td>\n",
       "      <td>Tuberculous pleurisy, tubercle bacilli not fou...</td>\n",
       "    </tr>\n",
       "    <tr>\n",
       "      <th>...</th>\n",
       "      <td>...</td>\n",
       "      <td>...</td>\n",
       "    </tr>\n",
       "    <tr>\n",
       "      <th>18444</th>\n",
       "      <td>99.59</td>\n",
       "      <td>Other vaccination and inoculation</td>\n",
       "    </tr>\n",
       "    <tr>\n",
       "      <th>18445</th>\n",
       "      <td>99.60</td>\n",
       "      <td>Cardiopulmonary resuscitation, not otherwise s...</td>\n",
       "    </tr>\n",
       "    <tr>\n",
       "      <th>18446</th>\n",
       "      <td>99.61</td>\n",
       "      <td>Atrial cardioversion</td>\n",
       "    </tr>\n",
       "    <tr>\n",
       "      <th>18447</th>\n",
       "      <td>99.62</td>\n",
       "      <td>Other electric countershock of heart</td>\n",
       "    </tr>\n",
       "    <tr>\n",
       "      <th>18448</th>\n",
       "      <td>99.63</td>\n",
       "      <td>Closed chest cardiac massage</td>\n",
       "    </tr>\n",
       "  </tbody>\n",
       "</table>\n",
       "<p>8812 rows × 2 columns</p>\n",
       "</div>"
      ],
      "text/plain": [
       "      ICD9_CODE                                               DESC\n",
       "14       011.86  Other specified pulmonary tuberculosis, tuberc...\n",
       "15       011.90   Pulmonary tuberculosis, unspecified, unspecified\n",
       "18       011.93  Pulmonary tuberculosis, unspecified, tubercle ...\n",
       "19       011.94  Pulmonary tuberculosis, unspecified, tubercle ...\n",
       "27       012.05  Tuberculous pleurisy, tubercle bacilli not fou...\n",
       "...         ...                                                ...\n",
       "18444     99.59                  Other vaccination and inoculation\n",
       "18445     99.60  Cardiopulmonary resuscitation, not otherwise s...\n",
       "18446     99.61                               Atrial cardioversion\n",
       "18447     99.62               Other electric countershock of heart\n",
       "18448     99.63                       Closed chest cardiac massage\n",
       "\n",
       "[8812 rows x 2 columns]"
      ]
     },
     "execution_count": 83,
     "metadata": {},
     "output_type": "execute_result"
    }
   ],
   "source": [
    "code_desc_full"
   ]
  },
  {
   "cell_type": "code",
   "execution_count": 84,
   "id": "7a4e350f",
   "metadata": {},
   "outputs": [],
   "source": [
    "fcodes = code_desc_full['ICD9_CODE'].unique()"
   ]
  },
  {
   "cell_type": "code",
   "execution_count": 85,
   "id": "c6095cb8",
   "metadata": {},
   "outputs": [
    {
     "data": {
      "text/plain": [
       "8751"
      ]
     },
     "execution_count": 85,
     "metadata": {},
     "output_type": "execute_result"
    }
   ],
   "source": [
    "len(fcodes)"
   ]
  },
  {
   "cell_type": "code",
   "execution_count": 86,
   "id": "b94e3b3b",
   "metadata": {},
   "outputs": [],
   "source": [
    "ncodes = []\n",
    "for code in ccodes:\n",
    "    if code not in fcodes:\n",
    "        ncodes.append(code)"
   ]
  },
  {
   "cell_type": "code",
   "execution_count": 87,
   "id": "6d61ea1e",
   "metadata": {},
   "outputs": [
    {
     "data": {
      "text/plain": [
       "156"
      ]
     },
     "execution_count": 87,
     "metadata": {},
     "output_type": "execute_result"
    }
   ],
   "source": [
    "len(ncodes)"
   ]
  },
  {
   "cell_type": "code",
   "execution_count": 88,
   "id": "00ed9810",
   "metadata": {},
   "outputs": [],
   "source": [
    "code_desc_full.to_csv(data_path + 'D_ICD_full.csv', index=False)"
   ]
  },
  {
   "cell_type": "code",
   "execution_count": 89,
   "id": "cb2e3384",
   "metadata": {},
   "outputs": [
    {
     "data": {
      "text/plain": [
       "'malaria unspecified'"
      ]
     },
     "execution_count": 89,
     "metadata": {},
     "output_type": "execute_result"
    }
   ],
   "source": [
    "tokenizer = RegexpTokenizer(r'\\w+')\n",
    "def preprocess_desc(desc):\n",
    "    ds = desc\n",
    "    ds = ds.replace('\\n',' ')\n",
    "    ds = ds.replace('\\r',' ')\n",
    "    ds = re.sub(' +',' ',ds)\n",
    "    ds = re.sub('{\\(,\\),\\[,\\]}','',ds)\n",
    "    ds = ds.strip()\n",
    "    tokens = [t.lower() for t in tokenizer.tokenize(ds)]\n",
    "    ds = ' '.join(tokens)\n",
    "    return ds\n",
    "preprocess_desc(code_desc_full.iloc[39,-1])"
   ]
  },
  {
   "cell_type": "code",
   "execution_count": 90,
   "id": "0016daee",
   "metadata": {},
   "outputs": [
    {
     "name": "stderr",
     "output_type": "stream",
     "text": [
      "/var/tmp/pbs.14325.master/ipykernel_3353888/165692273.py:1: SettingWithCopyWarning: \n",
      "A value is trying to be set on a copy of a slice from a DataFrame.\n",
      "Try using .loc[row_indexer,col_indexer] = value instead\n",
      "\n",
      "See the caveats in the documentation: https://pandas.pydata.org/pandas-docs/stable/user_guide/indexing.html#returning-a-view-versus-a-copy\n",
      "  code_desc_full['DESC'] = code_desc_full.apply(lambda row: str(preprocess_desc(row[-1])), axis=1)\n"
     ]
    }
   ],
   "source": [
    "code_desc_full['DESC'] = code_desc_full.apply(lambda row: str(preprocess_desc(row[-1])), axis=1)"
   ]
  },
  {
   "cell_type": "code",
   "execution_count": 91,
   "id": "a624ee73",
   "metadata": {},
   "outputs": [],
   "source": [
    "# code_desc_full = code_desc_full.drop(['ROW_ID','SHORT_TITLE','LONG_TITLE'], axis=1)"
   ]
  },
  {
   "cell_type": "code",
   "execution_count": 92,
   "id": "4a9ee859",
   "metadata": {},
   "outputs": [
    {
     "data": {
      "text/html": [
       "<div>\n",
       "<style scoped>\n",
       "    .dataframe tbody tr th:only-of-type {\n",
       "        vertical-align: middle;\n",
       "    }\n",
       "\n",
       "    .dataframe tbody tr th {\n",
       "        vertical-align: top;\n",
       "    }\n",
       "\n",
       "    .dataframe thead th {\n",
       "        text-align: right;\n",
       "    }\n",
       "</style>\n",
       "<table border=\"1\" class=\"dataframe\">\n",
       "  <thead>\n",
       "    <tr style=\"text-align: right;\">\n",
       "      <th></th>\n",
       "      <th>ICD9_CODE</th>\n",
       "      <th>DESC</th>\n",
       "    </tr>\n",
       "  </thead>\n",
       "  <tbody>\n",
       "    <tr>\n",
       "      <th>14</th>\n",
       "      <td>011.86</td>\n",
       "      <td>other specified pulmonary tuberculosis tubercl...</td>\n",
       "    </tr>\n",
       "    <tr>\n",
       "      <th>15</th>\n",
       "      <td>011.90</td>\n",
       "      <td>pulmonary tuberculosis unspecified unspecified</td>\n",
       "    </tr>\n",
       "    <tr>\n",
       "      <th>18</th>\n",
       "      <td>011.93</td>\n",
       "      <td>pulmonary tuberculosis unspecified tubercle ba...</td>\n",
       "    </tr>\n",
       "    <tr>\n",
       "      <th>19</th>\n",
       "      <td>011.94</td>\n",
       "      <td>pulmonary tuberculosis unspecified tubercle ba...</td>\n",
       "    </tr>\n",
       "    <tr>\n",
       "      <th>27</th>\n",
       "      <td>012.05</td>\n",
       "      <td>tuberculous pleurisy tubercle bacilli not foun...</td>\n",
       "    </tr>\n",
       "    <tr>\n",
       "      <th>...</th>\n",
       "      <td>...</td>\n",
       "      <td>...</td>\n",
       "    </tr>\n",
       "    <tr>\n",
       "      <th>18444</th>\n",
       "      <td>99.59</td>\n",
       "      <td>other vaccination and inoculation</td>\n",
       "    </tr>\n",
       "    <tr>\n",
       "      <th>18445</th>\n",
       "      <td>99.60</td>\n",
       "      <td>cardiopulmonary resuscitation not otherwise sp...</td>\n",
       "    </tr>\n",
       "    <tr>\n",
       "      <th>18446</th>\n",
       "      <td>99.61</td>\n",
       "      <td>atrial cardioversion</td>\n",
       "    </tr>\n",
       "    <tr>\n",
       "      <th>18447</th>\n",
       "      <td>99.62</td>\n",
       "      <td>other electric countershock of heart</td>\n",
       "    </tr>\n",
       "    <tr>\n",
       "      <th>18448</th>\n",
       "      <td>99.63</td>\n",
       "      <td>closed chest cardiac massage</td>\n",
       "    </tr>\n",
       "  </tbody>\n",
       "</table>\n",
       "<p>8812 rows × 2 columns</p>\n",
       "</div>"
      ],
      "text/plain": [
       "      ICD9_CODE                                               DESC\n",
       "14       011.86  other specified pulmonary tuberculosis tubercl...\n",
       "15       011.90     pulmonary tuberculosis unspecified unspecified\n",
       "18       011.93  pulmonary tuberculosis unspecified tubercle ba...\n",
       "19       011.94  pulmonary tuberculosis unspecified tubercle ba...\n",
       "27       012.05  tuberculous pleurisy tubercle bacilli not foun...\n",
       "...         ...                                                ...\n",
       "18444     99.59                  other vaccination and inoculation\n",
       "18445     99.60  cardiopulmonary resuscitation not otherwise sp...\n",
       "18446     99.61                               atrial cardioversion\n",
       "18447     99.62               other electric countershock of heart\n",
       "18448     99.63                       closed chest cardiac massage\n",
       "\n",
       "[8812 rows x 2 columns]"
      ]
     },
     "execution_count": 92,
     "metadata": {},
     "output_type": "execute_result"
    }
   ],
   "source": [
    "code_desc_full"
   ]
  },
  {
   "cell_type": "code",
   "execution_count": 93,
   "id": "bd026126",
   "metadata": {},
   "outputs": [
    {
     "name": "stderr",
     "output_type": "stream",
     "text": [
      "/var/tmp/pbs.14325.master/ipykernel_3353888/1976585064.py:3: FutureWarning: The frame.append method is deprecated and will be removed from pandas in a future version. Use pandas.concat instead.\n",
      "  code_desc_full = code_desc_full.append(df, ignore_index = True)\n",
      "/var/tmp/pbs.14325.master/ipykernel_3353888/1976585064.py:3: FutureWarning: The frame.append method is deprecated and will be removed from pandas in a future version. Use pandas.concat instead.\n",
      "  code_desc_full = code_desc_full.append(df, ignore_index = True)\n",
      "/var/tmp/pbs.14325.master/ipykernel_3353888/1976585064.py:3: FutureWarning: The frame.append method is deprecated and will be removed from pandas in a future version. Use pandas.concat instead.\n",
      "  code_desc_full = code_desc_full.append(df, ignore_index = True)\n",
      "/var/tmp/pbs.14325.master/ipykernel_3353888/1976585064.py:3: FutureWarning: The frame.append method is deprecated and will be removed from pandas in a future version. Use pandas.concat instead.\n",
      "  code_desc_full = code_desc_full.append(df, ignore_index = True)\n",
      "/var/tmp/pbs.14325.master/ipykernel_3353888/1976585064.py:3: FutureWarning: The frame.append method is deprecated and will be removed from pandas in a future version. Use pandas.concat instead.\n",
      "  code_desc_full = code_desc_full.append(df, ignore_index = True)\n",
      "/var/tmp/pbs.14325.master/ipykernel_3353888/1976585064.py:3: FutureWarning: The frame.append method is deprecated and will be removed from pandas in a future version. Use pandas.concat instead.\n",
      "  code_desc_full = code_desc_full.append(df, ignore_index = True)\n",
      "/var/tmp/pbs.14325.master/ipykernel_3353888/1976585064.py:3: FutureWarning: The frame.append method is deprecated and will be removed from pandas in a future version. Use pandas.concat instead.\n",
      "  code_desc_full = code_desc_full.append(df, ignore_index = True)\n",
      "/var/tmp/pbs.14325.master/ipykernel_3353888/1976585064.py:3: FutureWarning: The frame.append method is deprecated and will be removed from pandas in a future version. Use pandas.concat instead.\n",
      "  code_desc_full = code_desc_full.append(df, ignore_index = True)\n",
      "/var/tmp/pbs.14325.master/ipykernel_3353888/1976585064.py:3: FutureWarning: The frame.append method is deprecated and will be removed from pandas in a future version. Use pandas.concat instead.\n",
      "  code_desc_full = code_desc_full.append(df, ignore_index = True)\n",
      "/var/tmp/pbs.14325.master/ipykernel_3353888/1976585064.py:3: FutureWarning: The frame.append method is deprecated and will be removed from pandas in a future version. Use pandas.concat instead.\n",
      "  code_desc_full = code_desc_full.append(df, ignore_index = True)\n",
      "/var/tmp/pbs.14325.master/ipykernel_3353888/1976585064.py:3: FutureWarning: The frame.append method is deprecated and will be removed from pandas in a future version. Use pandas.concat instead.\n",
      "  code_desc_full = code_desc_full.append(df, ignore_index = True)\n",
      "/var/tmp/pbs.14325.master/ipykernel_3353888/1976585064.py:3: FutureWarning: The frame.append method is deprecated and will be removed from pandas in a future version. Use pandas.concat instead.\n",
      "  code_desc_full = code_desc_full.append(df, ignore_index = True)\n",
      "/var/tmp/pbs.14325.master/ipykernel_3353888/1976585064.py:3: FutureWarning: The frame.append method is deprecated and will be removed from pandas in a future version. Use pandas.concat instead.\n",
      "  code_desc_full = code_desc_full.append(df, ignore_index = True)\n",
      "/var/tmp/pbs.14325.master/ipykernel_3353888/1976585064.py:3: FutureWarning: The frame.append method is deprecated and will be removed from pandas in a future version. Use pandas.concat instead.\n",
      "  code_desc_full = code_desc_full.append(df, ignore_index = True)\n",
      "/var/tmp/pbs.14325.master/ipykernel_3353888/1976585064.py:3: FutureWarning: The frame.append method is deprecated and will be removed from pandas in a future version. Use pandas.concat instead.\n",
      "  code_desc_full = code_desc_full.append(df, ignore_index = True)\n",
      "/var/tmp/pbs.14325.master/ipykernel_3353888/1976585064.py:3: FutureWarning: The frame.append method is deprecated and will be removed from pandas in a future version. Use pandas.concat instead.\n",
      "  code_desc_full = code_desc_full.append(df, ignore_index = True)\n",
      "/var/tmp/pbs.14325.master/ipykernel_3353888/1976585064.py:3: FutureWarning: The frame.append method is deprecated and will be removed from pandas in a future version. Use pandas.concat instead.\n",
      "  code_desc_full = code_desc_full.append(df, ignore_index = True)\n",
      "/var/tmp/pbs.14325.master/ipykernel_3353888/1976585064.py:3: FutureWarning: The frame.append method is deprecated and will be removed from pandas in a future version. Use pandas.concat instead.\n",
      "  code_desc_full = code_desc_full.append(df, ignore_index = True)\n",
      "/var/tmp/pbs.14325.master/ipykernel_3353888/1976585064.py:3: FutureWarning: The frame.append method is deprecated and will be removed from pandas in a future version. Use pandas.concat instead.\n",
      "  code_desc_full = code_desc_full.append(df, ignore_index = True)\n",
      "/var/tmp/pbs.14325.master/ipykernel_3353888/1976585064.py:3: FutureWarning: The frame.append method is deprecated and will be removed from pandas in a future version. Use pandas.concat instead.\n",
      "  code_desc_full = code_desc_full.append(df, ignore_index = True)\n",
      "/var/tmp/pbs.14325.master/ipykernel_3353888/1976585064.py:3: FutureWarning: The frame.append method is deprecated and will be removed from pandas in a future version. Use pandas.concat instead.\n",
      "  code_desc_full = code_desc_full.append(df, ignore_index = True)\n",
      "/var/tmp/pbs.14325.master/ipykernel_3353888/1976585064.py:3: FutureWarning: The frame.append method is deprecated and will be removed from pandas in a future version. Use pandas.concat instead.\n",
      "  code_desc_full = code_desc_full.append(df, ignore_index = True)\n",
      "/var/tmp/pbs.14325.master/ipykernel_3353888/1976585064.py:3: FutureWarning: The frame.append method is deprecated and will be removed from pandas in a future version. Use pandas.concat instead.\n",
      "  code_desc_full = code_desc_full.append(df, ignore_index = True)\n",
      "/var/tmp/pbs.14325.master/ipykernel_3353888/1976585064.py:3: FutureWarning: The frame.append method is deprecated and will be removed from pandas in a future version. Use pandas.concat instead.\n",
      "  code_desc_full = code_desc_full.append(df, ignore_index = True)\n",
      "/var/tmp/pbs.14325.master/ipykernel_3353888/1976585064.py:3: FutureWarning: The frame.append method is deprecated and will be removed from pandas in a future version. Use pandas.concat instead.\n",
      "  code_desc_full = code_desc_full.append(df, ignore_index = True)\n",
      "/var/tmp/pbs.14325.master/ipykernel_3353888/1976585064.py:3: FutureWarning: The frame.append method is deprecated and will be removed from pandas in a future version. Use pandas.concat instead.\n",
      "  code_desc_full = code_desc_full.append(df, ignore_index = True)\n",
      "/var/tmp/pbs.14325.master/ipykernel_3353888/1976585064.py:3: FutureWarning: The frame.append method is deprecated and will be removed from pandas in a future version. Use pandas.concat instead.\n",
      "  code_desc_full = code_desc_full.append(df, ignore_index = True)\n",
      "/var/tmp/pbs.14325.master/ipykernel_3353888/1976585064.py:3: FutureWarning: The frame.append method is deprecated and will be removed from pandas in a future version. Use pandas.concat instead.\n",
      "  code_desc_full = code_desc_full.append(df, ignore_index = True)\n",
      "/var/tmp/pbs.14325.master/ipykernel_3353888/1976585064.py:3: FutureWarning: The frame.append method is deprecated and will be removed from pandas in a future version. Use pandas.concat instead.\n",
      "  code_desc_full = code_desc_full.append(df, ignore_index = True)\n",
      "/var/tmp/pbs.14325.master/ipykernel_3353888/1976585064.py:3: FutureWarning: The frame.append method is deprecated and will be removed from pandas in a future version. Use pandas.concat instead.\n",
      "  code_desc_full = code_desc_full.append(df, ignore_index = True)\n",
      "/var/tmp/pbs.14325.master/ipykernel_3353888/1976585064.py:3: FutureWarning: The frame.append method is deprecated and will be removed from pandas in a future version. Use pandas.concat instead.\n",
      "  code_desc_full = code_desc_full.append(df, ignore_index = True)\n",
      "/var/tmp/pbs.14325.master/ipykernel_3353888/1976585064.py:3: FutureWarning: The frame.append method is deprecated and will be removed from pandas in a future version. Use pandas.concat instead.\n",
      "  code_desc_full = code_desc_full.append(df, ignore_index = True)\n",
      "/var/tmp/pbs.14325.master/ipykernel_3353888/1976585064.py:3: FutureWarning: The frame.append method is deprecated and will be removed from pandas in a future version. Use pandas.concat instead.\n",
      "  code_desc_full = code_desc_full.append(df, ignore_index = True)\n",
      "/var/tmp/pbs.14325.master/ipykernel_3353888/1976585064.py:3: FutureWarning: The frame.append method is deprecated and will be removed from pandas in a future version. Use pandas.concat instead.\n",
      "  code_desc_full = code_desc_full.append(df, ignore_index = True)\n",
      "/var/tmp/pbs.14325.master/ipykernel_3353888/1976585064.py:3: FutureWarning: The frame.append method is deprecated and will be removed from pandas in a future version. Use pandas.concat instead.\n",
      "  code_desc_full = code_desc_full.append(df, ignore_index = True)\n",
      "/var/tmp/pbs.14325.master/ipykernel_3353888/1976585064.py:3: FutureWarning: The frame.append method is deprecated and will be removed from pandas in a future version. Use pandas.concat instead.\n",
      "  code_desc_full = code_desc_full.append(df, ignore_index = True)\n",
      "/var/tmp/pbs.14325.master/ipykernel_3353888/1976585064.py:3: FutureWarning: The frame.append method is deprecated and will be removed from pandas in a future version. Use pandas.concat instead.\n",
      "  code_desc_full = code_desc_full.append(df, ignore_index = True)\n",
      "/var/tmp/pbs.14325.master/ipykernel_3353888/1976585064.py:3: FutureWarning: The frame.append method is deprecated and will be removed from pandas in a future version. Use pandas.concat instead.\n",
      "  code_desc_full = code_desc_full.append(df, ignore_index = True)\n",
      "/var/tmp/pbs.14325.master/ipykernel_3353888/1976585064.py:3: FutureWarning: The frame.append method is deprecated and will be removed from pandas in a future version. Use pandas.concat instead.\n",
      "  code_desc_full = code_desc_full.append(df, ignore_index = True)\n",
      "/var/tmp/pbs.14325.master/ipykernel_3353888/1976585064.py:3: FutureWarning: The frame.append method is deprecated and will be removed from pandas in a future version. Use pandas.concat instead.\n",
      "  code_desc_full = code_desc_full.append(df, ignore_index = True)\n",
      "/var/tmp/pbs.14325.master/ipykernel_3353888/1976585064.py:3: FutureWarning: The frame.append method is deprecated and will be removed from pandas in a future version. Use pandas.concat instead.\n",
      "  code_desc_full = code_desc_full.append(df, ignore_index = True)\n",
      "/var/tmp/pbs.14325.master/ipykernel_3353888/1976585064.py:3: FutureWarning: The frame.append method is deprecated and will be removed from pandas in a future version. Use pandas.concat instead.\n",
      "  code_desc_full = code_desc_full.append(df, ignore_index = True)\n",
      "/var/tmp/pbs.14325.master/ipykernel_3353888/1976585064.py:3: FutureWarning: The frame.append method is deprecated and will be removed from pandas in a future version. Use pandas.concat instead.\n",
      "  code_desc_full = code_desc_full.append(df, ignore_index = True)\n",
      "/var/tmp/pbs.14325.master/ipykernel_3353888/1976585064.py:3: FutureWarning: The frame.append method is deprecated and will be removed from pandas in a future version. Use pandas.concat instead.\n",
      "  code_desc_full = code_desc_full.append(df, ignore_index = True)\n",
      "/var/tmp/pbs.14325.master/ipykernel_3353888/1976585064.py:3: FutureWarning: The frame.append method is deprecated and will be removed from pandas in a future version. Use pandas.concat instead.\n",
      "  code_desc_full = code_desc_full.append(df, ignore_index = True)\n",
      "/var/tmp/pbs.14325.master/ipykernel_3353888/1976585064.py:3: FutureWarning: The frame.append method is deprecated and will be removed from pandas in a future version. Use pandas.concat instead.\n",
      "  code_desc_full = code_desc_full.append(df, ignore_index = True)\n",
      "/var/tmp/pbs.14325.master/ipykernel_3353888/1976585064.py:3: FutureWarning: The frame.append method is deprecated and will be removed from pandas in a future version. Use pandas.concat instead.\n",
      "  code_desc_full = code_desc_full.append(df, ignore_index = True)\n",
      "/var/tmp/pbs.14325.master/ipykernel_3353888/1976585064.py:3: FutureWarning: The frame.append method is deprecated and will be removed from pandas in a future version. Use pandas.concat instead.\n",
      "  code_desc_full = code_desc_full.append(df, ignore_index = True)\n",
      "/var/tmp/pbs.14325.master/ipykernel_3353888/1976585064.py:3: FutureWarning: The frame.append method is deprecated and will be removed from pandas in a future version. Use pandas.concat instead.\n",
      "  code_desc_full = code_desc_full.append(df, ignore_index = True)\n",
      "/var/tmp/pbs.14325.master/ipykernel_3353888/1976585064.py:3: FutureWarning: The frame.append method is deprecated and will be removed from pandas in a future version. Use pandas.concat instead.\n",
      "  code_desc_full = code_desc_full.append(df, ignore_index = True)\n",
      "/var/tmp/pbs.14325.master/ipykernel_3353888/1976585064.py:3: FutureWarning: The frame.append method is deprecated and will be removed from pandas in a future version. Use pandas.concat instead.\n",
      "  code_desc_full = code_desc_full.append(df, ignore_index = True)\n",
      "/var/tmp/pbs.14325.master/ipykernel_3353888/1976585064.py:3: FutureWarning: The frame.append method is deprecated and will be removed from pandas in a future version. Use pandas.concat instead.\n",
      "  code_desc_full = code_desc_full.append(df, ignore_index = True)\n",
      "/var/tmp/pbs.14325.master/ipykernel_3353888/1976585064.py:3: FutureWarning: The frame.append method is deprecated and will be removed from pandas in a future version. Use pandas.concat instead.\n",
      "  code_desc_full = code_desc_full.append(df, ignore_index = True)\n",
      "/var/tmp/pbs.14325.master/ipykernel_3353888/1976585064.py:3: FutureWarning: The frame.append method is deprecated and will be removed from pandas in a future version. Use pandas.concat instead.\n",
      "  code_desc_full = code_desc_full.append(df, ignore_index = True)\n",
      "/var/tmp/pbs.14325.master/ipykernel_3353888/1976585064.py:3: FutureWarning: The frame.append method is deprecated and will be removed from pandas in a future version. Use pandas.concat instead.\n",
      "  code_desc_full = code_desc_full.append(df, ignore_index = True)\n",
      "/var/tmp/pbs.14325.master/ipykernel_3353888/1976585064.py:3: FutureWarning: The frame.append method is deprecated and will be removed from pandas in a future version. Use pandas.concat instead.\n",
      "  code_desc_full = code_desc_full.append(df, ignore_index = True)\n",
      "/var/tmp/pbs.14325.master/ipykernel_3353888/1976585064.py:3: FutureWarning: The frame.append method is deprecated and will be removed from pandas in a future version. Use pandas.concat instead.\n",
      "  code_desc_full = code_desc_full.append(df, ignore_index = True)\n",
      "/var/tmp/pbs.14325.master/ipykernel_3353888/1976585064.py:3: FutureWarning: The frame.append method is deprecated and will be removed from pandas in a future version. Use pandas.concat instead.\n",
      "  code_desc_full = code_desc_full.append(df, ignore_index = True)\n",
      "/var/tmp/pbs.14325.master/ipykernel_3353888/1976585064.py:3: FutureWarning: The frame.append method is deprecated and will be removed from pandas in a future version. Use pandas.concat instead.\n",
      "  code_desc_full = code_desc_full.append(df, ignore_index = True)\n",
      "/var/tmp/pbs.14325.master/ipykernel_3353888/1976585064.py:3: FutureWarning: The frame.append method is deprecated and will be removed from pandas in a future version. Use pandas.concat instead.\n",
      "  code_desc_full = code_desc_full.append(df, ignore_index = True)\n",
      "/var/tmp/pbs.14325.master/ipykernel_3353888/1976585064.py:3: FutureWarning: The frame.append method is deprecated and will be removed from pandas in a future version. Use pandas.concat instead.\n",
      "  code_desc_full = code_desc_full.append(df, ignore_index = True)\n",
      "/var/tmp/pbs.14325.master/ipykernel_3353888/1976585064.py:3: FutureWarning: The frame.append method is deprecated and will be removed from pandas in a future version. Use pandas.concat instead.\n",
      "  code_desc_full = code_desc_full.append(df, ignore_index = True)\n",
      "/var/tmp/pbs.14325.master/ipykernel_3353888/1976585064.py:3: FutureWarning: The frame.append method is deprecated and will be removed from pandas in a future version. Use pandas.concat instead.\n",
      "  code_desc_full = code_desc_full.append(df, ignore_index = True)\n",
      "/var/tmp/pbs.14325.master/ipykernel_3353888/1976585064.py:3: FutureWarning: The frame.append method is deprecated and will be removed from pandas in a future version. Use pandas.concat instead.\n",
      "  code_desc_full = code_desc_full.append(df, ignore_index = True)\n",
      "/var/tmp/pbs.14325.master/ipykernel_3353888/1976585064.py:3: FutureWarning: The frame.append method is deprecated and will be removed from pandas in a future version. Use pandas.concat instead.\n",
      "  code_desc_full = code_desc_full.append(df, ignore_index = True)\n",
      "/var/tmp/pbs.14325.master/ipykernel_3353888/1976585064.py:3: FutureWarning: The frame.append method is deprecated and will be removed from pandas in a future version. Use pandas.concat instead.\n",
      "  code_desc_full = code_desc_full.append(df, ignore_index = True)\n",
      "/var/tmp/pbs.14325.master/ipykernel_3353888/1976585064.py:3: FutureWarning: The frame.append method is deprecated and will be removed from pandas in a future version. Use pandas.concat instead.\n",
      "  code_desc_full = code_desc_full.append(df, ignore_index = True)\n",
      "/var/tmp/pbs.14325.master/ipykernel_3353888/1976585064.py:3: FutureWarning: The frame.append method is deprecated and will be removed from pandas in a future version. Use pandas.concat instead.\n",
      "  code_desc_full = code_desc_full.append(df, ignore_index = True)\n",
      "/var/tmp/pbs.14325.master/ipykernel_3353888/1976585064.py:3: FutureWarning: The frame.append method is deprecated and will be removed from pandas in a future version. Use pandas.concat instead.\n",
      "  code_desc_full = code_desc_full.append(df, ignore_index = True)\n",
      "/var/tmp/pbs.14325.master/ipykernel_3353888/1976585064.py:3: FutureWarning: The frame.append method is deprecated and will be removed from pandas in a future version. Use pandas.concat instead.\n",
      "  code_desc_full = code_desc_full.append(df, ignore_index = True)\n",
      "/var/tmp/pbs.14325.master/ipykernel_3353888/1976585064.py:3: FutureWarning: The frame.append method is deprecated and will be removed from pandas in a future version. Use pandas.concat instead.\n",
      "  code_desc_full = code_desc_full.append(df, ignore_index = True)\n",
      "/var/tmp/pbs.14325.master/ipykernel_3353888/1976585064.py:3: FutureWarning: The frame.append method is deprecated and will be removed from pandas in a future version. Use pandas.concat instead.\n",
      "  code_desc_full = code_desc_full.append(df, ignore_index = True)\n",
      "/var/tmp/pbs.14325.master/ipykernel_3353888/1976585064.py:3: FutureWarning: The frame.append method is deprecated and will be removed from pandas in a future version. Use pandas.concat instead.\n",
      "  code_desc_full = code_desc_full.append(df, ignore_index = True)\n",
      "/var/tmp/pbs.14325.master/ipykernel_3353888/1976585064.py:3: FutureWarning: The frame.append method is deprecated and will be removed from pandas in a future version. Use pandas.concat instead.\n",
      "  code_desc_full = code_desc_full.append(df, ignore_index = True)\n",
      "/var/tmp/pbs.14325.master/ipykernel_3353888/1976585064.py:3: FutureWarning: The frame.append method is deprecated and will be removed from pandas in a future version. Use pandas.concat instead.\n",
      "  code_desc_full = code_desc_full.append(df, ignore_index = True)\n",
      "/var/tmp/pbs.14325.master/ipykernel_3353888/1976585064.py:3: FutureWarning: The frame.append method is deprecated and will be removed from pandas in a future version. Use pandas.concat instead.\n",
      "  code_desc_full = code_desc_full.append(df, ignore_index = True)\n",
      "/var/tmp/pbs.14325.master/ipykernel_3353888/1976585064.py:3: FutureWarning: The frame.append method is deprecated and will be removed from pandas in a future version. Use pandas.concat instead.\n",
      "  code_desc_full = code_desc_full.append(df, ignore_index = True)\n",
      "/var/tmp/pbs.14325.master/ipykernel_3353888/1976585064.py:3: FutureWarning: The frame.append method is deprecated and will be removed from pandas in a future version. Use pandas.concat instead.\n",
      "  code_desc_full = code_desc_full.append(df, ignore_index = True)\n",
      "/var/tmp/pbs.14325.master/ipykernel_3353888/1976585064.py:3: FutureWarning: The frame.append method is deprecated and will be removed from pandas in a future version. Use pandas.concat instead.\n",
      "  code_desc_full = code_desc_full.append(df, ignore_index = True)\n",
      "/var/tmp/pbs.14325.master/ipykernel_3353888/1976585064.py:3: FutureWarning: The frame.append method is deprecated and will be removed from pandas in a future version. Use pandas.concat instead.\n",
      "  code_desc_full = code_desc_full.append(df, ignore_index = True)\n",
      "/var/tmp/pbs.14325.master/ipykernel_3353888/1976585064.py:3: FutureWarning: The frame.append method is deprecated and will be removed from pandas in a future version. Use pandas.concat instead.\n",
      "  code_desc_full = code_desc_full.append(df, ignore_index = True)\n",
      "/var/tmp/pbs.14325.master/ipykernel_3353888/1976585064.py:3: FutureWarning: The frame.append method is deprecated and will be removed from pandas in a future version. Use pandas.concat instead.\n",
      "  code_desc_full = code_desc_full.append(df, ignore_index = True)\n",
      "/var/tmp/pbs.14325.master/ipykernel_3353888/1976585064.py:3: FutureWarning: The frame.append method is deprecated and will be removed from pandas in a future version. Use pandas.concat instead.\n",
      "  code_desc_full = code_desc_full.append(df, ignore_index = True)\n",
      "/var/tmp/pbs.14325.master/ipykernel_3353888/1976585064.py:3: FutureWarning: The frame.append method is deprecated and will be removed from pandas in a future version. Use pandas.concat instead.\n",
      "  code_desc_full = code_desc_full.append(df, ignore_index = True)\n",
      "/var/tmp/pbs.14325.master/ipykernel_3353888/1976585064.py:3: FutureWarning: The frame.append method is deprecated and will be removed from pandas in a future version. Use pandas.concat instead.\n",
      "  code_desc_full = code_desc_full.append(df, ignore_index = True)\n",
      "/var/tmp/pbs.14325.master/ipykernel_3353888/1976585064.py:3: FutureWarning: The frame.append method is deprecated and will be removed from pandas in a future version. Use pandas.concat instead.\n",
      "  code_desc_full = code_desc_full.append(df, ignore_index = True)\n",
      "/var/tmp/pbs.14325.master/ipykernel_3353888/1976585064.py:3: FutureWarning: The frame.append method is deprecated and will be removed from pandas in a future version. Use pandas.concat instead.\n",
      "  code_desc_full = code_desc_full.append(df, ignore_index = True)\n",
      "/var/tmp/pbs.14325.master/ipykernel_3353888/1976585064.py:3: FutureWarning: The frame.append method is deprecated and will be removed from pandas in a future version. Use pandas.concat instead.\n",
      "  code_desc_full = code_desc_full.append(df, ignore_index = True)\n",
      "/var/tmp/pbs.14325.master/ipykernel_3353888/1976585064.py:3: FutureWarning: The frame.append method is deprecated and will be removed from pandas in a future version. Use pandas.concat instead.\n",
      "  code_desc_full = code_desc_full.append(df, ignore_index = True)\n",
      "/var/tmp/pbs.14325.master/ipykernel_3353888/1976585064.py:3: FutureWarning: The frame.append method is deprecated and will be removed from pandas in a future version. Use pandas.concat instead.\n",
      "  code_desc_full = code_desc_full.append(df, ignore_index = True)\n",
      "/var/tmp/pbs.14325.master/ipykernel_3353888/1976585064.py:3: FutureWarning: The frame.append method is deprecated and will be removed from pandas in a future version. Use pandas.concat instead.\n",
      "  code_desc_full = code_desc_full.append(df, ignore_index = True)\n",
      "/var/tmp/pbs.14325.master/ipykernel_3353888/1976585064.py:3: FutureWarning: The frame.append method is deprecated and will be removed from pandas in a future version. Use pandas.concat instead.\n",
      "  code_desc_full = code_desc_full.append(df, ignore_index = True)\n",
      "/var/tmp/pbs.14325.master/ipykernel_3353888/1976585064.py:3: FutureWarning: The frame.append method is deprecated and will be removed from pandas in a future version. Use pandas.concat instead.\n",
      "  code_desc_full = code_desc_full.append(df, ignore_index = True)\n",
      "/var/tmp/pbs.14325.master/ipykernel_3353888/1976585064.py:3: FutureWarning: The frame.append method is deprecated and will be removed from pandas in a future version. Use pandas.concat instead.\n",
      "  code_desc_full = code_desc_full.append(df, ignore_index = True)\n",
      "/var/tmp/pbs.14325.master/ipykernel_3353888/1976585064.py:3: FutureWarning: The frame.append method is deprecated and will be removed from pandas in a future version. Use pandas.concat instead.\n",
      "  code_desc_full = code_desc_full.append(df, ignore_index = True)\n",
      "/var/tmp/pbs.14325.master/ipykernel_3353888/1976585064.py:3: FutureWarning: The frame.append method is deprecated and will be removed from pandas in a future version. Use pandas.concat instead.\n",
      "  code_desc_full = code_desc_full.append(df, ignore_index = True)\n",
      "/var/tmp/pbs.14325.master/ipykernel_3353888/1976585064.py:3: FutureWarning: The frame.append method is deprecated and will be removed from pandas in a future version. Use pandas.concat instead.\n",
      "  code_desc_full = code_desc_full.append(df, ignore_index = True)\n",
      "/var/tmp/pbs.14325.master/ipykernel_3353888/1976585064.py:3: FutureWarning: The frame.append method is deprecated and will be removed from pandas in a future version. Use pandas.concat instead.\n",
      "  code_desc_full = code_desc_full.append(df, ignore_index = True)\n",
      "/var/tmp/pbs.14325.master/ipykernel_3353888/1976585064.py:3: FutureWarning: The frame.append method is deprecated and will be removed from pandas in a future version. Use pandas.concat instead.\n",
      "  code_desc_full = code_desc_full.append(df, ignore_index = True)\n",
      "/var/tmp/pbs.14325.master/ipykernel_3353888/1976585064.py:3: FutureWarning: The frame.append method is deprecated and will be removed from pandas in a future version. Use pandas.concat instead.\n",
      "  code_desc_full = code_desc_full.append(df, ignore_index = True)\n",
      "/var/tmp/pbs.14325.master/ipykernel_3353888/1976585064.py:3: FutureWarning: The frame.append method is deprecated and will be removed from pandas in a future version. Use pandas.concat instead.\n",
      "  code_desc_full = code_desc_full.append(df, ignore_index = True)\n",
      "/var/tmp/pbs.14325.master/ipykernel_3353888/1976585064.py:3: FutureWarning: The frame.append method is deprecated and will be removed from pandas in a future version. Use pandas.concat instead.\n",
      "  code_desc_full = code_desc_full.append(df, ignore_index = True)\n",
      "/var/tmp/pbs.14325.master/ipykernel_3353888/1976585064.py:3: FutureWarning: The frame.append method is deprecated and will be removed from pandas in a future version. Use pandas.concat instead.\n",
      "  code_desc_full = code_desc_full.append(df, ignore_index = True)\n",
      "/var/tmp/pbs.14325.master/ipykernel_3353888/1976585064.py:3: FutureWarning: The frame.append method is deprecated and will be removed from pandas in a future version. Use pandas.concat instead.\n",
      "  code_desc_full = code_desc_full.append(df, ignore_index = True)\n",
      "/var/tmp/pbs.14325.master/ipykernel_3353888/1976585064.py:3: FutureWarning: The frame.append method is deprecated and will be removed from pandas in a future version. Use pandas.concat instead.\n",
      "  code_desc_full = code_desc_full.append(df, ignore_index = True)\n",
      "/var/tmp/pbs.14325.master/ipykernel_3353888/1976585064.py:3: FutureWarning: The frame.append method is deprecated and will be removed from pandas in a future version. Use pandas.concat instead.\n",
      "  code_desc_full = code_desc_full.append(df, ignore_index = True)\n",
      "/var/tmp/pbs.14325.master/ipykernel_3353888/1976585064.py:3: FutureWarning: The frame.append method is deprecated and will be removed from pandas in a future version. Use pandas.concat instead.\n",
      "  code_desc_full = code_desc_full.append(df, ignore_index = True)\n",
      "/var/tmp/pbs.14325.master/ipykernel_3353888/1976585064.py:3: FutureWarning: The frame.append method is deprecated and will be removed from pandas in a future version. Use pandas.concat instead.\n",
      "  code_desc_full = code_desc_full.append(df, ignore_index = True)\n",
      "/var/tmp/pbs.14325.master/ipykernel_3353888/1976585064.py:3: FutureWarning: The frame.append method is deprecated and will be removed from pandas in a future version. Use pandas.concat instead.\n",
      "  code_desc_full = code_desc_full.append(df, ignore_index = True)\n",
      "/var/tmp/pbs.14325.master/ipykernel_3353888/1976585064.py:3: FutureWarning: The frame.append method is deprecated and will be removed from pandas in a future version. Use pandas.concat instead.\n",
      "  code_desc_full = code_desc_full.append(df, ignore_index = True)\n",
      "/var/tmp/pbs.14325.master/ipykernel_3353888/1976585064.py:3: FutureWarning: The frame.append method is deprecated and will be removed from pandas in a future version. Use pandas.concat instead.\n",
      "  code_desc_full = code_desc_full.append(df, ignore_index = True)\n",
      "/var/tmp/pbs.14325.master/ipykernel_3353888/1976585064.py:3: FutureWarning: The frame.append method is deprecated and will be removed from pandas in a future version. Use pandas.concat instead.\n",
      "  code_desc_full = code_desc_full.append(df, ignore_index = True)\n",
      "/var/tmp/pbs.14325.master/ipykernel_3353888/1976585064.py:3: FutureWarning: The frame.append method is deprecated and will be removed from pandas in a future version. Use pandas.concat instead.\n",
      "  code_desc_full = code_desc_full.append(df, ignore_index = True)\n",
      "/var/tmp/pbs.14325.master/ipykernel_3353888/1976585064.py:3: FutureWarning: The frame.append method is deprecated and will be removed from pandas in a future version. Use pandas.concat instead.\n",
      "  code_desc_full = code_desc_full.append(df, ignore_index = True)\n",
      "/var/tmp/pbs.14325.master/ipykernel_3353888/1976585064.py:3: FutureWarning: The frame.append method is deprecated and will be removed from pandas in a future version. Use pandas.concat instead.\n",
      "  code_desc_full = code_desc_full.append(df, ignore_index = True)\n",
      "/var/tmp/pbs.14325.master/ipykernel_3353888/1976585064.py:3: FutureWarning: The frame.append method is deprecated and will be removed from pandas in a future version. Use pandas.concat instead.\n",
      "  code_desc_full = code_desc_full.append(df, ignore_index = True)\n",
      "/var/tmp/pbs.14325.master/ipykernel_3353888/1976585064.py:3: FutureWarning: The frame.append method is deprecated and will be removed from pandas in a future version. Use pandas.concat instead.\n",
      "  code_desc_full = code_desc_full.append(df, ignore_index = True)\n",
      "/var/tmp/pbs.14325.master/ipykernel_3353888/1976585064.py:3: FutureWarning: The frame.append method is deprecated and will be removed from pandas in a future version. Use pandas.concat instead.\n",
      "  code_desc_full = code_desc_full.append(df, ignore_index = True)\n",
      "/var/tmp/pbs.14325.master/ipykernel_3353888/1976585064.py:3: FutureWarning: The frame.append method is deprecated and will be removed from pandas in a future version. Use pandas.concat instead.\n",
      "  code_desc_full = code_desc_full.append(df, ignore_index = True)\n",
      "/var/tmp/pbs.14325.master/ipykernel_3353888/1976585064.py:3: FutureWarning: The frame.append method is deprecated and will be removed from pandas in a future version. Use pandas.concat instead.\n",
      "  code_desc_full = code_desc_full.append(df, ignore_index = True)\n",
      "/var/tmp/pbs.14325.master/ipykernel_3353888/1976585064.py:3: FutureWarning: The frame.append method is deprecated and will be removed from pandas in a future version. Use pandas.concat instead.\n",
      "  code_desc_full = code_desc_full.append(df, ignore_index = True)\n"
     ]
    },
    {
     "name": "stderr",
     "output_type": "stream",
     "text": [
      "/var/tmp/pbs.14325.master/ipykernel_3353888/1976585064.py:3: FutureWarning: The frame.append method is deprecated and will be removed from pandas in a future version. Use pandas.concat instead.\n",
      "  code_desc_full = code_desc_full.append(df, ignore_index = True)\n",
      "/var/tmp/pbs.14325.master/ipykernel_3353888/1976585064.py:3: FutureWarning: The frame.append method is deprecated and will be removed from pandas in a future version. Use pandas.concat instead.\n",
      "  code_desc_full = code_desc_full.append(df, ignore_index = True)\n",
      "/var/tmp/pbs.14325.master/ipykernel_3353888/1976585064.py:3: FutureWarning: The frame.append method is deprecated and will be removed from pandas in a future version. Use pandas.concat instead.\n",
      "  code_desc_full = code_desc_full.append(df, ignore_index = True)\n",
      "/var/tmp/pbs.14325.master/ipykernel_3353888/1976585064.py:3: FutureWarning: The frame.append method is deprecated and will be removed from pandas in a future version. Use pandas.concat instead.\n",
      "  code_desc_full = code_desc_full.append(df, ignore_index = True)\n",
      "/var/tmp/pbs.14325.master/ipykernel_3353888/1976585064.py:3: FutureWarning: The frame.append method is deprecated and will be removed from pandas in a future version. Use pandas.concat instead.\n",
      "  code_desc_full = code_desc_full.append(df, ignore_index = True)\n",
      "/var/tmp/pbs.14325.master/ipykernel_3353888/1976585064.py:3: FutureWarning: The frame.append method is deprecated and will be removed from pandas in a future version. Use pandas.concat instead.\n",
      "  code_desc_full = code_desc_full.append(df, ignore_index = True)\n",
      "/var/tmp/pbs.14325.master/ipykernel_3353888/1976585064.py:3: FutureWarning: The frame.append method is deprecated and will be removed from pandas in a future version. Use pandas.concat instead.\n",
      "  code_desc_full = code_desc_full.append(df, ignore_index = True)\n",
      "/var/tmp/pbs.14325.master/ipykernel_3353888/1976585064.py:3: FutureWarning: The frame.append method is deprecated and will be removed from pandas in a future version. Use pandas.concat instead.\n",
      "  code_desc_full = code_desc_full.append(df, ignore_index = True)\n",
      "/var/tmp/pbs.14325.master/ipykernel_3353888/1976585064.py:3: FutureWarning: The frame.append method is deprecated and will be removed from pandas in a future version. Use pandas.concat instead.\n",
      "  code_desc_full = code_desc_full.append(df, ignore_index = True)\n",
      "/var/tmp/pbs.14325.master/ipykernel_3353888/1976585064.py:3: FutureWarning: The frame.append method is deprecated and will be removed from pandas in a future version. Use pandas.concat instead.\n",
      "  code_desc_full = code_desc_full.append(df, ignore_index = True)\n",
      "/var/tmp/pbs.14325.master/ipykernel_3353888/1976585064.py:3: FutureWarning: The frame.append method is deprecated and will be removed from pandas in a future version. Use pandas.concat instead.\n",
      "  code_desc_full = code_desc_full.append(df, ignore_index = True)\n",
      "/var/tmp/pbs.14325.master/ipykernel_3353888/1976585064.py:3: FutureWarning: The frame.append method is deprecated and will be removed from pandas in a future version. Use pandas.concat instead.\n",
      "  code_desc_full = code_desc_full.append(df, ignore_index = True)\n",
      "/var/tmp/pbs.14325.master/ipykernel_3353888/1976585064.py:3: FutureWarning: The frame.append method is deprecated and will be removed from pandas in a future version. Use pandas.concat instead.\n",
      "  code_desc_full = code_desc_full.append(df, ignore_index = True)\n",
      "/var/tmp/pbs.14325.master/ipykernel_3353888/1976585064.py:3: FutureWarning: The frame.append method is deprecated and will be removed from pandas in a future version. Use pandas.concat instead.\n",
      "  code_desc_full = code_desc_full.append(df, ignore_index = True)\n",
      "/var/tmp/pbs.14325.master/ipykernel_3353888/1976585064.py:3: FutureWarning: The frame.append method is deprecated and will be removed from pandas in a future version. Use pandas.concat instead.\n",
      "  code_desc_full = code_desc_full.append(df, ignore_index = True)\n",
      "/var/tmp/pbs.14325.master/ipykernel_3353888/1976585064.py:3: FutureWarning: The frame.append method is deprecated and will be removed from pandas in a future version. Use pandas.concat instead.\n",
      "  code_desc_full = code_desc_full.append(df, ignore_index = True)\n",
      "/var/tmp/pbs.14325.master/ipykernel_3353888/1976585064.py:3: FutureWarning: The frame.append method is deprecated and will be removed from pandas in a future version. Use pandas.concat instead.\n",
      "  code_desc_full = code_desc_full.append(df, ignore_index = True)\n",
      "/var/tmp/pbs.14325.master/ipykernel_3353888/1976585064.py:3: FutureWarning: The frame.append method is deprecated and will be removed from pandas in a future version. Use pandas.concat instead.\n",
      "  code_desc_full = code_desc_full.append(df, ignore_index = True)\n",
      "/var/tmp/pbs.14325.master/ipykernel_3353888/1976585064.py:3: FutureWarning: The frame.append method is deprecated and will be removed from pandas in a future version. Use pandas.concat instead.\n",
      "  code_desc_full = code_desc_full.append(df, ignore_index = True)\n",
      "/var/tmp/pbs.14325.master/ipykernel_3353888/1976585064.py:3: FutureWarning: The frame.append method is deprecated and will be removed from pandas in a future version. Use pandas.concat instead.\n",
      "  code_desc_full = code_desc_full.append(df, ignore_index = True)\n",
      "/var/tmp/pbs.14325.master/ipykernel_3353888/1976585064.py:3: FutureWarning: The frame.append method is deprecated and will be removed from pandas in a future version. Use pandas.concat instead.\n",
      "  code_desc_full = code_desc_full.append(df, ignore_index = True)\n",
      "/var/tmp/pbs.14325.master/ipykernel_3353888/1976585064.py:3: FutureWarning: The frame.append method is deprecated and will be removed from pandas in a future version. Use pandas.concat instead.\n",
      "  code_desc_full = code_desc_full.append(df, ignore_index = True)\n",
      "/var/tmp/pbs.14325.master/ipykernel_3353888/1976585064.py:3: FutureWarning: The frame.append method is deprecated and will be removed from pandas in a future version. Use pandas.concat instead.\n",
      "  code_desc_full = code_desc_full.append(df, ignore_index = True)\n",
      "/var/tmp/pbs.14325.master/ipykernel_3353888/1976585064.py:3: FutureWarning: The frame.append method is deprecated and will be removed from pandas in a future version. Use pandas.concat instead.\n",
      "  code_desc_full = code_desc_full.append(df, ignore_index = True)\n",
      "/var/tmp/pbs.14325.master/ipykernel_3353888/1976585064.py:3: FutureWarning: The frame.append method is deprecated and will be removed from pandas in a future version. Use pandas.concat instead.\n",
      "  code_desc_full = code_desc_full.append(df, ignore_index = True)\n",
      "/var/tmp/pbs.14325.master/ipykernel_3353888/1976585064.py:3: FutureWarning: The frame.append method is deprecated and will be removed from pandas in a future version. Use pandas.concat instead.\n",
      "  code_desc_full = code_desc_full.append(df, ignore_index = True)\n",
      "/var/tmp/pbs.14325.master/ipykernel_3353888/1976585064.py:3: FutureWarning: The frame.append method is deprecated and will be removed from pandas in a future version. Use pandas.concat instead.\n",
      "  code_desc_full = code_desc_full.append(df, ignore_index = True)\n",
      "/var/tmp/pbs.14325.master/ipykernel_3353888/1976585064.py:3: FutureWarning: The frame.append method is deprecated and will be removed from pandas in a future version. Use pandas.concat instead.\n",
      "  code_desc_full = code_desc_full.append(df, ignore_index = True)\n",
      "/var/tmp/pbs.14325.master/ipykernel_3353888/1976585064.py:3: FutureWarning: The frame.append method is deprecated and will be removed from pandas in a future version. Use pandas.concat instead.\n",
      "  code_desc_full = code_desc_full.append(df, ignore_index = True)\n",
      "/var/tmp/pbs.14325.master/ipykernel_3353888/1976585064.py:3: FutureWarning: The frame.append method is deprecated and will be removed from pandas in a future version. Use pandas.concat instead.\n",
      "  code_desc_full = code_desc_full.append(df, ignore_index = True)\n",
      "/var/tmp/pbs.14325.master/ipykernel_3353888/1976585064.py:3: FutureWarning: The frame.append method is deprecated and will be removed from pandas in a future version. Use pandas.concat instead.\n",
      "  code_desc_full = code_desc_full.append(df, ignore_index = True)\n",
      "/var/tmp/pbs.14325.master/ipykernel_3353888/1976585064.py:3: FutureWarning: The frame.append method is deprecated and will be removed from pandas in a future version. Use pandas.concat instead.\n",
      "  code_desc_full = code_desc_full.append(df, ignore_index = True)\n",
      "/var/tmp/pbs.14325.master/ipykernel_3353888/1976585064.py:3: FutureWarning: The frame.append method is deprecated and will be removed from pandas in a future version. Use pandas.concat instead.\n",
      "  code_desc_full = code_desc_full.append(df, ignore_index = True)\n",
      "/var/tmp/pbs.14325.master/ipykernel_3353888/1976585064.py:3: FutureWarning: The frame.append method is deprecated and will be removed from pandas in a future version. Use pandas.concat instead.\n",
      "  code_desc_full = code_desc_full.append(df, ignore_index = True)\n",
      "/var/tmp/pbs.14325.master/ipykernel_3353888/1976585064.py:3: FutureWarning: The frame.append method is deprecated and will be removed from pandas in a future version. Use pandas.concat instead.\n",
      "  code_desc_full = code_desc_full.append(df, ignore_index = True)\n"
     ]
    }
   ],
   "source": [
    "for code in ncodes:\n",
    "    df = {'ICD9_CODE':code, 'DESC':' '}\n",
    "    code_desc_full = code_desc_full.append(df, ignore_index = True)"
   ]
  },
  {
   "cell_type": "code",
   "execution_count": 94,
   "id": "57731b94",
   "metadata": {},
   "outputs": [
    {
     "data": {
      "text/plain": [
       "8907"
      ]
     },
     "execution_count": 94,
     "metadata": {},
     "output_type": "execute_result"
    }
   ],
   "source": [
    "len(code_desc_full['ICD9_CODE'].unique())"
   ]
  },
  {
   "cell_type": "code",
   "execution_count": 95,
   "id": "272fd7a9",
   "metadata": {},
   "outputs": [
    {
     "data": {
      "text/plain": [
       "8968"
      ]
     },
     "execution_count": 95,
     "metadata": {},
     "output_type": "execute_result"
    }
   ],
   "source": [
    "len(code_desc_full.index)"
   ]
  },
  {
   "cell_type": "code",
   "execution_count": 96,
   "id": "1bb49d9b",
   "metadata": {},
   "outputs": [],
   "source": [
    "code_desc_full = code_desc_full.drop_duplicates(subset=['ICD9_CODE'], keep='first')"
   ]
  },
  {
   "cell_type": "code",
   "execution_count": 97,
   "id": "423070d6",
   "metadata": {},
   "outputs": [],
   "source": [
    "code_desc_full.to_csv(data_path + 'D_ICD_full.csv', index=False)"
   ]
  },
  {
   "cell_type": "code",
   "execution_count": 98,
   "id": "2910a7c5",
   "metadata": {},
   "outputs": [
    {
     "data": {
      "text/plain": [
       "ICD9_CODE    object\n",
       "DESC         object\n",
       "dtype: object"
      ]
     },
     "execution_count": 98,
     "metadata": {},
     "output_type": "execute_result"
    }
   ],
   "source": [
    "code_desc_full.dtypes"
   ]
  },
  {
   "cell_type": "code",
   "execution_count": 99,
   "id": "07e5b620",
   "metadata": {},
   "outputs": [],
   "source": [
    "code_desc_full['ICD9_CODE'] = code_desc_full['ICD9_CODE'].astype(str)"
   ]
  },
  {
   "cell_type": "code",
   "execution_count": 100,
   "id": "cbc6052d",
   "metadata": {},
   "outputs": [],
   "source": [
    "code_desc_full['DESC'] = code_desc_full['DESC'].astype(str)"
   ]
  },
  {
   "cell_type": "code",
   "execution_count": 101,
   "id": "0e690e19",
   "metadata": {},
   "outputs": [
    {
     "data": {
      "text/html": [
       "<div>\n",
       "<style scoped>\n",
       "    .dataframe tbody tr th:only-of-type {\n",
       "        vertical-align: middle;\n",
       "    }\n",
       "\n",
       "    .dataframe tbody tr th {\n",
       "        vertical-align: top;\n",
       "    }\n",
       "\n",
       "    .dataframe thead th {\n",
       "        text-align: right;\n",
       "    }\n",
       "</style>\n",
       "<table border=\"1\" class=\"dataframe\">\n",
       "  <thead>\n",
       "    <tr style=\"text-align: right;\">\n",
       "      <th></th>\n",
       "      <th>ICD9_CODE</th>\n",
       "      <th>DESC</th>\n",
       "    </tr>\n",
       "  </thead>\n",
       "  <tbody>\n",
       "    <tr>\n",
       "      <th>0</th>\n",
       "      <td>011.86</td>\n",
       "      <td>other specified pulmonary tuberculosis tubercl...</td>\n",
       "    </tr>\n",
       "    <tr>\n",
       "      <th>1</th>\n",
       "      <td>011.90</td>\n",
       "      <td>pulmonary tuberculosis unspecified unspecified</td>\n",
       "    </tr>\n",
       "    <tr>\n",
       "      <th>2</th>\n",
       "      <td>011.93</td>\n",
       "      <td>pulmonary tuberculosis unspecified tubercle ba...</td>\n",
       "    </tr>\n",
       "    <tr>\n",
       "      <th>3</th>\n",
       "      <td>011.94</td>\n",
       "      <td>pulmonary tuberculosis unspecified tubercle ba...</td>\n",
       "    </tr>\n",
       "    <tr>\n",
       "      <th>4</th>\n",
       "      <td>012.05</td>\n",
       "      <td>tuberculous pleurisy tubercle bacilli not foun...</td>\n",
       "    </tr>\n",
       "    <tr>\n",
       "      <th>...</th>\n",
       "      <td>...</td>\n",
       "      <td>...</td>\n",
       "    </tr>\n",
       "    <tr>\n",
       "      <th>8963</th>\n",
       "      <td>523.3</td>\n",
       "      <td></td>\n",
       "    </tr>\n",
       "    <tr>\n",
       "      <th>8964</th>\n",
       "      <td>337.0</td>\n",
       "      <td></td>\n",
       "    </tr>\n",
       "    <tr>\n",
       "      <th>8965</th>\n",
       "      <td>608.2</td>\n",
       "      <td></td>\n",
       "    </tr>\n",
       "    <tr>\n",
       "      <th>8966</th>\n",
       "      <td>173.2</td>\n",
       "      <td></td>\n",
       "    </tr>\n",
       "    <tr>\n",
       "      <th>8967</th>\n",
       "      <td>771.8</td>\n",
       "      <td></td>\n",
       "    </tr>\n",
       "  </tbody>\n",
       "</table>\n",
       "<p>8907 rows × 2 columns</p>\n",
       "</div>"
      ],
      "text/plain": [
       "     ICD9_CODE                                               DESC\n",
       "0       011.86  other specified pulmonary tuberculosis tubercl...\n",
       "1       011.90     pulmonary tuberculosis unspecified unspecified\n",
       "2       011.93  pulmonary tuberculosis unspecified tubercle ba...\n",
       "3       011.94  pulmonary tuberculosis unspecified tubercle ba...\n",
       "4       012.05  tuberculous pleurisy tubercle bacilli not foun...\n",
       "...        ...                                                ...\n",
       "8963     523.3                                                   \n",
       "8964     337.0                                                   \n",
       "8965     608.2                                                   \n",
       "8966     173.2                                                   \n",
       "8967     771.8                                                   \n",
       "\n",
       "[8907 rows x 2 columns]"
      ]
     },
     "execution_count": 101,
     "metadata": {},
     "output_type": "execute_result"
    }
   ],
   "source": [
    "code_desc_full"
   ]
  },
  {
   "cell_type": "code",
   "execution_count": null,
   "id": "888bbbb3",
   "metadata": {},
   "outputs": [],
   "source": []
  }
 ],
 "metadata": {
  "kernelspec": {
   "display_name": "Python 3 (ipykernel)",
   "language": "python",
   "name": "python3"
  },
  "language_info": {
   "codemirror_mode": {
    "name": "ipython",
    "version": 3
   },
   "file_extension": ".py",
   "mimetype": "text/x-python",
   "name": "python",
   "nbconvert_exporter": "python",
   "pygments_lexer": "ipython3",
   "version": "3.8.10"
  }
 },
 "nbformat": 4,
 "nbformat_minor": 5
}
